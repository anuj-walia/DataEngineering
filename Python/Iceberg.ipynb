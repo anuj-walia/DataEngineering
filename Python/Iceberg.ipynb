{
 "cells": [
  {
   "cell_type": "code",
   "id": "initial_id",
   "metadata": {
    "collapsed": true,
    "ExecuteTime": {
     "end_time": "2024-11-28T02:57:53.954738Z",
     "start_time": "2024-11-28T02:57:53.950710Z"
    }
   },
   "source": [
    "import os\n",
    "import os\n",
    "\n",
    "os.environ['PYICEBERG_HOME'] = os.getcwd()"
   ],
   "outputs": [],
   "execution_count": 7
  },
  {
   "metadata": {
    "ExecuteTime": {
     "end_time": "2024-11-28T02:58:10.106217Z",
     "start_time": "2024-11-28T02:58:10.104100Z"
    }
   },
   "cell_type": "code",
   "source": "print(os.environ['PYICEBERG_HOME'])",
   "id": "1ed73208c2733738",
   "outputs": [
    {
     "name": "stdout",
     "output_type": "stream",
     "text": [
      "/Users/anujwalia/PycharmProjects/DataEngineering/Python\n"
     ]
    }
   ],
   "execution_count": 8
  },
  {
   "metadata": {
    "ExecuteTime": {
     "end_time": "2024-11-28T02:58:14.563175Z",
     "start_time": "2024-11-28T02:58:14.560183Z"
    }
   },
   "cell_type": "code",
   "source": "from pyiceberg.catalog import load_catalog",
   "id": "7df5098693e47690",
   "outputs": [],
   "execution_count": 9
  },
  {
   "metadata": {
    "ExecuteTime": {
     "end_time": "2024-11-28T02:58:26.861523Z",
     "start_time": "2024-11-28T02:58:26.839936Z"
    }
   },
   "cell_type": "code",
   "source": [
    "catalog = load_catalog(name='local')\n",
    "print(catalog.properties)"
   ],
   "id": "697108b179ea559c",
   "outputs": [
    {
     "ename": "ValueError",
     "evalue": "URI missing, please provide using --uri, the config or environment variable PYICEBERG_CATALOG__LOCAL__URI",
     "output_type": "error",
     "traceback": [
      "\u001B[0;31m---------------------------------------------------------------------------\u001B[0m",
      "\u001B[0;31mValueError\u001B[0m                                Traceback (most recent call last)",
      "Cell \u001B[0;32mIn[10], line 1\u001B[0m\n\u001B[0;32m----> 1\u001B[0m catalog \u001B[38;5;241m=\u001B[39m \u001B[43mload_catalog\u001B[49m\u001B[43m(\u001B[49m\u001B[43mname\u001B[49m\u001B[38;5;241;43m=\u001B[39;49m\u001B[38;5;124;43m'\u001B[39;49m\u001B[38;5;124;43mlocal\u001B[39;49m\u001B[38;5;124;43m'\u001B[39;49m\u001B[43m)\u001B[49m\n\u001B[1;32m      2\u001B[0m \u001B[38;5;28mprint\u001B[39m(catalog\u001B[38;5;241m.\u001B[39mproperties)\n",
      "File \u001B[0;32m~/PycharmProjects/DataEngineering/.venv/lib/python3.10/site-packages/pyiceberg/catalog/__init__.py:245\u001B[0m, in \u001B[0;36mload_catalog\u001B[0;34m(name, **properties)\u001B[0m\n\u001B[1;32m    243\u001B[0m     catalog_type \u001B[38;5;241m=\u001B[39m CatalogType[provided_catalog_type\u001B[38;5;241m.\u001B[39mupper()]\n\u001B[1;32m    244\u001B[0m \u001B[38;5;28;01melif\u001B[39;00m \u001B[38;5;129;01mnot\u001B[39;00m provided_catalog_type:\n\u001B[0;32m--> 245\u001B[0m     catalog_type \u001B[38;5;241m=\u001B[39m \u001B[43minfer_catalog_type\u001B[49m\u001B[43m(\u001B[49m\u001B[43mname\u001B[49m\u001B[43m,\u001B[49m\u001B[43m \u001B[49m\u001B[43mconf\u001B[49m\u001B[43m)\u001B[49m\n\u001B[1;32m    247\u001B[0m \u001B[38;5;28;01mif\u001B[39;00m catalog_type:\n\u001B[1;32m    248\u001B[0m     \u001B[38;5;28;01mreturn\u001B[39;00m AVAILABLE_CATALOGS[catalog_type](name, cast(Dict[\u001B[38;5;28mstr\u001B[39m, \u001B[38;5;28mstr\u001B[39m], conf))\n",
      "File \u001B[0;32m~/PycharmProjects/DataEngineering/.venv/lib/python3.10/site-packages/pyiceberg/catalog/__init__.py:198\u001B[0m, in \u001B[0;36minfer_catalog_type\u001B[0;34m(name, catalog_properties)\u001B[0m\n\u001B[1;32m    196\u001B[0m     \u001B[38;5;28;01melse\u001B[39;00m:\n\u001B[1;32m    197\u001B[0m         \u001B[38;5;28;01mraise\u001B[39;00m \u001B[38;5;167;01mValueError\u001B[39;00m(\u001B[38;5;124mf\u001B[39m\u001B[38;5;124m\"\u001B[39m\u001B[38;5;124mExpects the URI to be a string, got: \u001B[39m\u001B[38;5;132;01m{\u001B[39;00m\u001B[38;5;28mtype\u001B[39m(uri)\u001B[38;5;132;01m}\u001B[39;00m\u001B[38;5;124m\"\u001B[39m)\n\u001B[0;32m--> 198\u001B[0m \u001B[38;5;28;01mraise\u001B[39;00m \u001B[38;5;167;01mValueError\u001B[39;00m(\n\u001B[1;32m    199\u001B[0m     \u001B[38;5;124mf\u001B[39m\u001B[38;5;124m\"\u001B[39m\u001B[38;5;124mURI missing, please provide using --uri, the config or environment variable PYICEBERG_CATALOG__\u001B[39m\u001B[38;5;132;01m{\u001B[39;00mname\u001B[38;5;241m.\u001B[39mupper()\u001B[38;5;132;01m}\u001B[39;00m\u001B[38;5;124m__URI\u001B[39m\u001B[38;5;124m\"\u001B[39m\n\u001B[1;32m    200\u001B[0m )\n",
      "\u001B[0;31mValueError\u001B[0m: URI missing, please provide using --uri, the config or environment variable PYICEBERG_CATALOG__LOCAL__URI"
     ]
    }
   ],
   "execution_count": 10
  },
  {
   "metadata": {},
   "cell_type": "code",
   "outputs": [],
   "execution_count": null,
   "source": [
    "from pyiceberg.schema import Schema\n",
    "from pyiceberg.types import NestedField, IntegerType, StringType"
   ],
   "id": "23c7eb61a33d8dab"
  },
  {
   "metadata": {},
   "cell_type": "code",
   "outputs": [],
   "execution_count": null,
   "source": [
    "schema = Schema(\n",
    "    NestedField(field_id=1, name='id', field_type=IntegerType(), required=True),\n",
    "    NestedField(field_id=2, name='name', field_type=StringType(), required=True),\n",
    "    NestedField(field_id=3, name='value', field_type=IntegerType(), required=True),\n",
    ")\n",
    "\n",
    "catalog.create_namespace_if_not_exists('metrics')\n",
    "\n",
    "iceberg_table = catalog.create_table_if_not_exists(\n",
    "  identifier='metrics.data_points',\n",
    "  schema=schema\n",
    ")\n",
    "# Create the PyArrow table using the Iceberg table's schema.\n",
    "pa_table_data = pa.Table.from_pylist([\n",
    "  {'id': 1, 'name': 'metric_1', 'value': 5},\n",
    "  {'id': 2, 'name': 'metric_2', 'value': 10},\n",
    "  {'id': 3, 'name': 'metric_1', 'value': 5},\n",
    "  {'id': 4, 'name': 'metric_2', 'value': 10},\n",
    "  {'id': 5, 'name': 'metric_1', 'value': 5}\n",
    "], schema=iceberg_table.schema().as_arrow())"
   ],
   "id": "a2869783d7adb375"
  },
  {
   "metadata": {},
   "cell_type": "code",
   "outputs": [],
   "execution_count": null,
   "source": "",
   "id": "7d31ff9d52b37c1"
  }
 ],
 "metadata": {
  "kernelspec": {
   "display_name": "Python 3",
   "language": "python",
   "name": "python3"
  },
  "language_info": {
   "codemirror_mode": {
    "name": "ipython",
    "version": 2
   },
   "file_extension": ".py",
   "mimetype": "text/x-python",
   "name": "python",
   "nbconvert_exporter": "python",
   "pygments_lexer": "ipython2",
   "version": "2.7.6"
  }
 },
 "nbformat": 4,
 "nbformat_minor": 5
}
