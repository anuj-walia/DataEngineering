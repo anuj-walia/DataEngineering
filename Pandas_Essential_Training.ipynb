{
  "cells": [
    {
      "cell_type": "markdown",
      "metadata": {
        "id": "view-in-github",
        "colab_type": "text"
      },
      "source": [
        "<a href=\"https://colab.research.google.com/github/anuj-walia/DataEngineering/blob/main/Pandas_Essential_Training.ipynb\" target=\"_parent\"><img src=\"https://colab.research.google.com/assets/colab-badge.svg\" alt=\"Open In Colab\"/></a>"
      ]
    },
    {
      "cell_type": "markdown",
      "metadata": {
        "id": "Qam369vSO_rt"
      },
      "source": [
        "# Pandas Essential Training"
      ]
    },
    {
      "cell_type": "markdown",
      "metadata": {
        "id": "nIp_KPjfO4J9"
      },
      "source": [
        "## Using pandas"
      ]
    },
    {
      "cell_type": "code",
      "execution_count": null,
      "metadata": {
        "id": "cKNZud6X4_RL"
      },
      "outputs": [],
      "source": [
        "!pip install pandas==2.0.2"
      ]
    },
    {
      "cell_type": "code",
      "execution_count": 1,
      "metadata": {
        "collapsed": true,
        "id": "fQ2h5qjgO4J9"
      },
      "outputs": [],
      "source": [
        "import pandas"
      ]
    },
    {
      "cell_type": "code",
      "execution_count": 2,
      "metadata": {
        "collapsed": true,
        "id": "SaGxEO5YO4J-"
      },
      "outputs": [],
      "source": [
        "import pandas as pd"
      ]
    },
    {
      "cell_type": "code",
      "execution_count": 3,
      "metadata": {
        "id": "C5JAgwmYO4J-",
        "outputId": "d0eaaabf-74e4-4529-8af7-374825b1d15c",
        "colab": {
          "base_uri": "https://localhost:8080/",
          "height": 35
        }
      },
      "outputs": [
        {
          "output_type": "execute_result",
          "data": {
            "text/plain": [
              "'2.2.2'"
            ],
            "application/vnd.google.colaboratory.intrinsic+json": {
              "type": "string"
            }
          },
          "metadata": {},
          "execution_count": 3
        }
      ],
      "source": [
        "pd.__version__"
      ]
    },
    {
      "cell_type": "code",
      "execution_count": null,
      "metadata": {
        "id": "n53FOqGY4T64"
      },
      "outputs": [],
      "source": [
        "dir(pd)"
      ]
    },
    {
      "cell_type": "code",
      "execution_count": null,
      "metadata": {
        "collapsed": true,
        "id": "9-fFPNt1O4J-"
      },
      "outputs": [],
      "source": [
        "help(pd.read_csv)"
      ]
    },
    {
      "cell_type": "code",
      "execution_count": null,
      "metadata": {
        "collapsed": true,
        "id": "_vn0ZFdNO4J-"
      },
      "outputs": [],
      "source": [
        "pd.read_csv?"
      ]
    },
    {
      "cell_type": "markdown",
      "metadata": {
        "id": "43a6ZoJNbemF"
      },
      "source": [
        "Pandas documentation: https://pandas.pydata.org/docs/reference/index.html"
      ]
    },
    {
      "cell_type": "markdown",
      "metadata": {
        "id": "1QP__-BYFIFN"
      },
      "source": [
        "## Reading tabular data into pandas"
      ]
    },
    {
      "cell_type": "code",
      "execution_count": null,
      "metadata": {
        "id": "JaItBRQ4FlFv"
      },
      "outputs": [],
      "source": [
        "!wget https://github.com/jonfernandes/pandas_essential/raw/main/olympics_1896_2004.csv"
      ]
    },
    {
      "cell_type": "code",
      "source": [
        "#from google.colab import files\n",
        "#files.upload()"
      ],
      "metadata": {
        "id": "Pelnz4PfgRQ0"
      },
      "execution_count": null,
      "outputs": []
    },
    {
      "cell_type": "code",
      "execution_count": null,
      "metadata": {
        "id": "uYdq9LXLFlFv"
      },
      "outputs": [],
      "source": [
        "!ls -la"
      ]
    },
    {
      "cell_type": "code",
      "source": [
        "pd.read_csv?"
      ],
      "metadata": {
        "id": "Mk90BrMQg38E"
      },
      "execution_count": null,
      "outputs": []
    },
    {
      "cell_type": "code",
      "execution_count": null,
      "metadata": {
        "id": "psxZiLijFuga"
      },
      "outputs": [],
      "source": [
        "pd.read_csv('olympics_1896_2004.csv')"
      ]
    },
    {
      "cell_type": "code",
      "source": [
        "pd.read_csv(filepath_or_buffer='olympics_1896_2004.csv')"
      ],
      "metadata": {
        "id": "VB9FV0fahAcN"
      },
      "execution_count": null,
      "outputs": []
    },
    {
      "cell_type": "code",
      "execution_count": null,
      "metadata": {
        "id": "zk_3a5XhFlFv"
      },
      "outputs": [],
      "source": [
        "oo = pd.read_csv('olympics_1896_2004.csv')\n",
        "oo"
      ]
    },
    {
      "cell_type": "code",
      "execution_count": null,
      "metadata": {
        "id": "MfCWgZclFlFw"
      },
      "outputs": [],
      "source": [
        "oo = pd.read_csv('olympics_1896_2004.csv', skiprows=5)\n",
        "oo"
      ]
    },
    {
      "cell_type": "code",
      "execution_count": null,
      "metadata": {
        "id": "n57rypsOiifF"
      },
      "outputs": [],
      "source": [
        "filename = \"olympics_1896_2004.csv\""
      ]
    },
    {
      "cell_type": "code",
      "source": [
        "#from google.colab import files\n",
        "#files.upload()"
      ],
      "metadata": {
        "id": "09cr8R36lFSn"
      },
      "execution_count": null,
      "outputs": []
    },
    {
      "cell_type": "code",
      "source": [],
      "metadata": {
        "id": "HMT-uLXYvbKU"
      },
      "execution_count": null,
      "outputs": []
    },
    {
      "cell_type": "markdown",
      "metadata": {
        "id": "LRcakh4dQzWs"
      },
      "source": [
        "## Get an overview of the data and displaying it"
      ]
    },
    {
      "cell_type": "code",
      "source": [
        "!pip install --quiet pandas==2.0.2\n",
        "\n",
        "import pandas as pd\n",
        "from pathlib import Path\n",
        "\n",
        "if not Path(\"olympics_1896_2004.csv\").exists():\n",
        "  !wget https://github.com/jonfernandes/pandas_essential/raw/main/olympics_1896_2004.csv\n",
        "\n",
        "filename = \"olympics_1896_2004.csv\"\n",
        "print(\"Installed all of the necessary files for this section ...\")"
      ],
      "metadata": {
        "id": "wL5WNwGHZlOK",
        "outputId": "f67dcbbe-3ea4-4208-ff32-f6c99862c717",
        "colab": {
          "base_uri": "https://localhost:8080/"
        }
      },
      "execution_count": 8,
      "outputs": [
        {
          "output_type": "stream",
          "name": "stdout",
          "text": [
            "\u001b[?25l   \u001b[90m━━━━━━━━━━━━━━━━━━━━━━━━━━━━━━━━━━━━━━━━\u001b[0m \u001b[32m0.0/12.2 MB\u001b[0m \u001b[31m?\u001b[0m eta \u001b[36m-:--:--\u001b[0m\r\u001b[2K   \u001b[91m╸\u001b[0m\u001b[90m━━━━━━━━━━━━━━━━━━━━━━━━━━━━━━━━━━━━━━━\u001b[0m \u001b[32m0.2/12.2 MB\u001b[0m \u001b[31m4.9 MB/s\u001b[0m eta \u001b[36m0:00:03\u001b[0m\r\u001b[2K   \u001b[91m━━━━\u001b[0m\u001b[91m╸\u001b[0m\u001b[90m━━━━━━━━━━━━━━━━━━━━━━━━━━━━━━━━━━━\u001b[0m \u001b[32m1.4/12.2 MB\u001b[0m \u001b[31m20.4 MB/s\u001b[0m eta \u001b[36m0:00:01\u001b[0m\r\u001b[2K   \u001b[91m━━━━━━━━━━━━━━━━━━━━━━\u001b[0m\u001b[91m╸\u001b[0m\u001b[90m━━━━━━━━━━━━━━━━━\u001b[0m \u001b[32m6.9/12.2 MB\u001b[0m \u001b[31m65.4 MB/s\u001b[0m eta \u001b[36m0:00:01\u001b[0m\r\u001b[2K   \u001b[91m━━━━━━━━━━━━━━━━━━━━━━━━━━━━━━━━━━━━━━━\u001b[0m\u001b[91m╸\u001b[0m \u001b[32m12.2/12.2 MB\u001b[0m \u001b[31m165.0 MB/s\u001b[0m eta \u001b[36m0:00:01\u001b[0m\r\u001b[2K   \u001b[91m━━━━━━━━━━━━━━━━━━━━━━━━━━━━━━━━━━━━━━━\u001b[0m\u001b[91m╸\u001b[0m \u001b[32m12.2/12.2 MB\u001b[0m \u001b[31m165.0 MB/s\u001b[0m eta \u001b[36m0:00:01\u001b[0m\r\u001b[2K   \u001b[90m━━━━━━━━━━━━━━━━━━━━━━━━━━━━━━━━━━━━━━━━\u001b[0m \u001b[32m12.2/12.2 MB\u001b[0m \u001b[31m97.8 MB/s\u001b[0m eta \u001b[36m0:00:00\u001b[0m\n",
            "\u001b[?25h\u001b[31mERROR: pip's dependency resolver does not currently take into account all the packages that are installed. This behaviour is the source of the following dependency conflicts.\n",
            "google-colab 1.0.0 requires pandas==2.2.2, but you have pandas 2.0.2 which is incompatible.\n",
            "xarray 2025.3.1 requires pandas>=2.1, but you have pandas 2.0.2 which is incompatible.\n",
            "mizani 0.13.3 requires pandas>=2.2.0, but you have pandas 2.0.2 which is incompatible.\n",
            "plotnine 0.14.5 requires pandas>=2.2.0, but you have pandas 2.0.2 which is incompatible.\u001b[0m\u001b[31m\n",
            "\u001b[0m--2025-05-08 13:23:29--  https://github.com/jonfernandes/pandas_essential/raw/main/olympics_1896_2004.csv\n",
            "Resolving github.com (github.com)... 20.27.177.113\n",
            "Connecting to github.com (github.com)|20.27.177.113|:443... connected.\n",
            "HTTP request sent, awaiting response... 302 Found\n",
            "Location: https://raw.githubusercontent.com/jonfernandes/pandas_essential/main/olympics_1896_2004.csv [following]\n",
            "--2025-05-08 13:23:30--  https://raw.githubusercontent.com/jonfernandes/pandas_essential/main/olympics_1896_2004.csv\n",
            "Resolving raw.githubusercontent.com (raw.githubusercontent.com)... 185.199.110.133, 185.199.109.133, 185.199.108.133, ...\n",
            "Connecting to raw.githubusercontent.com (raw.githubusercontent.com)|185.199.110.133|:443... connected.\n",
            "HTTP request sent, awaiting response... 200 OK\n",
            "Length: 2398388 (2.3M) [text/plain]\n",
            "Saving to: ‘olympics_1896_2004.csv’\n",
            "\n",
            "olympics_1896_2004. 100%[===================>]   2.29M  7.75MB/s    in 0.3s    \n",
            "\n",
            "2025-05-08 13:23:32 (7.75 MB/s) - ‘olympics_1896_2004.csv’ saved [2398388/2398388]\n",
            "\n",
            "Installed all of the necessary files for this section ...\n"
          ]
        }
      ]
    },
    {
      "cell_type": "code",
      "execution_count": 9,
      "metadata": {
        "id": "JDZYsEWnzkGK",
        "outputId": "a6485607-c5e4-4d63-a3dd-d7f406dcb98e",
        "colab": {
          "base_uri": "https://localhost:8080/",
          "height": 636
        }
      },
      "outputs": [
        {
          "output_type": "stream",
          "name": "stderr",
          "text": [
            "/usr/local/lib/python3.11/dist-packages/google/colab/_interactive_table_hint_button.py:178: FutureWarning: Index.format is deprecated and will be removed in a future version. Convert using index.astype(str) or index.map(formatter) instead.\n",
            "  df_html=dataframe._repr_html_(),  # pylint: disable=protected-access\n"
          ]
        },
        {
          "output_type": "execute_result",
          "data": {
            "text/plain": [
              "       Year    City      Sport     Discipline        Athlete Name  NOC Gender  \\\n",
              "0      1896  Athens    Cycling  Cycling Track       FLAMENG, Léon  FRA    Men   \n",
              "1      1896  Athens    Cycling  Cycling Track  KOLETTIS, Georgios  GRE    Men   \n",
              "2      1896  Athens  Athletics      Athletics       LANE, Francis  USA    Men   \n",
              "3      1896  Athens  Athletics      Athletics    SZOKOLYI, Alajos  HUN    Men   \n",
              "4      1896  Athens  Athletics      Athletics       BURKE, Thomas  USA    Men   \n",
              "...     ...     ...        ...            ...                 ...  ...    ...   \n",
              "27169  2004  Athens    Fencing        Fencing  LOGOUNOVA, Tatiana  RUS  Women   \n",
              "27170  2004  Athens    Fencing        Fencing       SIVKOVA, Anna  RUS  Women   \n",
              "27171  2004  Athens    Fencing        Fencing      BOKEL, Claudia  GER  Women   \n",
              "27172  2004  Athens    Fencing        Fencing     DUPLITZER, Imke  GER  Women   \n",
              "27173  2004  Athens    Fencing        Fencing   HEIDEMANN, Britta  GER  Women   \n",
              "\n",
              "           Event Event Gender   Medal  Position  \n",
              "0          100km            M    Gold         1  \n",
              "1          100km            M  Silver         2  \n",
              "2           100m            M  Bronze         3  \n",
              "3           100m            M  Bronze         3  \n",
              "4           100m            M    Gold         1  \n",
              "...          ...          ...     ...       ...  \n",
              "27169  épée team            W    Gold         1  \n",
              "27170  épée team            W    Gold         1  \n",
              "27171  épée team            W  Silver         2  \n",
              "27172  épée team            W  Silver         2  \n",
              "27173  épée team            W  Silver         2  \n",
              "\n",
              "[27174 rows x 11 columns]"
            ],
            "text/html": [
              "\n",
              "  <div id=\"df-51319f8f-dbfb-475b-8917-1099a37eec46\" class=\"colab-df-container\">\n",
              "    <div>\n",
              "<style scoped>\n",
              "    .dataframe tbody tr th:only-of-type {\n",
              "        vertical-align: middle;\n",
              "    }\n",
              "\n",
              "    .dataframe tbody tr th {\n",
              "        vertical-align: top;\n",
              "    }\n",
              "\n",
              "    .dataframe thead th {\n",
              "        text-align: right;\n",
              "    }\n",
              "</style>\n",
              "<table border=\"1\" class=\"dataframe\">\n",
              "  <thead>\n",
              "    <tr style=\"text-align: right;\">\n",
              "      <th></th>\n",
              "      <th>Year</th>\n",
              "      <th>City</th>\n",
              "      <th>Sport</th>\n",
              "      <th>Discipline</th>\n",
              "      <th>Athlete Name</th>\n",
              "      <th>NOC</th>\n",
              "      <th>Gender</th>\n",
              "      <th>Event</th>\n",
              "      <th>Event Gender</th>\n",
              "      <th>Medal</th>\n",
              "      <th>Position</th>\n",
              "    </tr>\n",
              "  </thead>\n",
              "  <tbody>\n",
              "    <tr>\n",
              "      <th>0</th>\n",
              "      <td>1896</td>\n",
              "      <td>Athens</td>\n",
              "      <td>Cycling</td>\n",
              "      <td>Cycling Track</td>\n",
              "      <td>FLAMENG, Léon</td>\n",
              "      <td>FRA</td>\n",
              "      <td>Men</td>\n",
              "      <td>100km</td>\n",
              "      <td>M</td>\n",
              "      <td>Gold</td>\n",
              "      <td>1</td>\n",
              "    </tr>\n",
              "    <tr>\n",
              "      <th>1</th>\n",
              "      <td>1896</td>\n",
              "      <td>Athens</td>\n",
              "      <td>Cycling</td>\n",
              "      <td>Cycling Track</td>\n",
              "      <td>KOLETTIS, Georgios</td>\n",
              "      <td>GRE</td>\n",
              "      <td>Men</td>\n",
              "      <td>100km</td>\n",
              "      <td>M</td>\n",
              "      <td>Silver</td>\n",
              "      <td>2</td>\n",
              "    </tr>\n",
              "    <tr>\n",
              "      <th>2</th>\n",
              "      <td>1896</td>\n",
              "      <td>Athens</td>\n",
              "      <td>Athletics</td>\n",
              "      <td>Athletics</td>\n",
              "      <td>LANE, Francis</td>\n",
              "      <td>USA</td>\n",
              "      <td>Men</td>\n",
              "      <td>100m</td>\n",
              "      <td>M</td>\n",
              "      <td>Bronze</td>\n",
              "      <td>3</td>\n",
              "    </tr>\n",
              "    <tr>\n",
              "      <th>3</th>\n",
              "      <td>1896</td>\n",
              "      <td>Athens</td>\n",
              "      <td>Athletics</td>\n",
              "      <td>Athletics</td>\n",
              "      <td>SZOKOLYI, Alajos</td>\n",
              "      <td>HUN</td>\n",
              "      <td>Men</td>\n",
              "      <td>100m</td>\n",
              "      <td>M</td>\n",
              "      <td>Bronze</td>\n",
              "      <td>3</td>\n",
              "    </tr>\n",
              "    <tr>\n",
              "      <th>4</th>\n",
              "      <td>1896</td>\n",
              "      <td>Athens</td>\n",
              "      <td>Athletics</td>\n",
              "      <td>Athletics</td>\n",
              "      <td>BURKE, Thomas</td>\n",
              "      <td>USA</td>\n",
              "      <td>Men</td>\n",
              "      <td>100m</td>\n",
              "      <td>M</td>\n",
              "      <td>Gold</td>\n",
              "      <td>1</td>\n",
              "    </tr>\n",
              "    <tr>\n",
              "      <th>...</th>\n",
              "      <td>...</td>\n",
              "      <td>...</td>\n",
              "      <td>...</td>\n",
              "      <td>...</td>\n",
              "      <td>...</td>\n",
              "      <td>...</td>\n",
              "      <td>...</td>\n",
              "      <td>...</td>\n",
              "      <td>...</td>\n",
              "      <td>...</td>\n",
              "      <td>...</td>\n",
              "    </tr>\n",
              "    <tr>\n",
              "      <th>27169</th>\n",
              "      <td>2004</td>\n",
              "      <td>Athens</td>\n",
              "      <td>Fencing</td>\n",
              "      <td>Fencing</td>\n",
              "      <td>LOGOUNOVA, Tatiana</td>\n",
              "      <td>RUS</td>\n",
              "      <td>Women</td>\n",
              "      <td>épée team</td>\n",
              "      <td>W</td>\n",
              "      <td>Gold</td>\n",
              "      <td>1</td>\n",
              "    </tr>\n",
              "    <tr>\n",
              "      <th>27170</th>\n",
              "      <td>2004</td>\n",
              "      <td>Athens</td>\n",
              "      <td>Fencing</td>\n",
              "      <td>Fencing</td>\n",
              "      <td>SIVKOVA, Anna</td>\n",
              "      <td>RUS</td>\n",
              "      <td>Women</td>\n",
              "      <td>épée team</td>\n",
              "      <td>W</td>\n",
              "      <td>Gold</td>\n",
              "      <td>1</td>\n",
              "    </tr>\n",
              "    <tr>\n",
              "      <th>27171</th>\n",
              "      <td>2004</td>\n",
              "      <td>Athens</td>\n",
              "      <td>Fencing</td>\n",
              "      <td>Fencing</td>\n",
              "      <td>BOKEL, Claudia</td>\n",
              "      <td>GER</td>\n",
              "      <td>Women</td>\n",
              "      <td>épée team</td>\n",
              "      <td>W</td>\n",
              "      <td>Silver</td>\n",
              "      <td>2</td>\n",
              "    </tr>\n",
              "    <tr>\n",
              "      <th>27172</th>\n",
              "      <td>2004</td>\n",
              "      <td>Athens</td>\n",
              "      <td>Fencing</td>\n",
              "      <td>Fencing</td>\n",
              "      <td>DUPLITZER, Imke</td>\n",
              "      <td>GER</td>\n",
              "      <td>Women</td>\n",
              "      <td>épée team</td>\n",
              "      <td>W</td>\n",
              "      <td>Silver</td>\n",
              "      <td>2</td>\n",
              "    </tr>\n",
              "    <tr>\n",
              "      <th>27173</th>\n",
              "      <td>2004</td>\n",
              "      <td>Athens</td>\n",
              "      <td>Fencing</td>\n",
              "      <td>Fencing</td>\n",
              "      <td>HEIDEMANN, Britta</td>\n",
              "      <td>GER</td>\n",
              "      <td>Women</td>\n",
              "      <td>épée team</td>\n",
              "      <td>W</td>\n",
              "      <td>Silver</td>\n",
              "      <td>2</td>\n",
              "    </tr>\n",
              "  </tbody>\n",
              "</table>\n",
              "<p>27174 rows × 11 columns</p>\n",
              "</div>\n",
              "    <div class=\"colab-df-buttons\">\n",
              "\n",
              "  <div class=\"colab-df-container\">\n",
              "    <button class=\"colab-df-convert\" onclick=\"convertToInteractive('df-51319f8f-dbfb-475b-8917-1099a37eec46')\"\n",
              "            title=\"Convert this dataframe to an interactive table.\"\n",
              "            style=\"display:none;\">\n",
              "\n",
              "  <svg xmlns=\"http://www.w3.org/2000/svg\" height=\"24px\" viewBox=\"0 -960 960 960\">\n",
              "    <path d=\"M120-120v-720h720v720H120Zm60-500h600v-160H180v160Zm220 220h160v-160H400v160Zm0 220h160v-160H400v160ZM180-400h160v-160H180v160Zm440 0h160v-160H620v160ZM180-180h160v-160H180v160Zm440 0h160v-160H620v160Z\"/>\n",
              "  </svg>\n",
              "    </button>\n",
              "\n",
              "  <style>\n",
              "    .colab-df-container {\n",
              "      display:flex;\n",
              "      gap: 12px;\n",
              "    }\n",
              "\n",
              "    .colab-df-convert {\n",
              "      background-color: #E8F0FE;\n",
              "      border: none;\n",
              "      border-radius: 50%;\n",
              "      cursor: pointer;\n",
              "      display: none;\n",
              "      fill: #1967D2;\n",
              "      height: 32px;\n",
              "      padding: 0 0 0 0;\n",
              "      width: 32px;\n",
              "    }\n",
              "\n",
              "    .colab-df-convert:hover {\n",
              "      background-color: #E2EBFA;\n",
              "      box-shadow: 0px 1px 2px rgba(60, 64, 67, 0.3), 0px 1px 3px 1px rgba(60, 64, 67, 0.15);\n",
              "      fill: #174EA6;\n",
              "    }\n",
              "\n",
              "    .colab-df-buttons div {\n",
              "      margin-bottom: 4px;\n",
              "    }\n",
              "\n",
              "    [theme=dark] .colab-df-convert {\n",
              "      background-color: #3B4455;\n",
              "      fill: #D2E3FC;\n",
              "    }\n",
              "\n",
              "    [theme=dark] .colab-df-convert:hover {\n",
              "      background-color: #434B5C;\n",
              "      box-shadow: 0px 1px 3px 1px rgba(0, 0, 0, 0.15);\n",
              "      filter: drop-shadow(0px 1px 2px rgba(0, 0, 0, 0.3));\n",
              "      fill: #FFFFFF;\n",
              "    }\n",
              "  </style>\n",
              "\n",
              "    <script>\n",
              "      const buttonEl =\n",
              "        document.querySelector('#df-51319f8f-dbfb-475b-8917-1099a37eec46 button.colab-df-convert');\n",
              "      buttonEl.style.display =\n",
              "        google.colab.kernel.accessAllowed ? 'block' : 'none';\n",
              "\n",
              "      async function convertToInteractive(key) {\n",
              "        const element = document.querySelector('#df-51319f8f-dbfb-475b-8917-1099a37eec46');\n",
              "        const dataTable =\n",
              "          await google.colab.kernel.invokeFunction('convertToInteractive',\n",
              "                                                    [key], {});\n",
              "        if (!dataTable) return;\n",
              "\n",
              "        const docLinkHtml = 'Like what you see? Visit the ' +\n",
              "          '<a target=\"_blank\" href=https://colab.research.google.com/notebooks/data_table.ipynb>data table notebook</a>'\n",
              "          + ' to learn more about interactive tables.';\n",
              "        element.innerHTML = '';\n",
              "        dataTable['output_type'] = 'display_data';\n",
              "        await google.colab.output.renderOutput(dataTable, element);\n",
              "        const docLink = document.createElement('div');\n",
              "        docLink.innerHTML = docLinkHtml;\n",
              "        element.appendChild(docLink);\n",
              "      }\n",
              "    </script>\n",
              "  </div>\n",
              "\n",
              "\n",
              "    <div id=\"df-8d9e4045-f853-4135-9795-8a698366eba2\">\n",
              "      <button class=\"colab-df-quickchart\" onclick=\"quickchart('df-8d9e4045-f853-4135-9795-8a698366eba2')\"\n",
              "                title=\"Suggest charts\"\n",
              "                style=\"display:none;\">\n",
              "\n",
              "<svg xmlns=\"http://www.w3.org/2000/svg\" height=\"24px\"viewBox=\"0 0 24 24\"\n",
              "     width=\"24px\">\n",
              "    <g>\n",
              "        <path d=\"M19 3H5c-1.1 0-2 .9-2 2v14c0 1.1.9 2 2 2h14c1.1 0 2-.9 2-2V5c0-1.1-.9-2-2-2zM9 17H7v-7h2v7zm4 0h-2V7h2v10zm4 0h-2v-4h2v4z\"/>\n",
              "    </g>\n",
              "</svg>\n",
              "      </button>\n",
              "\n",
              "<style>\n",
              "  .colab-df-quickchart {\n",
              "      --bg-color: #E8F0FE;\n",
              "      --fill-color: #1967D2;\n",
              "      --hover-bg-color: #E2EBFA;\n",
              "      --hover-fill-color: #174EA6;\n",
              "      --disabled-fill-color: #AAA;\n",
              "      --disabled-bg-color: #DDD;\n",
              "  }\n",
              "\n",
              "  [theme=dark] .colab-df-quickchart {\n",
              "      --bg-color: #3B4455;\n",
              "      --fill-color: #D2E3FC;\n",
              "      --hover-bg-color: #434B5C;\n",
              "      --hover-fill-color: #FFFFFF;\n",
              "      --disabled-bg-color: #3B4455;\n",
              "      --disabled-fill-color: #666;\n",
              "  }\n",
              "\n",
              "  .colab-df-quickchart {\n",
              "    background-color: var(--bg-color);\n",
              "    border: none;\n",
              "    border-radius: 50%;\n",
              "    cursor: pointer;\n",
              "    display: none;\n",
              "    fill: var(--fill-color);\n",
              "    height: 32px;\n",
              "    padding: 0;\n",
              "    width: 32px;\n",
              "  }\n",
              "\n",
              "  .colab-df-quickchart:hover {\n",
              "    background-color: var(--hover-bg-color);\n",
              "    box-shadow: 0 1px 2px rgba(60, 64, 67, 0.3), 0 1px 3px 1px rgba(60, 64, 67, 0.15);\n",
              "    fill: var(--button-hover-fill-color);\n",
              "  }\n",
              "\n",
              "  .colab-df-quickchart-complete:disabled,\n",
              "  .colab-df-quickchart-complete:disabled:hover {\n",
              "    background-color: var(--disabled-bg-color);\n",
              "    fill: var(--disabled-fill-color);\n",
              "    box-shadow: none;\n",
              "  }\n",
              "\n",
              "  .colab-df-spinner {\n",
              "    border: 2px solid var(--fill-color);\n",
              "    border-color: transparent;\n",
              "    border-bottom-color: var(--fill-color);\n",
              "    animation:\n",
              "      spin 1s steps(1) infinite;\n",
              "  }\n",
              "\n",
              "  @keyframes spin {\n",
              "    0% {\n",
              "      border-color: transparent;\n",
              "      border-bottom-color: var(--fill-color);\n",
              "      border-left-color: var(--fill-color);\n",
              "    }\n",
              "    20% {\n",
              "      border-color: transparent;\n",
              "      border-left-color: var(--fill-color);\n",
              "      border-top-color: var(--fill-color);\n",
              "    }\n",
              "    30% {\n",
              "      border-color: transparent;\n",
              "      border-left-color: var(--fill-color);\n",
              "      border-top-color: var(--fill-color);\n",
              "      border-right-color: var(--fill-color);\n",
              "    }\n",
              "    40% {\n",
              "      border-color: transparent;\n",
              "      border-right-color: var(--fill-color);\n",
              "      border-top-color: var(--fill-color);\n",
              "    }\n",
              "    60% {\n",
              "      border-color: transparent;\n",
              "      border-right-color: var(--fill-color);\n",
              "    }\n",
              "    80% {\n",
              "      border-color: transparent;\n",
              "      border-right-color: var(--fill-color);\n",
              "      border-bottom-color: var(--fill-color);\n",
              "    }\n",
              "    90% {\n",
              "      border-color: transparent;\n",
              "      border-bottom-color: var(--fill-color);\n",
              "    }\n",
              "  }\n",
              "</style>\n",
              "\n",
              "      <script>\n",
              "        async function quickchart(key) {\n",
              "          const quickchartButtonEl =\n",
              "            document.querySelector('#' + key + ' button');\n",
              "          quickchartButtonEl.disabled = true;  // To prevent multiple clicks.\n",
              "          quickchartButtonEl.classList.add('colab-df-spinner');\n",
              "          try {\n",
              "            const charts = await google.colab.kernel.invokeFunction(\n",
              "                'suggestCharts', [key], {});\n",
              "          } catch (error) {\n",
              "            console.error('Error during call to suggestCharts:', error);\n",
              "          }\n",
              "          quickchartButtonEl.classList.remove('colab-df-spinner');\n",
              "          quickchartButtonEl.classList.add('colab-df-quickchart-complete');\n",
              "        }\n",
              "        (() => {\n",
              "          let quickchartButtonEl =\n",
              "            document.querySelector('#df-8d9e4045-f853-4135-9795-8a698366eba2 button');\n",
              "          quickchartButtonEl.style.display =\n",
              "            google.colab.kernel.accessAllowed ? 'block' : 'none';\n",
              "        })();\n",
              "      </script>\n",
              "    </div>\n",
              "\n",
              "  <div id=\"id_292db727-9ba3-4306-9f28-c98feecd63e0\">\n",
              "    <style>\n",
              "      .colab-df-generate {\n",
              "        background-color: #E8F0FE;\n",
              "        border: none;\n",
              "        border-radius: 50%;\n",
              "        cursor: pointer;\n",
              "        display: none;\n",
              "        fill: #1967D2;\n",
              "        height: 32px;\n",
              "        padding: 0 0 0 0;\n",
              "        width: 32px;\n",
              "      }\n",
              "\n",
              "      .colab-df-generate:hover {\n",
              "        background-color: #E2EBFA;\n",
              "        box-shadow: 0px 1px 2px rgba(60, 64, 67, 0.3), 0px 1px 3px 1px rgba(60, 64, 67, 0.15);\n",
              "        fill: #174EA6;\n",
              "      }\n",
              "\n",
              "      [theme=dark] .colab-df-generate {\n",
              "        background-color: #3B4455;\n",
              "        fill: #D2E3FC;\n",
              "      }\n",
              "\n",
              "      [theme=dark] .colab-df-generate:hover {\n",
              "        background-color: #434B5C;\n",
              "        box-shadow: 0px 1px 3px 1px rgba(0, 0, 0, 0.15);\n",
              "        filter: drop-shadow(0px 1px 2px rgba(0, 0, 0, 0.3));\n",
              "        fill: #FFFFFF;\n",
              "      }\n",
              "    </style>\n",
              "    <button class=\"colab-df-generate\" onclick=\"generateWithVariable('oo')\"\n",
              "            title=\"Generate code using this dataframe.\"\n",
              "            style=\"display:none;\">\n",
              "\n",
              "  <svg xmlns=\"http://www.w3.org/2000/svg\" height=\"24px\"viewBox=\"0 0 24 24\"\n",
              "       width=\"24px\">\n",
              "    <path d=\"M7,19H8.4L18.45,9,17,7.55,7,17.6ZM5,21V16.75L18.45,3.32a2,2,0,0,1,2.83,0l1.4,1.43a1.91,1.91,0,0,1,.58,1.4,1.91,1.91,0,0,1-.58,1.4L9.25,21ZM18.45,9,17,7.55Zm-12,3A5.31,5.31,0,0,0,4.9,8.1,5.31,5.31,0,0,0,1,6.5,5.31,5.31,0,0,0,4.9,4.9,5.31,5.31,0,0,0,6.5,1,5.31,5.31,0,0,0,8.1,4.9,5.31,5.31,0,0,0,12,6.5,5.46,5.46,0,0,0,6.5,12Z\"/>\n",
              "  </svg>\n",
              "    </button>\n",
              "    <script>\n",
              "      (() => {\n",
              "      const buttonEl =\n",
              "        document.querySelector('#id_292db727-9ba3-4306-9f28-c98feecd63e0 button.colab-df-generate');\n",
              "      buttonEl.style.display =\n",
              "        google.colab.kernel.accessAllowed ? 'block' : 'none';\n",
              "\n",
              "      buttonEl.onclick = () => {\n",
              "        google.colab.notebook.generateWithVariable('oo');\n",
              "      }\n",
              "      })();\n",
              "    </script>\n",
              "  </div>\n",
              "\n",
              "    </div>\n",
              "  </div>\n"
            ],
            "application/vnd.google.colaboratory.intrinsic+json": {
              "type": "dataframe",
              "variable_name": "oo",
              "summary": "{\n  \"name\": \"oo\",\n  \"rows\": 27174,\n  \"fields\": [\n    {\n      \"column\": \"Year\",\n      \"properties\": {\n        \"dtype\": \"number\",\n        \"std\": 31,\n        \"min\": 1896,\n        \"max\": 2004,\n        \"num_unique_values\": 25,\n        \"samples\": [\n          1932,\n          1972,\n          1896\n        ],\n        \"semantic_type\": \"\",\n        \"description\": \"\"\n      }\n    },\n    {\n      \"column\": \"City\",\n      \"properties\": {\n        \"dtype\": \"category\",\n        \"num_unique_values\": 21,\n        \"samples\": [\n          \"Athens\",\n          \"Seoul\",\n          \"Montreal\"\n        ],\n        \"semantic_type\": \"\",\n        \"description\": \"\"\n      }\n    },\n    {\n      \"column\": \"Sport\",\n      \"properties\": {\n        \"dtype\": \"category\",\n        \"num_unique_values\": 42,\n        \"samples\": [\n          \"Rackets\",\n          \"Croquet\",\n          \"Wrestling\"\n        ],\n        \"semantic_type\": \"\",\n        \"description\": \"\"\n      }\n    },\n    {\n      \"column\": \"Discipline\",\n      \"properties\": {\n        \"dtype\": \"category\",\n        \"num_unique_values\": 55,\n        \"samples\": [\n          \"Jeu de Paume\",\n          \"Fencing\",\n          \"Figure skating\"\n        ],\n        \"semantic_type\": \"\",\n        \"description\": \"\"\n      }\n    },\n    {\n      \"column\": \"Athlete Name\",\n      \"properties\": {\n        \"dtype\": \"string\",\n        \"num_unique_values\": 19991,\n        \"samples\": [\n          \"TOMAN, Ladislav\",\n          \"MATTO, Sergio A.\",\n          \"DE WOLF, Nicolaas\"\n        ],\n        \"semantic_type\": \"\",\n        \"description\": \"\"\n      }\n    },\n    {\n      \"column\": \"NOC\",\n      \"properties\": {\n        \"dtype\": \"category\",\n        \"num_unique_values\": 132,\n        \"samples\": [\n          \"VEN\",\n          \"ZIM\",\n          \"SWE\"\n        ],\n        \"semantic_type\": \"\",\n        \"description\": \"\"\n      }\n    },\n    {\n      \"column\": \"Gender\",\n      \"properties\": {\n        \"dtype\": \"category\",\n        \"num_unique_values\": 2,\n        \"samples\": [\n          \"Women\",\n          \"Men\"\n        ],\n        \"semantic_type\": \"\",\n        \"description\": \"\"\n      }\n    },\n    {\n      \"column\": \"Event\",\n      \"properties\": {\n        \"dtype\": \"category\",\n        \"num_unique_values\": 572,\n        \"samples\": [\n          \"- 58 kg\",\n          \"cricket\"\n        ],\n        \"semantic_type\": \"\",\n        \"description\": \"\"\n      }\n    },\n    {\n      \"column\": \"Event Gender\",\n      \"properties\": {\n        \"dtype\": \"category\",\n        \"num_unique_values\": 3,\n        \"samples\": [\n          \"M\",\n          \"X\"\n        ],\n        \"semantic_type\": \"\",\n        \"description\": \"\"\n      }\n    },\n    {\n      \"column\": \"Medal\",\n      \"properties\": {\n        \"dtype\": \"category\",\n        \"num_unique_values\": 3,\n        \"samples\": [\n          \"Gold\",\n          \"Silver\"\n        ],\n        \"semantic_type\": \"\",\n        \"description\": \"\"\n      }\n    },\n    {\n      \"column\": \"Position\",\n      \"properties\": {\n        \"dtype\": \"number\",\n        \"std\": 0,\n        \"min\": 1,\n        \"max\": 3,\n        \"num_unique_values\": 3,\n        \"samples\": [\n          1,\n          2\n        ],\n        \"semantic_type\": \"\",\n        \"description\": \"\"\n      }\n    }\n  ]\n}"
            }
          },
          "metadata": {},
          "execution_count": 9
        }
      ],
      "source": [
        "oo = pd.read_csv(filename, skiprows=5)\n",
        "oo"
      ]
    },
    {
      "cell_type": "code",
      "execution_count": null,
      "metadata": {
        "id": "o3NIzDxyQzWs"
      },
      "outputs": [],
      "source": [
        "oo.shape"
      ]
    },
    {
      "cell_type": "code",
      "source": [
        "oo.shape?"
      ],
      "metadata": {
        "id": "B6asCtrReVJ5"
      },
      "execution_count": null,
      "outputs": []
    },
    {
      "cell_type": "code",
      "execution_count": null,
      "metadata": {
        "id": "0PCE_iXpQzWt"
      },
      "outputs": [],
      "source": [
        "oo.head()"
      ]
    },
    {
      "cell_type": "code",
      "execution_count": null,
      "metadata": {
        "id": "k7QFGUXEy8wk"
      },
      "outputs": [],
      "source": [
        "oo.head?"
      ]
    },
    {
      "cell_type": "code",
      "execution_count": null,
      "metadata": {
        "id": "VCOdQQZg9uVN"
      },
      "outputs": [],
      "source": [
        "oo.head(3)"
      ]
    },
    {
      "cell_type": "code",
      "execution_count": null,
      "metadata": {
        "id": "B_P8jwG0QzWt"
      },
      "outputs": [],
      "source": [
        "oo.tail()"
      ]
    },
    {
      "cell_type": "code",
      "execution_count": null,
      "metadata": {
        "id": "f5rgxIri9xlj"
      },
      "outputs": [],
      "source": [
        "oo.sample(5)"
      ]
    },
    {
      "cell_type": "code",
      "source": [
        "oo.sample?"
      ],
      "metadata": {
        "id": "Pj4QBYANegDD"
      },
      "execution_count": null,
      "outputs": []
    },
    {
      "cell_type": "code",
      "execution_count": null,
      "metadata": {
        "id": "oyvg0lNQQzWu"
      },
      "outputs": [],
      "source": [
        "oo.info()"
      ]
    },
    {
      "cell_type": "code",
      "execution_count": null,
      "metadata": {
        "id": "aNUD6Ndobv4U"
      },
      "outputs": [],
      "source": [
        "oo.describe()"
      ]
    },
    {
      "cell_type": "code",
      "execution_count": null,
      "metadata": {
        "id": "CMuwyzFyWvq4"
      },
      "outputs": [],
      "source": [
        "pd.get_option(\"display.max_rows\")"
      ]
    },
    {
      "cell_type": "code",
      "execution_count": null,
      "metadata": {
        "id": "3pZ5LHvnV7TA"
      },
      "outputs": [],
      "source": [
        "pd.set_option(\"display.max_rows\", None)\n",
        "oo"
      ]
    },
    {
      "cell_type": "code",
      "execution_count": null,
      "metadata": {
        "id": "44cpSDDbWEoT"
      },
      "outputs": [],
      "source": [
        "pd.set_option(\"display.max_rows\", 60)\n",
        "oo"
      ]
    },
    {
      "cell_type": "code",
      "source": [
        "pd.get_option(\"display.max_columns\")"
      ],
      "metadata": {
        "id": "6LC6MhhvkJ7w"
      },
      "execution_count": null,
      "outputs": []
    },
    {
      "cell_type": "code",
      "source": [
        "pd.get_option(\"display.width\")"
      ],
      "metadata": {
        "id": "OodXDgN0k3_6"
      },
      "execution_count": null,
      "outputs": []
    },
    {
      "cell_type": "code",
      "source": [
        "pd.set_option(\"display.width\", 100)"
      ],
      "metadata": {
        "id": "3I4G6skCk_-w"
      },
      "execution_count": null,
      "outputs": []
    },
    {
      "cell_type": "markdown",
      "metadata": {
        "id": "vto6K36OcbBY"
      },
      "source": [
        "## Select a Series (column)"
      ]
    },
    {
      "cell_type": "code",
      "source": [
        "!pip install --quiet pandas==2.0.2\n",
        "\n",
        "import pandas as pd\n",
        "from pathlib import Path\n",
        "\n",
        "if not Path(\"olympics_1896_2004.csv\").exists():\n",
        "  !wget https://github.com/jonfernandes/pandas_essential/raw/main/olympics_1896_2004.csv\n",
        "\n",
        "filename = \"olympics_1896_2004.csv\"\n",
        "print(\"Installed all of the necessary files for this section ...\")"
      ],
      "metadata": {
        "id": "tpDuBbu6aqdo"
      },
      "execution_count": null,
      "outputs": []
    },
    {
      "cell_type": "code",
      "execution_count": null,
      "metadata": {
        "id": "K9h2_rrOiztl"
      },
      "outputs": [],
      "source": [
        "oo = pd.read_csv(filename, skiprows=5)\n",
        "oo.sample(3)"
      ]
    },
    {
      "cell_type": "code",
      "execution_count": null,
      "metadata": {
        "id": "SYDcU5ydfcOA"
      },
      "outputs": [],
      "source": [
        "type(oo)"
      ]
    },
    {
      "cell_type": "code",
      "execution_count": null,
      "metadata": {
        "id": "QGyLHeXechHL"
      },
      "outputs": [],
      "source": [
        "oo[\"Discipline\"]"
      ]
    },
    {
      "cell_type": "code",
      "execution_count": null,
      "metadata": {
        "id": "03mViRO_jVle"
      },
      "outputs": [],
      "source": [
        "oo['Discipline']"
      ]
    },
    {
      "cell_type": "code",
      "execution_count": null,
      "metadata": {
        "id": "fHkIb8rBchHM"
      },
      "outputs": [],
      "source": [
        "#oo[\"discipline\"]"
      ]
    },
    {
      "cell_type": "code",
      "execution_count": null,
      "metadata": {
        "id": "YAftK9Qvj9nv"
      },
      "outputs": [],
      "source": [
        "type(oo[\"Discipline\"])"
      ]
    },
    {
      "cell_type": "code",
      "execution_count": null,
      "metadata": {
        "id": "yKj8_1ZPchHM"
      },
      "outputs": [],
      "source": [
        "oo.Discipline"
      ]
    },
    {
      "cell_type": "code",
      "execution_count": null,
      "metadata": {
        "id": "VbDpqF7ajkRz"
      },
      "outputs": [],
      "source": [
        "oo.columns"
      ]
    },
    {
      "cell_type": "code",
      "execution_count": null,
      "metadata": {
        "id": "c_g6y8_ochHM"
      },
      "outputs": [],
      "source": [
        "oo[\"Athlete Name\"]"
      ]
    },
    {
      "cell_type": "code",
      "execution_count": null,
      "metadata": {
        "id": "LUj-Fr0ichHM"
      },
      "outputs": [],
      "source": [
        "#oo.Athlete Name"
      ]
    },
    {
      "cell_type": "code",
      "source": [
        "oo.sample(3)"
      ],
      "metadata": {
        "id": "MRnsL11AoJJY"
      },
      "execution_count": null,
      "outputs": []
    },
    {
      "cell_type": "code",
      "source": [
        "oo.Year.unique()"
      ],
      "metadata": {
        "id": "yRHMYUlbnvR9"
      },
      "execution_count": null,
      "outputs": []
    },
    {
      "cell_type": "code",
      "source": [
        "oo.Year.unique?"
      ],
      "metadata": {
        "id": "GGX0bbMNoRNa"
      },
      "execution_count": null,
      "outputs": []
    },
    {
      "cell_type": "code",
      "source": [
        "oo.Sport.unique()"
      ],
      "metadata": {
        "id": "C6oOf_7Zn9eS"
      },
      "execution_count": null,
      "outputs": []
    },
    {
      "cell_type": "code",
      "source": [
        "oo.sample(3)"
      ],
      "metadata": {
        "id": "_7eyeVfEoXJg"
      },
      "execution_count": null,
      "outputs": []
    },
    {
      "cell_type": "code",
      "source": [
        "oo.Year.value_counts()"
      ],
      "metadata": {
        "id": "HlLqBDkaodQx"
      },
      "execution_count": null,
      "outputs": []
    },
    {
      "cell_type": "code",
      "source": [
        "oo.Year.value_counts?"
      ],
      "metadata": {
        "id": "4bDPb1J8o-8p"
      },
      "execution_count": null,
      "outputs": []
    },
    {
      "cell_type": "code",
      "source": [
        "oo.Year.value_counts(normalize=True)"
      ],
      "metadata": {
        "id": "VH4wKXONpYwh"
      },
      "execution_count": null,
      "outputs": []
    },
    {
      "cell_type": "markdown",
      "source": [
        "## Challenge"
      ],
      "metadata": {
        "id": "Y7NNcfO4xlea"
      }
    },
    {
      "cell_type": "markdown",
      "source": [
        "Answer the following questions. Indicate the Pandas command where relevant.\n",
        "\n",
        "1.   What is the time range covered in this dataset?\n",
        "2.   The Olympics take place every 4 years. Why are there missing years?\n",
        "3.   What are the types of medals awarded?\n",
        "4.   Across all of the Olympic Games, how many Gold, Silver and Bronze medals have there been?\n",
        "5.   Why are there not an equal number of Gold, Silver and Bronze medals?\n",
        "6.   There are more Gold medals than Silver, and more Silver than Bronze. Why might that be?\n",
        "7.   What are the different NOCs (National Olympic Committees)\n",
        "8.   What does the NOC 'ZZX' represent?\n",
        "\n",
        "\n"
      ],
      "metadata": {
        "id": "8zCUnsNAxo-g"
      }
    },
    {
      "cell_type": "markdown",
      "source": [
        "##Solution"
      ],
      "metadata": {
        "id": "cXD8zRjrB0vc"
      }
    },
    {
      "cell_type": "code",
      "source": [
        "!pip install --quiet pandas==2.0.2\n",
        "\n",
        "import pandas as pd\n",
        "from pathlib import Path\n",
        "\n",
        "if not Path(\"olympics_1896_2004.csv\").exists():\n",
        "  !wget https://github.com/jonfernandes/pandas_essential/raw/main/olympics_1896_2004.csv\n",
        "\n",
        "filename = \"olympics_1896_2004.csv\"\n",
        "print(\"Installed all of the necessary files for this section ...\")"
      ],
      "metadata": {
        "id": "gTUIMlWPCDnR"
      },
      "execution_count": null,
      "outputs": []
    },
    {
      "cell_type": "markdown",
      "source": [
        "1. What is the time range covered in this dataset?"
      ],
      "metadata": {
        "id": "-j8eT2c2CN7g"
      }
    },
    {
      "cell_type": "code",
      "source": [
        "oo.Year.unique()"
      ],
      "metadata": {
        "id": "ZSs_CV6SB5wf"
      },
      "execution_count": null,
      "outputs": []
    },
    {
      "cell_type": "markdown",
      "source": [
        "2. The Olympics take place every 4 years. Why are there missing years?\n",
        "- World War 1: 1914-1918\n",
        "- World War 2: 1939-1945"
      ],
      "metadata": {
        "id": "PdU9kXBqHUVx"
      }
    },
    {
      "cell_type": "markdown",
      "source": [
        "3. What are the types of medals awarded?"
      ],
      "metadata": {
        "id": "FO4CF7mACXgJ"
      }
    },
    {
      "cell_type": "code",
      "source": [
        "oo.Medal.unique()"
      ],
      "metadata": {
        "id": "z_gSubsK7GjH"
      },
      "execution_count": null,
      "outputs": []
    },
    {
      "cell_type": "markdown",
      "source": [
        "4. Across all of the Olympics, how many Gold, Silver and Bronze medals have there been?"
      ],
      "metadata": {
        "id": "maVn15rhChhr"
      }
    },
    {
      "cell_type": "code",
      "source": [
        "oo.Medal.value_counts()"
      ],
      "metadata": {
        "id": "4NrbRaLP7_kp"
      },
      "execution_count": null,
      "outputs": []
    },
    {
      "cell_type": "markdown",
      "source": [
        "5. Why are there not an equal number of Gold, Silver and Bronze medals?\n",
        "- Tied results\n",
        "- Team events\n",
        "- Disqualifications"
      ],
      "metadata": {
        "id": "L0BaqP40Cvja"
      }
    },
    {
      "cell_type": "code",
      "source": [
        "oo.head(10)"
      ],
      "metadata": {
        "id": "pmyToiQBIsmO"
      },
      "execution_count": null,
      "outputs": []
    },
    {
      "cell_type": "markdown",
      "source": [
        "6. There are more Gold medals than Silver, and more Silver than Bronze. Why might that be?\n",
        "\n",
        "Men's 100km cycling\n",
        "- https://en.wikipedia.org/wiki/Cycling_at_the_1896_Summer_Olympics_%E2%80%93_Men%27s_100_kilometres\n",
        "- https://en.wikipedia.org/wiki/Aristidis_Konstantinidis\n",
        "\n",
        "Men's 100m freestyle (1896)\n",
        "- https://en.wikipedia.org/wiki/Swimming_at_the_1896_Summer_Olympics_%E2%80%93_Men%27s_100_metre_freestyle\n"
      ],
      "metadata": {
        "id": "QTvM7ugqKpZz"
      }
    },
    {
      "cell_type": "markdown",
      "source": [
        "7. What are the different NOCs (National Olympic Committees)\n"
      ],
      "metadata": {
        "id": "oARaNXGtOiK_"
      }
    },
    {
      "cell_type": "code",
      "source": [
        "oo.NOC.unique()"
      ],
      "metadata": {
        "id": "uWY4zpb4O2v0"
      },
      "execution_count": null,
      "outputs": []
    },
    {
      "cell_type": "markdown",
      "source": [
        "8. What does the NOC 'ZZX' represent?\n",
        "- https://en.wikipedia.org/wiki/Mixed_teams_at_the_Olympics"
      ],
      "metadata": {
        "id": "02ouyDJvO5On"
      }
    },
    {
      "cell_type": "markdown",
      "metadata": {
        "id": "dVneSuG42rEV"
      },
      "source": [
        "## Python Lists and Dictionaries"
      ]
    },
    {
      "cell_type": "code",
      "execution_count": null,
      "metadata": {
        "id": "yaMoREyw2ugU"
      },
      "outputs": [],
      "source": [
        "medals = [\"Gold\", \"Silver\", \"Bronze\"]\n",
        "medals"
      ]
    },
    {
      "cell_type": "code",
      "execution_count": null,
      "metadata": {
        "id": "6KcUdX414wX0"
      },
      "outputs": [],
      "source": [
        "type(medals)"
      ]
    },
    {
      "cell_type": "code",
      "execution_count": null,
      "metadata": {
        "id": "q1xsb6BG5CWv"
      },
      "outputs": [],
      "source": [
        "position = {\"First\": \"Gold\",\n",
        "            \"Second\": \"Silver\",\n",
        "            \"Third\": \"Bronze\"\n",
        "}\n",
        "position"
      ]
    },
    {
      "cell_type": "code",
      "execution_count": null,
      "metadata": {
        "id": "T-4bqeTz-tyH"
      },
      "outputs": [],
      "source": [
        "type(position)"
      ]
    },
    {
      "cell_type": "code",
      "execution_count": null,
      "metadata": {
        "id": "s5wBJSTq-gqd"
      },
      "outputs": [],
      "source": [
        "position[\"First\"]"
      ]
    },
    {
      "cell_type": "markdown",
      "metadata": {
        "id": "Ckw-4M9hpoa3"
      },
      "source": [
        "## Rename a series (or column)"
      ]
    },
    {
      "cell_type": "code",
      "source": [
        "!pip install --quiet pandas==2.0.2\n",
        "\n",
        "import pandas as pd\n",
        "from pathlib import Path\n",
        "\n",
        "if not Path(\"olympics_1896_2004.csv\").exists():\n",
        "  !wget https://github.com/jonfernandes/pandas_essential/raw/main/olympics_1896_2004.csv\n",
        "\n",
        "filename = \"olympics_1896_2004.csv\"\n",
        "print(\"Installed all of the necessary files for this section ...\")"
      ],
      "metadata": {
        "id": "ZkvEYRvXbZBQ"
      },
      "execution_count": null,
      "outputs": []
    },
    {
      "cell_type": "code",
      "execution_count": null,
      "metadata": {
        "id": "GuCHMPABqCOg"
      },
      "outputs": [],
      "source": [
        "oo = pd.read_csv(filename, skiprows=5)\n",
        "oo.sample(3)"
      ]
    },
    {
      "cell_type": "code",
      "execution_count": null,
      "metadata": {
        "id": "aBkPYBGSqZdy"
      },
      "outputs": [],
      "source": [
        "mapper = {\"Athlete Name\": \"Athlete_Name\",\n",
        "          \"Event Gender\": \"Event_Gender\"}"
      ]
    },
    {
      "cell_type": "code",
      "source": [
        "oo.rename?"
      ],
      "metadata": {
        "id": "BGhEHsDscPRn"
      },
      "execution_count": null,
      "outputs": []
    },
    {
      "cell_type": "code",
      "execution_count": null,
      "metadata": {
        "id": "IXlHzMRFqGVP"
      },
      "outputs": [],
      "source": [
        "oo.rename(columns=mapper)"
      ]
    },
    {
      "cell_type": "code",
      "execution_count": null,
      "metadata": {
        "id": "Xr3XjUKFqxBu"
      },
      "outputs": [],
      "source": [
        "oo.sample(3)"
      ]
    },
    {
      "cell_type": "code",
      "execution_count": null,
      "metadata": {
        "id": "nDNiC7Uvq4o4"
      },
      "outputs": [],
      "source": [
        "oo = oo.rename(columns=mapper)\n",
        "oo.sample(3)"
      ]
    },
    {
      "cell_type": "code",
      "source": [
        "oo = pd.read_csv(filename, skiprows=5).rename(columns=mapper)\n",
        "oo.sample(3)"
      ],
      "metadata": {
        "id": "7IGqoCWcbvHc"
      },
      "execution_count": null,
      "outputs": []
    },
    {
      "cell_type": "code",
      "execution_count": null,
      "metadata": {
        "id": "jXX7uTomrDKG"
      },
      "outputs": [],
      "source": [
        "oo = pd.read_csv(filename, skiprows=5)\n",
        "oo = oo.rename(columns={\"Athlete Name\": \"Athlete_Name\", \"Event Gender\": \"Event_Gender\"})\n",
        "oo.sample(3)"
      ]
    },
    {
      "cell_type": "code",
      "execution_count": null,
      "metadata": {
        "id": "kMbTKuQ5rj1I"
      },
      "outputs": [],
      "source": [
        "oo = pd.read_csv(filename, skiprows=5)\n",
        "oo.columns"
      ]
    },
    {
      "cell_type": "code",
      "execution_count": null,
      "metadata": {
        "id": "i2BiQO6Crp6a"
      },
      "outputs": [],
      "source": [
        "column_names = ['Year', 'City', 'Sport', 'Discipline', 'Athlete_Name', 'NOC', 'Gender',\n",
        "       'Event', 'Event_Gender', 'Medal', 'Position']\n",
        "oo.columns = column_names\n",
        "oo.sample(3)"
      ]
    },
    {
      "cell_type": "code",
      "execution_count": null,
      "metadata": {
        "id": "hFOa9jTjr-4m"
      },
      "outputs": [],
      "source": [
        "oo = pd.read_csv(filename, skiprows=5)\n",
        "oo.sample(3)"
      ]
    },
    {
      "cell_type": "code",
      "execution_count": null,
      "metadata": {
        "id": "X3Wc_Xy1swWe"
      },
      "outputs": [],
      "source": [
        "oo = pd.read_csv(filename, skiprows=5, names=column_names)\n",
        "oo.head()"
      ]
    },
    {
      "cell_type": "code",
      "execution_count": null,
      "metadata": {
        "id": "Slv2MGpztEvf"
      },
      "outputs": [],
      "source": [
        "oo = pd.read_csv(filename, skiprows=5, names=column_names, header=0)\n",
        "oo.head()"
      ]
    },
    {
      "cell_type": "markdown",
      "metadata": {
        "id": "W9Nhfv3LkjL0"
      },
      "source": [
        "## Remove a Series (column) or row"
      ]
    },
    {
      "cell_type": "code",
      "source": [
        "!pip install --quiet pandas==2.0.2\n",
        "\n",
        "import pandas as pd\n",
        "from pathlib import Path\n",
        "\n",
        "if not Path(\"olympics_1896_2004.csv\").exists():\n",
        "  !wget https://github.com/jonfernandes/pandas_essential/raw/main/olympics_1896_2004.csv\n",
        "\n",
        "filename = \"olympics_1896_2004.csv\"\n",
        "print(\"Installed all of the necessary files for this section ...\")"
      ],
      "metadata": {
        "id": "wyyfLAZYcyey"
      },
      "execution_count": null,
      "outputs": []
    },
    {
      "cell_type": "code",
      "execution_count": null,
      "metadata": {
        "id": "Jvu3BkX8pEx6"
      },
      "outputs": [],
      "source": [
        "oo = pd.read_csv(filename, skiprows=5)\n",
        "oo.sample(3)"
      ]
    },
    {
      "cell_type": "code",
      "execution_count": null,
      "metadata": {
        "id": "20cP8jKNpI-b"
      },
      "outputs": [],
      "source": [
        "oo.drop('Position', axis=1)"
      ]
    },
    {
      "cell_type": "code",
      "source": [
        "#oo.drop('Position', axis=0)"
      ],
      "metadata": {
        "id": "G3EbLvxuY50E"
      },
      "execution_count": null,
      "outputs": []
    },
    {
      "cell_type": "code",
      "execution_count": null,
      "metadata": {
        "id": "1dHlMJCCpf3C"
      },
      "outputs": [],
      "source": [
        "oo.sample(3)"
      ]
    },
    {
      "cell_type": "code",
      "source": [
        "oo = oo.drop('Position', axis=1)\n",
        "oo.sample(3)"
      ],
      "metadata": {
        "id": "3X4HbXnaZeBw"
      },
      "execution_count": null,
      "outputs": []
    },
    {
      "cell_type": "code",
      "source": [
        "oo = pd.read_csv(filename, skiprows=5).drop('Position', axis=1)\n",
        "oo.sample(3)"
      ],
      "metadata": {
        "id": "Fq1lyaCpajT4"
      },
      "execution_count": null,
      "outputs": []
    },
    {
      "cell_type": "code",
      "source": [
        "oo = (pd.read_csv(filename, skiprows=5)\n",
        "      .drop('Position', axis=1)\n",
        ")\n",
        "oo.sample(3)"
      ],
      "metadata": {
        "id": "ZhTF2wwh2xfr"
      },
      "execution_count": null,
      "outputs": []
    },
    {
      "cell_type": "code",
      "source": [
        "oo = (pd.read_csv(filename, skiprows=5)\n",
        "      .drop('Position', axis=1)\n",
        ")\n",
        "oo.sample(3)"
      ],
      "metadata": {
        "id": "mpxeqJaSa0SH"
      },
      "execution_count": null,
      "outputs": []
    },
    {
      "cell_type": "code",
      "source": [
        "oo = pd.read_csv(filename, skiprows=5)\n",
        "oo.drop('Position', axis=1, inplace=True)\n",
        "oo.sample(3)"
      ],
      "metadata": {
        "id": "FwsO7VDt3Idt"
      },
      "execution_count": null,
      "outputs": []
    },
    {
      "cell_type": "code",
      "execution_count": null,
      "metadata": {
        "id": "r_0NfmZAputk"
      },
      "outputs": [],
      "source": [
        "#oo = (pd.read_csv(filename, skiprows=5)\n",
        "#      .drop('Position', axis=1, inplace=True)\n",
        "#)\n",
        "#oo.sample(3)"
      ]
    },
    {
      "cell_type": "code",
      "source": [
        "oo.drop?"
      ],
      "metadata": {
        "id": "tRDLq3HuZ1pK"
      },
      "execution_count": null,
      "outputs": []
    },
    {
      "cell_type": "code",
      "execution_count": null,
      "metadata": {
        "id": "K8jXziF_p5dJ"
      },
      "outputs": [],
      "source": [
        "oo = (pd.read_csv(filename, skiprows=5)\n",
        "      .drop('Position', axis=1)\n",
        ")\n",
        "oo.sample(3)"
      ]
    },
    {
      "cell_type": "code",
      "execution_count": null,
      "metadata": {
        "id": "bwjWbu26qOle"
      },
      "outputs": [],
      "source": [
        "oo.head(3)"
      ]
    },
    {
      "cell_type": "code",
      "execution_count": null,
      "metadata": {
        "id": "SCzu6DsFqUNn"
      },
      "outputs": [],
      "source": [
        "oo = (pd.read_csv(filename, skiprows=5)\n",
        "      .drop(2, axis=0)\n",
        ")\n",
        "oo.head(3)"
      ]
    },
    {
      "cell_type": "code",
      "execution_count": null,
      "metadata": {
        "id": "OyPaiwdAr7wT"
      },
      "outputs": [],
      "source": [
        "oo = (pd.read_csv(filename, skiprows=5)\n",
        "      .drop([0, 1, 3], axis=0)\n",
        ")\n",
        "oo.head(3)"
      ]
    },
    {
      "cell_type": "code",
      "execution_count": null,
      "metadata": {
        "id": "O7kPV4fXsPpT"
      },
      "outputs": [],
      "source": [
        "oo = oo.drop(['City', 'Sport'], axis=1)\n",
        "oo.head(3)"
      ]
    },
    {
      "cell_type": "code",
      "execution_count": null,
      "metadata": {
        "id": "zP14TUgHrAWV"
      },
      "outputs": [],
      "source": [
        "oo = (pd.read_csv(filename, skiprows=5)\n",
        "      .drop('Position', axis=1)\n",
        ")\n",
        "oo.sample(3)"
      ]
    },
    {
      "cell_type": "code",
      "source": [
        "pd.merge?"
      ],
      "metadata": {
        "id": "Kn5U4c_6etcq"
      },
      "execution_count": null,
      "outputs": []
    },
    {
      "cell_type": "code",
      "source": [
        "pd.concat?"
      ],
      "metadata": {
        "id": "xeu9LEEPe1E9"
      },
      "execution_count": null,
      "outputs": []
    },
    {
      "cell_type": "code",
      "source": [
        "oo.groupby?"
      ],
      "metadata": {
        "id": "oNN6PLPRe9Q6"
      },
      "execution_count": null,
      "outputs": []
    },
    {
      "cell_type": "markdown",
      "metadata": {
        "id": "KoS5odaaWiBi"
      },
      "source": [
        "## Filtering rows for a single condition"
      ]
    },
    {
      "cell_type": "code",
      "source": [
        "!pip install --quiet pandas==2.0.2\n",
        "\n",
        "import pandas as pd\n",
        "from pathlib import Path\n",
        "\n",
        "if not Path(\"olympics_1896_2004.csv\").exists():\n",
        "  !wget https://github.com/jonfernandes/pandas_essential/raw/main/olympics_1896_2004.csv\n",
        "\n",
        "filename = \"olympics_1896_2004.csv\"\n",
        "print(\"Installed all of the necessary files for this section ...\")"
      ],
      "metadata": {
        "id": "lXgyKJGPe8Tu"
      },
      "execution_count": null,
      "outputs": []
    },
    {
      "cell_type": "code",
      "source": [
        "oo = (pd.read_csv(filename, skiprows=5)\n",
        "      .drop('Position', axis=1)\n",
        ")\n",
        "oo.sample(3)"
      ],
      "metadata": {
        "id": "t29BT5gbrBIc"
      },
      "execution_count": null,
      "outputs": []
    },
    {
      "cell_type": "code",
      "execution_count": null,
      "metadata": {
        "id": "sc8z0Lt6YUPO"
      },
      "outputs": [],
      "source": [
        "type(True)"
      ]
    },
    {
      "cell_type": "code",
      "execution_count": null,
      "metadata": {
        "id": "Bmwe33a1Y-2P"
      },
      "outputs": [],
      "source": [
        "type(False)"
      ]
    },
    {
      "cell_type": "code",
      "execution_count": null,
      "metadata": {
        "id": "4dO8-KghZiSV"
      },
      "outputs": [],
      "source": [
        "oo.Year.dtype"
      ]
    },
    {
      "cell_type": "code",
      "execution_count": null,
      "metadata": {
        "id": "6GUl6DVbZFTN"
      },
      "outputs": [],
      "source": [
        "first_olympics = (oo.Year == 1896)\n",
        "first_olympics"
      ]
    },
    {
      "cell_type": "code",
      "execution_count": null,
      "metadata": {
        "id": "f6y4vN4pap6g"
      },
      "outputs": [],
      "source": [
        "oo[first_olympics]"
      ]
    },
    {
      "cell_type": "code",
      "execution_count": null,
      "metadata": {
        "id": "-CeFZjg1av38"
      },
      "outputs": [],
      "source": [
        "oo[oo.Year == 1896]"
      ]
    },
    {
      "cell_type": "code",
      "execution_count": null,
      "metadata": {
        "id": "-bcylkijfi3p"
      },
      "outputs": [],
      "source": [
        "oo[oo.Year < 1896]"
      ]
    },
    {
      "cell_type": "code",
      "execution_count": null,
      "metadata": {
        "id": "1mVCF2aBfojw"
      },
      "outputs": [],
      "source": [
        "oo[(oo.Year <= 1896)]"
      ]
    },
    {
      "cell_type": "markdown",
      "metadata": {
        "id": "IEMaZhWNgH8S"
      },
      "source": [
        "## Filter rows for multiple conditions"
      ]
    },
    {
      "cell_type": "code",
      "source": [
        "!pip install --quiet pandas==2.0.2\n",
        "\n",
        "import pandas as pd\n",
        "from pathlib import Path\n",
        "\n",
        "if not Path(\"olympics_1896_2004.csv\").exists():\n",
        "  !wget https://github.com/jonfernandes/pandas_essential/raw/main/olympics_1896_2004.csv\n",
        "\n",
        "filename = \"olympics_1896_2004.csv\"\n",
        "print(\"Installed all of the necessary files for this section ...\")"
      ],
      "metadata": {
        "id": "2laJYlXsfDLv"
      },
      "execution_count": null,
      "outputs": []
    },
    {
      "cell_type": "code",
      "source": [
        "oo = (pd.read_csv(filename, skiprows=5)\n",
        "      .drop('Position', axis=1)\n",
        ")\n",
        "oo.tail(3)"
      ],
      "metadata": {
        "id": "IlOsfcIgjvUW"
      },
      "execution_count": null,
      "outputs": []
    },
    {
      "cell_type": "code",
      "execution_count": null,
      "metadata": {
        "id": "BW-mRtxwg1qc"
      },
      "outputs": [],
      "source": [
        "oo.dtypes"
      ]
    },
    {
      "cell_type": "code",
      "execution_count": null,
      "metadata": {
        "id": "u7nXHc19gPwj"
      },
      "outputs": [],
      "source": [
        "oo[oo.City == 'Athens']"
      ]
    },
    {
      "cell_type": "code",
      "source": [
        "#oo[oo.City == Athens]"
      ],
      "metadata": {
        "id": "Aw8sVdFAkIBP"
      },
      "execution_count": null,
      "outputs": []
    },
    {
      "cell_type": "code",
      "execution_count": null,
      "metadata": {
        "id": "WHGrdM0AhRuo"
      },
      "outputs": [],
      "source": [
        "oo[(oo.Year == 1896) | (oo.Year == 2004)]"
      ]
    },
    {
      "cell_type": "code",
      "execution_count": null,
      "metadata": {
        "id": "m-4U5Jo3ke6f"
      },
      "outputs": [],
      "source": [
        "oo[(oo.City == 'Athens') & (oo.Year == 2004)]"
      ]
    },
    {
      "cell_type": "code",
      "execution_count": null,
      "metadata": {
        "id": "KmCyCTnyksgk"
      },
      "outputs": [],
      "source": [
        "oo[(oo.City == 'Athens') & ~(oo.Year == 1896)]"
      ]
    },
    {
      "cell_type": "code",
      "execution_count": null,
      "metadata": {
        "id": "yQR50DX2iXd6"
      },
      "outputs": [],
      "source": [
        "first_men_100m = oo[(oo.Year == 1896) & (oo.Gender == 'Men') & (oo.Event == '100m')]\n",
        "first_men_100m"
      ]
    },
    {
      "cell_type": "code",
      "execution_count": null,
      "metadata": {
        "id": "Yl6_EgtTFebl"
      },
      "outputs": [],
      "source": [
        "oo[(oo.Year == 1896) & (oo.Gender == 'Men') & (oo.Event == '100m')][[\"Year\", \"Athlete Name\", \"NOC\", \"Event\", \"Medal\"]]"
      ]
    },
    {
      "cell_type": "code",
      "execution_count": null,
      "metadata": {
        "id": "_f5j-cJ-Ge3d"
      },
      "outputs": [],
      "source": [
        "first_men_100m[[\"Year\", \"Athlete Name\", \"NOC\", \"Event\", \"Medal\"]]"
      ]
    },
    {
      "cell_type": "markdown",
      "metadata": {
        "id": "PLavnC_tldUv"
      },
      "source": [
        "## Using String methods"
      ]
    },
    {
      "cell_type": "code",
      "source": [
        "!pip install --quiet pandas==2.0.2\n",
        "\n",
        "import pandas as pd\n",
        "from pathlib import Path\n",
        "\n",
        "if not Path(\"olympics_1896_2004.csv\").exists():\n",
        "  !wget https://github.com/jonfernandes/pandas_essential/raw/main/olympics_1896_2004.csv\n",
        "\n",
        "filename = \"olympics_1896_2004.csv\"\n",
        "print(\"Installed all of the necessary files for this section ...\")"
      ],
      "metadata": {
        "id": "5WIpCHr9fIM3"
      },
      "execution_count": null,
      "outputs": []
    },
    {
      "cell_type": "code",
      "source": [
        "oo = (pd.read_csv(filename, skiprows=5)\n",
        "      .drop('Position', axis=1)\n",
        ")\n",
        "oo.head(3)"
      ],
      "metadata": {
        "id": "AGr-1o_FeH1w",
        "outputId": "12e5a45b-ed0c-45a5-b5f1-bf9dc8fe24ad",
        "colab": {
          "base_uri": "https://localhost:8080/",
          "height": 235
        }
      },
      "execution_count": 10,
      "outputs": [
        {
          "output_type": "stream",
          "name": "stderr",
          "text": [
            "/usr/local/lib/python3.11/dist-packages/google/colab/_interactive_table_hint_button.py:178: FutureWarning: Index.format is deprecated and will be removed in a future version. Convert using index.astype(str) or index.map(formatter) instead.\n",
            "  df_html=dataframe._repr_html_(),  # pylint: disable=protected-access\n",
            "/usr/local/lib/python3.11/dist-packages/google/colab/_interactive_table_hint_button.py:178: FutureWarning: RangeIndex.format is deprecated and will be removed in a future version. Convert using index.astype(str) or index.map(formatter) instead.\n",
            "  df_html=dataframe._repr_html_(),  # pylint: disable=protected-access\n"
          ]
        },
        {
          "output_type": "execute_result",
          "data": {
            "text/plain": [
              "   Year    City      Sport     Discipline        Athlete Name  NOC Gender  \\\n",
              "0  1896  Athens    Cycling  Cycling Track       FLAMENG, Léon  FRA    Men   \n",
              "1  1896  Athens    Cycling  Cycling Track  KOLETTIS, Georgios  GRE    Men   \n",
              "2  1896  Athens  Athletics      Athletics       LANE, Francis  USA    Men   \n",
              "\n",
              "   Event Event Gender   Medal  \n",
              "0  100km            M    Gold  \n",
              "1  100km            M  Silver  \n",
              "2   100m            M  Bronze  "
            ],
            "text/html": [
              "\n",
              "  <div id=\"df-884b3c27-fee6-4d82-ba23-c264e1788f49\" class=\"colab-df-container\">\n",
              "    <div>\n",
              "<style scoped>\n",
              "    .dataframe tbody tr th:only-of-type {\n",
              "        vertical-align: middle;\n",
              "    }\n",
              "\n",
              "    .dataframe tbody tr th {\n",
              "        vertical-align: top;\n",
              "    }\n",
              "\n",
              "    .dataframe thead th {\n",
              "        text-align: right;\n",
              "    }\n",
              "</style>\n",
              "<table border=\"1\" class=\"dataframe\">\n",
              "  <thead>\n",
              "    <tr style=\"text-align: right;\">\n",
              "      <th></th>\n",
              "      <th>Year</th>\n",
              "      <th>City</th>\n",
              "      <th>Sport</th>\n",
              "      <th>Discipline</th>\n",
              "      <th>Athlete Name</th>\n",
              "      <th>NOC</th>\n",
              "      <th>Gender</th>\n",
              "      <th>Event</th>\n",
              "      <th>Event Gender</th>\n",
              "      <th>Medal</th>\n",
              "    </tr>\n",
              "  </thead>\n",
              "  <tbody>\n",
              "    <tr>\n",
              "      <th>0</th>\n",
              "      <td>1896</td>\n",
              "      <td>Athens</td>\n",
              "      <td>Cycling</td>\n",
              "      <td>Cycling Track</td>\n",
              "      <td>FLAMENG, Léon</td>\n",
              "      <td>FRA</td>\n",
              "      <td>Men</td>\n",
              "      <td>100km</td>\n",
              "      <td>M</td>\n",
              "      <td>Gold</td>\n",
              "    </tr>\n",
              "    <tr>\n",
              "      <th>1</th>\n",
              "      <td>1896</td>\n",
              "      <td>Athens</td>\n",
              "      <td>Cycling</td>\n",
              "      <td>Cycling Track</td>\n",
              "      <td>KOLETTIS, Georgios</td>\n",
              "      <td>GRE</td>\n",
              "      <td>Men</td>\n",
              "      <td>100km</td>\n",
              "      <td>M</td>\n",
              "      <td>Silver</td>\n",
              "    </tr>\n",
              "    <tr>\n",
              "      <th>2</th>\n",
              "      <td>1896</td>\n",
              "      <td>Athens</td>\n",
              "      <td>Athletics</td>\n",
              "      <td>Athletics</td>\n",
              "      <td>LANE, Francis</td>\n",
              "      <td>USA</td>\n",
              "      <td>Men</td>\n",
              "      <td>100m</td>\n",
              "      <td>M</td>\n",
              "      <td>Bronze</td>\n",
              "    </tr>\n",
              "  </tbody>\n",
              "</table>\n",
              "</div>\n",
              "    <div class=\"colab-df-buttons\">\n",
              "\n",
              "  <div class=\"colab-df-container\">\n",
              "    <button class=\"colab-df-convert\" onclick=\"convertToInteractive('df-884b3c27-fee6-4d82-ba23-c264e1788f49')\"\n",
              "            title=\"Convert this dataframe to an interactive table.\"\n",
              "            style=\"display:none;\">\n",
              "\n",
              "  <svg xmlns=\"http://www.w3.org/2000/svg\" height=\"24px\" viewBox=\"0 -960 960 960\">\n",
              "    <path d=\"M120-120v-720h720v720H120Zm60-500h600v-160H180v160Zm220 220h160v-160H400v160Zm0 220h160v-160H400v160ZM180-400h160v-160H180v160Zm440 0h160v-160H620v160ZM180-180h160v-160H180v160Zm440 0h160v-160H620v160Z\"/>\n",
              "  </svg>\n",
              "    </button>\n",
              "\n",
              "  <style>\n",
              "    .colab-df-container {\n",
              "      display:flex;\n",
              "      gap: 12px;\n",
              "    }\n",
              "\n",
              "    .colab-df-convert {\n",
              "      background-color: #E8F0FE;\n",
              "      border: none;\n",
              "      border-radius: 50%;\n",
              "      cursor: pointer;\n",
              "      display: none;\n",
              "      fill: #1967D2;\n",
              "      height: 32px;\n",
              "      padding: 0 0 0 0;\n",
              "      width: 32px;\n",
              "    }\n",
              "\n",
              "    .colab-df-convert:hover {\n",
              "      background-color: #E2EBFA;\n",
              "      box-shadow: 0px 1px 2px rgba(60, 64, 67, 0.3), 0px 1px 3px 1px rgba(60, 64, 67, 0.15);\n",
              "      fill: #174EA6;\n",
              "    }\n",
              "\n",
              "    .colab-df-buttons div {\n",
              "      margin-bottom: 4px;\n",
              "    }\n",
              "\n",
              "    [theme=dark] .colab-df-convert {\n",
              "      background-color: #3B4455;\n",
              "      fill: #D2E3FC;\n",
              "    }\n",
              "\n",
              "    [theme=dark] .colab-df-convert:hover {\n",
              "      background-color: #434B5C;\n",
              "      box-shadow: 0px 1px 3px 1px rgba(0, 0, 0, 0.15);\n",
              "      filter: drop-shadow(0px 1px 2px rgba(0, 0, 0, 0.3));\n",
              "      fill: #FFFFFF;\n",
              "    }\n",
              "  </style>\n",
              "\n",
              "    <script>\n",
              "      const buttonEl =\n",
              "        document.querySelector('#df-884b3c27-fee6-4d82-ba23-c264e1788f49 button.colab-df-convert');\n",
              "      buttonEl.style.display =\n",
              "        google.colab.kernel.accessAllowed ? 'block' : 'none';\n",
              "\n",
              "      async function convertToInteractive(key) {\n",
              "        const element = document.querySelector('#df-884b3c27-fee6-4d82-ba23-c264e1788f49');\n",
              "        const dataTable =\n",
              "          await google.colab.kernel.invokeFunction('convertToInteractive',\n",
              "                                                    [key], {});\n",
              "        if (!dataTable) return;\n",
              "\n",
              "        const docLinkHtml = 'Like what you see? Visit the ' +\n",
              "          '<a target=\"_blank\" href=https://colab.research.google.com/notebooks/data_table.ipynb>data table notebook</a>'\n",
              "          + ' to learn more about interactive tables.';\n",
              "        element.innerHTML = '';\n",
              "        dataTable['output_type'] = 'display_data';\n",
              "        await google.colab.output.renderOutput(dataTable, element);\n",
              "        const docLink = document.createElement('div');\n",
              "        docLink.innerHTML = docLinkHtml;\n",
              "        element.appendChild(docLink);\n",
              "      }\n",
              "    </script>\n",
              "  </div>\n",
              "\n",
              "\n",
              "    <div id=\"df-79c4b90e-77ed-4417-a7ec-cc5e63d2bd30\">\n",
              "      <button class=\"colab-df-quickchart\" onclick=\"quickchart('df-79c4b90e-77ed-4417-a7ec-cc5e63d2bd30')\"\n",
              "                title=\"Suggest charts\"\n",
              "                style=\"display:none;\">\n",
              "\n",
              "<svg xmlns=\"http://www.w3.org/2000/svg\" height=\"24px\"viewBox=\"0 0 24 24\"\n",
              "     width=\"24px\">\n",
              "    <g>\n",
              "        <path d=\"M19 3H5c-1.1 0-2 .9-2 2v14c0 1.1.9 2 2 2h14c1.1 0 2-.9 2-2V5c0-1.1-.9-2-2-2zM9 17H7v-7h2v7zm4 0h-2V7h2v10zm4 0h-2v-4h2v4z\"/>\n",
              "    </g>\n",
              "</svg>\n",
              "      </button>\n",
              "\n",
              "<style>\n",
              "  .colab-df-quickchart {\n",
              "      --bg-color: #E8F0FE;\n",
              "      --fill-color: #1967D2;\n",
              "      --hover-bg-color: #E2EBFA;\n",
              "      --hover-fill-color: #174EA6;\n",
              "      --disabled-fill-color: #AAA;\n",
              "      --disabled-bg-color: #DDD;\n",
              "  }\n",
              "\n",
              "  [theme=dark] .colab-df-quickchart {\n",
              "      --bg-color: #3B4455;\n",
              "      --fill-color: #D2E3FC;\n",
              "      --hover-bg-color: #434B5C;\n",
              "      --hover-fill-color: #FFFFFF;\n",
              "      --disabled-bg-color: #3B4455;\n",
              "      --disabled-fill-color: #666;\n",
              "  }\n",
              "\n",
              "  .colab-df-quickchart {\n",
              "    background-color: var(--bg-color);\n",
              "    border: none;\n",
              "    border-radius: 50%;\n",
              "    cursor: pointer;\n",
              "    display: none;\n",
              "    fill: var(--fill-color);\n",
              "    height: 32px;\n",
              "    padding: 0;\n",
              "    width: 32px;\n",
              "  }\n",
              "\n",
              "  .colab-df-quickchart:hover {\n",
              "    background-color: var(--hover-bg-color);\n",
              "    box-shadow: 0 1px 2px rgba(60, 64, 67, 0.3), 0 1px 3px 1px rgba(60, 64, 67, 0.15);\n",
              "    fill: var(--button-hover-fill-color);\n",
              "  }\n",
              "\n",
              "  .colab-df-quickchart-complete:disabled,\n",
              "  .colab-df-quickchart-complete:disabled:hover {\n",
              "    background-color: var(--disabled-bg-color);\n",
              "    fill: var(--disabled-fill-color);\n",
              "    box-shadow: none;\n",
              "  }\n",
              "\n",
              "  .colab-df-spinner {\n",
              "    border: 2px solid var(--fill-color);\n",
              "    border-color: transparent;\n",
              "    border-bottom-color: var(--fill-color);\n",
              "    animation:\n",
              "      spin 1s steps(1) infinite;\n",
              "  }\n",
              "\n",
              "  @keyframes spin {\n",
              "    0% {\n",
              "      border-color: transparent;\n",
              "      border-bottom-color: var(--fill-color);\n",
              "      border-left-color: var(--fill-color);\n",
              "    }\n",
              "    20% {\n",
              "      border-color: transparent;\n",
              "      border-left-color: var(--fill-color);\n",
              "      border-top-color: var(--fill-color);\n",
              "    }\n",
              "    30% {\n",
              "      border-color: transparent;\n",
              "      border-left-color: var(--fill-color);\n",
              "      border-top-color: var(--fill-color);\n",
              "      border-right-color: var(--fill-color);\n",
              "    }\n",
              "    40% {\n",
              "      border-color: transparent;\n",
              "      border-right-color: var(--fill-color);\n",
              "      border-top-color: var(--fill-color);\n",
              "    }\n",
              "    60% {\n",
              "      border-color: transparent;\n",
              "      border-right-color: var(--fill-color);\n",
              "    }\n",
              "    80% {\n",
              "      border-color: transparent;\n",
              "      border-right-color: var(--fill-color);\n",
              "      border-bottom-color: var(--fill-color);\n",
              "    }\n",
              "    90% {\n",
              "      border-color: transparent;\n",
              "      border-bottom-color: var(--fill-color);\n",
              "    }\n",
              "  }\n",
              "</style>\n",
              "\n",
              "      <script>\n",
              "        async function quickchart(key) {\n",
              "          const quickchartButtonEl =\n",
              "            document.querySelector('#' + key + ' button');\n",
              "          quickchartButtonEl.disabled = true;  // To prevent multiple clicks.\n",
              "          quickchartButtonEl.classList.add('colab-df-spinner');\n",
              "          try {\n",
              "            const charts = await google.colab.kernel.invokeFunction(\n",
              "                'suggestCharts', [key], {});\n",
              "          } catch (error) {\n",
              "            console.error('Error during call to suggestCharts:', error);\n",
              "          }\n",
              "          quickchartButtonEl.classList.remove('colab-df-spinner');\n",
              "          quickchartButtonEl.classList.add('colab-df-quickchart-complete');\n",
              "        }\n",
              "        (() => {\n",
              "          let quickchartButtonEl =\n",
              "            document.querySelector('#df-79c4b90e-77ed-4417-a7ec-cc5e63d2bd30 button');\n",
              "          quickchartButtonEl.style.display =\n",
              "            google.colab.kernel.accessAllowed ? 'block' : 'none';\n",
              "        })();\n",
              "      </script>\n",
              "    </div>\n",
              "\n",
              "    </div>\n",
              "  </div>\n"
            ],
            "application/vnd.google.colaboratory.intrinsic+json": {
              "type": "dataframe",
              "variable_name": "oo",
              "summary": "{\n  \"name\": \"oo\",\n  \"rows\": 27174,\n  \"fields\": [\n    {\n      \"column\": \"Year\",\n      \"properties\": {\n        \"dtype\": \"number\",\n        \"std\": 31,\n        \"min\": 1896,\n        \"max\": 2004,\n        \"num_unique_values\": 25,\n        \"samples\": [\n          1932,\n          1972,\n          1896\n        ],\n        \"semantic_type\": \"\",\n        \"description\": \"\"\n      }\n    },\n    {\n      \"column\": \"City\",\n      \"properties\": {\n        \"dtype\": \"category\",\n        \"num_unique_values\": 21,\n        \"samples\": [\n          \"Athens\",\n          \"Seoul\",\n          \"Montreal\"\n        ],\n        \"semantic_type\": \"\",\n        \"description\": \"\"\n      }\n    },\n    {\n      \"column\": \"Sport\",\n      \"properties\": {\n        \"dtype\": \"category\",\n        \"num_unique_values\": 42,\n        \"samples\": [\n          \"Rackets\",\n          \"Croquet\",\n          \"Wrestling\"\n        ],\n        \"semantic_type\": \"\",\n        \"description\": \"\"\n      }\n    },\n    {\n      \"column\": \"Discipline\",\n      \"properties\": {\n        \"dtype\": \"category\",\n        \"num_unique_values\": 55,\n        \"samples\": [\n          \"Jeu de Paume\",\n          \"Fencing\",\n          \"Figure skating\"\n        ],\n        \"semantic_type\": \"\",\n        \"description\": \"\"\n      }\n    },\n    {\n      \"column\": \"Athlete Name\",\n      \"properties\": {\n        \"dtype\": \"string\",\n        \"num_unique_values\": 19991,\n        \"samples\": [\n          \"TOMAN, Ladislav\",\n          \"MATTO, Sergio A.\",\n          \"DE WOLF, Nicolaas\"\n        ],\n        \"semantic_type\": \"\",\n        \"description\": \"\"\n      }\n    },\n    {\n      \"column\": \"NOC\",\n      \"properties\": {\n        \"dtype\": \"category\",\n        \"num_unique_values\": 132,\n        \"samples\": [\n          \"VEN\",\n          \"ZIM\",\n          \"SWE\"\n        ],\n        \"semantic_type\": \"\",\n        \"description\": \"\"\n      }\n    },\n    {\n      \"column\": \"Gender\",\n      \"properties\": {\n        \"dtype\": \"category\",\n        \"num_unique_values\": 2,\n        \"samples\": [\n          \"Women\",\n          \"Men\"\n        ],\n        \"semantic_type\": \"\",\n        \"description\": \"\"\n      }\n    },\n    {\n      \"column\": \"Event\",\n      \"properties\": {\n        \"dtype\": \"category\",\n        \"num_unique_values\": 572,\n        \"samples\": [\n          \"- 58 kg\",\n          \"cricket\"\n        ],\n        \"semantic_type\": \"\",\n        \"description\": \"\"\n      }\n    },\n    {\n      \"column\": \"Event Gender\",\n      \"properties\": {\n        \"dtype\": \"category\",\n        \"num_unique_values\": 3,\n        \"samples\": [\n          \"M\",\n          \"X\"\n        ],\n        \"semantic_type\": \"\",\n        \"description\": \"\"\n      }\n    },\n    {\n      \"column\": \"Medal\",\n      \"properties\": {\n        \"dtype\": \"category\",\n        \"num_unique_values\": 3,\n        \"samples\": [\n          \"Gold\",\n          \"Silver\"\n        ],\n        \"semantic_type\": \"\",\n        \"description\": \"\"\n      }\n    }\n  ]\n}"
            }
          },
          "metadata": {},
          "execution_count": 10
        }
      ]
    },
    {
      "cell_type": "code",
      "execution_count": 11,
      "metadata": {
        "id": "tMUM65Bmlknv",
        "outputId": "bb1d5e04-96bc-444e-905c-2328e940ddfa",
        "colab": {
          "base_uri": "https://localhost:8080/",
          "height": 514
        }
      },
      "outputs": [
        {
          "output_type": "stream",
          "name": "stderr",
          "text": [
            "/usr/local/lib/python3.11/dist-packages/google/colab/_reprs.py:217: FutureWarning: Index.format is deprecated and will be removed in a future version. Convert using index.astype(str) or index.map(formatter) instead.\n",
            "  series_as_table_html = series.to_frame()._repr_html_()  # pylint: disable=protected-access\n"
          ]
        },
        {
          "output_type": "execute_result",
          "data": {
            "text/plain": [
              "0             flameng, léon\n",
              "1        kolettis, georgios\n",
              "2             lane, francis\n",
              "3          szokolyi, alajos\n",
              "4             burke, thomas\n",
              "                ...        \n",
              "27169    logounova, tatiana\n",
              "27170         sivkova, anna\n",
              "27171        bokel, claudia\n",
              "27172       duplitzer, imke\n",
              "27173     heidemann, britta\n",
              "Name: Athlete Name, Length: 27174, dtype: object"
            ],
            "text/html": [
              "<div>\n",
              "<style scoped>\n",
              "    .dataframe tbody tr th:only-of-type {\n",
              "        vertical-align: middle;\n",
              "    }\n",
              "\n",
              "    .dataframe tbody tr th {\n",
              "        vertical-align: top;\n",
              "    }\n",
              "\n",
              "    .dataframe thead th {\n",
              "        text-align: right;\n",
              "    }\n",
              "</style>\n",
              "<table border=\"1\" class=\"dataframe\">\n",
              "  <thead>\n",
              "    <tr style=\"text-align: right;\">\n",
              "      <th></th>\n",
              "      <th>Athlete Name</th>\n",
              "    </tr>\n",
              "  </thead>\n",
              "  <tbody>\n",
              "    <tr>\n",
              "      <th>0</th>\n",
              "      <td>flameng, léon</td>\n",
              "    </tr>\n",
              "    <tr>\n",
              "      <th>1</th>\n",
              "      <td>kolettis, georgios</td>\n",
              "    </tr>\n",
              "    <tr>\n",
              "      <th>2</th>\n",
              "      <td>lane, francis</td>\n",
              "    </tr>\n",
              "    <tr>\n",
              "      <th>3</th>\n",
              "      <td>szokolyi, alajos</td>\n",
              "    </tr>\n",
              "    <tr>\n",
              "      <th>4</th>\n",
              "      <td>burke, thomas</td>\n",
              "    </tr>\n",
              "    <tr>\n",
              "      <th>...</th>\n",
              "      <td>...</td>\n",
              "    </tr>\n",
              "    <tr>\n",
              "      <th>27169</th>\n",
              "      <td>logounova, tatiana</td>\n",
              "    </tr>\n",
              "    <tr>\n",
              "      <th>27170</th>\n",
              "      <td>sivkova, anna</td>\n",
              "    </tr>\n",
              "    <tr>\n",
              "      <th>27171</th>\n",
              "      <td>bokel, claudia</td>\n",
              "    </tr>\n",
              "    <tr>\n",
              "      <th>27172</th>\n",
              "      <td>duplitzer, imke</td>\n",
              "    </tr>\n",
              "    <tr>\n",
              "      <th>27173</th>\n",
              "      <td>heidemann, britta</td>\n",
              "    </tr>\n",
              "  </tbody>\n",
              "</table>\n",
              "<p>27174 rows × 1 columns</p>\n",
              "</div><br><label><b>dtype:</b> object</label>"
            ]
          },
          "metadata": {},
          "execution_count": 11
        }
      ],
      "source": [
        "oo[\"Athlete Name\"].str.lower()"
      ]
    },
    {
      "cell_type": "code",
      "execution_count": null,
      "metadata": {
        "id": "GFFRSXU8oTh-"
      },
      "outputs": [],
      "source": [
        "oo.Event.unique()"
      ]
    },
    {
      "cell_type": "code",
      "execution_count": 12,
      "metadata": {
        "id": "0KvKRpO9pVd6",
        "outputId": "83560644-6dd4-42da-8bdb-884000b788e2",
        "colab": {
          "base_uri": "https://localhost:8080/",
          "height": 459
        }
      },
      "outputs": [
        {
          "output_type": "execute_result",
          "data": {
            "text/plain": [
              "0            100km\n",
              "1            100km\n",
              "2             100m\n",
              "3             100m\n",
              "4             100m\n",
              "           ...    \n",
              "27169    Épée team\n",
              "27170    Épée team\n",
              "27171    Épée team\n",
              "27172    Épée team\n",
              "27173    Épée team\n",
              "Name: Event, Length: 27174, dtype: object"
            ],
            "text/html": [
              "<div>\n",
              "<style scoped>\n",
              "    .dataframe tbody tr th:only-of-type {\n",
              "        vertical-align: middle;\n",
              "    }\n",
              "\n",
              "    .dataframe tbody tr th {\n",
              "        vertical-align: top;\n",
              "    }\n",
              "\n",
              "    .dataframe thead th {\n",
              "        text-align: right;\n",
              "    }\n",
              "</style>\n",
              "<table border=\"1\" class=\"dataframe\">\n",
              "  <thead>\n",
              "    <tr style=\"text-align: right;\">\n",
              "      <th></th>\n",
              "      <th>Event</th>\n",
              "    </tr>\n",
              "  </thead>\n",
              "  <tbody>\n",
              "    <tr>\n",
              "      <th>0</th>\n",
              "      <td>100km</td>\n",
              "    </tr>\n",
              "    <tr>\n",
              "      <th>1</th>\n",
              "      <td>100km</td>\n",
              "    </tr>\n",
              "    <tr>\n",
              "      <th>2</th>\n",
              "      <td>100m</td>\n",
              "    </tr>\n",
              "    <tr>\n",
              "      <th>3</th>\n",
              "      <td>100m</td>\n",
              "    </tr>\n",
              "    <tr>\n",
              "      <th>4</th>\n",
              "      <td>100m</td>\n",
              "    </tr>\n",
              "    <tr>\n",
              "      <th>...</th>\n",
              "      <td>...</td>\n",
              "    </tr>\n",
              "    <tr>\n",
              "      <th>27169</th>\n",
              "      <td>Épée team</td>\n",
              "    </tr>\n",
              "    <tr>\n",
              "      <th>27170</th>\n",
              "      <td>Épée team</td>\n",
              "    </tr>\n",
              "    <tr>\n",
              "      <th>27171</th>\n",
              "      <td>Épée team</td>\n",
              "    </tr>\n",
              "    <tr>\n",
              "      <th>27172</th>\n",
              "      <td>Épée team</td>\n",
              "    </tr>\n",
              "    <tr>\n",
              "      <th>27173</th>\n",
              "      <td>Épée team</td>\n",
              "    </tr>\n",
              "  </tbody>\n",
              "</table>\n",
              "<p>27174 rows × 1 columns</p>\n",
              "</div><br><label><b>dtype:</b> object</label>"
            ]
          },
          "metadata": {},
          "execution_count": 12
        }
      ],
      "source": [
        "oo.Event.str.capitalize()"
      ]
    },
    {
      "cell_type": "code",
      "execution_count": 13,
      "metadata": {
        "id": "Mrk9loD6pprs",
        "outputId": "d470cb1f-8ce8-4815-faed-5d5bdf689c78",
        "colab": {
          "base_uri": "https://localhost:8080/"
        }
      },
      "outputs": [
        {
          "output_type": "execute_result",
          "data": {
            "text/plain": [
              "array(['100km', '100m', '100m freestyle', '100m freestyle for sailors',\n",
              "       '10km', '110m hurdles', '12-hour race', '1200m freestyle', '1500m',\n",
              "       '1km time trial', '25m army pistol',\n",
              "       '25m rapid fire pistol (60 shots)', '400m', '400m freestyle',\n",
              "       '50m pistol (60 shots)', '800m', 'Sprint indivual',\n",
              "       'Army rifle, 200m', 'Army rifle, 300m', 'Discus throw', 'Doubles',\n",
              "       'Foil individual', 'Foil, masters', 'Heavyweight - one hand lift',\n",
              "       'Heavyweight - two hand lift', 'High jump', 'Horizontal bar',\n",
              "       'Individual road race', 'Long jump', 'Marathon', 'Open event',\n",
              "       'Parallel bars', 'Pole vault', 'Pommel horse', 'Rings',\n",
              "       'Rope climbing', 'Sabre individual', 'Shot put', 'Singles',\n",
              "       'Team, horizontal bar', 'Team, parallel bars', 'Triple jump',\n",
              "       'Vault', '0.5-1t', '10-20t', '1500m freestyle', '200m',\n",
              "       '200m backstroke', '200m freestyle', '200m hurdles',\n",
              "       '200m obstacle event', '200m team swimming', '25 kilometres',\n",
              "       '3-10t', '3000m steeplechase', '4000m freestyle',\n",
              "       '4000m steeplechase', '400m hurdles', '5000m team',\n",
              "       '50m army pistol, team', '60m', 'Army rifle, 300m, 3 positions',\n",
              "       'Army rifle, 300m, kneeling', 'Army rifle, 300m, prone',\n",
              "       'Army rifle, 300m, standing', 'Au chapelet, 33m',\n",
              "       'Au chapelet, 50m', 'Au cordon doré, 33m', 'Au cordon doré, 50m',\n",
              "       'Cesta punta', 'Cricket', 'Double', 'Eight with coxswain (8+)',\n",
              "       'Football', 'Four-oared shell with coxswain (4-)',\n",
              "       'Free rifle, team', 'Hammer throw', 'High jump, standing',\n",
              "       'Individual', 'Individual 1 ball', 'Individual 2 balls',\n",
              "       'Individual all-round', 'Long jump individual',\n",
              "       'Long jump, standing', 'Mixed doubles', 'Open class',\n",
              "       'Pair-oared shell with coxswain (2+)', 'Polo', 'Rugby',\n",
              "       'Sabre, masters', 'Single sculls (1x)', 'Sur la perche à la herse',\n",
              "       'Sur la perche à la pyramide', 'Trap (125 targets)',\n",
              "       'Triple jump, standing', 'Tug of war', 'Underwater swimming',\n",
              "       'Water polo', 'Épée individual', 'Épée, amateurs and masters',\n",
              "       'Épée, masters', '+ 71.67kg (heavyweight)',\n",
              "       '- 47.63kg (flyweight)', '- 47.6kg (light-flyweight)',\n",
              "       '1 mile (1609.3m)', '1/2 mile (804.7m)', '1/3 mile (536.5m)',\n",
              "       '1/4 mile (402.3m)', '100m backstroke', '10m platform',\n",
              "       '2 miles (3.218km)', '25 miles (40.232km)', '400m breaststroke',\n",
              "       '47.6 - 52.16kg (flyweight)', '47.63 - 52.16kg (bantamweight)',\n",
              "       '4miles team', '4x50y freestyle relay', '5 miles (8.046km)',\n",
              "       '50y freestyle (45.72m)', '52.16 - 56.7kg (bantamweight)',\n",
              "       '52.16 - 56.7kg (featherweight)', '56.7 - 61.23kg (featherweight)',\n",
              "       '56.7 - 61.24kg (lightweight)', '56lb weight throw (25.4kg)',\n",
              "       '61.23 - 65.77kg (lightweight)', '61.24 - 65.77kg (welterweight)',\n",
              "       '65.77 - 71.67kg (middleweight)', '65.77 - 71.67kg (welterweight)',\n",
              "       '880y freestyle (804.66m)', 'All-around dumbbell contest',\n",
              "       'Club swinging', 'Combined 3 events', 'Combined 4 events',\n",
              "       'Coxless pair (2-)', 'Decathlon',\n",
              "       'Double american round (60y - 50y - 40y)',\n",
              "       'Double columbia round (50y - 40y - 30y)',\n",
              "       'Double national round (60y - 50y)', 'Double sculls (2x)',\n",
              "       'Double york round (100y - 80y - 60y)', 'Foil team',\n",
              "       'Four without coxswain (4-)', 'Lacrosse', 'Plunge for distance',\n",
              "       'Stick, single', 'Team', 'Team competition', 'Team round 60y',\n",
              "       'Teams fita round', 'Triathlon (long jump / shot put / 100 yards)',\n",
              "       '+ 73kg (heavyweight)', '+ 93kg (super heavyweight)',\n",
              "       '- 52.62kg (bantamweight)', '- 54kg (bantamweight)',\n",
              "       '- 66.6kg (lightweight)', '1000y free rifle, prone',\n",
              "       '100m running deer, double shots',\n",
              "       '100m running deer, single shots',\n",
              "       '100m running deer, single shots, team', '10miles walk (16093m)',\n",
              "       '12m', '1980 yards pursuit, team', '2000m tandem',\n",
              "       '200m breaststroke', '20km',\n",
              "       '25y small bore rifle, disappearing target',\n",
              "       '25y small bore rifle, moving target',\n",
              "       '300m free rifle 3 positions (3x40 shots)', '3200m steeplechase',\n",
              "       '3500m walk', '3m springboard', '3miles team (4828m)',\n",
              "       '4x200m freestyle relay', '4x400m relay', '5 miles (8047m)',\n",
              "       '50+100y small bore rifle, team', '5000m',\n",
              "       '50m rifle prone (60 shots)', '50y army pistol, team',\n",
              "       '52.62 - 57.15kg (featherweight)', '54 - 60.3kg (featherweight)',\n",
              "       '57.15 - 63.5kg (lightweight)', '60.3 - 66.6kg (lightweight)',\n",
              "       '63.5 - 71.67kg (middleweight)', '66.6 - 73kg (middleweight)',\n",
              "       '6m', '73 - 93kg (light-heavyweight)', '7m', '8m', '8m class c',\n",
              "       'One lap (660y) sprint', 'Class b up to 60 feet',\n",
              "       'Clay pigeons, team', 'Continental style 50m',\n",
              "       'Discus throw ancient style', 'Doubles indoor', 'Hockey',\n",
              "       'Javelin throw', 'Javelin throw freestyle',\n",
              "       'National round (60y - 50y)', 'Open class a', 'Pairs',\n",
              "       'Rifle, team', 'Sabre team', 'Singles indoor', 'Special figures',\n",
              "       'York round (100y - 80y - 60y)', 'Épée team',\n",
              "       '+ 82.5kg (super heavyweight)', '- 60kg (featherweight)', '10000m',\n",
              "       '10000m walk', '10m', '25m small bore rifle, team',\n",
              "       '25m small rifle', '3000m team', '30m army pistol, team',\n",
              "       '4x100m freestyle relay', '4x100m relay',\n",
              "       '50m small bore rifle, team', '60 - 67.5kg (lightweight)',\n",
              "       '600m free rifle', '67.5 - 75kg (middleweight)',\n",
              "       '75 - 82.5kg (light-heavyweight)', 'Individual competition',\n",
              "       'Coxed fours jugriggers', 'Cross country individual',\n",
              "       'Cross country team', 'Discus throw, both hands',\n",
              "       'Individual time trial', 'Javelin throw, both hands',\n",
              "       'Mixed doubles indoor', 'Pentathlon', 'Plain high diving',\n",
              "       'Shot put, both hands', 'Team time trial', 'Team, swedish system',\n",
              "       'Team, free system', '+ 79.38kg (heavyweight)',\n",
              "       '+ 80kg (heavyweight)',\n",
              "       '+ 82.5kg, one-two hand 3 events (heavyweight)',\n",
              "       '+ 82kg (super heavyweight)', '- 50.8kg (flyweight)',\n",
              "       '- 60kg, one-two hand 3 events (featherweight)',\n",
              "       '100m running deer, double shots, team', '10m (rating 1907)',\n",
              "       '10m (rating 1919)', '12 foot dinghy', '12m (rating 1907)',\n",
              "       '12m (rating 1919)', '18 foot dinghy',\n",
              "       '300+600m free rifle, team, prone', '3000m walk',\n",
              "       '300m free rifle, prone, team', '300m free rifle, standing, team',\n",
              "       '30m sq', '40m sq', '50.8 - 53.52kg (bantamweight)', '50km',\n",
              "       '50m small bore rifle, standing, individual',\n",
              "       '53.52 - 57.15kg (featherweight)', '57.15 - 61.24kg (lightweight)',\n",
              "       '6.5m (rating 1919)',\n",
              "       '60 - 67.5kg, one-two hand 3 events (lightweight)',\n",
              "       '600m free rifle, prone', '600m free rifle, team',\n",
              "       '61.24 - 66.68kg (welterweight)', '66.68 - 72.57kg (middleweight)',\n",
              "       '67.5 - 75kg, one-two hand 3 events (middleweight)',\n",
              "       '6m (rating 1907)', '6m (rating 1919)',\n",
              "       '72.57 - 79.38kg (light-heavyweight)',\n",
              "       '75 - 80kg (light-heavyweight)',\n",
              "       '75 - 82.5kg, one-two hand 3 e. (light-heavyweight)',\n",
              "       '75 - 82kg (light-heavyweight)', '8m (rating 1907)',\n",
              "       '8m (rating 1919)', 'Team pursuit (4000m)',\n",
              "       'Figure riding individual', 'Figure riding team',\n",
              "       'Fixed bird target large birds',\n",
              "       'Fixed bird target large birds teams',\n",
              "       'Fixed bird target small bird, teams',\n",
              "       'Fixed bird target small birds', 'Ice hockey',\n",
              "       'Moving bird target 28m teams', 'Moving bird target 33m teams',\n",
              "       'Moving bird target 50m teams', 'Moving bird target, 28m',\n",
              "       'Moving bird target, 33m', 'Moving bird target, 50m',\n",
              "       '+ 82.5kg, one-two hand 5 events (heavyweight)',\n",
              "       '+ 87kg (heavyweight)', '- 56kg (bantamweight)',\n",
              "       '- 58kg (bantamweight)',\n",
              "       '- 60kg, one-two hand 5 events (featherweight)',\n",
              "       '400, 600, 800m free rifle, team', '56 - 61kg (featherweight)',\n",
              "       '58 - 62kg (featherweight)',\n",
              "       '60 - 67.5kg, one-two hand 5 events (lightweight)',\n",
              "       '600m free rifle, individual', '61 - 66kg (lightweight)',\n",
              "       '62 - 67.5kg (lightweight)', '66 - 72kg (welterweight)',\n",
              "       '67.5 - 75kg, one-two hand 5 events (middleweight)',\n",
              "       '72 - 79kg (middleweight)',\n",
              "       '75 - 82.5kg, one-two hand 5 e. (light-heavyweight)',\n",
              "       '79 - 87kg (light-heavyweight)', 'Sidehorse vault',\n",
              "       'Olympic class monotype', '+ 82.5kg, total (heavyweight)',\n",
              "       '- 60kg, total (featherweight)', '12 foot dinghy individual',\n",
              "       '1km pursuit', '58 - 60kg (featherweight)',\n",
              "       '60 - 67.5kg, total (lightweight)',\n",
              "       '67.5 - 75kg, total (middleweight)',\n",
              "       '75 - 82.5kg, total (light-heavyweight)',\n",
              "       '+ 87kg (super heavyweight)', '50.8 - 54kg (bantamweight)',\n",
              "       '50km walk', '54 - 57.15kg (featherweight)', '80m hurdles',\n",
              "       'Floor exercises', 'Indian clubs', 'Tumbling',\n",
              "       'Two-person keelboat open (star)', 'C-1 1000m (canoe single)',\n",
              "       'C-2 10000m', 'C-2 1000m (canoe double)', 'K-1 10000m',\n",
              "       'K-1 1000m (kayak single)', 'K-2 10000m',\n",
              "       'K-2 1000m (kayak double)', 'Basketball', 'Folding k-1 10000m',\n",
              "       'Folding k-2 10000m', 'Handball', '- 51kg (flyweight)',\n",
              "       '- 52kg (flyweight)', '- 56kg, total (bantamweight)',\n",
              "       '51 - 54kg (bantamweight)', '52 - 57kg (bantamweight)',\n",
              "       '54 - 58kg (featherweight)', '56 - 60kg, total (featherweight)',\n",
              "       '57 - 61kg (featherweight)', '57 - 63kg (featherweight)',\n",
              "       '58 - 62kg (lightweight)', '61 - 67kg (lightweight)',\n",
              "       '62 - 67kg (welterweight)', '63 - 67kg (lightweight)',\n",
              "       '67 - 73kg (middleweight)', '67 - 73kg (welterweight)',\n",
              "       '73 - 79kg (middleweight)', '73 - 80kg (light-heavyweight)',\n",
              "       'C-1 10000m', 'K-1 500m (kayak single)', 'Dragon', 'Firefly class',\n",
              "       'Swallow (golondrina)', '+ 81kg (heavyweight)',\n",
              "       '+ 90kg, total (heavyweight)',\n",
              "       '100m running deer, single/double shots', '5.5m',\n",
              "       '50m rifle 3 positions (3x40 shots)', '54 - 57kg (featherweight)',\n",
              "       '57 - 60kg (lightweight)', '60 - 63.5kg (light-welterweight)',\n",
              "       '63.5 - 67kg (welterweight)', '67 - 71kg (light-middleweight)',\n",
              "       '71-75kg', '75 - 81kg (light-heavyweight)',\n",
              "       '82.5 - 90kg, total (middle-heavyweight)', 'Balance beam',\n",
              "       'Single-handed dinghy (finn)', 'Team, portable apparatus',\n",
              "       'Uneven bars', '100m butterfly', '200m butterfly', '20km walk',\n",
              "       'Sharpie 12m2', '4x100m medley relay', 'K-1 4x500m',\n",
              "       'K-2 500m (kayak double)', 'Flying dutchman',\n",
              "       '+ 97kg (heavyweight)', '+ 97kg (super heavyweight)',\n",
              "       '- 68kg (lightweight)', '400m individual medley',\n",
              "       '63 - 70kg (lightweight)', '68 - 80kg (middleweight)',\n",
              "       '70 - 78kg (welterweight)', '78 - 87kg (middleweight)',\n",
              "       '87 - 97kg (light-heavyweight)', 'Individual pursuit',\n",
              "       'K-4 1000m (kayak four)', 'Open category', 'Volleyball',\n",
              "       '- 48kg (light-flyweight)', '100m breaststroke',\n",
              "       '200m individual medley', '48 - 51kg (flyweight)',\n",
              "       '800m freestyle', 'Skeet (125 targets)',\n",
              "       '+ 100kg (super heavyweight)',\n",
              "       '+ 110kg, total (super heavyweight)', '+ 93kg (heavyweight)',\n",
              "       '- 52kg, total (flyweight)', '- 63kg (lightweight)',\n",
              "       '100m hurdles', '48 - 52kg (flyweight)',\n",
              "       '50m running target (30+30 shots)',\n",
              "       '52 - 56kg, total (bantamweight)', '57 - 62kg (featherweight)',\n",
              "       '62 - 68kg (lightweight)', '63 - 70kg (half-middleweight)',\n",
              "       '68 - 74kg (welterweight)', '70 - 80kg (middleweight)',\n",
              "       '74 - 82kg (middleweight)', '80 - 93kg (half-heavyweight)',\n",
              "       '82 - 90kg (light-heavyweight)', '90 - 100kg (heavyweight)',\n",
              "       '91 - 110kg, total (heavyweight)', 'C-1 (canoe single)',\n",
              "       'C-2 (canoe double)', 'K-1 (kayak single)',\n",
              "       'Fleet/match race keelboat open (soling)', 'Individual fita round',\n",
              "       'Tempest', '470 - two person dinghy', 'C-1 500m (canoe single)',\n",
              "       'C-2 500m (canoe double)', 'Tornado - multihull',\n",
              "       'Pair without coxswain (2-)',\n",
              "       'Quadruple sculls with coxswain (4x)',\n",
              "       'Quadruple sculls without coxswain (4x)', '+ 95kg (heavyweight)',\n",
              "       '- 60 kg', '100 - 110kg, total (heavyweight)',\n",
              "       '60 - 65kg (half-lightweight)', '65 - 71kg (lightweight)',\n",
              "       '71 - 78kg (half-middleweight)', '78 - 86kg (middleweight)',\n",
              "       '86 - 95kg (half-heavyweight)',\n",
              "       '90 - 100kg, total (first-heavyweight)',\n",
              "       '+ 91kg (super heavyweight)', '10m air rifle (40 shots)',\n",
              "       '10m air rifle (60 shots)', '25m pistol (30+30 shots)', '3000m',\n",
              "       '50m rifle 3 positions (3x20 shots)', '81 - 91kg (heavyweight)',\n",
              "       'K-4 500m (kayak four)', 'Points race', 'Board (windglider)',\n",
              "       'Duet', 'Heptathlon', 'Solo', '100 - 130kg (super heavyweight)',\n",
              "       '10m air pistol (40 shots)', '10m air pistol (60 shots)',\n",
              "       '50m freestyle', 'Board (division ii)', 'Sprint',\n",
              "       '+ 72kg (heavyweight)', '- 48kg (extra-lightweight)',\n",
              "       '48 - 52kg (half-lightweight)', '52 - 56kg (lightweight)',\n",
              "       '56 - 61kg (half-middleweight)', '61 - 66kg (middleweight)',\n",
              "       '66 - 72kg (half-heavyweight)', 'Baseball', 'Board (lechner)',\n",
              "       'Coxless four (4-)', 'Individual (fita olympic round - 70m)',\n",
              "       'Single-handed dinghy (europe)', 'Team (fita olympic round - 70m)',\n",
              "       '+ 100kg (heavyweight)', '+ 108kg, total (super heavyweight)',\n",
              "       '- 54kg, total (flyweight)', '54 - 59kg, total (bantamweight)',\n",
              "       '59 - 64kg, total (featherweight)', '60 - 66kg (half-lightweight)',\n",
              "       '64 - 70kg, total (lightweight)', '66 - 73kg (lightweight)',\n",
              "       '70 - 76kg, total (middleweight)', '73 - 81kg (half-middleweight)',\n",
              "       '76 - 83kg, total (light-heavyweight)', '81 - 90kg (middleweight)',\n",
              "       '83 - 91kg, total (middle-heavyweight)',\n",
              "       '90 - 100kg (half-heavyweight)',\n",
              "       '91 - 99kg, total (first-heavyweight)',\n",
              "       '99 - 108kg, total (heavyweight)', 'Beach volleyball',\n",
              "       'Board (mistral)', 'Cross-country', 'Double trap (120 targets)',\n",
              "       'Double trap (150 targets)', 'Group competition',\n",
              "       'Lightweight coxless four (4-)', 'Lightweight double sculls (2x)',\n",
              "       'Single-handed dinghy open (laser)', 'Softball', '+ 105kg',\n",
              "       '+ 67 kg', '+ 75kg', '+ 78kg (heavyweight)', '+ 80 kg', '- 49 kg',\n",
              "       '- 58 kg', '105kg', '10m running target (30+30 shots)',\n",
              "       '20km race walk', '48 - 54kg', '48kg', '49 - 57 kg',\n",
              "       '49er - skiff', '500m time trial', '52 - 57kg (lightweight)',\n",
              "       '53kg', '54 - 58kg', '56kg', '57 - 63kg (half-middleweight)',\n",
              "       '57 - 67 kg', '58 - 63kg', '58 - 68 kg', '58kg', '62kg',\n",
              "       '63 - 69kg', '63 - 70kg (middleweight)', '63kg', '68 - 80 kg',\n",
              "       '69 - 76kg', '69kg', '70 - 78kg (half-heavyweight)', '75kg',\n",
              "       '76 - 85kg', '77kg', '85 - 97kg', '85kg', '94kg', '97 - 130kg',\n",
              "       'Keirin', 'Madison', 'Olympic sprint', 'Skeet (75 targets)',\n",
              "       'Synchronized diving 10m platform',\n",
              "       'Synchronized diving 3m springboard', 'Trap (75 targets)',\n",
              "       '- 48 kg', '- 48kg', '- 55kg', '48 - 55kg',\n",
              "       '48kg (light flywieght)', '55 - 60kg', '55 - 63kg', '60 - 64 kg',\n",
              "       '60 - 66kg', '63 - 72kg', '64 - 69 kg', '66 - 74kg', '69 - 75 kg',\n",
              "       '74 - 84kg', '84 - 96kg', '96 - 120kg', 'Star - keelboat',\n",
              "       'Team sprint', 'Yngling - keelboat'], dtype=object)"
            ]
          },
          "metadata": {},
          "execution_count": 13
        }
      ],
      "source": [
        "oo.Event = oo.Event.str.capitalize()\n",
        "oo.Event.unique()"
      ]
    },
    {
      "cell_type": "code",
      "source": [
        "dir(oo.Event.str)"
      ],
      "metadata": {
        "id": "SoySwvn3e7fQ"
      },
      "execution_count": null,
      "outputs": []
    },
    {
      "cell_type": "code",
      "execution_count": 14,
      "metadata": {
        "id": "ljwZKwEKp4C9",
        "outputId": "797e46b7-543c-4725-b912-186e2d0afdaa",
        "colab": {
          "base_uri": "https://localhost:8080/",
          "height": 459
        }
      },
      "outputs": [
        {
          "output_type": "execute_result",
          "data": {
            "text/plain": [
              "0        False\n",
              "1        False\n",
              "2        False\n",
              "3        False\n",
              "4        False\n",
              "         ...  \n",
              "27169    False\n",
              "27170    False\n",
              "27171    False\n",
              "27172    False\n",
              "27173    False\n",
              "Name: Athlete Name, Length: 27174, dtype: bool"
            ],
            "text/html": [
              "<div>\n",
              "<style scoped>\n",
              "    .dataframe tbody tr th:only-of-type {\n",
              "        vertical-align: middle;\n",
              "    }\n",
              "\n",
              "    .dataframe tbody tr th {\n",
              "        vertical-align: top;\n",
              "    }\n",
              "\n",
              "    .dataframe thead th {\n",
              "        text-align: right;\n",
              "    }\n",
              "</style>\n",
              "<table border=\"1\" class=\"dataframe\">\n",
              "  <thead>\n",
              "    <tr style=\"text-align: right;\">\n",
              "      <th></th>\n",
              "      <th>Athlete Name</th>\n",
              "    </tr>\n",
              "  </thead>\n",
              "  <tbody>\n",
              "    <tr>\n",
              "      <th>0</th>\n",
              "      <td>False</td>\n",
              "    </tr>\n",
              "    <tr>\n",
              "      <th>1</th>\n",
              "      <td>False</td>\n",
              "    </tr>\n",
              "    <tr>\n",
              "      <th>2</th>\n",
              "      <td>False</td>\n",
              "    </tr>\n",
              "    <tr>\n",
              "      <th>3</th>\n",
              "      <td>False</td>\n",
              "    </tr>\n",
              "    <tr>\n",
              "      <th>4</th>\n",
              "      <td>False</td>\n",
              "    </tr>\n",
              "    <tr>\n",
              "      <th>...</th>\n",
              "      <td>...</td>\n",
              "    </tr>\n",
              "    <tr>\n",
              "      <th>27169</th>\n",
              "      <td>False</td>\n",
              "    </tr>\n",
              "    <tr>\n",
              "      <th>27170</th>\n",
              "      <td>False</td>\n",
              "    </tr>\n",
              "    <tr>\n",
              "      <th>27171</th>\n",
              "      <td>False</td>\n",
              "    </tr>\n",
              "    <tr>\n",
              "      <th>27172</th>\n",
              "      <td>False</td>\n",
              "    </tr>\n",
              "    <tr>\n",
              "      <th>27173</th>\n",
              "      <td>False</td>\n",
              "    </tr>\n",
              "  </tbody>\n",
              "</table>\n",
              "<p>27174 rows × 1 columns</p>\n",
              "</div><br><label><b>dtype:</b> bool</label>"
            ]
          },
          "metadata": {},
          "execution_count": 14
        }
      ],
      "source": [
        "oo[\"Athlete Name\"].str.contains(\"Latynina\")"
      ]
    },
    {
      "cell_type": "code",
      "execution_count": null,
      "metadata": {
        "id": "9jxM-wfXqBlg"
      },
      "outputs": [],
      "source": [
        "# Larisa Latynina - most decorated Female athlete\n",
        "oo[oo[\"Athlete Name\"].str.contains(\"Latynina\")]"
      ]
    },
    {
      "cell_type": "code",
      "execution_count": 15,
      "metadata": {
        "id": "RE5DJK7pt-eW",
        "outputId": "1f365884-0c22-472c-a4cb-696dcd729b24",
        "colab": {
          "base_uri": "https://localhost:8080/",
          "height": 1000
        }
      },
      "outputs": [
        {
          "output_type": "stream",
          "name": "stderr",
          "text": [
            "/usr/local/lib/python3.11/dist-packages/google/colab/_interactive_table_hint_button.py:178: FutureWarning: Index.format is deprecated and will be removed in a future version. Convert using index.astype(str) or index.map(formatter) instead.\n",
            "  df_html=dataframe._repr_html_(),  # pylint: disable=protected-access\n"
          ]
        },
        {
          "output_type": "execute_result",
          "data": {
            "text/plain": [
              "       Year                   City       Sport   Discipline      Athlete Name  \\\n",
              "9372   1956  Melbourne / Stockholm  Gymnastics  Artistic G.  LATYNINA, Larisa   \n",
              "9539   1956  Melbourne / Stockholm  Gymnastics  Artistic G.  LATYNINA, Larisa   \n",
              "9679   1956  Melbourne / Stockholm  Gymnastics  Artistic G.  LATYNINA, Larisa   \n",
              "9702   1956  Melbourne / Stockholm  Gymnastics  Artistic G.  LATYNINA, Larisa   \n",
              "9735   1956  Melbourne / Stockholm  Gymnastics  Artistic G.  LATYNINA, Larisa   \n",
              "9741   1956  Melbourne / Stockholm  Gymnastics  Artistic G.  LATYNINA, Larisa   \n",
              "10179  1960                   Rome  Gymnastics  Artistic G.  LATYNINA, Larisa   \n",
              "10277  1960                   Rome  Gymnastics  Artistic G.  LATYNINA, Larisa   \n",
              "10458  1960                   Rome  Gymnastics  Artistic G.  LATYNINA, Larisa   \n",
              "10576  1960                   Rome  Gymnastics  Artistic G.  LATYNINA, Larisa   \n",
              "10612  1960                   Rome  Gymnastics  Artistic G.  LATYNINA, Larisa   \n",
              "10616  1960                   Rome  Gymnastics  Artistic G.  LATYNINA, Larisa   \n",
              "11095  1964                  Tokyo  Gymnastics  Artistic G.  LATYNINA, Larisa   \n",
              "11195  1964                  Tokyo  Gymnastics  Artistic G.  LATYNINA, Larisa   \n",
              "11387  1964                  Tokyo  Gymnastics  Artistic G.  LATYNINA, Larisa   \n",
              "11517  1964                  Tokyo  Gymnastics  Artistic G.  LATYNINA, Larisa   \n",
              "11551  1964                  Tokyo  Gymnastics  Artistic G.  LATYNINA, Larisa   \n",
              "11558  1964                  Tokyo  Gymnastics  Artistic G.  LATYNINA, Larisa   \n",
              "\n",
              "       NOC Gender                     Event Event Gender   Medal  \n",
              "9372   URS  Women           Floor exercises            W    Gold  \n",
              "9539   URS  Women      Individual all-round            W    Gold  \n",
              "9679   URS  Women          Team competition            W    Gold  \n",
              "9702   URS  Women  Team, portable apparatus            W  Bronze  \n",
              "9735   URS  Women               Uneven bars            W  Silver  \n",
              "9741   URS  Women                     Vault            W    Gold  \n",
              "10179  URS  Women              Balance beam            W  Silver  \n",
              "10277  URS  Women           Floor exercises            W    Gold  \n",
              "10458  URS  Women      Individual all-round            W    Gold  \n",
              "10576  URS  Women          Team competition            W    Gold  \n",
              "10612  URS  Women               Uneven bars            W  Silver  \n",
              "10616  URS  Women                     Vault            W  Bronze  \n",
              "11095  URS  Women              Balance beam            W  Bronze  \n",
              "11195  URS  Women           Floor exercises            W    Gold  \n",
              "11387  URS  Women      Individual all-round            W  Silver  \n",
              "11517  URS  Women          Team competition            W    Gold  \n",
              "11551  URS  Women               Uneven bars            W  Bronze  \n",
              "11558  URS  Women                     Vault            W  Silver  "
            ],
            "text/html": [
              "\n",
              "  <div id=\"df-1ff95a76-5295-47e8-89e4-1de589d29f15\" class=\"colab-df-container\">\n",
              "    <div>\n",
              "<style scoped>\n",
              "    .dataframe tbody tr th:only-of-type {\n",
              "        vertical-align: middle;\n",
              "    }\n",
              "\n",
              "    .dataframe tbody tr th {\n",
              "        vertical-align: top;\n",
              "    }\n",
              "\n",
              "    .dataframe thead th {\n",
              "        text-align: right;\n",
              "    }\n",
              "</style>\n",
              "<table border=\"1\" class=\"dataframe\">\n",
              "  <thead>\n",
              "    <tr style=\"text-align: right;\">\n",
              "      <th></th>\n",
              "      <th>Year</th>\n",
              "      <th>City</th>\n",
              "      <th>Sport</th>\n",
              "      <th>Discipline</th>\n",
              "      <th>Athlete Name</th>\n",
              "      <th>NOC</th>\n",
              "      <th>Gender</th>\n",
              "      <th>Event</th>\n",
              "      <th>Event Gender</th>\n",
              "      <th>Medal</th>\n",
              "    </tr>\n",
              "  </thead>\n",
              "  <tbody>\n",
              "    <tr>\n",
              "      <th>9372</th>\n",
              "      <td>1956</td>\n",
              "      <td>Melbourne / Stockholm</td>\n",
              "      <td>Gymnastics</td>\n",
              "      <td>Artistic G.</td>\n",
              "      <td>LATYNINA, Larisa</td>\n",
              "      <td>URS</td>\n",
              "      <td>Women</td>\n",
              "      <td>Floor exercises</td>\n",
              "      <td>W</td>\n",
              "      <td>Gold</td>\n",
              "    </tr>\n",
              "    <tr>\n",
              "      <th>9539</th>\n",
              "      <td>1956</td>\n",
              "      <td>Melbourne / Stockholm</td>\n",
              "      <td>Gymnastics</td>\n",
              "      <td>Artistic G.</td>\n",
              "      <td>LATYNINA, Larisa</td>\n",
              "      <td>URS</td>\n",
              "      <td>Women</td>\n",
              "      <td>Individual all-round</td>\n",
              "      <td>W</td>\n",
              "      <td>Gold</td>\n",
              "    </tr>\n",
              "    <tr>\n",
              "      <th>9679</th>\n",
              "      <td>1956</td>\n",
              "      <td>Melbourne / Stockholm</td>\n",
              "      <td>Gymnastics</td>\n",
              "      <td>Artistic G.</td>\n",
              "      <td>LATYNINA, Larisa</td>\n",
              "      <td>URS</td>\n",
              "      <td>Women</td>\n",
              "      <td>Team competition</td>\n",
              "      <td>W</td>\n",
              "      <td>Gold</td>\n",
              "    </tr>\n",
              "    <tr>\n",
              "      <th>9702</th>\n",
              "      <td>1956</td>\n",
              "      <td>Melbourne / Stockholm</td>\n",
              "      <td>Gymnastics</td>\n",
              "      <td>Artistic G.</td>\n",
              "      <td>LATYNINA, Larisa</td>\n",
              "      <td>URS</td>\n",
              "      <td>Women</td>\n",
              "      <td>Team, portable apparatus</td>\n",
              "      <td>W</td>\n",
              "      <td>Bronze</td>\n",
              "    </tr>\n",
              "    <tr>\n",
              "      <th>9735</th>\n",
              "      <td>1956</td>\n",
              "      <td>Melbourne / Stockholm</td>\n",
              "      <td>Gymnastics</td>\n",
              "      <td>Artistic G.</td>\n",
              "      <td>LATYNINA, Larisa</td>\n",
              "      <td>URS</td>\n",
              "      <td>Women</td>\n",
              "      <td>Uneven bars</td>\n",
              "      <td>W</td>\n",
              "      <td>Silver</td>\n",
              "    </tr>\n",
              "    <tr>\n",
              "      <th>9741</th>\n",
              "      <td>1956</td>\n",
              "      <td>Melbourne / Stockholm</td>\n",
              "      <td>Gymnastics</td>\n",
              "      <td>Artistic G.</td>\n",
              "      <td>LATYNINA, Larisa</td>\n",
              "      <td>URS</td>\n",
              "      <td>Women</td>\n",
              "      <td>Vault</td>\n",
              "      <td>W</td>\n",
              "      <td>Gold</td>\n",
              "    </tr>\n",
              "    <tr>\n",
              "      <th>10179</th>\n",
              "      <td>1960</td>\n",
              "      <td>Rome</td>\n",
              "      <td>Gymnastics</td>\n",
              "      <td>Artistic G.</td>\n",
              "      <td>LATYNINA, Larisa</td>\n",
              "      <td>URS</td>\n",
              "      <td>Women</td>\n",
              "      <td>Balance beam</td>\n",
              "      <td>W</td>\n",
              "      <td>Silver</td>\n",
              "    </tr>\n",
              "    <tr>\n",
              "      <th>10277</th>\n",
              "      <td>1960</td>\n",
              "      <td>Rome</td>\n",
              "      <td>Gymnastics</td>\n",
              "      <td>Artistic G.</td>\n",
              "      <td>LATYNINA, Larisa</td>\n",
              "      <td>URS</td>\n",
              "      <td>Women</td>\n",
              "      <td>Floor exercises</td>\n",
              "      <td>W</td>\n",
              "      <td>Gold</td>\n",
              "    </tr>\n",
              "    <tr>\n",
              "      <th>10458</th>\n",
              "      <td>1960</td>\n",
              "      <td>Rome</td>\n",
              "      <td>Gymnastics</td>\n",
              "      <td>Artistic G.</td>\n",
              "      <td>LATYNINA, Larisa</td>\n",
              "      <td>URS</td>\n",
              "      <td>Women</td>\n",
              "      <td>Individual all-round</td>\n",
              "      <td>W</td>\n",
              "      <td>Gold</td>\n",
              "    </tr>\n",
              "    <tr>\n",
              "      <th>10576</th>\n",
              "      <td>1960</td>\n",
              "      <td>Rome</td>\n",
              "      <td>Gymnastics</td>\n",
              "      <td>Artistic G.</td>\n",
              "      <td>LATYNINA, Larisa</td>\n",
              "      <td>URS</td>\n",
              "      <td>Women</td>\n",
              "      <td>Team competition</td>\n",
              "      <td>W</td>\n",
              "      <td>Gold</td>\n",
              "    </tr>\n",
              "    <tr>\n",
              "      <th>10612</th>\n",
              "      <td>1960</td>\n",
              "      <td>Rome</td>\n",
              "      <td>Gymnastics</td>\n",
              "      <td>Artistic G.</td>\n",
              "      <td>LATYNINA, Larisa</td>\n",
              "      <td>URS</td>\n",
              "      <td>Women</td>\n",
              "      <td>Uneven bars</td>\n",
              "      <td>W</td>\n",
              "      <td>Silver</td>\n",
              "    </tr>\n",
              "    <tr>\n",
              "      <th>10616</th>\n",
              "      <td>1960</td>\n",
              "      <td>Rome</td>\n",
              "      <td>Gymnastics</td>\n",
              "      <td>Artistic G.</td>\n",
              "      <td>LATYNINA, Larisa</td>\n",
              "      <td>URS</td>\n",
              "      <td>Women</td>\n",
              "      <td>Vault</td>\n",
              "      <td>W</td>\n",
              "      <td>Bronze</td>\n",
              "    </tr>\n",
              "    <tr>\n",
              "      <th>11095</th>\n",
              "      <td>1964</td>\n",
              "      <td>Tokyo</td>\n",
              "      <td>Gymnastics</td>\n",
              "      <td>Artistic G.</td>\n",
              "      <td>LATYNINA, Larisa</td>\n",
              "      <td>URS</td>\n",
              "      <td>Women</td>\n",
              "      <td>Balance beam</td>\n",
              "      <td>W</td>\n",
              "      <td>Bronze</td>\n",
              "    </tr>\n",
              "    <tr>\n",
              "      <th>11195</th>\n",
              "      <td>1964</td>\n",
              "      <td>Tokyo</td>\n",
              "      <td>Gymnastics</td>\n",
              "      <td>Artistic G.</td>\n",
              "      <td>LATYNINA, Larisa</td>\n",
              "      <td>URS</td>\n",
              "      <td>Women</td>\n",
              "      <td>Floor exercises</td>\n",
              "      <td>W</td>\n",
              "      <td>Gold</td>\n",
              "    </tr>\n",
              "    <tr>\n",
              "      <th>11387</th>\n",
              "      <td>1964</td>\n",
              "      <td>Tokyo</td>\n",
              "      <td>Gymnastics</td>\n",
              "      <td>Artistic G.</td>\n",
              "      <td>LATYNINA, Larisa</td>\n",
              "      <td>URS</td>\n",
              "      <td>Women</td>\n",
              "      <td>Individual all-round</td>\n",
              "      <td>W</td>\n",
              "      <td>Silver</td>\n",
              "    </tr>\n",
              "    <tr>\n",
              "      <th>11517</th>\n",
              "      <td>1964</td>\n",
              "      <td>Tokyo</td>\n",
              "      <td>Gymnastics</td>\n",
              "      <td>Artistic G.</td>\n",
              "      <td>LATYNINA, Larisa</td>\n",
              "      <td>URS</td>\n",
              "      <td>Women</td>\n",
              "      <td>Team competition</td>\n",
              "      <td>W</td>\n",
              "      <td>Gold</td>\n",
              "    </tr>\n",
              "    <tr>\n",
              "      <th>11551</th>\n",
              "      <td>1964</td>\n",
              "      <td>Tokyo</td>\n",
              "      <td>Gymnastics</td>\n",
              "      <td>Artistic G.</td>\n",
              "      <td>LATYNINA, Larisa</td>\n",
              "      <td>URS</td>\n",
              "      <td>Women</td>\n",
              "      <td>Uneven bars</td>\n",
              "      <td>W</td>\n",
              "      <td>Bronze</td>\n",
              "    </tr>\n",
              "    <tr>\n",
              "      <th>11558</th>\n",
              "      <td>1964</td>\n",
              "      <td>Tokyo</td>\n",
              "      <td>Gymnastics</td>\n",
              "      <td>Artistic G.</td>\n",
              "      <td>LATYNINA, Larisa</td>\n",
              "      <td>URS</td>\n",
              "      <td>Women</td>\n",
              "      <td>Vault</td>\n",
              "      <td>W</td>\n",
              "      <td>Silver</td>\n",
              "    </tr>\n",
              "  </tbody>\n",
              "</table>\n",
              "</div>\n",
              "    <div class=\"colab-df-buttons\">\n",
              "\n",
              "  <div class=\"colab-df-container\">\n",
              "    <button class=\"colab-df-convert\" onclick=\"convertToInteractive('df-1ff95a76-5295-47e8-89e4-1de589d29f15')\"\n",
              "            title=\"Convert this dataframe to an interactive table.\"\n",
              "            style=\"display:none;\">\n",
              "\n",
              "  <svg xmlns=\"http://www.w3.org/2000/svg\" height=\"24px\" viewBox=\"0 -960 960 960\">\n",
              "    <path d=\"M120-120v-720h720v720H120Zm60-500h600v-160H180v160Zm220 220h160v-160H400v160Zm0 220h160v-160H400v160ZM180-400h160v-160H180v160Zm440 0h160v-160H620v160ZM180-180h160v-160H180v160Zm440 0h160v-160H620v160Z\"/>\n",
              "  </svg>\n",
              "    </button>\n",
              "\n",
              "  <style>\n",
              "    .colab-df-container {\n",
              "      display:flex;\n",
              "      gap: 12px;\n",
              "    }\n",
              "\n",
              "    .colab-df-convert {\n",
              "      background-color: #E8F0FE;\n",
              "      border: none;\n",
              "      border-radius: 50%;\n",
              "      cursor: pointer;\n",
              "      display: none;\n",
              "      fill: #1967D2;\n",
              "      height: 32px;\n",
              "      padding: 0 0 0 0;\n",
              "      width: 32px;\n",
              "    }\n",
              "\n",
              "    .colab-df-convert:hover {\n",
              "      background-color: #E2EBFA;\n",
              "      box-shadow: 0px 1px 2px rgba(60, 64, 67, 0.3), 0px 1px 3px 1px rgba(60, 64, 67, 0.15);\n",
              "      fill: #174EA6;\n",
              "    }\n",
              "\n",
              "    .colab-df-buttons div {\n",
              "      margin-bottom: 4px;\n",
              "    }\n",
              "\n",
              "    [theme=dark] .colab-df-convert {\n",
              "      background-color: #3B4455;\n",
              "      fill: #D2E3FC;\n",
              "    }\n",
              "\n",
              "    [theme=dark] .colab-df-convert:hover {\n",
              "      background-color: #434B5C;\n",
              "      box-shadow: 0px 1px 3px 1px rgba(0, 0, 0, 0.15);\n",
              "      filter: drop-shadow(0px 1px 2px rgba(0, 0, 0, 0.3));\n",
              "      fill: #FFFFFF;\n",
              "    }\n",
              "  </style>\n",
              "\n",
              "    <script>\n",
              "      const buttonEl =\n",
              "        document.querySelector('#df-1ff95a76-5295-47e8-89e4-1de589d29f15 button.colab-df-convert');\n",
              "      buttonEl.style.display =\n",
              "        google.colab.kernel.accessAllowed ? 'block' : 'none';\n",
              "\n",
              "      async function convertToInteractive(key) {\n",
              "        const element = document.querySelector('#df-1ff95a76-5295-47e8-89e4-1de589d29f15');\n",
              "        const dataTable =\n",
              "          await google.colab.kernel.invokeFunction('convertToInteractive',\n",
              "                                                    [key], {});\n",
              "        if (!dataTable) return;\n",
              "\n",
              "        const docLinkHtml = 'Like what you see? Visit the ' +\n",
              "          '<a target=\"_blank\" href=https://colab.research.google.com/notebooks/data_table.ipynb>data table notebook</a>'\n",
              "          + ' to learn more about interactive tables.';\n",
              "        element.innerHTML = '';\n",
              "        dataTable['output_type'] = 'display_data';\n",
              "        await google.colab.output.renderOutput(dataTable, element);\n",
              "        const docLink = document.createElement('div');\n",
              "        docLink.innerHTML = docLinkHtml;\n",
              "        element.appendChild(docLink);\n",
              "      }\n",
              "    </script>\n",
              "  </div>\n",
              "\n",
              "\n",
              "    <div id=\"df-0a2802e7-1991-42d4-a8ca-6e311012752e\">\n",
              "      <button class=\"colab-df-quickchart\" onclick=\"quickchart('df-0a2802e7-1991-42d4-a8ca-6e311012752e')\"\n",
              "                title=\"Suggest charts\"\n",
              "                style=\"display:none;\">\n",
              "\n",
              "<svg xmlns=\"http://www.w3.org/2000/svg\" height=\"24px\"viewBox=\"0 0 24 24\"\n",
              "     width=\"24px\">\n",
              "    <g>\n",
              "        <path d=\"M19 3H5c-1.1 0-2 .9-2 2v14c0 1.1.9 2 2 2h14c1.1 0 2-.9 2-2V5c0-1.1-.9-2-2-2zM9 17H7v-7h2v7zm4 0h-2V7h2v10zm4 0h-2v-4h2v4z\"/>\n",
              "    </g>\n",
              "</svg>\n",
              "      </button>\n",
              "\n",
              "<style>\n",
              "  .colab-df-quickchart {\n",
              "      --bg-color: #E8F0FE;\n",
              "      --fill-color: #1967D2;\n",
              "      --hover-bg-color: #E2EBFA;\n",
              "      --hover-fill-color: #174EA6;\n",
              "      --disabled-fill-color: #AAA;\n",
              "      --disabled-bg-color: #DDD;\n",
              "  }\n",
              "\n",
              "  [theme=dark] .colab-df-quickchart {\n",
              "      --bg-color: #3B4455;\n",
              "      --fill-color: #D2E3FC;\n",
              "      --hover-bg-color: #434B5C;\n",
              "      --hover-fill-color: #FFFFFF;\n",
              "      --disabled-bg-color: #3B4455;\n",
              "      --disabled-fill-color: #666;\n",
              "  }\n",
              "\n",
              "  .colab-df-quickchart {\n",
              "    background-color: var(--bg-color);\n",
              "    border: none;\n",
              "    border-radius: 50%;\n",
              "    cursor: pointer;\n",
              "    display: none;\n",
              "    fill: var(--fill-color);\n",
              "    height: 32px;\n",
              "    padding: 0;\n",
              "    width: 32px;\n",
              "  }\n",
              "\n",
              "  .colab-df-quickchart:hover {\n",
              "    background-color: var(--hover-bg-color);\n",
              "    box-shadow: 0 1px 2px rgba(60, 64, 67, 0.3), 0 1px 3px 1px rgba(60, 64, 67, 0.15);\n",
              "    fill: var(--button-hover-fill-color);\n",
              "  }\n",
              "\n",
              "  .colab-df-quickchart-complete:disabled,\n",
              "  .colab-df-quickchart-complete:disabled:hover {\n",
              "    background-color: var(--disabled-bg-color);\n",
              "    fill: var(--disabled-fill-color);\n",
              "    box-shadow: none;\n",
              "  }\n",
              "\n",
              "  .colab-df-spinner {\n",
              "    border: 2px solid var(--fill-color);\n",
              "    border-color: transparent;\n",
              "    border-bottom-color: var(--fill-color);\n",
              "    animation:\n",
              "      spin 1s steps(1) infinite;\n",
              "  }\n",
              "\n",
              "  @keyframes spin {\n",
              "    0% {\n",
              "      border-color: transparent;\n",
              "      border-bottom-color: var(--fill-color);\n",
              "      border-left-color: var(--fill-color);\n",
              "    }\n",
              "    20% {\n",
              "      border-color: transparent;\n",
              "      border-left-color: var(--fill-color);\n",
              "      border-top-color: var(--fill-color);\n",
              "    }\n",
              "    30% {\n",
              "      border-color: transparent;\n",
              "      border-left-color: var(--fill-color);\n",
              "      border-top-color: var(--fill-color);\n",
              "      border-right-color: var(--fill-color);\n",
              "    }\n",
              "    40% {\n",
              "      border-color: transparent;\n",
              "      border-right-color: var(--fill-color);\n",
              "      border-top-color: var(--fill-color);\n",
              "    }\n",
              "    60% {\n",
              "      border-color: transparent;\n",
              "      border-right-color: var(--fill-color);\n",
              "    }\n",
              "    80% {\n",
              "      border-color: transparent;\n",
              "      border-right-color: var(--fill-color);\n",
              "      border-bottom-color: var(--fill-color);\n",
              "    }\n",
              "    90% {\n",
              "      border-color: transparent;\n",
              "      border-bottom-color: var(--fill-color);\n",
              "    }\n",
              "  }\n",
              "</style>\n",
              "\n",
              "      <script>\n",
              "        async function quickchart(key) {\n",
              "          const quickchartButtonEl =\n",
              "            document.querySelector('#' + key + ' button');\n",
              "          quickchartButtonEl.disabled = true;  // To prevent multiple clicks.\n",
              "          quickchartButtonEl.classList.add('colab-df-spinner');\n",
              "          try {\n",
              "            const charts = await google.colab.kernel.invokeFunction(\n",
              "                'suggestCharts', [key], {});\n",
              "          } catch (error) {\n",
              "            console.error('Error during call to suggestCharts:', error);\n",
              "          }\n",
              "          quickchartButtonEl.classList.remove('colab-df-spinner');\n",
              "          quickchartButtonEl.classList.add('colab-df-quickchart-complete');\n",
              "        }\n",
              "        (() => {\n",
              "          let quickchartButtonEl =\n",
              "            document.querySelector('#df-0a2802e7-1991-42d4-a8ca-6e311012752e button');\n",
              "          quickchartButtonEl.style.display =\n",
              "            google.colab.kernel.accessAllowed ? 'block' : 'none';\n",
              "        })();\n",
              "      </script>\n",
              "    </div>\n",
              "\n",
              "    </div>\n",
              "  </div>\n"
            ],
            "application/vnd.google.colaboratory.intrinsic+json": {
              "type": "dataframe",
              "summary": "{\n  \"name\": \"oo[oo[\\\"Athlete Name\\\"]\",\n  \"rows\": 18,\n  \"fields\": [\n    {\n      \"column\": \"Year\",\n      \"properties\": {\n        \"dtype\": \"number\",\n        \"std\": 3,\n        \"min\": 1956,\n        \"max\": 1964,\n        \"num_unique_values\": 3,\n        \"samples\": [\n          1956,\n          1960,\n          1964\n        ],\n        \"semantic_type\": \"\",\n        \"description\": \"\"\n      }\n    },\n    {\n      \"column\": \"City\",\n      \"properties\": {\n        \"dtype\": \"category\",\n        \"num_unique_values\": 3,\n        \"samples\": [\n          \"Melbourne / Stockholm\",\n          \"Rome\",\n          \"Tokyo\"\n        ],\n        \"semantic_type\": \"\",\n        \"description\": \"\"\n      }\n    },\n    {\n      \"column\": \"Sport\",\n      \"properties\": {\n        \"dtype\": \"category\",\n        \"num_unique_values\": 1,\n        \"samples\": [\n          \"Gymnastics\"\n        ],\n        \"semantic_type\": \"\",\n        \"description\": \"\"\n      }\n    },\n    {\n      \"column\": \"Discipline\",\n      \"properties\": {\n        \"dtype\": \"category\",\n        \"num_unique_values\": 1,\n        \"samples\": [\n          \"Artistic G.\"\n        ],\n        \"semantic_type\": \"\",\n        \"description\": \"\"\n      }\n    },\n    {\n      \"column\": \"Athlete Name\",\n      \"properties\": {\n        \"dtype\": \"category\",\n        \"num_unique_values\": 1,\n        \"samples\": [\n          \"LATYNINA, Larisa\"\n        ],\n        \"semantic_type\": \"\",\n        \"description\": \"\"\n      }\n    },\n    {\n      \"column\": \"NOC\",\n      \"properties\": {\n        \"dtype\": \"category\",\n        \"num_unique_values\": 1,\n        \"samples\": [\n          \"URS\"\n        ],\n        \"semantic_type\": \"\",\n        \"description\": \"\"\n      }\n    },\n    {\n      \"column\": \"Gender\",\n      \"properties\": {\n        \"dtype\": \"category\",\n        \"num_unique_values\": 1,\n        \"samples\": [\n          \"Women\"\n        ],\n        \"semantic_type\": \"\",\n        \"description\": \"\"\n      }\n    },\n    {\n      \"column\": \"Event\",\n      \"properties\": {\n        \"dtype\": \"category\",\n        \"num_unique_values\": 7,\n        \"samples\": [\n          \"Floor exercises\"\n        ],\n        \"semantic_type\": \"\",\n        \"description\": \"\"\n      }\n    },\n    {\n      \"column\": \"Event Gender\",\n      \"properties\": {\n        \"dtype\": \"category\",\n        \"num_unique_values\": 1,\n        \"samples\": [\n          \"W\"\n        ],\n        \"semantic_type\": \"\",\n        \"description\": \"\"\n      }\n    },\n    {\n      \"column\": \"Medal\",\n      \"properties\": {\n        \"dtype\": \"category\",\n        \"num_unique_values\": 3,\n        \"samples\": [\n          \"Gold\"\n        ],\n        \"semantic_type\": \"\",\n        \"description\": \"\"\n      }\n    }\n  ]\n}"
            }
          },
          "metadata": {},
          "execution_count": 15
        }
      ],
      "source": [
        "oo[oo[\"Athlete Name\"].str.contains(\"LATYNINA\")]"
      ]
    },
    {
      "cell_type": "code",
      "source": [
        "dir(oo.Event.str)"
      ],
      "metadata": {
        "id": "F71XMdtviKk3",
        "outputId": "f33fa266-8873-4ab6-b023-4bbba3fbd6f1",
        "colab": {
          "base_uri": "https://localhost:8080/"
        }
      },
      "execution_count": 16,
      "outputs": [
        {
          "output_type": "execute_result",
          "data": {
            "text/plain": [
              "['__annotations__',\n",
              " '__class__',\n",
              " '__delattr__',\n",
              " '__dict__',\n",
              " '__dir__',\n",
              " '__doc__',\n",
              " '__eq__',\n",
              " '__format__',\n",
              " '__frozen',\n",
              " '__ge__',\n",
              " '__getattribute__',\n",
              " '__getitem__',\n",
              " '__getstate__',\n",
              " '__gt__',\n",
              " '__hash__',\n",
              " '__init__',\n",
              " '__init_subclass__',\n",
              " '__iter__',\n",
              " '__le__',\n",
              " '__lt__',\n",
              " '__module__',\n",
              " '__ne__',\n",
              " '__new__',\n",
              " '__reduce__',\n",
              " '__reduce_ex__',\n",
              " '__repr__',\n",
              " '__setattr__',\n",
              " '__sizeof__',\n",
              " '__str__',\n",
              " '__subclasshook__',\n",
              " '__weakref__',\n",
              " '_data',\n",
              " '_doc_args',\n",
              " '_freeze',\n",
              " '_get_series_list',\n",
              " '_index',\n",
              " '_inferred_dtype',\n",
              " '_is_categorical',\n",
              " '_is_string',\n",
              " '_name',\n",
              " '_orig',\n",
              " '_parent',\n",
              " '_validate',\n",
              " '_wrap_result',\n",
              " 'capitalize',\n",
              " 'casefold',\n",
              " 'cat',\n",
              " 'center',\n",
              " 'contains',\n",
              " 'count',\n",
              " 'decode',\n",
              " 'encode',\n",
              " 'endswith',\n",
              " 'extract',\n",
              " 'extractall',\n",
              " 'find',\n",
              " 'findall',\n",
              " 'fullmatch',\n",
              " 'get',\n",
              " 'get_dummies',\n",
              " 'index',\n",
              " 'isalnum',\n",
              " 'isalpha',\n",
              " 'isdecimal',\n",
              " 'isdigit',\n",
              " 'islower',\n",
              " 'isnumeric',\n",
              " 'isspace',\n",
              " 'istitle',\n",
              " 'isupper',\n",
              " 'join',\n",
              " 'len',\n",
              " 'ljust',\n",
              " 'lower',\n",
              " 'lstrip',\n",
              " 'match',\n",
              " 'normalize',\n",
              " 'pad',\n",
              " 'partition',\n",
              " 'removeprefix',\n",
              " 'removesuffix',\n",
              " 'repeat',\n",
              " 'replace',\n",
              " 'rfind',\n",
              " 'rindex',\n",
              " 'rjust',\n",
              " 'rpartition',\n",
              " 'rsplit',\n",
              " 'rstrip',\n",
              " 'slice',\n",
              " 'slice_replace',\n",
              " 'split',\n",
              " 'startswith',\n",
              " 'strip',\n",
              " 'swapcase',\n",
              " 'title',\n",
              " 'translate',\n",
              " 'upper',\n",
              " 'wrap',\n",
              " 'zfill']"
            ]
          },
          "metadata": {},
          "execution_count": 16
        }
      ]
    },
    {
      "cell_type": "code",
      "source": [
        "oo.City = oo.City.str.upper()\n",
        "oo.sample(3)"
      ],
      "metadata": {
        "id": "WQjAIm1Silxv",
        "outputId": "5ddeeac1-bd62-46ba-e070-e82a7befa2f9",
        "colab": {
          "base_uri": "https://localhost:8080/",
          "height": 269
        }
      },
      "execution_count": 17,
      "outputs": [
        {
          "output_type": "stream",
          "name": "stderr",
          "text": [
            "/usr/local/lib/python3.11/dist-packages/google/colab/_interactive_table_hint_button.py:178: FutureWarning: Index.format is deprecated and will be removed in a future version. Convert using index.astype(str) or index.map(formatter) instead.\n",
            "  df_html=dataframe._repr_html_(),  # pylint: disable=protected-access\n"
          ]
        },
        {
          "output_type": "execute_result",
          "data": {
            "text/plain": [
              "       Year    City       Sport     Discipline        Athlete Name  NOC  \\\n",
              "24522  2000  SYDNEY      Hockey         Hockey  VAN WEEL, Diederik  NED   \n",
              "7102   1936  BERLIN  Gymnastics    Artistic G.         MACK, Eugen  SUI   \n",
              "23887  2000  SYDNEY     Cycling  Cycling Track    WIGGINS, Bradley  GBR   \n",
              "\n",
              "      Gender                 Event Event Gender   Medal  \n",
              "24522    Men                Hockey            M    Gold  \n",
              "7102     Men      Team competition            M  Silver  \n",
              "23887    Men  Team pursuit (4000m)            M  Bronze  "
            ],
            "text/html": [
              "\n",
              "  <div id=\"df-57275880-3b94-479a-9ac3-3b74de988435\" class=\"colab-df-container\">\n",
              "    <div>\n",
              "<style scoped>\n",
              "    .dataframe tbody tr th:only-of-type {\n",
              "        vertical-align: middle;\n",
              "    }\n",
              "\n",
              "    .dataframe tbody tr th {\n",
              "        vertical-align: top;\n",
              "    }\n",
              "\n",
              "    .dataframe thead th {\n",
              "        text-align: right;\n",
              "    }\n",
              "</style>\n",
              "<table border=\"1\" class=\"dataframe\">\n",
              "  <thead>\n",
              "    <tr style=\"text-align: right;\">\n",
              "      <th></th>\n",
              "      <th>Year</th>\n",
              "      <th>City</th>\n",
              "      <th>Sport</th>\n",
              "      <th>Discipline</th>\n",
              "      <th>Athlete Name</th>\n",
              "      <th>NOC</th>\n",
              "      <th>Gender</th>\n",
              "      <th>Event</th>\n",
              "      <th>Event Gender</th>\n",
              "      <th>Medal</th>\n",
              "    </tr>\n",
              "  </thead>\n",
              "  <tbody>\n",
              "    <tr>\n",
              "      <th>24522</th>\n",
              "      <td>2000</td>\n",
              "      <td>SYDNEY</td>\n",
              "      <td>Hockey</td>\n",
              "      <td>Hockey</td>\n",
              "      <td>VAN WEEL, Diederik</td>\n",
              "      <td>NED</td>\n",
              "      <td>Men</td>\n",
              "      <td>Hockey</td>\n",
              "      <td>M</td>\n",
              "      <td>Gold</td>\n",
              "    </tr>\n",
              "    <tr>\n",
              "      <th>7102</th>\n",
              "      <td>1936</td>\n",
              "      <td>BERLIN</td>\n",
              "      <td>Gymnastics</td>\n",
              "      <td>Artistic G.</td>\n",
              "      <td>MACK, Eugen</td>\n",
              "      <td>SUI</td>\n",
              "      <td>Men</td>\n",
              "      <td>Team competition</td>\n",
              "      <td>M</td>\n",
              "      <td>Silver</td>\n",
              "    </tr>\n",
              "    <tr>\n",
              "      <th>23887</th>\n",
              "      <td>2000</td>\n",
              "      <td>SYDNEY</td>\n",
              "      <td>Cycling</td>\n",
              "      <td>Cycling Track</td>\n",
              "      <td>WIGGINS, Bradley</td>\n",
              "      <td>GBR</td>\n",
              "      <td>Men</td>\n",
              "      <td>Team pursuit (4000m)</td>\n",
              "      <td>M</td>\n",
              "      <td>Bronze</td>\n",
              "    </tr>\n",
              "  </tbody>\n",
              "</table>\n",
              "</div>\n",
              "    <div class=\"colab-df-buttons\">\n",
              "\n",
              "  <div class=\"colab-df-container\">\n",
              "    <button class=\"colab-df-convert\" onclick=\"convertToInteractive('df-57275880-3b94-479a-9ac3-3b74de988435')\"\n",
              "            title=\"Convert this dataframe to an interactive table.\"\n",
              "            style=\"display:none;\">\n",
              "\n",
              "  <svg xmlns=\"http://www.w3.org/2000/svg\" height=\"24px\" viewBox=\"0 -960 960 960\">\n",
              "    <path d=\"M120-120v-720h720v720H120Zm60-500h600v-160H180v160Zm220 220h160v-160H400v160Zm0 220h160v-160H400v160ZM180-400h160v-160H180v160Zm440 0h160v-160H620v160ZM180-180h160v-160H180v160Zm440 0h160v-160H620v160Z\"/>\n",
              "  </svg>\n",
              "    </button>\n",
              "\n",
              "  <style>\n",
              "    .colab-df-container {\n",
              "      display:flex;\n",
              "      gap: 12px;\n",
              "    }\n",
              "\n",
              "    .colab-df-convert {\n",
              "      background-color: #E8F0FE;\n",
              "      border: none;\n",
              "      border-radius: 50%;\n",
              "      cursor: pointer;\n",
              "      display: none;\n",
              "      fill: #1967D2;\n",
              "      height: 32px;\n",
              "      padding: 0 0 0 0;\n",
              "      width: 32px;\n",
              "    }\n",
              "\n",
              "    .colab-df-convert:hover {\n",
              "      background-color: #E2EBFA;\n",
              "      box-shadow: 0px 1px 2px rgba(60, 64, 67, 0.3), 0px 1px 3px 1px rgba(60, 64, 67, 0.15);\n",
              "      fill: #174EA6;\n",
              "    }\n",
              "\n",
              "    .colab-df-buttons div {\n",
              "      margin-bottom: 4px;\n",
              "    }\n",
              "\n",
              "    [theme=dark] .colab-df-convert {\n",
              "      background-color: #3B4455;\n",
              "      fill: #D2E3FC;\n",
              "    }\n",
              "\n",
              "    [theme=dark] .colab-df-convert:hover {\n",
              "      background-color: #434B5C;\n",
              "      box-shadow: 0px 1px 3px 1px rgba(0, 0, 0, 0.15);\n",
              "      filter: drop-shadow(0px 1px 2px rgba(0, 0, 0, 0.3));\n",
              "      fill: #FFFFFF;\n",
              "    }\n",
              "  </style>\n",
              "\n",
              "    <script>\n",
              "      const buttonEl =\n",
              "        document.querySelector('#df-57275880-3b94-479a-9ac3-3b74de988435 button.colab-df-convert');\n",
              "      buttonEl.style.display =\n",
              "        google.colab.kernel.accessAllowed ? 'block' : 'none';\n",
              "\n",
              "      async function convertToInteractive(key) {\n",
              "        const element = document.querySelector('#df-57275880-3b94-479a-9ac3-3b74de988435');\n",
              "        const dataTable =\n",
              "          await google.colab.kernel.invokeFunction('convertToInteractive',\n",
              "                                                    [key], {});\n",
              "        if (!dataTable) return;\n",
              "\n",
              "        const docLinkHtml = 'Like what you see? Visit the ' +\n",
              "          '<a target=\"_blank\" href=https://colab.research.google.com/notebooks/data_table.ipynb>data table notebook</a>'\n",
              "          + ' to learn more about interactive tables.';\n",
              "        element.innerHTML = '';\n",
              "        dataTable['output_type'] = 'display_data';\n",
              "        await google.colab.output.renderOutput(dataTable, element);\n",
              "        const docLink = document.createElement('div');\n",
              "        docLink.innerHTML = docLinkHtml;\n",
              "        element.appendChild(docLink);\n",
              "      }\n",
              "    </script>\n",
              "  </div>\n",
              "\n",
              "\n",
              "    <div id=\"df-1fb99070-ac9d-4a21-afaf-b67eb0b1bc9e\">\n",
              "      <button class=\"colab-df-quickchart\" onclick=\"quickchart('df-1fb99070-ac9d-4a21-afaf-b67eb0b1bc9e')\"\n",
              "                title=\"Suggest charts\"\n",
              "                style=\"display:none;\">\n",
              "\n",
              "<svg xmlns=\"http://www.w3.org/2000/svg\" height=\"24px\"viewBox=\"0 0 24 24\"\n",
              "     width=\"24px\">\n",
              "    <g>\n",
              "        <path d=\"M19 3H5c-1.1 0-2 .9-2 2v14c0 1.1.9 2 2 2h14c1.1 0 2-.9 2-2V5c0-1.1-.9-2-2-2zM9 17H7v-7h2v7zm4 0h-2V7h2v10zm4 0h-2v-4h2v4z\"/>\n",
              "    </g>\n",
              "</svg>\n",
              "      </button>\n",
              "\n",
              "<style>\n",
              "  .colab-df-quickchart {\n",
              "      --bg-color: #E8F0FE;\n",
              "      --fill-color: #1967D2;\n",
              "      --hover-bg-color: #E2EBFA;\n",
              "      --hover-fill-color: #174EA6;\n",
              "      --disabled-fill-color: #AAA;\n",
              "      --disabled-bg-color: #DDD;\n",
              "  }\n",
              "\n",
              "  [theme=dark] .colab-df-quickchart {\n",
              "      --bg-color: #3B4455;\n",
              "      --fill-color: #D2E3FC;\n",
              "      --hover-bg-color: #434B5C;\n",
              "      --hover-fill-color: #FFFFFF;\n",
              "      --disabled-bg-color: #3B4455;\n",
              "      --disabled-fill-color: #666;\n",
              "  }\n",
              "\n",
              "  .colab-df-quickchart {\n",
              "    background-color: var(--bg-color);\n",
              "    border: none;\n",
              "    border-radius: 50%;\n",
              "    cursor: pointer;\n",
              "    display: none;\n",
              "    fill: var(--fill-color);\n",
              "    height: 32px;\n",
              "    padding: 0;\n",
              "    width: 32px;\n",
              "  }\n",
              "\n",
              "  .colab-df-quickchart:hover {\n",
              "    background-color: var(--hover-bg-color);\n",
              "    box-shadow: 0 1px 2px rgba(60, 64, 67, 0.3), 0 1px 3px 1px rgba(60, 64, 67, 0.15);\n",
              "    fill: var(--button-hover-fill-color);\n",
              "  }\n",
              "\n",
              "  .colab-df-quickchart-complete:disabled,\n",
              "  .colab-df-quickchart-complete:disabled:hover {\n",
              "    background-color: var(--disabled-bg-color);\n",
              "    fill: var(--disabled-fill-color);\n",
              "    box-shadow: none;\n",
              "  }\n",
              "\n",
              "  .colab-df-spinner {\n",
              "    border: 2px solid var(--fill-color);\n",
              "    border-color: transparent;\n",
              "    border-bottom-color: var(--fill-color);\n",
              "    animation:\n",
              "      spin 1s steps(1) infinite;\n",
              "  }\n",
              "\n",
              "  @keyframes spin {\n",
              "    0% {\n",
              "      border-color: transparent;\n",
              "      border-bottom-color: var(--fill-color);\n",
              "      border-left-color: var(--fill-color);\n",
              "    }\n",
              "    20% {\n",
              "      border-color: transparent;\n",
              "      border-left-color: var(--fill-color);\n",
              "      border-top-color: var(--fill-color);\n",
              "    }\n",
              "    30% {\n",
              "      border-color: transparent;\n",
              "      border-left-color: var(--fill-color);\n",
              "      border-top-color: var(--fill-color);\n",
              "      border-right-color: var(--fill-color);\n",
              "    }\n",
              "    40% {\n",
              "      border-color: transparent;\n",
              "      border-right-color: var(--fill-color);\n",
              "      border-top-color: var(--fill-color);\n",
              "    }\n",
              "    60% {\n",
              "      border-color: transparent;\n",
              "      border-right-color: var(--fill-color);\n",
              "    }\n",
              "    80% {\n",
              "      border-color: transparent;\n",
              "      border-right-color: var(--fill-color);\n",
              "      border-bottom-color: var(--fill-color);\n",
              "    }\n",
              "    90% {\n",
              "      border-color: transparent;\n",
              "      border-bottom-color: var(--fill-color);\n",
              "    }\n",
              "  }\n",
              "</style>\n",
              "\n",
              "      <script>\n",
              "        async function quickchart(key) {\n",
              "          const quickchartButtonEl =\n",
              "            document.querySelector('#' + key + ' button');\n",
              "          quickchartButtonEl.disabled = true;  // To prevent multiple clicks.\n",
              "          quickchartButtonEl.classList.add('colab-df-spinner');\n",
              "          try {\n",
              "            const charts = await google.colab.kernel.invokeFunction(\n",
              "                'suggestCharts', [key], {});\n",
              "          } catch (error) {\n",
              "            console.error('Error during call to suggestCharts:', error);\n",
              "          }\n",
              "          quickchartButtonEl.classList.remove('colab-df-spinner');\n",
              "          quickchartButtonEl.classList.add('colab-df-quickchart-complete');\n",
              "        }\n",
              "        (() => {\n",
              "          let quickchartButtonEl =\n",
              "            document.querySelector('#df-1fb99070-ac9d-4a21-afaf-b67eb0b1bc9e button');\n",
              "          quickchartButtonEl.style.display =\n",
              "            google.colab.kernel.accessAllowed ? 'block' : 'none';\n",
              "        })();\n",
              "      </script>\n",
              "    </div>\n",
              "\n",
              "    </div>\n",
              "  </div>\n"
            ],
            "application/vnd.google.colaboratory.intrinsic+json": {
              "type": "dataframe",
              "summary": "{\n  \"name\": \"oo\",\n  \"rows\": 3,\n  \"fields\": [\n    {\n      \"column\": \"Year\",\n      \"properties\": {\n        \"dtype\": \"number\",\n        \"std\": 36,\n        \"min\": 1936,\n        \"max\": 2000,\n        \"num_unique_values\": 2,\n        \"samples\": [\n          1936,\n          2000\n        ],\n        \"semantic_type\": \"\",\n        \"description\": \"\"\n      }\n    },\n    {\n      \"column\": \"City\",\n      \"properties\": {\n        \"dtype\": \"string\",\n        \"num_unique_values\": 2,\n        \"samples\": [\n          \"BERLIN\",\n          \"SYDNEY\"\n        ],\n        \"semantic_type\": \"\",\n        \"description\": \"\"\n      }\n    },\n    {\n      \"column\": \"Sport\",\n      \"properties\": {\n        \"dtype\": \"string\",\n        \"num_unique_values\": 3,\n        \"samples\": [\n          \"Hockey\",\n          \"Gymnastics\"\n        ],\n        \"semantic_type\": \"\",\n        \"description\": \"\"\n      }\n    },\n    {\n      \"column\": \"Discipline\",\n      \"properties\": {\n        \"dtype\": \"string\",\n        \"num_unique_values\": 3,\n        \"samples\": [\n          \"Hockey\",\n          \"Artistic G.\"\n        ],\n        \"semantic_type\": \"\",\n        \"description\": \"\"\n      }\n    },\n    {\n      \"column\": \"Athlete Name\",\n      \"properties\": {\n        \"dtype\": \"string\",\n        \"num_unique_values\": 3,\n        \"samples\": [\n          \"VAN WEEL, Diederik\",\n          \"MACK, Eugen\"\n        ],\n        \"semantic_type\": \"\",\n        \"description\": \"\"\n      }\n    },\n    {\n      \"column\": \"NOC\",\n      \"properties\": {\n        \"dtype\": \"string\",\n        \"num_unique_values\": 3,\n        \"samples\": [\n          \"NED\",\n          \"SUI\"\n        ],\n        \"semantic_type\": \"\",\n        \"description\": \"\"\n      }\n    },\n    {\n      \"column\": \"Gender\",\n      \"properties\": {\n        \"dtype\": \"category\",\n        \"num_unique_values\": 1,\n        \"samples\": [\n          \"Men\"\n        ],\n        \"semantic_type\": \"\",\n        \"description\": \"\"\n      }\n    },\n    {\n      \"column\": \"Event\",\n      \"properties\": {\n        \"dtype\": \"string\",\n        \"num_unique_values\": 3,\n        \"samples\": [\n          \"Hockey\"\n        ],\n        \"semantic_type\": \"\",\n        \"description\": \"\"\n      }\n    },\n    {\n      \"column\": \"Event Gender\",\n      \"properties\": {\n        \"dtype\": \"category\",\n        \"num_unique_values\": 1,\n        \"samples\": [\n          \"M\"\n        ],\n        \"semantic_type\": \"\",\n        \"description\": \"\"\n      }\n    },\n    {\n      \"column\": \"Medal\",\n      \"properties\": {\n        \"dtype\": \"string\",\n        \"num_unique_values\": 3,\n        \"samples\": [\n          \"Gold\"\n        ],\n        \"semantic_type\": \"\",\n        \"description\": \"\"\n      }\n    }\n  ]\n}"
            }
          },
          "metadata": {},
          "execution_count": 17
        }
      ]
    },
    {
      "cell_type": "code",
      "source": [
        "# oo.City.str.isupper()unique()\n",
        "oo.City.unique()"
      ],
      "metadata": {
        "id": "gc1CF1PlBg1l",
        "outputId": "c15d3fdf-f80f-4c80-d9f2-41f514e46e01",
        "colab": {
          "base_uri": "https://localhost:8080/",
          "height": 108
        }
      },
      "execution_count": 20,
      "outputs": [
        {
          "output_type": "error",
          "ename": "SyntaxError",
          "evalue": "invalid syntax (<ipython-input-20-b496efeca953>, line 1)",
          "traceback": [
            "\u001b[0;36m  File \u001b[0;32m\"<ipython-input-20-b496efeca953>\"\u001b[0;36m, line \u001b[0;32m1\u001b[0m\n\u001b[0;31m    unique()oo.City.str.isupper()\u001b[0m\n\u001b[0m            ^\u001b[0m\n\u001b[0;31mSyntaxError\u001b[0m\u001b[0;31m:\u001b[0m invalid syntax\n"
          ]
        }
      ]
    },
    {
      "cell_type": "markdown",
      "metadata": {
        "id": "f6JGaT7avvyR"
      },
      "source": [
        "## Sorting a DataFrame or Series"
      ]
    },
    {
      "cell_type": "code",
      "source": [
        "!pip install --quiet pandas==2.0.2\n",
        "\n",
        "import pandas as pd\n",
        "from pathlib import Path\n",
        "\n",
        "if not Path(\"olympics_1896_2004.csv\").exists():\n",
        "  !wget https://github.com/jonfernandes/pandas_essential/raw/main/olympics_1896_2004.csv\n",
        "\n",
        "filename = \"olympics_1896_2004.csv\"\n",
        "print(\"Installed all of the necessary files for this section ...\")"
      ],
      "metadata": {
        "id": "kzVA7nVSfNJv"
      },
      "execution_count": null,
      "outputs": []
    },
    {
      "cell_type": "code",
      "source": [
        "oo = (pd.read_csv(filename, skiprows=5)\n",
        "      .drop('Position', axis=1)\n",
        ")\n",
        "oo.sample(3)"
      ],
      "metadata": {
        "id": "hLvgmZ4WkVlp"
      },
      "execution_count": null,
      "outputs": []
    },
    {
      "cell_type": "code",
      "execution_count": null,
      "metadata": {
        "id": "qP81z2s4vvyV"
      },
      "outputs": [],
      "source": [
        "oo[\"Athlete Name\"].sort_values()"
      ]
    },
    {
      "cell_type": "code",
      "execution_count": null,
      "metadata": {
        "id": "LYg8VS5Iw139"
      },
      "outputs": [],
      "source": [
        "type(oo[\"Athlete Name\"].sort_values())"
      ]
    },
    {
      "cell_type": "code",
      "execution_count": null,
      "metadata": {
        "id": "lM2n1Iq5w6US"
      },
      "outputs": [],
      "source": [
        "oo.sort_values(\"Athlete Name\")"
      ]
    },
    {
      "cell_type": "code",
      "execution_count": null,
      "metadata": {
        "id": "tm7lexN9xSsJ"
      },
      "outputs": [],
      "source": [
        "type(oo.sort_values(\"Athlete Name\"))"
      ]
    },
    {
      "cell_type": "code",
      "execution_count": null,
      "metadata": {
        "id": "fmTzGpfCxFsJ"
      },
      "outputs": [],
      "source": [
        "oo.head(3)"
      ]
    },
    {
      "cell_type": "code",
      "source": [
        "oo.sort_values(\"Athlete Name\", ascending=False)"
      ],
      "metadata": {
        "id": "d_C8hopolmqH"
      },
      "execution_count": null,
      "outputs": []
    },
    {
      "cell_type": "code",
      "execution_count": null,
      "metadata": {
        "id": "6_lOD6wExwOg"
      },
      "outputs": [],
      "source": [
        "oo.sort_values(\"Athlete Name\", ascending=False).head(25)"
      ]
    },
    {
      "cell_type": "code",
      "execution_count": null,
      "metadata": {
        "id": "HVYkoY25vvyW"
      },
      "outputs": [],
      "source": [
        "oo.sort_values(by=['Year','Athlete Name'])"
      ]
    },
    {
      "cell_type": "code",
      "execution_count": null,
      "metadata": {
        "id": "ADjQXqsJvvyW"
      },
      "outputs": [],
      "source": [
        "oo.sort_values(by=[\"Year\", \"Athlete Name\"], ascending=[False, True])"
      ]
    },
    {
      "cell_type": "code",
      "execution_count": null,
      "metadata": {
        "id": "KzxqFKgSyr3q"
      },
      "outputs": [],
      "source": [
        "oo.head(7)"
      ]
    },
    {
      "cell_type": "code",
      "execution_count": null,
      "metadata": {
        "id": "Z4UEv9N-0Pq4"
      },
      "outputs": [],
      "source": [
        "oo.sort_values(by=[\"Year\", \"Event\", \"Medal\"], ascending=[True, True, False]).head(7)"
      ]
    },
    {
      "cell_type": "code",
      "source": [
        "oo.dtypes"
      ],
      "metadata": {
        "id": "fdFb8ZTfEcJv"
      },
      "execution_count": null,
      "outputs": []
    },
    {
      "cell_type": "markdown",
      "metadata": {
        "id": "B66y0jue2DMa"
      },
      "source": [
        "## Working with data types (dtype)"
      ]
    },
    {
      "cell_type": "code",
      "source": [
        "!pip install --quiet pandas==2.0.2\n",
        "\n",
        "import pandas as pd\n",
        "from pathlib import Path\n",
        "\n",
        "if not Path(\"olympics_1896_2004.csv\").exists():\n",
        "  !wget https://github.com/jonfernandes/pandas_essential/raw/main/olympics_1896_2004.csv\n",
        "\n",
        "filename = \"olympics_1896_2004.csv\"\n",
        "print(\"Installed all of the necessary files for this section ...\")"
      ],
      "metadata": {
        "id": "TToL2dscfPOv"
      },
      "execution_count": null,
      "outputs": []
    },
    {
      "cell_type": "code",
      "source": [
        "oo = (pd.read_csv(filename, skiprows=5)\n",
        "      .drop('Position', axis=1)\n",
        ")\n",
        "oo.sample(3)"
      ],
      "metadata": {
        "id": "jRjIv_lpvgLA",
        "outputId": "5bb4405e-fcf7-4d08-f95a-96340d2381ba",
        "colab": {
          "base_uri": "https://localhost:8080/",
          "height": 251
        }
      },
      "execution_count": 21,
      "outputs": [
        {
          "output_type": "stream",
          "name": "stderr",
          "text": [
            "/usr/local/lib/python3.11/dist-packages/google/colab/_interactive_table_hint_button.py:178: FutureWarning: Index.format is deprecated and will be removed in a future version. Convert using index.astype(str) or index.map(formatter) instead.\n",
            "  df_html=dataframe._repr_html_(),  # pylint: disable=protected-access\n"
          ]
        },
        {
          "output_type": "execute_result",
          "data": {
            "text/plain": [
              "       Year         City       Sport  Discipline            Athlete Name  NOC  \\\n",
              "14417  1976     Montreal  Basketball  Basketball  LAGARDE, Thomas Joseph  USA   \n",
              "6963   1936       Berlin  Equestrian    Dressage        PODHAJSKY, Alois  AUT   \n",
              "16820  1984  Los Angeles    Aquatics    Swimming       STOCKWELL, Marcus  AUS   \n",
              "\n",
              "      Gender                Event Event Gender   Medal  \n",
              "14417    Men           basketball            M    Gold  \n",
              "6963     Men           individual            X  Bronze  \n",
              "16820    Men  4x100m medley relay            M  Bronze  "
            ],
            "text/html": [
              "\n",
              "  <div id=\"df-67502a02-6323-444b-952b-e528931d96f9\" class=\"colab-df-container\">\n",
              "    <div>\n",
              "<style scoped>\n",
              "    .dataframe tbody tr th:only-of-type {\n",
              "        vertical-align: middle;\n",
              "    }\n",
              "\n",
              "    .dataframe tbody tr th {\n",
              "        vertical-align: top;\n",
              "    }\n",
              "\n",
              "    .dataframe thead th {\n",
              "        text-align: right;\n",
              "    }\n",
              "</style>\n",
              "<table border=\"1\" class=\"dataframe\">\n",
              "  <thead>\n",
              "    <tr style=\"text-align: right;\">\n",
              "      <th></th>\n",
              "      <th>Year</th>\n",
              "      <th>City</th>\n",
              "      <th>Sport</th>\n",
              "      <th>Discipline</th>\n",
              "      <th>Athlete Name</th>\n",
              "      <th>NOC</th>\n",
              "      <th>Gender</th>\n",
              "      <th>Event</th>\n",
              "      <th>Event Gender</th>\n",
              "      <th>Medal</th>\n",
              "    </tr>\n",
              "  </thead>\n",
              "  <tbody>\n",
              "    <tr>\n",
              "      <th>14417</th>\n",
              "      <td>1976</td>\n",
              "      <td>Montreal</td>\n",
              "      <td>Basketball</td>\n",
              "      <td>Basketball</td>\n",
              "      <td>LAGARDE, Thomas Joseph</td>\n",
              "      <td>USA</td>\n",
              "      <td>Men</td>\n",
              "      <td>basketball</td>\n",
              "      <td>M</td>\n",
              "      <td>Gold</td>\n",
              "    </tr>\n",
              "    <tr>\n",
              "      <th>6963</th>\n",
              "      <td>1936</td>\n",
              "      <td>Berlin</td>\n",
              "      <td>Equestrian</td>\n",
              "      <td>Dressage</td>\n",
              "      <td>PODHAJSKY, Alois</td>\n",
              "      <td>AUT</td>\n",
              "      <td>Men</td>\n",
              "      <td>individual</td>\n",
              "      <td>X</td>\n",
              "      <td>Bronze</td>\n",
              "    </tr>\n",
              "    <tr>\n",
              "      <th>16820</th>\n",
              "      <td>1984</td>\n",
              "      <td>Los Angeles</td>\n",
              "      <td>Aquatics</td>\n",
              "      <td>Swimming</td>\n",
              "      <td>STOCKWELL, Marcus</td>\n",
              "      <td>AUS</td>\n",
              "      <td>Men</td>\n",
              "      <td>4x100m medley relay</td>\n",
              "      <td>M</td>\n",
              "      <td>Bronze</td>\n",
              "    </tr>\n",
              "  </tbody>\n",
              "</table>\n",
              "</div>\n",
              "    <div class=\"colab-df-buttons\">\n",
              "\n",
              "  <div class=\"colab-df-container\">\n",
              "    <button class=\"colab-df-convert\" onclick=\"convertToInteractive('df-67502a02-6323-444b-952b-e528931d96f9')\"\n",
              "            title=\"Convert this dataframe to an interactive table.\"\n",
              "            style=\"display:none;\">\n",
              "\n",
              "  <svg xmlns=\"http://www.w3.org/2000/svg\" height=\"24px\" viewBox=\"0 -960 960 960\">\n",
              "    <path d=\"M120-120v-720h720v720H120Zm60-500h600v-160H180v160Zm220 220h160v-160H400v160Zm0 220h160v-160H400v160ZM180-400h160v-160H180v160Zm440 0h160v-160H620v160ZM180-180h160v-160H180v160Zm440 0h160v-160H620v160Z\"/>\n",
              "  </svg>\n",
              "    </button>\n",
              "\n",
              "  <style>\n",
              "    .colab-df-container {\n",
              "      display:flex;\n",
              "      gap: 12px;\n",
              "    }\n",
              "\n",
              "    .colab-df-convert {\n",
              "      background-color: #E8F0FE;\n",
              "      border: none;\n",
              "      border-radius: 50%;\n",
              "      cursor: pointer;\n",
              "      display: none;\n",
              "      fill: #1967D2;\n",
              "      height: 32px;\n",
              "      padding: 0 0 0 0;\n",
              "      width: 32px;\n",
              "    }\n",
              "\n",
              "    .colab-df-convert:hover {\n",
              "      background-color: #E2EBFA;\n",
              "      box-shadow: 0px 1px 2px rgba(60, 64, 67, 0.3), 0px 1px 3px 1px rgba(60, 64, 67, 0.15);\n",
              "      fill: #174EA6;\n",
              "    }\n",
              "\n",
              "    .colab-df-buttons div {\n",
              "      margin-bottom: 4px;\n",
              "    }\n",
              "\n",
              "    [theme=dark] .colab-df-convert {\n",
              "      background-color: #3B4455;\n",
              "      fill: #D2E3FC;\n",
              "    }\n",
              "\n",
              "    [theme=dark] .colab-df-convert:hover {\n",
              "      background-color: #434B5C;\n",
              "      box-shadow: 0px 1px 3px 1px rgba(0, 0, 0, 0.15);\n",
              "      filter: drop-shadow(0px 1px 2px rgba(0, 0, 0, 0.3));\n",
              "      fill: #FFFFFF;\n",
              "    }\n",
              "  </style>\n",
              "\n",
              "    <script>\n",
              "      const buttonEl =\n",
              "        document.querySelector('#df-67502a02-6323-444b-952b-e528931d96f9 button.colab-df-convert');\n",
              "      buttonEl.style.display =\n",
              "        google.colab.kernel.accessAllowed ? 'block' : 'none';\n",
              "\n",
              "      async function convertToInteractive(key) {\n",
              "        const element = document.querySelector('#df-67502a02-6323-444b-952b-e528931d96f9');\n",
              "        const dataTable =\n",
              "          await google.colab.kernel.invokeFunction('convertToInteractive',\n",
              "                                                    [key], {});\n",
              "        if (!dataTable) return;\n",
              "\n",
              "        const docLinkHtml = 'Like what you see? Visit the ' +\n",
              "          '<a target=\"_blank\" href=https://colab.research.google.com/notebooks/data_table.ipynb>data table notebook</a>'\n",
              "          + ' to learn more about interactive tables.';\n",
              "        element.innerHTML = '';\n",
              "        dataTable['output_type'] = 'display_data';\n",
              "        await google.colab.output.renderOutput(dataTable, element);\n",
              "        const docLink = document.createElement('div');\n",
              "        docLink.innerHTML = docLinkHtml;\n",
              "        element.appendChild(docLink);\n",
              "      }\n",
              "    </script>\n",
              "  </div>\n",
              "\n",
              "\n",
              "    <div id=\"df-8f34b434-84b8-40d9-9cac-e11a47486371\">\n",
              "      <button class=\"colab-df-quickchart\" onclick=\"quickchart('df-8f34b434-84b8-40d9-9cac-e11a47486371')\"\n",
              "                title=\"Suggest charts\"\n",
              "                style=\"display:none;\">\n",
              "\n",
              "<svg xmlns=\"http://www.w3.org/2000/svg\" height=\"24px\"viewBox=\"0 0 24 24\"\n",
              "     width=\"24px\">\n",
              "    <g>\n",
              "        <path d=\"M19 3H5c-1.1 0-2 .9-2 2v14c0 1.1.9 2 2 2h14c1.1 0 2-.9 2-2V5c0-1.1-.9-2-2-2zM9 17H7v-7h2v7zm4 0h-2V7h2v10zm4 0h-2v-4h2v4z\"/>\n",
              "    </g>\n",
              "</svg>\n",
              "      </button>\n",
              "\n",
              "<style>\n",
              "  .colab-df-quickchart {\n",
              "      --bg-color: #E8F0FE;\n",
              "      --fill-color: #1967D2;\n",
              "      --hover-bg-color: #E2EBFA;\n",
              "      --hover-fill-color: #174EA6;\n",
              "      --disabled-fill-color: #AAA;\n",
              "      --disabled-bg-color: #DDD;\n",
              "  }\n",
              "\n",
              "  [theme=dark] .colab-df-quickchart {\n",
              "      --bg-color: #3B4455;\n",
              "      --fill-color: #D2E3FC;\n",
              "      --hover-bg-color: #434B5C;\n",
              "      --hover-fill-color: #FFFFFF;\n",
              "      --disabled-bg-color: #3B4455;\n",
              "      --disabled-fill-color: #666;\n",
              "  }\n",
              "\n",
              "  .colab-df-quickchart {\n",
              "    background-color: var(--bg-color);\n",
              "    border: none;\n",
              "    border-radius: 50%;\n",
              "    cursor: pointer;\n",
              "    display: none;\n",
              "    fill: var(--fill-color);\n",
              "    height: 32px;\n",
              "    padding: 0;\n",
              "    width: 32px;\n",
              "  }\n",
              "\n",
              "  .colab-df-quickchart:hover {\n",
              "    background-color: var(--hover-bg-color);\n",
              "    box-shadow: 0 1px 2px rgba(60, 64, 67, 0.3), 0 1px 3px 1px rgba(60, 64, 67, 0.15);\n",
              "    fill: var(--button-hover-fill-color);\n",
              "  }\n",
              "\n",
              "  .colab-df-quickchart-complete:disabled,\n",
              "  .colab-df-quickchart-complete:disabled:hover {\n",
              "    background-color: var(--disabled-bg-color);\n",
              "    fill: var(--disabled-fill-color);\n",
              "    box-shadow: none;\n",
              "  }\n",
              "\n",
              "  .colab-df-spinner {\n",
              "    border: 2px solid var(--fill-color);\n",
              "    border-color: transparent;\n",
              "    border-bottom-color: var(--fill-color);\n",
              "    animation:\n",
              "      spin 1s steps(1) infinite;\n",
              "  }\n",
              "\n",
              "  @keyframes spin {\n",
              "    0% {\n",
              "      border-color: transparent;\n",
              "      border-bottom-color: var(--fill-color);\n",
              "      border-left-color: var(--fill-color);\n",
              "    }\n",
              "    20% {\n",
              "      border-color: transparent;\n",
              "      border-left-color: var(--fill-color);\n",
              "      border-top-color: var(--fill-color);\n",
              "    }\n",
              "    30% {\n",
              "      border-color: transparent;\n",
              "      border-left-color: var(--fill-color);\n",
              "      border-top-color: var(--fill-color);\n",
              "      border-right-color: var(--fill-color);\n",
              "    }\n",
              "    40% {\n",
              "      border-color: transparent;\n",
              "      border-right-color: var(--fill-color);\n",
              "      border-top-color: var(--fill-color);\n",
              "    }\n",
              "    60% {\n",
              "      border-color: transparent;\n",
              "      border-right-color: var(--fill-color);\n",
              "    }\n",
              "    80% {\n",
              "      border-color: transparent;\n",
              "      border-right-color: var(--fill-color);\n",
              "      border-bottom-color: var(--fill-color);\n",
              "    }\n",
              "    90% {\n",
              "      border-color: transparent;\n",
              "      border-bottom-color: var(--fill-color);\n",
              "    }\n",
              "  }\n",
              "</style>\n",
              "\n",
              "      <script>\n",
              "        async function quickchart(key) {\n",
              "          const quickchartButtonEl =\n",
              "            document.querySelector('#' + key + ' button');\n",
              "          quickchartButtonEl.disabled = true;  // To prevent multiple clicks.\n",
              "          quickchartButtonEl.classList.add('colab-df-spinner');\n",
              "          try {\n",
              "            const charts = await google.colab.kernel.invokeFunction(\n",
              "                'suggestCharts', [key], {});\n",
              "          } catch (error) {\n",
              "            console.error('Error during call to suggestCharts:', error);\n",
              "          }\n",
              "          quickchartButtonEl.classList.remove('colab-df-spinner');\n",
              "          quickchartButtonEl.classList.add('colab-df-quickchart-complete');\n",
              "        }\n",
              "        (() => {\n",
              "          let quickchartButtonEl =\n",
              "            document.querySelector('#df-8f34b434-84b8-40d9-9cac-e11a47486371 button');\n",
              "          quickchartButtonEl.style.display =\n",
              "            google.colab.kernel.accessAllowed ? 'block' : 'none';\n",
              "        })();\n",
              "      </script>\n",
              "    </div>\n",
              "\n",
              "    </div>\n",
              "  </div>\n"
            ],
            "application/vnd.google.colaboratory.intrinsic+json": {
              "type": "dataframe",
              "summary": "{\n  \"name\": \"oo\",\n  \"rows\": 3,\n  \"fields\": [\n    {\n      \"column\": \"Year\",\n      \"properties\": {\n        \"dtype\": \"number\",\n        \"std\": 25,\n        \"min\": 1936,\n        \"max\": 1984,\n        \"num_unique_values\": 3,\n        \"samples\": [\n          1976,\n          1936,\n          1984\n        ],\n        \"semantic_type\": \"\",\n        \"description\": \"\"\n      }\n    },\n    {\n      \"column\": \"City\",\n      \"properties\": {\n        \"dtype\": \"string\",\n        \"num_unique_values\": 3,\n        \"samples\": [\n          \"Montreal\",\n          \"Berlin\",\n          \"Los Angeles\"\n        ],\n        \"semantic_type\": \"\",\n        \"description\": \"\"\n      }\n    },\n    {\n      \"column\": \"Sport\",\n      \"properties\": {\n        \"dtype\": \"string\",\n        \"num_unique_values\": 3,\n        \"samples\": [\n          \"Basketball\",\n          \"Equestrian\",\n          \"Aquatics\"\n        ],\n        \"semantic_type\": \"\",\n        \"description\": \"\"\n      }\n    },\n    {\n      \"column\": \"Discipline\",\n      \"properties\": {\n        \"dtype\": \"string\",\n        \"num_unique_values\": 3,\n        \"samples\": [\n          \"Basketball\",\n          \"Dressage\",\n          \"Swimming\"\n        ],\n        \"semantic_type\": \"\",\n        \"description\": \"\"\n      }\n    },\n    {\n      \"column\": \"Athlete Name\",\n      \"properties\": {\n        \"dtype\": \"string\",\n        \"num_unique_values\": 3,\n        \"samples\": [\n          \"LAGARDE, Thomas Joseph\",\n          \"PODHAJSKY, Alois\",\n          \"STOCKWELL, Marcus\"\n        ],\n        \"semantic_type\": \"\",\n        \"description\": \"\"\n      }\n    },\n    {\n      \"column\": \"NOC\",\n      \"properties\": {\n        \"dtype\": \"string\",\n        \"num_unique_values\": 3,\n        \"samples\": [\n          \"USA\",\n          \"AUT\",\n          \"AUS\"\n        ],\n        \"semantic_type\": \"\",\n        \"description\": \"\"\n      }\n    },\n    {\n      \"column\": \"Gender\",\n      \"properties\": {\n        \"dtype\": \"category\",\n        \"num_unique_values\": 1,\n        \"samples\": [\n          \"Men\"\n        ],\n        \"semantic_type\": \"\",\n        \"description\": \"\"\n      }\n    },\n    {\n      \"column\": \"Event\",\n      \"properties\": {\n        \"dtype\": \"string\",\n        \"num_unique_values\": 3,\n        \"samples\": [\n          \"basketball\"\n        ],\n        \"semantic_type\": \"\",\n        \"description\": \"\"\n      }\n    },\n    {\n      \"column\": \"Event Gender\",\n      \"properties\": {\n        \"dtype\": \"string\",\n        \"num_unique_values\": 2,\n        \"samples\": [\n          \"X\"\n        ],\n        \"semantic_type\": \"\",\n        \"description\": \"\"\n      }\n    },\n    {\n      \"column\": \"Medal\",\n      \"properties\": {\n        \"dtype\": \"string\",\n        \"num_unique_values\": 2,\n        \"samples\": [\n          \"Bronze\"\n        ],\n        \"semantic_type\": \"\",\n        \"description\": \"\"\n      }\n    }\n  ]\n}"
            }
          },
          "metadata": {},
          "execution_count": 21
        }
      ]
    },
    {
      "cell_type": "code",
      "execution_count": 22,
      "metadata": {
        "id": "eImgvCkE2DMc",
        "outputId": "4750e0a3-0891-4f1b-ba2b-d222ea34f780",
        "colab": {
          "base_uri": "https://localhost:8080/",
          "height": 489
        }
      },
      "outputs": [
        {
          "output_type": "stream",
          "name": "stderr",
          "text": [
            "/usr/local/lib/python3.11/dist-packages/google/colab/_reprs.py:217: FutureWarning: RangeIndex.format is deprecated and will be removed in a future version. Convert using index.astype(str) or index.map(formatter) instead.\n",
            "  series_as_table_html = series.to_frame()._repr_html_()  # pylint: disable=protected-access\n",
            "/usr/local/lib/python3.11/dist-packages/google/colab/_reprs.py:217: FutureWarning: Index.format is deprecated and will be removed in a future version. Convert using index.astype(str) or index.map(formatter) instead.\n",
            "  series_as_table_html = series.to_frame()._repr_html_()  # pylint: disable=protected-access\n"
          ]
        },
        {
          "output_type": "execute_result",
          "data": {
            "text/plain": [
              "Year             int64\n",
              "City            object\n",
              "Sport           object\n",
              "Discipline      object\n",
              "Athlete Name    object\n",
              "NOC             object\n",
              "Gender          object\n",
              "Event           object\n",
              "Event Gender    object\n",
              "Medal           object\n",
              "dtype: object"
            ],
            "text/html": [
              "<div>\n",
              "<style scoped>\n",
              "    .dataframe tbody tr th:only-of-type {\n",
              "        vertical-align: middle;\n",
              "    }\n",
              "\n",
              "    .dataframe tbody tr th {\n",
              "        vertical-align: top;\n",
              "    }\n",
              "\n",
              "    .dataframe thead th {\n",
              "        text-align: right;\n",
              "    }\n",
              "</style>\n",
              "<table border=\"1\" class=\"dataframe\">\n",
              "  <thead>\n",
              "    <tr style=\"text-align: right;\">\n",
              "      <th></th>\n",
              "      <th>0</th>\n",
              "    </tr>\n",
              "  </thead>\n",
              "  <tbody>\n",
              "    <tr>\n",
              "      <th>Year</th>\n",
              "      <td>int64</td>\n",
              "    </tr>\n",
              "    <tr>\n",
              "      <th>City</th>\n",
              "      <td>object</td>\n",
              "    </tr>\n",
              "    <tr>\n",
              "      <th>Sport</th>\n",
              "      <td>object</td>\n",
              "    </tr>\n",
              "    <tr>\n",
              "      <th>Discipline</th>\n",
              "      <td>object</td>\n",
              "    </tr>\n",
              "    <tr>\n",
              "      <th>Athlete Name</th>\n",
              "      <td>object</td>\n",
              "    </tr>\n",
              "    <tr>\n",
              "      <th>NOC</th>\n",
              "      <td>object</td>\n",
              "    </tr>\n",
              "    <tr>\n",
              "      <th>Gender</th>\n",
              "      <td>object</td>\n",
              "    </tr>\n",
              "    <tr>\n",
              "      <th>Event</th>\n",
              "      <td>object</td>\n",
              "    </tr>\n",
              "    <tr>\n",
              "      <th>Event Gender</th>\n",
              "      <td>object</td>\n",
              "    </tr>\n",
              "    <tr>\n",
              "      <th>Medal</th>\n",
              "      <td>object</td>\n",
              "    </tr>\n",
              "  </tbody>\n",
              "</table>\n",
              "</div><br><label><b>dtype:</b> object</label>"
            ]
          },
          "metadata": {},
          "execution_count": 22
        }
      ],
      "source": [
        "oo.dtypes"
      ]
    },
    {
      "cell_type": "code",
      "execution_count": 23,
      "metadata": {
        "id": "Z3cGak7D47Kf",
        "outputId": "8b381405-4655-4397-fba2-bb53285eda61",
        "colab": {
          "base_uri": "https://localhost:8080/"
        }
      },
      "outputs": [
        {
          "output_type": "execute_result",
          "data": {
            "text/plain": [
              "array(['Gold', 'Silver', 'Bronze'], dtype=object)"
            ]
          },
          "metadata": {},
          "execution_count": 23
        }
      ],
      "source": [
        "oo.Medal.unique()"
      ]
    },
    {
      "cell_type": "code",
      "execution_count": 24,
      "metadata": {
        "id": "FEUzLnJt2DMc",
        "outputId": "7f472aa8-8d2f-47c7-9f36-eadb4c16250e",
        "colab": {
          "base_uri": "https://localhost:8080/",
          "height": 489
        }
      },
      "outputs": [
        {
          "output_type": "stream",
          "name": "stderr",
          "text": [
            "/usr/local/lib/python3.11/dist-packages/google/colab/_reprs.py:217: FutureWarning: RangeIndex.format is deprecated and will be removed in a future version. Convert using index.astype(str) or index.map(formatter) instead.\n",
            "  series_as_table_html = series.to_frame()._repr_html_()  # pylint: disable=protected-access\n",
            "/usr/local/lib/python3.11/dist-packages/google/colab/_reprs.py:217: FutureWarning: Index.format is deprecated and will be removed in a future version. Convert using index.astype(str) or index.map(formatter) instead.\n",
            "  series_as_table_html = series.to_frame()._repr_html_()  # pylint: disable=protected-access\n"
          ]
        },
        {
          "output_type": "execute_result",
          "data": {
            "text/plain": [
              "Year               int64\n",
              "City              object\n",
              "Sport             object\n",
              "Discipline        object\n",
              "Athlete Name      object\n",
              "NOC               object\n",
              "Gender            object\n",
              "Event             object\n",
              "Event Gender      object\n",
              "Medal           category\n",
              "dtype: object"
            ],
            "text/html": [
              "<div>\n",
              "<style scoped>\n",
              "    .dataframe tbody tr th:only-of-type {\n",
              "        vertical-align: middle;\n",
              "    }\n",
              "\n",
              "    .dataframe tbody tr th {\n",
              "        vertical-align: top;\n",
              "    }\n",
              "\n",
              "    .dataframe thead th {\n",
              "        text-align: right;\n",
              "    }\n",
              "</style>\n",
              "<table border=\"1\" class=\"dataframe\">\n",
              "  <thead>\n",
              "    <tr style=\"text-align: right;\">\n",
              "      <th></th>\n",
              "      <th>0</th>\n",
              "    </tr>\n",
              "  </thead>\n",
              "  <tbody>\n",
              "    <tr>\n",
              "      <th>Year</th>\n",
              "      <td>int64</td>\n",
              "    </tr>\n",
              "    <tr>\n",
              "      <th>City</th>\n",
              "      <td>object</td>\n",
              "    </tr>\n",
              "    <tr>\n",
              "      <th>Sport</th>\n",
              "      <td>object</td>\n",
              "    </tr>\n",
              "    <tr>\n",
              "      <th>Discipline</th>\n",
              "      <td>object</td>\n",
              "    </tr>\n",
              "    <tr>\n",
              "      <th>Athlete Name</th>\n",
              "      <td>object</td>\n",
              "    </tr>\n",
              "    <tr>\n",
              "      <th>NOC</th>\n",
              "      <td>object</td>\n",
              "    </tr>\n",
              "    <tr>\n",
              "      <th>Gender</th>\n",
              "      <td>object</td>\n",
              "    </tr>\n",
              "    <tr>\n",
              "      <th>Event</th>\n",
              "      <td>object</td>\n",
              "    </tr>\n",
              "    <tr>\n",
              "      <th>Event Gender</th>\n",
              "      <td>object</td>\n",
              "    </tr>\n",
              "    <tr>\n",
              "      <th>Medal</th>\n",
              "      <td>category</td>\n",
              "    </tr>\n",
              "  </tbody>\n",
              "</table>\n",
              "</div><br><label><b>dtype:</b> object</label>"
            ]
          },
          "metadata": {},
          "execution_count": 24
        }
      ],
      "source": [
        "oo.Medal = oo.Medal.astype(\"category\")\n",
        "oo.dtypes"
      ]
    },
    {
      "cell_type": "code",
      "execution_count": 25,
      "metadata": {
        "id": "bAmV0u-Y6ZjR",
        "outputId": "c93c206e-4ff5-49e6-ce8d-bd8001b5be5f",
        "colab": {
          "base_uri": "https://localhost:8080/"
        }
      },
      "outputs": [
        {
          "output_type": "execute_result",
          "data": {
            "text/plain": [
              "array(['Men', 'Women'], dtype=object)"
            ]
          },
          "metadata": {},
          "execution_count": 25
        }
      ],
      "source": [
        "oo.Gender.unique()"
      ]
    },
    {
      "cell_type": "code",
      "execution_count": 26,
      "metadata": {
        "id": "bBeXGHUJ6iAf",
        "outputId": "9a3809e1-c8d1-4da1-aa5e-64515465715b",
        "colab": {
          "base_uri": "https://localhost:8080/"
        }
      },
      "outputs": [
        {
          "output_type": "execute_result",
          "data": {
            "text/plain": [
              "array(['M', 'X', 'W'], dtype=object)"
            ]
          },
          "metadata": {},
          "execution_count": 26
        }
      ],
      "source": [
        "oo['Event Gender'].unique()"
      ]
    },
    {
      "cell_type": "code",
      "execution_count": 27,
      "metadata": {
        "id": "N0N06RbL2DMc",
        "outputId": "70ab254a-3850-47a1-adb1-e700d79f7ffc",
        "colab": {
          "base_uri": "https://localhost:8080/",
          "height": 489
        }
      },
      "outputs": [
        {
          "output_type": "stream",
          "name": "stderr",
          "text": [
            "/usr/local/lib/python3.11/dist-packages/google/colab/_reprs.py:217: FutureWarning: RangeIndex.format is deprecated and will be removed in a future version. Convert using index.astype(str) or index.map(formatter) instead.\n",
            "  series_as_table_html = series.to_frame()._repr_html_()  # pylint: disable=protected-access\n",
            "/usr/local/lib/python3.11/dist-packages/google/colab/_reprs.py:217: FutureWarning: Index.format is deprecated and will be removed in a future version. Convert using index.astype(str) or index.map(formatter) instead.\n",
            "  series_as_table_html = series.to_frame()._repr_html_()  # pylint: disable=protected-access\n"
          ]
        },
        {
          "output_type": "execute_result",
          "data": {
            "text/plain": [
              "Year               int64\n",
              "City              object\n",
              "Sport             object\n",
              "Discipline        object\n",
              "Athlete Name      object\n",
              "NOC               object\n",
              "Gender          category\n",
              "Event             object\n",
              "Event Gender    category\n",
              "Medal           category\n",
              "dtype: object"
            ],
            "text/html": [
              "<div>\n",
              "<style scoped>\n",
              "    .dataframe tbody tr th:only-of-type {\n",
              "        vertical-align: middle;\n",
              "    }\n",
              "\n",
              "    .dataframe tbody tr th {\n",
              "        vertical-align: top;\n",
              "    }\n",
              "\n",
              "    .dataframe thead th {\n",
              "        text-align: right;\n",
              "    }\n",
              "</style>\n",
              "<table border=\"1\" class=\"dataframe\">\n",
              "  <thead>\n",
              "    <tr style=\"text-align: right;\">\n",
              "      <th></th>\n",
              "      <th>0</th>\n",
              "    </tr>\n",
              "  </thead>\n",
              "  <tbody>\n",
              "    <tr>\n",
              "      <th>Year</th>\n",
              "      <td>int64</td>\n",
              "    </tr>\n",
              "    <tr>\n",
              "      <th>City</th>\n",
              "      <td>object</td>\n",
              "    </tr>\n",
              "    <tr>\n",
              "      <th>Sport</th>\n",
              "      <td>object</td>\n",
              "    </tr>\n",
              "    <tr>\n",
              "      <th>Discipline</th>\n",
              "      <td>object</td>\n",
              "    </tr>\n",
              "    <tr>\n",
              "      <th>Athlete Name</th>\n",
              "      <td>object</td>\n",
              "    </tr>\n",
              "    <tr>\n",
              "      <th>NOC</th>\n",
              "      <td>object</td>\n",
              "    </tr>\n",
              "    <tr>\n",
              "      <th>Gender</th>\n",
              "      <td>category</td>\n",
              "    </tr>\n",
              "    <tr>\n",
              "      <th>Event</th>\n",
              "      <td>object</td>\n",
              "    </tr>\n",
              "    <tr>\n",
              "      <th>Event Gender</th>\n",
              "      <td>category</td>\n",
              "    </tr>\n",
              "    <tr>\n",
              "      <th>Medal</th>\n",
              "      <td>category</td>\n",
              "    </tr>\n",
              "  </tbody>\n",
              "</table>\n",
              "</div><br><label><b>dtype:</b> object</label>"
            ]
          },
          "metadata": {},
          "execution_count": 27
        }
      ],
      "source": [
        "oo.Gender = oo.Gender.astype(\"category\")\n",
        "oo['Event Gender'] = oo['Event Gender'].astype(\"category\")\n",
        "oo.dtypes"
      ]
    },
    {
      "cell_type": "code",
      "execution_count": 28,
      "metadata": {
        "id": "IWPYJ5622DMd",
        "outputId": "e320629e-bcc5-493d-a19d-8f6897872a97",
        "colab": {
          "base_uri": "https://localhost:8080/",
          "height": 459
        }
      },
      "outputs": [
        {
          "output_type": "execute_result",
          "data": {
            "text/plain": [
              "0          Gold\n",
              "1        Silver\n",
              "2        Bronze\n",
              "3        Bronze\n",
              "4          Gold\n",
              "          ...  \n",
              "27169      Gold\n",
              "27170      Gold\n",
              "27171    Silver\n",
              "27172    Silver\n",
              "27173    Silver\n",
              "Name: Medal, Length: 27174, dtype: category\n",
              "Categories (3, object): ['Bronze', 'Gold', 'Silver']"
            ],
            "text/html": [
              "<div>\n",
              "<style scoped>\n",
              "    .dataframe tbody tr th:only-of-type {\n",
              "        vertical-align: middle;\n",
              "    }\n",
              "\n",
              "    .dataframe tbody tr th {\n",
              "        vertical-align: top;\n",
              "    }\n",
              "\n",
              "    .dataframe thead th {\n",
              "        text-align: right;\n",
              "    }\n",
              "</style>\n",
              "<table border=\"1\" class=\"dataframe\">\n",
              "  <thead>\n",
              "    <tr style=\"text-align: right;\">\n",
              "      <th></th>\n",
              "      <th>Medal</th>\n",
              "    </tr>\n",
              "  </thead>\n",
              "  <tbody>\n",
              "    <tr>\n",
              "      <th>0</th>\n",
              "      <td>Gold</td>\n",
              "    </tr>\n",
              "    <tr>\n",
              "      <th>1</th>\n",
              "      <td>Silver</td>\n",
              "    </tr>\n",
              "    <tr>\n",
              "      <th>2</th>\n",
              "      <td>Bronze</td>\n",
              "    </tr>\n",
              "    <tr>\n",
              "      <th>3</th>\n",
              "      <td>Bronze</td>\n",
              "    </tr>\n",
              "    <tr>\n",
              "      <th>4</th>\n",
              "      <td>Gold</td>\n",
              "    </tr>\n",
              "    <tr>\n",
              "      <th>...</th>\n",
              "      <td>...</td>\n",
              "    </tr>\n",
              "    <tr>\n",
              "      <th>27169</th>\n",
              "      <td>Gold</td>\n",
              "    </tr>\n",
              "    <tr>\n",
              "      <th>27170</th>\n",
              "      <td>Gold</td>\n",
              "    </tr>\n",
              "    <tr>\n",
              "      <th>27171</th>\n",
              "      <td>Silver</td>\n",
              "    </tr>\n",
              "    <tr>\n",
              "      <th>27172</th>\n",
              "      <td>Silver</td>\n",
              "    </tr>\n",
              "    <tr>\n",
              "      <th>27173</th>\n",
              "      <td>Silver</td>\n",
              "    </tr>\n",
              "  </tbody>\n",
              "</table>\n",
              "<p>27174 rows × 1 columns</p>\n",
              "</div><br><label><b>dtype:</b> category</label>"
            ]
          },
          "metadata": {},
          "execution_count": 28
        }
      ],
      "source": [
        "oo.Medal.astype(\"category\")"
      ]
    },
    {
      "cell_type": "code",
      "execution_count": 29,
      "metadata": {
        "id": "dZfDXytt2DMd"
      },
      "outputs": [],
      "source": [
        "pd.Categorical?"
      ]
    },
    {
      "cell_type": "code",
      "execution_count": 32,
      "metadata": {
        "id": "6-KFI_Eb2DMd",
        "outputId": "7b5ebd71-e1ba-4997-e576-bffd17e95672",
        "colab": {
          "base_uri": "https://localhost:8080/"
        }
      },
      "outputs": [
        {
          "output_type": "execute_result",
          "data": {
            "text/plain": [
              "['Gold', 'Silver', 'Bronze', 'Bronze', 'Gold', ..., 'Gold', 'Gold', 'Silver', 'Silver', 'Silver']\n",
              "Length: 27174\n",
              "Categories (3, object): ['Bronze' < 'Silver' < 'Gold']"
            ]
          },
          "metadata": {},
          "execution_count": 32
        }
      ],
      "source": [
        "medal_order = [\"Bronze\", \"Silver\", \"Gold\"]\n",
        "pd.Categorical(oo.Medal, categories=medal_order, ordered=True)"
      ]
    },
    {
      "cell_type": "code",
      "execution_count": 35,
      "metadata": {
        "id": "D93d0_Wr2DMe",
        "outputId": "010612d4-78ce-465d-b9ed-5d80171830e9",
        "colab": {
          "base_uri": "https://localhost:8080/",
          "height": 489
        }
      },
      "outputs": [
        {
          "output_type": "stream",
          "name": "stderr",
          "text": [
            "/usr/local/lib/python3.11/dist-packages/google/colab/_reprs.py:217: FutureWarning: RangeIndex.format is deprecated and will be removed in a future version. Convert using index.astype(str) or index.map(formatter) instead.\n",
            "  series_as_table_html = series.to_frame()._repr_html_()  # pylint: disable=protected-access\n",
            "/usr/local/lib/python3.11/dist-packages/google/colab/_reprs.py:217: FutureWarning: Index.format is deprecated and will be removed in a future version. Convert using index.astype(str) or index.map(formatter) instead.\n",
            "  series_as_table_html = series.to_frame()._repr_html_()  # pylint: disable=protected-access\n"
          ]
        },
        {
          "output_type": "execute_result",
          "data": {
            "text/plain": [
              "Year               int64\n",
              "City              object\n",
              "Sport             object\n",
              "Discipline        object\n",
              "Athlete Name      object\n",
              "NOC               object\n",
              "Gender          category\n",
              "Event             object\n",
              "Event Gender    category\n",
              "Medal           category\n",
              "dtype: object"
            ],
            "text/html": [
              "<div>\n",
              "<style scoped>\n",
              "    .dataframe tbody tr th:only-of-type {\n",
              "        vertical-align: middle;\n",
              "    }\n",
              "\n",
              "    .dataframe tbody tr th {\n",
              "        vertical-align: top;\n",
              "    }\n",
              "\n",
              "    .dataframe thead th {\n",
              "        text-align: right;\n",
              "    }\n",
              "</style>\n",
              "<table border=\"1\" class=\"dataframe\">\n",
              "  <thead>\n",
              "    <tr style=\"text-align: right;\">\n",
              "      <th></th>\n",
              "      <th>0</th>\n",
              "    </tr>\n",
              "  </thead>\n",
              "  <tbody>\n",
              "    <tr>\n",
              "      <th>Year</th>\n",
              "      <td>int64</td>\n",
              "    </tr>\n",
              "    <tr>\n",
              "      <th>City</th>\n",
              "      <td>object</td>\n",
              "    </tr>\n",
              "    <tr>\n",
              "      <th>Sport</th>\n",
              "      <td>object</td>\n",
              "    </tr>\n",
              "    <tr>\n",
              "      <th>Discipline</th>\n",
              "      <td>object</td>\n",
              "    </tr>\n",
              "    <tr>\n",
              "      <th>Athlete Name</th>\n",
              "      <td>object</td>\n",
              "    </tr>\n",
              "    <tr>\n",
              "      <th>NOC</th>\n",
              "      <td>object</td>\n",
              "    </tr>\n",
              "    <tr>\n",
              "      <th>Gender</th>\n",
              "      <td>category</td>\n",
              "    </tr>\n",
              "    <tr>\n",
              "      <th>Event</th>\n",
              "      <td>object</td>\n",
              "    </tr>\n",
              "    <tr>\n",
              "      <th>Event Gender</th>\n",
              "      <td>category</td>\n",
              "    </tr>\n",
              "    <tr>\n",
              "      <th>Medal</th>\n",
              "      <td>category</td>\n",
              "    </tr>\n",
              "  </tbody>\n",
              "</table>\n",
              "</div><br><label><b>dtype:</b> object</label>"
            ]
          },
          "metadata": {},
          "execution_count": 35
        }
      ],
      "source": [
        "oo.Medal = pd.Categorical(oo.Medal, categories=medal_order, ordered=True)\n",
        "oo.dtypes"
      ]
    },
    {
      "cell_type": "code",
      "source": [
        "oo.Medal"
      ],
      "metadata": {
        "id": "GihNArACC_oT",
        "outputId": "3733600c-e83d-44e1-8c80-826c32053428",
        "colab": {
          "base_uri": "https://localhost:8080/",
          "height": 459
        }
      },
      "execution_count": 36,
      "outputs": [
        {
          "output_type": "execute_result",
          "data": {
            "text/plain": [
              "0          Gold\n",
              "1        Silver\n",
              "2        Bronze\n",
              "3        Bronze\n",
              "4          Gold\n",
              "          ...  \n",
              "27169      Gold\n",
              "27170      Gold\n",
              "27171    Silver\n",
              "27172    Silver\n",
              "27173    Silver\n",
              "Name: Medal, Length: 27174, dtype: category\n",
              "Categories (3, object): ['Bronze' < 'Silver' < 'Gold']"
            ],
            "text/html": [
              "<div>\n",
              "<style scoped>\n",
              "    .dataframe tbody tr th:only-of-type {\n",
              "        vertical-align: middle;\n",
              "    }\n",
              "\n",
              "    .dataframe tbody tr th {\n",
              "        vertical-align: top;\n",
              "    }\n",
              "\n",
              "    .dataframe thead th {\n",
              "        text-align: right;\n",
              "    }\n",
              "</style>\n",
              "<table border=\"1\" class=\"dataframe\">\n",
              "  <thead>\n",
              "    <tr style=\"text-align: right;\">\n",
              "      <th></th>\n",
              "      <th>Medal</th>\n",
              "    </tr>\n",
              "  </thead>\n",
              "  <tbody>\n",
              "    <tr>\n",
              "      <th>0</th>\n",
              "      <td>Gold</td>\n",
              "    </tr>\n",
              "    <tr>\n",
              "      <th>1</th>\n",
              "      <td>Silver</td>\n",
              "    </tr>\n",
              "    <tr>\n",
              "      <th>2</th>\n",
              "      <td>Bronze</td>\n",
              "    </tr>\n",
              "    <tr>\n",
              "      <th>3</th>\n",
              "      <td>Bronze</td>\n",
              "    </tr>\n",
              "    <tr>\n",
              "      <th>4</th>\n",
              "      <td>Gold</td>\n",
              "    </tr>\n",
              "    <tr>\n",
              "      <th>...</th>\n",
              "      <td>...</td>\n",
              "    </tr>\n",
              "    <tr>\n",
              "      <th>27169</th>\n",
              "      <td>Gold</td>\n",
              "    </tr>\n",
              "    <tr>\n",
              "      <th>27170</th>\n",
              "      <td>Gold</td>\n",
              "    </tr>\n",
              "    <tr>\n",
              "      <th>27171</th>\n",
              "      <td>Silver</td>\n",
              "    </tr>\n",
              "    <tr>\n",
              "      <th>27172</th>\n",
              "      <td>Silver</td>\n",
              "    </tr>\n",
              "    <tr>\n",
              "      <th>27173</th>\n",
              "      <td>Silver</td>\n",
              "    </tr>\n",
              "  </tbody>\n",
              "</table>\n",
              "<p>27174 rows × 1 columns</p>\n",
              "</div><br><label><b>dtype:</b> category</label>"
            ]
          },
          "metadata": {},
          "execution_count": 36
        }
      ]
    },
    {
      "cell_type": "code",
      "execution_count": 37,
      "metadata": {
        "id": "y0jfCp2R8JRn",
        "outputId": "0182ed2d-a2f6-4df8-f91e-292c1c29c548",
        "colab": {
          "base_uri": "https://localhost:8080/",
          "height": 325
        }
      },
      "outputs": [
        {
          "output_type": "stream",
          "name": "stderr",
          "text": [
            "/usr/local/lib/python3.11/dist-packages/google/colab/_interactive_table_hint_button.py:178: FutureWarning: Index.format is deprecated and will be removed in a future version. Convert using index.astype(str) or index.map(formatter) instead.\n",
            "  df_html=dataframe._repr_html_(),  # pylint: disable=protected-access\n"
          ]
        },
        {
          "output_type": "execute_result",
          "data": {
            "text/plain": [
              "   Year    City      Sport     Discipline        Athlete Name  NOC Gender  \\\n",
              "0  1896  Athens    Cycling  Cycling Track       FLAMENG, Léon  FRA    Men   \n",
              "1  1896  Athens    Cycling  Cycling Track  KOLETTIS, Georgios  GRE    Men   \n",
              "4  1896  Athens  Athletics      Athletics       BURKE, Thomas  USA    Men   \n",
              "5  1896  Athens  Athletics      Athletics      HOFMANN, Fritz  GER    Men   \n",
              "2  1896  Athens  Athletics      Athletics       LANE, Francis  USA    Men   \n",
              "3  1896  Athens  Athletics      Athletics    SZOKOLYI, Alajos  HUN    Men   \n",
              "6  1896  Athens   Aquatics       Swimming       HAJOS, Alfred  HUN    Men   \n",
              "\n",
              "            Event Event Gender   Medal  \n",
              "0           100km            M    Gold  \n",
              "1           100km            M  Silver  \n",
              "4            100m            M    Gold  \n",
              "5            100m            M  Silver  \n",
              "2            100m            M  Bronze  \n",
              "3            100m            M  Bronze  \n",
              "6  100m freestyle            M    Gold  "
            ],
            "text/html": [
              "\n",
              "  <div id=\"df-68f16336-2a85-4995-9d94-a97c80dac585\" class=\"colab-df-container\">\n",
              "    <div>\n",
              "<style scoped>\n",
              "    .dataframe tbody tr th:only-of-type {\n",
              "        vertical-align: middle;\n",
              "    }\n",
              "\n",
              "    .dataframe tbody tr th {\n",
              "        vertical-align: top;\n",
              "    }\n",
              "\n",
              "    .dataframe thead th {\n",
              "        text-align: right;\n",
              "    }\n",
              "</style>\n",
              "<table border=\"1\" class=\"dataframe\">\n",
              "  <thead>\n",
              "    <tr style=\"text-align: right;\">\n",
              "      <th></th>\n",
              "      <th>Year</th>\n",
              "      <th>City</th>\n",
              "      <th>Sport</th>\n",
              "      <th>Discipline</th>\n",
              "      <th>Athlete Name</th>\n",
              "      <th>NOC</th>\n",
              "      <th>Gender</th>\n",
              "      <th>Event</th>\n",
              "      <th>Event Gender</th>\n",
              "      <th>Medal</th>\n",
              "    </tr>\n",
              "  </thead>\n",
              "  <tbody>\n",
              "    <tr>\n",
              "      <th>0</th>\n",
              "      <td>1896</td>\n",
              "      <td>Athens</td>\n",
              "      <td>Cycling</td>\n",
              "      <td>Cycling Track</td>\n",
              "      <td>FLAMENG, Léon</td>\n",
              "      <td>FRA</td>\n",
              "      <td>Men</td>\n",
              "      <td>100km</td>\n",
              "      <td>M</td>\n",
              "      <td>Gold</td>\n",
              "    </tr>\n",
              "    <tr>\n",
              "      <th>1</th>\n",
              "      <td>1896</td>\n",
              "      <td>Athens</td>\n",
              "      <td>Cycling</td>\n",
              "      <td>Cycling Track</td>\n",
              "      <td>KOLETTIS, Georgios</td>\n",
              "      <td>GRE</td>\n",
              "      <td>Men</td>\n",
              "      <td>100km</td>\n",
              "      <td>M</td>\n",
              "      <td>Silver</td>\n",
              "    </tr>\n",
              "    <tr>\n",
              "      <th>4</th>\n",
              "      <td>1896</td>\n",
              "      <td>Athens</td>\n",
              "      <td>Athletics</td>\n",
              "      <td>Athletics</td>\n",
              "      <td>BURKE, Thomas</td>\n",
              "      <td>USA</td>\n",
              "      <td>Men</td>\n",
              "      <td>100m</td>\n",
              "      <td>M</td>\n",
              "      <td>Gold</td>\n",
              "    </tr>\n",
              "    <tr>\n",
              "      <th>5</th>\n",
              "      <td>1896</td>\n",
              "      <td>Athens</td>\n",
              "      <td>Athletics</td>\n",
              "      <td>Athletics</td>\n",
              "      <td>HOFMANN, Fritz</td>\n",
              "      <td>GER</td>\n",
              "      <td>Men</td>\n",
              "      <td>100m</td>\n",
              "      <td>M</td>\n",
              "      <td>Silver</td>\n",
              "    </tr>\n",
              "    <tr>\n",
              "      <th>2</th>\n",
              "      <td>1896</td>\n",
              "      <td>Athens</td>\n",
              "      <td>Athletics</td>\n",
              "      <td>Athletics</td>\n",
              "      <td>LANE, Francis</td>\n",
              "      <td>USA</td>\n",
              "      <td>Men</td>\n",
              "      <td>100m</td>\n",
              "      <td>M</td>\n",
              "      <td>Bronze</td>\n",
              "    </tr>\n",
              "    <tr>\n",
              "      <th>3</th>\n",
              "      <td>1896</td>\n",
              "      <td>Athens</td>\n",
              "      <td>Athletics</td>\n",
              "      <td>Athletics</td>\n",
              "      <td>SZOKOLYI, Alajos</td>\n",
              "      <td>HUN</td>\n",
              "      <td>Men</td>\n",
              "      <td>100m</td>\n",
              "      <td>M</td>\n",
              "      <td>Bronze</td>\n",
              "    </tr>\n",
              "    <tr>\n",
              "      <th>6</th>\n",
              "      <td>1896</td>\n",
              "      <td>Athens</td>\n",
              "      <td>Aquatics</td>\n",
              "      <td>Swimming</td>\n",
              "      <td>HAJOS, Alfred</td>\n",
              "      <td>HUN</td>\n",
              "      <td>Men</td>\n",
              "      <td>100m freestyle</td>\n",
              "      <td>M</td>\n",
              "      <td>Gold</td>\n",
              "    </tr>\n",
              "  </tbody>\n",
              "</table>\n",
              "</div>\n",
              "    <div class=\"colab-df-buttons\">\n",
              "\n",
              "  <div class=\"colab-df-container\">\n",
              "    <button class=\"colab-df-convert\" onclick=\"convertToInteractive('df-68f16336-2a85-4995-9d94-a97c80dac585')\"\n",
              "            title=\"Convert this dataframe to an interactive table.\"\n",
              "            style=\"display:none;\">\n",
              "\n",
              "  <svg xmlns=\"http://www.w3.org/2000/svg\" height=\"24px\" viewBox=\"0 -960 960 960\">\n",
              "    <path d=\"M120-120v-720h720v720H120Zm60-500h600v-160H180v160Zm220 220h160v-160H400v160Zm0 220h160v-160H400v160ZM180-400h160v-160H180v160Zm440 0h160v-160H620v160ZM180-180h160v-160H180v160Zm440 0h160v-160H620v160Z\"/>\n",
              "  </svg>\n",
              "    </button>\n",
              "\n",
              "  <style>\n",
              "    .colab-df-container {\n",
              "      display:flex;\n",
              "      gap: 12px;\n",
              "    }\n",
              "\n",
              "    .colab-df-convert {\n",
              "      background-color: #E8F0FE;\n",
              "      border: none;\n",
              "      border-radius: 50%;\n",
              "      cursor: pointer;\n",
              "      display: none;\n",
              "      fill: #1967D2;\n",
              "      height: 32px;\n",
              "      padding: 0 0 0 0;\n",
              "      width: 32px;\n",
              "    }\n",
              "\n",
              "    .colab-df-convert:hover {\n",
              "      background-color: #E2EBFA;\n",
              "      box-shadow: 0px 1px 2px rgba(60, 64, 67, 0.3), 0px 1px 3px 1px rgba(60, 64, 67, 0.15);\n",
              "      fill: #174EA6;\n",
              "    }\n",
              "\n",
              "    .colab-df-buttons div {\n",
              "      margin-bottom: 4px;\n",
              "    }\n",
              "\n",
              "    [theme=dark] .colab-df-convert {\n",
              "      background-color: #3B4455;\n",
              "      fill: #D2E3FC;\n",
              "    }\n",
              "\n",
              "    [theme=dark] .colab-df-convert:hover {\n",
              "      background-color: #434B5C;\n",
              "      box-shadow: 0px 1px 3px 1px rgba(0, 0, 0, 0.15);\n",
              "      filter: drop-shadow(0px 1px 2px rgba(0, 0, 0, 0.3));\n",
              "      fill: #FFFFFF;\n",
              "    }\n",
              "  </style>\n",
              "\n",
              "    <script>\n",
              "      const buttonEl =\n",
              "        document.querySelector('#df-68f16336-2a85-4995-9d94-a97c80dac585 button.colab-df-convert');\n",
              "      buttonEl.style.display =\n",
              "        google.colab.kernel.accessAllowed ? 'block' : 'none';\n",
              "\n",
              "      async function convertToInteractive(key) {\n",
              "        const element = document.querySelector('#df-68f16336-2a85-4995-9d94-a97c80dac585');\n",
              "        const dataTable =\n",
              "          await google.colab.kernel.invokeFunction('convertToInteractive',\n",
              "                                                    [key], {});\n",
              "        if (!dataTable) return;\n",
              "\n",
              "        const docLinkHtml = 'Like what you see? Visit the ' +\n",
              "          '<a target=\"_blank\" href=https://colab.research.google.com/notebooks/data_table.ipynb>data table notebook</a>'\n",
              "          + ' to learn more about interactive tables.';\n",
              "        element.innerHTML = '';\n",
              "        dataTable['output_type'] = 'display_data';\n",
              "        await google.colab.output.renderOutput(dataTable, element);\n",
              "        const docLink = document.createElement('div');\n",
              "        docLink.innerHTML = docLinkHtml;\n",
              "        element.appendChild(docLink);\n",
              "      }\n",
              "    </script>\n",
              "  </div>\n",
              "\n",
              "\n",
              "    <div id=\"df-abdbeb31-bc58-4464-a2aa-9f1ff9b93f6c\">\n",
              "      <button class=\"colab-df-quickchart\" onclick=\"quickchart('df-abdbeb31-bc58-4464-a2aa-9f1ff9b93f6c')\"\n",
              "                title=\"Suggest charts\"\n",
              "                style=\"display:none;\">\n",
              "\n",
              "<svg xmlns=\"http://www.w3.org/2000/svg\" height=\"24px\"viewBox=\"0 0 24 24\"\n",
              "     width=\"24px\">\n",
              "    <g>\n",
              "        <path d=\"M19 3H5c-1.1 0-2 .9-2 2v14c0 1.1.9 2 2 2h14c1.1 0 2-.9 2-2V5c0-1.1-.9-2-2-2zM9 17H7v-7h2v7zm4 0h-2V7h2v10zm4 0h-2v-4h2v4z\"/>\n",
              "    </g>\n",
              "</svg>\n",
              "      </button>\n",
              "\n",
              "<style>\n",
              "  .colab-df-quickchart {\n",
              "      --bg-color: #E8F0FE;\n",
              "      --fill-color: #1967D2;\n",
              "      --hover-bg-color: #E2EBFA;\n",
              "      --hover-fill-color: #174EA6;\n",
              "      --disabled-fill-color: #AAA;\n",
              "      --disabled-bg-color: #DDD;\n",
              "  }\n",
              "\n",
              "  [theme=dark] .colab-df-quickchart {\n",
              "      --bg-color: #3B4455;\n",
              "      --fill-color: #D2E3FC;\n",
              "      --hover-bg-color: #434B5C;\n",
              "      --hover-fill-color: #FFFFFF;\n",
              "      --disabled-bg-color: #3B4455;\n",
              "      --disabled-fill-color: #666;\n",
              "  }\n",
              "\n",
              "  .colab-df-quickchart {\n",
              "    background-color: var(--bg-color);\n",
              "    border: none;\n",
              "    border-radius: 50%;\n",
              "    cursor: pointer;\n",
              "    display: none;\n",
              "    fill: var(--fill-color);\n",
              "    height: 32px;\n",
              "    padding: 0;\n",
              "    width: 32px;\n",
              "  }\n",
              "\n",
              "  .colab-df-quickchart:hover {\n",
              "    background-color: var(--hover-bg-color);\n",
              "    box-shadow: 0 1px 2px rgba(60, 64, 67, 0.3), 0 1px 3px 1px rgba(60, 64, 67, 0.15);\n",
              "    fill: var(--button-hover-fill-color);\n",
              "  }\n",
              "\n",
              "  .colab-df-quickchart-complete:disabled,\n",
              "  .colab-df-quickchart-complete:disabled:hover {\n",
              "    background-color: var(--disabled-bg-color);\n",
              "    fill: var(--disabled-fill-color);\n",
              "    box-shadow: none;\n",
              "  }\n",
              "\n",
              "  .colab-df-spinner {\n",
              "    border: 2px solid var(--fill-color);\n",
              "    border-color: transparent;\n",
              "    border-bottom-color: var(--fill-color);\n",
              "    animation:\n",
              "      spin 1s steps(1) infinite;\n",
              "  }\n",
              "\n",
              "  @keyframes spin {\n",
              "    0% {\n",
              "      border-color: transparent;\n",
              "      border-bottom-color: var(--fill-color);\n",
              "      border-left-color: var(--fill-color);\n",
              "    }\n",
              "    20% {\n",
              "      border-color: transparent;\n",
              "      border-left-color: var(--fill-color);\n",
              "      border-top-color: var(--fill-color);\n",
              "    }\n",
              "    30% {\n",
              "      border-color: transparent;\n",
              "      border-left-color: var(--fill-color);\n",
              "      border-top-color: var(--fill-color);\n",
              "      border-right-color: var(--fill-color);\n",
              "    }\n",
              "    40% {\n",
              "      border-color: transparent;\n",
              "      border-right-color: var(--fill-color);\n",
              "      border-top-color: var(--fill-color);\n",
              "    }\n",
              "    60% {\n",
              "      border-color: transparent;\n",
              "      border-right-color: var(--fill-color);\n",
              "    }\n",
              "    80% {\n",
              "      border-color: transparent;\n",
              "      border-right-color: var(--fill-color);\n",
              "      border-bottom-color: var(--fill-color);\n",
              "    }\n",
              "    90% {\n",
              "      border-color: transparent;\n",
              "      border-bottom-color: var(--fill-color);\n",
              "    }\n",
              "  }\n",
              "</style>\n",
              "\n",
              "      <script>\n",
              "        async function quickchart(key) {\n",
              "          const quickchartButtonEl =\n",
              "            document.querySelector('#' + key + ' button');\n",
              "          quickchartButtonEl.disabled = true;  // To prevent multiple clicks.\n",
              "          quickchartButtonEl.classList.add('colab-df-spinner');\n",
              "          try {\n",
              "            const charts = await google.colab.kernel.invokeFunction(\n",
              "                'suggestCharts', [key], {});\n",
              "          } catch (error) {\n",
              "            console.error('Error during call to suggestCharts:', error);\n",
              "          }\n",
              "          quickchartButtonEl.classList.remove('colab-df-spinner');\n",
              "          quickchartButtonEl.classList.add('colab-df-quickchart-complete');\n",
              "        }\n",
              "        (() => {\n",
              "          let quickchartButtonEl =\n",
              "            document.querySelector('#df-abdbeb31-bc58-4464-a2aa-9f1ff9b93f6c button');\n",
              "          quickchartButtonEl.style.display =\n",
              "            google.colab.kernel.accessAllowed ? 'block' : 'none';\n",
              "        })();\n",
              "      </script>\n",
              "    </div>\n",
              "\n",
              "    </div>\n",
              "  </div>\n"
            ],
            "application/vnd.google.colaboratory.intrinsic+json": {
              "type": "dataframe",
              "summary": "{\n  \"name\": \"oo\",\n  \"rows\": 7,\n  \"fields\": [\n    {\n      \"column\": \"Year\",\n      \"properties\": {\n        \"dtype\": \"number\",\n        \"std\": 0,\n        \"min\": 1896,\n        \"max\": 1896,\n        \"num_unique_values\": 1,\n        \"samples\": [\n          1896\n        ],\n        \"semantic_type\": \"\",\n        \"description\": \"\"\n      }\n    },\n    {\n      \"column\": \"City\",\n      \"properties\": {\n        \"dtype\": \"category\",\n        \"num_unique_values\": 1,\n        \"samples\": [\n          \"Athens\"\n        ],\n        \"semantic_type\": \"\",\n        \"description\": \"\"\n      }\n    },\n    {\n      \"column\": \"Sport\",\n      \"properties\": {\n        \"dtype\": \"category\",\n        \"num_unique_values\": 3,\n        \"samples\": [\n          \"Cycling\"\n        ],\n        \"semantic_type\": \"\",\n        \"description\": \"\"\n      }\n    },\n    {\n      \"column\": \"Discipline\",\n      \"properties\": {\n        \"dtype\": \"category\",\n        \"num_unique_values\": 3,\n        \"samples\": [\n          \"Cycling Track\"\n        ],\n        \"semantic_type\": \"\",\n        \"description\": \"\"\n      }\n    },\n    {\n      \"column\": \"Athlete Name\",\n      \"properties\": {\n        \"dtype\": \"string\",\n        \"num_unique_values\": 7,\n        \"samples\": [\n          \"FLAMENG, L\\u00e9on\"\n        ],\n        \"semantic_type\": \"\",\n        \"description\": \"\"\n      }\n    },\n    {\n      \"column\": \"NOC\",\n      \"properties\": {\n        \"dtype\": \"string\",\n        \"num_unique_values\": 5,\n        \"samples\": [\n          \"GRE\"\n        ],\n        \"semantic_type\": \"\",\n        \"description\": \"\"\n      }\n    },\n    {\n      \"column\": \"Gender\",\n      \"properties\": {\n        \"dtype\": \"category\",\n        \"num_unique_values\": 1,\n        \"samples\": [\n          \"Men\"\n        ],\n        \"semantic_type\": \"\",\n        \"description\": \"\"\n      }\n    },\n    {\n      \"column\": \"Event\",\n      \"properties\": {\n        \"dtype\": \"category\",\n        \"num_unique_values\": 3,\n        \"samples\": [\n          \"100km\"\n        ],\n        \"semantic_type\": \"\",\n        \"description\": \"\"\n      }\n    },\n    {\n      \"column\": \"Event Gender\",\n      \"properties\": {\n        \"dtype\": \"category\",\n        \"num_unique_values\": 1,\n        \"samples\": [\n          \"M\"\n        ],\n        \"semantic_type\": \"\",\n        \"description\": \"\"\n      }\n    },\n    {\n      \"column\": \"Medal\",\n      \"properties\": {\n        \"dtype\": \"category\",\n        \"num_unique_values\": 3,\n        \"samples\": [\n          \"Gold\"\n        ],\n        \"semantic_type\": \"\",\n        \"description\": \"\"\n      }\n    }\n  ]\n}"
            }
          },
          "metadata": {},
          "execution_count": 37
        }
      ],
      "source": [
        "oo.sort_values(by=[\"Year\", \"Event\", \"Medal\"], ascending=[True, True, False]).head(7)"
      ]
    },
    {
      "cell_type": "markdown",
      "source": [
        "## Memory usage of different dtypes"
      ],
      "metadata": {
        "id": "gIiaB-pcEKdf"
      }
    },
    {
      "cell_type": "code",
      "source": [
        "!pip install --quiet pandas==2.0.2\n",
        "\n",
        "import pandas as pd\n",
        "from pathlib import Path\n",
        "\n",
        "if not Path(\"olympics_1896_2004.csv\").exists():\n",
        "  !wget https://github.com/jonfernandes/pandas_essential/raw/main/olympics_1896_2004.csv\n",
        "\n",
        "filename = \"olympics_1896_2004.csv\"\n",
        "print(\"Installed all of the necessary files for this section ...\")"
      ],
      "metadata": {
        "id": "6YonaJwdETbf"
      },
      "execution_count": null,
      "outputs": []
    },
    {
      "cell_type": "code",
      "execution_count": 41,
      "metadata": {
        "id": "9zzPWxb2-uRW",
        "outputId": "bf19868d-3928-4e68-a5b9-d07515e29c30",
        "colab": {
          "base_uri": "https://localhost:8080/",
          "height": 521
        }
      },
      "outputs": [
        {
          "output_type": "stream",
          "name": "stderr",
          "text": [
            "/usr/local/lib/python3.11/dist-packages/google/colab/_reprs.py:217: FutureWarning: RangeIndex.format is deprecated and will be removed in a future version. Convert using index.astype(str) or index.map(formatter) instead.\n",
            "  series_as_table_html = series.to_frame()._repr_html_()  # pylint: disable=protected-access\n",
            "/usr/local/lib/python3.11/dist-packages/google/colab/_reprs.py:217: FutureWarning: Index.format is deprecated and will be removed in a future version. Convert using index.astype(str) or index.map(formatter) instead.\n",
            "  series_as_table_html = series.to_frame()._repr_html_()  # pylint: disable=protected-access\n"
          ]
        },
        {
          "output_type": "execute_result",
          "data": {
            "text/plain": [
              "Year             int64\n",
              "City            object\n",
              "Sport           object\n",
              "Discipline      object\n",
              "Athlete Name    object\n",
              "NOC             object\n",
              "Gender          object\n",
              "Event           object\n",
              "Event Gender    object\n",
              "Medal           object\n",
              "Position         int64\n",
              "dtype: object"
            ],
            "text/html": [
              "<div>\n",
              "<style scoped>\n",
              "    .dataframe tbody tr th:only-of-type {\n",
              "        vertical-align: middle;\n",
              "    }\n",
              "\n",
              "    .dataframe tbody tr th {\n",
              "        vertical-align: top;\n",
              "    }\n",
              "\n",
              "    .dataframe thead th {\n",
              "        text-align: right;\n",
              "    }\n",
              "</style>\n",
              "<table border=\"1\" class=\"dataframe\">\n",
              "  <thead>\n",
              "    <tr style=\"text-align: right;\">\n",
              "      <th></th>\n",
              "      <th>0</th>\n",
              "    </tr>\n",
              "  </thead>\n",
              "  <tbody>\n",
              "    <tr>\n",
              "      <th>Year</th>\n",
              "      <td>int64</td>\n",
              "    </tr>\n",
              "    <tr>\n",
              "      <th>City</th>\n",
              "      <td>object</td>\n",
              "    </tr>\n",
              "    <tr>\n",
              "      <th>Sport</th>\n",
              "      <td>object</td>\n",
              "    </tr>\n",
              "    <tr>\n",
              "      <th>Discipline</th>\n",
              "      <td>object</td>\n",
              "    </tr>\n",
              "    <tr>\n",
              "      <th>Athlete Name</th>\n",
              "      <td>object</td>\n",
              "    </tr>\n",
              "    <tr>\n",
              "      <th>NOC</th>\n",
              "      <td>object</td>\n",
              "    </tr>\n",
              "    <tr>\n",
              "      <th>Gender</th>\n",
              "      <td>object</td>\n",
              "    </tr>\n",
              "    <tr>\n",
              "      <th>Event</th>\n",
              "      <td>object</td>\n",
              "    </tr>\n",
              "    <tr>\n",
              "      <th>Event Gender</th>\n",
              "      <td>object</td>\n",
              "    </tr>\n",
              "    <tr>\n",
              "      <th>Medal</th>\n",
              "      <td>object</td>\n",
              "    </tr>\n",
              "    <tr>\n",
              "      <th>Position</th>\n",
              "      <td>int64</td>\n",
              "    </tr>\n",
              "  </tbody>\n",
              "</table>\n",
              "</div><br><label><b>dtype:</b> object</label>"
            ]
          },
          "metadata": {},
          "execution_count": 41
        }
      ],
      "source": [
        "df = pd.read_csv(filename, skiprows=5)\n",
        "df.dtypes"
      ]
    },
    {
      "cell_type": "code",
      "execution_count": 38,
      "metadata": {
        "id": "ZLK0wGa0-yJl",
        "outputId": "17e24674-9c7b-4f40-c099-4da857082adc",
        "colab": {
          "base_uri": "https://localhost:8080/",
          "height": 489
        }
      },
      "outputs": [
        {
          "output_type": "stream",
          "name": "stderr",
          "text": [
            "/usr/local/lib/python3.11/dist-packages/google/colab/_reprs.py:217: FutureWarning: RangeIndex.format is deprecated and will be removed in a future version. Convert using index.astype(str) or index.map(formatter) instead.\n",
            "  series_as_table_html = series.to_frame()._repr_html_()  # pylint: disable=protected-access\n",
            "/usr/local/lib/python3.11/dist-packages/google/colab/_reprs.py:217: FutureWarning: Index.format is deprecated and will be removed in a future version. Convert using index.astype(str) or index.map(formatter) instead.\n",
            "  series_as_table_html = series.to_frame()._repr_html_()  # pylint: disable=protected-access\n"
          ]
        },
        {
          "output_type": "execute_result",
          "data": {
            "text/plain": [
              "Year               int64\n",
              "City              object\n",
              "Sport             object\n",
              "Discipline        object\n",
              "Athlete Name      object\n",
              "NOC               object\n",
              "Gender          category\n",
              "Event             object\n",
              "Event Gender    category\n",
              "Medal           category\n",
              "dtype: object"
            ],
            "text/html": [
              "<div>\n",
              "<style scoped>\n",
              "    .dataframe tbody tr th:only-of-type {\n",
              "        vertical-align: middle;\n",
              "    }\n",
              "\n",
              "    .dataframe tbody tr th {\n",
              "        vertical-align: top;\n",
              "    }\n",
              "\n",
              "    .dataframe thead th {\n",
              "        text-align: right;\n",
              "    }\n",
              "</style>\n",
              "<table border=\"1\" class=\"dataframe\">\n",
              "  <thead>\n",
              "    <tr style=\"text-align: right;\">\n",
              "      <th></th>\n",
              "      <th>0</th>\n",
              "    </tr>\n",
              "  </thead>\n",
              "  <tbody>\n",
              "    <tr>\n",
              "      <th>Year</th>\n",
              "      <td>int64</td>\n",
              "    </tr>\n",
              "    <tr>\n",
              "      <th>City</th>\n",
              "      <td>object</td>\n",
              "    </tr>\n",
              "    <tr>\n",
              "      <th>Sport</th>\n",
              "      <td>object</td>\n",
              "    </tr>\n",
              "    <tr>\n",
              "      <th>Discipline</th>\n",
              "      <td>object</td>\n",
              "    </tr>\n",
              "    <tr>\n",
              "      <th>Athlete Name</th>\n",
              "      <td>object</td>\n",
              "    </tr>\n",
              "    <tr>\n",
              "      <th>NOC</th>\n",
              "      <td>object</td>\n",
              "    </tr>\n",
              "    <tr>\n",
              "      <th>Gender</th>\n",
              "      <td>category</td>\n",
              "    </tr>\n",
              "    <tr>\n",
              "      <th>Event</th>\n",
              "      <td>object</td>\n",
              "    </tr>\n",
              "    <tr>\n",
              "      <th>Event Gender</th>\n",
              "      <td>category</td>\n",
              "    </tr>\n",
              "    <tr>\n",
              "      <th>Medal</th>\n",
              "      <td>category</td>\n",
              "    </tr>\n",
              "  </tbody>\n",
              "</table>\n",
              "</div><br><label><b>dtype:</b> object</label>"
            ]
          },
          "metadata": {},
          "execution_count": 38
        }
      ],
      "source": [
        "oo.dtypes"
      ]
    },
    {
      "cell_type": "code",
      "source": [
        "oo.Medal.memory_usage?"
      ],
      "metadata": {
        "id": "Cvd_ExfYda3V"
      },
      "execution_count": 39,
      "outputs": []
    },
    {
      "cell_type": "code",
      "execution_count": 42,
      "metadata": {
        "id": "BZSld4yT2DMg",
        "outputId": "aece23f0-8c0c-43f4-d575-cf28e4855f4c",
        "colab": {
          "base_uri": "https://localhost:8080/"
        }
      },
      "outputs": [
        {
          "output_type": "stream",
          "name": "stdout",
          "text": [
            "Medal series memory usage using dtype category: 27601\n",
            "Medal series memory usage using dtype object: 1693732\n"
          ]
        }
      ],
      "source": [
        "print(f\"Medal series memory usage using dtype category: {oo.Medal.memory_usage(deep=True)}\")\n",
        "print(f\"Medal series memory usage using dtype object: {df.Medal.memory_usage(deep=True)}\")"
      ]
    },
    {
      "cell_type": "code",
      "execution_count": 43,
      "metadata": {
        "id": "EZoF7uo-BcAV",
        "outputId": "7732a89e-8107-4243-b53c-252691610a28",
        "colab": {
          "base_uri": "https://localhost:8080/"
        }
      },
      "outputs": [
        {
          "output_type": "execute_result",
          "data": {
            "text/plain": [
              "0.01629596654016102"
            ]
          },
          "metadata": {},
          "execution_count": 43
        }
      ],
      "source": [
        "oo.Medal.memory_usage(deep=True) / df.Medal.memory_usage(deep=True)"
      ]
    },
    {
      "cell_type": "code",
      "execution_count": 48,
      "metadata": {
        "id": "rrwnjQH32DMf",
        "outputId": "1bebe92e-a5a2-4022-f821-a56fe51abc36",
        "colab": {
          "base_uri": "https://localhost:8080/"
        }
      },
      "outputs": [
        {
          "output_type": "stream",
          "name": "stdout",
          "text": [
            "Gender series memory usage using dtype category: 27536\n",
            "Gender series memory usage using dtype object: 1643698\n",
            "Gender series memory usage using dtype category: 27588\n",
            "Gender series memory usage using dtype object: 1576224\n"
          ]
        }
      ],
      "source": [
        "print(f\"Gender series memory usage using dtype category: {oo.Gender.memory_usage(deep=True)}\")\n",
        "print(f\"Gender series memory usage using dtype object: {df.Gender.memory_usage(deep=True)}\")\n",
        "print(f\"Gender series memory usage using dtype category: {oo['Event Gender'].memory_usage(deep=True)}\")\n",
        "print(f\"Gender series memory usage using dtype object: {df['Event Gender'].memory_usage(deep=True)}\")"
      ]
    },
    {
      "cell_type": "code",
      "execution_count": 44,
      "metadata": {
        "id": "XNQxzZDw9lz_",
        "outputId": "2cc9c440-774e-4a0d-ecf3-fc6ca6e3c156",
        "colab": {
          "base_uri": "https://localhost:8080/",
          "height": 459
        }
      },
      "outputs": [
        {
          "output_type": "execute_result",
          "data": {
            "text/plain": [
              "0        Athens\n",
              "1        Athens\n",
              "2        Athens\n",
              "3        Athens\n",
              "4        Athens\n",
              "          ...  \n",
              "27169    Athens\n",
              "27170    Athens\n",
              "27171    Athens\n",
              "27172    Athens\n",
              "27173    Athens\n",
              "Name: City, Length: 27174, dtype: string"
            ],
            "text/html": [
              "<div>\n",
              "<style scoped>\n",
              "    .dataframe tbody tr th:only-of-type {\n",
              "        vertical-align: middle;\n",
              "    }\n",
              "\n",
              "    .dataframe tbody tr th {\n",
              "        vertical-align: top;\n",
              "    }\n",
              "\n",
              "    .dataframe thead th {\n",
              "        text-align: right;\n",
              "    }\n",
              "</style>\n",
              "<table border=\"1\" class=\"dataframe\">\n",
              "  <thead>\n",
              "    <tr style=\"text-align: right;\">\n",
              "      <th></th>\n",
              "      <th>City</th>\n",
              "    </tr>\n",
              "  </thead>\n",
              "  <tbody>\n",
              "    <tr>\n",
              "      <th>0</th>\n",
              "      <td>Athens</td>\n",
              "    </tr>\n",
              "    <tr>\n",
              "      <th>1</th>\n",
              "      <td>Athens</td>\n",
              "    </tr>\n",
              "    <tr>\n",
              "      <th>2</th>\n",
              "      <td>Athens</td>\n",
              "    </tr>\n",
              "    <tr>\n",
              "      <th>3</th>\n",
              "      <td>Athens</td>\n",
              "    </tr>\n",
              "    <tr>\n",
              "      <th>4</th>\n",
              "      <td>Athens</td>\n",
              "    </tr>\n",
              "    <tr>\n",
              "      <th>...</th>\n",
              "      <td>...</td>\n",
              "    </tr>\n",
              "    <tr>\n",
              "      <th>27169</th>\n",
              "      <td>Athens</td>\n",
              "    </tr>\n",
              "    <tr>\n",
              "      <th>27170</th>\n",
              "      <td>Athens</td>\n",
              "    </tr>\n",
              "    <tr>\n",
              "      <th>27171</th>\n",
              "      <td>Athens</td>\n",
              "    </tr>\n",
              "    <tr>\n",
              "      <th>27172</th>\n",
              "      <td>Athens</td>\n",
              "    </tr>\n",
              "    <tr>\n",
              "      <th>27173</th>\n",
              "      <td>Athens</td>\n",
              "    </tr>\n",
              "  </tbody>\n",
              "</table>\n",
              "<p>27174 rows × 1 columns</p>\n",
              "</div><br><label><b>dtype:</b> string</label>"
            ]
          },
          "metadata": {},
          "execution_count": 44
        }
      ],
      "source": [
        "oo.City.astype(\"string\")"
      ]
    },
    {
      "cell_type": "code",
      "execution_count": 45,
      "metadata": {
        "id": "klsqOxME9-XF",
        "outputId": "71fda397-0130-4aa8-b990-22753ce665ca",
        "colab": {
          "base_uri": "https://localhost:8080/",
          "height": 220
        }
      },
      "outputs": [
        {
          "output_type": "stream",
          "name": "stderr",
          "text": [
            "/usr/local/lib/python3.11/dist-packages/google/colab/_interactive_table_hint_button.py:178: FutureWarning: Index.format is deprecated and will be removed in a future version. Convert using index.astype(str) or index.map(formatter) instead.\n",
            "  df_html=dataframe._repr_html_(),  # pylint: disable=protected-access\n"
          ]
        },
        {
          "output_type": "execute_result",
          "data": {
            "text/plain": [
              "       Year    City          Sport       Discipline  \\\n",
              "13148  1972  Munich  Canoe / Kayak  Canoe / Kayak S   \n",
              "11489  1964   Tokyo     Equestrian          Jumping   \n",
              "\n",
              "                    Athlete Name  NOC Gender               Event Event Gender  \\\n",
              "13148       BAUES, Wilhelm Bernd  FRG    Men  C-2 (canoe double)            M   \n",
              "11489  LEFRANT, Guy Robert Marie  FRA    Men                team            X   \n",
              "\n",
              "        Medal  \n",
              "13148  Silver  \n",
              "11489  Silver  "
            ],
            "text/html": [
              "\n",
              "  <div id=\"df-00bd1047-ad2c-4a90-8aeb-a810517120e8\" class=\"colab-df-container\">\n",
              "    <div>\n",
              "<style scoped>\n",
              "    .dataframe tbody tr th:only-of-type {\n",
              "        vertical-align: middle;\n",
              "    }\n",
              "\n",
              "    .dataframe tbody tr th {\n",
              "        vertical-align: top;\n",
              "    }\n",
              "\n",
              "    .dataframe thead th {\n",
              "        text-align: right;\n",
              "    }\n",
              "</style>\n",
              "<table border=\"1\" class=\"dataframe\">\n",
              "  <thead>\n",
              "    <tr style=\"text-align: right;\">\n",
              "      <th></th>\n",
              "      <th>Year</th>\n",
              "      <th>City</th>\n",
              "      <th>Sport</th>\n",
              "      <th>Discipline</th>\n",
              "      <th>Athlete Name</th>\n",
              "      <th>NOC</th>\n",
              "      <th>Gender</th>\n",
              "      <th>Event</th>\n",
              "      <th>Event Gender</th>\n",
              "      <th>Medal</th>\n",
              "    </tr>\n",
              "  </thead>\n",
              "  <tbody>\n",
              "    <tr>\n",
              "      <th>13148</th>\n",
              "      <td>1972</td>\n",
              "      <td>Munich</td>\n",
              "      <td>Canoe / Kayak</td>\n",
              "      <td>Canoe / Kayak S</td>\n",
              "      <td>BAUES, Wilhelm Bernd</td>\n",
              "      <td>FRG</td>\n",
              "      <td>Men</td>\n",
              "      <td>C-2 (canoe double)</td>\n",
              "      <td>M</td>\n",
              "      <td>Silver</td>\n",
              "    </tr>\n",
              "    <tr>\n",
              "      <th>11489</th>\n",
              "      <td>1964</td>\n",
              "      <td>Tokyo</td>\n",
              "      <td>Equestrian</td>\n",
              "      <td>Jumping</td>\n",
              "      <td>LEFRANT, Guy Robert Marie</td>\n",
              "      <td>FRA</td>\n",
              "      <td>Men</td>\n",
              "      <td>team</td>\n",
              "      <td>X</td>\n",
              "      <td>Silver</td>\n",
              "    </tr>\n",
              "  </tbody>\n",
              "</table>\n",
              "</div>\n",
              "    <div class=\"colab-df-buttons\">\n",
              "\n",
              "  <div class=\"colab-df-container\">\n",
              "    <button class=\"colab-df-convert\" onclick=\"convertToInteractive('df-00bd1047-ad2c-4a90-8aeb-a810517120e8')\"\n",
              "            title=\"Convert this dataframe to an interactive table.\"\n",
              "            style=\"display:none;\">\n",
              "\n",
              "  <svg xmlns=\"http://www.w3.org/2000/svg\" height=\"24px\" viewBox=\"0 -960 960 960\">\n",
              "    <path d=\"M120-120v-720h720v720H120Zm60-500h600v-160H180v160Zm220 220h160v-160H400v160Zm0 220h160v-160H400v160ZM180-400h160v-160H180v160Zm440 0h160v-160H620v160ZM180-180h160v-160H180v160Zm440 0h160v-160H620v160Z\"/>\n",
              "  </svg>\n",
              "    </button>\n",
              "\n",
              "  <style>\n",
              "    .colab-df-container {\n",
              "      display:flex;\n",
              "      gap: 12px;\n",
              "    }\n",
              "\n",
              "    .colab-df-convert {\n",
              "      background-color: #E8F0FE;\n",
              "      border: none;\n",
              "      border-radius: 50%;\n",
              "      cursor: pointer;\n",
              "      display: none;\n",
              "      fill: #1967D2;\n",
              "      height: 32px;\n",
              "      padding: 0 0 0 0;\n",
              "      width: 32px;\n",
              "    }\n",
              "\n",
              "    .colab-df-convert:hover {\n",
              "      background-color: #E2EBFA;\n",
              "      box-shadow: 0px 1px 2px rgba(60, 64, 67, 0.3), 0px 1px 3px 1px rgba(60, 64, 67, 0.15);\n",
              "      fill: #174EA6;\n",
              "    }\n",
              "\n",
              "    .colab-df-buttons div {\n",
              "      margin-bottom: 4px;\n",
              "    }\n",
              "\n",
              "    [theme=dark] .colab-df-convert {\n",
              "      background-color: #3B4455;\n",
              "      fill: #D2E3FC;\n",
              "    }\n",
              "\n",
              "    [theme=dark] .colab-df-convert:hover {\n",
              "      background-color: #434B5C;\n",
              "      box-shadow: 0px 1px 3px 1px rgba(0, 0, 0, 0.15);\n",
              "      filter: drop-shadow(0px 1px 2px rgba(0, 0, 0, 0.3));\n",
              "      fill: #FFFFFF;\n",
              "    }\n",
              "  </style>\n",
              "\n",
              "    <script>\n",
              "      const buttonEl =\n",
              "        document.querySelector('#df-00bd1047-ad2c-4a90-8aeb-a810517120e8 button.colab-df-convert');\n",
              "      buttonEl.style.display =\n",
              "        google.colab.kernel.accessAllowed ? 'block' : 'none';\n",
              "\n",
              "      async function convertToInteractive(key) {\n",
              "        const element = document.querySelector('#df-00bd1047-ad2c-4a90-8aeb-a810517120e8');\n",
              "        const dataTable =\n",
              "          await google.colab.kernel.invokeFunction('convertToInteractive',\n",
              "                                                    [key], {});\n",
              "        if (!dataTable) return;\n",
              "\n",
              "        const docLinkHtml = 'Like what you see? Visit the ' +\n",
              "          '<a target=\"_blank\" href=https://colab.research.google.com/notebooks/data_table.ipynb>data table notebook</a>'\n",
              "          + ' to learn more about interactive tables.';\n",
              "        element.innerHTML = '';\n",
              "        dataTable['output_type'] = 'display_data';\n",
              "        await google.colab.output.renderOutput(dataTable, element);\n",
              "        const docLink = document.createElement('div');\n",
              "        docLink.innerHTML = docLinkHtml;\n",
              "        element.appendChild(docLink);\n",
              "      }\n",
              "    </script>\n",
              "  </div>\n",
              "\n",
              "\n",
              "    <div id=\"df-aabbd1c9-cdd4-4cb6-82c2-5eae37a77802\">\n",
              "      <button class=\"colab-df-quickchart\" onclick=\"quickchart('df-aabbd1c9-cdd4-4cb6-82c2-5eae37a77802')\"\n",
              "                title=\"Suggest charts\"\n",
              "                style=\"display:none;\">\n",
              "\n",
              "<svg xmlns=\"http://www.w3.org/2000/svg\" height=\"24px\"viewBox=\"0 0 24 24\"\n",
              "     width=\"24px\">\n",
              "    <g>\n",
              "        <path d=\"M19 3H5c-1.1 0-2 .9-2 2v14c0 1.1.9 2 2 2h14c1.1 0 2-.9 2-2V5c0-1.1-.9-2-2-2zM9 17H7v-7h2v7zm4 0h-2V7h2v10zm4 0h-2v-4h2v4z\"/>\n",
              "    </g>\n",
              "</svg>\n",
              "      </button>\n",
              "\n",
              "<style>\n",
              "  .colab-df-quickchart {\n",
              "      --bg-color: #E8F0FE;\n",
              "      --fill-color: #1967D2;\n",
              "      --hover-bg-color: #E2EBFA;\n",
              "      --hover-fill-color: #174EA6;\n",
              "      --disabled-fill-color: #AAA;\n",
              "      --disabled-bg-color: #DDD;\n",
              "  }\n",
              "\n",
              "  [theme=dark] .colab-df-quickchart {\n",
              "      --bg-color: #3B4455;\n",
              "      --fill-color: #D2E3FC;\n",
              "      --hover-bg-color: #434B5C;\n",
              "      --hover-fill-color: #FFFFFF;\n",
              "      --disabled-bg-color: #3B4455;\n",
              "      --disabled-fill-color: #666;\n",
              "  }\n",
              "\n",
              "  .colab-df-quickchart {\n",
              "    background-color: var(--bg-color);\n",
              "    border: none;\n",
              "    border-radius: 50%;\n",
              "    cursor: pointer;\n",
              "    display: none;\n",
              "    fill: var(--fill-color);\n",
              "    height: 32px;\n",
              "    padding: 0;\n",
              "    width: 32px;\n",
              "  }\n",
              "\n",
              "  .colab-df-quickchart:hover {\n",
              "    background-color: var(--hover-bg-color);\n",
              "    box-shadow: 0 1px 2px rgba(60, 64, 67, 0.3), 0 1px 3px 1px rgba(60, 64, 67, 0.15);\n",
              "    fill: var(--button-hover-fill-color);\n",
              "  }\n",
              "\n",
              "  .colab-df-quickchart-complete:disabled,\n",
              "  .colab-df-quickchart-complete:disabled:hover {\n",
              "    background-color: var(--disabled-bg-color);\n",
              "    fill: var(--disabled-fill-color);\n",
              "    box-shadow: none;\n",
              "  }\n",
              "\n",
              "  .colab-df-spinner {\n",
              "    border: 2px solid var(--fill-color);\n",
              "    border-color: transparent;\n",
              "    border-bottom-color: var(--fill-color);\n",
              "    animation:\n",
              "      spin 1s steps(1) infinite;\n",
              "  }\n",
              "\n",
              "  @keyframes spin {\n",
              "    0% {\n",
              "      border-color: transparent;\n",
              "      border-bottom-color: var(--fill-color);\n",
              "      border-left-color: var(--fill-color);\n",
              "    }\n",
              "    20% {\n",
              "      border-color: transparent;\n",
              "      border-left-color: var(--fill-color);\n",
              "      border-top-color: var(--fill-color);\n",
              "    }\n",
              "    30% {\n",
              "      border-color: transparent;\n",
              "      border-left-color: var(--fill-color);\n",
              "      border-top-color: var(--fill-color);\n",
              "      border-right-color: var(--fill-color);\n",
              "    }\n",
              "    40% {\n",
              "      border-color: transparent;\n",
              "      border-right-color: var(--fill-color);\n",
              "      border-top-color: var(--fill-color);\n",
              "    }\n",
              "    60% {\n",
              "      border-color: transparent;\n",
              "      border-right-color: var(--fill-color);\n",
              "    }\n",
              "    80% {\n",
              "      border-color: transparent;\n",
              "      border-right-color: var(--fill-color);\n",
              "      border-bottom-color: var(--fill-color);\n",
              "    }\n",
              "    90% {\n",
              "      border-color: transparent;\n",
              "      border-bottom-color: var(--fill-color);\n",
              "    }\n",
              "  }\n",
              "</style>\n",
              "\n",
              "      <script>\n",
              "        async function quickchart(key) {\n",
              "          const quickchartButtonEl =\n",
              "            document.querySelector('#' + key + ' button');\n",
              "          quickchartButtonEl.disabled = true;  // To prevent multiple clicks.\n",
              "          quickchartButtonEl.classList.add('colab-df-spinner');\n",
              "          try {\n",
              "            const charts = await google.colab.kernel.invokeFunction(\n",
              "                'suggestCharts', [key], {});\n",
              "          } catch (error) {\n",
              "            console.error('Error during call to suggestCharts:', error);\n",
              "          }\n",
              "          quickchartButtonEl.classList.remove('colab-df-spinner');\n",
              "          quickchartButtonEl.classList.add('colab-df-quickchart-complete');\n",
              "        }\n",
              "        (() => {\n",
              "          let quickchartButtonEl =\n",
              "            document.querySelector('#df-aabbd1c9-cdd4-4cb6-82c2-5eae37a77802 button');\n",
              "          quickchartButtonEl.style.display =\n",
              "            google.colab.kernel.accessAllowed ? 'block' : 'none';\n",
              "        })();\n",
              "      </script>\n",
              "    </div>\n",
              "\n",
              "    </div>\n",
              "  </div>\n"
            ],
            "application/vnd.google.colaboratory.intrinsic+json": {
              "type": "dataframe",
              "summary": "{\n  \"name\": \"oo\",\n  \"rows\": 2,\n  \"fields\": [\n    {\n      \"column\": \"Year\",\n      \"properties\": {\n        \"dtype\": \"number\",\n        \"std\": 5,\n        \"min\": 1964,\n        \"max\": 1972,\n        \"num_unique_values\": 2,\n        \"samples\": [\n          1964,\n          1972\n        ],\n        \"semantic_type\": \"\",\n        \"description\": \"\"\n      }\n    },\n    {\n      \"column\": \"City\",\n      \"properties\": {\n        \"dtype\": \"string\",\n        \"num_unique_values\": 2,\n        \"samples\": [\n          \"Tokyo\",\n          \"Munich\"\n        ],\n        \"semantic_type\": \"\",\n        \"description\": \"\"\n      }\n    },\n    {\n      \"column\": \"Sport\",\n      \"properties\": {\n        \"dtype\": \"string\",\n        \"num_unique_values\": 2,\n        \"samples\": [\n          \"Equestrian\",\n          \"Canoe / Kayak\"\n        ],\n        \"semantic_type\": \"\",\n        \"description\": \"\"\n      }\n    },\n    {\n      \"column\": \"Discipline\",\n      \"properties\": {\n        \"dtype\": \"string\",\n        \"num_unique_values\": 2,\n        \"samples\": [\n          \"Jumping\",\n          \"Canoe / Kayak S\"\n        ],\n        \"semantic_type\": \"\",\n        \"description\": \"\"\n      }\n    },\n    {\n      \"column\": \"Athlete Name\",\n      \"properties\": {\n        \"dtype\": \"string\",\n        \"num_unique_values\": 2,\n        \"samples\": [\n          \"LEFRANT, Guy Robert Marie\",\n          \"BAUES, Wilhelm Bernd\"\n        ],\n        \"semantic_type\": \"\",\n        \"description\": \"\"\n      }\n    },\n    {\n      \"column\": \"NOC\",\n      \"properties\": {\n        \"dtype\": \"string\",\n        \"num_unique_values\": 2,\n        \"samples\": [\n          \"FRA\",\n          \"FRG\"\n        ],\n        \"semantic_type\": \"\",\n        \"description\": \"\"\n      }\n    },\n    {\n      \"column\": \"Gender\",\n      \"properties\": {\n        \"dtype\": \"category\",\n        \"num_unique_values\": 1,\n        \"samples\": [\n          \"Men\"\n        ],\n        \"semantic_type\": \"\",\n        \"description\": \"\"\n      }\n    },\n    {\n      \"column\": \"Event\",\n      \"properties\": {\n        \"dtype\": \"string\",\n        \"num_unique_values\": 2,\n        \"samples\": [\n          \"team\"\n        ],\n        \"semantic_type\": \"\",\n        \"description\": \"\"\n      }\n    },\n    {\n      \"column\": \"Event Gender\",\n      \"properties\": {\n        \"dtype\": \"category\",\n        \"num_unique_values\": 2,\n        \"samples\": [\n          \"X\"\n        ],\n        \"semantic_type\": \"\",\n        \"description\": \"\"\n      }\n    },\n    {\n      \"column\": \"Medal\",\n      \"properties\": {\n        \"dtype\": \"category\",\n        \"num_unique_values\": 1,\n        \"samples\": [\n          \"Silver\"\n        ],\n        \"semantic_type\": \"\",\n        \"description\": \"\"\n      }\n    }\n  ]\n}"
            }
          },
          "metadata": {},
          "execution_count": 45
        }
      ],
      "source": [
        "oo.sample(2)"
      ]
    },
    {
      "cell_type": "code",
      "source": [
        "oo.dtypes"
      ],
      "metadata": {
        "id": "6iW7ALfUF4iY",
        "outputId": "eb0e67a2-c98a-445d-f1ba-fdc5a8bb8570",
        "colab": {
          "base_uri": "https://localhost:8080/",
          "height": 489
        }
      },
      "execution_count": 46,
      "outputs": [
        {
          "output_type": "stream",
          "name": "stderr",
          "text": [
            "/usr/local/lib/python3.11/dist-packages/google/colab/_reprs.py:217: FutureWarning: RangeIndex.format is deprecated and will be removed in a future version. Convert using index.astype(str) or index.map(formatter) instead.\n",
            "  series_as_table_html = series.to_frame()._repr_html_()  # pylint: disable=protected-access\n",
            "/usr/local/lib/python3.11/dist-packages/google/colab/_reprs.py:217: FutureWarning: Index.format is deprecated and will be removed in a future version. Convert using index.astype(str) or index.map(formatter) instead.\n",
            "  series_as_table_html = series.to_frame()._repr_html_()  # pylint: disable=protected-access\n"
          ]
        },
        {
          "output_type": "execute_result",
          "data": {
            "text/plain": [
              "Year               int64\n",
              "City              object\n",
              "Sport             object\n",
              "Discipline        object\n",
              "Athlete Name      object\n",
              "NOC               object\n",
              "Gender          category\n",
              "Event             object\n",
              "Event Gender    category\n",
              "Medal           category\n",
              "dtype: object"
            ],
            "text/html": [
              "<div>\n",
              "<style scoped>\n",
              "    .dataframe tbody tr th:only-of-type {\n",
              "        vertical-align: middle;\n",
              "    }\n",
              "\n",
              "    .dataframe tbody tr th {\n",
              "        vertical-align: top;\n",
              "    }\n",
              "\n",
              "    .dataframe thead th {\n",
              "        text-align: right;\n",
              "    }\n",
              "</style>\n",
              "<table border=\"1\" class=\"dataframe\">\n",
              "  <thead>\n",
              "    <tr style=\"text-align: right;\">\n",
              "      <th></th>\n",
              "      <th>0</th>\n",
              "    </tr>\n",
              "  </thead>\n",
              "  <tbody>\n",
              "    <tr>\n",
              "      <th>Year</th>\n",
              "      <td>int64</td>\n",
              "    </tr>\n",
              "    <tr>\n",
              "      <th>City</th>\n",
              "      <td>object</td>\n",
              "    </tr>\n",
              "    <tr>\n",
              "      <th>Sport</th>\n",
              "      <td>object</td>\n",
              "    </tr>\n",
              "    <tr>\n",
              "      <th>Discipline</th>\n",
              "      <td>object</td>\n",
              "    </tr>\n",
              "    <tr>\n",
              "      <th>Athlete Name</th>\n",
              "      <td>object</td>\n",
              "    </tr>\n",
              "    <tr>\n",
              "      <th>NOC</th>\n",
              "      <td>object</td>\n",
              "    </tr>\n",
              "    <tr>\n",
              "      <th>Gender</th>\n",
              "      <td>category</td>\n",
              "    </tr>\n",
              "    <tr>\n",
              "      <th>Event</th>\n",
              "      <td>object</td>\n",
              "    </tr>\n",
              "    <tr>\n",
              "      <th>Event Gender</th>\n",
              "      <td>category</td>\n",
              "    </tr>\n",
              "    <tr>\n",
              "      <th>Medal</th>\n",
              "      <td>category</td>\n",
              "    </tr>\n",
              "  </tbody>\n",
              "</table>\n",
              "</div><br><label><b>dtype:</b> object</label>"
            ]
          },
          "metadata": {},
          "execution_count": 46
        }
      ]
    },
    {
      "cell_type": "code",
      "execution_count": 47,
      "metadata": {
        "id": "gg6Ks_9g9ump",
        "outputId": "192c5bd9-f38f-4f76-89ba-7ed654c16d1c",
        "colab": {
          "base_uri": "https://localhost:8080/",
          "height": 489
        }
      },
      "outputs": [
        {
          "output_type": "stream",
          "name": "stderr",
          "text": [
            "/usr/local/lib/python3.11/dist-packages/google/colab/_reprs.py:217: FutureWarning: RangeIndex.format is deprecated and will be removed in a future version. Convert using index.astype(str) or index.map(formatter) instead.\n",
            "  series_as_table_html = series.to_frame()._repr_html_()  # pylint: disable=protected-access\n",
            "/usr/local/lib/python3.11/dist-packages/google/colab/_reprs.py:217: FutureWarning: Index.format is deprecated and will be removed in a future version. Convert using index.astype(str) or index.map(formatter) instead.\n",
            "  series_as_table_html = series.to_frame()._repr_html_()  # pylint: disable=protected-access\n"
          ]
        },
        {
          "output_type": "execute_result",
          "data": {
            "text/plain": [
              "Year                     int64\n",
              "City            string[python]\n",
              "Sport           string[python]\n",
              "Discipline      string[python]\n",
              "Athlete Name    string[python]\n",
              "NOC             string[python]\n",
              "Gender                category\n",
              "Event           string[python]\n",
              "Event Gender          category\n",
              "Medal                 category\n",
              "dtype: object"
            ],
            "text/html": [
              "<div>\n",
              "<style scoped>\n",
              "    .dataframe tbody tr th:only-of-type {\n",
              "        vertical-align: middle;\n",
              "    }\n",
              "\n",
              "    .dataframe tbody tr th {\n",
              "        vertical-align: top;\n",
              "    }\n",
              "\n",
              "    .dataframe thead th {\n",
              "        text-align: right;\n",
              "    }\n",
              "</style>\n",
              "<table border=\"1\" class=\"dataframe\">\n",
              "  <thead>\n",
              "    <tr style=\"text-align: right;\">\n",
              "      <th></th>\n",
              "      <th>0</th>\n",
              "    </tr>\n",
              "  </thead>\n",
              "  <tbody>\n",
              "    <tr>\n",
              "      <th>Year</th>\n",
              "      <td>int64</td>\n",
              "    </tr>\n",
              "    <tr>\n",
              "      <th>City</th>\n",
              "      <td>string[python]</td>\n",
              "    </tr>\n",
              "    <tr>\n",
              "      <th>Sport</th>\n",
              "      <td>string[python]</td>\n",
              "    </tr>\n",
              "    <tr>\n",
              "      <th>Discipline</th>\n",
              "      <td>string[python]</td>\n",
              "    </tr>\n",
              "    <tr>\n",
              "      <th>Athlete Name</th>\n",
              "      <td>string[python]</td>\n",
              "    </tr>\n",
              "    <tr>\n",
              "      <th>NOC</th>\n",
              "      <td>string[python]</td>\n",
              "    </tr>\n",
              "    <tr>\n",
              "      <th>Gender</th>\n",
              "      <td>category</td>\n",
              "    </tr>\n",
              "    <tr>\n",
              "      <th>Event</th>\n",
              "      <td>string[python]</td>\n",
              "    </tr>\n",
              "    <tr>\n",
              "      <th>Event Gender</th>\n",
              "      <td>category</td>\n",
              "    </tr>\n",
              "    <tr>\n",
              "      <th>Medal</th>\n",
              "      <td>category</td>\n",
              "    </tr>\n",
              "  </tbody>\n",
              "</table>\n",
              "</div><br><label><b>dtype:</b> object</label>"
            ]
          },
          "metadata": {},
          "execution_count": 47
        }
      ],
      "source": [
        "oo.City = oo.City.astype(\"string\")\n",
        "oo.Sport = oo.Sport.astype(\"string\")\n",
        "oo.Discipline = oo.Discipline.astype(\"string\")\n",
        "oo[\"Athlete Name\"] = oo[\"Athlete Name\"].astype(\"string\")\n",
        "oo.NOC = oo.NOC.astype(\"string\")\n",
        "oo.Event = oo.Event.astype(\"string\")\n",
        "oo.dtypes"
      ]
    },
    {
      "cell_type": "code",
      "source": [
        "oo.City.dtype"
      ],
      "metadata": {
        "id": "HFM79UpXeQJw",
        "outputId": "7418c3a3-14b2-43b3-d2f7-f72dbbe3d5eb",
        "colab": {
          "base_uri": "https://localhost:8080/"
        }
      },
      "execution_count": 49,
      "outputs": [
        {
          "output_type": "execute_result",
          "data": {
            "text/plain": [
              "string[python]"
            ]
          },
          "metadata": {},
          "execution_count": 49
        }
      ]
    },
    {
      "cell_type": "code",
      "source": [
        "oo.City.str.upper()"
      ],
      "metadata": {
        "id": "n6WCMSAJLzkh",
        "outputId": "ea282684-c869-4122-fd52-b4ddb84e90f2",
        "colab": {
          "base_uri": "https://localhost:8080/",
          "height": 514
        }
      },
      "execution_count": 56,
      "outputs": [
        {
          "output_type": "stream",
          "name": "stderr",
          "text": [
            "/usr/local/lib/python3.11/dist-packages/google/colab/_reprs.py:217: FutureWarning: Index.format is deprecated and will be removed in a future version. Convert using index.astype(str) or index.map(formatter) instead.\n",
            "  series_as_table_html = series.to_frame()._repr_html_()  # pylint: disable=protected-access\n"
          ]
        },
        {
          "output_type": "execute_result",
          "data": {
            "text/plain": [
              "0        ATHENS\n",
              "1        ATHENS\n",
              "2        ATHENS\n",
              "3        ATHENS\n",
              "4        ATHENS\n",
              "          ...  \n",
              "27169    ATHENS\n",
              "27170    ATHENS\n",
              "27171    ATHENS\n",
              "27172    ATHENS\n",
              "27173    ATHENS\n",
              "Name: City, Length: 27174, dtype: string"
            ],
            "text/html": [
              "<div>\n",
              "<style scoped>\n",
              "    .dataframe tbody tr th:only-of-type {\n",
              "        vertical-align: middle;\n",
              "    }\n",
              "\n",
              "    .dataframe tbody tr th {\n",
              "        vertical-align: top;\n",
              "    }\n",
              "\n",
              "    .dataframe thead th {\n",
              "        text-align: right;\n",
              "    }\n",
              "</style>\n",
              "<table border=\"1\" class=\"dataframe\">\n",
              "  <thead>\n",
              "    <tr style=\"text-align: right;\">\n",
              "      <th></th>\n",
              "      <th>City</th>\n",
              "    </tr>\n",
              "  </thead>\n",
              "  <tbody>\n",
              "    <tr>\n",
              "      <th>0</th>\n",
              "      <td>ATHENS</td>\n",
              "    </tr>\n",
              "    <tr>\n",
              "      <th>1</th>\n",
              "      <td>ATHENS</td>\n",
              "    </tr>\n",
              "    <tr>\n",
              "      <th>2</th>\n",
              "      <td>ATHENS</td>\n",
              "    </tr>\n",
              "    <tr>\n",
              "      <th>3</th>\n",
              "      <td>ATHENS</td>\n",
              "    </tr>\n",
              "    <tr>\n",
              "      <th>4</th>\n",
              "      <td>ATHENS</td>\n",
              "    </tr>\n",
              "    <tr>\n",
              "      <th>...</th>\n",
              "      <td>...</td>\n",
              "    </tr>\n",
              "    <tr>\n",
              "      <th>27169</th>\n",
              "      <td>ATHENS</td>\n",
              "    </tr>\n",
              "    <tr>\n",
              "      <th>27170</th>\n",
              "      <td>ATHENS</td>\n",
              "    </tr>\n",
              "    <tr>\n",
              "      <th>27171</th>\n",
              "      <td>ATHENS</td>\n",
              "    </tr>\n",
              "    <tr>\n",
              "      <th>27172</th>\n",
              "      <td>ATHENS</td>\n",
              "    </tr>\n",
              "    <tr>\n",
              "      <th>27173</th>\n",
              "      <td>ATHENS</td>\n",
              "    </tr>\n",
              "  </tbody>\n",
              "</table>\n",
              "<p>27174 rows × 1 columns</p>\n",
              "</div><br><label><b>dtype:</b> string</label>"
            ]
          },
          "metadata": {},
          "execution_count": 56
        }
      ]
    },
    {
      "cell_type": "code",
      "source": [
        "df.City.dtype"
      ],
      "metadata": {
        "id": "0yvz-Uj0etHB",
        "outputId": "2c77c4e0-5f36-4424-aa23-0407165517df",
        "colab": {
          "base_uri": "https://localhost:8080/"
        }
      },
      "execution_count": 57,
      "outputs": [
        {
          "output_type": "execute_result",
          "data": {
            "text/plain": [
              "dtype('O')"
            ]
          },
          "metadata": {},
          "execution_count": 57
        }
      ]
    },
    {
      "cell_type": "code",
      "execution_count": 51,
      "metadata": {
        "id": "6Yy4JJQKFa5D",
        "outputId": "842c4a16-b882-4bb5-d340-44d32f437c83",
        "colab": {
          "base_uri": "https://localhost:8080/"
        }
      },
      "outputs": [
        {
          "output_type": "stream",
          "name": "stdout",
          "text": [
            "City series memory usage using dtype string: 1748408\n",
            "City series memory usage using dtype object: 1748408\n"
          ]
        }
      ],
      "source": [
        "print(f\"City series memory usage using dtype string: {oo.City.memory_usage(deep=True)}\")\n",
        "print(f\"City series memory usage using dtype object: {df.City.memory_usage(deep=True)}\")"
      ]
    },
    {
      "cell_type": "markdown",
      "metadata": {
        "id": "tW9suZ3CGCpG"
      },
      "source": [
        "## Defining dtypes when you read in a file"
      ]
    },
    {
      "cell_type": "code",
      "source": [
        "!pip install --quiet pandas==2.0.2\n",
        "\n",
        "import pandas as pd\n",
        "from pathlib import Path\n",
        "\n",
        "if not Path(\"olympics_1896_2004.csv\").exists():\n",
        "  !wget https://github.com/jonfernandes/pandas_essential/raw/main/olympics_1896_2004.csv\n",
        "\n",
        "filename = \"olympics_1896_2004.csv\"\n",
        "print(\"Installed all of the necessary files for this section ...\")"
      ],
      "metadata": {
        "id": "hsUPA47HfriT"
      },
      "execution_count": null,
      "outputs": []
    },
    {
      "cell_type": "code",
      "source": [
        "oo = (pd.read_csv(filename, skiprows=5)\n",
        "      .drop('Position', axis=1)\n",
        ")\n",
        "oo.sample(3)"
      ],
      "metadata": {
        "id": "Zk8t5MkRIE5N",
        "outputId": "ebd34fee-334d-4e41-8c0d-5bed10c30c5e",
        "colab": {
          "base_uri": "https://localhost:8080/",
          "height": 269
        }
      },
      "execution_count": 58,
      "outputs": [
        {
          "output_type": "stream",
          "name": "stderr",
          "text": [
            "/usr/local/lib/python3.11/dist-packages/google/colab/_interactive_table_hint_button.py:178: FutureWarning: Index.format is deprecated and will be removed in a future version. Convert using index.astype(str) or index.map(formatter) instead.\n",
            "  df_html=dataframe._repr_html_(),  # pylint: disable=protected-access\n"
          ]
        },
        {
          "output_type": "execute_result",
          "data": {
            "text/plain": [
              "       Year         City       Sport  Discipline      Athlete Name  NOC  \\\n",
              "23401  2000       Sydney    Aquatics    Swimming   BORGES, Gustavo  BRA   \n",
              "17551  1984  Los Angeles    Handball    Handball      KIM, Mi-Sook  KOR   \n",
              "13237  1972       Munich  Basketball  Basketball  BELOV, Aleksandr  URS   \n",
              "\n",
              "      Gender                   Event Event Gender   Medal  \n",
              "23401    Men  4x100m freestyle relay            M  Bronze  \n",
              "17551  Women                handball            W  Silver  \n",
              "13237    Men              basketball            M    Gold  "
            ],
            "text/html": [
              "\n",
              "  <div id=\"df-6e7c13f8-1144-402b-b7f5-b5c45408426e\" class=\"colab-df-container\">\n",
              "    <div>\n",
              "<style scoped>\n",
              "    .dataframe tbody tr th:only-of-type {\n",
              "        vertical-align: middle;\n",
              "    }\n",
              "\n",
              "    .dataframe tbody tr th {\n",
              "        vertical-align: top;\n",
              "    }\n",
              "\n",
              "    .dataframe thead th {\n",
              "        text-align: right;\n",
              "    }\n",
              "</style>\n",
              "<table border=\"1\" class=\"dataframe\">\n",
              "  <thead>\n",
              "    <tr style=\"text-align: right;\">\n",
              "      <th></th>\n",
              "      <th>Year</th>\n",
              "      <th>City</th>\n",
              "      <th>Sport</th>\n",
              "      <th>Discipline</th>\n",
              "      <th>Athlete Name</th>\n",
              "      <th>NOC</th>\n",
              "      <th>Gender</th>\n",
              "      <th>Event</th>\n",
              "      <th>Event Gender</th>\n",
              "      <th>Medal</th>\n",
              "    </tr>\n",
              "  </thead>\n",
              "  <tbody>\n",
              "    <tr>\n",
              "      <th>23401</th>\n",
              "      <td>2000</td>\n",
              "      <td>Sydney</td>\n",
              "      <td>Aquatics</td>\n",
              "      <td>Swimming</td>\n",
              "      <td>BORGES, Gustavo</td>\n",
              "      <td>BRA</td>\n",
              "      <td>Men</td>\n",
              "      <td>4x100m freestyle relay</td>\n",
              "      <td>M</td>\n",
              "      <td>Bronze</td>\n",
              "    </tr>\n",
              "    <tr>\n",
              "      <th>17551</th>\n",
              "      <td>1984</td>\n",
              "      <td>Los Angeles</td>\n",
              "      <td>Handball</td>\n",
              "      <td>Handball</td>\n",
              "      <td>KIM, Mi-Sook</td>\n",
              "      <td>KOR</td>\n",
              "      <td>Women</td>\n",
              "      <td>handball</td>\n",
              "      <td>W</td>\n",
              "      <td>Silver</td>\n",
              "    </tr>\n",
              "    <tr>\n",
              "      <th>13237</th>\n",
              "      <td>1972</td>\n",
              "      <td>Munich</td>\n",
              "      <td>Basketball</td>\n",
              "      <td>Basketball</td>\n",
              "      <td>BELOV, Aleksandr</td>\n",
              "      <td>URS</td>\n",
              "      <td>Men</td>\n",
              "      <td>basketball</td>\n",
              "      <td>M</td>\n",
              "      <td>Gold</td>\n",
              "    </tr>\n",
              "  </tbody>\n",
              "</table>\n",
              "</div>\n",
              "    <div class=\"colab-df-buttons\">\n",
              "\n",
              "  <div class=\"colab-df-container\">\n",
              "    <button class=\"colab-df-convert\" onclick=\"convertToInteractive('df-6e7c13f8-1144-402b-b7f5-b5c45408426e')\"\n",
              "            title=\"Convert this dataframe to an interactive table.\"\n",
              "            style=\"display:none;\">\n",
              "\n",
              "  <svg xmlns=\"http://www.w3.org/2000/svg\" height=\"24px\" viewBox=\"0 -960 960 960\">\n",
              "    <path d=\"M120-120v-720h720v720H120Zm60-500h600v-160H180v160Zm220 220h160v-160H400v160Zm0 220h160v-160H400v160ZM180-400h160v-160H180v160Zm440 0h160v-160H620v160ZM180-180h160v-160H180v160Zm440 0h160v-160H620v160Z\"/>\n",
              "  </svg>\n",
              "    </button>\n",
              "\n",
              "  <style>\n",
              "    .colab-df-container {\n",
              "      display:flex;\n",
              "      gap: 12px;\n",
              "    }\n",
              "\n",
              "    .colab-df-convert {\n",
              "      background-color: #E8F0FE;\n",
              "      border: none;\n",
              "      border-radius: 50%;\n",
              "      cursor: pointer;\n",
              "      display: none;\n",
              "      fill: #1967D2;\n",
              "      height: 32px;\n",
              "      padding: 0 0 0 0;\n",
              "      width: 32px;\n",
              "    }\n",
              "\n",
              "    .colab-df-convert:hover {\n",
              "      background-color: #E2EBFA;\n",
              "      box-shadow: 0px 1px 2px rgba(60, 64, 67, 0.3), 0px 1px 3px 1px rgba(60, 64, 67, 0.15);\n",
              "      fill: #174EA6;\n",
              "    }\n",
              "\n",
              "    .colab-df-buttons div {\n",
              "      margin-bottom: 4px;\n",
              "    }\n",
              "\n",
              "    [theme=dark] .colab-df-convert {\n",
              "      background-color: #3B4455;\n",
              "      fill: #D2E3FC;\n",
              "    }\n",
              "\n",
              "    [theme=dark] .colab-df-convert:hover {\n",
              "      background-color: #434B5C;\n",
              "      box-shadow: 0px 1px 3px 1px rgba(0, 0, 0, 0.15);\n",
              "      filter: drop-shadow(0px 1px 2px rgba(0, 0, 0, 0.3));\n",
              "      fill: #FFFFFF;\n",
              "    }\n",
              "  </style>\n",
              "\n",
              "    <script>\n",
              "      const buttonEl =\n",
              "        document.querySelector('#df-6e7c13f8-1144-402b-b7f5-b5c45408426e button.colab-df-convert');\n",
              "      buttonEl.style.display =\n",
              "        google.colab.kernel.accessAllowed ? 'block' : 'none';\n",
              "\n",
              "      async function convertToInteractive(key) {\n",
              "        const element = document.querySelector('#df-6e7c13f8-1144-402b-b7f5-b5c45408426e');\n",
              "        const dataTable =\n",
              "          await google.colab.kernel.invokeFunction('convertToInteractive',\n",
              "                                                    [key], {});\n",
              "        if (!dataTable) return;\n",
              "\n",
              "        const docLinkHtml = 'Like what you see? Visit the ' +\n",
              "          '<a target=\"_blank\" href=https://colab.research.google.com/notebooks/data_table.ipynb>data table notebook</a>'\n",
              "          + ' to learn more about interactive tables.';\n",
              "        element.innerHTML = '';\n",
              "        dataTable['output_type'] = 'display_data';\n",
              "        await google.colab.output.renderOutput(dataTable, element);\n",
              "        const docLink = document.createElement('div');\n",
              "        docLink.innerHTML = docLinkHtml;\n",
              "        element.appendChild(docLink);\n",
              "      }\n",
              "    </script>\n",
              "  </div>\n",
              "\n",
              "\n",
              "    <div id=\"df-c96618d3-c89b-4501-b80d-dc4a03c2fdcb\">\n",
              "      <button class=\"colab-df-quickchart\" onclick=\"quickchart('df-c96618d3-c89b-4501-b80d-dc4a03c2fdcb')\"\n",
              "                title=\"Suggest charts\"\n",
              "                style=\"display:none;\">\n",
              "\n",
              "<svg xmlns=\"http://www.w3.org/2000/svg\" height=\"24px\"viewBox=\"0 0 24 24\"\n",
              "     width=\"24px\">\n",
              "    <g>\n",
              "        <path d=\"M19 3H5c-1.1 0-2 .9-2 2v14c0 1.1.9 2 2 2h14c1.1 0 2-.9 2-2V5c0-1.1-.9-2-2-2zM9 17H7v-7h2v7zm4 0h-2V7h2v10zm4 0h-2v-4h2v4z\"/>\n",
              "    </g>\n",
              "</svg>\n",
              "      </button>\n",
              "\n",
              "<style>\n",
              "  .colab-df-quickchart {\n",
              "      --bg-color: #E8F0FE;\n",
              "      --fill-color: #1967D2;\n",
              "      --hover-bg-color: #E2EBFA;\n",
              "      --hover-fill-color: #174EA6;\n",
              "      --disabled-fill-color: #AAA;\n",
              "      --disabled-bg-color: #DDD;\n",
              "  }\n",
              "\n",
              "  [theme=dark] .colab-df-quickchart {\n",
              "      --bg-color: #3B4455;\n",
              "      --fill-color: #D2E3FC;\n",
              "      --hover-bg-color: #434B5C;\n",
              "      --hover-fill-color: #FFFFFF;\n",
              "      --disabled-bg-color: #3B4455;\n",
              "      --disabled-fill-color: #666;\n",
              "  }\n",
              "\n",
              "  .colab-df-quickchart {\n",
              "    background-color: var(--bg-color);\n",
              "    border: none;\n",
              "    border-radius: 50%;\n",
              "    cursor: pointer;\n",
              "    display: none;\n",
              "    fill: var(--fill-color);\n",
              "    height: 32px;\n",
              "    padding: 0;\n",
              "    width: 32px;\n",
              "  }\n",
              "\n",
              "  .colab-df-quickchart:hover {\n",
              "    background-color: var(--hover-bg-color);\n",
              "    box-shadow: 0 1px 2px rgba(60, 64, 67, 0.3), 0 1px 3px 1px rgba(60, 64, 67, 0.15);\n",
              "    fill: var(--button-hover-fill-color);\n",
              "  }\n",
              "\n",
              "  .colab-df-quickchart-complete:disabled,\n",
              "  .colab-df-quickchart-complete:disabled:hover {\n",
              "    background-color: var(--disabled-bg-color);\n",
              "    fill: var(--disabled-fill-color);\n",
              "    box-shadow: none;\n",
              "  }\n",
              "\n",
              "  .colab-df-spinner {\n",
              "    border: 2px solid var(--fill-color);\n",
              "    border-color: transparent;\n",
              "    border-bottom-color: var(--fill-color);\n",
              "    animation:\n",
              "      spin 1s steps(1) infinite;\n",
              "  }\n",
              "\n",
              "  @keyframes spin {\n",
              "    0% {\n",
              "      border-color: transparent;\n",
              "      border-bottom-color: var(--fill-color);\n",
              "      border-left-color: var(--fill-color);\n",
              "    }\n",
              "    20% {\n",
              "      border-color: transparent;\n",
              "      border-left-color: var(--fill-color);\n",
              "      border-top-color: var(--fill-color);\n",
              "    }\n",
              "    30% {\n",
              "      border-color: transparent;\n",
              "      border-left-color: var(--fill-color);\n",
              "      border-top-color: var(--fill-color);\n",
              "      border-right-color: var(--fill-color);\n",
              "    }\n",
              "    40% {\n",
              "      border-color: transparent;\n",
              "      border-right-color: var(--fill-color);\n",
              "      border-top-color: var(--fill-color);\n",
              "    }\n",
              "    60% {\n",
              "      border-color: transparent;\n",
              "      border-right-color: var(--fill-color);\n",
              "    }\n",
              "    80% {\n",
              "      border-color: transparent;\n",
              "      border-right-color: var(--fill-color);\n",
              "      border-bottom-color: var(--fill-color);\n",
              "    }\n",
              "    90% {\n",
              "      border-color: transparent;\n",
              "      border-bottom-color: var(--fill-color);\n",
              "    }\n",
              "  }\n",
              "</style>\n",
              "\n",
              "      <script>\n",
              "        async function quickchart(key) {\n",
              "          const quickchartButtonEl =\n",
              "            document.querySelector('#' + key + ' button');\n",
              "          quickchartButtonEl.disabled = true;  // To prevent multiple clicks.\n",
              "          quickchartButtonEl.classList.add('colab-df-spinner');\n",
              "          try {\n",
              "            const charts = await google.colab.kernel.invokeFunction(\n",
              "                'suggestCharts', [key], {});\n",
              "          } catch (error) {\n",
              "            console.error('Error during call to suggestCharts:', error);\n",
              "          }\n",
              "          quickchartButtonEl.classList.remove('colab-df-spinner');\n",
              "          quickchartButtonEl.classList.add('colab-df-quickchart-complete');\n",
              "        }\n",
              "        (() => {\n",
              "          let quickchartButtonEl =\n",
              "            document.querySelector('#df-c96618d3-c89b-4501-b80d-dc4a03c2fdcb button');\n",
              "          quickchartButtonEl.style.display =\n",
              "            google.colab.kernel.accessAllowed ? 'block' : 'none';\n",
              "        })();\n",
              "      </script>\n",
              "    </div>\n",
              "\n",
              "    </div>\n",
              "  </div>\n"
            ],
            "application/vnd.google.colaboratory.intrinsic+json": {
              "type": "dataframe",
              "summary": "{\n  \"name\": \"oo\",\n  \"rows\": 3,\n  \"fields\": [\n    {\n      \"column\": \"Year\",\n      \"properties\": {\n        \"dtype\": \"number\",\n        \"std\": 14,\n        \"min\": 1972,\n        \"max\": 2000,\n        \"num_unique_values\": 3,\n        \"samples\": [\n          2000,\n          1984,\n          1972\n        ],\n        \"semantic_type\": \"\",\n        \"description\": \"\"\n      }\n    },\n    {\n      \"column\": \"City\",\n      \"properties\": {\n        \"dtype\": \"string\",\n        \"num_unique_values\": 3,\n        \"samples\": [\n          \"Sydney\",\n          \"Los Angeles\",\n          \"Munich\"\n        ],\n        \"semantic_type\": \"\",\n        \"description\": \"\"\n      }\n    },\n    {\n      \"column\": \"Sport\",\n      \"properties\": {\n        \"dtype\": \"string\",\n        \"num_unique_values\": 3,\n        \"samples\": [\n          \"Aquatics\",\n          \"Handball\",\n          \"Basketball\"\n        ],\n        \"semantic_type\": \"\",\n        \"description\": \"\"\n      }\n    },\n    {\n      \"column\": \"Discipline\",\n      \"properties\": {\n        \"dtype\": \"string\",\n        \"num_unique_values\": 3,\n        \"samples\": [\n          \"Swimming\",\n          \"Handball\",\n          \"Basketball\"\n        ],\n        \"semantic_type\": \"\",\n        \"description\": \"\"\n      }\n    },\n    {\n      \"column\": \"Athlete Name\",\n      \"properties\": {\n        \"dtype\": \"string\",\n        \"num_unique_values\": 3,\n        \"samples\": [\n          \"BORGES, Gustavo\",\n          \"KIM, Mi-Sook\",\n          \"BELOV, Aleksandr\"\n        ],\n        \"semantic_type\": \"\",\n        \"description\": \"\"\n      }\n    },\n    {\n      \"column\": \"NOC\",\n      \"properties\": {\n        \"dtype\": \"string\",\n        \"num_unique_values\": 3,\n        \"samples\": [\n          \"BRA\",\n          \"KOR\",\n          \"URS\"\n        ],\n        \"semantic_type\": \"\",\n        \"description\": \"\"\n      }\n    },\n    {\n      \"column\": \"Gender\",\n      \"properties\": {\n        \"dtype\": \"string\",\n        \"num_unique_values\": 2,\n        \"samples\": [\n          \"Women\",\n          \"Men\"\n        ],\n        \"semantic_type\": \"\",\n        \"description\": \"\"\n      }\n    },\n    {\n      \"column\": \"Event\",\n      \"properties\": {\n        \"dtype\": \"string\",\n        \"num_unique_values\": 3,\n        \"samples\": [\n          \"4x100m freestyle relay\",\n          \"handball\"\n        ],\n        \"semantic_type\": \"\",\n        \"description\": \"\"\n      }\n    },\n    {\n      \"column\": \"Event Gender\",\n      \"properties\": {\n        \"dtype\": \"string\",\n        \"num_unique_values\": 2,\n        \"samples\": [\n          \"W\",\n          \"M\"\n        ],\n        \"semantic_type\": \"\",\n        \"description\": \"\"\n      }\n    },\n    {\n      \"column\": \"Medal\",\n      \"properties\": {\n        \"dtype\": \"string\",\n        \"num_unique_values\": 3,\n        \"samples\": [\n          \"Bronze\",\n          \"Silver\"\n        ],\n        \"semantic_type\": \"\",\n        \"description\": \"\"\n      }\n    }\n  ]\n}"
            }
          },
          "metadata": {},
          "execution_count": 58
        }
      ]
    },
    {
      "cell_type": "code",
      "source": [
        "oo.dtypes"
      ],
      "metadata": {
        "id": "vZymSxdVI28x",
        "outputId": "d097a49b-c5a4-41ba-881f-103b8b243690",
        "colab": {
          "base_uri": "https://localhost:8080/",
          "height": 489
        }
      },
      "execution_count": 59,
      "outputs": [
        {
          "output_type": "stream",
          "name": "stderr",
          "text": [
            "/usr/local/lib/python3.11/dist-packages/google/colab/_reprs.py:217: FutureWarning: RangeIndex.format is deprecated and will be removed in a future version. Convert using index.astype(str) or index.map(formatter) instead.\n",
            "  series_as_table_html = series.to_frame()._repr_html_()  # pylint: disable=protected-access\n",
            "/usr/local/lib/python3.11/dist-packages/google/colab/_reprs.py:217: FutureWarning: Index.format is deprecated and will be removed in a future version. Convert using index.astype(str) or index.map(formatter) instead.\n",
            "  series_as_table_html = series.to_frame()._repr_html_()  # pylint: disable=protected-access\n"
          ]
        },
        {
          "output_type": "execute_result",
          "data": {
            "text/plain": [
              "Year             int64\n",
              "City            object\n",
              "Sport           object\n",
              "Discipline      object\n",
              "Athlete Name    object\n",
              "NOC             object\n",
              "Gender          object\n",
              "Event           object\n",
              "Event Gender    object\n",
              "Medal           object\n",
              "dtype: object"
            ],
            "text/html": [
              "<div>\n",
              "<style scoped>\n",
              "    .dataframe tbody tr th:only-of-type {\n",
              "        vertical-align: middle;\n",
              "    }\n",
              "\n",
              "    .dataframe tbody tr th {\n",
              "        vertical-align: top;\n",
              "    }\n",
              "\n",
              "    .dataframe thead th {\n",
              "        text-align: right;\n",
              "    }\n",
              "</style>\n",
              "<table border=\"1\" class=\"dataframe\">\n",
              "  <thead>\n",
              "    <tr style=\"text-align: right;\">\n",
              "      <th></th>\n",
              "      <th>0</th>\n",
              "    </tr>\n",
              "  </thead>\n",
              "  <tbody>\n",
              "    <tr>\n",
              "      <th>Year</th>\n",
              "      <td>int64</td>\n",
              "    </tr>\n",
              "    <tr>\n",
              "      <th>City</th>\n",
              "      <td>object</td>\n",
              "    </tr>\n",
              "    <tr>\n",
              "      <th>Sport</th>\n",
              "      <td>object</td>\n",
              "    </tr>\n",
              "    <tr>\n",
              "      <th>Discipline</th>\n",
              "      <td>object</td>\n",
              "    </tr>\n",
              "    <tr>\n",
              "      <th>Athlete Name</th>\n",
              "      <td>object</td>\n",
              "    </tr>\n",
              "    <tr>\n",
              "      <th>NOC</th>\n",
              "      <td>object</td>\n",
              "    </tr>\n",
              "    <tr>\n",
              "      <th>Gender</th>\n",
              "      <td>object</td>\n",
              "    </tr>\n",
              "    <tr>\n",
              "      <th>Event</th>\n",
              "      <td>object</td>\n",
              "    </tr>\n",
              "    <tr>\n",
              "      <th>Event Gender</th>\n",
              "      <td>object</td>\n",
              "    </tr>\n",
              "    <tr>\n",
              "      <th>Medal</th>\n",
              "      <td>object</td>\n",
              "    </tr>\n",
              "  </tbody>\n",
              "</table>\n",
              "</div><br><label><b>dtype:</b> object</label>"
            ]
          },
          "metadata": {},
          "execution_count": 59
        }
      ]
    },
    {
      "cell_type": "code",
      "execution_count": 60,
      "metadata": {
        "id": "rFdyP-IHGkjl",
        "outputId": "4adffb5d-6556-4327-d467-bffe7597f1af",
        "colab": {
          "base_uri": "https://localhost:8080/"
        }
      },
      "outputs": [
        {
          "output_type": "execute_result",
          "data": {
            "text/plain": [
              "{'Year': 'int64',\n",
              " 'City': 'string',\n",
              " 'Sport': 'string',\n",
              " 'Discipline': 'string',\n",
              " 'Athlete Name': 'string',\n",
              " 'NOC': 'string',\n",
              " 'Gender': 'category',\n",
              " 'Event': 'string',\n",
              " 'Event_gender': 'category',\n",
              " 'Medal': 'category'}"
            ]
          },
          "metadata": {},
          "execution_count": 60
        }
      ],
      "source": [
        "dtype_mapper = {\"Year\": \"int64\",\n",
        "                \"City\": \"string\",\n",
        "                \"Sport\": \"string\",\n",
        "                \"Discipline\": \"string\",\n",
        "                \"Athlete Name\": \"string\",\n",
        "                \"NOC\": \"string\",\n",
        "                \"Gender\": \"category\",\n",
        "                \"Event\": \"string\",\n",
        "                \"Event_gender\": \"category\",\n",
        "                \"Medal\": \"category\"}\n",
        "\n",
        "dtype_mapper"
      ]
    },
    {
      "cell_type": "code",
      "execution_count": null,
      "metadata": {
        "id": "3mfyl9ZnLjWt"
      },
      "outputs": [],
      "source": [
        "pd.api.types.CategoricalDtype?"
      ]
    },
    {
      "cell_type": "code",
      "execution_count": 61,
      "metadata": {
        "id": "1UaAriDnIJd8",
        "outputId": "3050b8cb-e191-4fec-8c00-2a8f8f97560e",
        "colab": {
          "base_uri": "https://localhost:8080/"
        }
      },
      "outputs": [
        {
          "output_type": "execute_result",
          "data": {
            "text/plain": [
              "CategoricalDtype(categories=['Bronze', 'Silver', 'Gold'], ordered=True, categories_dtype=object)"
            ]
          },
          "metadata": {},
          "execution_count": 61
        }
      ],
      "source": [
        "ordered_medals = pd.api.types.CategoricalDtype(categories=[\"Bronze\", \"Silver\", \"Gold\"], ordered=True)\n",
        "ordered_medals"
      ]
    },
    {
      "cell_type": "code",
      "execution_count": 65,
      "metadata": {
        "id": "C8EZPlNLJD2a",
        "outputId": "0d22dc5f-934e-443f-e274-fcb5ce5cf1c1",
        "colab": {
          "base_uri": "https://localhost:8080/"
        }
      },
      "outputs": [
        {
          "output_type": "execute_result",
          "data": {
            "text/plain": [
              "{'Year': 'int64',\n",
              " 'City': 'string',\n",
              " 'Sport': 'string',\n",
              " 'Discipline': 'string',\n",
              " 'Athlete Name': 'string',\n",
              " 'NOC': 'string',\n",
              " 'Gender': 'category',\n",
              " 'Event': 'string',\n",
              " 'Event Gender': 'category',\n",
              " 'Medal': CategoricalDtype(categories=['Bronze', 'Silver', 'Gold'], ordered=True, categories_dtype=object)}"
            ]
          },
          "metadata": {},
          "execution_count": 65
        }
      ],
      "source": [
        "dtype_mapper = {\"Year\": \"int64\",\n",
        "                \"City\": \"string\",\n",
        "                \"Sport\": \"string\",\n",
        "                \"Discipline\": \"string\",\n",
        "                \"Athlete Name\": \"string\",\n",
        "                \"NOC\": \"string\",\n",
        "                \"Gender\": \"category\",\n",
        "                \"Event\": \"string\",\n",
        "                \"Event Gender\": \"category\",\n",
        "                \"Medal\": ordered_medals}\n",
        "\n",
        "dtype_mapper"
      ]
    },
    {
      "cell_type": "code",
      "execution_count": 66,
      "metadata": {
        "id": "hHzmd08z2DMf",
        "outputId": "527aaadb-f40a-4281-e8e8-6cb3dc718c92",
        "colab": {
          "base_uri": "https://localhost:8080/",
          "height": 269
        }
      },
      "outputs": [
        {
          "output_type": "stream",
          "name": "stderr",
          "text": [
            "/usr/local/lib/python3.11/dist-packages/google/colab/_interactive_table_hint_button.py:178: FutureWarning: Index.format is deprecated and will be removed in a future version. Convert using index.astype(str) or index.map(formatter) instead.\n",
            "  df_html=dataframe._repr_html_(),  # pylint: disable=protected-access\n"
          ]
        },
        {
          "output_type": "execute_result",
          "data": {
            "text/plain": [
              "       Year     City         Sport    Discipline      Athlete Name  NOC  \\\n",
              "22196  1996  Atlanta  Table Tennis  Table Tennis      DENG, Yaping  CHN   \n",
              "23275  2000   Sydney     Athletics     Athletics  SZEKELY, Violeta  ROU   \n",
              "18870  1988    Seoul       Fencing       Fencing    BEHR, Matthias  FRG   \n",
              "\n",
              "      Gender      Event Event Gender   Medal  Position  \n",
              "22196  Women    doubles            W    Gold         1  \n",
              "23275  Women      1500m            W  Silver         2  \n",
              "18870    Men  foil team            M  Silver         2  "
            ],
            "text/html": [
              "\n",
              "  <div id=\"df-a806c8e4-8662-4bcc-92ef-89c9a4f79a7e\" class=\"colab-df-container\">\n",
              "    <div>\n",
              "<style scoped>\n",
              "    .dataframe tbody tr th:only-of-type {\n",
              "        vertical-align: middle;\n",
              "    }\n",
              "\n",
              "    .dataframe tbody tr th {\n",
              "        vertical-align: top;\n",
              "    }\n",
              "\n",
              "    .dataframe thead th {\n",
              "        text-align: right;\n",
              "    }\n",
              "</style>\n",
              "<table border=\"1\" class=\"dataframe\">\n",
              "  <thead>\n",
              "    <tr style=\"text-align: right;\">\n",
              "      <th></th>\n",
              "      <th>Year</th>\n",
              "      <th>City</th>\n",
              "      <th>Sport</th>\n",
              "      <th>Discipline</th>\n",
              "      <th>Athlete Name</th>\n",
              "      <th>NOC</th>\n",
              "      <th>Gender</th>\n",
              "      <th>Event</th>\n",
              "      <th>Event Gender</th>\n",
              "      <th>Medal</th>\n",
              "      <th>Position</th>\n",
              "    </tr>\n",
              "  </thead>\n",
              "  <tbody>\n",
              "    <tr>\n",
              "      <th>22196</th>\n",
              "      <td>1996</td>\n",
              "      <td>Atlanta</td>\n",
              "      <td>Table Tennis</td>\n",
              "      <td>Table Tennis</td>\n",
              "      <td>DENG, Yaping</td>\n",
              "      <td>CHN</td>\n",
              "      <td>Women</td>\n",
              "      <td>doubles</td>\n",
              "      <td>W</td>\n",
              "      <td>Gold</td>\n",
              "      <td>1</td>\n",
              "    </tr>\n",
              "    <tr>\n",
              "      <th>23275</th>\n",
              "      <td>2000</td>\n",
              "      <td>Sydney</td>\n",
              "      <td>Athletics</td>\n",
              "      <td>Athletics</td>\n",
              "      <td>SZEKELY, Violeta</td>\n",
              "      <td>ROU</td>\n",
              "      <td>Women</td>\n",
              "      <td>1500m</td>\n",
              "      <td>W</td>\n",
              "      <td>Silver</td>\n",
              "      <td>2</td>\n",
              "    </tr>\n",
              "    <tr>\n",
              "      <th>18870</th>\n",
              "      <td>1988</td>\n",
              "      <td>Seoul</td>\n",
              "      <td>Fencing</td>\n",
              "      <td>Fencing</td>\n",
              "      <td>BEHR, Matthias</td>\n",
              "      <td>FRG</td>\n",
              "      <td>Men</td>\n",
              "      <td>foil team</td>\n",
              "      <td>M</td>\n",
              "      <td>Silver</td>\n",
              "      <td>2</td>\n",
              "    </tr>\n",
              "  </tbody>\n",
              "</table>\n",
              "</div>\n",
              "    <div class=\"colab-df-buttons\">\n",
              "\n",
              "  <div class=\"colab-df-container\">\n",
              "    <button class=\"colab-df-convert\" onclick=\"convertToInteractive('df-a806c8e4-8662-4bcc-92ef-89c9a4f79a7e')\"\n",
              "            title=\"Convert this dataframe to an interactive table.\"\n",
              "            style=\"display:none;\">\n",
              "\n",
              "  <svg xmlns=\"http://www.w3.org/2000/svg\" height=\"24px\" viewBox=\"0 -960 960 960\">\n",
              "    <path d=\"M120-120v-720h720v720H120Zm60-500h600v-160H180v160Zm220 220h160v-160H400v160Zm0 220h160v-160H400v160ZM180-400h160v-160H180v160Zm440 0h160v-160H620v160ZM180-180h160v-160H180v160Zm440 0h160v-160H620v160Z\"/>\n",
              "  </svg>\n",
              "    </button>\n",
              "\n",
              "  <style>\n",
              "    .colab-df-container {\n",
              "      display:flex;\n",
              "      gap: 12px;\n",
              "    }\n",
              "\n",
              "    .colab-df-convert {\n",
              "      background-color: #E8F0FE;\n",
              "      border: none;\n",
              "      border-radius: 50%;\n",
              "      cursor: pointer;\n",
              "      display: none;\n",
              "      fill: #1967D2;\n",
              "      height: 32px;\n",
              "      padding: 0 0 0 0;\n",
              "      width: 32px;\n",
              "    }\n",
              "\n",
              "    .colab-df-convert:hover {\n",
              "      background-color: #E2EBFA;\n",
              "      box-shadow: 0px 1px 2px rgba(60, 64, 67, 0.3), 0px 1px 3px 1px rgba(60, 64, 67, 0.15);\n",
              "      fill: #174EA6;\n",
              "    }\n",
              "\n",
              "    .colab-df-buttons div {\n",
              "      margin-bottom: 4px;\n",
              "    }\n",
              "\n",
              "    [theme=dark] .colab-df-convert {\n",
              "      background-color: #3B4455;\n",
              "      fill: #D2E3FC;\n",
              "    }\n",
              "\n",
              "    [theme=dark] .colab-df-convert:hover {\n",
              "      background-color: #434B5C;\n",
              "      box-shadow: 0px 1px 3px 1px rgba(0, 0, 0, 0.15);\n",
              "      filter: drop-shadow(0px 1px 2px rgba(0, 0, 0, 0.3));\n",
              "      fill: #FFFFFF;\n",
              "    }\n",
              "  </style>\n",
              "\n",
              "    <script>\n",
              "      const buttonEl =\n",
              "        document.querySelector('#df-a806c8e4-8662-4bcc-92ef-89c9a4f79a7e button.colab-df-convert');\n",
              "      buttonEl.style.display =\n",
              "        google.colab.kernel.accessAllowed ? 'block' : 'none';\n",
              "\n",
              "      async function convertToInteractive(key) {\n",
              "        const element = document.querySelector('#df-a806c8e4-8662-4bcc-92ef-89c9a4f79a7e');\n",
              "        const dataTable =\n",
              "          await google.colab.kernel.invokeFunction('convertToInteractive',\n",
              "                                                    [key], {});\n",
              "        if (!dataTable) return;\n",
              "\n",
              "        const docLinkHtml = 'Like what you see? Visit the ' +\n",
              "          '<a target=\"_blank\" href=https://colab.research.google.com/notebooks/data_table.ipynb>data table notebook</a>'\n",
              "          + ' to learn more about interactive tables.';\n",
              "        element.innerHTML = '';\n",
              "        dataTable['output_type'] = 'display_data';\n",
              "        await google.colab.output.renderOutput(dataTable, element);\n",
              "        const docLink = document.createElement('div');\n",
              "        docLink.innerHTML = docLinkHtml;\n",
              "        element.appendChild(docLink);\n",
              "      }\n",
              "    </script>\n",
              "  </div>\n",
              "\n",
              "\n",
              "    <div id=\"df-09045801-e94b-42f3-af7e-3a5f676b3d03\">\n",
              "      <button class=\"colab-df-quickchart\" onclick=\"quickchart('df-09045801-e94b-42f3-af7e-3a5f676b3d03')\"\n",
              "                title=\"Suggest charts\"\n",
              "                style=\"display:none;\">\n",
              "\n",
              "<svg xmlns=\"http://www.w3.org/2000/svg\" height=\"24px\"viewBox=\"0 0 24 24\"\n",
              "     width=\"24px\">\n",
              "    <g>\n",
              "        <path d=\"M19 3H5c-1.1 0-2 .9-2 2v14c0 1.1.9 2 2 2h14c1.1 0 2-.9 2-2V5c0-1.1-.9-2-2-2zM9 17H7v-7h2v7zm4 0h-2V7h2v10zm4 0h-2v-4h2v4z\"/>\n",
              "    </g>\n",
              "</svg>\n",
              "      </button>\n",
              "\n",
              "<style>\n",
              "  .colab-df-quickchart {\n",
              "      --bg-color: #E8F0FE;\n",
              "      --fill-color: #1967D2;\n",
              "      --hover-bg-color: #E2EBFA;\n",
              "      --hover-fill-color: #174EA6;\n",
              "      --disabled-fill-color: #AAA;\n",
              "      --disabled-bg-color: #DDD;\n",
              "  }\n",
              "\n",
              "  [theme=dark] .colab-df-quickchart {\n",
              "      --bg-color: #3B4455;\n",
              "      --fill-color: #D2E3FC;\n",
              "      --hover-bg-color: #434B5C;\n",
              "      --hover-fill-color: #FFFFFF;\n",
              "      --disabled-bg-color: #3B4455;\n",
              "      --disabled-fill-color: #666;\n",
              "  }\n",
              "\n",
              "  .colab-df-quickchart {\n",
              "    background-color: var(--bg-color);\n",
              "    border: none;\n",
              "    border-radius: 50%;\n",
              "    cursor: pointer;\n",
              "    display: none;\n",
              "    fill: var(--fill-color);\n",
              "    height: 32px;\n",
              "    padding: 0;\n",
              "    width: 32px;\n",
              "  }\n",
              "\n",
              "  .colab-df-quickchart:hover {\n",
              "    background-color: var(--hover-bg-color);\n",
              "    box-shadow: 0 1px 2px rgba(60, 64, 67, 0.3), 0 1px 3px 1px rgba(60, 64, 67, 0.15);\n",
              "    fill: var(--button-hover-fill-color);\n",
              "  }\n",
              "\n",
              "  .colab-df-quickchart-complete:disabled,\n",
              "  .colab-df-quickchart-complete:disabled:hover {\n",
              "    background-color: var(--disabled-bg-color);\n",
              "    fill: var(--disabled-fill-color);\n",
              "    box-shadow: none;\n",
              "  }\n",
              "\n",
              "  .colab-df-spinner {\n",
              "    border: 2px solid var(--fill-color);\n",
              "    border-color: transparent;\n",
              "    border-bottom-color: var(--fill-color);\n",
              "    animation:\n",
              "      spin 1s steps(1) infinite;\n",
              "  }\n",
              "\n",
              "  @keyframes spin {\n",
              "    0% {\n",
              "      border-color: transparent;\n",
              "      border-bottom-color: var(--fill-color);\n",
              "      border-left-color: var(--fill-color);\n",
              "    }\n",
              "    20% {\n",
              "      border-color: transparent;\n",
              "      border-left-color: var(--fill-color);\n",
              "      border-top-color: var(--fill-color);\n",
              "    }\n",
              "    30% {\n",
              "      border-color: transparent;\n",
              "      border-left-color: var(--fill-color);\n",
              "      border-top-color: var(--fill-color);\n",
              "      border-right-color: var(--fill-color);\n",
              "    }\n",
              "    40% {\n",
              "      border-color: transparent;\n",
              "      border-right-color: var(--fill-color);\n",
              "      border-top-color: var(--fill-color);\n",
              "    }\n",
              "    60% {\n",
              "      border-color: transparent;\n",
              "      border-right-color: var(--fill-color);\n",
              "    }\n",
              "    80% {\n",
              "      border-color: transparent;\n",
              "      border-right-color: var(--fill-color);\n",
              "      border-bottom-color: var(--fill-color);\n",
              "    }\n",
              "    90% {\n",
              "      border-color: transparent;\n",
              "      border-bottom-color: var(--fill-color);\n",
              "    }\n",
              "  }\n",
              "</style>\n",
              "\n",
              "      <script>\n",
              "        async function quickchart(key) {\n",
              "          const quickchartButtonEl =\n",
              "            document.querySelector('#' + key + ' button');\n",
              "          quickchartButtonEl.disabled = true;  // To prevent multiple clicks.\n",
              "          quickchartButtonEl.classList.add('colab-df-spinner');\n",
              "          try {\n",
              "            const charts = await google.colab.kernel.invokeFunction(\n",
              "                'suggestCharts', [key], {});\n",
              "          } catch (error) {\n",
              "            console.error('Error during call to suggestCharts:', error);\n",
              "          }\n",
              "          quickchartButtonEl.classList.remove('colab-df-spinner');\n",
              "          quickchartButtonEl.classList.add('colab-df-quickchart-complete');\n",
              "        }\n",
              "        (() => {\n",
              "          let quickchartButtonEl =\n",
              "            document.querySelector('#df-09045801-e94b-42f3-af7e-3a5f676b3d03 button');\n",
              "          quickchartButtonEl.style.display =\n",
              "            google.colab.kernel.accessAllowed ? 'block' : 'none';\n",
              "        })();\n",
              "      </script>\n",
              "    </div>\n",
              "\n",
              "    </div>\n",
              "  </div>\n"
            ],
            "application/vnd.google.colaboratory.intrinsic+json": {
              "type": "dataframe",
              "summary": "{\n  \"name\": \"oo\",\n  \"rows\": 3,\n  \"fields\": [\n    {\n      \"column\": \"Year\",\n      \"properties\": {\n        \"dtype\": \"number\",\n        \"std\": 6,\n        \"min\": 1988,\n        \"max\": 2000,\n        \"num_unique_values\": 3,\n        \"samples\": [\n          1996,\n          2000,\n          1988\n        ],\n        \"semantic_type\": \"\",\n        \"description\": \"\"\n      }\n    },\n    {\n      \"column\": \"City\",\n      \"properties\": {\n        \"dtype\": \"string\",\n        \"num_unique_values\": 3,\n        \"samples\": [\n          \"Atlanta\",\n          \"Sydney\",\n          \"Seoul\"\n        ],\n        \"semantic_type\": \"\",\n        \"description\": \"\"\n      }\n    },\n    {\n      \"column\": \"Sport\",\n      \"properties\": {\n        \"dtype\": \"string\",\n        \"num_unique_values\": 3,\n        \"samples\": [\n          \"Table Tennis\",\n          \"Athletics\",\n          \"Fencing\"\n        ],\n        \"semantic_type\": \"\",\n        \"description\": \"\"\n      }\n    },\n    {\n      \"column\": \"Discipline\",\n      \"properties\": {\n        \"dtype\": \"string\",\n        \"num_unique_values\": 3,\n        \"samples\": [\n          \"Table Tennis\",\n          \"Athletics\",\n          \"Fencing\"\n        ],\n        \"semantic_type\": \"\",\n        \"description\": \"\"\n      }\n    },\n    {\n      \"column\": \"Athlete Name\",\n      \"properties\": {\n        \"dtype\": \"string\",\n        \"num_unique_values\": 3,\n        \"samples\": [\n          \"DENG, Yaping\",\n          \"SZEKELY, Violeta\",\n          \"BEHR, Matthias\"\n        ],\n        \"semantic_type\": \"\",\n        \"description\": \"\"\n      }\n    },\n    {\n      \"column\": \"NOC\",\n      \"properties\": {\n        \"dtype\": \"string\",\n        \"num_unique_values\": 3,\n        \"samples\": [\n          \"CHN\",\n          \"ROU\",\n          \"FRG\"\n        ],\n        \"semantic_type\": \"\",\n        \"description\": \"\"\n      }\n    },\n    {\n      \"column\": \"Gender\",\n      \"properties\": {\n        \"dtype\": \"category\",\n        \"num_unique_values\": 2,\n        \"samples\": [\n          \"Men\",\n          \"Women\"\n        ],\n        \"semantic_type\": \"\",\n        \"description\": \"\"\n      }\n    },\n    {\n      \"column\": \"Event\",\n      \"properties\": {\n        \"dtype\": \"string\",\n        \"num_unique_values\": 3,\n        \"samples\": [\n          \"doubles\",\n          \"1500m\"\n        ],\n        \"semantic_type\": \"\",\n        \"description\": \"\"\n      }\n    },\n    {\n      \"column\": \"Event Gender\",\n      \"properties\": {\n        \"dtype\": \"category\",\n        \"num_unique_values\": 2,\n        \"samples\": [\n          \"M\",\n          \"W\"\n        ],\n        \"semantic_type\": \"\",\n        \"description\": \"\"\n      }\n    },\n    {\n      \"column\": \"Medal\",\n      \"properties\": {\n        \"dtype\": \"category\",\n        \"num_unique_values\": 2,\n        \"samples\": [\n          \"Silver\",\n          \"Gold\"\n        ],\n        \"semantic_type\": \"\",\n        \"description\": \"\"\n      }\n    },\n    {\n      \"column\": \"Position\",\n      \"properties\": {\n        \"dtype\": \"number\",\n        \"std\": 0,\n        \"min\": 1,\n        \"max\": 2,\n        \"num_unique_values\": 2,\n        \"samples\": [\n          2,\n          1\n        ],\n        \"semantic_type\": \"\",\n        \"description\": \"\"\n      }\n    }\n  ]\n}"
            }
          },
          "metadata": {},
          "execution_count": 66
        }
      ],
      "source": [
        "oo = pd.read_csv(filename, skiprows=5, dtype=dtype_mapper)\n",
        "oo.sample(3)"
      ]
    },
    {
      "cell_type": "code",
      "execution_count": 67,
      "metadata": {
        "id": "0JGknumqLPNg",
        "outputId": "45d68548-4036-40c1-8c80-5a22aaf43e8a",
        "colab": {
          "base_uri": "https://localhost:8080/",
          "height": 521
        }
      },
      "outputs": [
        {
          "output_type": "stream",
          "name": "stderr",
          "text": [
            "/usr/local/lib/python3.11/dist-packages/google/colab/_reprs.py:217: FutureWarning: RangeIndex.format is deprecated and will be removed in a future version. Convert using index.astype(str) or index.map(formatter) instead.\n",
            "  series_as_table_html = series.to_frame()._repr_html_()  # pylint: disable=protected-access\n",
            "/usr/local/lib/python3.11/dist-packages/google/colab/_reprs.py:217: FutureWarning: Index.format is deprecated and will be removed in a future version. Convert using index.astype(str) or index.map(formatter) instead.\n",
            "  series_as_table_html = series.to_frame()._repr_html_()  # pylint: disable=protected-access\n"
          ]
        },
        {
          "output_type": "execute_result",
          "data": {
            "text/plain": [
              "Year                     int64\n",
              "City            string[python]\n",
              "Sport           string[python]\n",
              "Discipline      string[python]\n",
              "Athlete Name    string[python]\n",
              "NOC             string[python]\n",
              "Gender                category\n",
              "Event           string[python]\n",
              "Event Gender          category\n",
              "Medal                 category\n",
              "Position                 int64\n",
              "dtype: object"
            ],
            "text/html": [
              "<div>\n",
              "<style scoped>\n",
              "    .dataframe tbody tr th:only-of-type {\n",
              "        vertical-align: middle;\n",
              "    }\n",
              "\n",
              "    .dataframe tbody tr th {\n",
              "        vertical-align: top;\n",
              "    }\n",
              "\n",
              "    .dataframe thead th {\n",
              "        text-align: right;\n",
              "    }\n",
              "</style>\n",
              "<table border=\"1\" class=\"dataframe\">\n",
              "  <thead>\n",
              "    <tr style=\"text-align: right;\">\n",
              "      <th></th>\n",
              "      <th>0</th>\n",
              "    </tr>\n",
              "  </thead>\n",
              "  <tbody>\n",
              "    <tr>\n",
              "      <th>Year</th>\n",
              "      <td>int64</td>\n",
              "    </tr>\n",
              "    <tr>\n",
              "      <th>City</th>\n",
              "      <td>string[python]</td>\n",
              "    </tr>\n",
              "    <tr>\n",
              "      <th>Sport</th>\n",
              "      <td>string[python]</td>\n",
              "    </tr>\n",
              "    <tr>\n",
              "      <th>Discipline</th>\n",
              "      <td>string[python]</td>\n",
              "    </tr>\n",
              "    <tr>\n",
              "      <th>Athlete Name</th>\n",
              "      <td>string[python]</td>\n",
              "    </tr>\n",
              "    <tr>\n",
              "      <th>NOC</th>\n",
              "      <td>string[python]</td>\n",
              "    </tr>\n",
              "    <tr>\n",
              "      <th>Gender</th>\n",
              "      <td>category</td>\n",
              "    </tr>\n",
              "    <tr>\n",
              "      <th>Event</th>\n",
              "      <td>string[python]</td>\n",
              "    </tr>\n",
              "    <tr>\n",
              "      <th>Event Gender</th>\n",
              "      <td>category</td>\n",
              "    </tr>\n",
              "    <tr>\n",
              "      <th>Medal</th>\n",
              "      <td>category</td>\n",
              "    </tr>\n",
              "    <tr>\n",
              "      <th>Position</th>\n",
              "      <td>int64</td>\n",
              "    </tr>\n",
              "  </tbody>\n",
              "</table>\n",
              "</div><br><label><b>dtype:</b> object</label>"
            ]
          },
          "metadata": {},
          "execution_count": 67
        }
      ],
      "source": [
        "oo.dtypes"
      ]
    },
    {
      "cell_type": "code",
      "source": [
        "shapenique()"
      ],
      "metadata": {
        "id": "mqBaGeK_Je4B",
        "outputId": "18bd0b23-0b5c-46c0-ca66-a0c3c93a4f96",
        "colab": {
          "base_uri": "https://localhost:8080/"
        }
      },
      "execution_count": 68,
      "outputs": [
        {
          "output_type": "execute_result",
          "data": {
            "text/plain": [
              "['M', 'X', 'W']\n",
              "Categories (3, object): ['M', 'W', 'X']"
            ]
          },
          "metadata": {},
          "execution_count": 68
        }
      ]
    },
    {
      "cell_type": "code",
      "source": [
        "oo = pd.read_csv(filename, skiprows=5, dtype=dtype_mapper)\n",
        "oo['Event Gender'] = oo['Event Gender'].astype(\"category\")\n",
        "oo.dtypes"
      ],
      "metadata": {
        "id": "pkh4kO8nWciS"
      },
      "execution_count": null,
      "outputs": []
    },
    {
      "cell_type": "markdown",
      "metadata": {
        "id": "fBBqvMS_uhNk"
      },
      "source": [
        "## Python Functions"
      ]
    },
    {
      "cell_type": "code",
      "source": [
        "!pip install --quiet pandas==2.0.2\n",
        "\n",
        "import pandas as pd\n",
        "from pathlib import Path\n",
        "\n",
        "if not Path(\"olympics_1896_2004.csv\").exists():\n",
        "  !wget https://github.com/jonfernandes/pandas_essential/raw/main/olympics_1896_2004.csv\n",
        "\n",
        "filename = \"olympics_1896_2004.csv\"\n",
        "print(\"Installed all of the necessary files for this section ...\")"
      ],
      "metadata": {
        "id": "TjBgdDnGiTA2"
      },
      "execution_count": null,
      "outputs": []
    },
    {
      "cell_type": "code",
      "execution_count": 69,
      "metadata": {
        "id": "E7dIcbNPUTn1",
        "outputId": "e1d38b87-8f85-4e79-9000-c4a7efe943ab",
        "colab": {
          "base_uri": "https://localhost:8080/",
          "height": 636
        }
      },
      "outputs": [
        {
          "output_type": "stream",
          "name": "stderr",
          "text": [
            "/usr/local/lib/python3.11/dist-packages/google/colab/_interactive_table_hint_button.py:178: FutureWarning: Index.format is deprecated and will be removed in a future version. Convert using index.astype(str) or index.map(formatter) instead.\n",
            "  df_html=dataframe._repr_html_(),  # pylint: disable=protected-access\n"
          ]
        },
        {
          "output_type": "execute_result",
          "data": {
            "text/plain": [
              "       Year    City      Sport     Discipline        Athlete Name  NOC Gender  \\\n",
              "0      1896  Athens    Cycling  Cycling Track       FLAMENG, Léon  FRA    Men   \n",
              "1      1896  Athens    Cycling  Cycling Track  KOLETTIS, Georgios  GRE    Men   \n",
              "2      1896  Athens  Athletics      Athletics       LANE, Francis  USA    Men   \n",
              "3      1896  Athens  Athletics      Athletics    SZOKOLYI, Alajos  HUN    Men   \n",
              "4      1896  Athens  Athletics      Athletics       BURKE, Thomas  USA    Men   \n",
              "...     ...     ...        ...            ...                 ...  ...    ...   \n",
              "27169  2004  Athens    Fencing        Fencing  LOGOUNOVA, Tatiana  RUS  Women   \n",
              "27170  2004  Athens    Fencing        Fencing       SIVKOVA, Anna  RUS  Women   \n",
              "27171  2004  Athens    Fencing        Fencing      BOKEL, Claudia  GER  Women   \n",
              "27172  2004  Athens    Fencing        Fencing     DUPLITZER, Imke  GER  Women   \n",
              "27173  2004  Athens    Fencing        Fencing   HEIDEMANN, Britta  GER  Women   \n",
              "\n",
              "           Event Event Gender   Medal  Position  \n",
              "0          100km            M    Gold         1  \n",
              "1          100km            M  Silver         2  \n",
              "2           100m            M  Bronze         3  \n",
              "3           100m            M  Bronze         3  \n",
              "4           100m            M    Gold         1  \n",
              "...          ...          ...     ...       ...  \n",
              "27169  épée team            W    Gold         1  \n",
              "27170  épée team            W    Gold         1  \n",
              "27171  épée team            W  Silver         2  \n",
              "27172  épée team            W  Silver         2  \n",
              "27173  épée team            W  Silver         2  \n",
              "\n",
              "[27174 rows x 11 columns]"
            ],
            "text/html": [
              "\n",
              "  <div id=\"df-c5d7da5d-0d13-4a1e-9725-386cd76bf3c6\" class=\"colab-df-container\">\n",
              "    <div>\n",
              "<style scoped>\n",
              "    .dataframe tbody tr th:only-of-type {\n",
              "        vertical-align: middle;\n",
              "    }\n",
              "\n",
              "    .dataframe tbody tr th {\n",
              "        vertical-align: top;\n",
              "    }\n",
              "\n",
              "    .dataframe thead th {\n",
              "        text-align: right;\n",
              "    }\n",
              "</style>\n",
              "<table border=\"1\" class=\"dataframe\">\n",
              "  <thead>\n",
              "    <tr style=\"text-align: right;\">\n",
              "      <th></th>\n",
              "      <th>Year</th>\n",
              "      <th>City</th>\n",
              "      <th>Sport</th>\n",
              "      <th>Discipline</th>\n",
              "      <th>Athlete Name</th>\n",
              "      <th>NOC</th>\n",
              "      <th>Gender</th>\n",
              "      <th>Event</th>\n",
              "      <th>Event Gender</th>\n",
              "      <th>Medal</th>\n",
              "      <th>Position</th>\n",
              "    </tr>\n",
              "  </thead>\n",
              "  <tbody>\n",
              "    <tr>\n",
              "      <th>0</th>\n",
              "      <td>1896</td>\n",
              "      <td>Athens</td>\n",
              "      <td>Cycling</td>\n",
              "      <td>Cycling Track</td>\n",
              "      <td>FLAMENG, Léon</td>\n",
              "      <td>FRA</td>\n",
              "      <td>Men</td>\n",
              "      <td>100km</td>\n",
              "      <td>M</td>\n",
              "      <td>Gold</td>\n",
              "      <td>1</td>\n",
              "    </tr>\n",
              "    <tr>\n",
              "      <th>1</th>\n",
              "      <td>1896</td>\n",
              "      <td>Athens</td>\n",
              "      <td>Cycling</td>\n",
              "      <td>Cycling Track</td>\n",
              "      <td>KOLETTIS, Georgios</td>\n",
              "      <td>GRE</td>\n",
              "      <td>Men</td>\n",
              "      <td>100km</td>\n",
              "      <td>M</td>\n",
              "      <td>Silver</td>\n",
              "      <td>2</td>\n",
              "    </tr>\n",
              "    <tr>\n",
              "      <th>2</th>\n",
              "      <td>1896</td>\n",
              "      <td>Athens</td>\n",
              "      <td>Athletics</td>\n",
              "      <td>Athletics</td>\n",
              "      <td>LANE, Francis</td>\n",
              "      <td>USA</td>\n",
              "      <td>Men</td>\n",
              "      <td>100m</td>\n",
              "      <td>M</td>\n",
              "      <td>Bronze</td>\n",
              "      <td>3</td>\n",
              "    </tr>\n",
              "    <tr>\n",
              "      <th>3</th>\n",
              "      <td>1896</td>\n",
              "      <td>Athens</td>\n",
              "      <td>Athletics</td>\n",
              "      <td>Athletics</td>\n",
              "      <td>SZOKOLYI, Alajos</td>\n",
              "      <td>HUN</td>\n",
              "      <td>Men</td>\n",
              "      <td>100m</td>\n",
              "      <td>M</td>\n",
              "      <td>Bronze</td>\n",
              "      <td>3</td>\n",
              "    </tr>\n",
              "    <tr>\n",
              "      <th>4</th>\n",
              "      <td>1896</td>\n",
              "      <td>Athens</td>\n",
              "      <td>Athletics</td>\n",
              "      <td>Athletics</td>\n",
              "      <td>BURKE, Thomas</td>\n",
              "      <td>USA</td>\n",
              "      <td>Men</td>\n",
              "      <td>100m</td>\n",
              "      <td>M</td>\n",
              "      <td>Gold</td>\n",
              "      <td>1</td>\n",
              "    </tr>\n",
              "    <tr>\n",
              "      <th>...</th>\n",
              "      <td>...</td>\n",
              "      <td>...</td>\n",
              "      <td>...</td>\n",
              "      <td>...</td>\n",
              "      <td>...</td>\n",
              "      <td>...</td>\n",
              "      <td>...</td>\n",
              "      <td>...</td>\n",
              "      <td>...</td>\n",
              "      <td>...</td>\n",
              "      <td>...</td>\n",
              "    </tr>\n",
              "    <tr>\n",
              "      <th>27169</th>\n",
              "      <td>2004</td>\n",
              "      <td>Athens</td>\n",
              "      <td>Fencing</td>\n",
              "      <td>Fencing</td>\n",
              "      <td>LOGOUNOVA, Tatiana</td>\n",
              "      <td>RUS</td>\n",
              "      <td>Women</td>\n",
              "      <td>épée team</td>\n",
              "      <td>W</td>\n",
              "      <td>Gold</td>\n",
              "      <td>1</td>\n",
              "    </tr>\n",
              "    <tr>\n",
              "      <th>27170</th>\n",
              "      <td>2004</td>\n",
              "      <td>Athens</td>\n",
              "      <td>Fencing</td>\n",
              "      <td>Fencing</td>\n",
              "      <td>SIVKOVA, Anna</td>\n",
              "      <td>RUS</td>\n",
              "      <td>Women</td>\n",
              "      <td>épée team</td>\n",
              "      <td>W</td>\n",
              "      <td>Gold</td>\n",
              "      <td>1</td>\n",
              "    </tr>\n",
              "    <tr>\n",
              "      <th>27171</th>\n",
              "      <td>2004</td>\n",
              "      <td>Athens</td>\n",
              "      <td>Fencing</td>\n",
              "      <td>Fencing</td>\n",
              "      <td>BOKEL, Claudia</td>\n",
              "      <td>GER</td>\n",
              "      <td>Women</td>\n",
              "      <td>épée team</td>\n",
              "      <td>W</td>\n",
              "      <td>Silver</td>\n",
              "      <td>2</td>\n",
              "    </tr>\n",
              "    <tr>\n",
              "      <th>27172</th>\n",
              "      <td>2004</td>\n",
              "      <td>Athens</td>\n",
              "      <td>Fencing</td>\n",
              "      <td>Fencing</td>\n",
              "      <td>DUPLITZER, Imke</td>\n",
              "      <td>GER</td>\n",
              "      <td>Women</td>\n",
              "      <td>épée team</td>\n",
              "      <td>W</td>\n",
              "      <td>Silver</td>\n",
              "      <td>2</td>\n",
              "    </tr>\n",
              "    <tr>\n",
              "      <th>27173</th>\n",
              "      <td>2004</td>\n",
              "      <td>Athens</td>\n",
              "      <td>Fencing</td>\n",
              "      <td>Fencing</td>\n",
              "      <td>HEIDEMANN, Britta</td>\n",
              "      <td>GER</td>\n",
              "      <td>Women</td>\n",
              "      <td>épée team</td>\n",
              "      <td>W</td>\n",
              "      <td>Silver</td>\n",
              "      <td>2</td>\n",
              "    </tr>\n",
              "  </tbody>\n",
              "</table>\n",
              "<p>27174 rows × 11 columns</p>\n",
              "</div>\n",
              "    <div class=\"colab-df-buttons\">\n",
              "\n",
              "  <div class=\"colab-df-container\">\n",
              "    <button class=\"colab-df-convert\" onclick=\"convertToInteractive('df-c5d7da5d-0d13-4a1e-9725-386cd76bf3c6')\"\n",
              "            title=\"Convert this dataframe to an interactive table.\"\n",
              "            style=\"display:none;\">\n",
              "\n",
              "  <svg xmlns=\"http://www.w3.org/2000/svg\" height=\"24px\" viewBox=\"0 -960 960 960\">\n",
              "    <path d=\"M120-120v-720h720v720H120Zm60-500h600v-160H180v160Zm220 220h160v-160H400v160Zm0 220h160v-160H400v160ZM180-400h160v-160H180v160Zm440 0h160v-160H620v160ZM180-180h160v-160H180v160Zm440 0h160v-160H620v160Z\"/>\n",
              "  </svg>\n",
              "    </button>\n",
              "\n",
              "  <style>\n",
              "    .colab-df-container {\n",
              "      display:flex;\n",
              "      gap: 12px;\n",
              "    }\n",
              "\n",
              "    .colab-df-convert {\n",
              "      background-color: #E8F0FE;\n",
              "      border: none;\n",
              "      border-radius: 50%;\n",
              "      cursor: pointer;\n",
              "      display: none;\n",
              "      fill: #1967D2;\n",
              "      height: 32px;\n",
              "      padding: 0 0 0 0;\n",
              "      width: 32px;\n",
              "    }\n",
              "\n",
              "    .colab-df-convert:hover {\n",
              "      background-color: #E2EBFA;\n",
              "      box-shadow: 0px 1px 2px rgba(60, 64, 67, 0.3), 0px 1px 3px 1px rgba(60, 64, 67, 0.15);\n",
              "      fill: #174EA6;\n",
              "    }\n",
              "\n",
              "    .colab-df-buttons div {\n",
              "      margin-bottom: 4px;\n",
              "    }\n",
              "\n",
              "    [theme=dark] .colab-df-convert {\n",
              "      background-color: #3B4455;\n",
              "      fill: #D2E3FC;\n",
              "    }\n",
              "\n",
              "    [theme=dark] .colab-df-convert:hover {\n",
              "      background-color: #434B5C;\n",
              "      box-shadow: 0px 1px 3px 1px rgba(0, 0, 0, 0.15);\n",
              "      filter: drop-shadow(0px 1px 2px rgba(0, 0, 0, 0.3));\n",
              "      fill: #FFFFFF;\n",
              "    }\n",
              "  </style>\n",
              "\n",
              "    <script>\n",
              "      const buttonEl =\n",
              "        document.querySelector('#df-c5d7da5d-0d13-4a1e-9725-386cd76bf3c6 button.colab-df-convert');\n",
              "      buttonEl.style.display =\n",
              "        google.colab.kernel.accessAllowed ? 'block' : 'none';\n",
              "\n",
              "      async function convertToInteractive(key) {\n",
              "        const element = document.querySelector('#df-c5d7da5d-0d13-4a1e-9725-386cd76bf3c6');\n",
              "        const dataTable =\n",
              "          await google.colab.kernel.invokeFunction('convertToInteractive',\n",
              "                                                    [key], {});\n",
              "        if (!dataTable) return;\n",
              "\n",
              "        const docLinkHtml = 'Like what you see? Visit the ' +\n",
              "          '<a target=\"_blank\" href=https://colab.research.google.com/notebooks/data_table.ipynb>data table notebook</a>'\n",
              "          + ' to learn more about interactive tables.';\n",
              "        element.innerHTML = '';\n",
              "        dataTable['output_type'] = 'display_data';\n",
              "        await google.colab.output.renderOutput(dataTable, element);\n",
              "        const docLink = document.createElement('div');\n",
              "        docLink.innerHTML = docLinkHtml;\n",
              "        element.appendChild(docLink);\n",
              "      }\n",
              "    </script>\n",
              "  </div>\n",
              "\n",
              "\n",
              "    <div id=\"df-aa0effd3-9a7e-4848-afb0-43737e7e6d59\">\n",
              "      <button class=\"colab-df-quickchart\" onclick=\"quickchart('df-aa0effd3-9a7e-4848-afb0-43737e7e6d59')\"\n",
              "                title=\"Suggest charts\"\n",
              "                style=\"display:none;\">\n",
              "\n",
              "<svg xmlns=\"http://www.w3.org/2000/svg\" height=\"24px\"viewBox=\"0 0 24 24\"\n",
              "     width=\"24px\">\n",
              "    <g>\n",
              "        <path d=\"M19 3H5c-1.1 0-2 .9-2 2v14c0 1.1.9 2 2 2h14c1.1 0 2-.9 2-2V5c0-1.1-.9-2-2-2zM9 17H7v-7h2v7zm4 0h-2V7h2v10zm4 0h-2v-4h2v4z\"/>\n",
              "    </g>\n",
              "</svg>\n",
              "      </button>\n",
              "\n",
              "<style>\n",
              "  .colab-df-quickchart {\n",
              "      --bg-color: #E8F0FE;\n",
              "      --fill-color: #1967D2;\n",
              "      --hover-bg-color: #E2EBFA;\n",
              "      --hover-fill-color: #174EA6;\n",
              "      --disabled-fill-color: #AAA;\n",
              "      --disabled-bg-color: #DDD;\n",
              "  }\n",
              "\n",
              "  [theme=dark] .colab-df-quickchart {\n",
              "      --bg-color: #3B4455;\n",
              "      --fill-color: #D2E3FC;\n",
              "      --hover-bg-color: #434B5C;\n",
              "      --hover-fill-color: #FFFFFF;\n",
              "      --disabled-bg-color: #3B4455;\n",
              "      --disabled-fill-color: #666;\n",
              "  }\n",
              "\n",
              "  .colab-df-quickchart {\n",
              "    background-color: var(--bg-color);\n",
              "    border: none;\n",
              "    border-radius: 50%;\n",
              "    cursor: pointer;\n",
              "    display: none;\n",
              "    fill: var(--fill-color);\n",
              "    height: 32px;\n",
              "    padding: 0;\n",
              "    width: 32px;\n",
              "  }\n",
              "\n",
              "  .colab-df-quickchart:hover {\n",
              "    background-color: var(--hover-bg-color);\n",
              "    box-shadow: 0 1px 2px rgba(60, 64, 67, 0.3), 0 1px 3px 1px rgba(60, 64, 67, 0.15);\n",
              "    fill: var(--button-hover-fill-color);\n",
              "  }\n",
              "\n",
              "  .colab-df-quickchart-complete:disabled,\n",
              "  .colab-df-quickchart-complete:disabled:hover {\n",
              "    background-color: var(--disabled-bg-color);\n",
              "    fill: var(--disabled-fill-color);\n",
              "    box-shadow: none;\n",
              "  }\n",
              "\n",
              "  .colab-df-spinner {\n",
              "    border: 2px solid var(--fill-color);\n",
              "    border-color: transparent;\n",
              "    border-bottom-color: var(--fill-color);\n",
              "    animation:\n",
              "      spin 1s steps(1) infinite;\n",
              "  }\n",
              "\n",
              "  @keyframes spin {\n",
              "    0% {\n",
              "      border-color: transparent;\n",
              "      border-bottom-color: var(--fill-color);\n",
              "      border-left-color: var(--fill-color);\n",
              "    }\n",
              "    20% {\n",
              "      border-color: transparent;\n",
              "      border-left-color: var(--fill-color);\n",
              "      border-top-color: var(--fill-color);\n",
              "    }\n",
              "    30% {\n",
              "      border-color: transparent;\n",
              "      border-left-color: var(--fill-color);\n",
              "      border-top-color: var(--fill-color);\n",
              "      border-right-color: var(--fill-color);\n",
              "    }\n",
              "    40% {\n",
              "      border-color: transparent;\n",
              "      border-right-color: var(--fill-color);\n",
              "      border-top-color: var(--fill-color);\n",
              "    }\n",
              "    60% {\n",
              "      border-color: transparent;\n",
              "      border-right-color: var(--fill-color);\n",
              "    }\n",
              "    80% {\n",
              "      border-color: transparent;\n",
              "      border-right-color: var(--fill-color);\n",
              "      border-bottom-color: var(--fill-color);\n",
              "    }\n",
              "    90% {\n",
              "      border-color: transparent;\n",
              "      border-bottom-color: var(--fill-color);\n",
              "    }\n",
              "  }\n",
              "</style>\n",
              "\n",
              "      <script>\n",
              "        async function quickchart(key) {\n",
              "          const quickchartButtonEl =\n",
              "            document.querySelector('#' + key + ' button');\n",
              "          quickchartButtonEl.disabled = true;  // To prevent multiple clicks.\n",
              "          quickchartButtonEl.classList.add('colab-df-spinner');\n",
              "          try {\n",
              "            const charts = await google.colab.kernel.invokeFunction(\n",
              "                'suggestCharts', [key], {});\n",
              "          } catch (error) {\n",
              "            console.error('Error during call to suggestCharts:', error);\n",
              "          }\n",
              "          quickchartButtonEl.classList.remove('colab-df-spinner');\n",
              "          quickchartButtonEl.classList.add('colab-df-quickchart-complete');\n",
              "        }\n",
              "        (() => {\n",
              "          let quickchartButtonEl =\n",
              "            document.querySelector('#df-aa0effd3-9a7e-4848-afb0-43737e7e6d59 button');\n",
              "          quickchartButtonEl.style.display =\n",
              "            google.colab.kernel.accessAllowed ? 'block' : 'none';\n",
              "        })();\n",
              "      </script>\n",
              "    </div>\n",
              "\n",
              "    </div>\n",
              "  </div>\n"
            ],
            "application/vnd.google.colaboratory.intrinsic+json": {
              "type": "dataframe",
              "summary": "{\n  \"name\": \"show_df()\",\n  \"rows\": 27174,\n  \"fields\": [\n    {\n      \"column\": \"Year\",\n      \"properties\": {\n        \"dtype\": \"number\",\n        \"std\": 31,\n        \"min\": 1896,\n        \"max\": 2004,\n        \"num_unique_values\": 25,\n        \"samples\": [\n          1932,\n          1972,\n          1896\n        ],\n        \"semantic_type\": \"\",\n        \"description\": \"\"\n      }\n    },\n    {\n      \"column\": \"City\",\n      \"properties\": {\n        \"dtype\": \"category\",\n        \"num_unique_values\": 21,\n        \"samples\": [\n          \"Athens\",\n          \"Seoul\",\n          \"Montreal\"\n        ],\n        \"semantic_type\": \"\",\n        \"description\": \"\"\n      }\n    },\n    {\n      \"column\": \"Sport\",\n      \"properties\": {\n        \"dtype\": \"category\",\n        \"num_unique_values\": 42,\n        \"samples\": [\n          \"Rackets\",\n          \"Croquet\",\n          \"Wrestling\"\n        ],\n        \"semantic_type\": \"\",\n        \"description\": \"\"\n      }\n    },\n    {\n      \"column\": \"Discipline\",\n      \"properties\": {\n        \"dtype\": \"category\",\n        \"num_unique_values\": 55,\n        \"samples\": [\n          \"Jeu de Paume\",\n          \"Fencing\",\n          \"Figure skating\"\n        ],\n        \"semantic_type\": \"\",\n        \"description\": \"\"\n      }\n    },\n    {\n      \"column\": \"Athlete Name\",\n      \"properties\": {\n        \"dtype\": \"string\",\n        \"num_unique_values\": 19991,\n        \"samples\": [\n          \"TOMAN, Ladislav\",\n          \"MATTO, Sergio A.\",\n          \"DE WOLF, Nicolaas\"\n        ],\n        \"semantic_type\": \"\",\n        \"description\": \"\"\n      }\n    },\n    {\n      \"column\": \"NOC\",\n      \"properties\": {\n        \"dtype\": \"category\",\n        \"num_unique_values\": 132,\n        \"samples\": [\n          \"VEN\",\n          \"ZIM\",\n          \"SWE\"\n        ],\n        \"semantic_type\": \"\",\n        \"description\": \"\"\n      }\n    },\n    {\n      \"column\": \"Gender\",\n      \"properties\": {\n        \"dtype\": \"category\",\n        \"num_unique_values\": 2,\n        \"samples\": [\n          \"Women\",\n          \"Men\"\n        ],\n        \"semantic_type\": \"\",\n        \"description\": \"\"\n      }\n    },\n    {\n      \"column\": \"Event\",\n      \"properties\": {\n        \"dtype\": \"category\",\n        \"num_unique_values\": 572,\n        \"samples\": [\n          \"- 58 kg\",\n          \"cricket\"\n        ],\n        \"semantic_type\": \"\",\n        \"description\": \"\"\n      }\n    },\n    {\n      \"column\": \"Event Gender\",\n      \"properties\": {\n        \"dtype\": \"category\",\n        \"num_unique_values\": 3,\n        \"samples\": [\n          \"M\",\n          \"X\"\n        ],\n        \"semantic_type\": \"\",\n        \"description\": \"\"\n      }\n    },\n    {\n      \"column\": \"Medal\",\n      \"properties\": {\n        \"dtype\": \"category\",\n        \"num_unique_values\": 3,\n        \"samples\": [\n          \"Gold\",\n          \"Silver\"\n        ],\n        \"semantic_type\": \"\",\n        \"description\": \"\"\n      }\n    },\n    {\n      \"column\": \"Position\",\n      \"properties\": {\n        \"dtype\": \"number\",\n        \"std\": 0,\n        \"min\": 1,\n        \"max\": 3,\n        \"num_unique_values\": 3,\n        \"samples\": [\n          1,\n          2\n        ],\n        \"semantic_type\": \"\",\n        \"description\": \"\"\n      }\n    }\n  ]\n}"
            }
          },
          "metadata": {},
          "execution_count": 69
        }
      ],
      "source": [
        "def show_df(filename=\"olympics_1896_2004.csv\"):\n",
        "  \"\"\"Read in csv file and display DataFrame\"\"\"\n",
        "  df = pd.read_csv(filename, skiprows=5)\n",
        "  return df\n",
        "\n",
        "show_df()"
      ]
    },
    {
      "cell_type": "code",
      "execution_count": 70,
      "metadata": {
        "id": "O0g0X3fKVU6L",
        "outputId": "94fdffe6-27d1-4fe9-b002-e4b7a187e402",
        "colab": {
          "base_uri": "https://localhost:8080/",
          "height": 204
        }
      },
      "outputs": [
        {
          "output_type": "execute_result",
          "data": {
            "text/plain": [
              "pandas.core.frame.DataFrame"
            ],
            "text/html": [
              "<div style=\"max-width:800px; border: 1px solid var(--colab-border-color);\"><style>\n",
              "      pre.function-repr-contents {\n",
              "        overflow-x: auto;\n",
              "        padding: 8px 12px;\n",
              "        max-height: 500px;\n",
              "      }\n",
              "\n",
              "      pre.function-repr-contents.function-repr-contents-collapsed {\n",
              "        cursor: pointer;\n",
              "        max-height: 100px;\n",
              "      }\n",
              "    </style>\n",
              "    <pre style=\"white-space: initial; background:\n",
              "         var(--colab-secondary-surface-color); padding: 8px 12px;\n",
              "         border-bottom: 1px solid var(--colab-border-color);\"><b>pandas.core.frame.DataFrame</b><br/>def __init__(data=None, index: Axes | None=None, columns: Axes | None=None, dtype: Dtype | None=None, copy: bool | None=None) -&gt; None</pre><pre class=\"function-repr-contents function-repr-contents-collapsed\" style=\"\"><a class=\"filepath\" style=\"display:none\" href=\"#\">/usr/local/lib/python3.11/dist-packages/pandas/core/frame.py</a>Two-dimensional, size-mutable, potentially heterogeneous tabular data.\n",
              "\n",
              "Data structure also contains labeled axes (rows and columns).\n",
              "Arithmetic operations align on both row and column labels. Can be\n",
              "thought of as a dict-like container for Series objects. The primary\n",
              "pandas data structure.\n",
              "\n",
              "Parameters\n",
              "----------\n",
              "data : ndarray (structured or homogeneous), Iterable, dict, or DataFrame\n",
              "    Dict can contain Series, arrays, constants, dataclass or list-like objects. If\n",
              "    data is a dict, column order follows insertion-order. If a dict contains Series\n",
              "    which have an index defined, it is aligned by its index. This alignment also\n",
              "    occurs if data is a Series or a DataFrame itself. Alignment is done on\n",
              "    Series/DataFrame inputs.\n",
              "\n",
              "    If data is a list of dicts, column order follows insertion-order.\n",
              "\n",
              "index : Index or array-like\n",
              "    Index to use for resulting frame. Will default to RangeIndex if\n",
              "    no indexing information part of input data and no index provided.\n",
              "columns : Index or array-like\n",
              "    Column labels to use for resulting frame when data does not have them,\n",
              "    defaulting to RangeIndex(0, 1, 2, ..., n). If data contains column labels,\n",
              "    will perform column selection instead.\n",
              "dtype : dtype, default None\n",
              "    Data type to force. Only a single dtype is allowed. If None, infer.\n",
              "copy : bool or None, default None\n",
              "    Copy data from inputs.\n",
              "    For dict data, the default of None behaves like ``copy=True``.  For DataFrame\n",
              "    or 2d ndarray input, the default of None behaves like ``copy=False``.\n",
              "    If data is a dict containing one or more Series (possibly of different dtypes),\n",
              "    ``copy=False`` will ensure that these inputs are not copied.\n",
              "\n",
              "    .. versionchanged:: 1.3.0\n",
              "\n",
              "See Also\n",
              "--------\n",
              "DataFrame.from_records : Constructor from tuples, also record arrays.\n",
              "DataFrame.from_dict : From dicts of Series, arrays, or dicts.\n",
              "read_csv : Read a comma-separated values (csv) file into DataFrame.\n",
              "read_table : Read general delimited file into DataFrame.\n",
              "read_clipboard : Read text from clipboard into DataFrame.\n",
              "\n",
              "Notes\n",
              "-----\n",
              "Please reference the :ref:`User Guide &lt;basics.dataframe&gt;` for more information.\n",
              "\n",
              "Examples\n",
              "--------\n",
              "Constructing DataFrame from a dictionary.\n",
              "\n",
              "&gt;&gt;&gt; d = {&#x27;col1&#x27;: [1, 2], &#x27;col2&#x27;: [3, 4]}\n",
              "&gt;&gt;&gt; df = pd.DataFrame(data=d)\n",
              "&gt;&gt;&gt; df\n",
              "   col1  col2\n",
              "0     1     3\n",
              "1     2     4\n",
              "\n",
              "Notice that the inferred dtype is int64.\n",
              "\n",
              "&gt;&gt;&gt; df.dtypes\n",
              "col1    int64\n",
              "col2    int64\n",
              "dtype: object\n",
              "\n",
              "To enforce a single dtype:\n",
              "\n",
              "&gt;&gt;&gt; df = pd.DataFrame(data=d, dtype=np.int8)\n",
              "&gt;&gt;&gt; df.dtypes\n",
              "col1    int8\n",
              "col2    int8\n",
              "dtype: object\n",
              "\n",
              "Constructing DataFrame from a dictionary including Series:\n",
              "\n",
              "&gt;&gt;&gt; d = {&#x27;col1&#x27;: [0, 1, 2, 3], &#x27;col2&#x27;: pd.Series([2, 3], index=[2, 3])}\n",
              "&gt;&gt;&gt; pd.DataFrame(data=d, index=[0, 1, 2, 3])\n",
              "   col1  col2\n",
              "0     0   NaN\n",
              "1     1   NaN\n",
              "2     2   2.0\n",
              "3     3   3.0\n",
              "\n",
              "Constructing DataFrame from numpy ndarray:\n",
              "\n",
              "&gt;&gt;&gt; df2 = pd.DataFrame(np.array([[1, 2, 3], [4, 5, 6], [7, 8, 9]]),\n",
              "...                    columns=[&#x27;a&#x27;, &#x27;b&#x27;, &#x27;c&#x27;])\n",
              "&gt;&gt;&gt; df2\n",
              "   a  b  c\n",
              "0  1  2  3\n",
              "1  4  5  6\n",
              "2  7  8  9\n",
              "\n",
              "Constructing DataFrame from a numpy ndarray that has labeled columns:\n",
              "\n",
              "&gt;&gt;&gt; data = np.array([(1, 2, 3), (4, 5, 6), (7, 8, 9)],\n",
              "...                 dtype=[(&quot;a&quot;, &quot;i4&quot;), (&quot;b&quot;, &quot;i4&quot;), (&quot;c&quot;, &quot;i4&quot;)])\n",
              "&gt;&gt;&gt; df3 = pd.DataFrame(data, columns=[&#x27;c&#x27;, &#x27;a&#x27;])\n",
              "...\n",
              "&gt;&gt;&gt; df3\n",
              "   c  a\n",
              "0  3  1\n",
              "1  6  4\n",
              "2  9  7\n",
              "\n",
              "Constructing DataFrame from dataclass:\n",
              "\n",
              "&gt;&gt;&gt; from dataclasses import make_dataclass\n",
              "&gt;&gt;&gt; Point = make_dataclass(&quot;Point&quot;, [(&quot;x&quot;, int), (&quot;y&quot;, int)])\n",
              "&gt;&gt;&gt; pd.DataFrame([Point(0, 0), Point(0, 3), Point(2, 3)])\n",
              "   x  y\n",
              "0  0  0\n",
              "1  0  3\n",
              "2  2  3\n",
              "\n",
              "Constructing DataFrame from Series/DataFrame:\n",
              "\n",
              "&gt;&gt;&gt; ser = pd.Series([1, 2, 3], index=[&quot;a&quot;, &quot;b&quot;, &quot;c&quot;])\n",
              "&gt;&gt;&gt; df = pd.DataFrame(data=ser, index=[&quot;a&quot;, &quot;c&quot;])\n",
              "&gt;&gt;&gt; df\n",
              "   0\n",
              "a  1\n",
              "c  3\n",
              "\n",
              "&gt;&gt;&gt; df1 = pd.DataFrame([1, 2, 3], index=[&quot;a&quot;, &quot;b&quot;, &quot;c&quot;], columns=[&quot;x&quot;])\n",
              "&gt;&gt;&gt; df2 = pd.DataFrame(data=df1, index=[&quot;a&quot;, &quot;c&quot;])\n",
              "&gt;&gt;&gt; df2\n",
              "   x\n",
              "a  1\n",
              "c  3</pre>\n",
              "      <script>\n",
              "      if (google.colab.kernel.accessAllowed && google.colab.files && google.colab.files.view) {\n",
              "        for (const element of document.querySelectorAll('.filepath')) {\n",
              "          element.style.display = 'block'\n",
              "          element.onclick = (event) => {\n",
              "            event.preventDefault();\n",
              "            event.stopPropagation();\n",
              "            google.colab.files.view(element.textContent, 490);\n",
              "          };\n",
              "        }\n",
              "      }\n",
              "      for (const element of document.querySelectorAll('.function-repr-contents')) {\n",
              "        element.onclick = (event) => {\n",
              "          event.preventDefault();\n",
              "          event.stopPropagation();\n",
              "          element.classList.toggle('function-repr-contents-collapsed');\n",
              "        };\n",
              "      }\n",
              "      </script>\n",
              "      </div>"
            ]
          },
          "metadata": {},
          "execution_count": 70
        }
      ],
      "source": [
        "type(show_df())"
      ]
    },
    {
      "cell_type": "code",
      "execution_count": null,
      "metadata": {
        "id": "ihKcmGeLZKMW"
      },
      "outputs": [],
      "source": [
        "ordered_medals = pd.api.types.CategoricalDtype(categories=[\"Bronze\", \"Silver\", \"Gold\"], ordered=True)\n",
        "dtype_mapper = {\"Year\": \"int64\",\n",
        "                \"City\": \"string\",\n",
        "                \"Sport\": \"string\",\n",
        "                \"Discipline\": \"string\",\n",
        "                \"Athlete Name\": \"string\",\n",
        "                \"NOC\": \"string\",\n",
        "                \"Gender\": \"category\",\n",
        "                \"Event\": \"string\",\n",
        "                \"Event_gender\": \"category\",\n",
        "                \"Medal\": ordered_medals}\n",
        "\n",
        "dtype_mapper"
      ]
    },
    {
      "cell_type": "code",
      "execution_count": 71,
      "metadata": {
        "id": "oCJcaJFaZMOU",
        "outputId": "4bd6a161-8ae6-4876-bf06-73939371d32b",
        "colab": {
          "base_uri": "https://localhost:8080/",
          "height": 286
        }
      },
      "outputs": [
        {
          "output_type": "stream",
          "name": "stderr",
          "text": [
            "/usr/local/lib/python3.11/dist-packages/google/colab/_interactive_table_hint_button.py:178: FutureWarning: Index.format is deprecated and will be removed in a future version. Convert using index.astype(str) or index.map(formatter) instead.\n",
            "  df_html=dataframe._repr_html_(),  # pylint: disable=protected-access\n"
          ]
        },
        {
          "output_type": "execute_result",
          "data": {
            "text/plain": [
              "       Year       City      Sport Discipline         Athlete Name  NOC Gender  \\\n",
              "25611  2004     Athens   Shooting   Shooting  TURISINI, Valentina  ITA  Women   \n",
              "14488  1976   Montreal     Rowing     Rowing   HART, Michael John  GBR    Men   \n",
              "19925  1992  Barcelona  Athletics  Athletics  BOGOSLOVSKAYA, Olga  EUN  Women   \n",
              "\n",
              "                                    Event Event Gender   Medal  \n",
              "25611  50m rifle 3 positions (3x20 shots)            W  Silver  \n",
              "14488                  double sculls (2x)            M  Silver  \n",
              "19925                        4x100m relay            W  Silver  "
            ],
            "text/html": [
              "\n",
              "  <div id=\"df-298c7ea5-5ca9-48f1-a044-8efa6d595b65\" class=\"colab-df-container\">\n",
              "    <div>\n",
              "<style scoped>\n",
              "    .dataframe tbody tr th:only-of-type {\n",
              "        vertical-align: middle;\n",
              "    }\n",
              "\n",
              "    .dataframe tbody tr th {\n",
              "        vertical-align: top;\n",
              "    }\n",
              "\n",
              "    .dataframe thead th {\n",
              "        text-align: right;\n",
              "    }\n",
              "</style>\n",
              "<table border=\"1\" class=\"dataframe\">\n",
              "  <thead>\n",
              "    <tr style=\"text-align: right;\">\n",
              "      <th></th>\n",
              "      <th>Year</th>\n",
              "      <th>City</th>\n",
              "      <th>Sport</th>\n",
              "      <th>Discipline</th>\n",
              "      <th>Athlete Name</th>\n",
              "      <th>NOC</th>\n",
              "      <th>Gender</th>\n",
              "      <th>Event</th>\n",
              "      <th>Event Gender</th>\n",
              "      <th>Medal</th>\n",
              "    </tr>\n",
              "  </thead>\n",
              "  <tbody>\n",
              "    <tr>\n",
              "      <th>25611</th>\n",
              "      <td>2004</td>\n",
              "      <td>Athens</td>\n",
              "      <td>Shooting</td>\n",
              "      <td>Shooting</td>\n",
              "      <td>TURISINI, Valentina</td>\n",
              "      <td>ITA</td>\n",
              "      <td>Women</td>\n",
              "      <td>50m rifle 3 positions (3x20 shots)</td>\n",
              "      <td>W</td>\n",
              "      <td>Silver</td>\n",
              "    </tr>\n",
              "    <tr>\n",
              "      <th>14488</th>\n",
              "      <td>1976</td>\n",
              "      <td>Montreal</td>\n",
              "      <td>Rowing</td>\n",
              "      <td>Rowing</td>\n",
              "      <td>HART, Michael John</td>\n",
              "      <td>GBR</td>\n",
              "      <td>Men</td>\n",
              "      <td>double sculls (2x)</td>\n",
              "      <td>M</td>\n",
              "      <td>Silver</td>\n",
              "    </tr>\n",
              "    <tr>\n",
              "      <th>19925</th>\n",
              "      <td>1992</td>\n",
              "      <td>Barcelona</td>\n",
              "      <td>Athletics</td>\n",
              "      <td>Athletics</td>\n",
              "      <td>BOGOSLOVSKAYA, Olga</td>\n",
              "      <td>EUN</td>\n",
              "      <td>Women</td>\n",
              "      <td>4x100m relay</td>\n",
              "      <td>W</td>\n",
              "      <td>Silver</td>\n",
              "    </tr>\n",
              "  </tbody>\n",
              "</table>\n",
              "</div>\n",
              "    <div class=\"colab-df-buttons\">\n",
              "\n",
              "  <div class=\"colab-df-container\">\n",
              "    <button class=\"colab-df-convert\" onclick=\"convertToInteractive('df-298c7ea5-5ca9-48f1-a044-8efa6d595b65')\"\n",
              "            title=\"Convert this dataframe to an interactive table.\"\n",
              "            style=\"display:none;\">\n",
              "\n",
              "  <svg xmlns=\"http://www.w3.org/2000/svg\" height=\"24px\" viewBox=\"0 -960 960 960\">\n",
              "    <path d=\"M120-120v-720h720v720H120Zm60-500h600v-160H180v160Zm220 220h160v-160H400v160Zm0 220h160v-160H400v160ZM180-400h160v-160H180v160Zm440 0h160v-160H620v160ZM180-180h160v-160H180v160Zm440 0h160v-160H620v160Z\"/>\n",
              "  </svg>\n",
              "    </button>\n",
              "\n",
              "  <style>\n",
              "    .colab-df-container {\n",
              "      display:flex;\n",
              "      gap: 12px;\n",
              "    }\n",
              "\n",
              "    .colab-df-convert {\n",
              "      background-color: #E8F0FE;\n",
              "      border: none;\n",
              "      border-radius: 50%;\n",
              "      cursor: pointer;\n",
              "      display: none;\n",
              "      fill: #1967D2;\n",
              "      height: 32px;\n",
              "      padding: 0 0 0 0;\n",
              "      width: 32px;\n",
              "    }\n",
              "\n",
              "    .colab-df-convert:hover {\n",
              "      background-color: #E2EBFA;\n",
              "      box-shadow: 0px 1px 2px rgba(60, 64, 67, 0.3), 0px 1px 3px 1px rgba(60, 64, 67, 0.15);\n",
              "      fill: #174EA6;\n",
              "    }\n",
              "\n",
              "    .colab-df-buttons div {\n",
              "      margin-bottom: 4px;\n",
              "    }\n",
              "\n",
              "    [theme=dark] .colab-df-convert {\n",
              "      background-color: #3B4455;\n",
              "      fill: #D2E3FC;\n",
              "    }\n",
              "\n",
              "    [theme=dark] .colab-df-convert:hover {\n",
              "      background-color: #434B5C;\n",
              "      box-shadow: 0px 1px 3px 1px rgba(0, 0, 0, 0.15);\n",
              "      filter: drop-shadow(0px 1px 2px rgba(0, 0, 0, 0.3));\n",
              "      fill: #FFFFFF;\n",
              "    }\n",
              "  </style>\n",
              "\n",
              "    <script>\n",
              "      const buttonEl =\n",
              "        document.querySelector('#df-298c7ea5-5ca9-48f1-a044-8efa6d595b65 button.colab-df-convert');\n",
              "      buttonEl.style.display =\n",
              "        google.colab.kernel.accessAllowed ? 'block' : 'none';\n",
              "\n",
              "      async function convertToInteractive(key) {\n",
              "        const element = document.querySelector('#df-298c7ea5-5ca9-48f1-a044-8efa6d595b65');\n",
              "        const dataTable =\n",
              "          await google.colab.kernel.invokeFunction('convertToInteractive',\n",
              "                                                    [key], {});\n",
              "        if (!dataTable) return;\n",
              "\n",
              "        const docLinkHtml = 'Like what you see? Visit the ' +\n",
              "          '<a target=\"_blank\" href=https://colab.research.google.com/notebooks/data_table.ipynb>data table notebook</a>'\n",
              "          + ' to learn more about interactive tables.';\n",
              "        element.innerHTML = '';\n",
              "        dataTable['output_type'] = 'display_data';\n",
              "        await google.colab.output.renderOutput(dataTable, element);\n",
              "        const docLink = document.createElement('div');\n",
              "        docLink.innerHTML = docLinkHtml;\n",
              "        element.appendChild(docLink);\n",
              "      }\n",
              "    </script>\n",
              "  </div>\n",
              "\n",
              "\n",
              "    <div id=\"df-b4eb2d4a-9153-4104-8aba-6fa9f6301808\">\n",
              "      <button class=\"colab-df-quickchart\" onclick=\"quickchart('df-b4eb2d4a-9153-4104-8aba-6fa9f6301808')\"\n",
              "                title=\"Suggest charts\"\n",
              "                style=\"display:none;\">\n",
              "\n",
              "<svg xmlns=\"http://www.w3.org/2000/svg\" height=\"24px\"viewBox=\"0 0 24 24\"\n",
              "     width=\"24px\">\n",
              "    <g>\n",
              "        <path d=\"M19 3H5c-1.1 0-2 .9-2 2v14c0 1.1.9 2 2 2h14c1.1 0 2-.9 2-2V5c0-1.1-.9-2-2-2zM9 17H7v-7h2v7zm4 0h-2V7h2v10zm4 0h-2v-4h2v4z\"/>\n",
              "    </g>\n",
              "</svg>\n",
              "      </button>\n",
              "\n",
              "<style>\n",
              "  .colab-df-quickchart {\n",
              "      --bg-color: #E8F0FE;\n",
              "      --fill-color: #1967D2;\n",
              "      --hover-bg-color: #E2EBFA;\n",
              "      --hover-fill-color: #174EA6;\n",
              "      --disabled-fill-color: #AAA;\n",
              "      --disabled-bg-color: #DDD;\n",
              "  }\n",
              "\n",
              "  [theme=dark] .colab-df-quickchart {\n",
              "      --bg-color: #3B4455;\n",
              "      --fill-color: #D2E3FC;\n",
              "      --hover-bg-color: #434B5C;\n",
              "      --hover-fill-color: #FFFFFF;\n",
              "      --disabled-bg-color: #3B4455;\n",
              "      --disabled-fill-color: #666;\n",
              "  }\n",
              "\n",
              "  .colab-df-quickchart {\n",
              "    background-color: var(--bg-color);\n",
              "    border: none;\n",
              "    border-radius: 50%;\n",
              "    cursor: pointer;\n",
              "    display: none;\n",
              "    fill: var(--fill-color);\n",
              "    height: 32px;\n",
              "    padding: 0;\n",
              "    width: 32px;\n",
              "  }\n",
              "\n",
              "  .colab-df-quickchart:hover {\n",
              "    background-color: var(--hover-bg-color);\n",
              "    box-shadow: 0 1px 2px rgba(60, 64, 67, 0.3), 0 1px 3px 1px rgba(60, 64, 67, 0.15);\n",
              "    fill: var(--button-hover-fill-color);\n",
              "  }\n",
              "\n",
              "  .colab-df-quickchart-complete:disabled,\n",
              "  .colab-df-quickchart-complete:disabled:hover {\n",
              "    background-color: var(--disabled-bg-color);\n",
              "    fill: var(--disabled-fill-color);\n",
              "    box-shadow: none;\n",
              "  }\n",
              "\n",
              "  .colab-df-spinner {\n",
              "    border: 2px solid var(--fill-color);\n",
              "    border-color: transparent;\n",
              "    border-bottom-color: var(--fill-color);\n",
              "    animation:\n",
              "      spin 1s steps(1) infinite;\n",
              "  }\n",
              "\n",
              "  @keyframes spin {\n",
              "    0% {\n",
              "      border-color: transparent;\n",
              "      border-bottom-color: var(--fill-color);\n",
              "      border-left-color: var(--fill-color);\n",
              "    }\n",
              "    20% {\n",
              "      border-color: transparent;\n",
              "      border-left-color: var(--fill-color);\n",
              "      border-top-color: var(--fill-color);\n",
              "    }\n",
              "    30% {\n",
              "      border-color: transparent;\n",
              "      border-left-color: var(--fill-color);\n",
              "      border-top-color: var(--fill-color);\n",
              "      border-right-color: var(--fill-color);\n",
              "    }\n",
              "    40% {\n",
              "      border-color: transparent;\n",
              "      border-right-color: var(--fill-color);\n",
              "      border-top-color: var(--fill-color);\n",
              "    }\n",
              "    60% {\n",
              "      border-color: transparent;\n",
              "      border-right-color: var(--fill-color);\n",
              "    }\n",
              "    80% {\n",
              "      border-color: transparent;\n",
              "      border-right-color: var(--fill-color);\n",
              "      border-bottom-color: var(--fill-color);\n",
              "    }\n",
              "    90% {\n",
              "      border-color: transparent;\n",
              "      border-bottom-color: var(--fill-color);\n",
              "    }\n",
              "  }\n",
              "</style>\n",
              "\n",
              "      <script>\n",
              "        async function quickchart(key) {\n",
              "          const quickchartButtonEl =\n",
              "            document.querySelector('#' + key + ' button');\n",
              "          quickchartButtonEl.disabled = true;  // To prevent multiple clicks.\n",
              "          quickchartButtonEl.classList.add('colab-df-spinner');\n",
              "          try {\n",
              "            const charts = await google.colab.kernel.invokeFunction(\n",
              "                'suggestCharts', [key], {});\n",
              "          } catch (error) {\n",
              "            console.error('Error during call to suggestCharts:', error);\n",
              "          }\n",
              "          quickchartButtonEl.classList.remove('colab-df-spinner');\n",
              "          quickchartButtonEl.classList.add('colab-df-quickchart-complete');\n",
              "        }\n",
              "        (() => {\n",
              "          let quickchartButtonEl =\n",
              "            document.querySelector('#df-b4eb2d4a-9153-4104-8aba-6fa9f6301808 button');\n",
              "          quickchartButtonEl.style.display =\n",
              "            google.colab.kernel.accessAllowed ? 'block' : 'none';\n",
              "        })();\n",
              "      </script>\n",
              "    </div>\n",
              "\n",
              "    </div>\n",
              "  </div>\n"
            ],
            "application/vnd.google.colaboratory.intrinsic+json": {
              "type": "dataframe",
              "summary": "{\n  \"name\": \"oo\",\n  \"rows\": 3,\n  \"fields\": [\n    {\n      \"column\": \"Year\",\n      \"properties\": {\n        \"dtype\": \"number\",\n        \"std\": 14,\n        \"min\": 1976,\n        \"max\": 2004,\n        \"num_unique_values\": 3,\n        \"samples\": [\n          2004,\n          1976,\n          1992\n        ],\n        \"semantic_type\": \"\",\n        \"description\": \"\"\n      }\n    },\n    {\n      \"column\": \"City\",\n      \"properties\": {\n        \"dtype\": \"string\",\n        \"num_unique_values\": 3,\n        \"samples\": [\n          \"Athens\",\n          \"Montreal\",\n          \"Barcelona\"\n        ],\n        \"semantic_type\": \"\",\n        \"description\": \"\"\n      }\n    },\n    {\n      \"column\": \"Sport\",\n      \"properties\": {\n        \"dtype\": \"string\",\n        \"num_unique_values\": 3,\n        \"samples\": [\n          \"Shooting\",\n          \"Rowing\",\n          \"Athletics\"\n        ],\n        \"semantic_type\": \"\",\n        \"description\": \"\"\n      }\n    },\n    {\n      \"column\": \"Discipline\",\n      \"properties\": {\n        \"dtype\": \"string\",\n        \"num_unique_values\": 3,\n        \"samples\": [\n          \"Shooting\",\n          \"Rowing\",\n          \"Athletics\"\n        ],\n        \"semantic_type\": \"\",\n        \"description\": \"\"\n      }\n    },\n    {\n      \"column\": \"Athlete Name\",\n      \"properties\": {\n        \"dtype\": \"string\",\n        \"num_unique_values\": 3,\n        \"samples\": [\n          \"TURISINI, Valentina\",\n          \"HART, Michael John\",\n          \"BOGOSLOVSKAYA, Olga\"\n        ],\n        \"semantic_type\": \"\",\n        \"description\": \"\"\n      }\n    },\n    {\n      \"column\": \"NOC\",\n      \"properties\": {\n        \"dtype\": \"string\",\n        \"num_unique_values\": 3,\n        \"samples\": [\n          \"ITA\",\n          \"GBR\",\n          \"EUN\"\n        ],\n        \"semantic_type\": \"\",\n        \"description\": \"\"\n      }\n    },\n    {\n      \"column\": \"Gender\",\n      \"properties\": {\n        \"dtype\": \"category\",\n        \"num_unique_values\": 2,\n        \"samples\": [\n          \"Men\",\n          \"Women\"\n        ],\n        \"semantic_type\": \"\",\n        \"description\": \"\"\n      }\n    },\n    {\n      \"column\": \"Event\",\n      \"properties\": {\n        \"dtype\": \"string\",\n        \"num_unique_values\": 3,\n        \"samples\": [\n          \"50m rifle 3 positions (3x20 shots)\",\n          \"double sculls (2x)\"\n        ],\n        \"semantic_type\": \"\",\n        \"description\": \"\"\n      }\n    },\n    {\n      \"column\": \"Event Gender\",\n      \"properties\": {\n        \"dtype\": \"category\",\n        \"num_unique_values\": 2,\n        \"samples\": [\n          \"M\",\n          \"W\"\n        ],\n        \"semantic_type\": \"\",\n        \"description\": \"\"\n      }\n    },\n    {\n      \"column\": \"Medal\",\n      \"properties\": {\n        \"dtype\": \"category\",\n        \"num_unique_values\": 1,\n        \"samples\": [\n          \"Silver\"\n        ],\n        \"semantic_type\": \"\",\n        \"description\": \"\"\n      }\n    }\n  ]\n}"
            }
          },
          "metadata": {},
          "execution_count": 71
        }
      ],
      "source": [
        "oo = (pd.read_csv(filename, skiprows=5, dtype=dtype_mapper)\n",
        "      .drop('Position', axis=1)\n",
        ")\n",
        "oo.sample(3)"
      ]
    },
    {
      "cell_type": "code",
      "execution_count": 72,
      "metadata": {
        "id": "3oXQfacqursw",
        "outputId": "cd3b5406-2995-4587-8263-2ea1be824408",
        "colab": {
          "base_uri": "https://localhost:8080/",
          "height": 515
        }
      },
      "outputs": [
        {
          "output_type": "stream",
          "name": "stdout",
          "text": [
            "Preprocessing olympics_1896_2004.csv ...\n",
            "\n"
          ]
        },
        {
          "output_type": "stream",
          "name": "stderr",
          "text": [
            "/usr/local/lib/python3.11/dist-packages/google/colab/_interactive_table_hint_button.py:178: FutureWarning: Index.format is deprecated and will be removed in a future version. Convert using index.astype(str) or index.map(formatter) instead.\n",
            "  df_html=dataframe._repr_html_(),  # pylint: disable=protected-access\n"
          ]
        },
        {
          "output_type": "execute_result",
          "data": {
            "text/plain": [
              "       Year    City      Sport     Discipline        Athlete Name  NOC Gender  \\\n",
              "0      1896  Athens    Cycling  Cycling Track       FLAMENG, Léon  FRA    Men   \n",
              "1      1896  Athens    Cycling  Cycling Track  KOLETTIS, Georgios  GRE    Men   \n",
              "2      1896  Athens  Athletics      Athletics       LANE, Francis  USA    Men   \n",
              "3      1896  Athens  Athletics      Athletics    SZOKOLYI, Alajos  HUN    Men   \n",
              "4      1896  Athens  Athletics      Athletics       BURKE, Thomas  USA    Men   \n",
              "...     ...     ...        ...            ...                 ...  ...    ...   \n",
              "27169  2004  Athens    Fencing        Fencing  LOGOUNOVA, Tatiana  RUS  Women   \n",
              "27170  2004  Athens    Fencing        Fencing       SIVKOVA, Anna  RUS  Women   \n",
              "27171  2004  Athens    Fencing        Fencing      BOKEL, Claudia  GER  Women   \n",
              "27172  2004  Athens    Fencing        Fencing     DUPLITZER, Imke  GER  Women   \n",
              "27173  2004  Athens    Fencing        Fencing   HEIDEMANN, Britta  GER  Women   \n",
              "\n",
              "           Event Event Gender   Medal  \n",
              "0          100km            M    Gold  \n",
              "1          100km            M  Silver  \n",
              "2           100m            M  Bronze  \n",
              "3           100m            M  Bronze  \n",
              "4           100m            M    Gold  \n",
              "...          ...          ...     ...  \n",
              "27169  épée team            W    Gold  \n",
              "27170  épée team            W    Gold  \n",
              "27171  épée team            W  Silver  \n",
              "27172  épée team            W  Silver  \n",
              "27173  épée team            W  Silver  \n",
              "\n",
              "[27174 rows x 10 columns]"
            ],
            "text/html": [
              "\n",
              "  <div id=\"df-64b01369-e5e5-4134-81d4-805c62b3c82b\" class=\"colab-df-container\">\n",
              "    <div>\n",
              "<style scoped>\n",
              "    .dataframe tbody tr th:only-of-type {\n",
              "        vertical-align: middle;\n",
              "    }\n",
              "\n",
              "    .dataframe tbody tr th {\n",
              "        vertical-align: top;\n",
              "    }\n",
              "\n",
              "    .dataframe thead th {\n",
              "        text-align: right;\n",
              "    }\n",
              "</style>\n",
              "<table border=\"1\" class=\"dataframe\">\n",
              "  <thead>\n",
              "    <tr style=\"text-align: right;\">\n",
              "      <th></th>\n",
              "      <th>Year</th>\n",
              "      <th>City</th>\n",
              "      <th>Sport</th>\n",
              "      <th>Discipline</th>\n",
              "      <th>Athlete Name</th>\n",
              "      <th>NOC</th>\n",
              "      <th>Gender</th>\n",
              "      <th>Event</th>\n",
              "      <th>Event Gender</th>\n",
              "      <th>Medal</th>\n",
              "    </tr>\n",
              "  </thead>\n",
              "  <tbody>\n",
              "    <tr>\n",
              "      <th>0</th>\n",
              "      <td>1896</td>\n",
              "      <td>Athens</td>\n",
              "      <td>Cycling</td>\n",
              "      <td>Cycling Track</td>\n",
              "      <td>FLAMENG, Léon</td>\n",
              "      <td>FRA</td>\n",
              "      <td>Men</td>\n",
              "      <td>100km</td>\n",
              "      <td>M</td>\n",
              "      <td>Gold</td>\n",
              "    </tr>\n",
              "    <tr>\n",
              "      <th>1</th>\n",
              "      <td>1896</td>\n",
              "      <td>Athens</td>\n",
              "      <td>Cycling</td>\n",
              "      <td>Cycling Track</td>\n",
              "      <td>KOLETTIS, Georgios</td>\n",
              "      <td>GRE</td>\n",
              "      <td>Men</td>\n",
              "      <td>100km</td>\n",
              "      <td>M</td>\n",
              "      <td>Silver</td>\n",
              "    </tr>\n",
              "    <tr>\n",
              "      <th>2</th>\n",
              "      <td>1896</td>\n",
              "      <td>Athens</td>\n",
              "      <td>Athletics</td>\n",
              "      <td>Athletics</td>\n",
              "      <td>LANE, Francis</td>\n",
              "      <td>USA</td>\n",
              "      <td>Men</td>\n",
              "      <td>100m</td>\n",
              "      <td>M</td>\n",
              "      <td>Bronze</td>\n",
              "    </tr>\n",
              "    <tr>\n",
              "      <th>3</th>\n",
              "      <td>1896</td>\n",
              "      <td>Athens</td>\n",
              "      <td>Athletics</td>\n",
              "      <td>Athletics</td>\n",
              "      <td>SZOKOLYI, Alajos</td>\n",
              "      <td>HUN</td>\n",
              "      <td>Men</td>\n",
              "      <td>100m</td>\n",
              "      <td>M</td>\n",
              "      <td>Bronze</td>\n",
              "    </tr>\n",
              "    <tr>\n",
              "      <th>4</th>\n",
              "      <td>1896</td>\n",
              "      <td>Athens</td>\n",
              "      <td>Athletics</td>\n",
              "      <td>Athletics</td>\n",
              "      <td>BURKE, Thomas</td>\n",
              "      <td>USA</td>\n",
              "      <td>Men</td>\n",
              "      <td>100m</td>\n",
              "      <td>M</td>\n",
              "      <td>Gold</td>\n",
              "    </tr>\n",
              "    <tr>\n",
              "      <th>...</th>\n",
              "      <td>...</td>\n",
              "      <td>...</td>\n",
              "      <td>...</td>\n",
              "      <td>...</td>\n",
              "      <td>...</td>\n",
              "      <td>...</td>\n",
              "      <td>...</td>\n",
              "      <td>...</td>\n",
              "      <td>...</td>\n",
              "      <td>...</td>\n",
              "    </tr>\n",
              "    <tr>\n",
              "      <th>27169</th>\n",
              "      <td>2004</td>\n",
              "      <td>Athens</td>\n",
              "      <td>Fencing</td>\n",
              "      <td>Fencing</td>\n",
              "      <td>LOGOUNOVA, Tatiana</td>\n",
              "      <td>RUS</td>\n",
              "      <td>Women</td>\n",
              "      <td>épée team</td>\n",
              "      <td>W</td>\n",
              "      <td>Gold</td>\n",
              "    </tr>\n",
              "    <tr>\n",
              "      <th>27170</th>\n",
              "      <td>2004</td>\n",
              "      <td>Athens</td>\n",
              "      <td>Fencing</td>\n",
              "      <td>Fencing</td>\n",
              "      <td>SIVKOVA, Anna</td>\n",
              "      <td>RUS</td>\n",
              "      <td>Women</td>\n",
              "      <td>épée team</td>\n",
              "      <td>W</td>\n",
              "      <td>Gold</td>\n",
              "    </tr>\n",
              "    <tr>\n",
              "      <th>27171</th>\n",
              "      <td>2004</td>\n",
              "      <td>Athens</td>\n",
              "      <td>Fencing</td>\n",
              "      <td>Fencing</td>\n",
              "      <td>BOKEL, Claudia</td>\n",
              "      <td>GER</td>\n",
              "      <td>Women</td>\n",
              "      <td>épée team</td>\n",
              "      <td>W</td>\n",
              "      <td>Silver</td>\n",
              "    </tr>\n",
              "    <tr>\n",
              "      <th>27172</th>\n",
              "      <td>2004</td>\n",
              "      <td>Athens</td>\n",
              "      <td>Fencing</td>\n",
              "      <td>Fencing</td>\n",
              "      <td>DUPLITZER, Imke</td>\n",
              "      <td>GER</td>\n",
              "      <td>Women</td>\n",
              "      <td>épée team</td>\n",
              "      <td>W</td>\n",
              "      <td>Silver</td>\n",
              "    </tr>\n",
              "    <tr>\n",
              "      <th>27173</th>\n",
              "      <td>2004</td>\n",
              "      <td>Athens</td>\n",
              "      <td>Fencing</td>\n",
              "      <td>Fencing</td>\n",
              "      <td>HEIDEMANN, Britta</td>\n",
              "      <td>GER</td>\n",
              "      <td>Women</td>\n",
              "      <td>épée team</td>\n",
              "      <td>W</td>\n",
              "      <td>Silver</td>\n",
              "    </tr>\n",
              "  </tbody>\n",
              "</table>\n",
              "<p>27174 rows × 10 columns</p>\n",
              "</div>\n",
              "    <div class=\"colab-df-buttons\">\n",
              "\n",
              "  <div class=\"colab-df-container\">\n",
              "    <button class=\"colab-df-convert\" onclick=\"convertToInteractive('df-64b01369-e5e5-4134-81d4-805c62b3c82b')\"\n",
              "            title=\"Convert this dataframe to an interactive table.\"\n",
              "            style=\"display:none;\">\n",
              "\n",
              "  <svg xmlns=\"http://www.w3.org/2000/svg\" height=\"24px\" viewBox=\"0 -960 960 960\">\n",
              "    <path d=\"M120-120v-720h720v720H120Zm60-500h600v-160H180v160Zm220 220h160v-160H400v160Zm0 220h160v-160H400v160ZM180-400h160v-160H180v160Zm440 0h160v-160H620v160ZM180-180h160v-160H180v160Zm440 0h160v-160H620v160Z\"/>\n",
              "  </svg>\n",
              "    </button>\n",
              "\n",
              "  <style>\n",
              "    .colab-df-container {\n",
              "      display:flex;\n",
              "      gap: 12px;\n",
              "    }\n",
              "\n",
              "    .colab-df-convert {\n",
              "      background-color: #E8F0FE;\n",
              "      border: none;\n",
              "      border-radius: 50%;\n",
              "      cursor: pointer;\n",
              "      display: none;\n",
              "      fill: #1967D2;\n",
              "      height: 32px;\n",
              "      padding: 0 0 0 0;\n",
              "      width: 32px;\n",
              "    }\n",
              "\n",
              "    .colab-df-convert:hover {\n",
              "      background-color: #E2EBFA;\n",
              "      box-shadow: 0px 1px 2px rgba(60, 64, 67, 0.3), 0px 1px 3px 1px rgba(60, 64, 67, 0.15);\n",
              "      fill: #174EA6;\n",
              "    }\n",
              "\n",
              "    .colab-df-buttons div {\n",
              "      margin-bottom: 4px;\n",
              "    }\n",
              "\n",
              "    [theme=dark] .colab-df-convert {\n",
              "      background-color: #3B4455;\n",
              "      fill: #D2E3FC;\n",
              "    }\n",
              "\n",
              "    [theme=dark] .colab-df-convert:hover {\n",
              "      background-color: #434B5C;\n",
              "      box-shadow: 0px 1px 3px 1px rgba(0, 0, 0, 0.15);\n",
              "      filter: drop-shadow(0px 1px 2px rgba(0, 0, 0, 0.3));\n",
              "      fill: #FFFFFF;\n",
              "    }\n",
              "  </style>\n",
              "\n",
              "    <script>\n",
              "      const buttonEl =\n",
              "        document.querySelector('#df-64b01369-e5e5-4134-81d4-805c62b3c82b button.colab-df-convert');\n",
              "      buttonEl.style.display =\n",
              "        google.colab.kernel.accessAllowed ? 'block' : 'none';\n",
              "\n",
              "      async function convertToInteractive(key) {\n",
              "        const element = document.querySelector('#df-64b01369-e5e5-4134-81d4-805c62b3c82b');\n",
              "        const dataTable =\n",
              "          await google.colab.kernel.invokeFunction('convertToInteractive',\n",
              "                                                    [key], {});\n",
              "        if (!dataTable) return;\n",
              "\n",
              "        const docLinkHtml = 'Like what you see? Visit the ' +\n",
              "          '<a target=\"_blank\" href=https://colab.research.google.com/notebooks/data_table.ipynb>data table notebook</a>'\n",
              "          + ' to learn more about interactive tables.';\n",
              "        element.innerHTML = '';\n",
              "        dataTable['output_type'] = 'display_data';\n",
              "        await google.colab.output.renderOutput(dataTable, element);\n",
              "        const docLink = document.createElement('div');\n",
              "        docLink.innerHTML = docLinkHtml;\n",
              "        element.appendChild(docLink);\n",
              "      }\n",
              "    </script>\n",
              "  </div>\n",
              "\n",
              "\n",
              "    <div id=\"df-780dc2e0-2ab1-40ef-823d-578cd2d462d0\">\n",
              "      <button class=\"colab-df-quickchart\" onclick=\"quickchart('df-780dc2e0-2ab1-40ef-823d-578cd2d462d0')\"\n",
              "                title=\"Suggest charts\"\n",
              "                style=\"display:none;\">\n",
              "\n",
              "<svg xmlns=\"http://www.w3.org/2000/svg\" height=\"24px\"viewBox=\"0 0 24 24\"\n",
              "     width=\"24px\">\n",
              "    <g>\n",
              "        <path d=\"M19 3H5c-1.1 0-2 .9-2 2v14c0 1.1.9 2 2 2h14c1.1 0 2-.9 2-2V5c0-1.1-.9-2-2-2zM9 17H7v-7h2v7zm4 0h-2V7h2v10zm4 0h-2v-4h2v4z\"/>\n",
              "    </g>\n",
              "</svg>\n",
              "      </button>\n",
              "\n",
              "<style>\n",
              "  .colab-df-quickchart {\n",
              "      --bg-color: #E8F0FE;\n",
              "      --fill-color: #1967D2;\n",
              "      --hover-bg-color: #E2EBFA;\n",
              "      --hover-fill-color: #174EA6;\n",
              "      --disabled-fill-color: #AAA;\n",
              "      --disabled-bg-color: #DDD;\n",
              "  }\n",
              "\n",
              "  [theme=dark] .colab-df-quickchart {\n",
              "      --bg-color: #3B4455;\n",
              "      --fill-color: #D2E3FC;\n",
              "      --hover-bg-color: #434B5C;\n",
              "      --hover-fill-color: #FFFFFF;\n",
              "      --disabled-bg-color: #3B4455;\n",
              "      --disabled-fill-color: #666;\n",
              "  }\n",
              "\n",
              "  .colab-df-quickchart {\n",
              "    background-color: var(--bg-color);\n",
              "    border: none;\n",
              "    border-radius: 50%;\n",
              "    cursor: pointer;\n",
              "    display: none;\n",
              "    fill: var(--fill-color);\n",
              "    height: 32px;\n",
              "    padding: 0;\n",
              "    width: 32px;\n",
              "  }\n",
              "\n",
              "  .colab-df-quickchart:hover {\n",
              "    background-color: var(--hover-bg-color);\n",
              "    box-shadow: 0 1px 2px rgba(60, 64, 67, 0.3), 0 1px 3px 1px rgba(60, 64, 67, 0.15);\n",
              "    fill: var(--button-hover-fill-color);\n",
              "  }\n",
              "\n",
              "  .colab-df-quickchart-complete:disabled,\n",
              "  .colab-df-quickchart-complete:disabled:hover {\n",
              "    background-color: var(--disabled-bg-color);\n",
              "    fill: var(--disabled-fill-color);\n",
              "    box-shadow: none;\n",
              "  }\n",
              "\n",
              "  .colab-df-spinner {\n",
              "    border: 2px solid var(--fill-color);\n",
              "    border-color: transparent;\n",
              "    border-bottom-color: var(--fill-color);\n",
              "    animation:\n",
              "      spin 1s steps(1) infinite;\n",
              "  }\n",
              "\n",
              "  @keyframes spin {\n",
              "    0% {\n",
              "      border-color: transparent;\n",
              "      border-bottom-color: var(--fill-color);\n",
              "      border-left-color: var(--fill-color);\n",
              "    }\n",
              "    20% {\n",
              "      border-color: transparent;\n",
              "      border-left-color: var(--fill-color);\n",
              "      border-top-color: var(--fill-color);\n",
              "    }\n",
              "    30% {\n",
              "      border-color: transparent;\n",
              "      border-left-color: var(--fill-color);\n",
              "      border-top-color: var(--fill-color);\n",
              "      border-right-color: var(--fill-color);\n",
              "    }\n",
              "    40% {\n",
              "      border-color: transparent;\n",
              "      border-right-color: var(--fill-color);\n",
              "      border-top-color: var(--fill-color);\n",
              "    }\n",
              "    60% {\n",
              "      border-color: transparent;\n",
              "      border-right-color: var(--fill-color);\n",
              "    }\n",
              "    80% {\n",
              "      border-color: transparent;\n",
              "      border-right-color: var(--fill-color);\n",
              "      border-bottom-color: var(--fill-color);\n",
              "    }\n",
              "    90% {\n",
              "      border-color: transparent;\n",
              "      border-bottom-color: var(--fill-color);\n",
              "    }\n",
              "  }\n",
              "</style>\n",
              "\n",
              "      <script>\n",
              "        async function quickchart(key) {\n",
              "          const quickchartButtonEl =\n",
              "            document.querySelector('#' + key + ' button');\n",
              "          quickchartButtonEl.disabled = true;  // To prevent multiple clicks.\n",
              "          quickchartButtonEl.classList.add('colab-df-spinner');\n",
              "          try {\n",
              "            const charts = await google.colab.kernel.invokeFunction(\n",
              "                'suggestCharts', [key], {});\n",
              "          } catch (error) {\n",
              "            console.error('Error during call to suggestCharts:', error);\n",
              "          }\n",
              "          quickchartButtonEl.classList.remove('colab-df-spinner');\n",
              "          quickchartButtonEl.classList.add('colab-df-quickchart-complete');\n",
              "        }\n",
              "        (() => {\n",
              "          let quickchartButtonEl =\n",
              "            document.querySelector('#df-780dc2e0-2ab1-40ef-823d-578cd2d462d0 button');\n",
              "          quickchartButtonEl.style.display =\n",
              "            google.colab.kernel.accessAllowed ? 'block' : 'none';\n",
              "        })();\n",
              "      </script>\n",
              "    </div>\n",
              "\n",
              "    </div>\n",
              "  </div>\n"
            ],
            "application/vnd.google.colaboratory.intrinsic+json": {
              "type": "dataframe",
              "summary": "{\n  \"name\": \"preprocess()\",\n  \"rows\": 27174,\n  \"fields\": [\n    {\n      \"column\": \"Year\",\n      \"properties\": {\n        \"dtype\": \"number\",\n        \"std\": 31,\n        \"min\": 1896,\n        \"max\": 2004,\n        \"num_unique_values\": 25,\n        \"samples\": [\n          1932,\n          1972,\n          1896\n        ],\n        \"semantic_type\": \"\",\n        \"description\": \"\"\n      }\n    },\n    {\n      \"column\": \"City\",\n      \"properties\": {\n        \"dtype\": \"string\",\n        \"num_unique_values\": 21,\n        \"samples\": [\n          \"Athens\",\n          \"Seoul\",\n          \"Montreal\"\n        ],\n        \"semantic_type\": \"\",\n        \"description\": \"\"\n      }\n    },\n    {\n      \"column\": \"Sport\",\n      \"properties\": {\n        \"dtype\": \"string\",\n        \"num_unique_values\": 42,\n        \"samples\": [\n          \"Rackets\",\n          \"Croquet\",\n          \"Wrestling\"\n        ],\n        \"semantic_type\": \"\",\n        \"description\": \"\"\n      }\n    },\n    {\n      \"column\": \"Discipline\",\n      \"properties\": {\n        \"dtype\": \"string\",\n        \"num_unique_values\": 55,\n        \"samples\": [\n          \"Jeu de Paume\",\n          \"Fencing\",\n          \"Figure skating\"\n        ],\n        \"semantic_type\": \"\",\n        \"description\": \"\"\n      }\n    },\n    {\n      \"column\": \"Athlete Name\",\n      \"properties\": {\n        \"dtype\": \"string\",\n        \"num_unique_values\": 19991,\n        \"samples\": [\n          \"TOMAN, Ladislav\",\n          \"MATTO, Sergio A.\",\n          \"DE WOLF, Nicolaas\"\n        ],\n        \"semantic_type\": \"\",\n        \"description\": \"\"\n      }\n    },\n    {\n      \"column\": \"NOC\",\n      \"properties\": {\n        \"dtype\": \"string\",\n        \"num_unique_values\": 132,\n        \"samples\": [\n          \"VEN\",\n          \"ZIM\",\n          \"SWE\"\n        ],\n        \"semantic_type\": \"\",\n        \"description\": \"\"\n      }\n    },\n    {\n      \"column\": \"Gender\",\n      \"properties\": {\n        \"dtype\": \"category\",\n        \"num_unique_values\": 2,\n        \"samples\": [\n          \"Women\",\n          \"Men\"\n        ],\n        \"semantic_type\": \"\",\n        \"description\": \"\"\n      }\n    },\n    {\n      \"column\": \"Event\",\n      \"properties\": {\n        \"dtype\": \"string\",\n        \"num_unique_values\": 572,\n        \"samples\": [\n          \"- 58 kg\",\n          \"cricket\"\n        ],\n        \"semantic_type\": \"\",\n        \"description\": \"\"\n      }\n    },\n    {\n      \"column\": \"Event Gender\",\n      \"properties\": {\n        \"dtype\": \"category\",\n        \"num_unique_values\": 3,\n        \"samples\": [\n          \"M\",\n          \"X\"\n        ],\n        \"semantic_type\": \"\",\n        \"description\": \"\"\n      }\n    },\n    {\n      \"column\": \"Medal\",\n      \"properties\": {\n        \"dtype\": \"category\",\n        \"num_unique_values\": 3,\n        \"samples\": [\n          \"Gold\",\n          \"Silver\"\n        ],\n        \"semantic_type\": \"\",\n        \"description\": \"\"\n      }\n    }\n  ]\n}"
            }
          },
          "metadata": {},
          "execution_count": 72
        }
      ],
      "source": [
        "def preprocess(filename = \"olympics_1896_2004.csv\"):\n",
        "  \"\"\"Preparing and transforming dataframe\"\"\"\n",
        "  print(f\"Preprocessing {filename} ...\\n\")\n",
        "  ordered_medals = pd.api.types.CategoricalDtype(categories=[\"Bronze\", \"Silver\", \"Gold\"], ordered=True)\n",
        "  dtype_mapper = {\"Year\": \"int64\",\n",
        "                \"City\": \"string\",\n",
        "                \"Sport\": \"string\",\n",
        "                \"Discipline\": \"string\",\n",
        "                \"Athlete Name\": \"string\",\n",
        "                \"NOC\": \"string\",\n",
        "                \"Gender\": \"category\",\n",
        "                \"Event\": \"string\",\n",
        "                \"Event_gender\": \"category\",\n",
        "                \"Medal\": ordered_medals}\n",
        "  df = (pd.read_csv(filename, skiprows=5, dtype=dtype_mapper)\n",
        "        .drop('Position', axis=1)\n",
        "  )\n",
        "\n",
        "  return df\n",
        "\n",
        "preprocess()"
      ]
    },
    {
      "cell_type": "code",
      "execution_count": null,
      "metadata": {
        "id": "BwQNeMAivzLq"
      },
      "outputs": [],
      "source": [
        "preprocess()"
      ]
    },
    {
      "cell_type": "code",
      "execution_count": null,
      "metadata": {
        "id": "xREoRlWqvp9J"
      },
      "outputs": [],
      "source": [
        "oo = preprocess()\n",
        "oo.sample(3)"
      ]
    },
    {
      "cell_type": "code",
      "source": [
        "oo.dtypes"
      ],
      "metadata": {
        "id": "kGQ5zFebVPAV"
      },
      "execution_count": null,
      "outputs": []
    },
    {
      "cell_type": "code",
      "source": [
        "oo[\"Event Gender\"].unique()"
      ],
      "metadata": {
        "id": "jWr1WWwyrj3Z"
      },
      "execution_count": null,
      "outputs": []
    },
    {
      "cell_type": "code",
      "source": [
        "def preprocess(filename = \"olympics_1896_2004.csv\"):\n",
        "  \"\"\"Preparing and transforming dataframe\"\"\"\n",
        "  print(f\"Preprocessing {filename} ...\\n\")\n",
        "  ordered_medals = pd.api.types.CategoricalDtype(categories=[\"Bronze\", \"Silver\", \"Gold\"], ordered=True)\n",
        "  dtype_mapper = {\"Year\": \"int64\",\n",
        "                \"City\": \"string\",\n",
        "                \"Sport\": \"string\",\n",
        "                \"Discipline\": \"string\",\n",
        "                \"Athlete Name\": \"string\",\n",
        "                \"NOC\": \"string\",\n",
        "                \"Gender\": \"category\",\n",
        "                \"Event\": \"string\",\n",
        "                \"Event_gender\": \"category\",\n",
        "                \"Medal\": ordered_medals}\n",
        "  df = (pd.read_csv(filename, skiprows=5, dtype=dtype_mapper)\n",
        "        .drop('Position', axis=1)\n",
        "  )\n",
        "  df[\"Event Gender\"] = df[\"Event Gender\"].astype(\"category\")\n",
        "  return df\n",
        "\n",
        "oo = preprocess()\n",
        "oo.sample(3)"
      ],
      "metadata": {
        "id": "9RhvwIbZXwPo",
        "outputId": "638237e1-2715-48c0-8ec6-11c97d3b2f64",
        "colab": {
          "base_uri": "https://localhost:8080/",
          "height": 322
        }
      },
      "execution_count": 73,
      "outputs": [
        {
          "output_type": "stream",
          "name": "stdout",
          "text": [
            "Preprocessing olympics_1896_2004.csv ...\n",
            "\n"
          ]
        },
        {
          "output_type": "stream",
          "name": "stderr",
          "text": [
            "/usr/local/lib/python3.11/dist-packages/google/colab/_interactive_table_hint_button.py:178: FutureWarning: Index.format is deprecated and will be removed in a future version. Convert using index.astype(str) or index.map(formatter) instead.\n",
            "  df_html=dataframe._repr_html_(),  # pylint: disable=protected-access\n"
          ]
        },
        {
          "output_type": "execute_result",
          "data": {
            "text/plain": [
              "       Year                   City     Sport Discipline  \\\n",
              "9407   1956  Melbourne / Stockholm  Football   Football   \n",
              "14898  1976               Montreal    Rowing     Rowing   \n",
              "26438  2004                 Athens  Handball   Handball   \n",
              "\n",
              "                    Athlete Name  NOC Gender  \\\n",
              "9407   STOYANOV, Dimitre Milanov  BUL    Men   \n",
              "14898  ULRICH, Friedrich-Wilhelm  GDR    Men   \n",
              "26438        BORYSENKO, Nataliya  UKR  Women   \n",
              "\n",
              "                                     Event Event Gender   Medal  \n",
              "9407                              football            M  Bronze  \n",
              "14898  pair-oared shell with coxswain (2+)            M    Gold  \n",
              "26438                             handball            W  Bronze  "
            ],
            "text/html": [
              "\n",
              "  <div id=\"df-dac192bd-b3a4-4592-9153-b99258a742b5\" class=\"colab-df-container\">\n",
              "    <div>\n",
              "<style scoped>\n",
              "    .dataframe tbody tr th:only-of-type {\n",
              "        vertical-align: middle;\n",
              "    }\n",
              "\n",
              "    .dataframe tbody tr th {\n",
              "        vertical-align: top;\n",
              "    }\n",
              "\n",
              "    .dataframe thead th {\n",
              "        text-align: right;\n",
              "    }\n",
              "</style>\n",
              "<table border=\"1\" class=\"dataframe\">\n",
              "  <thead>\n",
              "    <tr style=\"text-align: right;\">\n",
              "      <th></th>\n",
              "      <th>Year</th>\n",
              "      <th>City</th>\n",
              "      <th>Sport</th>\n",
              "      <th>Discipline</th>\n",
              "      <th>Athlete Name</th>\n",
              "      <th>NOC</th>\n",
              "      <th>Gender</th>\n",
              "      <th>Event</th>\n",
              "      <th>Event Gender</th>\n",
              "      <th>Medal</th>\n",
              "    </tr>\n",
              "  </thead>\n",
              "  <tbody>\n",
              "    <tr>\n",
              "      <th>9407</th>\n",
              "      <td>1956</td>\n",
              "      <td>Melbourne / Stockholm</td>\n",
              "      <td>Football</td>\n",
              "      <td>Football</td>\n",
              "      <td>STOYANOV, Dimitre Milanov</td>\n",
              "      <td>BUL</td>\n",
              "      <td>Men</td>\n",
              "      <td>football</td>\n",
              "      <td>M</td>\n",
              "      <td>Bronze</td>\n",
              "    </tr>\n",
              "    <tr>\n",
              "      <th>14898</th>\n",
              "      <td>1976</td>\n",
              "      <td>Montreal</td>\n",
              "      <td>Rowing</td>\n",
              "      <td>Rowing</td>\n",
              "      <td>ULRICH, Friedrich-Wilhelm</td>\n",
              "      <td>GDR</td>\n",
              "      <td>Men</td>\n",
              "      <td>pair-oared shell with coxswain (2+)</td>\n",
              "      <td>M</td>\n",
              "      <td>Gold</td>\n",
              "    </tr>\n",
              "    <tr>\n",
              "      <th>26438</th>\n",
              "      <td>2004</td>\n",
              "      <td>Athens</td>\n",
              "      <td>Handball</td>\n",
              "      <td>Handball</td>\n",
              "      <td>BORYSENKO, Nataliya</td>\n",
              "      <td>UKR</td>\n",
              "      <td>Women</td>\n",
              "      <td>handball</td>\n",
              "      <td>W</td>\n",
              "      <td>Bronze</td>\n",
              "    </tr>\n",
              "  </tbody>\n",
              "</table>\n",
              "</div>\n",
              "    <div class=\"colab-df-buttons\">\n",
              "\n",
              "  <div class=\"colab-df-container\">\n",
              "    <button class=\"colab-df-convert\" onclick=\"convertToInteractive('df-dac192bd-b3a4-4592-9153-b99258a742b5')\"\n",
              "            title=\"Convert this dataframe to an interactive table.\"\n",
              "            style=\"display:none;\">\n",
              "\n",
              "  <svg xmlns=\"http://www.w3.org/2000/svg\" height=\"24px\" viewBox=\"0 -960 960 960\">\n",
              "    <path d=\"M120-120v-720h720v720H120Zm60-500h600v-160H180v160Zm220 220h160v-160H400v160Zm0 220h160v-160H400v160ZM180-400h160v-160H180v160Zm440 0h160v-160H620v160ZM180-180h160v-160H180v160Zm440 0h160v-160H620v160Z\"/>\n",
              "  </svg>\n",
              "    </button>\n",
              "\n",
              "  <style>\n",
              "    .colab-df-container {\n",
              "      display:flex;\n",
              "      gap: 12px;\n",
              "    }\n",
              "\n",
              "    .colab-df-convert {\n",
              "      background-color: #E8F0FE;\n",
              "      border: none;\n",
              "      border-radius: 50%;\n",
              "      cursor: pointer;\n",
              "      display: none;\n",
              "      fill: #1967D2;\n",
              "      height: 32px;\n",
              "      padding: 0 0 0 0;\n",
              "      width: 32px;\n",
              "    }\n",
              "\n",
              "    .colab-df-convert:hover {\n",
              "      background-color: #E2EBFA;\n",
              "      box-shadow: 0px 1px 2px rgba(60, 64, 67, 0.3), 0px 1px 3px 1px rgba(60, 64, 67, 0.15);\n",
              "      fill: #174EA6;\n",
              "    }\n",
              "\n",
              "    .colab-df-buttons div {\n",
              "      margin-bottom: 4px;\n",
              "    }\n",
              "\n",
              "    [theme=dark] .colab-df-convert {\n",
              "      background-color: #3B4455;\n",
              "      fill: #D2E3FC;\n",
              "    }\n",
              "\n",
              "    [theme=dark] .colab-df-convert:hover {\n",
              "      background-color: #434B5C;\n",
              "      box-shadow: 0px 1px 3px 1px rgba(0, 0, 0, 0.15);\n",
              "      filter: drop-shadow(0px 1px 2px rgba(0, 0, 0, 0.3));\n",
              "      fill: #FFFFFF;\n",
              "    }\n",
              "  </style>\n",
              "\n",
              "    <script>\n",
              "      const buttonEl =\n",
              "        document.querySelector('#df-dac192bd-b3a4-4592-9153-b99258a742b5 button.colab-df-convert');\n",
              "      buttonEl.style.display =\n",
              "        google.colab.kernel.accessAllowed ? 'block' : 'none';\n",
              "\n",
              "      async function convertToInteractive(key) {\n",
              "        const element = document.querySelector('#df-dac192bd-b3a4-4592-9153-b99258a742b5');\n",
              "        const dataTable =\n",
              "          await google.colab.kernel.invokeFunction('convertToInteractive',\n",
              "                                                    [key], {});\n",
              "        if (!dataTable) return;\n",
              "\n",
              "        const docLinkHtml = 'Like what you see? Visit the ' +\n",
              "          '<a target=\"_blank\" href=https://colab.research.google.com/notebooks/data_table.ipynb>data table notebook</a>'\n",
              "          + ' to learn more about interactive tables.';\n",
              "        element.innerHTML = '';\n",
              "        dataTable['output_type'] = 'display_data';\n",
              "        await google.colab.output.renderOutput(dataTable, element);\n",
              "        const docLink = document.createElement('div');\n",
              "        docLink.innerHTML = docLinkHtml;\n",
              "        element.appendChild(docLink);\n",
              "      }\n",
              "    </script>\n",
              "  </div>\n",
              "\n",
              "\n",
              "    <div id=\"df-451601b9-ccf8-4a6d-b0d4-a1facc2b2cc5\">\n",
              "      <button class=\"colab-df-quickchart\" onclick=\"quickchart('df-451601b9-ccf8-4a6d-b0d4-a1facc2b2cc5')\"\n",
              "                title=\"Suggest charts\"\n",
              "                style=\"display:none;\">\n",
              "\n",
              "<svg xmlns=\"http://www.w3.org/2000/svg\" height=\"24px\"viewBox=\"0 0 24 24\"\n",
              "     width=\"24px\">\n",
              "    <g>\n",
              "        <path d=\"M19 3H5c-1.1 0-2 .9-2 2v14c0 1.1.9 2 2 2h14c1.1 0 2-.9 2-2V5c0-1.1-.9-2-2-2zM9 17H7v-7h2v7zm4 0h-2V7h2v10zm4 0h-2v-4h2v4z\"/>\n",
              "    </g>\n",
              "</svg>\n",
              "      </button>\n",
              "\n",
              "<style>\n",
              "  .colab-df-quickchart {\n",
              "      --bg-color: #E8F0FE;\n",
              "      --fill-color: #1967D2;\n",
              "      --hover-bg-color: #E2EBFA;\n",
              "      --hover-fill-color: #174EA6;\n",
              "      --disabled-fill-color: #AAA;\n",
              "      --disabled-bg-color: #DDD;\n",
              "  }\n",
              "\n",
              "  [theme=dark] .colab-df-quickchart {\n",
              "      --bg-color: #3B4455;\n",
              "      --fill-color: #D2E3FC;\n",
              "      --hover-bg-color: #434B5C;\n",
              "      --hover-fill-color: #FFFFFF;\n",
              "      --disabled-bg-color: #3B4455;\n",
              "      --disabled-fill-color: #666;\n",
              "  }\n",
              "\n",
              "  .colab-df-quickchart {\n",
              "    background-color: var(--bg-color);\n",
              "    border: none;\n",
              "    border-radius: 50%;\n",
              "    cursor: pointer;\n",
              "    display: none;\n",
              "    fill: var(--fill-color);\n",
              "    height: 32px;\n",
              "    padding: 0;\n",
              "    width: 32px;\n",
              "  }\n",
              "\n",
              "  .colab-df-quickchart:hover {\n",
              "    background-color: var(--hover-bg-color);\n",
              "    box-shadow: 0 1px 2px rgba(60, 64, 67, 0.3), 0 1px 3px 1px rgba(60, 64, 67, 0.15);\n",
              "    fill: var(--button-hover-fill-color);\n",
              "  }\n",
              "\n",
              "  .colab-df-quickchart-complete:disabled,\n",
              "  .colab-df-quickchart-complete:disabled:hover {\n",
              "    background-color: var(--disabled-bg-color);\n",
              "    fill: var(--disabled-fill-color);\n",
              "    box-shadow: none;\n",
              "  }\n",
              "\n",
              "  .colab-df-spinner {\n",
              "    border: 2px solid var(--fill-color);\n",
              "    border-color: transparent;\n",
              "    border-bottom-color: var(--fill-color);\n",
              "    animation:\n",
              "      spin 1s steps(1) infinite;\n",
              "  }\n",
              "\n",
              "  @keyframes spin {\n",
              "    0% {\n",
              "      border-color: transparent;\n",
              "      border-bottom-color: var(--fill-color);\n",
              "      border-left-color: var(--fill-color);\n",
              "    }\n",
              "    20% {\n",
              "      border-color: transparent;\n",
              "      border-left-color: var(--fill-color);\n",
              "      border-top-color: var(--fill-color);\n",
              "    }\n",
              "    30% {\n",
              "      border-color: transparent;\n",
              "      border-left-color: var(--fill-color);\n",
              "      border-top-color: var(--fill-color);\n",
              "      border-right-color: var(--fill-color);\n",
              "    }\n",
              "    40% {\n",
              "      border-color: transparent;\n",
              "      border-right-color: var(--fill-color);\n",
              "      border-top-color: var(--fill-color);\n",
              "    }\n",
              "    60% {\n",
              "      border-color: transparent;\n",
              "      border-right-color: var(--fill-color);\n",
              "    }\n",
              "    80% {\n",
              "      border-color: transparent;\n",
              "      border-right-color: var(--fill-color);\n",
              "      border-bottom-color: var(--fill-color);\n",
              "    }\n",
              "    90% {\n",
              "      border-color: transparent;\n",
              "      border-bottom-color: var(--fill-color);\n",
              "    }\n",
              "  }\n",
              "</style>\n",
              "\n",
              "      <script>\n",
              "        async function quickchart(key) {\n",
              "          const quickchartButtonEl =\n",
              "            document.querySelector('#' + key + ' button');\n",
              "          quickchartButtonEl.disabled = true;  // To prevent multiple clicks.\n",
              "          quickchartButtonEl.classList.add('colab-df-spinner');\n",
              "          try {\n",
              "            const charts = await google.colab.kernel.invokeFunction(\n",
              "                'suggestCharts', [key], {});\n",
              "          } catch (error) {\n",
              "            console.error('Error during call to suggestCharts:', error);\n",
              "          }\n",
              "          quickchartButtonEl.classList.remove('colab-df-spinner');\n",
              "          quickchartButtonEl.classList.add('colab-df-quickchart-complete');\n",
              "        }\n",
              "        (() => {\n",
              "          let quickchartButtonEl =\n",
              "            document.querySelector('#df-451601b9-ccf8-4a6d-b0d4-a1facc2b2cc5 button');\n",
              "          quickchartButtonEl.style.display =\n",
              "            google.colab.kernel.accessAllowed ? 'block' : 'none';\n",
              "        })();\n",
              "      </script>\n",
              "    </div>\n",
              "\n",
              "    </div>\n",
              "  </div>\n"
            ],
            "application/vnd.google.colaboratory.intrinsic+json": {
              "type": "dataframe",
              "summary": "{\n  \"name\": \"oo\",\n  \"rows\": 3,\n  \"fields\": [\n    {\n      \"column\": \"Year\",\n      \"properties\": {\n        \"dtype\": \"number\",\n        \"std\": 24,\n        \"min\": 1956,\n        \"max\": 2004,\n        \"num_unique_values\": 3,\n        \"samples\": [\n          1956,\n          1976,\n          2004\n        ],\n        \"semantic_type\": \"\",\n        \"description\": \"\"\n      }\n    },\n    {\n      \"column\": \"City\",\n      \"properties\": {\n        \"dtype\": \"string\",\n        \"num_unique_values\": 3,\n        \"samples\": [\n          \"Melbourne / Stockholm\",\n          \"Montreal\",\n          \"Athens\"\n        ],\n        \"semantic_type\": \"\",\n        \"description\": \"\"\n      }\n    },\n    {\n      \"column\": \"Sport\",\n      \"properties\": {\n        \"dtype\": \"string\",\n        \"num_unique_values\": 3,\n        \"samples\": [\n          \"Football\",\n          \"Rowing\",\n          \"Handball\"\n        ],\n        \"semantic_type\": \"\",\n        \"description\": \"\"\n      }\n    },\n    {\n      \"column\": \"Discipline\",\n      \"properties\": {\n        \"dtype\": \"string\",\n        \"num_unique_values\": 3,\n        \"samples\": [\n          \"Football\",\n          \"Rowing\",\n          \"Handball\"\n        ],\n        \"semantic_type\": \"\",\n        \"description\": \"\"\n      }\n    },\n    {\n      \"column\": \"Athlete Name\",\n      \"properties\": {\n        \"dtype\": \"string\",\n        \"num_unique_values\": 3,\n        \"samples\": [\n          \"STOYANOV, Dimitre Milanov\",\n          \"ULRICH, Friedrich-Wilhelm\",\n          \"BORYSENKO, Nataliya\"\n        ],\n        \"semantic_type\": \"\",\n        \"description\": \"\"\n      }\n    },\n    {\n      \"column\": \"NOC\",\n      \"properties\": {\n        \"dtype\": \"string\",\n        \"num_unique_values\": 3,\n        \"samples\": [\n          \"BUL\",\n          \"GDR\",\n          \"UKR\"\n        ],\n        \"semantic_type\": \"\",\n        \"description\": \"\"\n      }\n    },\n    {\n      \"column\": \"Gender\",\n      \"properties\": {\n        \"dtype\": \"category\",\n        \"num_unique_values\": 2,\n        \"samples\": [\n          \"Women\",\n          \"Men\"\n        ],\n        \"semantic_type\": \"\",\n        \"description\": \"\"\n      }\n    },\n    {\n      \"column\": \"Event\",\n      \"properties\": {\n        \"dtype\": \"string\",\n        \"num_unique_values\": 3,\n        \"samples\": [\n          \"football\",\n          \"pair-oared shell with coxswain (2+)\"\n        ],\n        \"semantic_type\": \"\",\n        \"description\": \"\"\n      }\n    },\n    {\n      \"column\": \"Event Gender\",\n      \"properties\": {\n        \"dtype\": \"category\",\n        \"num_unique_values\": 2,\n        \"samples\": [\n          \"W\",\n          \"M\"\n        ],\n        \"semantic_type\": \"\",\n        \"description\": \"\"\n      }\n    },\n    {\n      \"column\": \"Medal\",\n      \"properties\": {\n        \"dtype\": \"category\",\n        \"num_unique_values\": 2,\n        \"samples\": [\n          \"Gold\",\n          \"Bronze\"\n        ],\n        \"semantic_type\": \"\",\n        \"description\": \"\"\n      }\n    }\n  ]\n}"
            }
          },
          "metadata": {},
          "execution_count": 73
        }
      ]
    },
    {
      "cell_type": "code",
      "source": [
        "oo.dtypes"
      ],
      "metadata": {
        "id": "bjXSAvd_YBi1"
      },
      "execution_count": null,
      "outputs": []
    },
    {
      "cell_type": "markdown",
      "metadata": {
        "id": "RM1S3nJ0vcXs"
      },
      "source": [
        "## Working with Indexes"
      ]
    },
    {
      "cell_type": "code",
      "source": [
        "!pip install --quiet pandas==2.0.2\n",
        "\n",
        "import pandas as pd\n",
        "from pathlib import Path\n",
        "\n",
        "if not Path(\"olympics_1896_2004.csv\").exists():\n",
        "  !wget https://github.com/jonfernandes/pandas_essential/raw/main/olympics_1896_2004.csv\n",
        "\n",
        "filename = \"olympics_1896_2004.csv\"\n",
        "print(\"Installed all of the necessary files for this section ...\")"
      ],
      "metadata": {
        "id": "ELUrukUKprZB"
      },
      "execution_count": null,
      "outputs": []
    },
    {
      "cell_type": "code",
      "execution_count": 74,
      "metadata": {
        "id": "2zPiuEBcvblg",
        "outputId": "e941675e-71af-4c8f-d057-cfeea3376e8a",
        "colab": {
          "base_uri": "https://localhost:8080/",
          "height": 333
        }
      },
      "outputs": [
        {
          "output_type": "stream",
          "name": "stdout",
          "text": [
            "Preprocessing olympics_1896_2004.csv ...\n",
            "\n"
          ]
        },
        {
          "output_type": "stream",
          "name": "stderr",
          "text": [
            "/usr/local/lib/python3.11/dist-packages/google/colab/_interactive_table_hint_button.py:178: FutureWarning: Index.format is deprecated and will be removed in a future version. Convert using index.astype(str) or index.map(formatter) instead.\n",
            "  df_html=dataframe._repr_html_(),  # pylint: disable=protected-access\n",
            "/usr/local/lib/python3.11/dist-packages/google/colab/_interactive_table_hint_button.py:178: FutureWarning: RangeIndex.format is deprecated and will be removed in a future version. Convert using index.astype(str) or index.map(formatter) instead.\n",
            "  df_html=dataframe._repr_html_(),  # pylint: disable=protected-access\n"
          ]
        },
        {
          "output_type": "execute_result",
          "data": {
            "text/plain": [
              "   Year    City      Sport     Discipline        Athlete Name  NOC Gender  \\\n",
              "0  1896  Athens    Cycling  Cycling Track       FLAMENG, Léon  FRA    Men   \n",
              "1  1896  Athens    Cycling  Cycling Track  KOLETTIS, Georgios  GRE    Men   \n",
              "2  1896  Athens  Athletics      Athletics       LANE, Francis  USA    Men   \n",
              "3  1896  Athens  Athletics      Athletics    SZOKOLYI, Alajos  HUN    Men   \n",
              "4  1896  Athens  Athletics      Athletics       BURKE, Thomas  USA    Men   \n",
              "\n",
              "   Event Event Gender   Medal  \n",
              "0  100km            M    Gold  \n",
              "1  100km            M  Silver  \n",
              "2   100m            M  Bronze  \n",
              "3   100m            M  Bronze  \n",
              "4   100m            M    Gold  "
            ],
            "text/html": [
              "\n",
              "  <div id=\"df-c9e7b987-0e78-4033-8dc6-c1d72e3adb9d\" class=\"colab-df-container\">\n",
              "    <div>\n",
              "<style scoped>\n",
              "    .dataframe tbody tr th:only-of-type {\n",
              "        vertical-align: middle;\n",
              "    }\n",
              "\n",
              "    .dataframe tbody tr th {\n",
              "        vertical-align: top;\n",
              "    }\n",
              "\n",
              "    .dataframe thead th {\n",
              "        text-align: right;\n",
              "    }\n",
              "</style>\n",
              "<table border=\"1\" class=\"dataframe\">\n",
              "  <thead>\n",
              "    <tr style=\"text-align: right;\">\n",
              "      <th></th>\n",
              "      <th>Year</th>\n",
              "      <th>City</th>\n",
              "      <th>Sport</th>\n",
              "      <th>Discipline</th>\n",
              "      <th>Athlete Name</th>\n",
              "      <th>NOC</th>\n",
              "      <th>Gender</th>\n",
              "      <th>Event</th>\n",
              "      <th>Event Gender</th>\n",
              "      <th>Medal</th>\n",
              "    </tr>\n",
              "  </thead>\n",
              "  <tbody>\n",
              "    <tr>\n",
              "      <th>0</th>\n",
              "      <td>1896</td>\n",
              "      <td>Athens</td>\n",
              "      <td>Cycling</td>\n",
              "      <td>Cycling Track</td>\n",
              "      <td>FLAMENG, Léon</td>\n",
              "      <td>FRA</td>\n",
              "      <td>Men</td>\n",
              "      <td>100km</td>\n",
              "      <td>M</td>\n",
              "      <td>Gold</td>\n",
              "    </tr>\n",
              "    <tr>\n",
              "      <th>1</th>\n",
              "      <td>1896</td>\n",
              "      <td>Athens</td>\n",
              "      <td>Cycling</td>\n",
              "      <td>Cycling Track</td>\n",
              "      <td>KOLETTIS, Georgios</td>\n",
              "      <td>GRE</td>\n",
              "      <td>Men</td>\n",
              "      <td>100km</td>\n",
              "      <td>M</td>\n",
              "      <td>Silver</td>\n",
              "    </tr>\n",
              "    <tr>\n",
              "      <th>2</th>\n",
              "      <td>1896</td>\n",
              "      <td>Athens</td>\n",
              "      <td>Athletics</td>\n",
              "      <td>Athletics</td>\n",
              "      <td>LANE, Francis</td>\n",
              "      <td>USA</td>\n",
              "      <td>Men</td>\n",
              "      <td>100m</td>\n",
              "      <td>M</td>\n",
              "      <td>Bronze</td>\n",
              "    </tr>\n",
              "    <tr>\n",
              "      <th>3</th>\n",
              "      <td>1896</td>\n",
              "      <td>Athens</td>\n",
              "      <td>Athletics</td>\n",
              "      <td>Athletics</td>\n",
              "      <td>SZOKOLYI, Alajos</td>\n",
              "      <td>HUN</td>\n",
              "      <td>Men</td>\n",
              "      <td>100m</td>\n",
              "      <td>M</td>\n",
              "      <td>Bronze</td>\n",
              "    </tr>\n",
              "    <tr>\n",
              "      <th>4</th>\n",
              "      <td>1896</td>\n",
              "      <td>Athens</td>\n",
              "      <td>Athletics</td>\n",
              "      <td>Athletics</td>\n",
              "      <td>BURKE, Thomas</td>\n",
              "      <td>USA</td>\n",
              "      <td>Men</td>\n",
              "      <td>100m</td>\n",
              "      <td>M</td>\n",
              "      <td>Gold</td>\n",
              "    </tr>\n",
              "  </tbody>\n",
              "</table>\n",
              "</div>\n",
              "    <div class=\"colab-df-buttons\">\n",
              "\n",
              "  <div class=\"colab-df-container\">\n",
              "    <button class=\"colab-df-convert\" onclick=\"convertToInteractive('df-c9e7b987-0e78-4033-8dc6-c1d72e3adb9d')\"\n",
              "            title=\"Convert this dataframe to an interactive table.\"\n",
              "            style=\"display:none;\">\n",
              "\n",
              "  <svg xmlns=\"http://www.w3.org/2000/svg\" height=\"24px\" viewBox=\"0 -960 960 960\">\n",
              "    <path d=\"M120-120v-720h720v720H120Zm60-500h600v-160H180v160Zm220 220h160v-160H400v160Zm0 220h160v-160H400v160ZM180-400h160v-160H180v160Zm440 0h160v-160H620v160ZM180-180h160v-160H180v160Zm440 0h160v-160H620v160Z\"/>\n",
              "  </svg>\n",
              "    </button>\n",
              "\n",
              "  <style>\n",
              "    .colab-df-container {\n",
              "      display:flex;\n",
              "      gap: 12px;\n",
              "    }\n",
              "\n",
              "    .colab-df-convert {\n",
              "      background-color: #E8F0FE;\n",
              "      border: none;\n",
              "      border-radius: 50%;\n",
              "      cursor: pointer;\n",
              "      display: none;\n",
              "      fill: #1967D2;\n",
              "      height: 32px;\n",
              "      padding: 0 0 0 0;\n",
              "      width: 32px;\n",
              "    }\n",
              "\n",
              "    .colab-df-convert:hover {\n",
              "      background-color: #E2EBFA;\n",
              "      box-shadow: 0px 1px 2px rgba(60, 64, 67, 0.3), 0px 1px 3px 1px rgba(60, 64, 67, 0.15);\n",
              "      fill: #174EA6;\n",
              "    }\n",
              "\n",
              "    .colab-df-buttons div {\n",
              "      margin-bottom: 4px;\n",
              "    }\n",
              "\n",
              "    [theme=dark] .colab-df-convert {\n",
              "      background-color: #3B4455;\n",
              "      fill: #D2E3FC;\n",
              "    }\n",
              "\n",
              "    [theme=dark] .colab-df-convert:hover {\n",
              "      background-color: #434B5C;\n",
              "      box-shadow: 0px 1px 3px 1px rgba(0, 0, 0, 0.15);\n",
              "      filter: drop-shadow(0px 1px 2px rgba(0, 0, 0, 0.3));\n",
              "      fill: #FFFFFF;\n",
              "    }\n",
              "  </style>\n",
              "\n",
              "    <script>\n",
              "      const buttonEl =\n",
              "        document.querySelector('#df-c9e7b987-0e78-4033-8dc6-c1d72e3adb9d button.colab-df-convert');\n",
              "      buttonEl.style.display =\n",
              "        google.colab.kernel.accessAllowed ? 'block' : 'none';\n",
              "\n",
              "      async function convertToInteractive(key) {\n",
              "        const element = document.querySelector('#df-c9e7b987-0e78-4033-8dc6-c1d72e3adb9d');\n",
              "        const dataTable =\n",
              "          await google.colab.kernel.invokeFunction('convertToInteractive',\n",
              "                                                    [key], {});\n",
              "        if (!dataTable) return;\n",
              "\n",
              "        const docLinkHtml = 'Like what you see? Visit the ' +\n",
              "          '<a target=\"_blank\" href=https://colab.research.google.com/notebooks/data_table.ipynb>data table notebook</a>'\n",
              "          + ' to learn more about interactive tables.';\n",
              "        element.innerHTML = '';\n",
              "        dataTable['output_type'] = 'display_data';\n",
              "        await google.colab.output.renderOutput(dataTable, element);\n",
              "        const docLink = document.createElement('div');\n",
              "        docLink.innerHTML = docLinkHtml;\n",
              "        element.appendChild(docLink);\n",
              "      }\n",
              "    </script>\n",
              "  </div>\n",
              "\n",
              "\n",
              "    <div id=\"df-5acda264-c275-4a03-ac20-ae41367d9fe1\">\n",
              "      <button class=\"colab-df-quickchart\" onclick=\"quickchart('df-5acda264-c275-4a03-ac20-ae41367d9fe1')\"\n",
              "                title=\"Suggest charts\"\n",
              "                style=\"display:none;\">\n",
              "\n",
              "<svg xmlns=\"http://www.w3.org/2000/svg\" height=\"24px\"viewBox=\"0 0 24 24\"\n",
              "     width=\"24px\">\n",
              "    <g>\n",
              "        <path d=\"M19 3H5c-1.1 0-2 .9-2 2v14c0 1.1.9 2 2 2h14c1.1 0 2-.9 2-2V5c0-1.1-.9-2-2-2zM9 17H7v-7h2v7zm4 0h-2V7h2v10zm4 0h-2v-4h2v4z\"/>\n",
              "    </g>\n",
              "</svg>\n",
              "      </button>\n",
              "\n",
              "<style>\n",
              "  .colab-df-quickchart {\n",
              "      --bg-color: #E8F0FE;\n",
              "      --fill-color: #1967D2;\n",
              "      --hover-bg-color: #E2EBFA;\n",
              "      --hover-fill-color: #174EA6;\n",
              "      --disabled-fill-color: #AAA;\n",
              "      --disabled-bg-color: #DDD;\n",
              "  }\n",
              "\n",
              "  [theme=dark] .colab-df-quickchart {\n",
              "      --bg-color: #3B4455;\n",
              "      --fill-color: #D2E3FC;\n",
              "      --hover-bg-color: #434B5C;\n",
              "      --hover-fill-color: #FFFFFF;\n",
              "      --disabled-bg-color: #3B4455;\n",
              "      --disabled-fill-color: #666;\n",
              "  }\n",
              "\n",
              "  .colab-df-quickchart {\n",
              "    background-color: var(--bg-color);\n",
              "    border: none;\n",
              "    border-radius: 50%;\n",
              "    cursor: pointer;\n",
              "    display: none;\n",
              "    fill: var(--fill-color);\n",
              "    height: 32px;\n",
              "    padding: 0;\n",
              "    width: 32px;\n",
              "  }\n",
              "\n",
              "  .colab-df-quickchart:hover {\n",
              "    background-color: var(--hover-bg-color);\n",
              "    box-shadow: 0 1px 2px rgba(60, 64, 67, 0.3), 0 1px 3px 1px rgba(60, 64, 67, 0.15);\n",
              "    fill: var(--button-hover-fill-color);\n",
              "  }\n",
              "\n",
              "  .colab-df-quickchart-complete:disabled,\n",
              "  .colab-df-quickchart-complete:disabled:hover {\n",
              "    background-color: var(--disabled-bg-color);\n",
              "    fill: var(--disabled-fill-color);\n",
              "    box-shadow: none;\n",
              "  }\n",
              "\n",
              "  .colab-df-spinner {\n",
              "    border: 2px solid var(--fill-color);\n",
              "    border-color: transparent;\n",
              "    border-bottom-color: var(--fill-color);\n",
              "    animation:\n",
              "      spin 1s steps(1) infinite;\n",
              "  }\n",
              "\n",
              "  @keyframes spin {\n",
              "    0% {\n",
              "      border-color: transparent;\n",
              "      border-bottom-color: var(--fill-color);\n",
              "      border-left-color: var(--fill-color);\n",
              "    }\n",
              "    20% {\n",
              "      border-color: transparent;\n",
              "      border-left-color: var(--fill-color);\n",
              "      border-top-color: var(--fill-color);\n",
              "    }\n",
              "    30% {\n",
              "      border-color: transparent;\n",
              "      border-left-color: var(--fill-color);\n",
              "      border-top-color: var(--fill-color);\n",
              "      border-right-color: var(--fill-color);\n",
              "    }\n",
              "    40% {\n",
              "      border-color: transparent;\n",
              "      border-right-color: var(--fill-color);\n",
              "      border-top-color: var(--fill-color);\n",
              "    }\n",
              "    60% {\n",
              "      border-color: transparent;\n",
              "      border-right-color: var(--fill-color);\n",
              "    }\n",
              "    80% {\n",
              "      border-color: transparent;\n",
              "      border-right-color: var(--fill-color);\n",
              "      border-bottom-color: var(--fill-color);\n",
              "    }\n",
              "    90% {\n",
              "      border-color: transparent;\n",
              "      border-bottom-color: var(--fill-color);\n",
              "    }\n",
              "  }\n",
              "</style>\n",
              "\n",
              "      <script>\n",
              "        async function quickchart(key) {\n",
              "          const quickchartButtonEl =\n",
              "            document.querySelector('#' + key + ' button');\n",
              "          quickchartButtonEl.disabled = true;  // To prevent multiple clicks.\n",
              "          quickchartButtonEl.classList.add('colab-df-spinner');\n",
              "          try {\n",
              "            const charts = await google.colab.kernel.invokeFunction(\n",
              "                'suggestCharts', [key], {});\n",
              "          } catch (error) {\n",
              "            console.error('Error during call to suggestCharts:', error);\n",
              "          }\n",
              "          quickchartButtonEl.classList.remove('colab-df-spinner');\n",
              "          quickchartButtonEl.classList.add('colab-df-quickchart-complete');\n",
              "        }\n",
              "        (() => {\n",
              "          let quickchartButtonEl =\n",
              "            document.querySelector('#df-5acda264-c275-4a03-ac20-ae41367d9fe1 button');\n",
              "          quickchartButtonEl.style.display =\n",
              "            google.colab.kernel.accessAllowed ? 'block' : 'none';\n",
              "        })();\n",
              "      </script>\n",
              "    </div>\n",
              "\n",
              "    </div>\n",
              "  </div>\n"
            ],
            "application/vnd.google.colaboratory.intrinsic+json": {
              "type": "dataframe",
              "variable_name": "oo",
              "summary": "{\n  \"name\": \"oo\",\n  \"rows\": 27174,\n  \"fields\": [\n    {\n      \"column\": \"Year\",\n      \"properties\": {\n        \"dtype\": \"number\",\n        \"std\": 31,\n        \"min\": 1896,\n        \"max\": 2004,\n        \"num_unique_values\": 25,\n        \"samples\": [\n          1932,\n          1972,\n          1896\n        ],\n        \"semantic_type\": \"\",\n        \"description\": \"\"\n      }\n    },\n    {\n      \"column\": \"City\",\n      \"properties\": {\n        \"dtype\": \"string\",\n        \"num_unique_values\": 21,\n        \"samples\": [\n          \"Athens\",\n          \"Seoul\",\n          \"Montreal\"\n        ],\n        \"semantic_type\": \"\",\n        \"description\": \"\"\n      }\n    },\n    {\n      \"column\": \"Sport\",\n      \"properties\": {\n        \"dtype\": \"string\",\n        \"num_unique_values\": 42,\n        \"samples\": [\n          \"Rackets\",\n          \"Croquet\",\n          \"Wrestling\"\n        ],\n        \"semantic_type\": \"\",\n        \"description\": \"\"\n      }\n    },\n    {\n      \"column\": \"Discipline\",\n      \"properties\": {\n        \"dtype\": \"string\",\n        \"num_unique_values\": 55,\n        \"samples\": [\n          \"Jeu de Paume\",\n          \"Fencing\",\n          \"Figure skating\"\n        ],\n        \"semantic_type\": \"\",\n        \"description\": \"\"\n      }\n    },\n    {\n      \"column\": \"Athlete Name\",\n      \"properties\": {\n        \"dtype\": \"string\",\n        \"num_unique_values\": 19991,\n        \"samples\": [\n          \"TOMAN, Ladislav\",\n          \"MATTO, Sergio A.\",\n          \"DE WOLF, Nicolaas\"\n        ],\n        \"semantic_type\": \"\",\n        \"description\": \"\"\n      }\n    },\n    {\n      \"column\": \"NOC\",\n      \"properties\": {\n        \"dtype\": \"string\",\n        \"num_unique_values\": 132,\n        \"samples\": [\n          \"VEN\",\n          \"ZIM\",\n          \"SWE\"\n        ],\n        \"semantic_type\": \"\",\n        \"description\": \"\"\n      }\n    },\n    {\n      \"column\": \"Gender\",\n      \"properties\": {\n        \"dtype\": \"category\",\n        \"num_unique_values\": 2,\n        \"samples\": [\n          \"Women\",\n          \"Men\"\n        ],\n        \"semantic_type\": \"\",\n        \"description\": \"\"\n      }\n    },\n    {\n      \"column\": \"Event\",\n      \"properties\": {\n        \"dtype\": \"string\",\n        \"num_unique_values\": 572,\n        \"samples\": [\n          \"- 58 kg\",\n          \"cricket\"\n        ],\n        \"semantic_type\": \"\",\n        \"description\": \"\"\n      }\n    },\n    {\n      \"column\": \"Event Gender\",\n      \"properties\": {\n        \"dtype\": \"category\",\n        \"num_unique_values\": 3,\n        \"samples\": [\n          \"M\",\n          \"X\"\n        ],\n        \"semantic_type\": \"\",\n        \"description\": \"\"\n      }\n    },\n    {\n      \"column\": \"Medal\",\n      \"properties\": {\n        \"dtype\": \"category\",\n        \"num_unique_values\": 3,\n        \"samples\": [\n          \"Gold\",\n          \"Silver\"\n        ],\n        \"semantic_type\": \"\",\n        \"description\": \"\"\n      }\n    }\n  ]\n}"
            }
          },
          "metadata": {},
          "execution_count": 74
        }
      ],
      "source": [
        "def preprocess(filename = \"olympics_1896_2004.csv\"):\n",
        "  \"\"\"Preparing and transforming dataframe\"\"\"\n",
        "  print(f\"Preprocessing {filename} ...\\n\")\n",
        "  ordered_medals = pd.api.types.CategoricalDtype(categories=[\"Bronze\", \"Silver\", \"Gold\"], ordered=True)\n",
        "  dtype_mapper = {\"Year\": \"int64\",\n",
        "                \"City\": \"string\",\n",
        "                \"Sport\": \"string\",\n",
        "                \"Discipline\": \"string\",\n",
        "                \"Athlete Name\": \"string\",\n",
        "                \"NOC\": \"string\",\n",
        "                \"Gender\": \"category\",\n",
        "                \"Event\": \"string\",\n",
        "                \"Event_gender\": \"category\",\n",
        "                \"Medal\": ordered_medals}\n",
        "  df = (pd.read_csv(filename, skiprows=5, dtype=dtype_mapper)\n",
        "        .drop('Position', axis=1)\n",
        "  )\n",
        "  df[\"Event Gender\"] = df[\"Event Gender\"].astype(\"category\")\n",
        "  return df\n",
        "\n",
        "oo = preprocess()\n",
        "oo.head(5)"
      ]
    },
    {
      "cell_type": "code",
      "execution_count": 79,
      "metadata": {
        "id": "YGeesWuLw5Tn",
        "outputId": "6ccbceb9-81a4-4df4-8dd0-cb9a1847d6f8",
        "colab": {
          "base_uri": "https://localhost:8080/"
        }
      },
      "outputs": [
        {
          "output_type": "execute_result",
          "data": {
            "text/plain": [
              "RangeIndex(start=0, stop=27174, step=1)"
            ]
          },
          "metadata": {},
          "execution_count": 79
        }
      ],
      "source": [
        "oo.index"
      ]
    },
    {
      "cell_type": "code",
      "execution_count": 77,
      "metadata": {
        "id": "ZW885B2MxOH-",
        "outputId": "55632456-4e85-4192-a1b1-0a9688d2c442",
        "colab": {
          "base_uri": "https://localhost:8080/"
        }
      },
      "outputs": [
        {
          "output_type": "execute_result",
          "data": {
            "text/plain": [
              "Index(['Year', 'City', 'Sport', 'Discipline', 'Athlete Name', 'NOC', 'Gender',\n",
              "       'Event', 'Event Gender', 'Medal'],\n",
              "      dtype='object')"
            ]
          },
          "metadata": {},
          "execution_count": 77
        }
      ],
      "source": [
        "oo.columns"
      ]
    },
    {
      "cell_type": "code",
      "execution_count": 78,
      "metadata": {
        "id": "oGmUPXC6yLWV",
        "outputId": "757c9b12-276d-4e7e-8cf1-f40cdb0b195b",
        "colab": {
          "base_uri": "https://localhost:8080/"
        }
      },
      "outputs": [
        {
          "output_type": "execute_result",
          "data": {
            "text/plain": [
              "(27174, 10)"
            ]
          },
          "metadata": {},
          "execution_count": 78
        }
      ],
      "source": [
        "oo.shape"
      ]
    },
    {
      "cell_type": "code",
      "execution_count": 80,
      "metadata": {
        "id": "joiGhkGTymci",
        "outputId": "a3713995-ae50-4e86-da94-08be2694c100",
        "colab": {
          "base_uri": "https://localhost:8080/",
          "height": 298
        }
      },
      "outputs": [
        {
          "output_type": "stream",
          "name": "stderr",
          "text": [
            "/usr/local/lib/python3.11/dist-packages/google/colab/_interactive_table_hint_button.py:178: FutureWarning: Index.format is deprecated and will be removed in a future version. Convert using index.astype(str) or index.map(formatter) instead.\n",
            "  df_html=dataframe._repr_html_(),  # pylint: disable=protected-access\n",
            "/usr/local/lib/python3.11/dist-packages/google/colab/_interactive_table_hint_button.py:178: FutureWarning: RangeIndex.format is deprecated and will be removed in a future version. Convert using index.astype(str) or index.map(formatter) instead.\n",
            "  df_html=dataframe._repr_html_(),  # pylint: disable=protected-access\n"
          ]
        },
        {
          "output_type": "execute_result",
          "data": {
            "text/plain": [
              "     0       1          2              3                   4    5       6   \\\n",
              "0  Year    City      Sport     Discipline        Athlete Name  NOC  Gender   \n",
              "1  1896  Athens    Cycling  Cycling Track       FLAMENG, Léon  FRA     Men   \n",
              "2  1896  Athens    Cycling  Cycling Track  KOLETTIS, Georgios  GRE     Men   \n",
              "3  1896  Athens  Athletics      Athletics       LANE, Francis  USA     Men   \n",
              "4  1896  Athens  Athletics      Athletics    SZOKOLYI, Alajos  HUN     Men   \n",
              "\n",
              "      7             8       9         10  \n",
              "0  Event  Event Gender   Medal  Position  \n",
              "1  100km             M    Gold         1  \n",
              "2  100km             M  Silver         2  \n",
              "3   100m             M  Bronze         3  \n",
              "4   100m             M  Bronze         3  "
            ],
            "text/html": [
              "\n",
              "  <div id=\"df-ce7785ea-2ef8-4701-b67d-330fa37d4560\" class=\"colab-df-container\">\n",
              "    <div>\n",
              "<style scoped>\n",
              "    .dataframe tbody tr th:only-of-type {\n",
              "        vertical-align: middle;\n",
              "    }\n",
              "\n",
              "    .dataframe tbody tr th {\n",
              "        vertical-align: top;\n",
              "    }\n",
              "\n",
              "    .dataframe thead th {\n",
              "        text-align: right;\n",
              "    }\n",
              "</style>\n",
              "<table border=\"1\" class=\"dataframe\">\n",
              "  <thead>\n",
              "    <tr style=\"text-align: right;\">\n",
              "      <th></th>\n",
              "      <th>0</th>\n",
              "      <th>1</th>\n",
              "      <th>2</th>\n",
              "      <th>3</th>\n",
              "      <th>4</th>\n",
              "      <th>5</th>\n",
              "      <th>6</th>\n",
              "      <th>7</th>\n",
              "      <th>8</th>\n",
              "      <th>9</th>\n",
              "      <th>10</th>\n",
              "    </tr>\n",
              "  </thead>\n",
              "  <tbody>\n",
              "    <tr>\n",
              "      <th>0</th>\n",
              "      <td>Year</td>\n",
              "      <td>City</td>\n",
              "      <td>Sport</td>\n",
              "      <td>Discipline</td>\n",
              "      <td>Athlete Name</td>\n",
              "      <td>NOC</td>\n",
              "      <td>Gender</td>\n",
              "      <td>Event</td>\n",
              "      <td>Event Gender</td>\n",
              "      <td>Medal</td>\n",
              "      <td>Position</td>\n",
              "    </tr>\n",
              "    <tr>\n",
              "      <th>1</th>\n",
              "      <td>1896</td>\n",
              "      <td>Athens</td>\n",
              "      <td>Cycling</td>\n",
              "      <td>Cycling Track</td>\n",
              "      <td>FLAMENG, Léon</td>\n",
              "      <td>FRA</td>\n",
              "      <td>Men</td>\n",
              "      <td>100km</td>\n",
              "      <td>M</td>\n",
              "      <td>Gold</td>\n",
              "      <td>1</td>\n",
              "    </tr>\n",
              "    <tr>\n",
              "      <th>2</th>\n",
              "      <td>1896</td>\n",
              "      <td>Athens</td>\n",
              "      <td>Cycling</td>\n",
              "      <td>Cycling Track</td>\n",
              "      <td>KOLETTIS, Georgios</td>\n",
              "      <td>GRE</td>\n",
              "      <td>Men</td>\n",
              "      <td>100km</td>\n",
              "      <td>M</td>\n",
              "      <td>Silver</td>\n",
              "      <td>2</td>\n",
              "    </tr>\n",
              "    <tr>\n",
              "      <th>3</th>\n",
              "      <td>1896</td>\n",
              "      <td>Athens</td>\n",
              "      <td>Athletics</td>\n",
              "      <td>Athletics</td>\n",
              "      <td>LANE, Francis</td>\n",
              "      <td>USA</td>\n",
              "      <td>Men</td>\n",
              "      <td>100m</td>\n",
              "      <td>M</td>\n",
              "      <td>Bronze</td>\n",
              "      <td>3</td>\n",
              "    </tr>\n",
              "    <tr>\n",
              "      <th>4</th>\n",
              "      <td>1896</td>\n",
              "      <td>Athens</td>\n",
              "      <td>Athletics</td>\n",
              "      <td>Athletics</td>\n",
              "      <td>SZOKOLYI, Alajos</td>\n",
              "      <td>HUN</td>\n",
              "      <td>Men</td>\n",
              "      <td>100m</td>\n",
              "      <td>M</td>\n",
              "      <td>Bronze</td>\n",
              "      <td>3</td>\n",
              "    </tr>\n",
              "  </tbody>\n",
              "</table>\n",
              "</div>\n",
              "    <div class=\"colab-df-buttons\">\n",
              "\n",
              "  <div class=\"colab-df-container\">\n",
              "    <button class=\"colab-df-convert\" onclick=\"convertToInteractive('df-ce7785ea-2ef8-4701-b67d-330fa37d4560')\"\n",
              "            title=\"Convert this dataframe to an interactive table.\"\n",
              "            style=\"display:none;\">\n",
              "\n",
              "  <svg xmlns=\"http://www.w3.org/2000/svg\" height=\"24px\" viewBox=\"0 -960 960 960\">\n",
              "    <path d=\"M120-120v-720h720v720H120Zm60-500h600v-160H180v160Zm220 220h160v-160H400v160Zm0 220h160v-160H400v160ZM180-400h160v-160H180v160Zm440 0h160v-160H620v160ZM180-180h160v-160H180v160Zm440 0h160v-160H620v160Z\"/>\n",
              "  </svg>\n",
              "    </button>\n",
              "\n",
              "  <style>\n",
              "    .colab-df-container {\n",
              "      display:flex;\n",
              "      gap: 12px;\n",
              "    }\n",
              "\n",
              "    .colab-df-convert {\n",
              "      background-color: #E8F0FE;\n",
              "      border: none;\n",
              "      border-radius: 50%;\n",
              "      cursor: pointer;\n",
              "      display: none;\n",
              "      fill: #1967D2;\n",
              "      height: 32px;\n",
              "      padding: 0 0 0 0;\n",
              "      width: 32px;\n",
              "    }\n",
              "\n",
              "    .colab-df-convert:hover {\n",
              "      background-color: #E2EBFA;\n",
              "      box-shadow: 0px 1px 2px rgba(60, 64, 67, 0.3), 0px 1px 3px 1px rgba(60, 64, 67, 0.15);\n",
              "      fill: #174EA6;\n",
              "    }\n",
              "\n",
              "    .colab-df-buttons div {\n",
              "      margin-bottom: 4px;\n",
              "    }\n",
              "\n",
              "    [theme=dark] .colab-df-convert {\n",
              "      background-color: #3B4455;\n",
              "      fill: #D2E3FC;\n",
              "    }\n",
              "\n",
              "    [theme=dark] .colab-df-convert:hover {\n",
              "      background-color: #434B5C;\n",
              "      box-shadow: 0px 1px 3px 1px rgba(0, 0, 0, 0.15);\n",
              "      filter: drop-shadow(0px 1px 2px rgba(0, 0, 0, 0.3));\n",
              "      fill: #FFFFFF;\n",
              "    }\n",
              "  </style>\n",
              "\n",
              "    <script>\n",
              "      const buttonEl =\n",
              "        document.querySelector('#df-ce7785ea-2ef8-4701-b67d-330fa37d4560 button.colab-df-convert');\n",
              "      buttonEl.style.display =\n",
              "        google.colab.kernel.accessAllowed ? 'block' : 'none';\n",
              "\n",
              "      async function convertToInteractive(key) {\n",
              "        const element = document.querySelector('#df-ce7785ea-2ef8-4701-b67d-330fa37d4560');\n",
              "        const dataTable =\n",
              "          await google.colab.kernel.invokeFunction('convertToInteractive',\n",
              "                                                    [key], {});\n",
              "        if (!dataTable) return;\n",
              "\n",
              "        const docLinkHtml = 'Like what you see? Visit the ' +\n",
              "          '<a target=\"_blank\" href=https://colab.research.google.com/notebooks/data_table.ipynb>data table notebook</a>'\n",
              "          + ' to learn more about interactive tables.';\n",
              "        element.innerHTML = '';\n",
              "        dataTable['output_type'] = 'display_data';\n",
              "        await google.colab.output.renderOutput(dataTable, element);\n",
              "        const docLink = document.createElement('div');\n",
              "        docLink.innerHTML = docLinkHtml;\n",
              "        element.appendChild(docLink);\n",
              "      }\n",
              "    </script>\n",
              "  </div>\n",
              "\n",
              "\n",
              "    <div id=\"df-7779324e-6c59-41df-ba21-725f7e452170\">\n",
              "      <button class=\"colab-df-quickchart\" onclick=\"quickchart('df-7779324e-6c59-41df-ba21-725f7e452170')\"\n",
              "                title=\"Suggest charts\"\n",
              "                style=\"display:none;\">\n",
              "\n",
              "<svg xmlns=\"http://www.w3.org/2000/svg\" height=\"24px\"viewBox=\"0 0 24 24\"\n",
              "     width=\"24px\">\n",
              "    <g>\n",
              "        <path d=\"M19 3H5c-1.1 0-2 .9-2 2v14c0 1.1.9 2 2 2h14c1.1 0 2-.9 2-2V5c0-1.1-.9-2-2-2zM9 17H7v-7h2v7zm4 0h-2V7h2v10zm4 0h-2v-4h2v4z\"/>\n",
              "    </g>\n",
              "</svg>\n",
              "      </button>\n",
              "\n",
              "<style>\n",
              "  .colab-df-quickchart {\n",
              "      --bg-color: #E8F0FE;\n",
              "      --fill-color: #1967D2;\n",
              "      --hover-bg-color: #E2EBFA;\n",
              "      --hover-fill-color: #174EA6;\n",
              "      --disabled-fill-color: #AAA;\n",
              "      --disabled-bg-color: #DDD;\n",
              "  }\n",
              "\n",
              "  [theme=dark] .colab-df-quickchart {\n",
              "      --bg-color: #3B4455;\n",
              "      --fill-color: #D2E3FC;\n",
              "      --hover-bg-color: #434B5C;\n",
              "      --hover-fill-color: #FFFFFF;\n",
              "      --disabled-bg-color: #3B4455;\n",
              "      --disabled-fill-color: #666;\n",
              "  }\n",
              "\n",
              "  .colab-df-quickchart {\n",
              "    background-color: var(--bg-color);\n",
              "    border: none;\n",
              "    border-radius: 50%;\n",
              "    cursor: pointer;\n",
              "    display: none;\n",
              "    fill: var(--fill-color);\n",
              "    height: 32px;\n",
              "    padding: 0;\n",
              "    width: 32px;\n",
              "  }\n",
              "\n",
              "  .colab-df-quickchart:hover {\n",
              "    background-color: var(--hover-bg-color);\n",
              "    box-shadow: 0 1px 2px rgba(60, 64, 67, 0.3), 0 1px 3px 1px rgba(60, 64, 67, 0.15);\n",
              "    fill: var(--button-hover-fill-color);\n",
              "  }\n",
              "\n",
              "  .colab-df-quickchart-complete:disabled,\n",
              "  .colab-df-quickchart-complete:disabled:hover {\n",
              "    background-color: var(--disabled-bg-color);\n",
              "    fill: var(--disabled-fill-color);\n",
              "    box-shadow: none;\n",
              "  }\n",
              "\n",
              "  .colab-df-spinner {\n",
              "    border: 2px solid var(--fill-color);\n",
              "    border-color: transparent;\n",
              "    border-bottom-color: var(--fill-color);\n",
              "    animation:\n",
              "      spin 1s steps(1) infinite;\n",
              "  }\n",
              "\n",
              "  @keyframes spin {\n",
              "    0% {\n",
              "      border-color: transparent;\n",
              "      border-bottom-color: var(--fill-color);\n",
              "      border-left-color: var(--fill-color);\n",
              "    }\n",
              "    20% {\n",
              "      border-color: transparent;\n",
              "      border-left-color: var(--fill-color);\n",
              "      border-top-color: var(--fill-color);\n",
              "    }\n",
              "    30% {\n",
              "      border-color: transparent;\n",
              "      border-left-color: var(--fill-color);\n",
              "      border-top-color: var(--fill-color);\n",
              "      border-right-color: var(--fill-color);\n",
              "    }\n",
              "    40% {\n",
              "      border-color: transparent;\n",
              "      border-right-color: var(--fill-color);\n",
              "      border-top-color: var(--fill-color);\n",
              "    }\n",
              "    60% {\n",
              "      border-color: transparent;\n",
              "      border-right-color: var(--fill-color);\n",
              "    }\n",
              "    80% {\n",
              "      border-color: transparent;\n",
              "      border-right-color: var(--fill-color);\n",
              "      border-bottom-color: var(--fill-color);\n",
              "    }\n",
              "    90% {\n",
              "      border-color: transparent;\n",
              "      border-bottom-color: var(--fill-color);\n",
              "    }\n",
              "  }\n",
              "</style>\n",
              "\n",
              "      <script>\n",
              "        async function quickchart(key) {\n",
              "          const quickchartButtonEl =\n",
              "            document.querySelector('#' + key + ' button');\n",
              "          quickchartButtonEl.disabled = true;  // To prevent multiple clicks.\n",
              "          quickchartButtonEl.classList.add('colab-df-spinner');\n",
              "          try {\n",
              "            const charts = await google.colab.kernel.invokeFunction(\n",
              "                'suggestCharts', [key], {});\n",
              "          } catch (error) {\n",
              "            console.error('Error during call to suggestCharts:', error);\n",
              "          }\n",
              "          quickchartButtonEl.classList.remove('colab-df-spinner');\n",
              "          quickchartButtonEl.classList.add('colab-df-quickchart-complete');\n",
              "        }\n",
              "        (() => {\n",
              "          let quickchartButtonEl =\n",
              "            document.querySelector('#df-7779324e-6c59-41df-ba21-725f7e452170 button');\n",
              "          quickchartButtonEl.style.display =\n",
              "            google.colab.kernel.accessAllowed ? 'block' : 'none';\n",
              "        })();\n",
              "      </script>\n",
              "    </div>\n",
              "\n",
              "    </div>\n",
              "  </div>\n"
            ],
            "application/vnd.google.colaboratory.intrinsic+json": {
              "type": "dataframe",
              "summary": "{\n  \"name\": \"pd\",\n  \"rows\": 5,\n  \"fields\": [\n    {\n      \"column\": 0,\n      \"properties\": {\n        \"dtype\": \"category\",\n        \"num_unique_values\": 2,\n        \"samples\": [\n          \"1896\",\n          \"Year\"\n        ],\n        \"semantic_type\": \"\",\n        \"description\": \"\"\n      }\n    },\n    {\n      \"column\": 1,\n      \"properties\": {\n        \"dtype\": \"category\",\n        \"num_unique_values\": 2,\n        \"samples\": [\n          \"Athens\",\n          \"City\"\n        ],\n        \"semantic_type\": \"\",\n        \"description\": \"\"\n      }\n    },\n    {\n      \"column\": 2,\n      \"properties\": {\n        \"dtype\": \"string\",\n        \"num_unique_values\": 3,\n        \"samples\": [\n          \"Sport\",\n          \"Cycling\"\n        ],\n        \"semantic_type\": \"\",\n        \"description\": \"\"\n      }\n    },\n    {\n      \"column\": 3,\n      \"properties\": {\n        \"dtype\": \"string\",\n        \"num_unique_values\": 3,\n        \"samples\": [\n          \"Discipline\",\n          \"Cycling Track\"\n        ],\n        \"semantic_type\": \"\",\n        \"description\": \"\"\n      }\n    },\n    {\n      \"column\": 4,\n      \"properties\": {\n        \"dtype\": \"string\",\n        \"num_unique_values\": 5,\n        \"samples\": [\n          \"FLAMENG, L\\u00e9on\",\n          \"SZOKOLYI, Alajos\"\n        ],\n        \"semantic_type\": \"\",\n        \"description\": \"\"\n      }\n    },\n    {\n      \"column\": 5,\n      \"properties\": {\n        \"dtype\": \"string\",\n        \"num_unique_values\": 5,\n        \"samples\": [\n          \"FRA\",\n          \"HUN\"\n        ],\n        \"semantic_type\": \"\",\n        \"description\": \"\"\n      }\n    },\n    {\n      \"column\": 6,\n      \"properties\": {\n        \"dtype\": \"category\",\n        \"num_unique_values\": 2,\n        \"samples\": [\n          \"Men\",\n          \"Gender\"\n        ],\n        \"semantic_type\": \"\",\n        \"description\": \"\"\n      }\n    },\n    {\n      \"column\": 7,\n      \"properties\": {\n        \"dtype\": \"string\",\n        \"num_unique_values\": 3,\n        \"samples\": [\n          \"Event\",\n          \"100km\"\n        ],\n        \"semantic_type\": \"\",\n        \"description\": \"\"\n      }\n    },\n    {\n      \"column\": 8,\n      \"properties\": {\n        \"dtype\": \"category\",\n        \"num_unique_values\": 2,\n        \"samples\": [\n          \"M\",\n          \"Event Gender\"\n        ],\n        \"semantic_type\": \"\",\n        \"description\": \"\"\n      }\n    },\n    {\n      \"column\": 9,\n      \"properties\": {\n        \"dtype\": \"string\",\n        \"num_unique_values\": 4,\n        \"samples\": [\n          \"Gold\",\n          \"Bronze\"\n        ],\n        \"semantic_type\": \"\",\n        \"description\": \"\"\n      }\n    },\n    {\n      \"column\": 10,\n      \"properties\": {\n        \"dtype\": \"string\",\n        \"num_unique_values\": 4,\n        \"samples\": [\n          \"1\",\n          \"3\"\n        ],\n        \"semantic_type\": \"\",\n        \"description\": \"\"\n      }\n    }\n  ]\n}"
            }
          },
          "metadata": {},
          "execution_count": 80
        }
      ],
      "source": [
        "pd.read_csv(filename, skiprows=5, header=None).head()\n"
      ]
    },
    {
      "cell_type": "code",
      "execution_count": 81,
      "metadata": {
        "id": "Fjh9SJ4Q0POv",
        "outputId": "ed012b80-5ca5-4be2-dff0-62339695039c",
        "colab": {
          "base_uri": "https://localhost:8080/",
          "height": 333
        }
      },
      "outputs": [
        {
          "output_type": "stream",
          "name": "stdout",
          "text": [
            "Preprocessing olympics_1896_2004.csv ...\n",
            "\n"
          ]
        },
        {
          "output_type": "stream",
          "name": "stderr",
          "text": [
            "/usr/local/lib/python3.11/dist-packages/google/colab/_interactive_table_hint_button.py:178: FutureWarning: Index.format is deprecated and will be removed in a future version. Convert using index.astype(str) or index.map(formatter) instead.\n",
            "  df_html=dataframe._repr_html_(),  # pylint: disable=protected-access\n",
            "/usr/local/lib/python3.11/dist-packages/google/colab/_interactive_table_hint_button.py:178: FutureWarning: RangeIndex.format is deprecated and will be removed in a future version. Convert using index.astype(str) or index.map(formatter) instead.\n",
            "  df_html=dataframe._repr_html_(),  # pylint: disable=protected-access\n"
          ]
        },
        {
          "output_type": "execute_result",
          "data": {
            "text/plain": [
              "   Year    City      Sport     Discipline        Athlete Name  NOC Gender  \\\n",
              "0  1896  Athens    Cycling  Cycling Track       FLAMENG, Léon  FRA    Men   \n",
              "1  1896  Athens    Cycling  Cycling Track  KOLETTIS, Georgios  GRE    Men   \n",
              "2  1896  Athens  Athletics      Athletics       LANE, Francis  USA    Men   \n",
              "3  1896  Athens  Athletics      Athletics    SZOKOLYI, Alajos  HUN    Men   \n",
              "4  1896  Athens  Athletics      Athletics       BURKE, Thomas  USA    Men   \n",
              "\n",
              "   Event Event Gender   Medal  \n",
              "0  100km            M    Gold  \n",
              "1  100km            M  Silver  \n",
              "2   100m            M  Bronze  \n",
              "3   100m            M  Bronze  \n",
              "4   100m            M    Gold  "
            ],
            "text/html": [
              "\n",
              "  <div id=\"df-a439a1dd-bd86-4751-80bd-fe7009eddf21\" class=\"colab-df-container\">\n",
              "    <div>\n",
              "<style scoped>\n",
              "    .dataframe tbody tr th:only-of-type {\n",
              "        vertical-align: middle;\n",
              "    }\n",
              "\n",
              "    .dataframe tbody tr th {\n",
              "        vertical-align: top;\n",
              "    }\n",
              "\n",
              "    .dataframe thead th {\n",
              "        text-align: right;\n",
              "    }\n",
              "</style>\n",
              "<table border=\"1\" class=\"dataframe\">\n",
              "  <thead>\n",
              "    <tr style=\"text-align: right;\">\n",
              "      <th></th>\n",
              "      <th>Year</th>\n",
              "      <th>City</th>\n",
              "      <th>Sport</th>\n",
              "      <th>Discipline</th>\n",
              "      <th>Athlete Name</th>\n",
              "      <th>NOC</th>\n",
              "      <th>Gender</th>\n",
              "      <th>Event</th>\n",
              "      <th>Event Gender</th>\n",
              "      <th>Medal</th>\n",
              "    </tr>\n",
              "  </thead>\n",
              "  <tbody>\n",
              "    <tr>\n",
              "      <th>0</th>\n",
              "      <td>1896</td>\n",
              "      <td>Athens</td>\n",
              "      <td>Cycling</td>\n",
              "      <td>Cycling Track</td>\n",
              "      <td>FLAMENG, Léon</td>\n",
              "      <td>FRA</td>\n",
              "      <td>Men</td>\n",
              "      <td>100km</td>\n",
              "      <td>M</td>\n",
              "      <td>Gold</td>\n",
              "    </tr>\n",
              "    <tr>\n",
              "      <th>1</th>\n",
              "      <td>1896</td>\n",
              "      <td>Athens</td>\n",
              "      <td>Cycling</td>\n",
              "      <td>Cycling Track</td>\n",
              "      <td>KOLETTIS, Georgios</td>\n",
              "      <td>GRE</td>\n",
              "      <td>Men</td>\n",
              "      <td>100km</td>\n",
              "      <td>M</td>\n",
              "      <td>Silver</td>\n",
              "    </tr>\n",
              "    <tr>\n",
              "      <th>2</th>\n",
              "      <td>1896</td>\n",
              "      <td>Athens</td>\n",
              "      <td>Athletics</td>\n",
              "      <td>Athletics</td>\n",
              "      <td>LANE, Francis</td>\n",
              "      <td>USA</td>\n",
              "      <td>Men</td>\n",
              "      <td>100m</td>\n",
              "      <td>M</td>\n",
              "      <td>Bronze</td>\n",
              "    </tr>\n",
              "    <tr>\n",
              "      <th>3</th>\n",
              "      <td>1896</td>\n",
              "      <td>Athens</td>\n",
              "      <td>Athletics</td>\n",
              "      <td>Athletics</td>\n",
              "      <td>SZOKOLYI, Alajos</td>\n",
              "      <td>HUN</td>\n",
              "      <td>Men</td>\n",
              "      <td>100m</td>\n",
              "      <td>M</td>\n",
              "      <td>Bronze</td>\n",
              "    </tr>\n",
              "    <tr>\n",
              "      <th>4</th>\n",
              "      <td>1896</td>\n",
              "      <td>Athens</td>\n",
              "      <td>Athletics</td>\n",
              "      <td>Athletics</td>\n",
              "      <td>BURKE, Thomas</td>\n",
              "      <td>USA</td>\n",
              "      <td>Men</td>\n",
              "      <td>100m</td>\n",
              "      <td>M</td>\n",
              "      <td>Gold</td>\n",
              "    </tr>\n",
              "  </tbody>\n",
              "</table>\n",
              "</div>\n",
              "    <div class=\"colab-df-buttons\">\n",
              "\n",
              "  <div class=\"colab-df-container\">\n",
              "    <button class=\"colab-df-convert\" onclick=\"convertToInteractive('df-a439a1dd-bd86-4751-80bd-fe7009eddf21')\"\n",
              "            title=\"Convert this dataframe to an interactive table.\"\n",
              "            style=\"display:none;\">\n",
              "\n",
              "  <svg xmlns=\"http://www.w3.org/2000/svg\" height=\"24px\" viewBox=\"0 -960 960 960\">\n",
              "    <path d=\"M120-120v-720h720v720H120Zm60-500h600v-160H180v160Zm220 220h160v-160H400v160Zm0 220h160v-160H400v160ZM180-400h160v-160H180v160Zm440 0h160v-160H620v160ZM180-180h160v-160H180v160Zm440 0h160v-160H620v160Z\"/>\n",
              "  </svg>\n",
              "    </button>\n",
              "\n",
              "  <style>\n",
              "    .colab-df-container {\n",
              "      display:flex;\n",
              "      gap: 12px;\n",
              "    }\n",
              "\n",
              "    .colab-df-convert {\n",
              "      background-color: #E8F0FE;\n",
              "      border: none;\n",
              "      border-radius: 50%;\n",
              "      cursor: pointer;\n",
              "      display: none;\n",
              "      fill: #1967D2;\n",
              "      height: 32px;\n",
              "      padding: 0 0 0 0;\n",
              "      width: 32px;\n",
              "    }\n",
              "\n",
              "    .colab-df-convert:hover {\n",
              "      background-color: #E2EBFA;\n",
              "      box-shadow: 0px 1px 2px rgba(60, 64, 67, 0.3), 0px 1px 3px 1px rgba(60, 64, 67, 0.15);\n",
              "      fill: #174EA6;\n",
              "    }\n",
              "\n",
              "    .colab-df-buttons div {\n",
              "      margin-bottom: 4px;\n",
              "    }\n",
              "\n",
              "    [theme=dark] .colab-df-convert {\n",
              "      background-color: #3B4455;\n",
              "      fill: #D2E3FC;\n",
              "    }\n",
              "\n",
              "    [theme=dark] .colab-df-convert:hover {\n",
              "      background-color: #434B5C;\n",
              "      box-shadow: 0px 1px 3px 1px rgba(0, 0, 0, 0.15);\n",
              "      filter: drop-shadow(0px 1px 2px rgba(0, 0, 0, 0.3));\n",
              "      fill: #FFFFFF;\n",
              "    }\n",
              "  </style>\n",
              "\n",
              "    <script>\n",
              "      const buttonEl =\n",
              "        document.querySelector('#df-a439a1dd-bd86-4751-80bd-fe7009eddf21 button.colab-df-convert');\n",
              "      buttonEl.style.display =\n",
              "        google.colab.kernel.accessAllowed ? 'block' : 'none';\n",
              "\n",
              "      async function convertToInteractive(key) {\n",
              "        const element = document.querySelector('#df-a439a1dd-bd86-4751-80bd-fe7009eddf21');\n",
              "        const dataTable =\n",
              "          await google.colab.kernel.invokeFunction('convertToInteractive',\n",
              "                                                    [key], {});\n",
              "        if (!dataTable) return;\n",
              "\n",
              "        const docLinkHtml = 'Like what you see? Visit the ' +\n",
              "          '<a target=\"_blank\" href=https://colab.research.google.com/notebooks/data_table.ipynb>data table notebook</a>'\n",
              "          + ' to learn more about interactive tables.';\n",
              "        element.innerHTML = '';\n",
              "        dataTable['output_type'] = 'display_data';\n",
              "        await google.colab.output.renderOutput(dataTable, element);\n",
              "        const docLink = document.createElement('div');\n",
              "        docLink.innerHTML = docLinkHtml;\n",
              "        element.appendChild(docLink);\n",
              "      }\n",
              "    </script>\n",
              "  </div>\n",
              "\n",
              "\n",
              "    <div id=\"df-c8b71777-36d4-4441-89f6-111ab1379030\">\n",
              "      <button class=\"colab-df-quickchart\" onclick=\"quickchart('df-c8b71777-36d4-4441-89f6-111ab1379030')\"\n",
              "                title=\"Suggest charts\"\n",
              "                style=\"display:none;\">\n",
              "\n",
              "<svg xmlns=\"http://www.w3.org/2000/svg\" height=\"24px\"viewBox=\"0 0 24 24\"\n",
              "     width=\"24px\">\n",
              "    <g>\n",
              "        <path d=\"M19 3H5c-1.1 0-2 .9-2 2v14c0 1.1.9 2 2 2h14c1.1 0 2-.9 2-2V5c0-1.1-.9-2-2-2zM9 17H7v-7h2v7zm4 0h-2V7h2v10zm4 0h-2v-4h2v4z\"/>\n",
              "    </g>\n",
              "</svg>\n",
              "      </button>\n",
              "\n",
              "<style>\n",
              "  .colab-df-quickchart {\n",
              "      --bg-color: #E8F0FE;\n",
              "      --fill-color: #1967D2;\n",
              "      --hover-bg-color: #E2EBFA;\n",
              "      --hover-fill-color: #174EA6;\n",
              "      --disabled-fill-color: #AAA;\n",
              "      --disabled-bg-color: #DDD;\n",
              "  }\n",
              "\n",
              "  [theme=dark] .colab-df-quickchart {\n",
              "      --bg-color: #3B4455;\n",
              "      --fill-color: #D2E3FC;\n",
              "      --hover-bg-color: #434B5C;\n",
              "      --hover-fill-color: #FFFFFF;\n",
              "      --disabled-bg-color: #3B4455;\n",
              "      --disabled-fill-color: #666;\n",
              "  }\n",
              "\n",
              "  .colab-df-quickchart {\n",
              "    background-color: var(--bg-color);\n",
              "    border: none;\n",
              "    border-radius: 50%;\n",
              "    cursor: pointer;\n",
              "    display: none;\n",
              "    fill: var(--fill-color);\n",
              "    height: 32px;\n",
              "    padding: 0;\n",
              "    width: 32px;\n",
              "  }\n",
              "\n",
              "  .colab-df-quickchart:hover {\n",
              "    background-color: var(--hover-bg-color);\n",
              "    box-shadow: 0 1px 2px rgba(60, 64, 67, 0.3), 0 1px 3px 1px rgba(60, 64, 67, 0.15);\n",
              "    fill: var(--button-hover-fill-color);\n",
              "  }\n",
              "\n",
              "  .colab-df-quickchart-complete:disabled,\n",
              "  .colab-df-quickchart-complete:disabled:hover {\n",
              "    background-color: var(--disabled-bg-color);\n",
              "    fill: var(--disabled-fill-color);\n",
              "    box-shadow: none;\n",
              "  }\n",
              "\n",
              "  .colab-df-spinner {\n",
              "    border: 2px solid var(--fill-color);\n",
              "    border-color: transparent;\n",
              "    border-bottom-color: var(--fill-color);\n",
              "    animation:\n",
              "      spin 1s steps(1) infinite;\n",
              "  }\n",
              "\n",
              "  @keyframes spin {\n",
              "    0% {\n",
              "      border-color: transparent;\n",
              "      border-bottom-color: var(--fill-color);\n",
              "      border-left-color: var(--fill-color);\n",
              "    }\n",
              "    20% {\n",
              "      border-color: transparent;\n",
              "      border-left-color: var(--fill-color);\n",
              "      border-top-color: var(--fill-color);\n",
              "    }\n",
              "    30% {\n",
              "      border-color: transparent;\n",
              "      border-left-color: var(--fill-color);\n",
              "      border-top-color: var(--fill-color);\n",
              "      border-right-color: var(--fill-color);\n",
              "    }\n",
              "    40% {\n",
              "      border-color: transparent;\n",
              "      border-right-color: var(--fill-color);\n",
              "      border-top-color: var(--fill-color);\n",
              "    }\n",
              "    60% {\n",
              "      border-color: transparent;\n",
              "      border-right-color: var(--fill-color);\n",
              "    }\n",
              "    80% {\n",
              "      border-color: transparent;\n",
              "      border-right-color: var(--fill-color);\n",
              "      border-bottom-color: var(--fill-color);\n",
              "    }\n",
              "    90% {\n",
              "      border-color: transparent;\n",
              "      border-bottom-color: var(--fill-color);\n",
              "    }\n",
              "  }\n",
              "</style>\n",
              "\n",
              "      <script>\n",
              "        async function quickchart(key) {\n",
              "          const quickchartButtonEl =\n",
              "            document.querySelector('#' + key + ' button');\n",
              "          quickchartButtonEl.disabled = true;  // To prevent multiple clicks.\n",
              "          quickchartButtonEl.classList.add('colab-df-spinner');\n",
              "          try {\n",
              "            const charts = await google.colab.kernel.invokeFunction(\n",
              "                'suggestCharts', [key], {});\n",
              "          } catch (error) {\n",
              "            console.error('Error during call to suggestCharts:', error);\n",
              "          }\n",
              "          quickchartButtonEl.classList.remove('colab-df-spinner');\n",
              "          quickchartButtonEl.classList.add('colab-df-quickchart-complete');\n",
              "        }\n",
              "        (() => {\n",
              "          let quickchartButtonEl =\n",
              "            document.querySelector('#df-c8b71777-36d4-4441-89f6-111ab1379030 button');\n",
              "          quickchartButtonEl.style.display =\n",
              "            google.colab.kernel.accessAllowed ? 'block' : 'none';\n",
              "        })();\n",
              "      </script>\n",
              "    </div>\n",
              "\n",
              "    </div>\n",
              "  </div>\n"
            ],
            "application/vnd.google.colaboratory.intrinsic+json": {
              "type": "dataframe",
              "variable_name": "oo",
              "summary": "{\n  \"name\": \"oo\",\n  \"rows\": 27174,\n  \"fields\": [\n    {\n      \"column\": \"Year\",\n      \"properties\": {\n        \"dtype\": \"number\",\n        \"std\": 31,\n        \"min\": 1896,\n        \"max\": 2004,\n        \"num_unique_values\": 25,\n        \"samples\": [\n          1932,\n          1972,\n          1896\n        ],\n        \"semantic_type\": \"\",\n        \"description\": \"\"\n      }\n    },\n    {\n      \"column\": \"City\",\n      \"properties\": {\n        \"dtype\": \"string\",\n        \"num_unique_values\": 21,\n        \"samples\": [\n          \"Athens\",\n          \"Seoul\",\n          \"Montreal\"\n        ],\n        \"semantic_type\": \"\",\n        \"description\": \"\"\n      }\n    },\n    {\n      \"column\": \"Sport\",\n      \"properties\": {\n        \"dtype\": \"string\",\n        \"num_unique_values\": 42,\n        \"samples\": [\n          \"Rackets\",\n          \"Croquet\",\n          \"Wrestling\"\n        ],\n        \"semantic_type\": \"\",\n        \"description\": \"\"\n      }\n    },\n    {\n      \"column\": \"Discipline\",\n      \"properties\": {\n        \"dtype\": \"string\",\n        \"num_unique_values\": 55,\n        \"samples\": [\n          \"Jeu de Paume\",\n          \"Fencing\",\n          \"Figure skating\"\n        ],\n        \"semantic_type\": \"\",\n        \"description\": \"\"\n      }\n    },\n    {\n      \"column\": \"Athlete Name\",\n      \"properties\": {\n        \"dtype\": \"string\",\n        \"num_unique_values\": 19991,\n        \"samples\": [\n          \"TOMAN, Ladislav\",\n          \"MATTO, Sergio A.\",\n          \"DE WOLF, Nicolaas\"\n        ],\n        \"semantic_type\": \"\",\n        \"description\": \"\"\n      }\n    },\n    {\n      \"column\": \"NOC\",\n      \"properties\": {\n        \"dtype\": \"string\",\n        \"num_unique_values\": 132,\n        \"samples\": [\n          \"VEN\",\n          \"ZIM\",\n          \"SWE\"\n        ],\n        \"semantic_type\": \"\",\n        \"description\": \"\"\n      }\n    },\n    {\n      \"column\": \"Gender\",\n      \"properties\": {\n        \"dtype\": \"category\",\n        \"num_unique_values\": 2,\n        \"samples\": [\n          \"Women\",\n          \"Men\"\n        ],\n        \"semantic_type\": \"\",\n        \"description\": \"\"\n      }\n    },\n    {\n      \"column\": \"Event\",\n      \"properties\": {\n        \"dtype\": \"string\",\n        \"num_unique_values\": 572,\n        \"samples\": [\n          \"- 58 kg\",\n          \"cricket\"\n        ],\n        \"semantic_type\": \"\",\n        \"description\": \"\"\n      }\n    },\n    {\n      \"column\": \"Event Gender\",\n      \"properties\": {\n        \"dtype\": \"category\",\n        \"num_unique_values\": 3,\n        \"samples\": [\n          \"M\",\n          \"X\"\n        ],\n        \"semantic_type\": \"\",\n        \"description\": \"\"\n      }\n    },\n    {\n      \"column\": \"Medal\",\n      \"properties\": {\n        \"dtype\": \"category\",\n        \"num_unique_values\": 3,\n        \"samples\": [\n          \"Gold\",\n          \"Silver\"\n        ],\n        \"semantic_type\": \"\",\n        \"description\": \"\"\n      }\n    }\n  ]\n}"
            }
          },
          "metadata": {},
          "execution_count": 81
        }
      ],
      "source": [
        "oo = preprocess()\n",
        "oo.head(5)"
      ]
    },
    {
      "cell_type": "code",
      "execution_count": 82,
      "metadata": {
        "id": "Y0jhalvD1wJr",
        "outputId": "c85ca7c5-43bb-49cb-d246-1c3c452a3f7d",
        "colab": {
          "base_uri": "https://localhost:8080/",
          "height": 419
        }
      },
      "outputs": [
        {
          "output_type": "stream",
          "name": "stderr",
          "text": [
            "/usr/local/lib/python3.11/dist-packages/google/colab/_interactive_table_hint_button.py:178: FutureWarning: Index.format is deprecated and will be removed in a future version. Convert using index.astype(str) or index.map(formatter) instead.\n",
            "  df_html=dataframe._repr_html_(),  # pylint: disable=protected-access\n"
          ]
        },
        {
          "output_type": "execute_result",
          "data": {
            "text/plain": [
              "       Year         City      Sport Discipline Athlete Name  NOC Gender  \\\n",
              "16636  1984  Los Angeles  Athletics  Athletics  LEWIS, Carl  USA    Men   \n",
              "16697  1984  Los Angeles  Athletics  Athletics  LEWIS, Carl  USA    Men   \n",
              "16847  1984  Los Angeles  Athletics  Athletics  LEWIS, Carl  USA    Men   \n",
              "17709  1984  Los Angeles  Athletics  Athletics  LEWIS, Carl  USA    Men   \n",
              "18098  1988        Seoul  Athletics  Athletics  LEWIS, Carl  USA    Men   \n",
              "18165  1988        Seoul  Athletics  Athletics  LEWIS, Carl  USA    Men   \n",
              "19227  1988        Seoul  Athletics  Athletics  LEWIS, Carl  USA    Men   \n",
              "19908  1992    Barcelona  Athletics  Athletics  LEWIS, Carl  USA    Men   \n",
              "20917  1992    Barcelona  Athletics  Athletics  LEWIS, Carl  USA    Men   \n",
              "22719  1996      Atlanta  Athletics  Athletics  LEWIS, Carl  USA    Men   \n",
              "\n",
              "              Event Event Gender   Medal  \n",
              "16636          100m            M    Gold  \n",
              "16697          200m            M    Gold  \n",
              "16847  4x100m relay            M    Gold  \n",
              "17709     long jump            M    Gold  \n",
              "18098          100m            M    Gold  \n",
              "18165          200m            M  Silver  \n",
              "19227     long jump            M    Gold  \n",
              "19908  4x100m relay            M    Gold  \n",
              "20917     long jump            M    Gold  \n",
              "22719     long jump            M    Gold  "
            ],
            "text/html": [
              "\n",
              "  <div id=\"df-6d9991ad-8513-4427-8146-9a8ab4694b81\" class=\"colab-df-container\">\n",
              "    <div>\n",
              "<style scoped>\n",
              "    .dataframe tbody tr th:only-of-type {\n",
              "        vertical-align: middle;\n",
              "    }\n",
              "\n",
              "    .dataframe tbody tr th {\n",
              "        vertical-align: top;\n",
              "    }\n",
              "\n",
              "    .dataframe thead th {\n",
              "        text-align: right;\n",
              "    }\n",
              "</style>\n",
              "<table border=\"1\" class=\"dataframe\">\n",
              "  <thead>\n",
              "    <tr style=\"text-align: right;\">\n",
              "      <th></th>\n",
              "      <th>Year</th>\n",
              "      <th>City</th>\n",
              "      <th>Sport</th>\n",
              "      <th>Discipline</th>\n",
              "      <th>Athlete Name</th>\n",
              "      <th>NOC</th>\n",
              "      <th>Gender</th>\n",
              "      <th>Event</th>\n",
              "      <th>Event Gender</th>\n",
              "      <th>Medal</th>\n",
              "    </tr>\n",
              "  </thead>\n",
              "  <tbody>\n",
              "    <tr>\n",
              "      <th>16636</th>\n",
              "      <td>1984</td>\n",
              "      <td>Los Angeles</td>\n",
              "      <td>Athletics</td>\n",
              "      <td>Athletics</td>\n",
              "      <td>LEWIS, Carl</td>\n",
              "      <td>USA</td>\n",
              "      <td>Men</td>\n",
              "      <td>100m</td>\n",
              "      <td>M</td>\n",
              "      <td>Gold</td>\n",
              "    </tr>\n",
              "    <tr>\n",
              "      <th>16697</th>\n",
              "      <td>1984</td>\n",
              "      <td>Los Angeles</td>\n",
              "      <td>Athletics</td>\n",
              "      <td>Athletics</td>\n",
              "      <td>LEWIS, Carl</td>\n",
              "      <td>USA</td>\n",
              "      <td>Men</td>\n",
              "      <td>200m</td>\n",
              "      <td>M</td>\n",
              "      <td>Gold</td>\n",
              "    </tr>\n",
              "    <tr>\n",
              "      <th>16847</th>\n",
              "      <td>1984</td>\n",
              "      <td>Los Angeles</td>\n",
              "      <td>Athletics</td>\n",
              "      <td>Athletics</td>\n",
              "      <td>LEWIS, Carl</td>\n",
              "      <td>USA</td>\n",
              "      <td>Men</td>\n",
              "      <td>4x100m relay</td>\n",
              "      <td>M</td>\n",
              "      <td>Gold</td>\n",
              "    </tr>\n",
              "    <tr>\n",
              "      <th>17709</th>\n",
              "      <td>1984</td>\n",
              "      <td>Los Angeles</td>\n",
              "      <td>Athletics</td>\n",
              "      <td>Athletics</td>\n",
              "      <td>LEWIS, Carl</td>\n",
              "      <td>USA</td>\n",
              "      <td>Men</td>\n",
              "      <td>long jump</td>\n",
              "      <td>M</td>\n",
              "      <td>Gold</td>\n",
              "    </tr>\n",
              "    <tr>\n",
              "      <th>18098</th>\n",
              "      <td>1988</td>\n",
              "      <td>Seoul</td>\n",
              "      <td>Athletics</td>\n",
              "      <td>Athletics</td>\n",
              "      <td>LEWIS, Carl</td>\n",
              "      <td>USA</td>\n",
              "      <td>Men</td>\n",
              "      <td>100m</td>\n",
              "      <td>M</td>\n",
              "      <td>Gold</td>\n",
              "    </tr>\n",
              "    <tr>\n",
              "      <th>18165</th>\n",
              "      <td>1988</td>\n",
              "      <td>Seoul</td>\n",
              "      <td>Athletics</td>\n",
              "      <td>Athletics</td>\n",
              "      <td>LEWIS, Carl</td>\n",
              "      <td>USA</td>\n",
              "      <td>Men</td>\n",
              "      <td>200m</td>\n",
              "      <td>M</td>\n",
              "      <td>Silver</td>\n",
              "    </tr>\n",
              "    <tr>\n",
              "      <th>19227</th>\n",
              "      <td>1988</td>\n",
              "      <td>Seoul</td>\n",
              "      <td>Athletics</td>\n",
              "      <td>Athletics</td>\n",
              "      <td>LEWIS, Carl</td>\n",
              "      <td>USA</td>\n",
              "      <td>Men</td>\n",
              "      <td>long jump</td>\n",
              "      <td>M</td>\n",
              "      <td>Gold</td>\n",
              "    </tr>\n",
              "    <tr>\n",
              "      <th>19908</th>\n",
              "      <td>1992</td>\n",
              "      <td>Barcelona</td>\n",
              "      <td>Athletics</td>\n",
              "      <td>Athletics</td>\n",
              "      <td>LEWIS, Carl</td>\n",
              "      <td>USA</td>\n",
              "      <td>Men</td>\n",
              "      <td>4x100m relay</td>\n",
              "      <td>M</td>\n",
              "      <td>Gold</td>\n",
              "    </tr>\n",
              "    <tr>\n",
              "      <th>20917</th>\n",
              "      <td>1992</td>\n",
              "      <td>Barcelona</td>\n",
              "      <td>Athletics</td>\n",
              "      <td>Athletics</td>\n",
              "      <td>LEWIS, Carl</td>\n",
              "      <td>USA</td>\n",
              "      <td>Men</td>\n",
              "      <td>long jump</td>\n",
              "      <td>M</td>\n",
              "      <td>Gold</td>\n",
              "    </tr>\n",
              "    <tr>\n",
              "      <th>22719</th>\n",
              "      <td>1996</td>\n",
              "      <td>Atlanta</td>\n",
              "      <td>Athletics</td>\n",
              "      <td>Athletics</td>\n",
              "      <td>LEWIS, Carl</td>\n",
              "      <td>USA</td>\n",
              "      <td>Men</td>\n",
              "      <td>long jump</td>\n",
              "      <td>M</td>\n",
              "      <td>Gold</td>\n",
              "    </tr>\n",
              "  </tbody>\n",
              "</table>\n",
              "</div>\n",
              "    <div class=\"colab-df-buttons\">\n",
              "\n",
              "  <div class=\"colab-df-container\">\n",
              "    <button class=\"colab-df-convert\" onclick=\"convertToInteractive('df-6d9991ad-8513-4427-8146-9a8ab4694b81')\"\n",
              "            title=\"Convert this dataframe to an interactive table.\"\n",
              "            style=\"display:none;\">\n",
              "\n",
              "  <svg xmlns=\"http://www.w3.org/2000/svg\" height=\"24px\" viewBox=\"0 -960 960 960\">\n",
              "    <path d=\"M120-120v-720h720v720H120Zm60-500h600v-160H180v160Zm220 220h160v-160H400v160Zm0 220h160v-160H400v160ZM180-400h160v-160H180v160Zm440 0h160v-160H620v160ZM180-180h160v-160H180v160Zm440 0h160v-160H620v160Z\"/>\n",
              "  </svg>\n",
              "    </button>\n",
              "\n",
              "  <style>\n",
              "    .colab-df-container {\n",
              "      display:flex;\n",
              "      gap: 12px;\n",
              "    }\n",
              "\n",
              "    .colab-df-convert {\n",
              "      background-color: #E8F0FE;\n",
              "      border: none;\n",
              "      border-radius: 50%;\n",
              "      cursor: pointer;\n",
              "      display: none;\n",
              "      fill: #1967D2;\n",
              "      height: 32px;\n",
              "      padding: 0 0 0 0;\n",
              "      width: 32px;\n",
              "    }\n",
              "\n",
              "    .colab-df-convert:hover {\n",
              "      background-color: #E2EBFA;\n",
              "      box-shadow: 0px 1px 2px rgba(60, 64, 67, 0.3), 0px 1px 3px 1px rgba(60, 64, 67, 0.15);\n",
              "      fill: #174EA6;\n",
              "    }\n",
              "\n",
              "    .colab-df-buttons div {\n",
              "      margin-bottom: 4px;\n",
              "    }\n",
              "\n",
              "    [theme=dark] .colab-df-convert {\n",
              "      background-color: #3B4455;\n",
              "      fill: #D2E3FC;\n",
              "    }\n",
              "\n",
              "    [theme=dark] .colab-df-convert:hover {\n",
              "      background-color: #434B5C;\n",
              "      box-shadow: 0px 1px 3px 1px rgba(0, 0, 0, 0.15);\n",
              "      filter: drop-shadow(0px 1px 2px rgba(0, 0, 0, 0.3));\n",
              "      fill: #FFFFFF;\n",
              "    }\n",
              "  </style>\n",
              "\n",
              "    <script>\n",
              "      const buttonEl =\n",
              "        document.querySelector('#df-6d9991ad-8513-4427-8146-9a8ab4694b81 button.colab-df-convert');\n",
              "      buttonEl.style.display =\n",
              "        google.colab.kernel.accessAllowed ? 'block' : 'none';\n",
              "\n",
              "      async function convertToInteractive(key) {\n",
              "        const element = document.querySelector('#df-6d9991ad-8513-4427-8146-9a8ab4694b81');\n",
              "        const dataTable =\n",
              "          await google.colab.kernel.invokeFunction('convertToInteractive',\n",
              "                                                    [key], {});\n",
              "        if (!dataTable) return;\n",
              "\n",
              "        const docLinkHtml = 'Like what you see? Visit the ' +\n",
              "          '<a target=\"_blank\" href=https://colab.research.google.com/notebooks/data_table.ipynb>data table notebook</a>'\n",
              "          + ' to learn more about interactive tables.';\n",
              "        element.innerHTML = '';\n",
              "        dataTable['output_type'] = 'display_data';\n",
              "        await google.colab.output.renderOutput(dataTable, element);\n",
              "        const docLink = document.createElement('div');\n",
              "        docLink.innerHTML = docLinkHtml;\n",
              "        element.appendChild(docLink);\n",
              "      }\n",
              "    </script>\n",
              "  </div>\n",
              "\n",
              "\n",
              "    <div id=\"df-6df0dc60-d5eb-47cd-9943-3519f301d2e4\">\n",
              "      <button class=\"colab-df-quickchart\" onclick=\"quickchart('df-6df0dc60-d5eb-47cd-9943-3519f301d2e4')\"\n",
              "                title=\"Suggest charts\"\n",
              "                style=\"display:none;\">\n",
              "\n",
              "<svg xmlns=\"http://www.w3.org/2000/svg\" height=\"24px\"viewBox=\"0 0 24 24\"\n",
              "     width=\"24px\">\n",
              "    <g>\n",
              "        <path d=\"M19 3H5c-1.1 0-2 .9-2 2v14c0 1.1.9 2 2 2h14c1.1 0 2-.9 2-2V5c0-1.1-.9-2-2-2zM9 17H7v-7h2v7zm4 0h-2V7h2v10zm4 0h-2v-4h2v4z\"/>\n",
              "    </g>\n",
              "</svg>\n",
              "      </button>\n",
              "\n",
              "<style>\n",
              "  .colab-df-quickchart {\n",
              "      --bg-color: #E8F0FE;\n",
              "      --fill-color: #1967D2;\n",
              "      --hover-bg-color: #E2EBFA;\n",
              "      --hover-fill-color: #174EA6;\n",
              "      --disabled-fill-color: #AAA;\n",
              "      --disabled-bg-color: #DDD;\n",
              "  }\n",
              "\n",
              "  [theme=dark] .colab-df-quickchart {\n",
              "      --bg-color: #3B4455;\n",
              "      --fill-color: #D2E3FC;\n",
              "      --hover-bg-color: #434B5C;\n",
              "      --hover-fill-color: #FFFFFF;\n",
              "      --disabled-bg-color: #3B4455;\n",
              "      --disabled-fill-color: #666;\n",
              "  }\n",
              "\n",
              "  .colab-df-quickchart {\n",
              "    background-color: var(--bg-color);\n",
              "    border: none;\n",
              "    border-radius: 50%;\n",
              "    cursor: pointer;\n",
              "    display: none;\n",
              "    fill: var(--fill-color);\n",
              "    height: 32px;\n",
              "    padding: 0;\n",
              "    width: 32px;\n",
              "  }\n",
              "\n",
              "  .colab-df-quickchart:hover {\n",
              "    background-color: var(--hover-bg-color);\n",
              "    box-shadow: 0 1px 2px rgba(60, 64, 67, 0.3), 0 1px 3px 1px rgba(60, 64, 67, 0.15);\n",
              "    fill: var(--button-hover-fill-color);\n",
              "  }\n",
              "\n",
              "  .colab-df-quickchart-complete:disabled,\n",
              "  .colab-df-quickchart-complete:disabled:hover {\n",
              "    background-color: var(--disabled-bg-color);\n",
              "    fill: var(--disabled-fill-color);\n",
              "    box-shadow: none;\n",
              "  }\n",
              "\n",
              "  .colab-df-spinner {\n",
              "    border: 2px solid var(--fill-color);\n",
              "    border-color: transparent;\n",
              "    border-bottom-color: var(--fill-color);\n",
              "    animation:\n",
              "      spin 1s steps(1) infinite;\n",
              "  }\n",
              "\n",
              "  @keyframes spin {\n",
              "    0% {\n",
              "      border-color: transparent;\n",
              "      border-bottom-color: var(--fill-color);\n",
              "      border-left-color: var(--fill-color);\n",
              "    }\n",
              "    20% {\n",
              "      border-color: transparent;\n",
              "      border-left-color: var(--fill-color);\n",
              "      border-top-color: var(--fill-color);\n",
              "    }\n",
              "    30% {\n",
              "      border-color: transparent;\n",
              "      border-left-color: var(--fill-color);\n",
              "      border-top-color: var(--fill-color);\n",
              "      border-right-color: var(--fill-color);\n",
              "    }\n",
              "    40% {\n",
              "      border-color: transparent;\n",
              "      border-right-color: var(--fill-color);\n",
              "      border-top-color: var(--fill-color);\n",
              "    }\n",
              "    60% {\n",
              "      border-color: transparent;\n",
              "      border-right-color: var(--fill-color);\n",
              "    }\n",
              "    80% {\n",
              "      border-color: transparent;\n",
              "      border-right-color: var(--fill-color);\n",
              "      border-bottom-color: var(--fill-color);\n",
              "    }\n",
              "    90% {\n",
              "      border-color: transparent;\n",
              "      border-bottom-color: var(--fill-color);\n",
              "    }\n",
              "  }\n",
              "</style>\n",
              "\n",
              "      <script>\n",
              "        async function quickchart(key) {\n",
              "          const quickchartButtonEl =\n",
              "            document.querySelector('#' + key + ' button');\n",
              "          quickchartButtonEl.disabled = true;  // To prevent multiple clicks.\n",
              "          quickchartButtonEl.classList.add('colab-df-spinner');\n",
              "          try {\n",
              "            const charts = await google.colab.kernel.invokeFunction(\n",
              "                'suggestCharts', [key], {});\n",
              "          } catch (error) {\n",
              "            console.error('Error during call to suggestCharts:', error);\n",
              "          }\n",
              "          quickchartButtonEl.classList.remove('colab-df-spinner');\n",
              "          quickchartButtonEl.classList.add('colab-df-quickchart-complete');\n",
              "        }\n",
              "        (() => {\n",
              "          let quickchartButtonEl =\n",
              "            document.querySelector('#df-6df0dc60-d5eb-47cd-9943-3519f301d2e4 button');\n",
              "          quickchartButtonEl.style.display =\n",
              "            google.colab.kernel.accessAllowed ? 'block' : 'none';\n",
              "        })();\n",
              "      </script>\n",
              "    </div>\n",
              "\n",
              "    </div>\n",
              "  </div>\n"
            ],
            "application/vnd.google.colaboratory.intrinsic+json": {
              "type": "dataframe",
              "summary": "{\n  \"name\": \"oo[oo['Athlete Name']\",\n  \"rows\": 10,\n  \"fields\": [\n    {\n      \"column\": \"Year\",\n      \"properties\": {\n        \"dtype\": \"number\",\n        \"std\": 4,\n        \"min\": 1984,\n        \"max\": 1996,\n        \"num_unique_values\": 4,\n        \"samples\": [\n          1988,\n          1996,\n          1984\n        ],\n        \"semantic_type\": \"\",\n        \"description\": \"\"\n      }\n    },\n    {\n      \"column\": \"City\",\n      \"properties\": {\n        \"dtype\": \"string\",\n        \"num_unique_values\": 4,\n        \"samples\": [\n          \"Seoul\",\n          \"Atlanta\",\n          \"Los Angeles\"\n        ],\n        \"semantic_type\": \"\",\n        \"description\": \"\"\n      }\n    },\n    {\n      \"column\": \"Sport\",\n      \"properties\": {\n        \"dtype\": \"string\",\n        \"num_unique_values\": 1,\n        \"samples\": [\n          \"Athletics\"\n        ],\n        \"semantic_type\": \"\",\n        \"description\": \"\"\n      }\n    },\n    {\n      \"column\": \"Discipline\",\n      \"properties\": {\n        \"dtype\": \"string\",\n        \"num_unique_values\": 1,\n        \"samples\": [\n          \"Athletics\"\n        ],\n        \"semantic_type\": \"\",\n        \"description\": \"\"\n      }\n    },\n    {\n      \"column\": \"Athlete Name\",\n      \"properties\": {\n        \"dtype\": \"string\",\n        \"num_unique_values\": 1,\n        \"samples\": [\n          \"LEWIS, Carl\"\n        ],\n        \"semantic_type\": \"\",\n        \"description\": \"\"\n      }\n    },\n    {\n      \"column\": \"NOC\",\n      \"properties\": {\n        \"dtype\": \"string\",\n        \"num_unique_values\": 1,\n        \"samples\": [\n          \"USA\"\n        ],\n        \"semantic_type\": \"\",\n        \"description\": \"\"\n      }\n    },\n    {\n      \"column\": \"Gender\",\n      \"properties\": {\n        \"dtype\": \"category\",\n        \"num_unique_values\": 1,\n        \"samples\": [\n          \"Men\"\n        ],\n        \"semantic_type\": \"\",\n        \"description\": \"\"\n      }\n    },\n    {\n      \"column\": \"Event\",\n      \"properties\": {\n        \"dtype\": \"string\",\n        \"num_unique_values\": 4,\n        \"samples\": [\n          \"200m\"\n        ],\n        \"semantic_type\": \"\",\n        \"description\": \"\"\n      }\n    },\n    {\n      \"column\": \"Event Gender\",\n      \"properties\": {\n        \"dtype\": \"category\",\n        \"num_unique_values\": 1,\n        \"samples\": [\n          \"M\"\n        ],\n        \"semantic_type\": \"\",\n        \"description\": \"\"\n      }\n    },\n    {\n      \"column\": \"Medal\",\n      \"properties\": {\n        \"dtype\": \"category\",\n        \"num_unique_values\": 2,\n        \"samples\": [\n          \"Silver\"\n        ],\n        \"semantic_type\": \"\",\n        \"description\": \"\"\n      }\n    }\n  ]\n}"
            }
          },
          "metadata": {},
          "execution_count": 82
        }
      ],
      "source": [
        "oo[oo['Athlete Name'].str.contains(\"LEWIS, Carl\")]"
      ]
    },
    {
      "cell_type": "code",
      "execution_count": 83,
      "metadata": {
        "id": "zYCkIFOi2Htz",
        "outputId": "19f247f9-b812-4a18-a70b-b6a836783dd1",
        "colab": {
          "base_uri": "https://localhost:8080/",
          "height": 35
        }
      },
      "outputs": [
        {
          "output_type": "execute_result",
          "data": {
            "text/plain": [
              "'long jump'"
            ],
            "application/vnd.google.colaboratory.intrinsic+json": {
              "type": "string"
            }
          },
          "metadata": {},
          "execution_count": 83
        }
      ],
      "source": [
        "oo.loc[22719, \"Event\"]"
      ]
    },
    {
      "cell_type": "code",
      "execution_count": 84,
      "metadata": {
        "id": "ONnjbHTa3Amt",
        "outputId": "755c1f96-82f1-4f2b-ce87-4b1a584c9ecc",
        "colab": {
          "base_uri": "https://localhost:8080/",
          "height": 293
        }
      },
      "outputs": [
        {
          "output_type": "stream",
          "name": "stderr",
          "text": [
            "/usr/local/lib/python3.11/dist-packages/google/colab/_interactive_table_hint_button.py:178: FutureWarning: Index.format is deprecated and will be removed in a future version. Convert using index.astype(str) or index.map(formatter) instead.\n",
            "  df_html=dataframe._repr_html_(),  # pylint: disable=protected-access\n"
          ]
        },
        {
          "output_type": "execute_result",
          "data": {
            "text/plain": [
              "                    Year    City      Sport     Discipline  NOC Gender  Event  \\\n",
              "Athlete Name                                                                    \n",
              "FLAMENG, Léon       1896  Athens    Cycling  Cycling Track  FRA    Men  100km   \n",
              "KOLETTIS, Georgios  1896  Athens    Cycling  Cycling Track  GRE    Men  100km   \n",
              "LANE, Francis       1896  Athens  Athletics      Athletics  USA    Men   100m   \n",
              "SZOKOLYI, Alajos    1896  Athens  Athletics      Athletics  HUN    Men   100m   \n",
              "BURKE, Thomas       1896  Athens  Athletics      Athletics  USA    Men   100m   \n",
              "\n",
              "                   Event Gender   Medal  \n",
              "Athlete Name                             \n",
              "FLAMENG, Léon                 M    Gold  \n",
              "KOLETTIS, Georgios            M  Silver  \n",
              "LANE, Francis                 M  Bronze  \n",
              "SZOKOLYI, Alajos              M  Bronze  \n",
              "BURKE, Thomas                 M    Gold  "
            ],
            "text/html": [
              "\n",
              "  <div id=\"df-38ec8149-5072-4759-b178-5e5a91b059c0\" class=\"colab-df-container\">\n",
              "    <div>\n",
              "<style scoped>\n",
              "    .dataframe tbody tr th:only-of-type {\n",
              "        vertical-align: middle;\n",
              "    }\n",
              "\n",
              "    .dataframe tbody tr th {\n",
              "        vertical-align: top;\n",
              "    }\n",
              "\n",
              "    .dataframe thead th {\n",
              "        text-align: right;\n",
              "    }\n",
              "</style>\n",
              "<table border=\"1\" class=\"dataframe\">\n",
              "  <thead>\n",
              "    <tr style=\"text-align: right;\">\n",
              "      <th></th>\n",
              "      <th>Year</th>\n",
              "      <th>City</th>\n",
              "      <th>Sport</th>\n",
              "      <th>Discipline</th>\n",
              "      <th>NOC</th>\n",
              "      <th>Gender</th>\n",
              "      <th>Event</th>\n",
              "      <th>Event Gender</th>\n",
              "      <th>Medal</th>\n",
              "    </tr>\n",
              "    <tr>\n",
              "      <th>Athlete Name</th>\n",
              "      <th></th>\n",
              "      <th></th>\n",
              "      <th></th>\n",
              "      <th></th>\n",
              "      <th></th>\n",
              "      <th></th>\n",
              "      <th></th>\n",
              "      <th></th>\n",
              "      <th></th>\n",
              "    </tr>\n",
              "  </thead>\n",
              "  <tbody>\n",
              "    <tr>\n",
              "      <th>FLAMENG, Léon</th>\n",
              "      <td>1896</td>\n",
              "      <td>Athens</td>\n",
              "      <td>Cycling</td>\n",
              "      <td>Cycling Track</td>\n",
              "      <td>FRA</td>\n",
              "      <td>Men</td>\n",
              "      <td>100km</td>\n",
              "      <td>M</td>\n",
              "      <td>Gold</td>\n",
              "    </tr>\n",
              "    <tr>\n",
              "      <th>KOLETTIS, Georgios</th>\n",
              "      <td>1896</td>\n",
              "      <td>Athens</td>\n",
              "      <td>Cycling</td>\n",
              "      <td>Cycling Track</td>\n",
              "      <td>GRE</td>\n",
              "      <td>Men</td>\n",
              "      <td>100km</td>\n",
              "      <td>M</td>\n",
              "      <td>Silver</td>\n",
              "    </tr>\n",
              "    <tr>\n",
              "      <th>LANE, Francis</th>\n",
              "      <td>1896</td>\n",
              "      <td>Athens</td>\n",
              "      <td>Athletics</td>\n",
              "      <td>Athletics</td>\n",
              "      <td>USA</td>\n",
              "      <td>Men</td>\n",
              "      <td>100m</td>\n",
              "      <td>M</td>\n",
              "      <td>Bronze</td>\n",
              "    </tr>\n",
              "    <tr>\n",
              "      <th>SZOKOLYI, Alajos</th>\n",
              "      <td>1896</td>\n",
              "      <td>Athens</td>\n",
              "      <td>Athletics</td>\n",
              "      <td>Athletics</td>\n",
              "      <td>HUN</td>\n",
              "      <td>Men</td>\n",
              "      <td>100m</td>\n",
              "      <td>M</td>\n",
              "      <td>Bronze</td>\n",
              "    </tr>\n",
              "    <tr>\n",
              "      <th>BURKE, Thomas</th>\n",
              "      <td>1896</td>\n",
              "      <td>Athens</td>\n",
              "      <td>Athletics</td>\n",
              "      <td>Athletics</td>\n",
              "      <td>USA</td>\n",
              "      <td>Men</td>\n",
              "      <td>100m</td>\n",
              "      <td>M</td>\n",
              "      <td>Gold</td>\n",
              "    </tr>\n",
              "  </tbody>\n",
              "</table>\n",
              "</div>\n",
              "    <div class=\"colab-df-buttons\">\n",
              "\n",
              "  <div class=\"colab-df-container\">\n",
              "    <button class=\"colab-df-convert\" onclick=\"convertToInteractive('df-38ec8149-5072-4759-b178-5e5a91b059c0')\"\n",
              "            title=\"Convert this dataframe to an interactive table.\"\n",
              "            style=\"display:none;\">\n",
              "\n",
              "  <svg xmlns=\"http://www.w3.org/2000/svg\" height=\"24px\" viewBox=\"0 -960 960 960\">\n",
              "    <path d=\"M120-120v-720h720v720H120Zm60-500h600v-160H180v160Zm220 220h160v-160H400v160Zm0 220h160v-160H400v160ZM180-400h160v-160H180v160Zm440 0h160v-160H620v160ZM180-180h160v-160H180v160Zm440 0h160v-160H620v160Z\"/>\n",
              "  </svg>\n",
              "    </button>\n",
              "\n",
              "  <style>\n",
              "    .colab-df-container {\n",
              "      display:flex;\n",
              "      gap: 12px;\n",
              "    }\n",
              "\n",
              "    .colab-df-convert {\n",
              "      background-color: #E8F0FE;\n",
              "      border: none;\n",
              "      border-radius: 50%;\n",
              "      cursor: pointer;\n",
              "      display: none;\n",
              "      fill: #1967D2;\n",
              "      height: 32px;\n",
              "      padding: 0 0 0 0;\n",
              "      width: 32px;\n",
              "    }\n",
              "\n",
              "    .colab-df-convert:hover {\n",
              "      background-color: #E2EBFA;\n",
              "      box-shadow: 0px 1px 2px rgba(60, 64, 67, 0.3), 0px 1px 3px 1px rgba(60, 64, 67, 0.15);\n",
              "      fill: #174EA6;\n",
              "    }\n",
              "\n",
              "    .colab-df-buttons div {\n",
              "      margin-bottom: 4px;\n",
              "    }\n",
              "\n",
              "    [theme=dark] .colab-df-convert {\n",
              "      background-color: #3B4455;\n",
              "      fill: #D2E3FC;\n",
              "    }\n",
              "\n",
              "    [theme=dark] .colab-df-convert:hover {\n",
              "      background-color: #434B5C;\n",
              "      box-shadow: 0px 1px 3px 1px rgba(0, 0, 0, 0.15);\n",
              "      filter: drop-shadow(0px 1px 2px rgba(0, 0, 0, 0.3));\n",
              "      fill: #FFFFFF;\n",
              "    }\n",
              "  </style>\n",
              "\n",
              "    <script>\n",
              "      const buttonEl =\n",
              "        document.querySelector('#df-38ec8149-5072-4759-b178-5e5a91b059c0 button.colab-df-convert');\n",
              "      buttonEl.style.display =\n",
              "        google.colab.kernel.accessAllowed ? 'block' : 'none';\n",
              "\n",
              "      async function convertToInteractive(key) {\n",
              "        const element = document.querySelector('#df-38ec8149-5072-4759-b178-5e5a91b059c0');\n",
              "        const dataTable =\n",
              "          await google.colab.kernel.invokeFunction('convertToInteractive',\n",
              "                                                    [key], {});\n",
              "        if (!dataTable) return;\n",
              "\n",
              "        const docLinkHtml = 'Like what you see? Visit the ' +\n",
              "          '<a target=\"_blank\" href=https://colab.research.google.com/notebooks/data_table.ipynb>data table notebook</a>'\n",
              "          + ' to learn more about interactive tables.';\n",
              "        element.innerHTML = '';\n",
              "        dataTable['output_type'] = 'display_data';\n",
              "        await google.colab.output.renderOutput(dataTable, element);\n",
              "        const docLink = document.createElement('div');\n",
              "        docLink.innerHTML = docLinkHtml;\n",
              "        element.appendChild(docLink);\n",
              "      }\n",
              "    </script>\n",
              "  </div>\n",
              "\n",
              "\n",
              "    <div id=\"df-bd474ab4-8326-4202-9aba-289055120086\">\n",
              "      <button class=\"colab-df-quickchart\" onclick=\"quickchart('df-bd474ab4-8326-4202-9aba-289055120086')\"\n",
              "                title=\"Suggest charts\"\n",
              "                style=\"display:none;\">\n",
              "\n",
              "<svg xmlns=\"http://www.w3.org/2000/svg\" height=\"24px\"viewBox=\"0 0 24 24\"\n",
              "     width=\"24px\">\n",
              "    <g>\n",
              "        <path d=\"M19 3H5c-1.1 0-2 .9-2 2v14c0 1.1.9 2 2 2h14c1.1 0 2-.9 2-2V5c0-1.1-.9-2-2-2zM9 17H7v-7h2v7zm4 0h-2V7h2v10zm4 0h-2v-4h2v4z\"/>\n",
              "    </g>\n",
              "</svg>\n",
              "      </button>\n",
              "\n",
              "<style>\n",
              "  .colab-df-quickchart {\n",
              "      --bg-color: #E8F0FE;\n",
              "      --fill-color: #1967D2;\n",
              "      --hover-bg-color: #E2EBFA;\n",
              "      --hover-fill-color: #174EA6;\n",
              "      --disabled-fill-color: #AAA;\n",
              "      --disabled-bg-color: #DDD;\n",
              "  }\n",
              "\n",
              "  [theme=dark] .colab-df-quickchart {\n",
              "      --bg-color: #3B4455;\n",
              "      --fill-color: #D2E3FC;\n",
              "      --hover-bg-color: #434B5C;\n",
              "      --hover-fill-color: #FFFFFF;\n",
              "      --disabled-bg-color: #3B4455;\n",
              "      --disabled-fill-color: #666;\n",
              "  }\n",
              "\n",
              "  .colab-df-quickchart {\n",
              "    background-color: var(--bg-color);\n",
              "    border: none;\n",
              "    border-radius: 50%;\n",
              "    cursor: pointer;\n",
              "    display: none;\n",
              "    fill: var(--fill-color);\n",
              "    height: 32px;\n",
              "    padding: 0;\n",
              "    width: 32px;\n",
              "  }\n",
              "\n",
              "  .colab-df-quickchart:hover {\n",
              "    background-color: var(--hover-bg-color);\n",
              "    box-shadow: 0 1px 2px rgba(60, 64, 67, 0.3), 0 1px 3px 1px rgba(60, 64, 67, 0.15);\n",
              "    fill: var(--button-hover-fill-color);\n",
              "  }\n",
              "\n",
              "  .colab-df-quickchart-complete:disabled,\n",
              "  .colab-df-quickchart-complete:disabled:hover {\n",
              "    background-color: var(--disabled-bg-color);\n",
              "    fill: var(--disabled-fill-color);\n",
              "    box-shadow: none;\n",
              "  }\n",
              "\n",
              "  .colab-df-spinner {\n",
              "    border: 2px solid var(--fill-color);\n",
              "    border-color: transparent;\n",
              "    border-bottom-color: var(--fill-color);\n",
              "    animation:\n",
              "      spin 1s steps(1) infinite;\n",
              "  }\n",
              "\n",
              "  @keyframes spin {\n",
              "    0% {\n",
              "      border-color: transparent;\n",
              "      border-bottom-color: var(--fill-color);\n",
              "      border-left-color: var(--fill-color);\n",
              "    }\n",
              "    20% {\n",
              "      border-color: transparent;\n",
              "      border-left-color: var(--fill-color);\n",
              "      border-top-color: var(--fill-color);\n",
              "    }\n",
              "    30% {\n",
              "      border-color: transparent;\n",
              "      border-left-color: var(--fill-color);\n",
              "      border-top-color: var(--fill-color);\n",
              "      border-right-color: var(--fill-color);\n",
              "    }\n",
              "    40% {\n",
              "      border-color: transparent;\n",
              "      border-right-color: var(--fill-color);\n",
              "      border-top-color: var(--fill-color);\n",
              "    }\n",
              "    60% {\n",
              "      border-color: transparent;\n",
              "      border-right-color: var(--fill-color);\n",
              "    }\n",
              "    80% {\n",
              "      border-color: transparent;\n",
              "      border-right-color: var(--fill-color);\n",
              "      border-bottom-color: var(--fill-color);\n",
              "    }\n",
              "    90% {\n",
              "      border-color: transparent;\n",
              "      border-bottom-color: var(--fill-color);\n",
              "    }\n",
              "  }\n",
              "</style>\n",
              "\n",
              "      <script>\n",
              "        async function quickchart(key) {\n",
              "          const quickchartButtonEl =\n",
              "            document.querySelector('#' + key + ' button');\n",
              "          quickchartButtonEl.disabled = true;  // To prevent multiple clicks.\n",
              "          quickchartButtonEl.classList.add('colab-df-spinner');\n",
              "          try {\n",
              "            const charts = await google.colab.kernel.invokeFunction(\n",
              "                'suggestCharts', [key], {});\n",
              "          } catch (error) {\n",
              "            console.error('Error during call to suggestCharts:', error);\n",
              "          }\n",
              "          quickchartButtonEl.classList.remove('colab-df-spinner');\n",
              "          quickchartButtonEl.classList.add('colab-df-quickchart-complete');\n",
              "        }\n",
              "        (() => {\n",
              "          let quickchartButtonEl =\n",
              "            document.querySelector('#df-bd474ab4-8326-4202-9aba-289055120086 button');\n",
              "          quickchartButtonEl.style.display =\n",
              "            google.colab.kernel.accessAllowed ? 'block' : 'none';\n",
              "        })();\n",
              "      </script>\n",
              "    </div>\n",
              "\n",
              "    </div>\n",
              "  </div>\n"
            ],
            "application/vnd.google.colaboratory.intrinsic+json": {
              "type": "dataframe",
              "variable_name": "oo",
              "summary": "{\n  \"name\": \"oo\",\n  \"rows\": 27174,\n  \"fields\": [\n    {\n      \"column\": \"Athlete Name\",\n      \"properties\": {\n        \"dtype\": \"string\",\n        \"num_unique_values\": 19991,\n        \"samples\": [\n          \"TOMAN, Ladislav\",\n          \"MATTO, Sergio A.\",\n          \"DE WOLF, Nicolaas\"\n        ],\n        \"semantic_type\": \"\",\n        \"description\": \"\"\n      }\n    },\n    {\n      \"column\": \"Year\",\n      \"properties\": {\n        \"dtype\": \"number\",\n        \"std\": 31,\n        \"min\": 1896,\n        \"max\": 2004,\n        \"num_unique_values\": 25,\n        \"samples\": [\n          1932,\n          1972,\n          1896\n        ],\n        \"semantic_type\": \"\",\n        \"description\": \"\"\n      }\n    },\n    {\n      \"column\": \"City\",\n      \"properties\": {\n        \"dtype\": \"string\",\n        \"num_unique_values\": 21,\n        \"samples\": [\n          \"Athens\",\n          \"Seoul\",\n          \"Montreal\"\n        ],\n        \"semantic_type\": \"\",\n        \"description\": \"\"\n      }\n    },\n    {\n      \"column\": \"Sport\",\n      \"properties\": {\n        \"dtype\": \"string\",\n        \"num_unique_values\": 42,\n        \"samples\": [\n          \"Rackets\",\n          \"Croquet\",\n          \"Wrestling\"\n        ],\n        \"semantic_type\": \"\",\n        \"description\": \"\"\n      }\n    },\n    {\n      \"column\": \"Discipline\",\n      \"properties\": {\n        \"dtype\": \"string\",\n        \"num_unique_values\": 55,\n        \"samples\": [\n          \"Jeu de Paume\",\n          \"Fencing\",\n          \"Figure skating\"\n        ],\n        \"semantic_type\": \"\",\n        \"description\": \"\"\n      }\n    },\n    {\n      \"column\": \"NOC\",\n      \"properties\": {\n        \"dtype\": \"string\",\n        \"num_unique_values\": 132,\n        \"samples\": [\n          \"VEN\",\n          \"ZIM\",\n          \"SWE\"\n        ],\n        \"semantic_type\": \"\",\n        \"description\": \"\"\n      }\n    },\n    {\n      \"column\": \"Gender\",\n      \"properties\": {\n        \"dtype\": \"category\",\n        \"num_unique_values\": 2,\n        \"samples\": [\n          \"Women\",\n          \"Men\"\n        ],\n        \"semantic_type\": \"\",\n        \"description\": \"\"\n      }\n    },\n    {\n      \"column\": \"Event\",\n      \"properties\": {\n        \"dtype\": \"string\",\n        \"num_unique_values\": 572,\n        \"samples\": [\n          \"- 58 kg\",\n          \"cricket\"\n        ],\n        \"semantic_type\": \"\",\n        \"description\": \"\"\n      }\n    },\n    {\n      \"column\": \"Event Gender\",\n      \"properties\": {\n        \"dtype\": \"category\",\n        \"num_unique_values\": 3,\n        \"samples\": [\n          \"M\",\n          \"X\"\n        ],\n        \"semantic_type\": \"\",\n        \"description\": \"\"\n      }\n    },\n    {\n      \"column\": \"Medal\",\n      \"properties\": {\n        \"dtype\": \"category\",\n        \"num_unique_values\": 3,\n        \"samples\": [\n          \"Gold\",\n          \"Silver\"\n        ],\n        \"semantic_type\": \"\",\n        \"description\": \"\"\n      }\n    }\n  ]\n}"
            }
          },
          "metadata": {},
          "execution_count": 84
        }
      ],
      "source": [
        "oo = oo.set_index(\"Athlete Name\")\n",
        "oo.head(5)"
      ]
    },
    {
      "cell_type": "code",
      "execution_count": null,
      "metadata": {
        "id": "sNKbF5EW4CfA"
      },
      "outputs": [],
      "source": [
        "oo.index"
      ]
    },
    {
      "cell_type": "code",
      "execution_count": null,
      "metadata": {
        "id": "p4HUipxR3Vqt"
      },
      "outputs": [],
      "source": [
        "oo.loc[\"LEWIS, Carl\", \"Event\"]"
      ]
    },
    {
      "cell_type": "code",
      "execution_count": null,
      "metadata": {
        "id": "hivXx2NJ4stZ"
      },
      "outputs": [],
      "source": [
        "oo.head(3)"
      ]
    },
    {
      "cell_type": "code",
      "execution_count": null,
      "metadata": {
        "id": "HyG7IgT54Vsx"
      },
      "outputs": [],
      "source": [
        "oo.columns"
      ]
    },
    {
      "cell_type": "code",
      "execution_count": null,
      "metadata": {
        "id": "JuTTmVYQ4Rs1"
      },
      "outputs": [],
      "source": [
        "oo.shape"
      ]
    },
    {
      "cell_type": "code",
      "execution_count": null,
      "metadata": {
        "id": "IvMMCdGj6TJI"
      },
      "outputs": [],
      "source": [
        "oo.head(3)"
      ]
    },
    {
      "cell_type": "code",
      "execution_count": null,
      "metadata": {
        "id": "7lnnepwCDU95"
      },
      "outputs": [],
      "source": [
        "oo.loc[\"LEWIS, Carl\", [\"Year\", \"Event\", \"Medal\"]]"
      ]
    },
    {
      "cell_type": "code",
      "execution_count": null,
      "metadata": {
        "id": "UwegmOH2DvrZ"
      },
      "outputs": [],
      "source": [
        "oo.loc[\"LEWIS, Carl\", :]"
      ]
    },
    {
      "cell_type": "code",
      "execution_count": null,
      "metadata": {
        "id": "Zjq6Ap2_D7_s"
      },
      "outputs": [],
      "source": [
        "oo.loc[\"LEWIS, Carl\"]"
      ]
    },
    {
      "cell_type": "code",
      "execution_count": null,
      "metadata": {
        "id": "aCqAQxgw6dfc"
      },
      "outputs": [],
      "source": [
        "oo = oo.sort_index()\n",
        "oo.head(3)"
      ]
    },
    {
      "cell_type": "code",
      "execution_count": null,
      "metadata": {
        "id": "KICIHBuU5HBL"
      },
      "outputs": [],
      "source": [
        "oo = oo.reset_index()\n",
        "oo.head(3)"
      ]
    },
    {
      "cell_type": "code",
      "execution_count": null,
      "metadata": {
        "id": "UK37rcqdCrU2"
      },
      "outputs": [],
      "source": [
        "oo.iloc[0, 0]"
      ]
    },
    {
      "cell_type": "code",
      "source": [
        "oo.iloc[0, 5]"
      ],
      "metadata": {
        "id": "olA305lnyCQg"
      },
      "execution_count": null,
      "outputs": []
    },
    {
      "cell_type": "code",
      "source": [
        "oo.iloc[0, :]"
      ],
      "metadata": {
        "id": "JH7Gr3RLyI8E"
      },
      "execution_count": null,
      "outputs": []
    },
    {
      "cell_type": "code",
      "source": [
        "oo.iloc[0]"
      ],
      "metadata": {
        "id": "raIogoAPyP3N"
      },
      "execution_count": null,
      "outputs": []
    },
    {
      "cell_type": "markdown",
      "metadata": {
        "id": "SCq05iZiwibC"
      },
      "source": [
        "## Being Productive in pandas - My Best Practices"
      ]
    },
    {
      "cell_type": "code",
      "source": [
        "# !pip install --quiet pandas==2.0.2\n",
        "\n",
        "import pandas as pd\n",
        "from pathlib import Path\n",
        "\n",
        "if not Path(\"olympics_1896_2004.csv\").exists():\n",
        "  !wget https://github.com/jonfernandes/pandas_essential/raw/main/olympics_1896_2004.csv\n",
        "\n",
        "filename = \"olympics_1896_2004.csv\"\n",
        "print(\"Installed all of the necessary files for this section ...\")"
      ],
      "metadata": {
        "id": "jnHdKL7YpzwM",
        "outputId": "ded891d8-ef0e-4b43-9b20-8a354d128c7b",
        "colab": {
          "base_uri": "https://localhost:8080/"
        }
      },
      "execution_count": 3,
      "outputs": [
        {
          "output_type": "stream",
          "name": "stdout",
          "text": [
            "Installed all of the necessary files for this section ...\n"
          ]
        }
      ]
    },
    {
      "cell_type": "code",
      "source": [
        "def preprocess(filename = \"olympics_1896_2004.csv\"):\n",
        "  \"\"\"Preparing and transforming dataframe\"\"\"\n",
        "  print(f\"Preprocessing {filename} ...\\n\")\n",
        "  ordered_medals = pd.api.types.CategoricalDtype(categories=[\"Bronze\", \"Silver\", \"Gold\"], ordered=True)\n",
        "  dtype_mapper = {\"Year\": \"int64\",\n",
        "                \"City\": \"string\",\n",
        "                \"Sport\": \"string\",\n",
        "                \"Discipline\": \"string\",\n",
        "                \"Athlete Name\": \"string\",\n",
        "                \"NOC\": \"string\",\n",
        "                \"Gender\": \"category\",\n",
        "                \"Event\": \"string\",\n",
        "                \"Event_gender\": \"category\",\n",
        "                \"Medal\": ordered_medals}\n",
        "  df = (pd.read_csv(filename, skiprows=5, dtype=dtype_mapper)\n",
        "        .drop('Position', axis=1)\n",
        "  )\n",
        "  df[\"Event Gender\"] = df[\"Event Gender\"].astype(\"category\")\n",
        "  return df\n",
        "\n",
        "oo = preprocess()\n",
        "oo.sample(3)"
      ],
      "metadata": {
        "id": "k0-XRGK7nR62",
        "outputId": "361594a8-fc88-446b-e620-babc69280e0c",
        "colab": {
          "base_uri": "https://localhost:8080/",
          "height": 231
        }
      },
      "execution_count": 4,
      "outputs": [
        {
          "output_type": "stream",
          "name": "stdout",
          "text": [
            "Preprocessing olympics_1896_2004.csv ...\n",
            "\n"
          ]
        },
        {
          "output_type": "execute_result",
          "data": {
            "text/plain": [
              "       Year      City    Sport Discipline                Athlete Name  NOC  \\\n",
              "21973  1996   Atlanta  Sailing    Sailing             PELLICANO, Kiko  BRA   \n",
              "8905   1952  Helsinki  Fencing    Fencing          MAGNUSSON, Lennart  SWE   \n",
              "24582  2000    Sydney   Hockey     Hockey  HERNANDEZ, Maria de la Paz  ARG   \n",
              "\n",
              "      Gender                Event Event Gender   Medal  \n",
              "21973    Men  Tornado - Multihull            X  Bronze  \n",
              "8905     Men            épée team            M  Silver  \n",
              "24582  Women               hockey            W  Silver  "
            ],
            "text/html": [
              "\n",
              "  <div id=\"df-e6e01cf5-5e53-4306-a617-d14756bcf4ad\" class=\"colab-df-container\">\n",
              "    <div>\n",
              "<style scoped>\n",
              "    .dataframe tbody tr th:only-of-type {\n",
              "        vertical-align: middle;\n",
              "    }\n",
              "\n",
              "    .dataframe tbody tr th {\n",
              "        vertical-align: top;\n",
              "    }\n",
              "\n",
              "    .dataframe thead th {\n",
              "        text-align: right;\n",
              "    }\n",
              "</style>\n",
              "<table border=\"1\" class=\"dataframe\">\n",
              "  <thead>\n",
              "    <tr style=\"text-align: right;\">\n",
              "      <th></th>\n",
              "      <th>Year</th>\n",
              "      <th>City</th>\n",
              "      <th>Sport</th>\n",
              "      <th>Discipline</th>\n",
              "      <th>Athlete Name</th>\n",
              "      <th>NOC</th>\n",
              "      <th>Gender</th>\n",
              "      <th>Event</th>\n",
              "      <th>Event Gender</th>\n",
              "      <th>Medal</th>\n",
              "    </tr>\n",
              "  </thead>\n",
              "  <tbody>\n",
              "    <tr>\n",
              "      <th>21973</th>\n",
              "      <td>1996</td>\n",
              "      <td>Atlanta</td>\n",
              "      <td>Sailing</td>\n",
              "      <td>Sailing</td>\n",
              "      <td>PELLICANO, Kiko</td>\n",
              "      <td>BRA</td>\n",
              "      <td>Men</td>\n",
              "      <td>Tornado - Multihull</td>\n",
              "      <td>X</td>\n",
              "      <td>Bronze</td>\n",
              "    </tr>\n",
              "    <tr>\n",
              "      <th>8905</th>\n",
              "      <td>1952</td>\n",
              "      <td>Helsinki</td>\n",
              "      <td>Fencing</td>\n",
              "      <td>Fencing</td>\n",
              "      <td>MAGNUSSON, Lennart</td>\n",
              "      <td>SWE</td>\n",
              "      <td>Men</td>\n",
              "      <td>épée team</td>\n",
              "      <td>M</td>\n",
              "      <td>Silver</td>\n",
              "    </tr>\n",
              "    <tr>\n",
              "      <th>24582</th>\n",
              "      <td>2000</td>\n",
              "      <td>Sydney</td>\n",
              "      <td>Hockey</td>\n",
              "      <td>Hockey</td>\n",
              "      <td>HERNANDEZ, Maria de la Paz</td>\n",
              "      <td>ARG</td>\n",
              "      <td>Women</td>\n",
              "      <td>hockey</td>\n",
              "      <td>W</td>\n",
              "      <td>Silver</td>\n",
              "    </tr>\n",
              "  </tbody>\n",
              "</table>\n",
              "</div>\n",
              "    <div class=\"colab-df-buttons\">\n",
              "\n",
              "  <div class=\"colab-df-container\">\n",
              "    <button class=\"colab-df-convert\" onclick=\"convertToInteractive('df-e6e01cf5-5e53-4306-a617-d14756bcf4ad')\"\n",
              "            title=\"Convert this dataframe to an interactive table.\"\n",
              "            style=\"display:none;\">\n",
              "\n",
              "  <svg xmlns=\"http://www.w3.org/2000/svg\" height=\"24px\" viewBox=\"0 -960 960 960\">\n",
              "    <path d=\"M120-120v-720h720v720H120Zm60-500h600v-160H180v160Zm220 220h160v-160H400v160Zm0 220h160v-160H400v160ZM180-400h160v-160H180v160Zm440 0h160v-160H620v160ZM180-180h160v-160H180v160Zm440 0h160v-160H620v160Z\"/>\n",
              "  </svg>\n",
              "    </button>\n",
              "\n",
              "  <style>\n",
              "    .colab-df-container {\n",
              "      display:flex;\n",
              "      gap: 12px;\n",
              "    }\n",
              "\n",
              "    .colab-df-convert {\n",
              "      background-color: #E8F0FE;\n",
              "      border: none;\n",
              "      border-radius: 50%;\n",
              "      cursor: pointer;\n",
              "      display: none;\n",
              "      fill: #1967D2;\n",
              "      height: 32px;\n",
              "      padding: 0 0 0 0;\n",
              "      width: 32px;\n",
              "    }\n",
              "\n",
              "    .colab-df-convert:hover {\n",
              "      background-color: #E2EBFA;\n",
              "      box-shadow: 0px 1px 2px rgba(60, 64, 67, 0.3), 0px 1px 3px 1px rgba(60, 64, 67, 0.15);\n",
              "      fill: #174EA6;\n",
              "    }\n",
              "\n",
              "    .colab-df-buttons div {\n",
              "      margin-bottom: 4px;\n",
              "    }\n",
              "\n",
              "    [theme=dark] .colab-df-convert {\n",
              "      background-color: #3B4455;\n",
              "      fill: #D2E3FC;\n",
              "    }\n",
              "\n",
              "    [theme=dark] .colab-df-convert:hover {\n",
              "      background-color: #434B5C;\n",
              "      box-shadow: 0px 1px 3px 1px rgba(0, 0, 0, 0.15);\n",
              "      filter: drop-shadow(0px 1px 2px rgba(0, 0, 0, 0.3));\n",
              "      fill: #FFFFFF;\n",
              "    }\n",
              "  </style>\n",
              "\n",
              "    <script>\n",
              "      const buttonEl =\n",
              "        document.querySelector('#df-e6e01cf5-5e53-4306-a617-d14756bcf4ad button.colab-df-convert');\n",
              "      buttonEl.style.display =\n",
              "        google.colab.kernel.accessAllowed ? 'block' : 'none';\n",
              "\n",
              "      async function convertToInteractive(key) {\n",
              "        const element = document.querySelector('#df-e6e01cf5-5e53-4306-a617-d14756bcf4ad');\n",
              "        const dataTable =\n",
              "          await google.colab.kernel.invokeFunction('convertToInteractive',\n",
              "                                                    [key], {});\n",
              "        if (!dataTable) return;\n",
              "\n",
              "        const docLinkHtml = 'Like what you see? Visit the ' +\n",
              "          '<a target=\"_blank\" href=https://colab.research.google.com/notebooks/data_table.ipynb>data table notebook</a>'\n",
              "          + ' to learn more about interactive tables.';\n",
              "        element.innerHTML = '';\n",
              "        dataTable['output_type'] = 'display_data';\n",
              "        await google.colab.output.renderOutput(dataTable, element);\n",
              "        const docLink = document.createElement('div');\n",
              "        docLink.innerHTML = docLinkHtml;\n",
              "        element.appendChild(docLink);\n",
              "      }\n",
              "    </script>\n",
              "  </div>\n",
              "\n",
              "\n",
              "    <div id=\"df-23ce0af4-4126-42b9-9644-b2bc31a4501f\">\n",
              "      <button class=\"colab-df-quickchart\" onclick=\"quickchart('df-23ce0af4-4126-42b9-9644-b2bc31a4501f')\"\n",
              "                title=\"Suggest charts\"\n",
              "                style=\"display:none;\">\n",
              "\n",
              "<svg xmlns=\"http://www.w3.org/2000/svg\" height=\"24px\"viewBox=\"0 0 24 24\"\n",
              "     width=\"24px\">\n",
              "    <g>\n",
              "        <path d=\"M19 3H5c-1.1 0-2 .9-2 2v14c0 1.1.9 2 2 2h14c1.1 0 2-.9 2-2V5c0-1.1-.9-2-2-2zM9 17H7v-7h2v7zm4 0h-2V7h2v10zm4 0h-2v-4h2v4z\"/>\n",
              "    </g>\n",
              "</svg>\n",
              "      </button>\n",
              "\n",
              "<style>\n",
              "  .colab-df-quickchart {\n",
              "      --bg-color: #E8F0FE;\n",
              "      --fill-color: #1967D2;\n",
              "      --hover-bg-color: #E2EBFA;\n",
              "      --hover-fill-color: #174EA6;\n",
              "      --disabled-fill-color: #AAA;\n",
              "      --disabled-bg-color: #DDD;\n",
              "  }\n",
              "\n",
              "  [theme=dark] .colab-df-quickchart {\n",
              "      --bg-color: #3B4455;\n",
              "      --fill-color: #D2E3FC;\n",
              "      --hover-bg-color: #434B5C;\n",
              "      --hover-fill-color: #FFFFFF;\n",
              "      --disabled-bg-color: #3B4455;\n",
              "      --disabled-fill-color: #666;\n",
              "  }\n",
              "\n",
              "  .colab-df-quickchart {\n",
              "    background-color: var(--bg-color);\n",
              "    border: none;\n",
              "    border-radius: 50%;\n",
              "    cursor: pointer;\n",
              "    display: none;\n",
              "    fill: var(--fill-color);\n",
              "    height: 32px;\n",
              "    padding: 0;\n",
              "    width: 32px;\n",
              "  }\n",
              "\n",
              "  .colab-df-quickchart:hover {\n",
              "    background-color: var(--hover-bg-color);\n",
              "    box-shadow: 0 1px 2px rgba(60, 64, 67, 0.3), 0 1px 3px 1px rgba(60, 64, 67, 0.15);\n",
              "    fill: var(--button-hover-fill-color);\n",
              "  }\n",
              "\n",
              "  .colab-df-quickchart-complete:disabled,\n",
              "  .colab-df-quickchart-complete:disabled:hover {\n",
              "    background-color: var(--disabled-bg-color);\n",
              "    fill: var(--disabled-fill-color);\n",
              "    box-shadow: none;\n",
              "  }\n",
              "\n",
              "  .colab-df-spinner {\n",
              "    border: 2px solid var(--fill-color);\n",
              "    border-color: transparent;\n",
              "    border-bottom-color: var(--fill-color);\n",
              "    animation:\n",
              "      spin 1s steps(1) infinite;\n",
              "  }\n",
              "\n",
              "  @keyframes spin {\n",
              "    0% {\n",
              "      border-color: transparent;\n",
              "      border-bottom-color: var(--fill-color);\n",
              "      border-left-color: var(--fill-color);\n",
              "    }\n",
              "    20% {\n",
              "      border-color: transparent;\n",
              "      border-left-color: var(--fill-color);\n",
              "      border-top-color: var(--fill-color);\n",
              "    }\n",
              "    30% {\n",
              "      border-color: transparent;\n",
              "      border-left-color: var(--fill-color);\n",
              "      border-top-color: var(--fill-color);\n",
              "      border-right-color: var(--fill-color);\n",
              "    }\n",
              "    40% {\n",
              "      border-color: transparent;\n",
              "      border-right-color: var(--fill-color);\n",
              "      border-top-color: var(--fill-color);\n",
              "    }\n",
              "    60% {\n",
              "      border-color: transparent;\n",
              "      border-right-color: var(--fill-color);\n",
              "    }\n",
              "    80% {\n",
              "      border-color: transparent;\n",
              "      border-right-color: var(--fill-color);\n",
              "      border-bottom-color: var(--fill-color);\n",
              "    }\n",
              "    90% {\n",
              "      border-color: transparent;\n",
              "      border-bottom-color: var(--fill-color);\n",
              "    }\n",
              "  }\n",
              "</style>\n",
              "\n",
              "      <script>\n",
              "        async function quickchart(key) {\n",
              "          const quickchartButtonEl =\n",
              "            document.querySelector('#' + key + ' button');\n",
              "          quickchartButtonEl.disabled = true;  // To prevent multiple clicks.\n",
              "          quickchartButtonEl.classList.add('colab-df-spinner');\n",
              "          try {\n",
              "            const charts = await google.colab.kernel.invokeFunction(\n",
              "                'suggestCharts', [key], {});\n",
              "          } catch (error) {\n",
              "            console.error('Error during call to suggestCharts:', error);\n",
              "          }\n",
              "          quickchartButtonEl.classList.remove('colab-df-spinner');\n",
              "          quickchartButtonEl.classList.add('colab-df-quickchart-complete');\n",
              "        }\n",
              "        (() => {\n",
              "          let quickchartButtonEl =\n",
              "            document.querySelector('#df-23ce0af4-4126-42b9-9644-b2bc31a4501f button');\n",
              "          quickchartButtonEl.style.display =\n",
              "            google.colab.kernel.accessAllowed ? 'block' : 'none';\n",
              "        })();\n",
              "      </script>\n",
              "    </div>\n",
              "\n",
              "    </div>\n",
              "  </div>\n"
            ],
            "application/vnd.google.colaboratory.intrinsic+json": {
              "type": "dataframe",
              "summary": "{\n  \"name\": \"oo\",\n  \"rows\": 3,\n  \"fields\": [\n    {\n      \"column\": \"Year\",\n      \"properties\": {\n        \"dtype\": \"number\",\n        \"std\": 26,\n        \"min\": 1952,\n        \"max\": 2000,\n        \"num_unique_values\": 3,\n        \"samples\": [\n          1996,\n          1952,\n          2000\n        ],\n        \"semantic_type\": \"\",\n        \"description\": \"\"\n      }\n    },\n    {\n      \"column\": \"City\",\n      \"properties\": {\n        \"dtype\": \"string\",\n        \"num_unique_values\": 3,\n        \"samples\": [\n          \"Atlanta\",\n          \"Helsinki\",\n          \"Sydney\"\n        ],\n        \"semantic_type\": \"\",\n        \"description\": \"\"\n      }\n    },\n    {\n      \"column\": \"Sport\",\n      \"properties\": {\n        \"dtype\": \"string\",\n        \"num_unique_values\": 3,\n        \"samples\": [\n          \"Sailing\",\n          \"Fencing\",\n          \"Hockey\"\n        ],\n        \"semantic_type\": \"\",\n        \"description\": \"\"\n      }\n    },\n    {\n      \"column\": \"Discipline\",\n      \"properties\": {\n        \"dtype\": \"string\",\n        \"num_unique_values\": 3,\n        \"samples\": [\n          \"Sailing\",\n          \"Fencing\",\n          \"Hockey\"\n        ],\n        \"semantic_type\": \"\",\n        \"description\": \"\"\n      }\n    },\n    {\n      \"column\": \"Athlete Name\",\n      \"properties\": {\n        \"dtype\": \"string\",\n        \"num_unique_values\": 3,\n        \"samples\": [\n          \"PELLICANO, Kiko\",\n          \"MAGNUSSON, Lennart\",\n          \"HERNANDEZ, Maria de la Paz\"\n        ],\n        \"semantic_type\": \"\",\n        \"description\": \"\"\n      }\n    },\n    {\n      \"column\": \"NOC\",\n      \"properties\": {\n        \"dtype\": \"string\",\n        \"num_unique_values\": 3,\n        \"samples\": [\n          \"BRA\",\n          \"SWE\",\n          \"ARG\"\n        ],\n        \"semantic_type\": \"\",\n        \"description\": \"\"\n      }\n    },\n    {\n      \"column\": \"Gender\",\n      \"properties\": {\n        \"dtype\": \"category\",\n        \"num_unique_values\": 2,\n        \"samples\": [\n          \"Women\",\n          \"Men\"\n        ],\n        \"semantic_type\": \"\",\n        \"description\": \"\"\n      }\n    },\n    {\n      \"column\": \"Event\",\n      \"properties\": {\n        \"dtype\": \"string\",\n        \"num_unique_values\": 3,\n        \"samples\": [\n          \"Tornado - Multihull\",\n          \"\\u00e9p\\u00e9e team\"\n        ],\n        \"semantic_type\": \"\",\n        \"description\": \"\"\n      }\n    },\n    {\n      \"column\": \"Event Gender\",\n      \"properties\": {\n        \"dtype\": \"category\",\n        \"num_unique_values\": 3,\n        \"samples\": [\n          \"X\",\n          \"M\"\n        ],\n        \"semantic_type\": \"\",\n        \"description\": \"\"\n      }\n    },\n    {\n      \"column\": \"Medal\",\n      \"properties\": {\n        \"dtype\": \"category\",\n        \"num_unique_values\": 2,\n        \"samples\": [\n          \"Silver\",\n          \"Bronze\"\n        ],\n        \"semantic_type\": \"\",\n        \"description\": \"\"\n      }\n    }\n  ]\n}"
            }
          },
          "metadata": {},
          "execution_count": 4
        }
      ]
    },
    {
      "cell_type": "markdown",
      "source": [
        "**Get immediate feedback**"
      ],
      "metadata": {
        "id": "5BP1DH0bm6fn"
      }
    },
    {
      "cell_type": "code",
      "source": [
        "oo = preprocess()"
      ],
      "metadata": {
        "id": "kCnXvBcAm9cD"
      },
      "execution_count": null,
      "outputs": []
    },
    {
      "cell_type": "code",
      "source": [
        "oo.sample(3)"
      ],
      "metadata": {
        "id": "HZTxSp_xqZ0H"
      },
      "execution_count": null,
      "outputs": []
    },
    {
      "cell_type": "code",
      "source": [
        "oo = preprocess()\n",
        "oo.sample(3)"
      ],
      "metadata": {
        "id": "mxt4ISkDnUpd",
        "outputId": "b114cd04-1739-4a9f-84f6-ca4d00d4ff58",
        "colab": {
          "base_uri": "https://localhost:8080/",
          "height": 249
        }
      },
      "execution_count": 5,
      "outputs": [
        {
          "output_type": "stream",
          "name": "stdout",
          "text": [
            "Preprocessing olympics_1896_2004.csv ...\n",
            "\n"
          ]
        },
        {
          "output_type": "execute_result",
          "data": {
            "text/plain": [
              "       Year         City      Sport  Discipline          Athlete Name  NOC  \\\n",
              "10470  1960         Rome  Athletics   Athletics  BOSTON, Ralph Harold  USA   \n",
              "10265  1960         Rome     Rowing      Rowing           BILN, Sohen  CAN   \n",
              "6295   1932  Los Angeles   Aquatics  Water polo         IVÁDY, Sándor  HUN   \n",
              "\n",
              "      Gender                     Event Event Gender   Medal  \n",
              "10470    Men                 long jump            M    Gold  \n",
              "10265    Men  eight with coxswain (8+)            M  Silver  \n",
              "6295     Men                water polo            M    Gold  "
            ],
            "text/html": [
              "\n",
              "  <div id=\"df-cf88f31f-53d2-4899-a6e1-f11fd7719cce\" class=\"colab-df-container\">\n",
              "    <div>\n",
              "<style scoped>\n",
              "    .dataframe tbody tr th:only-of-type {\n",
              "        vertical-align: middle;\n",
              "    }\n",
              "\n",
              "    .dataframe tbody tr th {\n",
              "        vertical-align: top;\n",
              "    }\n",
              "\n",
              "    .dataframe thead th {\n",
              "        text-align: right;\n",
              "    }\n",
              "</style>\n",
              "<table border=\"1\" class=\"dataframe\">\n",
              "  <thead>\n",
              "    <tr style=\"text-align: right;\">\n",
              "      <th></th>\n",
              "      <th>Year</th>\n",
              "      <th>City</th>\n",
              "      <th>Sport</th>\n",
              "      <th>Discipline</th>\n",
              "      <th>Athlete Name</th>\n",
              "      <th>NOC</th>\n",
              "      <th>Gender</th>\n",
              "      <th>Event</th>\n",
              "      <th>Event Gender</th>\n",
              "      <th>Medal</th>\n",
              "    </tr>\n",
              "  </thead>\n",
              "  <tbody>\n",
              "    <tr>\n",
              "      <th>10470</th>\n",
              "      <td>1960</td>\n",
              "      <td>Rome</td>\n",
              "      <td>Athletics</td>\n",
              "      <td>Athletics</td>\n",
              "      <td>BOSTON, Ralph Harold</td>\n",
              "      <td>USA</td>\n",
              "      <td>Men</td>\n",
              "      <td>long jump</td>\n",
              "      <td>M</td>\n",
              "      <td>Gold</td>\n",
              "    </tr>\n",
              "    <tr>\n",
              "      <th>10265</th>\n",
              "      <td>1960</td>\n",
              "      <td>Rome</td>\n",
              "      <td>Rowing</td>\n",
              "      <td>Rowing</td>\n",
              "      <td>BILN, Sohen</td>\n",
              "      <td>CAN</td>\n",
              "      <td>Men</td>\n",
              "      <td>eight with coxswain (8+)</td>\n",
              "      <td>M</td>\n",
              "      <td>Silver</td>\n",
              "    </tr>\n",
              "    <tr>\n",
              "      <th>6295</th>\n",
              "      <td>1932</td>\n",
              "      <td>Los Angeles</td>\n",
              "      <td>Aquatics</td>\n",
              "      <td>Water polo</td>\n",
              "      <td>IVÁDY, Sándor</td>\n",
              "      <td>HUN</td>\n",
              "      <td>Men</td>\n",
              "      <td>water polo</td>\n",
              "      <td>M</td>\n",
              "      <td>Gold</td>\n",
              "    </tr>\n",
              "  </tbody>\n",
              "</table>\n",
              "</div>\n",
              "    <div class=\"colab-df-buttons\">\n",
              "\n",
              "  <div class=\"colab-df-container\">\n",
              "    <button class=\"colab-df-convert\" onclick=\"convertToInteractive('df-cf88f31f-53d2-4899-a6e1-f11fd7719cce')\"\n",
              "            title=\"Convert this dataframe to an interactive table.\"\n",
              "            style=\"display:none;\">\n",
              "\n",
              "  <svg xmlns=\"http://www.w3.org/2000/svg\" height=\"24px\" viewBox=\"0 -960 960 960\">\n",
              "    <path d=\"M120-120v-720h720v720H120Zm60-500h600v-160H180v160Zm220 220h160v-160H400v160Zm0 220h160v-160H400v160ZM180-400h160v-160H180v160Zm440 0h160v-160H620v160ZM180-180h160v-160H180v160Zm440 0h160v-160H620v160Z\"/>\n",
              "  </svg>\n",
              "    </button>\n",
              "\n",
              "  <style>\n",
              "    .colab-df-container {\n",
              "      display:flex;\n",
              "      gap: 12px;\n",
              "    }\n",
              "\n",
              "    .colab-df-convert {\n",
              "      background-color: #E8F0FE;\n",
              "      border: none;\n",
              "      border-radius: 50%;\n",
              "      cursor: pointer;\n",
              "      display: none;\n",
              "      fill: #1967D2;\n",
              "      height: 32px;\n",
              "      padding: 0 0 0 0;\n",
              "      width: 32px;\n",
              "    }\n",
              "\n",
              "    .colab-df-convert:hover {\n",
              "      background-color: #E2EBFA;\n",
              "      box-shadow: 0px 1px 2px rgba(60, 64, 67, 0.3), 0px 1px 3px 1px rgba(60, 64, 67, 0.15);\n",
              "      fill: #174EA6;\n",
              "    }\n",
              "\n",
              "    .colab-df-buttons div {\n",
              "      margin-bottom: 4px;\n",
              "    }\n",
              "\n",
              "    [theme=dark] .colab-df-convert {\n",
              "      background-color: #3B4455;\n",
              "      fill: #D2E3FC;\n",
              "    }\n",
              "\n",
              "    [theme=dark] .colab-df-convert:hover {\n",
              "      background-color: #434B5C;\n",
              "      box-shadow: 0px 1px 3px 1px rgba(0, 0, 0, 0.15);\n",
              "      filter: drop-shadow(0px 1px 2px rgba(0, 0, 0, 0.3));\n",
              "      fill: #FFFFFF;\n",
              "    }\n",
              "  </style>\n",
              "\n",
              "    <script>\n",
              "      const buttonEl =\n",
              "        document.querySelector('#df-cf88f31f-53d2-4899-a6e1-f11fd7719cce button.colab-df-convert');\n",
              "      buttonEl.style.display =\n",
              "        google.colab.kernel.accessAllowed ? 'block' : 'none';\n",
              "\n",
              "      async function convertToInteractive(key) {\n",
              "        const element = document.querySelector('#df-cf88f31f-53d2-4899-a6e1-f11fd7719cce');\n",
              "        const dataTable =\n",
              "          await google.colab.kernel.invokeFunction('convertToInteractive',\n",
              "                                                    [key], {});\n",
              "        if (!dataTable) return;\n",
              "\n",
              "        const docLinkHtml = 'Like what you see? Visit the ' +\n",
              "          '<a target=\"_blank\" href=https://colab.research.google.com/notebooks/data_table.ipynb>data table notebook</a>'\n",
              "          + ' to learn more about interactive tables.';\n",
              "        element.innerHTML = '';\n",
              "        dataTable['output_type'] = 'display_data';\n",
              "        await google.colab.output.renderOutput(dataTable, element);\n",
              "        const docLink = document.createElement('div');\n",
              "        docLink.innerHTML = docLinkHtml;\n",
              "        element.appendChild(docLink);\n",
              "      }\n",
              "    </script>\n",
              "  </div>\n",
              "\n",
              "\n",
              "    <div id=\"df-75c0f22b-f418-4240-98d7-99e9fa1b77e8\">\n",
              "      <button class=\"colab-df-quickchart\" onclick=\"quickchart('df-75c0f22b-f418-4240-98d7-99e9fa1b77e8')\"\n",
              "                title=\"Suggest charts\"\n",
              "                style=\"display:none;\">\n",
              "\n",
              "<svg xmlns=\"http://www.w3.org/2000/svg\" height=\"24px\"viewBox=\"0 0 24 24\"\n",
              "     width=\"24px\">\n",
              "    <g>\n",
              "        <path d=\"M19 3H5c-1.1 0-2 .9-2 2v14c0 1.1.9 2 2 2h14c1.1 0 2-.9 2-2V5c0-1.1-.9-2-2-2zM9 17H7v-7h2v7zm4 0h-2V7h2v10zm4 0h-2v-4h2v4z\"/>\n",
              "    </g>\n",
              "</svg>\n",
              "      </button>\n",
              "\n",
              "<style>\n",
              "  .colab-df-quickchart {\n",
              "      --bg-color: #E8F0FE;\n",
              "      --fill-color: #1967D2;\n",
              "      --hover-bg-color: #E2EBFA;\n",
              "      --hover-fill-color: #174EA6;\n",
              "      --disabled-fill-color: #AAA;\n",
              "      --disabled-bg-color: #DDD;\n",
              "  }\n",
              "\n",
              "  [theme=dark] .colab-df-quickchart {\n",
              "      --bg-color: #3B4455;\n",
              "      --fill-color: #D2E3FC;\n",
              "      --hover-bg-color: #434B5C;\n",
              "      --hover-fill-color: #FFFFFF;\n",
              "      --disabled-bg-color: #3B4455;\n",
              "      --disabled-fill-color: #666;\n",
              "  }\n",
              "\n",
              "  .colab-df-quickchart {\n",
              "    background-color: var(--bg-color);\n",
              "    border: none;\n",
              "    border-radius: 50%;\n",
              "    cursor: pointer;\n",
              "    display: none;\n",
              "    fill: var(--fill-color);\n",
              "    height: 32px;\n",
              "    padding: 0;\n",
              "    width: 32px;\n",
              "  }\n",
              "\n",
              "  .colab-df-quickchart:hover {\n",
              "    background-color: var(--hover-bg-color);\n",
              "    box-shadow: 0 1px 2px rgba(60, 64, 67, 0.3), 0 1px 3px 1px rgba(60, 64, 67, 0.15);\n",
              "    fill: var(--button-hover-fill-color);\n",
              "  }\n",
              "\n",
              "  .colab-df-quickchart-complete:disabled,\n",
              "  .colab-df-quickchart-complete:disabled:hover {\n",
              "    background-color: var(--disabled-bg-color);\n",
              "    fill: var(--disabled-fill-color);\n",
              "    box-shadow: none;\n",
              "  }\n",
              "\n",
              "  .colab-df-spinner {\n",
              "    border: 2px solid var(--fill-color);\n",
              "    border-color: transparent;\n",
              "    border-bottom-color: var(--fill-color);\n",
              "    animation:\n",
              "      spin 1s steps(1) infinite;\n",
              "  }\n",
              "\n",
              "  @keyframes spin {\n",
              "    0% {\n",
              "      border-color: transparent;\n",
              "      border-bottom-color: var(--fill-color);\n",
              "      border-left-color: var(--fill-color);\n",
              "    }\n",
              "    20% {\n",
              "      border-color: transparent;\n",
              "      border-left-color: var(--fill-color);\n",
              "      border-top-color: var(--fill-color);\n",
              "    }\n",
              "    30% {\n",
              "      border-color: transparent;\n",
              "      border-left-color: var(--fill-color);\n",
              "      border-top-color: var(--fill-color);\n",
              "      border-right-color: var(--fill-color);\n",
              "    }\n",
              "    40% {\n",
              "      border-color: transparent;\n",
              "      border-right-color: var(--fill-color);\n",
              "      border-top-color: var(--fill-color);\n",
              "    }\n",
              "    60% {\n",
              "      border-color: transparent;\n",
              "      border-right-color: var(--fill-color);\n",
              "    }\n",
              "    80% {\n",
              "      border-color: transparent;\n",
              "      border-right-color: var(--fill-color);\n",
              "      border-bottom-color: var(--fill-color);\n",
              "    }\n",
              "    90% {\n",
              "      border-color: transparent;\n",
              "      border-bottom-color: var(--fill-color);\n",
              "    }\n",
              "  }\n",
              "</style>\n",
              "\n",
              "      <script>\n",
              "        async function quickchart(key) {\n",
              "          const quickchartButtonEl =\n",
              "            document.querySelector('#' + key + ' button');\n",
              "          quickchartButtonEl.disabled = true;  // To prevent multiple clicks.\n",
              "          quickchartButtonEl.classList.add('colab-df-spinner');\n",
              "          try {\n",
              "            const charts = await google.colab.kernel.invokeFunction(\n",
              "                'suggestCharts', [key], {});\n",
              "          } catch (error) {\n",
              "            console.error('Error during call to suggestCharts:', error);\n",
              "          }\n",
              "          quickchartButtonEl.classList.remove('colab-df-spinner');\n",
              "          quickchartButtonEl.classList.add('colab-df-quickchart-complete');\n",
              "        }\n",
              "        (() => {\n",
              "          let quickchartButtonEl =\n",
              "            document.querySelector('#df-75c0f22b-f418-4240-98d7-99e9fa1b77e8 button');\n",
              "          quickchartButtonEl.style.display =\n",
              "            google.colab.kernel.accessAllowed ? 'block' : 'none';\n",
              "        })();\n",
              "      </script>\n",
              "    </div>\n",
              "\n",
              "    </div>\n",
              "  </div>\n"
            ],
            "application/vnd.google.colaboratory.intrinsic+json": {
              "type": "dataframe",
              "summary": "{\n  \"name\": \"oo\",\n  \"rows\": 3,\n  \"fields\": [\n    {\n      \"column\": \"Year\",\n      \"properties\": {\n        \"dtype\": \"number\",\n        \"std\": 16,\n        \"min\": 1932,\n        \"max\": 1960,\n        \"num_unique_values\": 2,\n        \"samples\": [\n          1932,\n          1960\n        ],\n        \"semantic_type\": \"\",\n        \"description\": \"\"\n      }\n    },\n    {\n      \"column\": \"City\",\n      \"properties\": {\n        \"dtype\": \"string\",\n        \"num_unique_values\": 2,\n        \"samples\": [\n          \"Los Angeles\",\n          \"Rome\"\n        ],\n        \"semantic_type\": \"\",\n        \"description\": \"\"\n      }\n    },\n    {\n      \"column\": \"Sport\",\n      \"properties\": {\n        \"dtype\": \"string\",\n        \"num_unique_values\": 3,\n        \"samples\": [\n          \"Athletics\",\n          \"Rowing\"\n        ],\n        \"semantic_type\": \"\",\n        \"description\": \"\"\n      }\n    },\n    {\n      \"column\": \"Discipline\",\n      \"properties\": {\n        \"dtype\": \"string\",\n        \"num_unique_values\": 3,\n        \"samples\": [\n          \"Athletics\",\n          \"Rowing\"\n        ],\n        \"semantic_type\": \"\",\n        \"description\": \"\"\n      }\n    },\n    {\n      \"column\": \"Athlete Name\",\n      \"properties\": {\n        \"dtype\": \"string\",\n        \"num_unique_values\": 3,\n        \"samples\": [\n          \"BOSTON, Ralph Harold\",\n          \"BILN, Sohen\"\n        ],\n        \"semantic_type\": \"\",\n        \"description\": \"\"\n      }\n    },\n    {\n      \"column\": \"NOC\",\n      \"properties\": {\n        \"dtype\": \"string\",\n        \"num_unique_values\": 3,\n        \"samples\": [\n          \"USA\",\n          \"CAN\"\n        ],\n        \"semantic_type\": \"\",\n        \"description\": \"\"\n      }\n    },\n    {\n      \"column\": \"Gender\",\n      \"properties\": {\n        \"dtype\": \"category\",\n        \"num_unique_values\": 1,\n        \"samples\": [\n          \"Men\"\n        ],\n        \"semantic_type\": \"\",\n        \"description\": \"\"\n      }\n    },\n    {\n      \"column\": \"Event\",\n      \"properties\": {\n        \"dtype\": \"string\",\n        \"num_unique_values\": 3,\n        \"samples\": [\n          \"long jump\"\n        ],\n        \"semantic_type\": \"\",\n        \"description\": \"\"\n      }\n    },\n    {\n      \"column\": \"Event Gender\",\n      \"properties\": {\n        \"dtype\": \"category\",\n        \"num_unique_values\": 1,\n        \"samples\": [\n          \"M\"\n        ],\n        \"semantic_type\": \"\",\n        \"description\": \"\"\n      }\n    },\n    {\n      \"column\": \"Medal\",\n      \"properties\": {\n        \"dtype\": \"category\",\n        \"num_unique_values\": 2,\n        \"samples\": [\n          \"Silver\"\n        ],\n        \"semantic_type\": \"\",\n        \"description\": \"\"\n      }\n    }\n  ]\n}"
            }
          },
          "metadata": {},
          "execution_count": 5
        }
      ]
    },
    {
      "cell_type": "markdown",
      "source": [
        "**Understand the basics of Python**"
      ],
      "metadata": {
        "id": "Ro0ieaQIcf9m"
      }
    },
    {
      "cell_type": "code",
      "source": [
        "dir(pd)"
      ],
      "metadata": {
        "id": "XKgsz5cVbbBs"
      },
      "execution_count": null,
      "outputs": []
    },
    {
      "cell_type": "code",
      "source": [
        "[func.upper() for func in dir(pd)]"
      ],
      "metadata": {
        "id": "vaTnK1HUcsda"
      },
      "execution_count": null,
      "outputs": []
    },
    {
      "cell_type": "markdown",
      "metadata": {
        "id": "hcg8ujl-mVeu"
      },
      "source": [
        "**Searching for method names**"
      ]
    },
    {
      "cell_type": "code",
      "execution_count": 6,
      "metadata": {
        "id": "H8vzfekQwqx4",
        "outputId": "ee595a11-da24-45b1-e9a5-a572b66b6ed5",
        "colab": {
          "base_uri": "https://localhost:8080/"
        }
      },
      "outputs": [
        {
          "output_type": "execute_result",
          "data": {
            "text/plain": [
              "['ExcelFile', 'ExcelWriter', 'read_excel']"
            ]
          },
          "metadata": {},
          "execution_count": 6
        }
      ],
      "source": [
        "import re\n",
        "import pandas as pd\n",
        "\n",
        "search_string = \"excel\"\n",
        "\n",
        "[func for func in dir(pd) if re.search(rf\"{search_string}\", func, re.IGNORECASE)]"
      ]
    },
    {
      "cell_type": "code",
      "source": [
        "pd.read_excel?"
      ],
      "metadata": {
        "id": "ryj0jvuKrEB-"
      },
      "execution_count": 7,
      "outputs": []
    },
    {
      "cell_type": "code",
      "source": [
        "[func\n",
        " for func in dir(pd)\n",
        " if re.search(rf\"{search_string}\", func, re.IGNORECASE)]"
      ],
      "metadata": {
        "id": "vlhzHMgqztPe",
        "outputId": "bdfcca15-c3ab-4641-cac3-25433a8e21b7",
        "colab": {
          "base_uri": "https://localhost:8080/"
        }
      },
      "execution_count": 8,
      "outputs": [
        {
          "output_type": "execute_result",
          "data": {
            "text/plain": [
              "['ExcelFile', 'ExcelWriter', 'read_excel']"
            ]
          },
          "metadata": {},
          "execution_count": 8
        }
      ]
    },
    {
      "cell_type": "markdown",
      "metadata": {
        "id": "ZeLHFbxnmZQf"
      },
      "source": [
        "**Documentation while staying in the IDE**"
      ]
    },
    {
      "cell_type": "code",
      "execution_count": 18,
      "metadata": {
        "id": "50S1wJpKxy3J"
      },
      "outputs": [],
      "source": [
        "pd.core.frame.DataFrame.drop?"
      ]
    },
    {
      "cell_type": "markdown",
      "metadata": {
        "id": "E4v0oobOmjYF"
      },
      "source": [
        "**head() vs. sample()**"
      ]
    },
    {
      "cell_type": "code",
      "execution_count": 9,
      "metadata": {
        "id": "K3BAxqULz_Ef",
        "outputId": "13a8ff9c-2877-4d4d-f4a1-1a36d4c961e6",
        "colab": {
          "base_uri": "https://localhost:8080/",
          "height": 178
        }
      },
      "outputs": [
        {
          "output_type": "execute_result",
          "data": {
            "text/plain": [
              "       Year    City      Sport Discipline          Athlete Name  NOC Gender  \\\n",
              "7850   1948  London    Fencing    Fencing         DARE, Gastone  ITA    Men   \n",
              "1186   1908  London  Athletics  Athletics          SHAW, Arthur  USA    Men   \n",
              "25622  2004  Athens       Judo       Judo  GRAVENSTIJN, Deborah  NED  Women   \n",
              "\n",
              "                         Event Event Gender   Medal  \n",
              "7850                sabre team            M  Silver  \n",
              "1186              110m hurdles            M  Bronze  \n",
              "25622  52 - 57kg (lightweight)            W  Bronze  "
            ],
            "text/html": [
              "\n",
              "  <div id=\"df-cadbf80c-2825-46b3-a9ea-2ecf2763acb4\" class=\"colab-df-container\">\n",
              "    <div>\n",
              "<style scoped>\n",
              "    .dataframe tbody tr th:only-of-type {\n",
              "        vertical-align: middle;\n",
              "    }\n",
              "\n",
              "    .dataframe tbody tr th {\n",
              "        vertical-align: top;\n",
              "    }\n",
              "\n",
              "    .dataframe thead th {\n",
              "        text-align: right;\n",
              "    }\n",
              "</style>\n",
              "<table border=\"1\" class=\"dataframe\">\n",
              "  <thead>\n",
              "    <tr style=\"text-align: right;\">\n",
              "      <th></th>\n",
              "      <th>Year</th>\n",
              "      <th>City</th>\n",
              "      <th>Sport</th>\n",
              "      <th>Discipline</th>\n",
              "      <th>Athlete Name</th>\n",
              "      <th>NOC</th>\n",
              "      <th>Gender</th>\n",
              "      <th>Event</th>\n",
              "      <th>Event Gender</th>\n",
              "      <th>Medal</th>\n",
              "    </tr>\n",
              "  </thead>\n",
              "  <tbody>\n",
              "    <tr>\n",
              "      <th>7850</th>\n",
              "      <td>1948</td>\n",
              "      <td>London</td>\n",
              "      <td>Fencing</td>\n",
              "      <td>Fencing</td>\n",
              "      <td>DARE, Gastone</td>\n",
              "      <td>ITA</td>\n",
              "      <td>Men</td>\n",
              "      <td>sabre team</td>\n",
              "      <td>M</td>\n",
              "      <td>Silver</td>\n",
              "    </tr>\n",
              "    <tr>\n",
              "      <th>1186</th>\n",
              "      <td>1908</td>\n",
              "      <td>London</td>\n",
              "      <td>Athletics</td>\n",
              "      <td>Athletics</td>\n",
              "      <td>SHAW, Arthur</td>\n",
              "      <td>USA</td>\n",
              "      <td>Men</td>\n",
              "      <td>110m hurdles</td>\n",
              "      <td>M</td>\n",
              "      <td>Bronze</td>\n",
              "    </tr>\n",
              "    <tr>\n",
              "      <th>25622</th>\n",
              "      <td>2004</td>\n",
              "      <td>Athens</td>\n",
              "      <td>Judo</td>\n",
              "      <td>Judo</td>\n",
              "      <td>GRAVENSTIJN, Deborah</td>\n",
              "      <td>NED</td>\n",
              "      <td>Women</td>\n",
              "      <td>52 - 57kg (lightweight)</td>\n",
              "      <td>W</td>\n",
              "      <td>Bronze</td>\n",
              "    </tr>\n",
              "  </tbody>\n",
              "</table>\n",
              "</div>\n",
              "    <div class=\"colab-df-buttons\">\n",
              "\n",
              "  <div class=\"colab-df-container\">\n",
              "    <button class=\"colab-df-convert\" onclick=\"convertToInteractive('df-cadbf80c-2825-46b3-a9ea-2ecf2763acb4')\"\n",
              "            title=\"Convert this dataframe to an interactive table.\"\n",
              "            style=\"display:none;\">\n",
              "\n",
              "  <svg xmlns=\"http://www.w3.org/2000/svg\" height=\"24px\" viewBox=\"0 -960 960 960\">\n",
              "    <path d=\"M120-120v-720h720v720H120Zm60-500h600v-160H180v160Zm220 220h160v-160H400v160Zm0 220h160v-160H400v160ZM180-400h160v-160H180v160Zm440 0h160v-160H620v160ZM180-180h160v-160H180v160Zm440 0h160v-160H620v160Z\"/>\n",
              "  </svg>\n",
              "    </button>\n",
              "\n",
              "  <style>\n",
              "    .colab-df-container {\n",
              "      display:flex;\n",
              "      gap: 12px;\n",
              "    }\n",
              "\n",
              "    .colab-df-convert {\n",
              "      background-color: #E8F0FE;\n",
              "      border: none;\n",
              "      border-radius: 50%;\n",
              "      cursor: pointer;\n",
              "      display: none;\n",
              "      fill: #1967D2;\n",
              "      height: 32px;\n",
              "      padding: 0 0 0 0;\n",
              "      width: 32px;\n",
              "    }\n",
              "\n",
              "    .colab-df-convert:hover {\n",
              "      background-color: #E2EBFA;\n",
              "      box-shadow: 0px 1px 2px rgba(60, 64, 67, 0.3), 0px 1px 3px 1px rgba(60, 64, 67, 0.15);\n",
              "      fill: #174EA6;\n",
              "    }\n",
              "\n",
              "    .colab-df-buttons div {\n",
              "      margin-bottom: 4px;\n",
              "    }\n",
              "\n",
              "    [theme=dark] .colab-df-convert {\n",
              "      background-color: #3B4455;\n",
              "      fill: #D2E3FC;\n",
              "    }\n",
              "\n",
              "    [theme=dark] .colab-df-convert:hover {\n",
              "      background-color: #434B5C;\n",
              "      box-shadow: 0px 1px 3px 1px rgba(0, 0, 0, 0.15);\n",
              "      filter: drop-shadow(0px 1px 2px rgba(0, 0, 0, 0.3));\n",
              "      fill: #FFFFFF;\n",
              "    }\n",
              "  </style>\n",
              "\n",
              "    <script>\n",
              "      const buttonEl =\n",
              "        document.querySelector('#df-cadbf80c-2825-46b3-a9ea-2ecf2763acb4 button.colab-df-convert');\n",
              "      buttonEl.style.display =\n",
              "        google.colab.kernel.accessAllowed ? 'block' : 'none';\n",
              "\n",
              "      async function convertToInteractive(key) {\n",
              "        const element = document.querySelector('#df-cadbf80c-2825-46b3-a9ea-2ecf2763acb4');\n",
              "        const dataTable =\n",
              "          await google.colab.kernel.invokeFunction('convertToInteractive',\n",
              "                                                    [key], {});\n",
              "        if (!dataTable) return;\n",
              "\n",
              "        const docLinkHtml = 'Like what you see? Visit the ' +\n",
              "          '<a target=\"_blank\" href=https://colab.research.google.com/notebooks/data_table.ipynb>data table notebook</a>'\n",
              "          + ' to learn more about interactive tables.';\n",
              "        element.innerHTML = '';\n",
              "        dataTable['output_type'] = 'display_data';\n",
              "        await google.colab.output.renderOutput(dataTable, element);\n",
              "        const docLink = document.createElement('div');\n",
              "        docLink.innerHTML = docLinkHtml;\n",
              "        element.appendChild(docLink);\n",
              "      }\n",
              "    </script>\n",
              "  </div>\n",
              "\n",
              "\n",
              "    <div id=\"df-cd769e6c-c1e0-4426-a4a0-3c2e0255b9a9\">\n",
              "      <button class=\"colab-df-quickchart\" onclick=\"quickchart('df-cd769e6c-c1e0-4426-a4a0-3c2e0255b9a9')\"\n",
              "                title=\"Suggest charts\"\n",
              "                style=\"display:none;\">\n",
              "\n",
              "<svg xmlns=\"http://www.w3.org/2000/svg\" height=\"24px\"viewBox=\"0 0 24 24\"\n",
              "     width=\"24px\">\n",
              "    <g>\n",
              "        <path d=\"M19 3H5c-1.1 0-2 .9-2 2v14c0 1.1.9 2 2 2h14c1.1 0 2-.9 2-2V5c0-1.1-.9-2-2-2zM9 17H7v-7h2v7zm4 0h-2V7h2v10zm4 0h-2v-4h2v4z\"/>\n",
              "    </g>\n",
              "</svg>\n",
              "      </button>\n",
              "\n",
              "<style>\n",
              "  .colab-df-quickchart {\n",
              "      --bg-color: #E8F0FE;\n",
              "      --fill-color: #1967D2;\n",
              "      --hover-bg-color: #E2EBFA;\n",
              "      --hover-fill-color: #174EA6;\n",
              "      --disabled-fill-color: #AAA;\n",
              "      --disabled-bg-color: #DDD;\n",
              "  }\n",
              "\n",
              "  [theme=dark] .colab-df-quickchart {\n",
              "      --bg-color: #3B4455;\n",
              "      --fill-color: #D2E3FC;\n",
              "      --hover-bg-color: #434B5C;\n",
              "      --hover-fill-color: #FFFFFF;\n",
              "      --disabled-bg-color: #3B4455;\n",
              "      --disabled-fill-color: #666;\n",
              "  }\n",
              "\n",
              "  .colab-df-quickchart {\n",
              "    background-color: var(--bg-color);\n",
              "    border: none;\n",
              "    border-radius: 50%;\n",
              "    cursor: pointer;\n",
              "    display: none;\n",
              "    fill: var(--fill-color);\n",
              "    height: 32px;\n",
              "    padding: 0;\n",
              "    width: 32px;\n",
              "  }\n",
              "\n",
              "  .colab-df-quickchart:hover {\n",
              "    background-color: var(--hover-bg-color);\n",
              "    box-shadow: 0 1px 2px rgba(60, 64, 67, 0.3), 0 1px 3px 1px rgba(60, 64, 67, 0.15);\n",
              "    fill: var(--button-hover-fill-color);\n",
              "  }\n",
              "\n",
              "  .colab-df-quickchart-complete:disabled,\n",
              "  .colab-df-quickchart-complete:disabled:hover {\n",
              "    background-color: var(--disabled-bg-color);\n",
              "    fill: var(--disabled-fill-color);\n",
              "    box-shadow: none;\n",
              "  }\n",
              "\n",
              "  .colab-df-spinner {\n",
              "    border: 2px solid var(--fill-color);\n",
              "    border-color: transparent;\n",
              "    border-bottom-color: var(--fill-color);\n",
              "    animation:\n",
              "      spin 1s steps(1) infinite;\n",
              "  }\n",
              "\n",
              "  @keyframes spin {\n",
              "    0% {\n",
              "      border-color: transparent;\n",
              "      border-bottom-color: var(--fill-color);\n",
              "      border-left-color: var(--fill-color);\n",
              "    }\n",
              "    20% {\n",
              "      border-color: transparent;\n",
              "      border-left-color: var(--fill-color);\n",
              "      border-top-color: var(--fill-color);\n",
              "    }\n",
              "    30% {\n",
              "      border-color: transparent;\n",
              "      border-left-color: var(--fill-color);\n",
              "      border-top-color: var(--fill-color);\n",
              "      border-right-color: var(--fill-color);\n",
              "    }\n",
              "    40% {\n",
              "      border-color: transparent;\n",
              "      border-right-color: var(--fill-color);\n",
              "      border-top-color: var(--fill-color);\n",
              "    }\n",
              "    60% {\n",
              "      border-color: transparent;\n",
              "      border-right-color: var(--fill-color);\n",
              "    }\n",
              "    80% {\n",
              "      border-color: transparent;\n",
              "      border-right-color: var(--fill-color);\n",
              "      border-bottom-color: var(--fill-color);\n",
              "    }\n",
              "    90% {\n",
              "      border-color: transparent;\n",
              "      border-bottom-color: var(--fill-color);\n",
              "    }\n",
              "  }\n",
              "</style>\n",
              "\n",
              "      <script>\n",
              "        async function quickchart(key) {\n",
              "          const quickchartButtonEl =\n",
              "            document.querySelector('#' + key + ' button');\n",
              "          quickchartButtonEl.disabled = true;  // To prevent multiple clicks.\n",
              "          quickchartButtonEl.classList.add('colab-df-spinner');\n",
              "          try {\n",
              "            const charts = await google.colab.kernel.invokeFunction(\n",
              "                'suggestCharts', [key], {});\n",
              "          } catch (error) {\n",
              "            console.error('Error during call to suggestCharts:', error);\n",
              "          }\n",
              "          quickchartButtonEl.classList.remove('colab-df-spinner');\n",
              "          quickchartButtonEl.classList.add('colab-df-quickchart-complete');\n",
              "        }\n",
              "        (() => {\n",
              "          let quickchartButtonEl =\n",
              "            document.querySelector('#df-cd769e6c-c1e0-4426-a4a0-3c2e0255b9a9 button');\n",
              "          quickchartButtonEl.style.display =\n",
              "            google.colab.kernel.accessAllowed ? 'block' : 'none';\n",
              "        })();\n",
              "      </script>\n",
              "    </div>\n",
              "\n",
              "    </div>\n",
              "  </div>\n"
            ],
            "application/vnd.google.colaboratory.intrinsic+json": {
              "type": "dataframe",
              "summary": "{\n  \"name\": \"oo\",\n  \"rows\": 3,\n  \"fields\": [\n    {\n      \"column\": \"Year\",\n      \"properties\": {\n        \"dtype\": \"number\",\n        \"std\": 48,\n        \"min\": 1908,\n        \"max\": 2004,\n        \"num_unique_values\": 3,\n        \"samples\": [\n          1948,\n          1908,\n          2004\n        ],\n        \"semantic_type\": \"\",\n        \"description\": \"\"\n      }\n    },\n    {\n      \"column\": \"City\",\n      \"properties\": {\n        \"dtype\": \"string\",\n        \"num_unique_values\": 2,\n        \"samples\": [\n          \"Athens\",\n          \"London\"\n        ],\n        \"semantic_type\": \"\",\n        \"description\": \"\"\n      }\n    },\n    {\n      \"column\": \"Sport\",\n      \"properties\": {\n        \"dtype\": \"string\",\n        \"num_unique_values\": 3,\n        \"samples\": [\n          \"Fencing\",\n          \"Athletics\"\n        ],\n        \"semantic_type\": \"\",\n        \"description\": \"\"\n      }\n    },\n    {\n      \"column\": \"Discipline\",\n      \"properties\": {\n        \"dtype\": \"string\",\n        \"num_unique_values\": 3,\n        \"samples\": [\n          \"Fencing\",\n          \"Athletics\"\n        ],\n        \"semantic_type\": \"\",\n        \"description\": \"\"\n      }\n    },\n    {\n      \"column\": \"Athlete Name\",\n      \"properties\": {\n        \"dtype\": \"string\",\n        \"num_unique_values\": 3,\n        \"samples\": [\n          \"DARE, Gastone\",\n          \"SHAW, Arthur\"\n        ],\n        \"semantic_type\": \"\",\n        \"description\": \"\"\n      }\n    },\n    {\n      \"column\": \"NOC\",\n      \"properties\": {\n        \"dtype\": \"string\",\n        \"num_unique_values\": 3,\n        \"samples\": [\n          \"ITA\",\n          \"USA\"\n        ],\n        \"semantic_type\": \"\",\n        \"description\": \"\"\n      }\n    },\n    {\n      \"column\": \"Gender\",\n      \"properties\": {\n        \"dtype\": \"string\",\n        \"num_unique_values\": 2,\n        \"samples\": [\n          \"Women\",\n          \"Men\"\n        ],\n        \"semantic_type\": \"\",\n        \"description\": \"\"\n      }\n    },\n    {\n      \"column\": \"Event\",\n      \"properties\": {\n        \"dtype\": \"string\",\n        \"num_unique_values\": 3,\n        \"samples\": [\n          \"sabre team\",\n          \"110m hurdles\"\n        ],\n        \"semantic_type\": \"\",\n        \"description\": \"\"\n      }\n    },\n    {\n      \"column\": \"Event Gender\",\n      \"properties\": {\n        \"dtype\": \"string\",\n        \"num_unique_values\": 2,\n        \"samples\": [\n          \"W\",\n          \"M\"\n        ],\n        \"semantic_type\": \"\",\n        \"description\": \"\"\n      }\n    },\n    {\n      \"column\": \"Medal\",\n      \"properties\": {\n        \"dtype\": \"string\",\n        \"num_unique_values\": 2,\n        \"samples\": [\n          \"Bronze\",\n          \"Silver\"\n        ],\n        \"semantic_type\": \"\",\n        \"description\": \"\"\n      }\n    }\n  ]\n}"
            }
          },
          "metadata": {},
          "execution_count": 9
        }
      ],
      "source": [
        "oo = (pd.read_csv(filename, skiprows=5)\n",
        "      .drop('Position', axis=1)\n",
        ")\n",
        "oo.sample(3)"
      ]
    },
    {
      "cell_type": "markdown",
      "metadata": {
        "id": "zXtT_AqrmpzE"
      },
      "source": [
        "**Functions to preprocess data. Modify the data, not the original files**"
      ]
    },
    {
      "cell_type": "code",
      "execution_count": null,
      "metadata": {
        "id": "T_SLXopI0S87"
      },
      "outputs": [],
      "source": [
        "def preprocess(filename):\n",
        "  \"\"\"Transform the data. Change the dataframe and not the original csv files\"\"\"\n",
        "  ...\n",
        "\n",
        "preprocess(filename)"
      ]
    },
    {
      "cell_type": "markdown",
      "metadata": {
        "id": "P_UymMfcmzh8"
      },
      "source": [
        "**Using python assert**"
      ]
    },
    {
      "cell_type": "code",
      "execution_count": null,
      "metadata": {
        "id": "cablAtbT0qAf"
      },
      "outputs": [],
      "source": [
        "oo[(oo.Year < 1896) & (oo.Year > 2004)].shape"
      ]
    },
    {
      "cell_type": "code",
      "execution_count": null,
      "metadata": {
        "id": "xYmXnSHq1ZVE"
      },
      "outputs": [],
      "source": [
        "oo[(oo.Year < 1896) & (oo.Year > 2004)].shape[0] == 0"
      ]
    },
    {
      "cell_type": "code",
      "execution_count": null,
      "metadata": {
        "id": "iCll2J2k5Imw"
      },
      "outputs": [],
      "source": [
        "assert(oo[(oo.Year < 1896) & (oo.Year > 2004)].shape[0] == 0)"
      ]
    },
    {
      "cell_type": "code",
      "execution_count": null,
      "metadata": {
        "id": "VxIi0y9y1dRn"
      },
      "outputs": [],
      "source": [
        "assert(oo[(oo.Year < 1896) & (oo.Year > 2004)].shape[0] == 0)\n",
        "print(\"All tests passed\")"
      ]
    },
    {
      "cell_type": "code",
      "execution_count": null,
      "metadata": {
        "id": "wxO2TQRG5Awz"
      },
      "outputs": [],
      "source": [
        "#assert(oo[(oo.Year < 1896) & (oo.Year > 2004)].shape[0] == (0, 10))\n",
        "#print(\"All tests passed\")"
      ]
    },
    {
      "cell_type": "markdown",
      "metadata": {
        "id": "jC4ahcAcnOot"
      },
      "source": [
        "**Chaining and splitting over several rows. No inplace=True**"
      ]
    },
    {
      "cell_type": "code",
      "execution_count": null,
      "metadata": {
        "id": "frTUBUC357py"
      },
      "outputs": [],
      "source": [
        "oo = pd.read_csv(filename, skiprows=5)\n",
        "oo = oo.drop('Position', axis=1)\n",
        "oo.head(3)"
      ]
    },
    {
      "cell_type": "code",
      "source": [
        "oo = (pd.read_csv(filename, skiprows=5)\n",
        "      .drop('Position', axis=1)\n",
        ")\n",
        "oo.head(3)"
      ],
      "metadata": {
        "id": "PChfl-uKoZC7"
      },
      "execution_count": null,
      "outputs": []
    },
    {
      "cell_type": "code",
      "execution_count": null,
      "metadata": {
        "id": "HKLzCINP_r-h"
      },
      "outputs": [],
      "source": [
        "last3 = pd.read_csv(filename, skiprows=5).sort_values(['Year', 'Athlete Name']).tail(3)\n",
        "last3"
      ]
    },
    {
      "cell_type": "code",
      "execution_count": null,
      "metadata": {
        "id": "JufCdeUYAAfi"
      },
      "outputs": [],
      "source": [
        "last3 = (pd.read_csv(filename, skiprows=5)\n",
        "        .sort_values(['Year', 'Athlete Name'])\n",
        "        .tail(3)\n",
        ")\n",
        "last3"
      ]
    },
    {
      "cell_type": "code",
      "execution_count": null,
      "metadata": {
        "id": "qPynmpjEAgNJ"
      },
      "outputs": [],
      "source": [
        "last3 = (pd.read_csv(filename, skiprows=5)\n",
        "#        .sort_values(['Year', 'Athlete Name'])\n",
        "        .tail(3)\n",
        ")\n",
        "last3"
      ]
    },
    {
      "cell_type": "markdown",
      "source": [
        "**isin()**"
      ],
      "metadata": {
        "id": "6UqKSsGOr_tV"
      }
    },
    {
      "cell_type": "code",
      "source": [
        "oo.Year.isin?"
      ],
      "metadata": {
        "id": "UIz-lkJ_xqVQ"
      },
      "execution_count": null,
      "outputs": []
    },
    {
      "cell_type": "code",
      "source": [
        "years_of_interest = [1972, 1980, 1984, 1992, 2000, 2004]"
      ],
      "metadata": {
        "id": "OCvhY0qYxCRd"
      },
      "execution_count": null,
      "outputs": []
    },
    {
      "cell_type": "code",
      "source": [
        "oo[oo.Year.isin(years_of_interest)]"
      ],
      "metadata": {
        "id": "COsacC9sr_R7"
      },
      "execution_count": null,
      "outputs": []
    },
    {
      "cell_type": "code",
      "source": [
        "oo[~oo.Year.isin(years_of_interest)]"
      ],
      "metadata": {
        "id": "KnnNeawWyGjI"
      },
      "execution_count": null,
      "outputs": []
    },
    {
      "cell_type": "markdown",
      "metadata": {
        "id": "FFNB7w6Kn4wQ"
      },
      "source": [
        "**Finding and dealing with missing values**"
      ]
    },
    {
      "cell_type": "code",
      "execution_count": null,
      "metadata": {
        "id": "OvZWEEl0mPpt"
      },
      "outputs": [],
      "source": [
        "oo.info()"
      ]
    },
    {
      "cell_type": "markdown",
      "metadata": {
        "id": "Z0rYN2NIPxNZ"
      },
      "source": [
        "## Creating Series and DataFrames"
      ]
    },
    {
      "cell_type": "code",
      "source": [
        "import pandas as pd"
      ],
      "metadata": {
        "id": "aV6MY1Xt0KXm"
      },
      "execution_count": null,
      "outputs": []
    },
    {
      "cell_type": "code",
      "execution_count": null,
      "metadata": {
        "id": "7JJx8J__NISg"
      },
      "outputs": [],
      "source": [
        "city = [\"London\", \"Rio\", \"Tokyo\"]\n",
        "start_date = [\"27th Jul, 2012\", \"5th Aug, 2016\", \"23rd July, 2021\"]"
      ]
    },
    {
      "cell_type": "code",
      "execution_count": null,
      "metadata": {
        "id": "wSq6TkwFp09e"
      },
      "outputs": [],
      "source": [
        "pd.Series(city)"
      ]
    },
    {
      "cell_type": "code",
      "execution_count": null,
      "metadata": {
        "id": "2enzKn6_b5Sp"
      },
      "outputs": [],
      "source": [
        "pd.DataFrame({\"City\": pd.Series(city),\n",
        "              \"Start Date\": pd.Series(start_date)})"
      ]
    },
    {
      "cell_type": "code",
      "execution_count": null,
      "metadata": {
        "id": "sQhbHFRCAhF5"
      },
      "outputs": [],
      "source": [
        "pd.DataFrame({\"City\": city,\n",
        "              \"Start Date\": start_date})"
      ]
    },
    {
      "cell_type": "code",
      "source": [
        "pd.DataFrame(zip(city, start_date))"
      ],
      "metadata": {
        "id": "5s9m1kYq2E1q"
      },
      "execution_count": null,
      "outputs": []
    },
    {
      "cell_type": "code",
      "execution_count": null,
      "metadata": {
        "id": "mbFN8_X5bJ7K"
      },
      "outputs": [],
      "source": [
        "pd.DataFrame(zip(city, start_date), columns=[\"City\", \"Start Date\"])"
      ]
    },
    {
      "cell_type": "markdown",
      "metadata": {
        "id": "mFDo3MYfd60y"
      },
      "source": [
        "## Working with dates"
      ]
    },
    {
      "cell_type": "code",
      "source": [
        "import pandas as pd"
      ],
      "metadata": {
        "id": "kv-qiZLQ2L4e"
      },
      "execution_count": null,
      "outputs": []
    },
    {
      "cell_type": "code",
      "execution_count": 19,
      "metadata": {
        "id": "tCe5g9CpfTda"
      },
      "outputs": [],
      "source": [
        "city = [\"London\", \"Rio\", \"Tokyo\"]\n",
        "start_date = [\"07-27-2012\", \"5th Aug, 2016\", \"23rd Jul, 2021\"]\n",
        "end_date = [\"12th Aug, 2012\", \"21-08-2016\", \"8th Aug, 2021\"]"
      ]
    },
    {
      "cell_type": "code",
      "execution_count": 20,
      "metadata": {
        "id": "rJMXpKQTdx-g",
        "outputId": "0794f6db-2824-493c-f4fd-9ac1118e9459",
        "colab": {
          "base_uri": "https://localhost:8080/",
          "height": 143
        }
      },
      "outputs": [
        {
          "output_type": "execute_result",
          "data": {
            "text/plain": [
              "     City      Start Date        End Date\n",
              "0  London      07-27-2012  12th Aug, 2012\n",
              "1     Rio   5th Aug, 2016      21-08-2016\n",
              "2   Tokyo  23rd Jul, 2021   8th Aug, 2021"
            ],
            "text/html": [
              "\n",
              "  <div id=\"df-754142cb-ca5b-4cba-b682-de66b8e1375b\" class=\"colab-df-container\">\n",
              "    <div>\n",
              "<style scoped>\n",
              "    .dataframe tbody tr th:only-of-type {\n",
              "        vertical-align: middle;\n",
              "    }\n",
              "\n",
              "    .dataframe tbody tr th {\n",
              "        vertical-align: top;\n",
              "    }\n",
              "\n",
              "    .dataframe thead th {\n",
              "        text-align: right;\n",
              "    }\n",
              "</style>\n",
              "<table border=\"1\" class=\"dataframe\">\n",
              "  <thead>\n",
              "    <tr style=\"text-align: right;\">\n",
              "      <th></th>\n",
              "      <th>City</th>\n",
              "      <th>Start Date</th>\n",
              "      <th>End Date</th>\n",
              "    </tr>\n",
              "  </thead>\n",
              "  <tbody>\n",
              "    <tr>\n",
              "      <th>0</th>\n",
              "      <td>London</td>\n",
              "      <td>07-27-2012</td>\n",
              "      <td>12th Aug, 2012</td>\n",
              "    </tr>\n",
              "    <tr>\n",
              "      <th>1</th>\n",
              "      <td>Rio</td>\n",
              "      <td>5th Aug, 2016</td>\n",
              "      <td>21-08-2016</td>\n",
              "    </tr>\n",
              "    <tr>\n",
              "      <th>2</th>\n",
              "      <td>Tokyo</td>\n",
              "      <td>23rd Jul, 2021</td>\n",
              "      <td>8th Aug, 2021</td>\n",
              "    </tr>\n",
              "  </tbody>\n",
              "</table>\n",
              "</div>\n",
              "    <div class=\"colab-df-buttons\">\n",
              "\n",
              "  <div class=\"colab-df-container\">\n",
              "    <button class=\"colab-df-convert\" onclick=\"convertToInteractive('df-754142cb-ca5b-4cba-b682-de66b8e1375b')\"\n",
              "            title=\"Convert this dataframe to an interactive table.\"\n",
              "            style=\"display:none;\">\n",
              "\n",
              "  <svg xmlns=\"http://www.w3.org/2000/svg\" height=\"24px\" viewBox=\"0 -960 960 960\">\n",
              "    <path d=\"M120-120v-720h720v720H120Zm60-500h600v-160H180v160Zm220 220h160v-160H400v160Zm0 220h160v-160H400v160ZM180-400h160v-160H180v160Zm440 0h160v-160H620v160ZM180-180h160v-160H180v160Zm440 0h160v-160H620v160Z\"/>\n",
              "  </svg>\n",
              "    </button>\n",
              "\n",
              "  <style>\n",
              "    .colab-df-container {\n",
              "      display:flex;\n",
              "      gap: 12px;\n",
              "    }\n",
              "\n",
              "    .colab-df-convert {\n",
              "      background-color: #E8F0FE;\n",
              "      border: none;\n",
              "      border-radius: 50%;\n",
              "      cursor: pointer;\n",
              "      display: none;\n",
              "      fill: #1967D2;\n",
              "      height: 32px;\n",
              "      padding: 0 0 0 0;\n",
              "      width: 32px;\n",
              "    }\n",
              "\n",
              "    .colab-df-convert:hover {\n",
              "      background-color: #E2EBFA;\n",
              "      box-shadow: 0px 1px 2px rgba(60, 64, 67, 0.3), 0px 1px 3px 1px rgba(60, 64, 67, 0.15);\n",
              "      fill: #174EA6;\n",
              "    }\n",
              "\n",
              "    .colab-df-buttons div {\n",
              "      margin-bottom: 4px;\n",
              "    }\n",
              "\n",
              "    [theme=dark] .colab-df-convert {\n",
              "      background-color: #3B4455;\n",
              "      fill: #D2E3FC;\n",
              "    }\n",
              "\n",
              "    [theme=dark] .colab-df-convert:hover {\n",
              "      background-color: #434B5C;\n",
              "      box-shadow: 0px 1px 3px 1px rgba(0, 0, 0, 0.15);\n",
              "      filter: drop-shadow(0px 1px 2px rgba(0, 0, 0, 0.3));\n",
              "      fill: #FFFFFF;\n",
              "    }\n",
              "  </style>\n",
              "\n",
              "    <script>\n",
              "      const buttonEl =\n",
              "        document.querySelector('#df-754142cb-ca5b-4cba-b682-de66b8e1375b button.colab-df-convert');\n",
              "      buttonEl.style.display =\n",
              "        google.colab.kernel.accessAllowed ? 'block' : 'none';\n",
              "\n",
              "      async function convertToInteractive(key) {\n",
              "        const element = document.querySelector('#df-754142cb-ca5b-4cba-b682-de66b8e1375b');\n",
              "        const dataTable =\n",
              "          await google.colab.kernel.invokeFunction('convertToInteractive',\n",
              "                                                    [key], {});\n",
              "        if (!dataTable) return;\n",
              "\n",
              "        const docLinkHtml = 'Like what you see? Visit the ' +\n",
              "          '<a target=\"_blank\" href=https://colab.research.google.com/notebooks/data_table.ipynb>data table notebook</a>'\n",
              "          + ' to learn more about interactive tables.';\n",
              "        element.innerHTML = '';\n",
              "        dataTable['output_type'] = 'display_data';\n",
              "        await google.colab.output.renderOutput(dataTable, element);\n",
              "        const docLink = document.createElement('div');\n",
              "        docLink.innerHTML = docLinkHtml;\n",
              "        element.appendChild(docLink);\n",
              "      }\n",
              "    </script>\n",
              "  </div>\n",
              "\n",
              "\n",
              "    <div id=\"df-91d9750c-2f84-4c69-8a3a-69984dd30bd1\">\n",
              "      <button class=\"colab-df-quickchart\" onclick=\"quickchart('df-91d9750c-2f84-4c69-8a3a-69984dd30bd1')\"\n",
              "                title=\"Suggest charts\"\n",
              "                style=\"display:none;\">\n",
              "\n",
              "<svg xmlns=\"http://www.w3.org/2000/svg\" height=\"24px\"viewBox=\"0 0 24 24\"\n",
              "     width=\"24px\">\n",
              "    <g>\n",
              "        <path d=\"M19 3H5c-1.1 0-2 .9-2 2v14c0 1.1.9 2 2 2h14c1.1 0 2-.9 2-2V5c0-1.1-.9-2-2-2zM9 17H7v-7h2v7zm4 0h-2V7h2v10zm4 0h-2v-4h2v4z\"/>\n",
              "    </g>\n",
              "</svg>\n",
              "      </button>\n",
              "\n",
              "<style>\n",
              "  .colab-df-quickchart {\n",
              "      --bg-color: #E8F0FE;\n",
              "      --fill-color: #1967D2;\n",
              "      --hover-bg-color: #E2EBFA;\n",
              "      --hover-fill-color: #174EA6;\n",
              "      --disabled-fill-color: #AAA;\n",
              "      --disabled-bg-color: #DDD;\n",
              "  }\n",
              "\n",
              "  [theme=dark] .colab-df-quickchart {\n",
              "      --bg-color: #3B4455;\n",
              "      --fill-color: #D2E3FC;\n",
              "      --hover-bg-color: #434B5C;\n",
              "      --hover-fill-color: #FFFFFF;\n",
              "      --disabled-bg-color: #3B4455;\n",
              "      --disabled-fill-color: #666;\n",
              "  }\n",
              "\n",
              "  .colab-df-quickchart {\n",
              "    background-color: var(--bg-color);\n",
              "    border: none;\n",
              "    border-radius: 50%;\n",
              "    cursor: pointer;\n",
              "    display: none;\n",
              "    fill: var(--fill-color);\n",
              "    height: 32px;\n",
              "    padding: 0;\n",
              "    width: 32px;\n",
              "  }\n",
              "\n",
              "  .colab-df-quickchart:hover {\n",
              "    background-color: var(--hover-bg-color);\n",
              "    box-shadow: 0 1px 2px rgba(60, 64, 67, 0.3), 0 1px 3px 1px rgba(60, 64, 67, 0.15);\n",
              "    fill: var(--button-hover-fill-color);\n",
              "  }\n",
              "\n",
              "  .colab-df-quickchart-complete:disabled,\n",
              "  .colab-df-quickchart-complete:disabled:hover {\n",
              "    background-color: var(--disabled-bg-color);\n",
              "    fill: var(--disabled-fill-color);\n",
              "    box-shadow: none;\n",
              "  }\n",
              "\n",
              "  .colab-df-spinner {\n",
              "    border: 2px solid var(--fill-color);\n",
              "    border-color: transparent;\n",
              "    border-bottom-color: var(--fill-color);\n",
              "    animation:\n",
              "      spin 1s steps(1) infinite;\n",
              "  }\n",
              "\n",
              "  @keyframes spin {\n",
              "    0% {\n",
              "      border-color: transparent;\n",
              "      border-bottom-color: var(--fill-color);\n",
              "      border-left-color: var(--fill-color);\n",
              "    }\n",
              "    20% {\n",
              "      border-color: transparent;\n",
              "      border-left-color: var(--fill-color);\n",
              "      border-top-color: var(--fill-color);\n",
              "    }\n",
              "    30% {\n",
              "      border-color: transparent;\n",
              "      border-left-color: var(--fill-color);\n",
              "      border-top-color: var(--fill-color);\n",
              "      border-right-color: var(--fill-color);\n",
              "    }\n",
              "    40% {\n",
              "      border-color: transparent;\n",
              "      border-right-color: var(--fill-color);\n",
              "      border-top-color: var(--fill-color);\n",
              "    }\n",
              "    60% {\n",
              "      border-color: transparent;\n",
              "      border-right-color: var(--fill-color);\n",
              "    }\n",
              "    80% {\n",
              "      border-color: transparent;\n",
              "      border-right-color: var(--fill-color);\n",
              "      border-bottom-color: var(--fill-color);\n",
              "    }\n",
              "    90% {\n",
              "      border-color: transparent;\n",
              "      border-bottom-color: var(--fill-color);\n",
              "    }\n",
              "  }\n",
              "</style>\n",
              "\n",
              "      <script>\n",
              "        async function quickchart(key) {\n",
              "          const quickchartButtonEl =\n",
              "            document.querySelector('#' + key + ' button');\n",
              "          quickchartButtonEl.disabled = true;  // To prevent multiple clicks.\n",
              "          quickchartButtonEl.classList.add('colab-df-spinner');\n",
              "          try {\n",
              "            const charts = await google.colab.kernel.invokeFunction(\n",
              "                'suggestCharts', [key], {});\n",
              "          } catch (error) {\n",
              "            console.error('Error during call to suggestCharts:', error);\n",
              "          }\n",
              "          quickchartButtonEl.classList.remove('colab-df-spinner');\n",
              "          quickchartButtonEl.classList.add('colab-df-quickchart-complete');\n",
              "        }\n",
              "        (() => {\n",
              "          let quickchartButtonEl =\n",
              "            document.querySelector('#df-91d9750c-2f84-4c69-8a3a-69984dd30bd1 button');\n",
              "          quickchartButtonEl.style.display =\n",
              "            google.colab.kernel.accessAllowed ? 'block' : 'none';\n",
              "        })();\n",
              "      </script>\n",
              "    </div>\n",
              "\n",
              "  <div id=\"id_a6624980-78f9-44b3-b8fe-ff261114b741\">\n",
              "    <style>\n",
              "      .colab-df-generate {\n",
              "        background-color: #E8F0FE;\n",
              "        border: none;\n",
              "        border-radius: 50%;\n",
              "        cursor: pointer;\n",
              "        display: none;\n",
              "        fill: #1967D2;\n",
              "        height: 32px;\n",
              "        padding: 0 0 0 0;\n",
              "        width: 32px;\n",
              "      }\n",
              "\n",
              "      .colab-df-generate:hover {\n",
              "        background-color: #E2EBFA;\n",
              "        box-shadow: 0px 1px 2px rgba(60, 64, 67, 0.3), 0px 1px 3px 1px rgba(60, 64, 67, 0.15);\n",
              "        fill: #174EA6;\n",
              "      }\n",
              "\n",
              "      [theme=dark] .colab-df-generate {\n",
              "        background-color: #3B4455;\n",
              "        fill: #D2E3FC;\n",
              "      }\n",
              "\n",
              "      [theme=dark] .colab-df-generate:hover {\n",
              "        background-color: #434B5C;\n",
              "        box-shadow: 0px 1px 3px 1px rgba(0, 0, 0, 0.15);\n",
              "        filter: drop-shadow(0px 1px 2px rgba(0, 0, 0, 0.3));\n",
              "        fill: #FFFFFF;\n",
              "      }\n",
              "    </style>\n",
              "    <button class=\"colab-df-generate\" onclick=\"generateWithVariable('games')\"\n",
              "            title=\"Generate code using this dataframe.\"\n",
              "            style=\"display:none;\">\n",
              "\n",
              "  <svg xmlns=\"http://www.w3.org/2000/svg\" height=\"24px\"viewBox=\"0 0 24 24\"\n",
              "       width=\"24px\">\n",
              "    <path d=\"M7,19H8.4L18.45,9,17,7.55,7,17.6ZM5,21V16.75L18.45,3.32a2,2,0,0,1,2.83,0l1.4,1.43a1.91,1.91,0,0,1,.58,1.4,1.91,1.91,0,0,1-.58,1.4L9.25,21ZM18.45,9,17,7.55Zm-12,3A5.31,5.31,0,0,0,4.9,8.1,5.31,5.31,0,0,0,1,6.5,5.31,5.31,0,0,0,4.9,4.9,5.31,5.31,0,0,0,6.5,1,5.31,5.31,0,0,0,8.1,4.9,5.31,5.31,0,0,0,12,6.5,5.46,5.46,0,0,0,6.5,12Z\"/>\n",
              "  </svg>\n",
              "    </button>\n",
              "    <script>\n",
              "      (() => {\n",
              "      const buttonEl =\n",
              "        document.querySelector('#id_a6624980-78f9-44b3-b8fe-ff261114b741 button.colab-df-generate');\n",
              "      buttonEl.style.display =\n",
              "        google.colab.kernel.accessAllowed ? 'block' : 'none';\n",
              "\n",
              "      buttonEl.onclick = () => {\n",
              "        google.colab.notebook.generateWithVariable('games');\n",
              "      }\n",
              "      })();\n",
              "    </script>\n",
              "  </div>\n",
              "\n",
              "    </div>\n",
              "  </div>\n"
            ],
            "application/vnd.google.colaboratory.intrinsic+json": {
              "type": "dataframe",
              "variable_name": "games",
              "summary": "{\n  \"name\": \"games\",\n  \"rows\": 3,\n  \"fields\": [\n    {\n      \"column\": \"City\",\n      \"properties\": {\n        \"dtype\": \"string\",\n        \"num_unique_values\": 3,\n        \"samples\": [\n          \"London\",\n          \"Rio\",\n          \"Tokyo\"\n        ],\n        \"semantic_type\": \"\",\n        \"description\": \"\"\n      }\n    },\n    {\n      \"column\": \"Start Date\",\n      \"properties\": {\n        \"dtype\": \"string\",\n        \"num_unique_values\": 3,\n        \"samples\": [\n          \"07-27-2012\",\n          \"5th Aug, 2016\",\n          \"23rd Jul, 2021\"\n        ],\n        \"semantic_type\": \"\",\n        \"description\": \"\"\n      }\n    },\n    {\n      \"column\": \"End Date\",\n      \"properties\": {\n        \"dtype\": \"string\",\n        \"num_unique_values\": 3,\n        \"samples\": [\n          \"12th Aug, 2012\",\n          \"21-08-2016\",\n          \"8th Aug, 2021\"\n        ],\n        \"semantic_type\": \"\",\n        \"description\": \"\"\n      }\n    }\n  ]\n}"
            }
          },
          "metadata": {},
          "execution_count": 20
        }
      ],
      "source": [
        "games = pd.DataFrame(zip(city, start_date, end_date), columns=[\"City\", \"Start Date\", \"End Date\"])\n",
        "games"
      ]
    },
    {
      "cell_type": "code",
      "execution_count": 21,
      "metadata": {
        "id": "GmCoDvSyd_C6",
        "outputId": "40a7cd50-d49d-45ce-8c82-c1dd1cdce75b",
        "colab": {
          "base_uri": "https://localhost:8080/",
          "height": 178
        }
      },
      "outputs": [
        {
          "output_type": "execute_result",
          "data": {
            "text/plain": [
              "City          object\n",
              "Start Date    object\n",
              "End Date      object\n",
              "dtype: object"
            ],
            "text/html": [
              "<div>\n",
              "<style scoped>\n",
              "    .dataframe tbody tr th:only-of-type {\n",
              "        vertical-align: middle;\n",
              "    }\n",
              "\n",
              "    .dataframe tbody tr th {\n",
              "        vertical-align: top;\n",
              "    }\n",
              "\n",
              "    .dataframe thead th {\n",
              "        text-align: right;\n",
              "    }\n",
              "</style>\n",
              "<table border=\"1\" class=\"dataframe\">\n",
              "  <thead>\n",
              "    <tr style=\"text-align: right;\">\n",
              "      <th></th>\n",
              "      <th>0</th>\n",
              "    </tr>\n",
              "  </thead>\n",
              "  <tbody>\n",
              "    <tr>\n",
              "      <th>City</th>\n",
              "      <td>object</td>\n",
              "    </tr>\n",
              "    <tr>\n",
              "      <th>Start Date</th>\n",
              "      <td>object</td>\n",
              "    </tr>\n",
              "    <tr>\n",
              "      <th>End Date</th>\n",
              "      <td>object</td>\n",
              "    </tr>\n",
              "  </tbody>\n",
              "</table>\n",
              "</div><br><label><b>dtype:</b> object</label>"
            ]
          },
          "metadata": {},
          "execution_count": 21
        }
      ],
      "source": [
        "games.dtypes"
      ]
    },
    {
      "cell_type": "code",
      "execution_count": 22,
      "metadata": {
        "id": "Wz1bAV3SeCk_",
        "outputId": "fe1074d1-ae7a-436d-e2a5-cc24fcb848c7",
        "colab": {
          "base_uri": "https://localhost:8080/"
        }
      },
      "outputs": [
        {
          "output_type": "execute_result",
          "data": {
            "text/plain": [
              "['DateOffset',\n",
              " 'DatetimeIndex',\n",
              " 'DatetimeTZDtype',\n",
              " '_pandas_datetime_CAPI',\n",
              " 'bdate_range',\n",
              " 'date_range',\n",
              " 'to_datetime']"
            ]
          },
          "metadata": {},
          "execution_count": 22
        }
      ],
      "source": [
        "import re\n",
        "import pandas as pd\n",
        "\n",
        "search_string = \"date\"\n",
        "\n",
        "[func for func in dir(pd) if re.search(rf\"{search_string}\", func, re.IGNORECASE)]"
      ]
    },
    {
      "cell_type": "code",
      "source": [
        "pd.to_datetime?"
      ],
      "metadata": {
        "id": "orEyvILk6ueE"
      },
      "execution_count": 23,
      "outputs": []
    },
    {
      "cell_type": "code",
      "execution_count": null,
      "metadata": {
        "id": "rD15NL_veS6L"
      },
      "outputs": [],
      "source": [
        "#pd.to_datetime(games[\"Start Date\"])"
      ]
    },
    {
      "cell_type": "code",
      "source": [
        "pd.to_datetime(games[\"Start Date\"], format='mixed')"
      ],
      "metadata": {
        "id": "bp1qfHo28QoH"
      },
      "execution_count": null,
      "outputs": []
    },
    {
      "cell_type": "code",
      "execution_count": null,
      "metadata": {
        "id": "85602zibeibf"
      },
      "outputs": [],
      "source": [
        "games[\"Start Date\"] = pd.to_datetime(games[\"Start Date\"], format='mixed')\n",
        "games[\"End Date\"] = pd.to_datetime(games[\"End Date\"], format='mixed')\n",
        "games[\"City\"] = games.City.astype(\"string\")\n",
        "games"
      ]
    },
    {
      "cell_type": "code",
      "execution_count": null,
      "metadata": {
        "id": "ZvB1OP3Xen30"
      },
      "outputs": [],
      "source": [
        "games.dtypes"
      ]
    },
    {
      "cell_type": "code",
      "execution_count": null,
      "metadata": {
        "id": "vyq0kyJRiVcV"
      },
      "outputs": [],
      "source": [
        "games[\"End Date\"]"
      ]
    },
    {
      "cell_type": "code",
      "execution_count": null,
      "metadata": {
        "id": "jYSyhes9iXYh"
      },
      "outputs": [],
      "source": [
        "games[\"Start Date\"]"
      ]
    },
    {
      "cell_type": "code",
      "execution_count": null,
      "metadata": {
        "id": "BiCTrRtth_75"
      },
      "outputs": [],
      "source": [
        "games[\"End Date\"] - games[\"Start Date\"]"
      ]
    },
    {
      "cell_type": "code",
      "execution_count": null,
      "metadata": {
        "id": "JniIyVA-jDeN"
      },
      "outputs": [],
      "source": [
        "games = games.assign(duration=games[\"End Date\"] - games[\"Start Date\"])\n",
        "games"
      ]
    },
    {
      "cell_type": "code",
      "execution_count": null,
      "metadata": {
        "id": "8ePDtaiqjljJ"
      },
      "outputs": [],
      "source": [
        "games.dtypes"
      ]
    },
    {
      "cell_type": "markdown",
      "metadata": {
        "id": "bU802QvxZOh_"
      },
      "source": [
        "## Combining DataFrames"
      ]
    },
    {
      "cell_type": "code",
      "source": [
        "import pandas as pd"
      ],
      "metadata": {
        "id": "uAHilytz_xAs"
      },
      "execution_count": 24,
      "outputs": []
    },
    {
      "cell_type": "code",
      "execution_count": 25,
      "metadata": {
        "id": "Bfn4C3ZTdOIC",
        "outputId": "7efbe044-1cee-4b01-a028-f45bd824b279",
        "colab": {
          "base_uri": "https://localhost:8080/",
          "height": 143
        }
      },
      "outputs": [
        {
          "output_type": "execute_result",
          "data": {
            "text/plain": [
              "     city       start_date\n",
              "0  London   27th Jul, 2012\n",
              "1     Rio    5th Aug, 2016\n",
              "2   Tokyo  23rd July, 2021"
            ],
            "text/html": [
              "\n",
              "  <div id=\"df-48ad2afa-57e0-47e5-91a3-1c2783087bab\" class=\"colab-df-container\">\n",
              "    <div>\n",
              "<style scoped>\n",
              "    .dataframe tbody tr th:only-of-type {\n",
              "        vertical-align: middle;\n",
              "    }\n",
              "\n",
              "    .dataframe tbody tr th {\n",
              "        vertical-align: top;\n",
              "    }\n",
              "\n",
              "    .dataframe thead th {\n",
              "        text-align: right;\n",
              "    }\n",
              "</style>\n",
              "<table border=\"1\" class=\"dataframe\">\n",
              "  <thead>\n",
              "    <tr style=\"text-align: right;\">\n",
              "      <th></th>\n",
              "      <th>city</th>\n",
              "      <th>start_date</th>\n",
              "    </tr>\n",
              "  </thead>\n",
              "  <tbody>\n",
              "    <tr>\n",
              "      <th>0</th>\n",
              "      <td>London</td>\n",
              "      <td>27th Jul, 2012</td>\n",
              "    </tr>\n",
              "    <tr>\n",
              "      <th>1</th>\n",
              "      <td>Rio</td>\n",
              "      <td>5th Aug, 2016</td>\n",
              "    </tr>\n",
              "    <tr>\n",
              "      <th>2</th>\n",
              "      <td>Tokyo</td>\n",
              "      <td>23rd July, 2021</td>\n",
              "    </tr>\n",
              "  </tbody>\n",
              "</table>\n",
              "</div>\n",
              "    <div class=\"colab-df-buttons\">\n",
              "\n",
              "  <div class=\"colab-df-container\">\n",
              "    <button class=\"colab-df-convert\" onclick=\"convertToInteractive('df-48ad2afa-57e0-47e5-91a3-1c2783087bab')\"\n",
              "            title=\"Convert this dataframe to an interactive table.\"\n",
              "            style=\"display:none;\">\n",
              "\n",
              "  <svg xmlns=\"http://www.w3.org/2000/svg\" height=\"24px\" viewBox=\"0 -960 960 960\">\n",
              "    <path d=\"M120-120v-720h720v720H120Zm60-500h600v-160H180v160Zm220 220h160v-160H400v160Zm0 220h160v-160H400v160ZM180-400h160v-160H180v160Zm440 0h160v-160H620v160ZM180-180h160v-160H180v160Zm440 0h160v-160H620v160Z\"/>\n",
              "  </svg>\n",
              "    </button>\n",
              "\n",
              "  <style>\n",
              "    .colab-df-container {\n",
              "      display:flex;\n",
              "      gap: 12px;\n",
              "    }\n",
              "\n",
              "    .colab-df-convert {\n",
              "      background-color: #E8F0FE;\n",
              "      border: none;\n",
              "      border-radius: 50%;\n",
              "      cursor: pointer;\n",
              "      display: none;\n",
              "      fill: #1967D2;\n",
              "      height: 32px;\n",
              "      padding: 0 0 0 0;\n",
              "      width: 32px;\n",
              "    }\n",
              "\n",
              "    .colab-df-convert:hover {\n",
              "      background-color: #E2EBFA;\n",
              "      box-shadow: 0px 1px 2px rgba(60, 64, 67, 0.3), 0px 1px 3px 1px rgba(60, 64, 67, 0.15);\n",
              "      fill: #174EA6;\n",
              "    }\n",
              "\n",
              "    .colab-df-buttons div {\n",
              "      margin-bottom: 4px;\n",
              "    }\n",
              "\n",
              "    [theme=dark] .colab-df-convert {\n",
              "      background-color: #3B4455;\n",
              "      fill: #D2E3FC;\n",
              "    }\n",
              "\n",
              "    [theme=dark] .colab-df-convert:hover {\n",
              "      background-color: #434B5C;\n",
              "      box-shadow: 0px 1px 3px 1px rgba(0, 0, 0, 0.15);\n",
              "      filter: drop-shadow(0px 1px 2px rgba(0, 0, 0, 0.3));\n",
              "      fill: #FFFFFF;\n",
              "    }\n",
              "  </style>\n",
              "\n",
              "    <script>\n",
              "      const buttonEl =\n",
              "        document.querySelector('#df-48ad2afa-57e0-47e5-91a3-1c2783087bab button.colab-df-convert');\n",
              "      buttonEl.style.display =\n",
              "        google.colab.kernel.accessAllowed ? 'block' : 'none';\n",
              "\n",
              "      async function convertToInteractive(key) {\n",
              "        const element = document.querySelector('#df-48ad2afa-57e0-47e5-91a3-1c2783087bab');\n",
              "        const dataTable =\n",
              "          await google.colab.kernel.invokeFunction('convertToInteractive',\n",
              "                                                    [key], {});\n",
              "        if (!dataTable) return;\n",
              "\n",
              "        const docLinkHtml = 'Like what you see? Visit the ' +\n",
              "          '<a target=\"_blank\" href=https://colab.research.google.com/notebooks/data_table.ipynb>data table notebook</a>'\n",
              "          + ' to learn more about interactive tables.';\n",
              "        element.innerHTML = '';\n",
              "        dataTable['output_type'] = 'display_data';\n",
              "        await google.colab.output.renderOutput(dataTable, element);\n",
              "        const docLink = document.createElement('div');\n",
              "        docLink.innerHTML = docLinkHtml;\n",
              "        element.appendChild(docLink);\n",
              "      }\n",
              "    </script>\n",
              "  </div>\n",
              "\n",
              "\n",
              "    <div id=\"df-32a6bc06-8970-4d5e-972f-6e9aff90392c\">\n",
              "      <button class=\"colab-df-quickchart\" onclick=\"quickchart('df-32a6bc06-8970-4d5e-972f-6e9aff90392c')\"\n",
              "                title=\"Suggest charts\"\n",
              "                style=\"display:none;\">\n",
              "\n",
              "<svg xmlns=\"http://www.w3.org/2000/svg\" height=\"24px\"viewBox=\"0 0 24 24\"\n",
              "     width=\"24px\">\n",
              "    <g>\n",
              "        <path d=\"M19 3H5c-1.1 0-2 .9-2 2v14c0 1.1.9 2 2 2h14c1.1 0 2-.9 2-2V5c0-1.1-.9-2-2-2zM9 17H7v-7h2v7zm4 0h-2V7h2v10zm4 0h-2v-4h2v4z\"/>\n",
              "    </g>\n",
              "</svg>\n",
              "      </button>\n",
              "\n",
              "<style>\n",
              "  .colab-df-quickchart {\n",
              "      --bg-color: #E8F0FE;\n",
              "      --fill-color: #1967D2;\n",
              "      --hover-bg-color: #E2EBFA;\n",
              "      --hover-fill-color: #174EA6;\n",
              "      --disabled-fill-color: #AAA;\n",
              "      --disabled-bg-color: #DDD;\n",
              "  }\n",
              "\n",
              "  [theme=dark] .colab-df-quickchart {\n",
              "      --bg-color: #3B4455;\n",
              "      --fill-color: #D2E3FC;\n",
              "      --hover-bg-color: #434B5C;\n",
              "      --hover-fill-color: #FFFFFF;\n",
              "      --disabled-bg-color: #3B4455;\n",
              "      --disabled-fill-color: #666;\n",
              "  }\n",
              "\n",
              "  .colab-df-quickchart {\n",
              "    background-color: var(--bg-color);\n",
              "    border: none;\n",
              "    border-radius: 50%;\n",
              "    cursor: pointer;\n",
              "    display: none;\n",
              "    fill: var(--fill-color);\n",
              "    height: 32px;\n",
              "    padding: 0;\n",
              "    width: 32px;\n",
              "  }\n",
              "\n",
              "  .colab-df-quickchart:hover {\n",
              "    background-color: var(--hover-bg-color);\n",
              "    box-shadow: 0 1px 2px rgba(60, 64, 67, 0.3), 0 1px 3px 1px rgba(60, 64, 67, 0.15);\n",
              "    fill: var(--button-hover-fill-color);\n",
              "  }\n",
              "\n",
              "  .colab-df-quickchart-complete:disabled,\n",
              "  .colab-df-quickchart-complete:disabled:hover {\n",
              "    background-color: var(--disabled-bg-color);\n",
              "    fill: var(--disabled-fill-color);\n",
              "    box-shadow: none;\n",
              "  }\n",
              "\n",
              "  .colab-df-spinner {\n",
              "    border: 2px solid var(--fill-color);\n",
              "    border-color: transparent;\n",
              "    border-bottom-color: var(--fill-color);\n",
              "    animation:\n",
              "      spin 1s steps(1) infinite;\n",
              "  }\n",
              "\n",
              "  @keyframes spin {\n",
              "    0% {\n",
              "      border-color: transparent;\n",
              "      border-bottom-color: var(--fill-color);\n",
              "      border-left-color: var(--fill-color);\n",
              "    }\n",
              "    20% {\n",
              "      border-color: transparent;\n",
              "      border-left-color: var(--fill-color);\n",
              "      border-top-color: var(--fill-color);\n",
              "    }\n",
              "    30% {\n",
              "      border-color: transparent;\n",
              "      border-left-color: var(--fill-color);\n",
              "      border-top-color: var(--fill-color);\n",
              "      border-right-color: var(--fill-color);\n",
              "    }\n",
              "    40% {\n",
              "      border-color: transparent;\n",
              "      border-right-color: var(--fill-color);\n",
              "      border-top-color: var(--fill-color);\n",
              "    }\n",
              "    60% {\n",
              "      border-color: transparent;\n",
              "      border-right-color: var(--fill-color);\n",
              "    }\n",
              "    80% {\n",
              "      border-color: transparent;\n",
              "      border-right-color: var(--fill-color);\n",
              "      border-bottom-color: var(--fill-color);\n",
              "    }\n",
              "    90% {\n",
              "      border-color: transparent;\n",
              "      border-bottom-color: var(--fill-color);\n",
              "    }\n",
              "  }\n",
              "</style>\n",
              "\n",
              "      <script>\n",
              "        async function quickchart(key) {\n",
              "          const quickchartButtonEl =\n",
              "            document.querySelector('#' + key + ' button');\n",
              "          quickchartButtonEl.disabled = true;  // To prevent multiple clicks.\n",
              "          quickchartButtonEl.classList.add('colab-df-spinner');\n",
              "          try {\n",
              "            const charts = await google.colab.kernel.invokeFunction(\n",
              "                'suggestCharts', [key], {});\n",
              "          } catch (error) {\n",
              "            console.error('Error during call to suggestCharts:', error);\n",
              "          }\n",
              "          quickchartButtonEl.classList.remove('colab-df-spinner');\n",
              "          quickchartButtonEl.classList.add('colab-df-quickchart-complete');\n",
              "        }\n",
              "        (() => {\n",
              "          let quickchartButtonEl =\n",
              "            document.querySelector('#df-32a6bc06-8970-4d5e-972f-6e9aff90392c button');\n",
              "          quickchartButtonEl.style.display =\n",
              "            google.colab.kernel.accessAllowed ? 'block' : 'none';\n",
              "        })();\n",
              "      </script>\n",
              "    </div>\n",
              "\n",
              "  <div id=\"id_43579495-41bf-4c3d-a81b-907fe6255c22\">\n",
              "    <style>\n",
              "      .colab-df-generate {\n",
              "        background-color: #E8F0FE;\n",
              "        border: none;\n",
              "        border-radius: 50%;\n",
              "        cursor: pointer;\n",
              "        display: none;\n",
              "        fill: #1967D2;\n",
              "        height: 32px;\n",
              "        padding: 0 0 0 0;\n",
              "        width: 32px;\n",
              "      }\n",
              "\n",
              "      .colab-df-generate:hover {\n",
              "        background-color: #E2EBFA;\n",
              "        box-shadow: 0px 1px 2px rgba(60, 64, 67, 0.3), 0px 1px 3px 1px rgba(60, 64, 67, 0.15);\n",
              "        fill: #174EA6;\n",
              "      }\n",
              "\n",
              "      [theme=dark] .colab-df-generate {\n",
              "        background-color: #3B4455;\n",
              "        fill: #D2E3FC;\n",
              "      }\n",
              "\n",
              "      [theme=dark] .colab-df-generate:hover {\n",
              "        background-color: #434B5C;\n",
              "        box-shadow: 0px 1px 3px 1px rgba(0, 0, 0, 0.15);\n",
              "        filter: drop-shadow(0px 1px 2px rgba(0, 0, 0, 0.3));\n",
              "        fill: #FFFFFF;\n",
              "      }\n",
              "    </style>\n",
              "    <button class=\"colab-df-generate\" onclick=\"generateWithVariable('start')\"\n",
              "            title=\"Generate code using this dataframe.\"\n",
              "            style=\"display:none;\">\n",
              "\n",
              "  <svg xmlns=\"http://www.w3.org/2000/svg\" height=\"24px\"viewBox=\"0 0 24 24\"\n",
              "       width=\"24px\">\n",
              "    <path d=\"M7,19H8.4L18.45,9,17,7.55,7,17.6ZM5,21V16.75L18.45,3.32a2,2,0,0,1,2.83,0l1.4,1.43a1.91,1.91,0,0,1,.58,1.4,1.91,1.91,0,0,1-.58,1.4L9.25,21ZM18.45,9,17,7.55Zm-12,3A5.31,5.31,0,0,0,4.9,8.1,5.31,5.31,0,0,0,1,6.5,5.31,5.31,0,0,0,4.9,4.9,5.31,5.31,0,0,0,6.5,1,5.31,5.31,0,0,0,8.1,4.9,5.31,5.31,0,0,0,12,6.5,5.46,5.46,0,0,0,6.5,12Z\"/>\n",
              "  </svg>\n",
              "    </button>\n",
              "    <script>\n",
              "      (() => {\n",
              "      const buttonEl =\n",
              "        document.querySelector('#id_43579495-41bf-4c3d-a81b-907fe6255c22 button.colab-df-generate');\n",
              "      buttonEl.style.display =\n",
              "        google.colab.kernel.accessAllowed ? 'block' : 'none';\n",
              "\n",
              "      buttonEl.onclick = () => {\n",
              "        google.colab.notebook.generateWithVariable('start');\n",
              "      }\n",
              "      })();\n",
              "    </script>\n",
              "  </div>\n",
              "\n",
              "    </div>\n",
              "  </div>\n"
            ],
            "application/vnd.google.colaboratory.intrinsic+json": {
              "type": "dataframe",
              "variable_name": "start",
              "summary": "{\n  \"name\": \"start\",\n  \"rows\": 3,\n  \"fields\": [\n    {\n      \"column\": \"city\",\n      \"properties\": {\n        \"dtype\": \"string\",\n        \"num_unique_values\": 3,\n        \"samples\": [\n          \"London\",\n          \"Rio\",\n          \"Tokyo\"\n        ],\n        \"semantic_type\": \"\",\n        \"description\": \"\"\n      }\n    },\n    {\n      \"column\": \"start_date\",\n      \"properties\": {\n        \"dtype\": \"string\",\n        \"num_unique_values\": 3,\n        \"samples\": [\n          \"27th Jul, 2012\",\n          \"5th Aug, 2016\",\n          \"23rd July, 2021\"\n        ],\n        \"semantic_type\": \"\",\n        \"description\": \"\"\n      }\n    }\n  ]\n}"
            }
          },
          "metadata": {},
          "execution_count": 25
        }
      ],
      "source": [
        "start = pd.DataFrame({\"city\": [\"London\", \"Rio\", \"Tokyo\"],\n",
        "                      \"start_date\": [\"27th Jul, 2012\", \"5th Aug, 2016\", \"23rd July, 2021\"]})\n",
        "start"
      ]
    },
    {
      "cell_type": "code",
      "execution_count": null,
      "metadata": {
        "id": "qbZm-hmRcMJs"
      },
      "outputs": [],
      "source": [
        "end = pd.DataFrame({\"City\": [\"London\", \"Tokyo\", \"Paris\"],\n",
        "                    \"end_date\": [\"12th Aug, 2012\", \"8th Aug, 2021\", \"11th Aug, 2024\"]})\n",
        "end"
      ]
    },
    {
      "cell_type": "code",
      "execution_count": 26,
      "metadata": {
        "id": "1v4gGo1XnxES"
      },
      "outputs": [],
      "source": [
        "pd.concat?"
      ]
    },
    {
      "cell_type": "code",
      "execution_count": 28,
      "metadata": {
        "id": "Cp6Y8fFlnrEY",
        "outputId": "5c324f31-8e9f-4f92-db74-491dc40c4d8f",
        "colab": {
          "base_uri": "https://localhost:8080/",
          "height": 238
        }
      },
      "outputs": [
        {
          "output_type": "execute_result",
          "data": {
            "text/plain": [
              "     city       start_date        end_date\n",
              "0  London   27th Jul, 2012             NaN\n",
              "1     Rio    5th Aug, 2016             NaN\n",
              "2   Tokyo  23rd July, 2021             NaN\n",
              "0  London              NaN  12th Aug, 2012\n",
              "1   Tokyo              NaN   8th Aug, 2021\n",
              "2   Paris              NaN  11th Aug, 2024"
            ],
            "text/html": [
              "\n",
              "  <div id=\"df-a6d21649-0cdc-4704-b16e-79cdb01b1230\" class=\"colab-df-container\">\n",
              "    <div>\n",
              "<style scoped>\n",
              "    .dataframe tbody tr th:only-of-type {\n",
              "        vertical-align: middle;\n",
              "    }\n",
              "\n",
              "    .dataframe tbody tr th {\n",
              "        vertical-align: top;\n",
              "    }\n",
              "\n",
              "    .dataframe thead th {\n",
              "        text-align: right;\n",
              "    }\n",
              "</style>\n",
              "<table border=\"1\" class=\"dataframe\">\n",
              "  <thead>\n",
              "    <tr style=\"text-align: right;\">\n",
              "      <th></th>\n",
              "      <th>city</th>\n",
              "      <th>start_date</th>\n",
              "      <th>end_date</th>\n",
              "    </tr>\n",
              "  </thead>\n",
              "  <tbody>\n",
              "    <tr>\n",
              "      <th>0</th>\n",
              "      <td>London</td>\n",
              "      <td>27th Jul, 2012</td>\n",
              "      <td>NaN</td>\n",
              "    </tr>\n",
              "    <tr>\n",
              "      <th>1</th>\n",
              "      <td>Rio</td>\n",
              "      <td>5th Aug, 2016</td>\n",
              "      <td>NaN</td>\n",
              "    </tr>\n",
              "    <tr>\n",
              "      <th>2</th>\n",
              "      <td>Tokyo</td>\n",
              "      <td>23rd July, 2021</td>\n",
              "      <td>NaN</td>\n",
              "    </tr>\n",
              "    <tr>\n",
              "      <th>0</th>\n",
              "      <td>London</td>\n",
              "      <td>NaN</td>\n",
              "      <td>12th Aug, 2012</td>\n",
              "    </tr>\n",
              "    <tr>\n",
              "      <th>1</th>\n",
              "      <td>Tokyo</td>\n",
              "      <td>NaN</td>\n",
              "      <td>8th Aug, 2021</td>\n",
              "    </tr>\n",
              "    <tr>\n",
              "      <th>2</th>\n",
              "      <td>Paris</td>\n",
              "      <td>NaN</td>\n",
              "      <td>11th Aug, 2024</td>\n",
              "    </tr>\n",
              "  </tbody>\n",
              "</table>\n",
              "</div>\n",
              "    <div class=\"colab-df-buttons\">\n",
              "\n",
              "  <div class=\"colab-df-container\">\n",
              "    <button class=\"colab-df-convert\" onclick=\"convertToInteractive('df-a6d21649-0cdc-4704-b16e-79cdb01b1230')\"\n",
              "            title=\"Convert this dataframe to an interactive table.\"\n",
              "            style=\"display:none;\">\n",
              "\n",
              "  <svg xmlns=\"http://www.w3.org/2000/svg\" height=\"24px\" viewBox=\"0 -960 960 960\">\n",
              "    <path d=\"M120-120v-720h720v720H120Zm60-500h600v-160H180v160Zm220 220h160v-160H400v160Zm0 220h160v-160H400v160ZM180-400h160v-160H180v160Zm440 0h160v-160H620v160ZM180-180h160v-160H180v160Zm440 0h160v-160H620v160Z\"/>\n",
              "  </svg>\n",
              "    </button>\n",
              "\n",
              "  <style>\n",
              "    .colab-df-container {\n",
              "      display:flex;\n",
              "      gap: 12px;\n",
              "    }\n",
              "\n",
              "    .colab-df-convert {\n",
              "      background-color: #E8F0FE;\n",
              "      border: none;\n",
              "      border-radius: 50%;\n",
              "      cursor: pointer;\n",
              "      display: none;\n",
              "      fill: #1967D2;\n",
              "      height: 32px;\n",
              "      padding: 0 0 0 0;\n",
              "      width: 32px;\n",
              "    }\n",
              "\n",
              "    .colab-df-convert:hover {\n",
              "      background-color: #E2EBFA;\n",
              "      box-shadow: 0px 1px 2px rgba(60, 64, 67, 0.3), 0px 1px 3px 1px rgba(60, 64, 67, 0.15);\n",
              "      fill: #174EA6;\n",
              "    }\n",
              "\n",
              "    .colab-df-buttons div {\n",
              "      margin-bottom: 4px;\n",
              "    }\n",
              "\n",
              "    [theme=dark] .colab-df-convert {\n",
              "      background-color: #3B4455;\n",
              "      fill: #D2E3FC;\n",
              "    }\n",
              "\n",
              "    [theme=dark] .colab-df-convert:hover {\n",
              "      background-color: #434B5C;\n",
              "      box-shadow: 0px 1px 3px 1px rgba(0, 0, 0, 0.15);\n",
              "      filter: drop-shadow(0px 1px 2px rgba(0, 0, 0, 0.3));\n",
              "      fill: #FFFFFF;\n",
              "    }\n",
              "  </style>\n",
              "\n",
              "    <script>\n",
              "      const buttonEl =\n",
              "        document.querySelector('#df-a6d21649-0cdc-4704-b16e-79cdb01b1230 button.colab-df-convert');\n",
              "      buttonEl.style.display =\n",
              "        google.colab.kernel.accessAllowed ? 'block' : 'none';\n",
              "\n",
              "      async function convertToInteractive(key) {\n",
              "        const element = document.querySelector('#df-a6d21649-0cdc-4704-b16e-79cdb01b1230');\n",
              "        const dataTable =\n",
              "          await google.colab.kernel.invokeFunction('convertToInteractive',\n",
              "                                                    [key], {});\n",
              "        if (!dataTable) return;\n",
              "\n",
              "        const docLinkHtml = 'Like what you see? Visit the ' +\n",
              "          '<a target=\"_blank\" href=https://colab.research.google.com/notebooks/data_table.ipynb>data table notebook</a>'\n",
              "          + ' to learn more about interactive tables.';\n",
              "        element.innerHTML = '';\n",
              "        dataTable['output_type'] = 'display_data';\n",
              "        await google.colab.output.renderOutput(dataTable, element);\n",
              "        const docLink = document.createElement('div');\n",
              "        docLink.innerHTML = docLinkHtml;\n",
              "        element.appendChild(docLink);\n",
              "      }\n",
              "    </script>\n",
              "  </div>\n",
              "\n",
              "\n",
              "    <div id=\"df-81fdcc9f-f836-4b69-b6d4-88ae09027684\">\n",
              "      <button class=\"colab-df-quickchart\" onclick=\"quickchart('df-81fdcc9f-f836-4b69-b6d4-88ae09027684')\"\n",
              "                title=\"Suggest charts\"\n",
              "                style=\"display:none;\">\n",
              "\n",
              "<svg xmlns=\"http://www.w3.org/2000/svg\" height=\"24px\"viewBox=\"0 0 24 24\"\n",
              "     width=\"24px\">\n",
              "    <g>\n",
              "        <path d=\"M19 3H5c-1.1 0-2 .9-2 2v14c0 1.1.9 2 2 2h14c1.1 0 2-.9 2-2V5c0-1.1-.9-2-2-2zM9 17H7v-7h2v7zm4 0h-2V7h2v10zm4 0h-2v-4h2v4z\"/>\n",
              "    </g>\n",
              "</svg>\n",
              "      </button>\n",
              "\n",
              "<style>\n",
              "  .colab-df-quickchart {\n",
              "      --bg-color: #E8F0FE;\n",
              "      --fill-color: #1967D2;\n",
              "      --hover-bg-color: #E2EBFA;\n",
              "      --hover-fill-color: #174EA6;\n",
              "      --disabled-fill-color: #AAA;\n",
              "      --disabled-bg-color: #DDD;\n",
              "  }\n",
              "\n",
              "  [theme=dark] .colab-df-quickchart {\n",
              "      --bg-color: #3B4455;\n",
              "      --fill-color: #D2E3FC;\n",
              "      --hover-bg-color: #434B5C;\n",
              "      --hover-fill-color: #FFFFFF;\n",
              "      --disabled-bg-color: #3B4455;\n",
              "      --disabled-fill-color: #666;\n",
              "  }\n",
              "\n",
              "  .colab-df-quickchart {\n",
              "    background-color: var(--bg-color);\n",
              "    border: none;\n",
              "    border-radius: 50%;\n",
              "    cursor: pointer;\n",
              "    display: none;\n",
              "    fill: var(--fill-color);\n",
              "    height: 32px;\n",
              "    padding: 0;\n",
              "    width: 32px;\n",
              "  }\n",
              "\n",
              "  .colab-df-quickchart:hover {\n",
              "    background-color: var(--hover-bg-color);\n",
              "    box-shadow: 0 1px 2px rgba(60, 64, 67, 0.3), 0 1px 3px 1px rgba(60, 64, 67, 0.15);\n",
              "    fill: var(--button-hover-fill-color);\n",
              "  }\n",
              "\n",
              "  .colab-df-quickchart-complete:disabled,\n",
              "  .colab-df-quickchart-complete:disabled:hover {\n",
              "    background-color: var(--disabled-bg-color);\n",
              "    fill: var(--disabled-fill-color);\n",
              "    box-shadow: none;\n",
              "  }\n",
              "\n",
              "  .colab-df-spinner {\n",
              "    border: 2px solid var(--fill-color);\n",
              "    border-color: transparent;\n",
              "    border-bottom-color: var(--fill-color);\n",
              "    animation:\n",
              "      spin 1s steps(1) infinite;\n",
              "  }\n",
              "\n",
              "  @keyframes spin {\n",
              "    0% {\n",
              "      border-color: transparent;\n",
              "      border-bottom-color: var(--fill-color);\n",
              "      border-left-color: var(--fill-color);\n",
              "    }\n",
              "    20% {\n",
              "      border-color: transparent;\n",
              "      border-left-color: var(--fill-color);\n",
              "      border-top-color: var(--fill-color);\n",
              "    }\n",
              "    30% {\n",
              "      border-color: transparent;\n",
              "      border-left-color: var(--fill-color);\n",
              "      border-top-color: var(--fill-color);\n",
              "      border-right-color: var(--fill-color);\n",
              "    }\n",
              "    40% {\n",
              "      border-color: transparent;\n",
              "      border-right-color: var(--fill-color);\n",
              "      border-top-color: var(--fill-color);\n",
              "    }\n",
              "    60% {\n",
              "      border-color: transparent;\n",
              "      border-right-color: var(--fill-color);\n",
              "    }\n",
              "    80% {\n",
              "      border-color: transparent;\n",
              "      border-right-color: var(--fill-color);\n",
              "      border-bottom-color: var(--fill-color);\n",
              "    }\n",
              "    90% {\n",
              "      border-color: transparent;\n",
              "      border-bottom-color: var(--fill-color);\n",
              "    }\n",
              "  }\n",
              "</style>\n",
              "\n",
              "      <script>\n",
              "        async function quickchart(key) {\n",
              "          const quickchartButtonEl =\n",
              "            document.querySelector('#' + key + ' button');\n",
              "          quickchartButtonEl.disabled = true;  // To prevent multiple clicks.\n",
              "          quickchartButtonEl.classList.add('colab-df-spinner');\n",
              "          try {\n",
              "            const charts = await google.colab.kernel.invokeFunction(\n",
              "                'suggestCharts', [key], {});\n",
              "          } catch (error) {\n",
              "            console.error('Error during call to suggestCharts:', error);\n",
              "          }\n",
              "          quickchartButtonEl.classList.remove('colab-df-spinner');\n",
              "          quickchartButtonEl.classList.add('colab-df-quickchart-complete');\n",
              "        }\n",
              "        (() => {\n",
              "          let quickchartButtonEl =\n",
              "            document.querySelector('#df-81fdcc9f-f836-4b69-b6d4-88ae09027684 button');\n",
              "          quickchartButtonEl.style.display =\n",
              "            google.colab.kernel.accessAllowed ? 'block' : 'none';\n",
              "        })();\n",
              "      </script>\n",
              "    </div>\n",
              "\n",
              "    </div>\n",
              "  </div>\n"
            ],
            "application/vnd.google.colaboratory.intrinsic+json": {
              "type": "dataframe",
              "summary": "{\n  \"name\": \"pd\",\n  \"rows\": 6,\n  \"fields\": [\n    {\n      \"column\": \"city\",\n      \"properties\": {\n        \"dtype\": \"string\",\n        \"num_unique_values\": 4,\n        \"samples\": [\n          \"Rio\",\n          \"Paris\",\n          \"London\"\n        ],\n        \"semantic_type\": \"\",\n        \"description\": \"\"\n      }\n    },\n    {\n      \"column\": \"start_date\",\n      \"properties\": {\n        \"dtype\": \"string\",\n        \"num_unique_values\": 3,\n        \"samples\": [\n          \"27th Jul, 2012\",\n          \"5th Aug, 2016\",\n          \"23rd July, 2021\"\n        ],\n        \"semantic_type\": \"\",\n        \"description\": \"\"\n      }\n    },\n    {\n      \"column\": \"end_date\",\n      \"properties\": {\n        \"dtype\": \"date\",\n        \"min\": \"2012-08-12 00:00:00\",\n        \"max\": \"2024-08-11 00:00:00\",\n        \"num_unique_values\": 3,\n        \"samples\": [\n          \"12th Aug, 2012\",\n          \"8th Aug, 2021\",\n          \"11th Aug, 2024\"\n        ],\n        \"semantic_type\": \"\",\n        \"description\": \"\"\n      }\n    }\n  ]\n}"
            }
          },
          "metadata": {},
          "execution_count": 28
        }
      ],
      "source": [
        "pd.concat([start, end], axis=0)"
      ]
    },
    {
      "cell_type": "code",
      "source": [
        "pd.concat([start, end], axis=1)"
      ],
      "metadata": {
        "id": "9I0tzYMo55Fi",
        "outputId": "8d02b63c-b395-438a-e50b-b777df39dc63",
        "colab": {
          "base_uri": "https://localhost:8080/",
          "height": 143
        }
      },
      "execution_count": 30,
      "outputs": [
        {
          "output_type": "execute_result",
          "data": {
            "text/plain": [
              "     city       start_date    city        end_date\n",
              "0  London   27th Jul, 2012  London  12th Aug, 2012\n",
              "1     Rio    5th Aug, 2016   Tokyo   8th Aug, 2021\n",
              "2   Tokyo  23rd July, 2021   Paris  11th Aug, 2024"
            ],
            "text/html": [
              "\n",
              "  <div id=\"df-1cba882b-8467-426f-960a-9b297ab44ed7\" class=\"colab-df-container\">\n",
              "    <div>\n",
              "<style scoped>\n",
              "    .dataframe tbody tr th:only-of-type {\n",
              "        vertical-align: middle;\n",
              "    }\n",
              "\n",
              "    .dataframe tbody tr th {\n",
              "        vertical-align: top;\n",
              "    }\n",
              "\n",
              "    .dataframe thead th {\n",
              "        text-align: right;\n",
              "    }\n",
              "</style>\n",
              "<table border=\"1\" class=\"dataframe\">\n",
              "  <thead>\n",
              "    <tr style=\"text-align: right;\">\n",
              "      <th></th>\n",
              "      <th>city</th>\n",
              "      <th>start_date</th>\n",
              "      <th>city</th>\n",
              "      <th>end_date</th>\n",
              "    </tr>\n",
              "  </thead>\n",
              "  <tbody>\n",
              "    <tr>\n",
              "      <th>0</th>\n",
              "      <td>London</td>\n",
              "      <td>27th Jul, 2012</td>\n",
              "      <td>London</td>\n",
              "      <td>12th Aug, 2012</td>\n",
              "    </tr>\n",
              "    <tr>\n",
              "      <th>1</th>\n",
              "      <td>Rio</td>\n",
              "      <td>5th Aug, 2016</td>\n",
              "      <td>Tokyo</td>\n",
              "      <td>8th Aug, 2021</td>\n",
              "    </tr>\n",
              "    <tr>\n",
              "      <th>2</th>\n",
              "      <td>Tokyo</td>\n",
              "      <td>23rd July, 2021</td>\n",
              "      <td>Paris</td>\n",
              "      <td>11th Aug, 2024</td>\n",
              "    </tr>\n",
              "  </tbody>\n",
              "</table>\n",
              "</div>\n",
              "    <div class=\"colab-df-buttons\">\n",
              "\n",
              "  <div class=\"colab-df-container\">\n",
              "    <button class=\"colab-df-convert\" onclick=\"convertToInteractive('df-1cba882b-8467-426f-960a-9b297ab44ed7')\"\n",
              "            title=\"Convert this dataframe to an interactive table.\"\n",
              "            style=\"display:none;\">\n",
              "\n",
              "  <svg xmlns=\"http://www.w3.org/2000/svg\" height=\"24px\" viewBox=\"0 -960 960 960\">\n",
              "    <path d=\"M120-120v-720h720v720H120Zm60-500h600v-160H180v160Zm220 220h160v-160H400v160Zm0 220h160v-160H400v160ZM180-400h160v-160H180v160Zm440 0h160v-160H620v160ZM180-180h160v-160H180v160Zm440 0h160v-160H620v160Z\"/>\n",
              "  </svg>\n",
              "    </button>\n",
              "\n",
              "  <style>\n",
              "    .colab-df-container {\n",
              "      display:flex;\n",
              "      gap: 12px;\n",
              "    }\n",
              "\n",
              "    .colab-df-convert {\n",
              "      background-color: #E8F0FE;\n",
              "      border: none;\n",
              "      border-radius: 50%;\n",
              "      cursor: pointer;\n",
              "      display: none;\n",
              "      fill: #1967D2;\n",
              "      height: 32px;\n",
              "      padding: 0 0 0 0;\n",
              "      width: 32px;\n",
              "    }\n",
              "\n",
              "    .colab-df-convert:hover {\n",
              "      background-color: #E2EBFA;\n",
              "      box-shadow: 0px 1px 2px rgba(60, 64, 67, 0.3), 0px 1px 3px 1px rgba(60, 64, 67, 0.15);\n",
              "      fill: #174EA6;\n",
              "    }\n",
              "\n",
              "    .colab-df-buttons div {\n",
              "      margin-bottom: 4px;\n",
              "    }\n",
              "\n",
              "    [theme=dark] .colab-df-convert {\n",
              "      background-color: #3B4455;\n",
              "      fill: #D2E3FC;\n",
              "    }\n",
              "\n",
              "    [theme=dark] .colab-df-convert:hover {\n",
              "      background-color: #434B5C;\n",
              "      box-shadow: 0px 1px 3px 1px rgba(0, 0, 0, 0.15);\n",
              "      filter: drop-shadow(0px 1px 2px rgba(0, 0, 0, 0.3));\n",
              "      fill: #FFFFFF;\n",
              "    }\n",
              "  </style>\n",
              "\n",
              "    <script>\n",
              "      const buttonEl =\n",
              "        document.querySelector('#df-1cba882b-8467-426f-960a-9b297ab44ed7 button.colab-df-convert');\n",
              "      buttonEl.style.display =\n",
              "        google.colab.kernel.accessAllowed ? 'block' : 'none';\n",
              "\n",
              "      async function convertToInteractive(key) {\n",
              "        const element = document.querySelector('#df-1cba882b-8467-426f-960a-9b297ab44ed7');\n",
              "        const dataTable =\n",
              "          await google.colab.kernel.invokeFunction('convertToInteractive',\n",
              "                                                    [key], {});\n",
              "        if (!dataTable) return;\n",
              "\n",
              "        const docLinkHtml = 'Like what you see? Visit the ' +\n",
              "          '<a target=\"_blank\" href=https://colab.research.google.com/notebooks/data_table.ipynb>data table notebook</a>'\n",
              "          + ' to learn more about interactive tables.';\n",
              "        element.innerHTML = '';\n",
              "        dataTable['output_type'] = 'display_data';\n",
              "        await google.colab.output.renderOutput(dataTable, element);\n",
              "        const docLink = document.createElement('div');\n",
              "        docLink.innerHTML = docLinkHtml;\n",
              "        element.appendChild(docLink);\n",
              "      }\n",
              "    </script>\n",
              "  </div>\n",
              "\n",
              "\n",
              "    <div id=\"df-dd122923-f05e-47aa-8998-6bb2a6668bc7\">\n",
              "      <button class=\"colab-df-quickchart\" onclick=\"quickchart('df-dd122923-f05e-47aa-8998-6bb2a6668bc7')\"\n",
              "                title=\"Suggest charts\"\n",
              "                style=\"display:none;\">\n",
              "\n",
              "<svg xmlns=\"http://www.w3.org/2000/svg\" height=\"24px\"viewBox=\"0 0 24 24\"\n",
              "     width=\"24px\">\n",
              "    <g>\n",
              "        <path d=\"M19 3H5c-1.1 0-2 .9-2 2v14c0 1.1.9 2 2 2h14c1.1 0 2-.9 2-2V5c0-1.1-.9-2-2-2zM9 17H7v-7h2v7zm4 0h-2V7h2v10zm4 0h-2v-4h2v4z\"/>\n",
              "    </g>\n",
              "</svg>\n",
              "      </button>\n",
              "\n",
              "<style>\n",
              "  .colab-df-quickchart {\n",
              "      --bg-color: #E8F0FE;\n",
              "      --fill-color: #1967D2;\n",
              "      --hover-bg-color: #E2EBFA;\n",
              "      --hover-fill-color: #174EA6;\n",
              "      --disabled-fill-color: #AAA;\n",
              "      --disabled-bg-color: #DDD;\n",
              "  }\n",
              "\n",
              "  [theme=dark] .colab-df-quickchart {\n",
              "      --bg-color: #3B4455;\n",
              "      --fill-color: #D2E3FC;\n",
              "      --hover-bg-color: #434B5C;\n",
              "      --hover-fill-color: #FFFFFF;\n",
              "      --disabled-bg-color: #3B4455;\n",
              "      --disabled-fill-color: #666;\n",
              "  }\n",
              "\n",
              "  .colab-df-quickchart {\n",
              "    background-color: var(--bg-color);\n",
              "    border: none;\n",
              "    border-radius: 50%;\n",
              "    cursor: pointer;\n",
              "    display: none;\n",
              "    fill: var(--fill-color);\n",
              "    height: 32px;\n",
              "    padding: 0;\n",
              "    width: 32px;\n",
              "  }\n",
              "\n",
              "  .colab-df-quickchart:hover {\n",
              "    background-color: var(--hover-bg-color);\n",
              "    box-shadow: 0 1px 2px rgba(60, 64, 67, 0.3), 0 1px 3px 1px rgba(60, 64, 67, 0.15);\n",
              "    fill: var(--button-hover-fill-color);\n",
              "  }\n",
              "\n",
              "  .colab-df-quickchart-complete:disabled,\n",
              "  .colab-df-quickchart-complete:disabled:hover {\n",
              "    background-color: var(--disabled-bg-color);\n",
              "    fill: var(--disabled-fill-color);\n",
              "    box-shadow: none;\n",
              "  }\n",
              "\n",
              "  .colab-df-spinner {\n",
              "    border: 2px solid var(--fill-color);\n",
              "    border-color: transparent;\n",
              "    border-bottom-color: var(--fill-color);\n",
              "    animation:\n",
              "      spin 1s steps(1) infinite;\n",
              "  }\n",
              "\n",
              "  @keyframes spin {\n",
              "    0% {\n",
              "      border-color: transparent;\n",
              "      border-bottom-color: var(--fill-color);\n",
              "      border-left-color: var(--fill-color);\n",
              "    }\n",
              "    20% {\n",
              "      border-color: transparent;\n",
              "      border-left-color: var(--fill-color);\n",
              "      border-top-color: var(--fill-color);\n",
              "    }\n",
              "    30% {\n",
              "      border-color: transparent;\n",
              "      border-left-color: var(--fill-color);\n",
              "      border-top-color: var(--fill-color);\n",
              "      border-right-color: var(--fill-color);\n",
              "    }\n",
              "    40% {\n",
              "      border-color: transparent;\n",
              "      border-right-color: var(--fill-color);\n",
              "      border-top-color: var(--fill-color);\n",
              "    }\n",
              "    60% {\n",
              "      border-color: transparent;\n",
              "      border-right-color: var(--fill-color);\n",
              "    }\n",
              "    80% {\n",
              "      border-color: transparent;\n",
              "      border-right-color: var(--fill-color);\n",
              "      border-bottom-color: var(--fill-color);\n",
              "    }\n",
              "    90% {\n",
              "      border-color: transparent;\n",
              "      border-bottom-color: var(--fill-color);\n",
              "    }\n",
              "  }\n",
              "</style>\n",
              "\n",
              "      <script>\n",
              "        async function quickchart(key) {\n",
              "          const quickchartButtonEl =\n",
              "            document.querySelector('#' + key + ' button');\n",
              "          quickchartButtonEl.disabled = true;  // To prevent multiple clicks.\n",
              "          quickchartButtonEl.classList.add('colab-df-spinner');\n",
              "          try {\n",
              "            const charts = await google.colab.kernel.invokeFunction(\n",
              "                'suggestCharts', [key], {});\n",
              "          } catch (error) {\n",
              "            console.error('Error during call to suggestCharts:', error);\n",
              "          }\n",
              "          quickchartButtonEl.classList.remove('colab-df-spinner');\n",
              "          quickchartButtonEl.classList.add('colab-df-quickchart-complete');\n",
              "        }\n",
              "        (() => {\n",
              "          let quickchartButtonEl =\n",
              "            document.querySelector('#df-dd122923-f05e-47aa-8998-6bb2a6668bc7 button');\n",
              "          quickchartButtonEl.style.display =\n",
              "            google.colab.kernel.accessAllowed ? 'block' : 'none';\n",
              "        })();\n",
              "      </script>\n",
              "    </div>\n",
              "\n",
              "    </div>\n",
              "  </div>\n"
            ],
            "application/vnd.google.colaboratory.intrinsic+json": {
              "type": "dataframe",
              "summary": "{\n  \"name\": \"pd\",\n  \"rows\": 3,\n  \"fields\": [\n    {\n      \"column\": \"city\",\n      \"properties\": {\n        \"dtype\": \"string\",\n        \"num_unique_values\": 3,\n        \"samples\": [\n          \"London\",\n          \"Rio\",\n          \"Tokyo\"\n        ],\n        \"semantic_type\": \"\",\n        \"description\": \"\"\n      }\n    },\n    {\n      \"column\": \"start_date\",\n      \"properties\": {\n        \"dtype\": \"string\",\n        \"num_unique_values\": 3,\n        \"samples\": [\n          \"27th Jul, 2012\",\n          \"5th Aug, 2016\",\n          \"23rd July, 2021\"\n        ],\n        \"semantic_type\": \"\",\n        \"description\": \"\"\n      }\n    },\n    {\n      \"column\": \"city\",\n      \"properties\": {\n        \"dtype\": \"string\",\n        \"num_unique_values\": 3,\n        \"samples\": [\n          \"London\",\n          \"Tokyo\",\n          \"Paris\"\n        ],\n        \"semantic_type\": \"\",\n        \"description\": \"\"\n      }\n    },\n    {\n      \"column\": \"end_date\",\n      \"properties\": {\n        \"dtype\": \"object\",\n        \"num_unique_values\": 3,\n        \"samples\": [\n          \"12th Aug, 2012\",\n          \"8th Aug, 2021\",\n          \"11th Aug, 2024\"\n        ],\n        \"semantic_type\": \"\",\n        \"description\": \"\"\n      }\n    }\n  ]\n}"
            }
          },
          "metadata": {},
          "execution_count": 30
        }
      ]
    },
    {
      "cell_type": "code",
      "source": [],
      "metadata": {
        "id": "JXx9shWe5yZG"
      },
      "execution_count": null,
      "outputs": []
    },
    {
      "cell_type": "code",
      "source": [
        "end = pd.DataFrame({\"city\": [\"London\", \"Tokyo\", \"Paris\"],\n",
        "                    \"end_date\": [\"12th Aug, 2012\", \"8th Aug, 2021\", \"11th Aug, 2024\"]})\n",
        "end"
      ],
      "metadata": {
        "id": "LBcoth7NAsBZ",
        "outputId": "b0e925d7-c67f-4e4c-83ce-0ecfdcf57e8f",
        "colab": {
          "base_uri": "https://localhost:8080/",
          "height": 143
        }
      },
      "execution_count": 27,
      "outputs": [
        {
          "output_type": "execute_result",
          "data": {
            "text/plain": [
              "     city        end_date\n",
              "0  London  12th Aug, 2012\n",
              "1   Tokyo   8th Aug, 2021\n",
              "2   Paris  11th Aug, 2024"
            ],
            "text/html": [
              "\n",
              "  <div id=\"df-ef5d927e-09c3-4bd5-a51a-068984e9913c\" class=\"colab-df-container\">\n",
              "    <div>\n",
              "<style scoped>\n",
              "    .dataframe tbody tr th:only-of-type {\n",
              "        vertical-align: middle;\n",
              "    }\n",
              "\n",
              "    .dataframe tbody tr th {\n",
              "        vertical-align: top;\n",
              "    }\n",
              "\n",
              "    .dataframe thead th {\n",
              "        text-align: right;\n",
              "    }\n",
              "</style>\n",
              "<table border=\"1\" class=\"dataframe\">\n",
              "  <thead>\n",
              "    <tr style=\"text-align: right;\">\n",
              "      <th></th>\n",
              "      <th>city</th>\n",
              "      <th>end_date</th>\n",
              "    </tr>\n",
              "  </thead>\n",
              "  <tbody>\n",
              "    <tr>\n",
              "      <th>0</th>\n",
              "      <td>London</td>\n",
              "      <td>12th Aug, 2012</td>\n",
              "    </tr>\n",
              "    <tr>\n",
              "      <th>1</th>\n",
              "      <td>Tokyo</td>\n",
              "      <td>8th Aug, 2021</td>\n",
              "    </tr>\n",
              "    <tr>\n",
              "      <th>2</th>\n",
              "      <td>Paris</td>\n",
              "      <td>11th Aug, 2024</td>\n",
              "    </tr>\n",
              "  </tbody>\n",
              "</table>\n",
              "</div>\n",
              "    <div class=\"colab-df-buttons\">\n",
              "\n",
              "  <div class=\"colab-df-container\">\n",
              "    <button class=\"colab-df-convert\" onclick=\"convertToInteractive('df-ef5d927e-09c3-4bd5-a51a-068984e9913c')\"\n",
              "            title=\"Convert this dataframe to an interactive table.\"\n",
              "            style=\"display:none;\">\n",
              "\n",
              "  <svg xmlns=\"http://www.w3.org/2000/svg\" height=\"24px\" viewBox=\"0 -960 960 960\">\n",
              "    <path d=\"M120-120v-720h720v720H120Zm60-500h600v-160H180v160Zm220 220h160v-160H400v160Zm0 220h160v-160H400v160ZM180-400h160v-160H180v160Zm440 0h160v-160H620v160ZM180-180h160v-160H180v160Zm440 0h160v-160H620v160Z\"/>\n",
              "  </svg>\n",
              "    </button>\n",
              "\n",
              "  <style>\n",
              "    .colab-df-container {\n",
              "      display:flex;\n",
              "      gap: 12px;\n",
              "    }\n",
              "\n",
              "    .colab-df-convert {\n",
              "      background-color: #E8F0FE;\n",
              "      border: none;\n",
              "      border-radius: 50%;\n",
              "      cursor: pointer;\n",
              "      display: none;\n",
              "      fill: #1967D2;\n",
              "      height: 32px;\n",
              "      padding: 0 0 0 0;\n",
              "      width: 32px;\n",
              "    }\n",
              "\n",
              "    .colab-df-convert:hover {\n",
              "      background-color: #E2EBFA;\n",
              "      box-shadow: 0px 1px 2px rgba(60, 64, 67, 0.3), 0px 1px 3px 1px rgba(60, 64, 67, 0.15);\n",
              "      fill: #174EA6;\n",
              "    }\n",
              "\n",
              "    .colab-df-buttons div {\n",
              "      margin-bottom: 4px;\n",
              "    }\n",
              "\n",
              "    [theme=dark] .colab-df-convert {\n",
              "      background-color: #3B4455;\n",
              "      fill: #D2E3FC;\n",
              "    }\n",
              "\n",
              "    [theme=dark] .colab-df-convert:hover {\n",
              "      background-color: #434B5C;\n",
              "      box-shadow: 0px 1px 3px 1px rgba(0, 0, 0, 0.15);\n",
              "      filter: drop-shadow(0px 1px 2px rgba(0, 0, 0, 0.3));\n",
              "      fill: #FFFFFF;\n",
              "    }\n",
              "  </style>\n",
              "\n",
              "    <script>\n",
              "      const buttonEl =\n",
              "        document.querySelector('#df-ef5d927e-09c3-4bd5-a51a-068984e9913c button.colab-df-convert');\n",
              "      buttonEl.style.display =\n",
              "        google.colab.kernel.accessAllowed ? 'block' : 'none';\n",
              "\n",
              "      async function convertToInteractive(key) {\n",
              "        const element = document.querySelector('#df-ef5d927e-09c3-4bd5-a51a-068984e9913c');\n",
              "        const dataTable =\n",
              "          await google.colab.kernel.invokeFunction('convertToInteractive',\n",
              "                                                    [key], {});\n",
              "        if (!dataTable) return;\n",
              "\n",
              "        const docLinkHtml = 'Like what you see? Visit the ' +\n",
              "          '<a target=\"_blank\" href=https://colab.research.google.com/notebooks/data_table.ipynb>data table notebook</a>'\n",
              "          + ' to learn more about interactive tables.';\n",
              "        element.innerHTML = '';\n",
              "        dataTable['output_type'] = 'display_data';\n",
              "        await google.colab.output.renderOutput(dataTable, element);\n",
              "        const docLink = document.createElement('div');\n",
              "        docLink.innerHTML = docLinkHtml;\n",
              "        element.appendChild(docLink);\n",
              "      }\n",
              "    </script>\n",
              "  </div>\n",
              "\n",
              "\n",
              "    <div id=\"df-24bc654c-f955-4612-bdf0-66e0f2ffcaa1\">\n",
              "      <button class=\"colab-df-quickchart\" onclick=\"quickchart('df-24bc654c-f955-4612-bdf0-66e0f2ffcaa1')\"\n",
              "                title=\"Suggest charts\"\n",
              "                style=\"display:none;\">\n",
              "\n",
              "<svg xmlns=\"http://www.w3.org/2000/svg\" height=\"24px\"viewBox=\"0 0 24 24\"\n",
              "     width=\"24px\">\n",
              "    <g>\n",
              "        <path d=\"M19 3H5c-1.1 0-2 .9-2 2v14c0 1.1.9 2 2 2h14c1.1 0 2-.9 2-2V5c0-1.1-.9-2-2-2zM9 17H7v-7h2v7zm4 0h-2V7h2v10zm4 0h-2v-4h2v4z\"/>\n",
              "    </g>\n",
              "</svg>\n",
              "      </button>\n",
              "\n",
              "<style>\n",
              "  .colab-df-quickchart {\n",
              "      --bg-color: #E8F0FE;\n",
              "      --fill-color: #1967D2;\n",
              "      --hover-bg-color: #E2EBFA;\n",
              "      --hover-fill-color: #174EA6;\n",
              "      --disabled-fill-color: #AAA;\n",
              "      --disabled-bg-color: #DDD;\n",
              "  }\n",
              "\n",
              "  [theme=dark] .colab-df-quickchart {\n",
              "      --bg-color: #3B4455;\n",
              "      --fill-color: #D2E3FC;\n",
              "      --hover-bg-color: #434B5C;\n",
              "      --hover-fill-color: #FFFFFF;\n",
              "      --disabled-bg-color: #3B4455;\n",
              "      --disabled-fill-color: #666;\n",
              "  }\n",
              "\n",
              "  .colab-df-quickchart {\n",
              "    background-color: var(--bg-color);\n",
              "    border: none;\n",
              "    border-radius: 50%;\n",
              "    cursor: pointer;\n",
              "    display: none;\n",
              "    fill: var(--fill-color);\n",
              "    height: 32px;\n",
              "    padding: 0;\n",
              "    width: 32px;\n",
              "  }\n",
              "\n",
              "  .colab-df-quickchart:hover {\n",
              "    background-color: var(--hover-bg-color);\n",
              "    box-shadow: 0 1px 2px rgba(60, 64, 67, 0.3), 0 1px 3px 1px rgba(60, 64, 67, 0.15);\n",
              "    fill: var(--button-hover-fill-color);\n",
              "  }\n",
              "\n",
              "  .colab-df-quickchart-complete:disabled,\n",
              "  .colab-df-quickchart-complete:disabled:hover {\n",
              "    background-color: var(--disabled-bg-color);\n",
              "    fill: var(--disabled-fill-color);\n",
              "    box-shadow: none;\n",
              "  }\n",
              "\n",
              "  .colab-df-spinner {\n",
              "    border: 2px solid var(--fill-color);\n",
              "    border-color: transparent;\n",
              "    border-bottom-color: var(--fill-color);\n",
              "    animation:\n",
              "      spin 1s steps(1) infinite;\n",
              "  }\n",
              "\n",
              "  @keyframes spin {\n",
              "    0% {\n",
              "      border-color: transparent;\n",
              "      border-bottom-color: var(--fill-color);\n",
              "      border-left-color: var(--fill-color);\n",
              "    }\n",
              "    20% {\n",
              "      border-color: transparent;\n",
              "      border-left-color: var(--fill-color);\n",
              "      border-top-color: var(--fill-color);\n",
              "    }\n",
              "    30% {\n",
              "      border-color: transparent;\n",
              "      border-left-color: var(--fill-color);\n",
              "      border-top-color: var(--fill-color);\n",
              "      border-right-color: var(--fill-color);\n",
              "    }\n",
              "    40% {\n",
              "      border-color: transparent;\n",
              "      border-right-color: var(--fill-color);\n",
              "      border-top-color: var(--fill-color);\n",
              "    }\n",
              "    60% {\n",
              "      border-color: transparent;\n",
              "      border-right-color: var(--fill-color);\n",
              "    }\n",
              "    80% {\n",
              "      border-color: transparent;\n",
              "      border-right-color: var(--fill-color);\n",
              "      border-bottom-color: var(--fill-color);\n",
              "    }\n",
              "    90% {\n",
              "      border-color: transparent;\n",
              "      border-bottom-color: var(--fill-color);\n",
              "    }\n",
              "  }\n",
              "</style>\n",
              "\n",
              "      <script>\n",
              "        async function quickchart(key) {\n",
              "          const quickchartButtonEl =\n",
              "            document.querySelector('#' + key + ' button');\n",
              "          quickchartButtonEl.disabled = true;  // To prevent multiple clicks.\n",
              "          quickchartButtonEl.classList.add('colab-df-spinner');\n",
              "          try {\n",
              "            const charts = await google.colab.kernel.invokeFunction(\n",
              "                'suggestCharts', [key], {});\n",
              "          } catch (error) {\n",
              "            console.error('Error during call to suggestCharts:', error);\n",
              "          }\n",
              "          quickchartButtonEl.classList.remove('colab-df-spinner');\n",
              "          quickchartButtonEl.classList.add('colab-df-quickchart-complete');\n",
              "        }\n",
              "        (() => {\n",
              "          let quickchartButtonEl =\n",
              "            document.querySelector('#df-24bc654c-f955-4612-bdf0-66e0f2ffcaa1 button');\n",
              "          quickchartButtonEl.style.display =\n",
              "            google.colab.kernel.accessAllowed ? 'block' : 'none';\n",
              "        })();\n",
              "      </script>\n",
              "    </div>\n",
              "\n",
              "  <div id=\"id_765f303c-dc21-4c8d-b157-c84c61fb3f4e\">\n",
              "    <style>\n",
              "      .colab-df-generate {\n",
              "        background-color: #E8F0FE;\n",
              "        border: none;\n",
              "        border-radius: 50%;\n",
              "        cursor: pointer;\n",
              "        display: none;\n",
              "        fill: #1967D2;\n",
              "        height: 32px;\n",
              "        padding: 0 0 0 0;\n",
              "        width: 32px;\n",
              "      }\n",
              "\n",
              "      .colab-df-generate:hover {\n",
              "        background-color: #E2EBFA;\n",
              "        box-shadow: 0px 1px 2px rgba(60, 64, 67, 0.3), 0px 1px 3px 1px rgba(60, 64, 67, 0.15);\n",
              "        fill: #174EA6;\n",
              "      }\n",
              "\n",
              "      [theme=dark] .colab-df-generate {\n",
              "        background-color: #3B4455;\n",
              "        fill: #D2E3FC;\n",
              "      }\n",
              "\n",
              "      [theme=dark] .colab-df-generate:hover {\n",
              "        background-color: #434B5C;\n",
              "        box-shadow: 0px 1px 3px 1px rgba(0, 0, 0, 0.15);\n",
              "        filter: drop-shadow(0px 1px 2px rgba(0, 0, 0, 0.3));\n",
              "        fill: #FFFFFF;\n",
              "      }\n",
              "    </style>\n",
              "    <button class=\"colab-df-generate\" onclick=\"generateWithVariable('end')\"\n",
              "            title=\"Generate code using this dataframe.\"\n",
              "            style=\"display:none;\">\n",
              "\n",
              "  <svg xmlns=\"http://www.w3.org/2000/svg\" height=\"24px\"viewBox=\"0 0 24 24\"\n",
              "       width=\"24px\">\n",
              "    <path d=\"M7,19H8.4L18.45,9,17,7.55,7,17.6ZM5,21V16.75L18.45,3.32a2,2,0,0,1,2.83,0l1.4,1.43a1.91,1.91,0,0,1,.58,1.4,1.91,1.91,0,0,1-.58,1.4L9.25,21ZM18.45,9,17,7.55Zm-12,3A5.31,5.31,0,0,0,4.9,8.1,5.31,5.31,0,0,0,1,6.5,5.31,5.31,0,0,0,4.9,4.9,5.31,5.31,0,0,0,6.5,1,5.31,5.31,0,0,0,8.1,4.9,5.31,5.31,0,0,0,12,6.5,5.46,5.46,0,0,0,6.5,12Z\"/>\n",
              "  </svg>\n",
              "    </button>\n",
              "    <script>\n",
              "      (() => {\n",
              "      const buttonEl =\n",
              "        document.querySelector('#id_765f303c-dc21-4c8d-b157-c84c61fb3f4e button.colab-df-generate');\n",
              "      buttonEl.style.display =\n",
              "        google.colab.kernel.accessAllowed ? 'block' : 'none';\n",
              "\n",
              "      buttonEl.onclick = () => {\n",
              "        google.colab.notebook.generateWithVariable('end');\n",
              "      }\n",
              "      })();\n",
              "    </script>\n",
              "  </div>\n",
              "\n",
              "    </div>\n",
              "  </div>\n"
            ],
            "application/vnd.google.colaboratory.intrinsic+json": {
              "type": "dataframe",
              "variable_name": "end",
              "summary": "{\n  \"name\": \"end\",\n  \"rows\": 3,\n  \"fields\": [\n    {\n      \"column\": \"city\",\n      \"properties\": {\n        \"dtype\": \"string\",\n        \"num_unique_values\": 3,\n        \"samples\": [\n          \"London\",\n          \"Tokyo\",\n          \"Paris\"\n        ],\n        \"semantic_type\": \"\",\n        \"description\": \"\"\n      }\n    },\n    {\n      \"column\": \"end_date\",\n      \"properties\": {\n        \"dtype\": \"object\",\n        \"num_unique_values\": 3,\n        \"samples\": [\n          \"12th Aug, 2012\",\n          \"8th Aug, 2021\",\n          \"11th Aug, 2024\"\n        ],\n        \"semantic_type\": \"\",\n        \"description\": \"\"\n      }\n    }\n  ]\n}"
            }
          },
          "metadata": {},
          "execution_count": 27
        }
      ]
    },
    {
      "cell_type": "code",
      "source": [
        "pd.concat([start, end], axis=0)"
      ],
      "metadata": {
        "id": "3W6Ml__fBDT-",
        "outputId": "a1cff4d3-ee4b-4b4c-c7fd-2ca7376ca5ba",
        "colab": {
          "base_uri": "https://localhost:8080/",
          "height": 238
        }
      },
      "execution_count": 32,
      "outputs": [
        {
          "output_type": "execute_result",
          "data": {
            "text/plain": [
              "     city       start_date        end_date\n",
              "0  London   27th Jul, 2012             NaN\n",
              "1     Rio    5th Aug, 2016             NaN\n",
              "2   Tokyo  23rd July, 2021             NaN\n",
              "0  London              NaN  12th Aug, 2012\n",
              "1   Tokyo              NaN   8th Aug, 2021\n",
              "2   Paris              NaN  11th Aug, 2024"
            ],
            "text/html": [
              "\n",
              "  <div id=\"df-74590a1a-71e9-4044-a374-e51a6296a4af\" class=\"colab-df-container\">\n",
              "    <div>\n",
              "<style scoped>\n",
              "    .dataframe tbody tr th:only-of-type {\n",
              "        vertical-align: middle;\n",
              "    }\n",
              "\n",
              "    .dataframe tbody tr th {\n",
              "        vertical-align: top;\n",
              "    }\n",
              "\n",
              "    .dataframe thead th {\n",
              "        text-align: right;\n",
              "    }\n",
              "</style>\n",
              "<table border=\"1\" class=\"dataframe\">\n",
              "  <thead>\n",
              "    <tr style=\"text-align: right;\">\n",
              "      <th></th>\n",
              "      <th>city</th>\n",
              "      <th>start_date</th>\n",
              "      <th>end_date</th>\n",
              "    </tr>\n",
              "  </thead>\n",
              "  <tbody>\n",
              "    <tr>\n",
              "      <th>0</th>\n",
              "      <td>London</td>\n",
              "      <td>27th Jul, 2012</td>\n",
              "      <td>NaN</td>\n",
              "    </tr>\n",
              "    <tr>\n",
              "      <th>1</th>\n",
              "      <td>Rio</td>\n",
              "      <td>5th Aug, 2016</td>\n",
              "      <td>NaN</td>\n",
              "    </tr>\n",
              "    <tr>\n",
              "      <th>2</th>\n",
              "      <td>Tokyo</td>\n",
              "      <td>23rd July, 2021</td>\n",
              "      <td>NaN</td>\n",
              "    </tr>\n",
              "    <tr>\n",
              "      <th>0</th>\n",
              "      <td>London</td>\n",
              "      <td>NaN</td>\n",
              "      <td>12th Aug, 2012</td>\n",
              "    </tr>\n",
              "    <tr>\n",
              "      <th>1</th>\n",
              "      <td>Tokyo</td>\n",
              "      <td>NaN</td>\n",
              "      <td>8th Aug, 2021</td>\n",
              "    </tr>\n",
              "    <tr>\n",
              "      <th>2</th>\n",
              "      <td>Paris</td>\n",
              "      <td>NaN</td>\n",
              "      <td>11th Aug, 2024</td>\n",
              "    </tr>\n",
              "  </tbody>\n",
              "</table>\n",
              "</div>\n",
              "    <div class=\"colab-df-buttons\">\n",
              "\n",
              "  <div class=\"colab-df-container\">\n",
              "    <button class=\"colab-df-convert\" onclick=\"convertToInteractive('df-74590a1a-71e9-4044-a374-e51a6296a4af')\"\n",
              "            title=\"Convert this dataframe to an interactive table.\"\n",
              "            style=\"display:none;\">\n",
              "\n",
              "  <svg xmlns=\"http://www.w3.org/2000/svg\" height=\"24px\" viewBox=\"0 -960 960 960\">\n",
              "    <path d=\"M120-120v-720h720v720H120Zm60-500h600v-160H180v160Zm220 220h160v-160H400v160Zm0 220h160v-160H400v160ZM180-400h160v-160H180v160Zm440 0h160v-160H620v160ZM180-180h160v-160H180v160Zm440 0h160v-160H620v160Z\"/>\n",
              "  </svg>\n",
              "    </button>\n",
              "\n",
              "  <style>\n",
              "    .colab-df-container {\n",
              "      display:flex;\n",
              "      gap: 12px;\n",
              "    }\n",
              "\n",
              "    .colab-df-convert {\n",
              "      background-color: #E8F0FE;\n",
              "      border: none;\n",
              "      border-radius: 50%;\n",
              "      cursor: pointer;\n",
              "      display: none;\n",
              "      fill: #1967D2;\n",
              "      height: 32px;\n",
              "      padding: 0 0 0 0;\n",
              "      width: 32px;\n",
              "    }\n",
              "\n",
              "    .colab-df-convert:hover {\n",
              "      background-color: #E2EBFA;\n",
              "      box-shadow: 0px 1px 2px rgba(60, 64, 67, 0.3), 0px 1px 3px 1px rgba(60, 64, 67, 0.15);\n",
              "      fill: #174EA6;\n",
              "    }\n",
              "\n",
              "    .colab-df-buttons div {\n",
              "      margin-bottom: 4px;\n",
              "    }\n",
              "\n",
              "    [theme=dark] .colab-df-convert {\n",
              "      background-color: #3B4455;\n",
              "      fill: #D2E3FC;\n",
              "    }\n",
              "\n",
              "    [theme=dark] .colab-df-convert:hover {\n",
              "      background-color: #434B5C;\n",
              "      box-shadow: 0px 1px 3px 1px rgba(0, 0, 0, 0.15);\n",
              "      filter: drop-shadow(0px 1px 2px rgba(0, 0, 0, 0.3));\n",
              "      fill: #FFFFFF;\n",
              "    }\n",
              "  </style>\n",
              "\n",
              "    <script>\n",
              "      const buttonEl =\n",
              "        document.querySelector('#df-74590a1a-71e9-4044-a374-e51a6296a4af button.colab-df-convert');\n",
              "      buttonEl.style.display =\n",
              "        google.colab.kernel.accessAllowed ? 'block' : 'none';\n",
              "\n",
              "      async function convertToInteractive(key) {\n",
              "        const element = document.querySelector('#df-74590a1a-71e9-4044-a374-e51a6296a4af');\n",
              "        const dataTable =\n",
              "          await google.colab.kernel.invokeFunction('convertToInteractive',\n",
              "                                                    [key], {});\n",
              "        if (!dataTable) return;\n",
              "\n",
              "        const docLinkHtml = 'Like what you see? Visit the ' +\n",
              "          '<a target=\"_blank\" href=https://colab.research.google.com/notebooks/data_table.ipynb>data table notebook</a>'\n",
              "          + ' to learn more about interactive tables.';\n",
              "        element.innerHTML = '';\n",
              "        dataTable['output_type'] = 'display_data';\n",
              "        await google.colab.output.renderOutput(dataTable, element);\n",
              "        const docLink = document.createElement('div');\n",
              "        docLink.innerHTML = docLinkHtml;\n",
              "        element.appendChild(docLink);\n",
              "      }\n",
              "    </script>\n",
              "  </div>\n",
              "\n",
              "\n",
              "    <div id=\"df-56f6daf0-9896-4775-bddc-da2ddab68fa8\">\n",
              "      <button class=\"colab-df-quickchart\" onclick=\"quickchart('df-56f6daf0-9896-4775-bddc-da2ddab68fa8')\"\n",
              "                title=\"Suggest charts\"\n",
              "                style=\"display:none;\">\n",
              "\n",
              "<svg xmlns=\"http://www.w3.org/2000/svg\" height=\"24px\"viewBox=\"0 0 24 24\"\n",
              "     width=\"24px\">\n",
              "    <g>\n",
              "        <path d=\"M19 3H5c-1.1 0-2 .9-2 2v14c0 1.1.9 2 2 2h14c1.1 0 2-.9 2-2V5c0-1.1-.9-2-2-2zM9 17H7v-7h2v7zm4 0h-2V7h2v10zm4 0h-2v-4h2v4z\"/>\n",
              "    </g>\n",
              "</svg>\n",
              "      </button>\n",
              "\n",
              "<style>\n",
              "  .colab-df-quickchart {\n",
              "      --bg-color: #E8F0FE;\n",
              "      --fill-color: #1967D2;\n",
              "      --hover-bg-color: #E2EBFA;\n",
              "      --hover-fill-color: #174EA6;\n",
              "      --disabled-fill-color: #AAA;\n",
              "      --disabled-bg-color: #DDD;\n",
              "  }\n",
              "\n",
              "  [theme=dark] .colab-df-quickchart {\n",
              "      --bg-color: #3B4455;\n",
              "      --fill-color: #D2E3FC;\n",
              "      --hover-bg-color: #434B5C;\n",
              "      --hover-fill-color: #FFFFFF;\n",
              "      --disabled-bg-color: #3B4455;\n",
              "      --disabled-fill-color: #666;\n",
              "  }\n",
              "\n",
              "  .colab-df-quickchart {\n",
              "    background-color: var(--bg-color);\n",
              "    border: none;\n",
              "    border-radius: 50%;\n",
              "    cursor: pointer;\n",
              "    display: none;\n",
              "    fill: var(--fill-color);\n",
              "    height: 32px;\n",
              "    padding: 0;\n",
              "    width: 32px;\n",
              "  }\n",
              "\n",
              "  .colab-df-quickchart:hover {\n",
              "    background-color: var(--hover-bg-color);\n",
              "    box-shadow: 0 1px 2px rgba(60, 64, 67, 0.3), 0 1px 3px 1px rgba(60, 64, 67, 0.15);\n",
              "    fill: var(--button-hover-fill-color);\n",
              "  }\n",
              "\n",
              "  .colab-df-quickchart-complete:disabled,\n",
              "  .colab-df-quickchart-complete:disabled:hover {\n",
              "    background-color: var(--disabled-bg-color);\n",
              "    fill: var(--disabled-fill-color);\n",
              "    box-shadow: none;\n",
              "  }\n",
              "\n",
              "  .colab-df-spinner {\n",
              "    border: 2px solid var(--fill-color);\n",
              "    border-color: transparent;\n",
              "    border-bottom-color: var(--fill-color);\n",
              "    animation:\n",
              "      spin 1s steps(1) infinite;\n",
              "  }\n",
              "\n",
              "  @keyframes spin {\n",
              "    0% {\n",
              "      border-color: transparent;\n",
              "      border-bottom-color: var(--fill-color);\n",
              "      border-left-color: var(--fill-color);\n",
              "    }\n",
              "    20% {\n",
              "      border-color: transparent;\n",
              "      border-left-color: var(--fill-color);\n",
              "      border-top-color: var(--fill-color);\n",
              "    }\n",
              "    30% {\n",
              "      border-color: transparent;\n",
              "      border-left-color: var(--fill-color);\n",
              "      border-top-color: var(--fill-color);\n",
              "      border-right-color: var(--fill-color);\n",
              "    }\n",
              "    40% {\n",
              "      border-color: transparent;\n",
              "      border-right-color: var(--fill-color);\n",
              "      border-top-color: var(--fill-color);\n",
              "    }\n",
              "    60% {\n",
              "      border-color: transparent;\n",
              "      border-right-color: var(--fill-color);\n",
              "    }\n",
              "    80% {\n",
              "      border-color: transparent;\n",
              "      border-right-color: var(--fill-color);\n",
              "      border-bottom-color: var(--fill-color);\n",
              "    }\n",
              "    90% {\n",
              "      border-color: transparent;\n",
              "      border-bottom-color: var(--fill-color);\n",
              "    }\n",
              "  }\n",
              "</style>\n",
              "\n",
              "      <script>\n",
              "        async function quickchart(key) {\n",
              "          const quickchartButtonEl =\n",
              "            document.querySelector('#' + key + ' button');\n",
              "          quickchartButtonEl.disabled = true;  // To prevent multiple clicks.\n",
              "          quickchartButtonEl.classList.add('colab-df-spinner');\n",
              "          try {\n",
              "            const charts = await google.colab.kernel.invokeFunction(\n",
              "                'suggestCharts', [key], {});\n",
              "          } catch (error) {\n",
              "            console.error('Error during call to suggestCharts:', error);\n",
              "          }\n",
              "          quickchartButtonEl.classList.remove('colab-df-spinner');\n",
              "          quickchartButtonEl.classList.add('colab-df-quickchart-complete');\n",
              "        }\n",
              "        (() => {\n",
              "          let quickchartButtonEl =\n",
              "            document.querySelector('#df-56f6daf0-9896-4775-bddc-da2ddab68fa8 button');\n",
              "          quickchartButtonEl.style.display =\n",
              "            google.colab.kernel.accessAllowed ? 'block' : 'none';\n",
              "        })();\n",
              "      </script>\n",
              "    </div>\n",
              "\n",
              "    </div>\n",
              "  </div>\n"
            ],
            "application/vnd.google.colaboratory.intrinsic+json": {
              "type": "dataframe",
              "summary": "{\n  \"name\": \"pd\",\n  \"rows\": 6,\n  \"fields\": [\n    {\n      \"column\": \"city\",\n      \"properties\": {\n        \"dtype\": \"string\",\n        \"num_unique_values\": 4,\n        \"samples\": [\n          \"Rio\",\n          \"Paris\",\n          \"London\"\n        ],\n        \"semantic_type\": \"\",\n        \"description\": \"\"\n      }\n    },\n    {\n      \"column\": \"start_date\",\n      \"properties\": {\n        \"dtype\": \"string\",\n        \"num_unique_values\": 3,\n        \"samples\": [\n          \"27th Jul, 2012\",\n          \"5th Aug, 2016\",\n          \"23rd July, 2021\"\n        ],\n        \"semantic_type\": \"\",\n        \"description\": \"\"\n      }\n    },\n    {\n      \"column\": \"end_date\",\n      \"properties\": {\n        \"dtype\": \"date\",\n        \"min\": \"2012-08-12 00:00:00\",\n        \"max\": \"2024-08-11 00:00:00\",\n        \"num_unique_values\": 3,\n        \"samples\": [\n          \"12th Aug, 2012\",\n          \"8th Aug, 2021\",\n          \"11th Aug, 2024\"\n        ],\n        \"semantic_type\": \"\",\n        \"description\": \"\"\n      }\n    }\n  ]\n}"
            }
          },
          "metadata": {},
          "execution_count": 32
        }
      ]
    },
    {
      "cell_type": "code",
      "execution_count": 31,
      "metadata": {
        "id": "IV8rqQUnn5V-",
        "outputId": "2cf1ce75-2acd-4c33-c6a0-6eea9178e651",
        "colab": {
          "base_uri": "https://localhost:8080/",
          "height": 143
        }
      },
      "outputs": [
        {
          "output_type": "execute_result",
          "data": {
            "text/plain": [
              "     city       start_date    city        end_date\n",
              "0  London   27th Jul, 2012  London  12th Aug, 2012\n",
              "1     Rio    5th Aug, 2016   Tokyo   8th Aug, 2021\n",
              "2   Tokyo  23rd July, 2021   Paris  11th Aug, 2024"
            ],
            "text/html": [
              "\n",
              "  <div id=\"df-c663c47e-5636-4948-9016-334e2fd63053\" class=\"colab-df-container\">\n",
              "    <div>\n",
              "<style scoped>\n",
              "    .dataframe tbody tr th:only-of-type {\n",
              "        vertical-align: middle;\n",
              "    }\n",
              "\n",
              "    .dataframe tbody tr th {\n",
              "        vertical-align: top;\n",
              "    }\n",
              "\n",
              "    .dataframe thead th {\n",
              "        text-align: right;\n",
              "    }\n",
              "</style>\n",
              "<table border=\"1\" class=\"dataframe\">\n",
              "  <thead>\n",
              "    <tr style=\"text-align: right;\">\n",
              "      <th></th>\n",
              "      <th>city</th>\n",
              "      <th>start_date</th>\n",
              "      <th>city</th>\n",
              "      <th>end_date</th>\n",
              "    </tr>\n",
              "  </thead>\n",
              "  <tbody>\n",
              "    <tr>\n",
              "      <th>0</th>\n",
              "      <td>London</td>\n",
              "      <td>27th Jul, 2012</td>\n",
              "      <td>London</td>\n",
              "      <td>12th Aug, 2012</td>\n",
              "    </tr>\n",
              "    <tr>\n",
              "      <th>1</th>\n",
              "      <td>Rio</td>\n",
              "      <td>5th Aug, 2016</td>\n",
              "      <td>Tokyo</td>\n",
              "      <td>8th Aug, 2021</td>\n",
              "    </tr>\n",
              "    <tr>\n",
              "      <th>2</th>\n",
              "      <td>Tokyo</td>\n",
              "      <td>23rd July, 2021</td>\n",
              "      <td>Paris</td>\n",
              "      <td>11th Aug, 2024</td>\n",
              "    </tr>\n",
              "  </tbody>\n",
              "</table>\n",
              "</div>\n",
              "    <div class=\"colab-df-buttons\">\n",
              "\n",
              "  <div class=\"colab-df-container\">\n",
              "    <button class=\"colab-df-convert\" onclick=\"convertToInteractive('df-c663c47e-5636-4948-9016-334e2fd63053')\"\n",
              "            title=\"Convert this dataframe to an interactive table.\"\n",
              "            style=\"display:none;\">\n",
              "\n",
              "  <svg xmlns=\"http://www.w3.org/2000/svg\" height=\"24px\" viewBox=\"0 -960 960 960\">\n",
              "    <path d=\"M120-120v-720h720v720H120Zm60-500h600v-160H180v160Zm220 220h160v-160H400v160Zm0 220h160v-160H400v160ZM180-400h160v-160H180v160Zm440 0h160v-160H620v160ZM180-180h160v-160H180v160Zm440 0h160v-160H620v160Z\"/>\n",
              "  </svg>\n",
              "    </button>\n",
              "\n",
              "  <style>\n",
              "    .colab-df-container {\n",
              "      display:flex;\n",
              "      gap: 12px;\n",
              "    }\n",
              "\n",
              "    .colab-df-convert {\n",
              "      background-color: #E8F0FE;\n",
              "      border: none;\n",
              "      border-radius: 50%;\n",
              "      cursor: pointer;\n",
              "      display: none;\n",
              "      fill: #1967D2;\n",
              "      height: 32px;\n",
              "      padding: 0 0 0 0;\n",
              "      width: 32px;\n",
              "    }\n",
              "\n",
              "    .colab-df-convert:hover {\n",
              "      background-color: #E2EBFA;\n",
              "      box-shadow: 0px 1px 2px rgba(60, 64, 67, 0.3), 0px 1px 3px 1px rgba(60, 64, 67, 0.15);\n",
              "      fill: #174EA6;\n",
              "    }\n",
              "\n",
              "    .colab-df-buttons div {\n",
              "      margin-bottom: 4px;\n",
              "    }\n",
              "\n",
              "    [theme=dark] .colab-df-convert {\n",
              "      background-color: #3B4455;\n",
              "      fill: #D2E3FC;\n",
              "    }\n",
              "\n",
              "    [theme=dark] .colab-df-convert:hover {\n",
              "      background-color: #434B5C;\n",
              "      box-shadow: 0px 1px 3px 1px rgba(0, 0, 0, 0.15);\n",
              "      filter: drop-shadow(0px 1px 2px rgba(0, 0, 0, 0.3));\n",
              "      fill: #FFFFFF;\n",
              "    }\n",
              "  </style>\n",
              "\n",
              "    <script>\n",
              "      const buttonEl =\n",
              "        document.querySelector('#df-c663c47e-5636-4948-9016-334e2fd63053 button.colab-df-convert');\n",
              "      buttonEl.style.display =\n",
              "        google.colab.kernel.accessAllowed ? 'block' : 'none';\n",
              "\n",
              "      async function convertToInteractive(key) {\n",
              "        const element = document.querySelector('#df-c663c47e-5636-4948-9016-334e2fd63053');\n",
              "        const dataTable =\n",
              "          await google.colab.kernel.invokeFunction('convertToInteractive',\n",
              "                                                    [key], {});\n",
              "        if (!dataTable) return;\n",
              "\n",
              "        const docLinkHtml = 'Like what you see? Visit the ' +\n",
              "          '<a target=\"_blank\" href=https://colab.research.google.com/notebooks/data_table.ipynb>data table notebook</a>'\n",
              "          + ' to learn more about interactive tables.';\n",
              "        element.innerHTML = '';\n",
              "        dataTable['output_type'] = 'display_data';\n",
              "        await google.colab.output.renderOutput(dataTable, element);\n",
              "        const docLink = document.createElement('div');\n",
              "        docLink.innerHTML = docLinkHtml;\n",
              "        element.appendChild(docLink);\n",
              "      }\n",
              "    </script>\n",
              "  </div>\n",
              "\n",
              "\n",
              "    <div id=\"df-4d38cc50-03e4-43ad-bca4-38f8cc5ecc10\">\n",
              "      <button class=\"colab-df-quickchart\" onclick=\"quickchart('df-4d38cc50-03e4-43ad-bca4-38f8cc5ecc10')\"\n",
              "                title=\"Suggest charts\"\n",
              "                style=\"display:none;\">\n",
              "\n",
              "<svg xmlns=\"http://www.w3.org/2000/svg\" height=\"24px\"viewBox=\"0 0 24 24\"\n",
              "     width=\"24px\">\n",
              "    <g>\n",
              "        <path d=\"M19 3H5c-1.1 0-2 .9-2 2v14c0 1.1.9 2 2 2h14c1.1 0 2-.9 2-2V5c0-1.1-.9-2-2-2zM9 17H7v-7h2v7zm4 0h-2V7h2v10zm4 0h-2v-4h2v4z\"/>\n",
              "    </g>\n",
              "</svg>\n",
              "      </button>\n",
              "\n",
              "<style>\n",
              "  .colab-df-quickchart {\n",
              "      --bg-color: #E8F0FE;\n",
              "      --fill-color: #1967D2;\n",
              "      --hover-bg-color: #E2EBFA;\n",
              "      --hover-fill-color: #174EA6;\n",
              "      --disabled-fill-color: #AAA;\n",
              "      --disabled-bg-color: #DDD;\n",
              "  }\n",
              "\n",
              "  [theme=dark] .colab-df-quickchart {\n",
              "      --bg-color: #3B4455;\n",
              "      --fill-color: #D2E3FC;\n",
              "      --hover-bg-color: #434B5C;\n",
              "      --hover-fill-color: #FFFFFF;\n",
              "      --disabled-bg-color: #3B4455;\n",
              "      --disabled-fill-color: #666;\n",
              "  }\n",
              "\n",
              "  .colab-df-quickchart {\n",
              "    background-color: var(--bg-color);\n",
              "    border: none;\n",
              "    border-radius: 50%;\n",
              "    cursor: pointer;\n",
              "    display: none;\n",
              "    fill: var(--fill-color);\n",
              "    height: 32px;\n",
              "    padding: 0;\n",
              "    width: 32px;\n",
              "  }\n",
              "\n",
              "  .colab-df-quickchart:hover {\n",
              "    background-color: var(--hover-bg-color);\n",
              "    box-shadow: 0 1px 2px rgba(60, 64, 67, 0.3), 0 1px 3px 1px rgba(60, 64, 67, 0.15);\n",
              "    fill: var(--button-hover-fill-color);\n",
              "  }\n",
              "\n",
              "  .colab-df-quickchart-complete:disabled,\n",
              "  .colab-df-quickchart-complete:disabled:hover {\n",
              "    background-color: var(--disabled-bg-color);\n",
              "    fill: var(--disabled-fill-color);\n",
              "    box-shadow: none;\n",
              "  }\n",
              "\n",
              "  .colab-df-spinner {\n",
              "    border: 2px solid var(--fill-color);\n",
              "    border-color: transparent;\n",
              "    border-bottom-color: var(--fill-color);\n",
              "    animation:\n",
              "      spin 1s steps(1) infinite;\n",
              "  }\n",
              "\n",
              "  @keyframes spin {\n",
              "    0% {\n",
              "      border-color: transparent;\n",
              "      border-bottom-color: var(--fill-color);\n",
              "      border-left-color: var(--fill-color);\n",
              "    }\n",
              "    20% {\n",
              "      border-color: transparent;\n",
              "      border-left-color: var(--fill-color);\n",
              "      border-top-color: var(--fill-color);\n",
              "    }\n",
              "    30% {\n",
              "      border-color: transparent;\n",
              "      border-left-color: var(--fill-color);\n",
              "      border-top-color: var(--fill-color);\n",
              "      border-right-color: var(--fill-color);\n",
              "    }\n",
              "    40% {\n",
              "      border-color: transparent;\n",
              "      border-right-color: var(--fill-color);\n",
              "      border-top-color: var(--fill-color);\n",
              "    }\n",
              "    60% {\n",
              "      border-color: transparent;\n",
              "      border-right-color: var(--fill-color);\n",
              "    }\n",
              "    80% {\n",
              "      border-color: transparent;\n",
              "      border-right-color: var(--fill-color);\n",
              "      border-bottom-color: var(--fill-color);\n",
              "    }\n",
              "    90% {\n",
              "      border-color: transparent;\n",
              "      border-bottom-color: var(--fill-color);\n",
              "    }\n",
              "  }\n",
              "</style>\n",
              "\n",
              "      <script>\n",
              "        async function quickchart(key) {\n",
              "          const quickchartButtonEl =\n",
              "            document.querySelector('#' + key + ' button');\n",
              "          quickchartButtonEl.disabled = true;  // To prevent multiple clicks.\n",
              "          quickchartButtonEl.classList.add('colab-df-spinner');\n",
              "          try {\n",
              "            const charts = await google.colab.kernel.invokeFunction(\n",
              "                'suggestCharts', [key], {});\n",
              "          } catch (error) {\n",
              "            console.error('Error during call to suggestCharts:', error);\n",
              "          }\n",
              "          quickchartButtonEl.classList.remove('colab-df-spinner');\n",
              "          quickchartButtonEl.classList.add('colab-df-quickchart-complete');\n",
              "        }\n",
              "        (() => {\n",
              "          let quickchartButtonEl =\n",
              "            document.querySelector('#df-4d38cc50-03e4-43ad-bca4-38f8cc5ecc10 button');\n",
              "          quickchartButtonEl.style.display =\n",
              "            google.colab.kernel.accessAllowed ? 'block' : 'none';\n",
              "        })();\n",
              "      </script>\n",
              "    </div>\n",
              "\n",
              "    </div>\n",
              "  </div>\n"
            ],
            "application/vnd.google.colaboratory.intrinsic+json": {
              "type": "dataframe",
              "summary": "{\n  \"name\": \"pd\",\n  \"rows\": 3,\n  \"fields\": [\n    {\n      \"column\": \"city\",\n      \"properties\": {\n        \"dtype\": \"string\",\n        \"num_unique_values\": 3,\n        \"samples\": [\n          \"London\",\n          \"Rio\",\n          \"Tokyo\"\n        ],\n        \"semantic_type\": \"\",\n        \"description\": \"\"\n      }\n    },\n    {\n      \"column\": \"start_date\",\n      \"properties\": {\n        \"dtype\": \"string\",\n        \"num_unique_values\": 3,\n        \"samples\": [\n          \"27th Jul, 2012\",\n          \"5th Aug, 2016\",\n          \"23rd July, 2021\"\n        ],\n        \"semantic_type\": \"\",\n        \"description\": \"\"\n      }\n    },\n    {\n      \"column\": \"city\",\n      \"properties\": {\n        \"dtype\": \"string\",\n        \"num_unique_values\": 3,\n        \"samples\": [\n          \"London\",\n          \"Tokyo\",\n          \"Paris\"\n        ],\n        \"semantic_type\": \"\",\n        \"description\": \"\"\n      }\n    },\n    {\n      \"column\": \"end_date\",\n      \"properties\": {\n        \"dtype\": \"object\",\n        \"num_unique_values\": 3,\n        \"samples\": [\n          \"12th Aug, 2012\",\n          \"8th Aug, 2021\",\n          \"11th Aug, 2024\"\n        ],\n        \"semantic_type\": \"\",\n        \"description\": \"\"\n      }\n    }\n  ]\n}"
            }
          },
          "metadata": {},
          "execution_count": 31
        }
      ],
      "source": [
        "pd.concat([start, end], axis=1)"
      ]
    },
    {
      "cell_type": "markdown",
      "metadata": {
        "id": "95AObzLMaJ2O"
      },
      "source": [
        "**Inner join**"
      ]
    },
    {
      "cell_type": "code",
      "execution_count": null,
      "metadata": {
        "id": "mL_lnFQl_7pE"
      },
      "outputs": [],
      "source": [
        "start"
      ]
    },
    {
      "cell_type": "code",
      "execution_count": null,
      "metadata": {
        "id": "4CNVJS3f_7pE"
      },
      "outputs": [],
      "source": [
        "end"
      ]
    },
    {
      "cell_type": "code",
      "source": [
        "pd.merge?"
      ],
      "metadata": {
        "id": "O5wR6KsxA5HZ"
      },
      "execution_count": null,
      "outputs": []
    },
    {
      "cell_type": "code",
      "execution_count": null,
      "metadata": {
        "id": "4ZB3I1hDlsfT"
      },
      "outputs": [],
      "source": [
        "pd.merge(left=start, right=end, on=\"city\", how=\"inner\")"
      ]
    },
    {
      "cell_type": "markdown",
      "metadata": {
        "id": "x4qMqkY6aWfy"
      },
      "source": [
        "**Outer join**"
      ]
    },
    {
      "cell_type": "code",
      "execution_count": null,
      "metadata": {
        "id": "gXlmFT4FmP6B"
      },
      "outputs": [],
      "source": [
        "start"
      ]
    },
    {
      "cell_type": "code",
      "execution_count": null,
      "metadata": {
        "id": "vxXO0chfmRG7"
      },
      "outputs": [],
      "source": [
        "end"
      ]
    },
    {
      "cell_type": "code",
      "execution_count": null,
      "metadata": {
        "id": "EyPqa2Ndk5Mz"
      },
      "outputs": [],
      "source": [
        "pd.merge(left=start, right=end, on=\"city\", how=\"outer\")"
      ]
    },
    {
      "cell_type": "markdown",
      "metadata": {
        "id": "VKkhqBWfad0J"
      },
      "source": [
        "**Left join**"
      ]
    },
    {
      "cell_type": "code",
      "execution_count": null,
      "metadata": {
        "id": "Ts5pNF6mmWnh"
      },
      "outputs": [],
      "source": [
        "start"
      ]
    },
    {
      "cell_type": "code",
      "execution_count": null,
      "metadata": {
        "id": "uuAtLImaau4u"
      },
      "outputs": [],
      "source": [
        "pd.merge(left=start, right=end, on=\"city\", how=\"left\")"
      ]
    },
    {
      "cell_type": "markdown",
      "metadata": {
        "id": "dPgGwru2a9TB"
      },
      "source": [
        "**Right join**"
      ]
    },
    {
      "cell_type": "code",
      "execution_count": null,
      "metadata": {
        "id": "rXpbjz6HmaJh"
      },
      "outputs": [],
      "source": [
        "end"
      ]
    },
    {
      "cell_type": "code",
      "execution_count": null,
      "metadata": {
        "id": "nE5Gxayoa_XU"
      },
      "outputs": [],
      "source": [
        "pd.merge(left=start, right=end, on=\"city\", how=\"right\")"
      ]
    },
    {
      "cell_type": "markdown",
      "metadata": {
        "id": "DEyNm2RLoeGd"
      },
      "source": [
        "## Combining Datasets"
      ]
    },
    {
      "cell_type": "code",
      "source": [
        "!pip install --quiet pandas==2.0.2\n",
        "\n",
        "import pandas as pd\n",
        "from pathlib import Path\n",
        "\n",
        "if not Path(\"olympics_1896_2004.csv\").exists():\n",
        "  !wget https://github.com/jonfernandes/pandas_essential/raw/main/olympics_1896_2004.csv\n",
        "\n",
        "filename = \"olympics_1896_2004.csv\"\n",
        "print(\"Installed all of the necessary files for this section ...\")"
      ],
      "metadata": {
        "id": "5FPr9Euwp9Lj"
      },
      "execution_count": null,
      "outputs": []
    },
    {
      "cell_type": "code",
      "source": [
        "def preprocess(filename = \"olympics_1896_2004.csv\"):\n",
        "  \"\"\"Preparing and transforming dataframe\"\"\"\n",
        "  print(f\"Preprocessing {filename} ...\\n\")\n",
        "  ordered_medals = pd.api.types.CategoricalDtype(categories=[\"Bronze\", \"Silver\", \"Gold\"], ordered=True)\n",
        "  dtype_mapper = {\"Year\": \"int64\",\n",
        "                \"City\": \"string\",\n",
        "                \"Sport\": \"string\",\n",
        "                \"Discipline\": \"string\",\n",
        "                \"Athlete Name\": \"string\",\n",
        "                \"NOC\": \"string\",\n",
        "                \"Gender\": \"category\",\n",
        "                \"Event\": \"string\",\n",
        "                \"Event_gender\": \"category\",\n",
        "                \"Medal\": ordered_medals}\n",
        "  df = (pd.read_csv(filename, skiprows=5, dtype=dtype_mapper)\n",
        "        .drop('Position', axis=1)\n",
        "  )\n",
        "  df[\"Event Gender\"] = df[\"Event Gender\"].astype(\"category\")\n",
        "  return df\n",
        "\n",
        "preprocess()"
      ],
      "metadata": {
        "id": "Y7cv0VM762Pi"
      },
      "execution_count": null,
      "outputs": []
    },
    {
      "cell_type": "code",
      "execution_count": null,
      "metadata": {
        "id": "qvrU1Jh_oj4c"
      },
      "outputs": [],
      "source": [
        "oo = preprocess()\n",
        "oo.sample(3)"
      ]
    },
    {
      "cell_type": "code",
      "execution_count": null,
      "metadata": {
        "id": "PmWbYgeaojk9"
      },
      "outputs": [],
      "source": [
        "!wget https://github.com/jonfernandes/pandas_essential/raw/main/olympics_2008.csv"
      ]
    },
    {
      "cell_type": "code",
      "source": [
        "new_filename =  \"olympics_2008.csv\"\n",
        "nw = pd.read_csv(new_filename)\n",
        "nw.head(5)"
      ],
      "metadata": {
        "id": "ZpK7tnIzZVmG"
      },
      "execution_count": null,
      "outputs": []
    },
    {
      "cell_type": "code",
      "source": [
        "oo.sample(3)"
      ],
      "metadata": {
        "id": "NrkQRln1bNg6"
      },
      "execution_count": null,
      "outputs": []
    },
    {
      "cell_type": "code",
      "source": [
        "pd.concat([oo, nw], axis=0)"
      ],
      "metadata": {
        "id": "GM5UsBtlZ3Cr"
      },
      "execution_count": null,
      "outputs": []
    },
    {
      "cell_type": "code",
      "source": [
        "nw.columns"
      ],
      "metadata": {
        "id": "jdqpKDFbt9J2"
      },
      "execution_count": null,
      "outputs": []
    },
    {
      "cell_type": "code",
      "source": [
        "oo.columns"
      ],
      "metadata": {
        "id": "KM9vztovt_m2"
      },
      "execution_count": null,
      "outputs": []
    },
    {
      "cell_type": "code",
      "source": [
        "nw.columns = ['City', 'Edition', 'Sport', 'Discipline', 'Athlete', 'Country_code',\n",
        "       'Gender', 'Event', 'Event_gender', 'Medal', 'Result']\n",
        "nw.columns"
      ],
      "metadata": {
        "id": "21cc4lPQuNny"
      },
      "execution_count": null,
      "outputs": []
    },
    {
      "cell_type": "code",
      "source": [
        "new_columns = ['City', 'Edition', 'Sport', 'Discipline', 'Athlete', 'Country_code',\n",
        "       'Gender', 'Event', 'Event_gender', 'Medal', 'Result']"
      ],
      "metadata": {
        "id": "bDXyYYwb6YJq"
      },
      "execution_count": null,
      "outputs": []
    },
    {
      "cell_type": "code",
      "source": [
        "nw = pd.read_csv(new_filename, names=new_columns)\n",
        "nw.columns"
      ],
      "metadata": {
        "id": "35q0mneeuuWU"
      },
      "execution_count": null,
      "outputs": []
    },
    {
      "cell_type": "code",
      "source": [
        "nw.columns = [column.capitalize() for column in nw.columns]\n",
        "nw.columns"
      ],
      "metadata": {
        "id": "m6s7OzQnugEk"
      },
      "execution_count": null,
      "outputs": []
    },
    {
      "cell_type": "code",
      "source": [
        "pd.concat([oo, nw], axis=0)"
      ],
      "metadata": {
        "id": "9ITtwDmGvDn1"
      },
      "execution_count": null,
      "outputs": []
    },
    {
      "cell_type": "code",
      "source": [
        "oo.columns"
      ],
      "metadata": {
        "id": "c854ig1uvrJh"
      },
      "execution_count": null,
      "outputs": []
    },
    {
      "cell_type": "code",
      "source": [
        "nw.columns"
      ],
      "metadata": {
        "id": "TFLt_GF_vurN"
      },
      "execution_count": null,
      "outputs": []
    },
    {
      "cell_type": "code",
      "source": [
        "nw.columns = ['City', 'Year', 'Sport', 'Discipline', 'Athlete Name', 'NOC',\n",
        "       'Gender', 'Event', 'Event Gender', 'Medal', 'Result']"
      ],
      "metadata": {
        "id": "30-bKfomwMIY"
      },
      "execution_count": null,
      "outputs": []
    },
    {
      "cell_type": "code",
      "source": [
        "pd.concat([oo, nw], axis=0)"
      ],
      "metadata": {
        "id": "6RFkaLASwbHe"
      },
      "execution_count": null,
      "outputs": []
    },
    {
      "cell_type": "code",
      "source": [
        "nw.Result.unique()"
      ],
      "metadata": {
        "id": "mW7SKK0Kxa3Q"
      },
      "execution_count": null,
      "outputs": []
    },
    {
      "cell_type": "code",
      "source": [
        "nw = nw.drop(\"Result\", axis=1)\n",
        "nw.sample(3)"
      ],
      "metadata": {
        "id": "Ma1wyjIDxfev"
      },
      "execution_count": null,
      "outputs": []
    },
    {
      "cell_type": "code",
      "source": [
        "pd.concat([oo, nw], axis=0)"
      ],
      "metadata": {
        "id": "bEQ84QIFxuMc"
      },
      "execution_count": null,
      "outputs": []
    },
    {
      "cell_type": "code",
      "source": [
        "pd.concat([oo, nw], axis=0).dtypes"
      ],
      "metadata": {
        "id": "rOriZgSsx1PK"
      },
      "execution_count": null,
      "outputs": []
    },
    {
      "cell_type": "code",
      "source": [
        "def preprocess_2008(filename=\"olympics_2008.csv\"):\n",
        "  df = pd.read_csv(filename)\n",
        "  df.columns = ['City', 'Year', 'Sport', 'Discipline', 'Athlete Name', 'NOC',\n",
        "       'Gender', 'Event', 'Event Gender', 'Medal', 'Result']\n",
        "  df = df.drop(\"Result\", axis=1)\n",
        "  return df\n",
        "\n",
        "nw = preprocess_2008()\n",
        "nw.sample(3)"
      ],
      "metadata": {
        "id": "ELoqzkbqw1yT"
      },
      "execution_count": null,
      "outputs": []
    },
    {
      "cell_type": "markdown",
      "source": [
        "## Working with Missing Data"
      ],
      "metadata": {
        "id": "FematpDlyP3J"
      }
    },
    {
      "cell_type": "code",
      "source": [
        "!pip install --quiet pandas==2.0.2\n",
        "\n",
        "import pandas as pd\n",
        "from pathlib import Path\n",
        "\n",
        "if not Path(\"olympics_1896_2004.csv\").exists():\n",
        "  !wget https://github.com/jonfernandes/pandas_essential/raw/main/olympics_1896_2004.csv\n",
        "if not Path(\"olympics_2008.csv\").exists():\n",
        "  !wget https://github.com/jonfernandes/pandas_essential/raw/main/olympics_2008.csv\n",
        "\n",
        "filename = \"olympics_1896_2004.csv\"\n",
        "print(\"Installed all of the necessary files for this section ...\")"
      ],
      "metadata": {
        "id": "uKhIUj8UrJTT"
      },
      "execution_count": null,
      "outputs": []
    },
    {
      "cell_type": "code",
      "source": [
        "nw = preprocess_2008()\n",
        "nw.sample(3)"
      ],
      "metadata": {
        "id": "rWt8-HcXyT61"
      },
      "execution_count": null,
      "outputs": []
    },
    {
      "cell_type": "code",
      "source": [
        "nw.info()"
      ],
      "metadata": {
        "id": "k5D4UxSWyabN"
      },
      "execution_count": null,
      "outputs": []
    },
    {
      "cell_type": "code",
      "source": [
        "import re\n",
        "\n",
        "search_string = \"na\"\n",
        "\n",
        "[func for func in dir(nw.City) if re.search(rf\"{search_string}$\", func, re.IGNORECASE)]"
      ],
      "metadata": {
        "id": "inv1wbnFEu15"
      },
      "execution_count": null,
      "outputs": []
    },
    {
      "cell_type": "code",
      "source": [
        "nw.City.isna?"
      ],
      "metadata": {
        "id": "66DdxC_JEO_s"
      },
      "execution_count": null,
      "outputs": []
    },
    {
      "cell_type": "code",
      "source": [
        "nw.City.isna()"
      ],
      "metadata": {
        "id": "4uoReWLZ3eLU"
      },
      "execution_count": null,
      "outputs": []
    },
    {
      "cell_type": "code",
      "source": [
        "nw.City.isna().sum()"
      ],
      "metadata": {
        "id": "pM4SAK_l3jKa"
      },
      "execution_count": null,
      "outputs": []
    },
    {
      "cell_type": "code",
      "source": [
        "nw[nw.City.isna()]"
      ],
      "metadata": {
        "id": "3OEXLwoEye78"
      },
      "execution_count": null,
      "outputs": []
    },
    {
      "cell_type": "code",
      "source": [
        "nw.City.unique()"
      ],
      "metadata": {
        "id": "1erE0ZRw_4y4"
      },
      "execution_count": null,
      "outputs": []
    },
    {
      "cell_type": "code",
      "source": [
        "nw.shape"
      ],
      "metadata": {
        "id": "oGJ7HNak6wxa"
      },
      "execution_count": null,
      "outputs": []
    },
    {
      "cell_type": "code",
      "source": [
        "import re\n",
        "\n",
        "search_string = \"na\"\n",
        "\n",
        "[func for func in dir(nw.City) if re.search(rf\"{search_string}$\", func, re.IGNORECASE)]"
      ],
      "metadata": {
        "id": "BwcYzjE0FV64"
      },
      "execution_count": null,
      "outputs": []
    },
    {
      "cell_type": "code",
      "source": [
        "nw.City.fillna?"
      ],
      "metadata": {
        "id": "laxs_wK0AQ8i"
      },
      "execution_count": null,
      "outputs": []
    },
    {
      "cell_type": "code",
      "source": [
        "nw.City = nw.City.fillna(value=\"Beijing\")\n",
        "nw.City.unique()"
      ],
      "metadata": {
        "id": "zddqCceEAIfB"
      },
      "execution_count": null,
      "outputs": []
    },
    {
      "cell_type": "code",
      "source": [
        "nw.Year"
      ],
      "metadata": {
        "id": "e9b8FghNA440"
      },
      "execution_count": null,
      "outputs": []
    },
    {
      "cell_type": "code",
      "source": [
        "nw.Year.unique()"
      ],
      "metadata": {
        "id": "A78SlZC9481h"
      },
      "execution_count": null,
      "outputs": []
    },
    {
      "cell_type": "code",
      "source": [
        "nw.Year = nw.Year.fillna(value=2008)\n",
        "nw.info()"
      ],
      "metadata": {
        "id": "nNC-1pr-5EOL"
      },
      "execution_count": null,
      "outputs": []
    },
    {
      "cell_type": "code",
      "source": [
        "def preprocess_2008(filename=\"olympics_2008.csv\"):\n",
        "  df = pd.read_csv(filename)\n",
        "  df.columns = ['City', 'Year', 'Sport', 'Discipline', 'Athlete Name', 'NOC',\n",
        "       'Gender', 'Event', 'Event Gender', 'Medal', 'Result']\n",
        "  df = df.drop(\"Result\", axis=1)\n",
        "  df.City = df.City.fillna(value=\"Beijing\")\n",
        "  df.Year = df.Year.fillna(value=2008)\n",
        "  return df\n",
        "\n",
        "nw = preprocess_2008()\n",
        "nw.sample(3)"
      ],
      "metadata": {
        "id": "azUTDKxc5ctc"
      },
      "execution_count": null,
      "outputs": []
    },
    {
      "cell_type": "code",
      "source": [
        "nw.dtypes"
      ],
      "metadata": {
        "id": "05dHle50VjsF"
      },
      "execution_count": null,
      "outputs": []
    },
    {
      "cell_type": "markdown",
      "source": [
        "## Removing Missing Data"
      ],
      "metadata": {
        "id": "emB7XuGpBOPu"
      }
    },
    {
      "cell_type": "code",
      "source": [
        "!pip install --quiet pandas==2.0.2\n",
        "\n",
        "import pandas as pd\n",
        "from pathlib import Path\n",
        "\n",
        "if not Path(\"olympics_1896_2004.csv\").exists():\n",
        "  !wget https://github.com/jonfernandes/pandas_essential/raw/main/olympics_1896_2004.csv\n",
        "if not Path(\"olympics_2008.csv\").exists():\n",
        "  !wget https://github.com/jonfernandes/pandas_essential/raw/main/olympics_2008.csv\n",
        "\n",
        "filename = \"olympics_1896_2004.csv\"\n",
        "print(\"Installed all of the necessary files for this section ...\")"
      ],
      "metadata": {
        "id": "IMeKqkvprH96"
      },
      "execution_count": null,
      "outputs": []
    },
    {
      "cell_type": "code",
      "source": [
        "def preprocess_2008(filename=\"olympics_2008.csv\"):\n",
        "  df = pd.read_csv(filename)\n",
        "  df.columns = ['City', 'Year', 'Sport', 'Discipline', 'Athlete Name', 'NOC',\n",
        "       'Gender', 'Event', 'Event Gender', 'Medal', 'Result']\n",
        "  df = df.drop(\"Result\", axis=1)\n",
        "  df.City = df.City.fillna(value=\"Beijing\")\n",
        "  df.Year = df.Year.fillna(value=2008)\n",
        "  return df\n",
        "\n",
        "nw = preprocess_2008()\n",
        "nw.sample(3)"
      ],
      "metadata": {
        "id": "I_ywNXrrBQrt"
      },
      "execution_count": null,
      "outputs": []
    },
    {
      "cell_type": "code",
      "source": [
        "nw.info()"
      ],
      "metadata": {
        "id": "D0GGrn5-BUi8"
      },
      "execution_count": null,
      "outputs": []
    },
    {
      "cell_type": "code",
      "source": [
        "nw[nw.Sport.isna()]"
      ],
      "metadata": {
        "id": "CZMPwsAmYbQj"
      },
      "execution_count": null,
      "outputs": []
    },
    {
      "cell_type": "code",
      "source": [
        "nw.dropna(how=\"all\", axis=0)"
      ],
      "metadata": {
        "id": "7arenC0wB7vk"
      },
      "execution_count": null,
      "outputs": []
    },
    {
      "cell_type": "code",
      "source": [
        "nw.dropna(how=\"any\", axis=0)"
      ],
      "metadata": {
        "id": "5aatWXUuCdu2"
      },
      "execution_count": null,
      "outputs": []
    },
    {
      "cell_type": "code",
      "source": [
        "nw[nw.Sport.isna()]"
      ],
      "metadata": {
        "id": "2G7qXMqiCj7N"
      },
      "execution_count": null,
      "outputs": []
    },
    {
      "cell_type": "code",
      "source": [
        "nw.dropna?"
      ],
      "metadata": {
        "id": "_P6iWSr7Cz4h"
      },
      "execution_count": null,
      "outputs": []
    },
    {
      "cell_type": "code",
      "source": [
        "nw.columns"
      ],
      "metadata": {
        "id": "YOGjsI6kCvDY"
      },
      "execution_count": null,
      "outputs": []
    },
    {
      "cell_type": "code",
      "source": [
        "nw.dropna(subset=['Sport', 'Discipline', 'Athlete Name', 'NOC', 'Gender',\n",
        "       'Event', 'Event Gender', 'Medal'], how=\"all\")"
      ],
      "metadata": {
        "id": "XoovbAMMClzE"
      },
      "execution_count": null,
      "outputs": []
    },
    {
      "cell_type": "code",
      "source": [
        "nw = nw.dropna(subset=['Sport', 'Discipline', 'Athlete Name', 'NOC', 'Gender',\n",
        "       'Event', 'Event Gender', 'Medal'], how=\"all\")\n",
        "nw.info()"
      ],
      "metadata": {
        "id": "_DJc-cyaDLab"
      },
      "execution_count": null,
      "outputs": []
    },
    {
      "cell_type": "code",
      "source": [
        "def preprocess_2008(filename=\"olympics_2008.csv\"):\n",
        "  df = pd.read_csv(filename)\n",
        "  df.columns = ['City', 'Year', 'Sport', 'Discipline', 'Athlete Name', 'NOC',\n",
        "       'Gender', 'Event', 'Event Gender', 'Medal', 'Result']\n",
        "  df = df.drop(\"Result\", axis=1)\n",
        "  df.City = df.City.fillna(value=\"Beijing\")\n",
        "  df.Year = df.Year.fillna(value=2008)\n",
        "  df = df.dropna(subset=['Sport', 'Discipline', 'Athlete Name', 'NOC', 'Gender',\n",
        "       'Event', 'Event Gender', 'Medal'], how=\"all\")\n",
        "  return df\n",
        "\n",
        "nw = preprocess_2008()\n",
        "nw.sample(3)"
      ],
      "metadata": {
        "id": "TbvIR2KuDOce"
      },
      "execution_count": null,
      "outputs": []
    },
    {
      "cell_type": "markdown",
      "source": [
        "##Working with Duplicates"
      ],
      "metadata": {
        "id": "Utjd5YTX5ruR"
      }
    },
    {
      "cell_type": "code",
      "source": [
        "!pip install --quiet pandas==2.0.2\n",
        "\n",
        "import pandas as pd\n",
        "from pathlib import Path\n",
        "\n",
        "if not Path(\"olympics_1896_2004.csv\").exists():\n",
        "  !wget https://github.com/jonfernandes/pandas_essential/raw/main/olympics_1896_2004.csv\n",
        "if not Path(\"olympics_2008.csv\").exists():\n",
        "  !wget https://github.com/jonfernandes/pandas_essential/raw/main/olympics_2008.csv\n",
        "\n",
        "filename = \"olympics_1896_2004.csv\"\n",
        "print(\"Installed all of the necessary files for this section ...\")"
      ],
      "metadata": {
        "id": "Wx0imt2brFps"
      },
      "execution_count": null,
      "outputs": []
    },
    {
      "cell_type": "code",
      "source": [
        "def preprocess_2008(filename=\"olympics_2008.csv\"):\n",
        "  df = pd.read_csv(filename)\n",
        "  df.columns = ['City', 'Year', 'Sport', 'Discipline', 'Athlete Name', 'NOC',\n",
        "       'Gender', 'Event', 'Event Gender', 'Medal', 'Result']\n",
        "  df = df.drop(\"Result\", axis=1)\n",
        "  df.City = df.City.fillna(value=\"Beijing\")\n",
        "  df.Year = df.Year.fillna(value=2008)\n",
        "  df = df.dropna(subset=['Sport', 'Discipline', 'Athlete Name', 'NOC', 'Gender',\n",
        "       'Event', 'Event Gender', 'Medal'], how=\"all\")\n",
        "  return df\n",
        "\n",
        "nw = preprocess_2008()\n",
        "nw.sample(3)"
      ],
      "metadata": {
        "id": "PhF-plEy5rOc"
      },
      "execution_count": null,
      "outputs": []
    },
    {
      "cell_type": "code",
      "source": [
        "nw.shape"
      ],
      "metadata": {
        "id": "lnY00dZWD1_8"
      },
      "execution_count": null,
      "outputs": []
    },
    {
      "cell_type": "code",
      "source": [
        "nw.duplicated?"
      ],
      "metadata": {
        "id": "pZ6N3UlLBzX8"
      },
      "execution_count": null,
      "outputs": []
    },
    {
      "cell_type": "code",
      "source": [
        "nw.duplicated()"
      ],
      "metadata": {
        "id": "NgPpC9HQE3Ry"
      },
      "execution_count": null,
      "outputs": []
    },
    {
      "cell_type": "code",
      "source": [
        "nw.duplicated().sum()"
      ],
      "metadata": {
        "id": "Jgp4ubzZGa9o"
      },
      "execution_count": null,
      "outputs": []
    },
    {
      "cell_type": "code",
      "source": [
        "nw.loc[nw.duplicated(), :]"
      ],
      "metadata": {
        "id": "JVtJfNHJE3Of"
      },
      "execution_count": null,
      "outputs": []
    },
    {
      "cell_type": "code",
      "source": [
        "nw.shape"
      ],
      "metadata": {
        "id": "IBd61f-72BfX"
      },
      "execution_count": null,
      "outputs": []
    },
    {
      "cell_type": "code",
      "source": [
        "nw = nw.drop_duplicates()\n",
        "nw.shape"
      ],
      "metadata": {
        "id": "O87BZiyT17P-"
      },
      "execution_count": null,
      "outputs": []
    },
    {
      "cell_type": "code",
      "source": [
        "nw.columns"
      ],
      "metadata": {
        "id": "bECzvRPB2gDS"
      },
      "execution_count": null,
      "outputs": []
    },
    {
      "cell_type": "code",
      "source": [
        "athlete_multiple_events = nw.duplicated(subset=['Athlete Name', 'NOC', 'Gender'])\n",
        "athlete_multiple_events"
      ],
      "metadata": {
        "id": "0QXfMx362b90"
      },
      "execution_count": null,
      "outputs": []
    },
    {
      "cell_type": "code",
      "source": [
        "nw.duplicated?"
      ],
      "metadata": {
        "id": "qbe4O9cG9Bx6"
      },
      "execution_count": null,
      "outputs": []
    },
    {
      "cell_type": "code",
      "source": [
        "nw.loc[athlete_multiple_events, :]"
      ],
      "metadata": {
        "id": "AXu-1OdR23dQ"
      },
      "execution_count": null,
      "outputs": []
    },
    {
      "cell_type": "code",
      "source": [
        "nw.loc[athlete_multiple_events, :].sort_values(\"Athlete Name\")"
      ],
      "metadata": {
        "id": "Aejpo1cQ9t8z"
      },
      "execution_count": null,
      "outputs": []
    },
    {
      "cell_type": "code",
      "source": [
        "nw.loc[nw[\"Athlete Name\"] == \"ZOU, Kai\"]"
      ],
      "metadata": {
        "id": "OSVcTGp26RL1"
      },
      "execution_count": null,
      "outputs": []
    },
    {
      "cell_type": "code",
      "source": [
        "def preprocess_2008(filename=\"olympics_2008.csv\"):\n",
        "  df = pd.read_csv(filename)\n",
        "  df.columns = ['City', 'Year', 'Sport', 'Discipline', 'Athlete Name', 'NOC',\n",
        "       'Gender', 'Event', 'Event Gender', 'Medal', 'Result']\n",
        "  df = df.drop(\"Result\", axis=1)\n",
        "  df.City = df.City.fillna(value=\"Beijing\")\n",
        "  df.Year = df.Year.fillna(value=2008)\n",
        "  df = df.dropna(subset=['Sport', 'Discipline', 'Athlete Name', 'NOC', 'Gender',\n",
        "       'Event', 'Event Gender', 'Medal'], how=\"all\")\n",
        "  df = df.drop_duplicates()\n",
        "  return df\n",
        "\n",
        "nw = preprocess_2008()\n",
        "nw.sample(3)"
      ],
      "metadata": {
        "id": "JvOKU5gh-LkC"
      },
      "execution_count": null,
      "outputs": []
    },
    {
      "cell_type": "markdown",
      "metadata": {
        "id": "UbtEix9Y-6Uc"
      },
      "source": [
        "## Validating data"
      ]
    },
    {
      "cell_type": "code",
      "source": [
        "!pip install --quiet pandas==2.0.2\n",
        "\n",
        "import pandas as pd\n",
        "from pathlib import Path\n",
        "\n",
        "if not Path(\"olympics_1896_2004.csv\").exists():\n",
        "  !wget https://github.com/jonfernandes/pandas_essential/raw/main/olympics_1896_2004.csv\n",
        "if not Path(\"olympics_2008.csv\").exists():\n",
        "  !wget https://github.com/jonfernandes/pandas_essential/raw/main/olympics_2008.csv\n",
        "\n",
        "filename = \"olympics_1896_2004.csv\"\n",
        "print(\"Installed all of the necessary files for this section ...\")"
      ],
      "metadata": {
        "id": "K-3GE0qErC57"
      },
      "execution_count": null,
      "outputs": []
    },
    {
      "cell_type": "code",
      "source": [
        "def preprocess(filename = \"olympics_1896_2004.csv\"):\n",
        "  \"\"\"Preparing and transforming dataframe\"\"\"\n",
        "  print(f\"Preprocessing {filename} ...\\n\")\n",
        "  ordered_medals = pd.api.types.CategoricalDtype(categories=[\"Bronze\", \"Silver\", \"Gold\"], ordered=True)\n",
        "  dtype_mapper = {\"Year\": \"int64\",\n",
        "                \"City\": \"string\",\n",
        "                \"Sport\": \"string\",\n",
        "                \"Discipline\": \"string\",\n",
        "                \"Athlete Name\": \"string\",\n",
        "                \"NOC\": \"string\",\n",
        "                \"Gender\": \"category\",\n",
        "                \"Event\": \"string\",\n",
        "                \"Event_gender\": \"category\",\n",
        "                \"Medal\": ordered_medals}\n",
        "  df = (pd.read_csv(filename, skiprows=5, dtype=dtype_mapper)\n",
        "        .drop('Position', axis=1)\n",
        "  )\n",
        "  df[\"Event Gender\"] = df[\"Event Gender\"].astype(\"category\")\n",
        "  return df\n",
        "\n",
        "oo = preprocess()\n",
        "\n",
        "def preprocess_2008(filename=\"olympics_2008.csv\"):\n",
        "  df = pd.read_csv(filename)\n",
        "  df.columns = ['City', 'Year', 'Sport', 'Discipline', 'Athlete Name', 'NOC',\n",
        "       'Gender', 'Event', 'Event Gender', 'Medal', 'Result']\n",
        "  df = df.drop(\"Result\", axis=1)\n",
        "  df.City = df.City.fillna(value=\"Beijing\")\n",
        "  df.Year = df.Year.fillna(value=2008)\n",
        "  df = df.dropna(subset=['Sport', 'Discipline', 'Athlete Name', 'NOC', 'Gender',\n",
        "       'Event', 'Event Gender', 'Medal'], how=\"all\")\n",
        "  df = df.drop_duplicates()\n",
        "  return df\n",
        "\n",
        "nw = preprocess_2008()\n",
        "nw.sample(3)"
      ],
      "metadata": {
        "id": "HwNEL7CXQyu5"
      },
      "execution_count": null,
      "outputs": []
    },
    {
      "cell_type": "code",
      "source": [
        "nw[\"Event Gender\"].unique()"
      ],
      "metadata": {
        "id": "rhetXk9g8AsY"
      },
      "execution_count": null,
      "outputs": []
    },
    {
      "cell_type": "code",
      "source": [
        "nw.Gender.unique()"
      ],
      "metadata": {
        "id": "l1qJFDAX8GSY"
      },
      "execution_count": null,
      "outputs": []
    },
    {
      "cell_type": "code",
      "execution_count": null,
      "metadata": {
        "id": "eYHYicgr_EzJ"
      },
      "outputs": [],
      "source": [
        "nw.loc[(nw[\"Event Gender\"] == \"M\") & (nw.Gender != \"Men\")]"
      ]
    },
    {
      "cell_type": "code",
      "execution_count": null,
      "metadata": {
        "id": "l1sWOUlZBylc"
      },
      "outputs": [],
      "source": [
        "nw.loc[(nw[\"Event Gender\"] == \"F\") & (nw.Gender != \"Women\")]"
      ]
    },
    {
      "cell_type": "code",
      "source": [
        "nw.loc[(nw.Gender == \"Women\") & ((nw[\"Event Gender\"] != \"W\") & (nw[\"Event Gender\"] != \"X\"))]"
      ],
      "metadata": {
        "id": "EuwgJImaMzwT"
      },
      "execution_count": null,
      "outputs": []
    },
    {
      "cell_type": "code",
      "source": [
        "nw.loc[(nw.Gender == \"Men\") & ((nw[\"Event Gender\"] != \"M\") & (nw[\"Event Gender\"] != \"X\"))]"
      ],
      "metadata": {
        "id": "JIpUdf5oGImN"
      },
      "execution_count": null,
      "outputs": []
    },
    {
      "cell_type": "code",
      "source": [
        "oo[\"Event Gender\"].unique()"
      ],
      "metadata": {
        "id": "EX9V3FzM9BQt"
      },
      "execution_count": null,
      "outputs": []
    },
    {
      "cell_type": "code",
      "source": [
        "oo.Gender.unique()"
      ],
      "metadata": {
        "id": "-0BXwVdH9OAH"
      },
      "execution_count": null,
      "outputs": []
    },
    {
      "cell_type": "code",
      "source": [
        "oo.loc[(oo[\"Event Gender\"] == \"M\") & (oo.Gender != \"Men\")]"
      ],
      "metadata": {
        "id": "9TkKywKF9dIP"
      },
      "execution_count": null,
      "outputs": []
    },
    {
      "cell_type": "code",
      "source": [
        "oo.loc[(oo[\"Event Gender\"] == \"F\") & (oo.Gender != \"Women\")]"
      ],
      "metadata": {
        "id": "D_pgFuPv9kbM"
      },
      "execution_count": null,
      "outputs": []
    },
    {
      "cell_type": "code",
      "source": [
        "oo.loc[(oo.Gender == \"Women\") & ((oo[\"Event Gender\"] != \"W\") & (oo[\"Event Gender\"] != \"X\"))]"
      ],
      "metadata": {
        "id": "vlnNr3cU9zyy"
      },
      "execution_count": null,
      "outputs": []
    },
    {
      "cell_type": "code",
      "source": [
        "oo.loc[(oo.Gender == \"Men\") & ((oo[\"Event Gender\"] != \"M\") & (oo[\"Event Gender\"] != \"X\"))]"
      ],
      "metadata": {
        "id": "RBRUQUVm96_l"
      },
      "execution_count": null,
      "outputs": []
    },
    {
      "cell_type": "code",
      "source": [
        "oo.loc[(oo.Year == 2000) & (oo.Event == \"marathon\")]"
      ],
      "metadata": {
        "id": "-SbUAODK-LB1"
      },
      "execution_count": null,
      "outputs": []
    },
    {
      "cell_type": "code",
      "source": [
        "oo.loc[24676, \"Gender\"] = \"Women\"\n",
        "oo.loc[(oo.Year == 2000) & (oo.Event == \"marathon\")]"
      ],
      "metadata": {
        "id": "oKFCpt5S_ofd"
      },
      "execution_count": null,
      "outputs": []
    },
    {
      "cell_type": "code",
      "source": [
        "def preprocess(filename = \"olympics_1896_2004.csv\"):\n",
        "  \"\"\"Preparing and transforming dataframe\"\"\"\n",
        "  print(f\"Preprocessing {filename} ...\\n\")\n",
        "  ordered_medals = pd.api.types.CategoricalDtype(categories=[\"Bronze\", \"Silver\", \"Gold\"], ordered=True)\n",
        "  dtype_mapper = {\"Year\": \"int64\",\n",
        "                \"City\": \"string\",\n",
        "                \"Sport\": \"string\",\n",
        "                \"Discipline\": \"string\",\n",
        "                \"Athlete Name\": \"string\",\n",
        "                \"NOC\": \"string\",\n",
        "                \"Gender\": \"category\",\n",
        "                \"Event\": \"string\",\n",
        "                \"Event_gender\": \"category\",\n",
        "                \"Medal\": ordered_medals}\n",
        "  df = (pd.read_csv(filename, skiprows=5, dtype=dtype_mapper)\n",
        "        .drop('Position', axis=1)\n",
        "  )\n",
        "  df[\"Event Gender\"] = df[\"Event Gender\"].astype(\"category\")\n",
        "  df.loc[24676, \"Gender\"] = \"Women\"\n",
        "  return df\n",
        "\n",
        "oo = preprocess()\n",
        "oo.sample(3)"
      ],
      "metadata": {
        "id": "hVoK33fL_k20"
      },
      "execution_count": null,
      "outputs": []
    },
    {
      "cell_type": "code",
      "source": [
        "oo.dtypes"
      ],
      "metadata": {
        "id": "4Osa_SYePnWU"
      },
      "execution_count": null,
      "outputs": []
    },
    {
      "cell_type": "code",
      "source": [
        "nw.Year.unique()"
      ],
      "metadata": {
        "id": "TbvtLls0XmeR"
      },
      "execution_count": null,
      "outputs": []
    },
    {
      "cell_type": "code",
      "source": [
        "nw.City.unique()"
      ],
      "metadata": {
        "id": "hZ9-Og4rXjKh"
      },
      "execution_count": null,
      "outputs": []
    },
    {
      "cell_type": "code",
      "source": [
        "nw[\"Event Gender\"].unique()"
      ],
      "metadata": {
        "id": "YnOLgu_gUSIH"
      },
      "execution_count": null,
      "outputs": []
    },
    {
      "cell_type": "code",
      "execution_count": null,
      "metadata": {
        "id": "jQ1zI7dsHB6y"
      },
      "outputs": [],
      "source": [
        "nw[\"Event Gender\"].unique().tolist()"
      ]
    },
    {
      "cell_type": "code",
      "source": [
        "oo[\"Event Gender\"].unique().tolist()"
      ],
      "metadata": {
        "id": "1ZQ5IIN9aB8M"
      },
      "execution_count": null,
      "outputs": []
    },
    {
      "cell_type": "code",
      "source": [
        "nw[\"Event Gender\"].unique().tolist() == oo[\"Event Gender\"].unique().tolist()"
      ],
      "metadata": {
        "id": "RWjS9PJQBzZf"
      },
      "execution_count": null,
      "outputs": []
    },
    {
      "cell_type": "code",
      "source": [
        "sorted(nw[\"Event Gender\"].unique().tolist())"
      ],
      "metadata": {
        "id": "CxqGXp08V_52"
      },
      "execution_count": null,
      "outputs": []
    },
    {
      "cell_type": "code",
      "source": [
        "sorted(oo[\"Event Gender\"].unique().tolist())"
      ],
      "metadata": {
        "id": "SOMsVp49ShoN"
      },
      "execution_count": null,
      "outputs": []
    },
    {
      "cell_type": "code",
      "execution_count": null,
      "metadata": {
        "id": "8l3rPB3DMzuI"
      },
      "outputs": [],
      "source": [
        "assert(sorted(nw[\"Event Gender\"].unique().tolist()) == sorted(oo[\"Event Gender\"].unique().tolist()))\n",
        "print(\"Passes all tests ...\")"
      ]
    },
    {
      "cell_type": "code",
      "execution_count": null,
      "metadata": {
        "id": "cccr9txiHrau"
      },
      "outputs": [],
      "source": [
        "#assert(sorted(nw[\"Event Gender\"].unique().tolist()) == sorted(oo[\"Event Gender\"].unique().tolist()))\n",
        "#assert(sorted(nw.Gender.unique().tolist()) == sorted(oo.Gender.unique().tolist()))\n",
        "#assert(sorted(nw.Medal.unique().tolist()) == sorted(oo.Medal.unique().tolist()))\n",
        "#print(\"Passes all tests ...\")"
      ]
    },
    {
      "cell_type": "code",
      "source": [
        "sorted(oo.Medal.unique().tolist())"
      ],
      "metadata": {
        "id": "yNIqLCfCWzsZ"
      },
      "execution_count": null,
      "outputs": []
    },
    {
      "cell_type": "code",
      "source": [
        "sorted(nw.Medal.unique().tolist())"
      ],
      "metadata": {
        "id": "0XNUaBHDWoc8"
      },
      "execution_count": null,
      "outputs": []
    },
    {
      "cell_type": "code",
      "source": [
        "nw.Medal.str.capitalize()"
      ],
      "metadata": {
        "id": "8uIxl1TBW9Fs"
      },
      "execution_count": null,
      "outputs": []
    },
    {
      "cell_type": "code",
      "source": [
        "nw.Medal = nw.Medal.str.capitalize()\n",
        "nw.sample(3)"
      ],
      "metadata": {
        "id": "sgUAncYIX7He"
      },
      "execution_count": null,
      "outputs": []
    },
    {
      "cell_type": "code",
      "source": [
        "assert(sorted(nw[\"Event Gender\"].unique().tolist()) == sorted(oo[\"Event Gender\"].unique().tolist()))\n",
        "assert(sorted(nw.Gender.unique().tolist()) == sorted(oo.Gender.unique().tolist()))\n",
        "assert(sorted(nw.Medal.unique().tolist()) == sorted(oo.Medal.unique().tolist()))\n",
        "print(\"Passes all tests ...\")"
      ],
      "metadata": {
        "id": "ahSYGIbVMKBQ"
      },
      "execution_count": null,
      "outputs": []
    },
    {
      "cell_type": "code",
      "source": [
        "sorted(nw.Sport.unique().tolist())"
      ],
      "metadata": {
        "id": "PpJbb4ZDbez1"
      },
      "execution_count": null,
      "outputs": []
    },
    {
      "cell_type": "code",
      "source": [
        "sorted(oo.Sport.unique().tolist())"
      ],
      "metadata": {
        "id": "tjmUeyJ-br55"
      },
      "execution_count": null,
      "outputs": []
    },
    {
      "cell_type": "code",
      "source": [
        "nw.NOC.unique()"
      ],
      "metadata": {
        "id": "Q0H1hrjuFgZC"
      },
      "execution_count": null,
      "outputs": []
    },
    {
      "cell_type": "code",
      "source": [
        "nw.Sport = nw.Sport.str.lower()\n",
        "nw.Discipline = nw.Discipline.str.lower()\n",
        "nw.Event = nw.Event.str.lower()\n",
        "nw.NOC = nw.NOC.str.upper()\n",
        "nw.sample(3)"
      ],
      "metadata": {
        "id": "qYYpOxjYb1Zl"
      },
      "execution_count": null,
      "outputs": []
    },
    {
      "cell_type": "code",
      "execution_count": null,
      "metadata": {
        "id": "cVFweCTTKK16"
      },
      "outputs": [],
      "source": [
        "def preprocess_2008(filename=\"olympics_2008.csv\"):\n",
        "  df = pd.read_csv(filename)\n",
        "  df.columns = ['City', 'Year', 'Sport', 'Discipline', 'Athlete Name', 'NOC',\n",
        "       'Gender', 'Event', 'Event Gender', 'Medal', 'Result']\n",
        "  df = df.drop(\"Result\", axis=1)\n",
        "  df.City = df.City.fillna(value=\"Beijing\")\n",
        "  df.Year = df.Year.fillna(value=2008)\n",
        "  df = df.dropna(subset=['Sport', 'Discipline', 'Athlete Name', 'NOC', 'Gender',\n",
        "       'Event', 'Event Gender', 'Medal'], how=\"all\")\n",
        "  df = df.drop_duplicates()\n",
        "  df.Sport = df.Sport.str.lower()\n",
        "  df.Discipline = df.Discipline.str.lower()\n",
        "  df.Event = df.Event.str.lower()\n",
        "  df.NOC = df.NOC.str.upper()\n",
        "  df.Medal = df.Medal.str.capitalize()\n",
        "  return df\n",
        "\n",
        "nw = preprocess_2008()\n",
        "nw.sample(3)"
      ]
    },
    {
      "cell_type": "markdown",
      "source": [
        "## Further Data Validation"
      ],
      "metadata": {
        "id": "L1yiHNB0Ohfm"
      }
    },
    {
      "cell_type": "code",
      "source": [
        "def preprocess(filename = \"olympics_1896_2004.csv\"):\n",
        "  \"\"\"Preparing and transforming dataframe\"\"\"\n",
        "  print(f\"Preprocessing {filename} ...\\n\")\n",
        "  ordered_medals = pd.api.types.CategoricalDtype(categories=[\"Bronze\", \"Silver\", \"Gold\"], ordered=True)\n",
        "  dtype_mapper = {\"Year\": \"int64\",\n",
        "                \"City\": \"string\",\n",
        "                \"Sport\": \"string\",\n",
        "                \"Discipline\": \"string\",\n",
        "                \"Athlete Name\": \"string\",\n",
        "                \"NOC\": \"string\",\n",
        "                \"Gender\": \"category\",\n",
        "                \"Event\": \"string\",\n",
        "                \"Event_gender\": \"category\",\n",
        "                \"Medal\": ordered_medals}\n",
        "  df = (pd.read_csv(filename, skiprows=5, dtype=dtype_mapper)\n",
        "        .drop('Position', axis=1)\n",
        "  )\n",
        "  df[\"Event Gender\"] = df[\"Event Gender\"].astype(\"category\")\n",
        "  return df\n",
        "\n",
        "oo = preprocess()\n",
        "\n",
        "def preprocess_2008(filename=\"olympics_2008.csv\"):\n",
        "  df = pd.read_csv(filename)\n",
        "  df.columns = ['City', 'Year', 'Sport', 'Discipline', 'Athlete Name', 'NOC',\n",
        "       'Gender', 'Event', 'Event Gender', 'Medal', 'Result']\n",
        "  df = df.drop(\"Result\", axis=1)\n",
        "  df.City = df.City.fillna(value=\"Beijing\")\n",
        "  df.Year = df.Year.fillna(value=2008)\n",
        "  df = df.dropna(subset=['Sport', 'Discipline', 'Athlete Name', 'NOC', 'Gender',\n",
        "       'Event', 'Event Gender', 'Medal'], how=\"all\")\n",
        "  df = df.drop_duplicates()\n",
        "  return df\n",
        "\n",
        "nw = preprocess_2008()\n",
        "nw.sample(3)"
      ],
      "metadata": {
        "id": "GOflVpGsZL_Q"
      },
      "execution_count": null,
      "outputs": []
    },
    {
      "cell_type": "code",
      "source": [
        "medals = ['Gold', 'Silver', 'Bronze', 'Bronze', 'Gold']\n",
        "medals"
      ],
      "metadata": {
        "id": "N6o2NYWie7D8"
      },
      "execution_count": null,
      "outputs": []
    },
    {
      "cell_type": "code",
      "source": [
        "medals[0]"
      ],
      "metadata": {
        "id": "v7c-iLUOQPsK"
      },
      "execution_count": null,
      "outputs": []
    },
    {
      "cell_type": "code",
      "source": [
        "medals[1]"
      ],
      "metadata": {
        "id": "jldc5g5fQRFH"
      },
      "execution_count": null,
      "outputs": []
    },
    {
      "cell_type": "code",
      "source": [
        "len(medals)"
      ],
      "metadata": {
        "id": "6Y0s7gi_Qh47"
      },
      "execution_count": null,
      "outputs": []
    },
    {
      "cell_type": "code",
      "source": [
        "nw[\"Athlete Name\"]"
      ],
      "metadata": {
        "id": "QeaYD5fwZyqj"
      },
      "execution_count": null,
      "outputs": []
    },
    {
      "cell_type": "code",
      "source": [
        "import re\n",
        "\n",
        "search_string = \"split\"\n",
        "\n",
        "[func for func in dir(nw[\"Athlete Name\"].str) if re.search(rf\"{search_string}\", func, re.IGNORECASE)]"
      ],
      "metadata": {
        "id": "1hoQ3x9jeptx"
      },
      "execution_count": null,
      "outputs": []
    },
    {
      "cell_type": "code",
      "source": [
        "nw[\"Athlete Name\"].str.split?"
      ],
      "metadata": {
        "id": "fh_rUyyieUm7"
      },
      "execution_count": null,
      "outputs": []
    },
    {
      "cell_type": "code",
      "source": [
        "nw[\"Athlete Name\"].str.split(\", \")"
      ],
      "metadata": {
        "id": "mf-ra6HlHOXq"
      },
      "execution_count": null,
      "outputs": []
    },
    {
      "cell_type": "code",
      "source": [
        "nw[\"Athlete Name\"].str.split(\", \").tolist()"
      ],
      "metadata": {
        "id": "EaXUuR-vHjVh"
      },
      "execution_count": null,
      "outputs": []
    },
    {
      "cell_type": "code",
      "source": [
        "athlete_names = nw[\"Athlete Name\"].str.split(\", \").tolist()\n",
        "athlete_names"
      ],
      "metadata": {
        "id": "2ejtl6psHnbN"
      },
      "execution_count": null,
      "outputs": []
    },
    {
      "cell_type": "code",
      "source": [
        "import re\n",
        "\n",
        "search_string = \"upper\"\n",
        "\n",
        "[func for func in dir(nw[\"Athlete Name\"].str) if re.search(rf\"{search_string}\", func, re.IGNORECASE)]"
      ],
      "metadata": {
        "id": "g1USKjupfWxT"
      },
      "execution_count": null,
      "outputs": []
    },
    {
      "cell_type": "code",
      "source": [
        "[athlete_name for athlete_name in athlete_names]"
      ],
      "metadata": {
        "id": "UAvRMk62IC9y"
      },
      "execution_count": null,
      "outputs": []
    },
    {
      "cell_type": "code",
      "source": [
        "[athlete_name[0] for athlete_name in athlete_names]"
      ],
      "metadata": {
        "id": "r1zOAWZhITjq"
      },
      "execution_count": null,
      "outputs": []
    },
    {
      "cell_type": "code",
      "source": [
        "[athlete_name[0].isupper() for athlete_name in athlete_names]"
      ],
      "metadata": {
        "id": "8rkOsk9cIZ9n"
      },
      "execution_count": null,
      "outputs": []
    },
    {
      "cell_type": "code",
      "source": [
        "len([item[0].isupper() for item in athlete_names])"
      ],
      "metadata": {
        "id": "0eyFKJTBG1FB"
      },
      "execution_count": null,
      "outputs": []
    },
    {
      "cell_type": "code",
      "source": [
        "nw.info()"
      ],
      "metadata": {
        "id": "AihTvS2aHFzJ"
      },
      "execution_count": null,
      "outputs": []
    },
    {
      "cell_type": "markdown",
      "source": [
        "##Updating the dtypes"
      ],
      "metadata": {
        "id": "nC0B3PtWD0H1"
      }
    },
    {
      "cell_type": "code",
      "source": [
        "!pip install --quiet pandas==2.0.2\n",
        "\n",
        "import pandas as pd\n",
        "from pathlib import Path\n",
        "\n",
        "if not Path(\"olympics_1896_2004.csv\").exists():\n",
        "  !wget https://github.com/jonfernandes/pandas_essential/raw/main/olympics_1896_2004.csv\n",
        "if not Path(\"olympics_2008.csv\").exists():\n",
        "  !wget https://github.com/jonfernandes/pandas_essential/raw/main/olympics_2008.csv\n",
        "\n",
        "filename = \"olympics_1896_2004.csv\"\n",
        "print(\"Installed all of the necessary files for this section ...\")"
      ],
      "metadata": {
        "id": "biY5wXHNq_Sv"
      },
      "execution_count": null,
      "outputs": []
    },
    {
      "cell_type": "code",
      "source": [
        "def preprocess(filename = \"olympics_1896_2004.csv\"):\n",
        "  \"\"\"Preparing and transforming dataframe\"\"\"\n",
        "  print(f\"Preprocessing {filename} ...\\n\")\n",
        "  ordered_medals = pd.api.types.CategoricalDtype(categories=[\"Bronze\", \"Silver\", \"Gold\"], ordered=True)\n",
        "  dtype_mapper = {\"Year\": \"int64\",\n",
        "                \"City\": \"string\",\n",
        "                \"Sport\": \"string\",\n",
        "                \"Discipline\": \"string\",\n",
        "                \"Athlete Name\": \"string\",\n",
        "                \"NOC\": \"string\",\n",
        "                \"Gender\": \"category\",\n",
        "                \"Event\": \"string\",\n",
        "                \"Event_gender\": \"category\",\n",
        "                \"Medal\": ordered_medals}\n",
        "  df = (pd.read_csv(filename, skiprows=5, dtype=dtype_mapper)\n",
        "        .drop('Position', axis=1)\n",
        "  )\n",
        "  df.Sport = df.Sport.str.lower()\n",
        "  df.Discipline = df.Discipline.str.lower()\n",
        "  df.Event = df.Event.str.lower()\n",
        "  df.NOC = df.NOC.str.upper()\n",
        "  df[\"Event Gender\"] = df[\"Event Gender\"].astype(\"category\")\n",
        "  df.loc[24676, \"Gender\"] = \"Women\"\n",
        "  return df\n",
        "\n",
        "def preprocess_2008(filename=\"olympics_2008.csv\"):\n",
        "  df = pd.read_csv(filename)\n",
        "  df.columns = ['City', 'Year', 'Sport', 'Discipline', 'Athlete Name', 'NOC',\n",
        "       'Gender', 'Event', 'Event Gender', 'Medal', 'Result']\n",
        "  df = df.drop(\"Result\", axis=1)\n",
        "  df.City = df.City.fillna(value=\"Beijing\")\n",
        "  df.Year = df.Year.fillna(value=2008)\n",
        "  df = df.dropna(subset=['Sport', 'Discipline', 'Athlete Name', 'NOC', 'Gender',\n",
        "       'Event', 'Event Gender', 'Medal'], how=\"all\")\n",
        "  df = df.drop_duplicates()\n",
        "  df.Sport = df.Sport.str.lower()\n",
        "  df.Discipline = df.Discipline.str.lower()\n",
        "  df.Event = df.Event.str.lower()\n",
        "  df.NOC = df.NOC.str.upper()\n",
        "  df.Medal = df.Medal.str.capitalize()\n",
        "  return df\n",
        "\n",
        "oo = preprocess()\n",
        "nw = preprocess_2008()\n",
        "nw.sample(3)"
      ],
      "metadata": {
        "id": "Ilm29tuCDmpV"
      },
      "execution_count": null,
      "outputs": []
    },
    {
      "cell_type": "code",
      "source": [
        "nw.dtypes"
      ],
      "metadata": {
        "id": "8ode2JHZD-4o"
      },
      "execution_count": null,
      "outputs": []
    },
    {
      "cell_type": "code",
      "source": [
        "oo.dtypes"
      ],
      "metadata": {
        "id": "LAuLw1l3T2jD"
      },
      "execution_count": null,
      "outputs": []
    },
    {
      "cell_type": "code",
      "source": [
        "def preprocess_2008(filename=\"olympics_2008.csv\"):\n",
        "  print(f\"Preprocessing {filename} ...\\n\")\n",
        "  df = pd.read_csv(filename)\n",
        "  df.columns = ['City', 'Year', 'Sport', 'Discipline', 'Athlete Name', 'NOC',\n",
        "       'Gender', 'Event', 'Event Gender', 'Medal', 'Result']\n",
        "  df = df.drop(\"Result\", axis=1)\n",
        "  df.City = df.City.fillna(value=\"Beijing\")\n",
        "  df.Year = df.Year.fillna(value=2008)\n",
        "  df = df.dropna(subset=['Sport', 'Discipline', 'Athlete Name', 'NOC', 'Gender',\n",
        "       'Event', 'Event Gender', 'Medal'], how=\"all\")\n",
        "  df = df.drop_duplicates()\n",
        "  df.Sport = df.Sport.str.lower()\n",
        "  df.Discipline = df.Discipline.str.lower()\n",
        "  df.Event = df.Event.str.lower()\n",
        "  df.NOC = df.NOC.str.upper()\n",
        "  df.Medal = df.Medal.str.capitalize()\n",
        "  df.City = df.City.astype(\"string\")\n",
        "  df.Year = df.Year.astype(int)\n",
        "  df.Sport = df.Sport.astype(\"string\")\n",
        "  df.Discipline = df.Discipline.astype(\"string\")\n",
        "  df[\"Athlete Name\"] = df[\"Athlete Name\"].astype(\"string\")\n",
        "  df.NOC = df.NOC.astype(\"string\")\n",
        "  df.Gender = df.Gender.astype(\"category\")\n",
        "  df.Event = df.Event.astype(\"string\")\n",
        "  df['Event Gender'] = df['Event Gender'].astype(\"category\")\n",
        "  medal_order = [\"Bronze\", \"Silver\", \"Gold\"]\n",
        "  df.Medal = pd.Categorical(df.Medal, categories=medal_order, ordered=True)\n",
        "\n",
        "  return df\n",
        "\n",
        "nw = preprocess_2008()\n",
        "nw.sample(3)\n",
        "\n"
      ],
      "metadata": {
        "id": "JPZ847t7ERLs"
      },
      "execution_count": null,
      "outputs": []
    },
    {
      "cell_type": "code",
      "source": [
        "nw.dtypes"
      ],
      "metadata": {
        "id": "WmhfHI5KERIT"
      },
      "execution_count": null,
      "outputs": []
    },
    {
      "cell_type": "markdown",
      "source": [
        "## Combine the datasets"
      ],
      "metadata": {
        "id": "BdOwoiXDISBA"
      }
    },
    {
      "cell_type": "code",
      "source": [
        "!pip install --quiet pandas==2.0.2\n",
        "\n",
        "import pandas as pd\n",
        "from pathlib import Path\n",
        "\n",
        "if not Path(\"olympics_1896_2004.csv\").exists():\n",
        "  !wget https://github.com/jonfernandes/pandas_essential/raw/main/olympics_1896_2004.csv\n",
        "if not Path(\"olympics_2008.csv\").exists():\n",
        "  !wget https://github.com/jonfernandes/pandas_essential/raw/main/olympics_2008.csv\n",
        "\n",
        "filename = \"olympics_1896_2004.csv\"\n",
        "print(\"Installed all of the necessary files for this section ...\")"
      ],
      "metadata": {
        "id": "r76ijBJvqLIj"
      },
      "execution_count": null,
      "outputs": []
    },
    {
      "cell_type": "code",
      "source": [
        "def preprocess(filename = \"olympics_1896_2004.csv\"):\n",
        "  \"\"\"Preparing and transforming dataframe\"\"\"\n",
        "  print(f\"Preprocessing {filename} ...\\n\")\n",
        "  ordered_medals = pd.api.types.CategoricalDtype(categories=[\"Bronze\", \"Silver\", \"Gold\"], ordered=True)\n",
        "  dtype_mapper = {\"Year\": \"int64\",\n",
        "                \"City\": \"string\",\n",
        "                \"Sport\": \"string\",\n",
        "                \"Discipline\": \"string\",\n",
        "                \"Athlete Name\": \"string\",\n",
        "                \"NOC\": \"string\",\n",
        "                \"Gender\": \"category\",\n",
        "                \"Event\": \"string\",\n",
        "                \"Event_gender\": \"category\",\n",
        "                \"Medal\": ordered_medals}\n",
        "  df = (pd.read_csv(filename, skiprows=5, dtype=dtype_mapper)\n",
        "        .drop('Position', axis=1)\n",
        "  )\n",
        "  df[\"Event Gender\"] = df[\"Event Gender\"].astype(\"category\")\n",
        "  df.loc[24676, \"Gender\"] = \"Women\"\n",
        "  df.Sport = df.Sport.str.lower()\n",
        "  df.Discipline = df.Discipline.str.lower()\n",
        "  df.Event = df.Event.str.lower()\n",
        "  df.NOC = df.NOC.str.upper()\n",
        "  return df\n",
        "\n",
        "def preprocess_2008(filename=\"olympics_2008.csv\"):\n",
        "  print(f\"Preprocessing {filename} ...\\n\")\n",
        "  df = pd.read_csv(filename)\n",
        "  df.columns = ['City', 'Year', 'Sport', 'Discipline', 'Athlete Name', 'NOC',\n",
        "       'Gender', 'Event', 'Event Gender', 'Medal', 'Result']\n",
        "  df = df.drop(\"Result\", axis=1)\n",
        "  df.City = df.City.fillna(value=\"Beijing\")\n",
        "  df.Year = df.Year.fillna(value=2008)\n",
        "  df = df.dropna(subset=['Sport', 'Discipline', 'Athlete Name', 'NOC', 'Gender',\n",
        "       'Event', 'Event Gender', 'Medal'], how=\"all\")\n",
        "  df = df.drop_duplicates()\n",
        "  df.Sport = df.Sport.str.lower()\n",
        "  df.Discipline = df.Discipline.str.lower()\n",
        "  df.Event = df.Event.str.lower()\n",
        "  df.NOC = df.NOC.str.upper()\n",
        "  df.Medal = df.Medal.str.capitalize()\n",
        "  df.City = df.City.astype(\"string\")\n",
        "  df.Year = df.Year.astype(int)\n",
        "  df.Sport = df.Sport.astype(\"string\")\n",
        "  df.Discipline = df.Discipline.astype(\"string\")\n",
        "  df[\"Athlete Name\"] = df[\"Athlete Name\"].astype(\"string\")\n",
        "  df.NOC = df.NOC.astype(\"string\")\n",
        "  df.Gender = df.Gender.astype(\"category\")\n",
        "  df.Event = df.Event.astype(\"string\")\n",
        "  df['Event Gender'] = df['Event Gender'].astype(\"category\")\n",
        "  medal_order = [\"Bronze\", \"Silver\", \"Gold\"]\n",
        "  df.Medal = pd.Categorical(df.Medal, categories=medal_order, ordered=True)\n",
        "\n",
        "  return df\n"
      ],
      "metadata": {
        "id": "jO66AK7yYYpE"
      },
      "execution_count": null,
      "outputs": []
    },
    {
      "cell_type": "code",
      "source": [
        "oo = preprocess()\n",
        "oo.sample(3)"
      ],
      "metadata": {
        "id": "OPd8JXEDERBV"
      },
      "execution_count": null,
      "outputs": []
    },
    {
      "cell_type": "code",
      "source": [
        "oo.dtypes"
      ],
      "metadata": {
        "id": "F7vBfS85JK5j"
      },
      "execution_count": null,
      "outputs": []
    },
    {
      "cell_type": "code",
      "source": [
        "nw = preprocess_2008()\n",
        "nw.sample(3)"
      ],
      "metadata": {
        "id": "fJrBOACtERE4"
      },
      "execution_count": null,
      "outputs": []
    },
    {
      "cell_type": "code",
      "source": [
        "nw.dtypes"
      ],
      "metadata": {
        "id": "nVorqQPcJM_f"
      },
      "execution_count": null,
      "outputs": []
    },
    {
      "cell_type": "code",
      "source": [
        "pd.concat([oo, nw])"
      ],
      "metadata": {
        "id": "KXeIQvOUEQ8-"
      },
      "execution_count": null,
      "outputs": []
    },
    {
      "cell_type": "code",
      "source": [
        "pd.concat([oo, nw]).dtypes"
      ],
      "metadata": {
        "id": "V-YFZ-lqEQ5D"
      },
      "execution_count": null,
      "outputs": []
    },
    {
      "cell_type": "code",
      "source": [
        "up = pd.concat([oo, nw])\n",
        "up.sample(3)"
      ],
      "metadata": {
        "id": "-jegITAgEQxf"
      },
      "execution_count": null,
      "outputs": []
    },
    {
      "cell_type": "code",
      "source": [
        "up.dtypes"
      ],
      "metadata": {
        "id": "4PmCLeOil6cf"
      },
      "execution_count": null,
      "outputs": []
    },
    {
      "cell_type": "markdown",
      "source": [
        "##Plotting data"
      ],
      "metadata": {
        "id": "kH9DmNEweaVZ"
      }
    },
    {
      "cell_type": "code",
      "source": [
        "!pip install --quiet pandas==2.0.2\n",
        "\n",
        "import pandas as pd\n",
        "from pathlib import Path\n",
        "import matplotlib.pyplot as plt\n",
        "\n",
        "\n",
        "if not Path(\"olympics_1896_2004.csv\").exists():\n",
        "  !wget https://github.com/jonfernandes/pandas_essential/raw/main/olympics_1896_2004.csv\n",
        "if not Path(\"olympics_2008.csv\").exists():\n",
        "  !wget https://github.com/jonfernandes/pandas_essential/raw/main/olympics_2008.csv\n",
        "\n",
        "filename = \"olympics_1896_2004.csv\"\n",
        "print(\"Installed all of the necessary files for this section ...\")"
      ],
      "metadata": {
        "id": "ESgPIHjNqVjk"
      },
      "execution_count": null,
      "outputs": []
    },
    {
      "cell_type": "code",
      "source": [
        "def preprocess(filename = \"olympics_1896_2004.csv\"):\n",
        "  \"\"\"Preparing and transforming dataframe\"\"\"\n",
        "  print(f\"Preprocessing {filename} ...\\n\")\n",
        "  ordered_medals = pd.api.types.CategoricalDtype(categories=[\"Bronze\", \"Silver\", \"Gold\"], ordered=True)\n",
        "  dtype_mapper = {\"Year\": \"int64\",\n",
        "                \"City\": \"string\",\n",
        "                \"Sport\": \"string\",\n",
        "                \"Discipline\": \"string\",\n",
        "                \"Athlete Name\": \"string\",\n",
        "                \"NOC\": \"string\",\n",
        "                \"Gender\": \"category\",\n",
        "                \"Event\": \"string\",\n",
        "                \"Event_gender\": \"category\",\n",
        "                \"Medal\": ordered_medals}\n",
        "  df = (pd.read_csv(filename, skiprows=5, dtype=dtype_mapper)\n",
        "        .drop('Position', axis=1)\n",
        "  )\n",
        "  df[\"Event Gender\"] = df[\"Event Gender\"].astype(\"category\")\n",
        "  df.loc[24676, \"Gender\"] = \"Women\"\n",
        "  df.Sport = df.Sport.str.lower()\n",
        "  df.Discipline = df.Discipline.str.lower()\n",
        "  df.Event = df.Event.str.lower()\n",
        "  df.NOC = df.NOC.str.upper()\n",
        "  return df\n",
        "\n",
        "\n",
        "def preprocess_2008(filename=\"olympics_2008.csv\"):\n",
        "  print(f\"Preprocessing {filename} ...\\n\")\n",
        "  df = pd.read_csv(filename)\n",
        "  df.columns = ['City', 'Year', 'Sport', 'Discipline', 'Athlete Name', 'NOC',\n",
        "       'Gender', 'Event', 'Event Gender', 'Medal', 'Result']\n",
        "  df = df.drop(\"Result\", axis=1)\n",
        "  df.City = df.City.fillna(value=\"Beijing\")\n",
        "  df.Year = df.Year.fillna(value=2008)\n",
        "  df = df.dropna(subset=['Sport', 'Discipline', 'Athlete Name', 'NOC', 'Gender',\n",
        "       'Event', 'Event Gender', 'Medal'], how=\"all\")\n",
        "  df = df.drop_duplicates()\n",
        "  df.Sport = df.Sport.str.lower()\n",
        "  df.Discipline = df.Discipline.str.lower()\n",
        "  df.Event = df.Event.str.lower()\n",
        "  df.NOC = df.NOC.str.upper()\n",
        "  df.Medal = df.Medal.str.capitalize()\n",
        "  df.City = df.City.astype(\"string\")\n",
        "  df.Year = df.Year.astype(int)\n",
        "  df.Sport = df.Sport.astype(\"string\")\n",
        "  df.Discipline = df.Discipline.astype(\"string\")\n",
        "  df[\"Athlete Name\"] = df[\"Athlete Name\"].astype(\"string\")\n",
        "  df.NOC = df.NOC.astype(\"string\")\n",
        "  df.Gender = df.Gender.astype(\"category\")\n",
        "  df.Event = df.Event.astype(\"string\")\n",
        "  df['Event Gender'] = df['Event Gender'].astype(\"category\")\n",
        "  medal_order = [\"Bronze\", \"Silver\", \"Gold\"]\n",
        "  df.Medal = pd.Categorical(df.Medal, categories=medal_order, ordered=True)\n",
        "\n",
        "  return df\n",
        "\n",
        "oo = preprocess()\n",
        "nw = preprocess_2008()\n",
        "up = pd.concat([oo, nw])\n",
        "up.sample(3)"
      ],
      "metadata": {
        "id": "e7WwBAKBfZ_x"
      },
      "execution_count": null,
      "outputs": []
    },
    {
      "cell_type": "code",
      "source": [
        "import matplotlib.pyplot as plt"
      ],
      "metadata": {
        "id": "hDcHyZ0Zee4H"
      },
      "execution_count": null,
      "outputs": []
    },
    {
      "cell_type": "markdown",
      "source": [
        "**For the first Olympics, how many events were there for each of the different sports? Plot them using different graphs.**"
      ],
      "metadata": {
        "id": "_0kw7_W7fOnW"
      }
    },
    {
      "cell_type": "code",
      "source": [
        "first_games = up[up.Year == 1896]\n",
        "first_games"
      ],
      "metadata": {
        "id": "e5bQRFKLee0U"
      },
      "execution_count": null,
      "outputs": []
    },
    {
      "cell_type": "code",
      "source": [
        "first_games.Sport.value_counts()"
      ],
      "metadata": {
        "id": "bl7_0MNUfo9F"
      },
      "execution_count": null,
      "outputs": []
    },
    {
      "cell_type": "code",
      "source": [
        "first_games.Sport.value_counts().plot?"
      ],
      "metadata": {
        "id": "GsrXzz2Ngqc6"
      },
      "execution_count": null,
      "outputs": []
    },
    {
      "cell_type": "code",
      "source": [
        "type(first_games.Sport.value_counts())"
      ],
      "metadata": {
        "id": "3HerIqOQh1b8"
      },
      "execution_count": null,
      "outputs": []
    },
    {
      "cell_type": "code",
      "source": [
        "dir(pd.Series)"
      ],
      "metadata": {
        "id": "WM5f-w3AhRRt"
      },
      "execution_count": null,
      "outputs": []
    },
    {
      "cell_type": "code",
      "source": [
        "pd.Series.plot?"
      ],
      "metadata": {
        "id": "NC2Py4eigDCw"
      },
      "execution_count": null,
      "outputs": []
    },
    {
      "cell_type": "code",
      "source": [
        "first_games.Sport.value_counts().plot(kind='line')"
      ],
      "metadata": {
        "id": "BvvtW4gzfo5J"
      },
      "execution_count": null,
      "outputs": []
    },
    {
      "cell_type": "code",
      "source": [
        "first_games.Sport.value_counts().plot(figsize=(10,3))"
      ],
      "metadata": {
        "id": "Atn1b3-vhSwy"
      },
      "execution_count": null,
      "outputs": []
    },
    {
      "cell_type": "code",
      "source": [
        "(first_games\n",
        " .Sport\n",
        " .value_counts()\n",
        " .plot(figsize=(10,3))\n",
        ")"
      ],
      "metadata": {
        "id": "bkX2FsJPj1GH"
      },
      "execution_count": null,
      "outputs": []
    },
    {
      "cell_type": "code",
      "source": [
        "(first_games\n",
        " .Sport\n",
        " .value_counts()\n",
        " #.plot(figsize=(10,3))\n",
        ")"
      ],
      "metadata": {
        "id": "PT2Y9QQFkEqa"
      },
      "execution_count": null,
      "outputs": []
    },
    {
      "cell_type": "code",
      "source": [
        "(first_games\n",
        " .Sport\n",
        " .value_counts()\n",
        " .plot(kind='bar')\n",
        ")"
      ],
      "metadata": {
        "id": "u9WiJO5Afo1h"
      },
      "execution_count": null,
      "outputs": []
    },
    {
      "cell_type": "code",
      "source": [
        "(first_games\n",
        " .Sport\n",
        " .value_counts()\n",
        " .plot\n",
        " .bar()\n",
        ")"
      ],
      "metadata": {
        "id": "G_UpM4MPh5yG"
      },
      "execution_count": null,
      "outputs": []
    },
    {
      "cell_type": "code",
      "source": [
        "(first_games\n",
        " .Sport\n",
        " .value_counts()\n",
        " .plot(kind='barh')\n",
        ")"
      ],
      "metadata": {
        "id": "xcCfatDefoxw"
      },
      "execution_count": null,
      "outputs": []
    },
    {
      "cell_type": "code",
      "source": [
        "(first_games\n",
        " .Sport\n",
        " .value_counts()\n",
        " .plot(kind='barh', color='red')\n",
        ")"
      ],
      "metadata": {
        "id": "Q_Tm9qp6y7aA"
      },
      "execution_count": null,
      "outputs": []
    },
    {
      "cell_type": "code",
      "source": [
        "(first_games\n",
        " .Sport\n",
        " .value_counts()\n",
        " .plot(kind='barh', color=['blue', 'red'])\n",
        ")"
      ],
      "metadata": {
        "id": "21U9xe7UzItK"
      },
      "execution_count": null,
      "outputs": []
    },
    {
      "cell_type": "markdown",
      "source": [
        "##Working with colormaps and Seaborn"
      ],
      "metadata": {
        "id": "486bDzcSDjs9"
      }
    },
    {
      "cell_type": "code",
      "source": [
        "!pip install --quiet pandas==2.0.2\n",
        "\n",
        "import pandas as pd\n",
        "from pathlib import Path\n",
        "import matplotlib.pyplot as plt\n",
        "\n",
        "if not Path(\"olympics_1896_2004.csv\").exists():\n",
        "  !wget https://github.com/jonfernandes/pandas_essential/raw/main/olympics_1896_2004.csv\n",
        "if not Path(\"olympics_2008.csv\").exists():\n",
        "  !wget https://github.com/jonfernandes/pandas_essential/raw/main/olympics_2008.csv\n",
        "\n",
        "filename = \"olympics_1896_2004.csv\"\n",
        "print(\"Installed all of the necessary files for this section ...\")"
      ],
      "metadata": {
        "id": "DpnRrEIoqid-"
      },
      "execution_count": null,
      "outputs": []
    },
    {
      "cell_type": "code",
      "source": [
        "def preprocess(filename = \"olympics_1896_2004.csv\"):\n",
        "  \"\"\"Preparing and transforming dataframe\"\"\"\n",
        "  print(f\"Preprocessing {filename} ...\\n\")\n",
        "  ordered_medals = pd.api.types.CategoricalDtype(categories=[\"Bronze\", \"Silver\", \"Gold\"], ordered=True)\n",
        "  dtype_mapper = {\"Year\": \"int64\",\n",
        "                \"City\": \"string\",\n",
        "                \"Sport\": \"string\",\n",
        "                \"Discipline\": \"string\",\n",
        "                \"Athlete Name\": \"string\",\n",
        "                \"NOC\": \"string\",\n",
        "                \"Gender\": \"category\",\n",
        "                \"Event\": \"string\",\n",
        "                \"Event_gender\": \"category\",\n",
        "                \"Medal\": ordered_medals}\n",
        "  df = (pd.read_csv(filename, skiprows=5, dtype=dtype_mapper)\n",
        "        .drop('Position', axis=1)\n",
        "  )\n",
        "  df[\"Event Gender\"] = df[\"Event Gender\"].astype(\"category\")\n",
        "  df.loc[24676, \"Gender\"] = \"Women\"\n",
        "  df.Sport = df.Sport.str.lower()\n",
        "  df.Discipline = df.Discipline.str.lower()\n",
        "  df.Event = df.Event.str.lower()\n",
        "  df.NOC = df.NOC.str.upper()\n",
        "  return df\n",
        "\n",
        "def preprocess_2008(filename=\"olympics_2008.csv\"):\n",
        "  print(f\"Preprocessing {filename} ...\\n\")\n",
        "  df = pd.read_csv(filename)\n",
        "  df.columns = ['City', 'Year', 'Sport', 'Discipline', 'Athlete Name', 'NOC',\n",
        "       'Gender', 'Event', 'Event Gender', 'Medal', 'Result']\n",
        "  df = df.drop(\"Result\", axis=1)\n",
        "  df.City = df.City.fillna(value=\"Beijing\")\n",
        "  df.Year = df.Year.fillna(value=2008)\n",
        "  df = df.dropna(subset=['Sport', 'Discipline', 'Athlete Name', 'NOC', 'Gender',\n",
        "       'Event', 'Event Gender', 'Medal'], how=\"all\")\n",
        "  df = df.drop_duplicates()\n",
        "  df.Sport = df.Sport.str.lower()\n",
        "  df.Discipline = df.Discipline.str.lower()\n",
        "  df.Event = df.Event.str.lower()\n",
        "  df.NOC = df.NOC.str.upper()\n",
        "  df.Medal = df.Medal.str.capitalize()\n",
        "  df.City = df.City.astype(\"string\")\n",
        "  df.Year = df.Year.astype(int)\n",
        "  df.Sport = df.Sport.astype(\"string\")\n",
        "  df.Discipline = df.Discipline.astype(\"string\")\n",
        "  df[\"Athlete Name\"] = df[\"Athlete Name\"].astype(\"string\")\n",
        "  df.NOC = df.NOC.astype(\"string\")\n",
        "  df.Gender = df.Gender.astype(\"category\")\n",
        "  df.Event = df.Event.astype(\"string\")\n",
        "  df['Event Gender'] = df['Event Gender'].astype(\"category\")\n",
        "  medal_order = [\"Bronze\", \"Silver\", \"Gold\"]\n",
        "  df.Medal = pd.Categorical(df.Medal, categories=medal_order, ordered=True)\n",
        "\n",
        "  return df\n",
        "\n",
        "oo = preprocess()\n",
        "nw = preprocess_2008()\n",
        "up = pd.concat([oo, nw])\n",
        "up.sample(3)"
      ],
      "metadata": {
        "id": "Ur60DjmuFL1V"
      },
      "execution_count": null,
      "outputs": []
    },
    {
      "cell_type": "code",
      "source": [
        "games_2008 = up[up.Year == 2008]\n",
        "games_2008.sample(3)"
      ],
      "metadata": {
        "id": "U76lkf7sfoor"
      },
      "execution_count": null,
      "outputs": []
    },
    {
      "cell_type": "code",
      "source": [
        "(games_2008\n",
        " .Medal\n",
        " .value_counts())"
      ],
      "metadata": {
        "id": "oSg5G5_EfolO"
      },
      "execution_count": null,
      "outputs": []
    },
    {
      "cell_type": "code",
      "source": [
        "import seaborn as sns"
      ],
      "metadata": {
        "id": "6fbPnUCrfohj"
      },
      "execution_count": null,
      "outputs": []
    },
    {
      "cell_type": "code",
      "source": [
        "plt.figure(figsize=(5,3))\n",
        "plt.title(\"Medals from the 2008 games\")\n",
        "sns.countplot(data=games_2008,\n",
        "              x='Medal',\n",
        "              )\n"
      ],
      "metadata": {
        "id": "_lEr91CVfoZy"
      },
      "execution_count": null,
      "outputs": []
    },
    {
      "cell_type": "code",
      "source": [
        "plt.figure(figsize=(5,3))\n",
        "plt.title(\"Medals from the 2008 games\")\n",
        "sns.countplot(data=games_2008,\n",
        "              x='Medal',\n",
        "              order=[\"Gold\", \"Silver\", \"Bronze\"])"
      ],
      "metadata": {
        "id": "ONwg1H21yJSk"
      },
      "execution_count": null,
      "outputs": []
    },
    {
      "cell_type": "code",
      "source": [
        "plt.figure(figsize=(5,3))\n",
        "plt.title(\"Medals from the 2008 games\")\n",
        "sns.countplot(data=games_2008,\n",
        "              x='Medal',\n",
        "              order=[\"Gold\", \"Silver\", \"Bronze\"],\n",
        "              hue='Gender')"
      ],
      "metadata": {
        "id": "nDzVng1P0xsO"
      },
      "execution_count": null,
      "outputs": []
    },
    {
      "cell_type": "code",
      "source": [
        "plt.figure(figsize=(5,3))\n",
        "plt.title(\"Medals from the 2008 games\")\n",
        "sns.countplot(data=games_2008,\n",
        "              x='Medal',\n",
        "              order=[\"Gold\", \"Silver\", \"Bronze\"],\n",
        "              hue='Gender',\n",
        "              palette='seismic')"
      ],
      "metadata": {
        "id": "7DWDpQWe05b4"
      },
      "execution_count": null,
      "outputs": []
    },
    {
      "cell_type": "code",
      "source": [
        "plt.figure(figsize=(5,3))\n",
        "plt.title(\"Medals from the 2008 games\")\n",
        "sns.countplot(data=games_2008,\n",
        "              x='Medal',\n",
        "              order=[\"Gold\", \"Silver\", \"Bronze\"],\n",
        "              hue='Gender',\n",
        "              palette='coolwarm')"
      ],
      "metadata": {
        "id": "OrMVWF7406Af"
      },
      "execution_count": null,
      "outputs": []
    },
    {
      "cell_type": "code",
      "source": [
        "plt.figure(figsize=(5,3))\n",
        "plt.title(\"Medals from the 2008 games\")\n",
        "sns.countplot(data=games_2008,\n",
        "              x='Medal',\n",
        "              order=[\"Gold\", \"Silver\", \"Bronze\"],\n",
        "              hue='Gender',\n",
        "              palette='bwr')"
      ],
      "metadata": {
        "id": "IUwowuAG1pMo"
      },
      "execution_count": null,
      "outputs": []
    },
    {
      "cell_type": "code",
      "source": [
        "plt.figure(figsize=(5,3))\n",
        "plt.title(\"Medals from the 2008 games\")\n",
        "sns.countplot(data=games_2008,\n",
        "              x='Medal',\n",
        "              order=[\"Gold\", \"Silver\", \"Bronze\"],\n",
        "              hue='Gender',\n",
        "              palette='bwr_r')"
      ],
      "metadata": {
        "id": "V1PuecS106i2"
      },
      "execution_count": null,
      "outputs": []
    },
    {
      "cell_type": "markdown",
      "source": [
        "##Working with groupby"
      ],
      "metadata": {
        "id": "Qr68snfKFo33"
      }
    },
    {
      "cell_type": "code",
      "source": [
        "!pip install --quiet pandas==2.0.2\n",
        "\n",
        "import pandas as pd\n",
        "from pathlib import Path\n",
        "import matplotlib.pyplot as plt\n",
        "\n",
        "\n",
        "if not Path(\"olympics_1896_2004.csv\").exists():\n",
        "  !wget https://github.com/jonfernandes/pandas_essential/raw/main/olympics_1896_2004.csv\n",
        "if not Path(\"olympics_2008.csv\").exists():\n",
        "  !wget https://github.com/jonfernandes/pandas_essential/raw/main/olympics_2008.csv\n",
        "\n",
        "filename = \"olympics_1896_2004.csv\"\n",
        "print(\"Installed all of the necessary files for this section ...\")"
      ],
      "metadata": {
        "id": "h6s7DYd4q5Mk"
      },
      "execution_count": null,
      "outputs": []
    },
    {
      "cell_type": "code",
      "source": [
        "def preprocess(filename = \"olympics_1896_2004.csv\"):\n",
        "  \"\"\"Preparing and transforming dataframe\"\"\"\n",
        "  print(f\"Preprocessing {filename} ...\\n\")\n",
        "  ordered_medals = pd.api.types.CategoricalDtype(categories=[\"Bronze\", \"Silver\", \"Gold\"], ordered=True)\n",
        "  dtype_mapper = {\"Year\": \"int64\",\n",
        "                \"City\": \"string\",\n",
        "                \"Sport\": \"string\",\n",
        "                \"Discipline\": \"string\",\n",
        "                \"Athlete Name\": \"string\",\n",
        "                \"NOC\": \"string\",\n",
        "                \"Gender\": \"category\",\n",
        "                \"Event\": \"string\",\n",
        "                \"Event_gender\": \"category\",\n",
        "                \"Medal\": ordered_medals}\n",
        "  df = (pd.read_csv(filename, skiprows=5, dtype=dtype_mapper)\n",
        "        .drop('Position', axis=1)\n",
        "  )\n",
        "  df[\"Event Gender\"] = df[\"Event Gender\"].astype(\"category\")\n",
        "  df.loc[24676, \"Gender\"] = \"Women\"\n",
        "  df.Sport = df.Sport.str.lower()\n",
        "  df.Discipline = df.Discipline.str.lower()\n",
        "  df.Event = df.Event.str.lower()\n",
        "  df.NOC = df.NOC.str.upper()\n",
        "  return df\n",
        "\n",
        "def preprocess_2008(filename=\"olympics_2008.csv\"):\n",
        "  print(f\"Preprocessing {filename} ...\\n\")\n",
        "  df = pd.read_csv(filename)\n",
        "  df.columns = ['City', 'Year', 'Sport', 'Discipline', 'Athlete Name', 'NOC',\n",
        "       'Gender', 'Event', 'Event Gender', 'Medal', 'Result']\n",
        "  df = df.drop(\"Result\", axis=1)\n",
        "  df.City = df.City.fillna(value=\"Beijing\")\n",
        "  df.Year = df.Year.fillna(value=2008)\n",
        "  df = df.dropna(subset=['Sport', 'Discipline', 'Athlete Name', 'NOC', 'Gender',\n",
        "       'Event', 'Event Gender', 'Medal'], how=\"all\")\n",
        "  df = df.drop_duplicates()\n",
        "  df.Sport = df.Sport.str.lower()\n",
        "  df.Discipline = df.Discipline.str.lower()\n",
        "  df.Event = df.Event.str.lower()\n",
        "  df.NOC = df.NOC.str.upper()\n",
        "  df.Medal = df.Medal.str.capitalize()\n",
        "  df.City = df.City.astype(\"string\")\n",
        "  df.Year = df.Year.astype(int)\n",
        "  df.Sport = df.Sport.astype(\"string\")\n",
        "  df.Discipline = df.Discipline.astype(\"string\")\n",
        "  df[\"Athlete Name\"] = df[\"Athlete Name\"].astype(\"string\")\n",
        "  df.NOC = df.NOC.astype(\"string\")\n",
        "  df.Gender = df.Gender.astype(\"category\")\n",
        "  df.Event = df.Event.astype(\"string\")\n",
        "  df['Event Gender'] = df['Event Gender'].astype(\"category\")\n",
        "  medal_order = [\"Bronze\", \"Silver\", \"Gold\"]\n",
        "  df.Medal = pd.Categorical(df.Medal, categories=medal_order, ordered=True)\n",
        "\n",
        "  return df\n",
        "\n",
        "oo = preprocess()\n",
        "nw = preprocess_2008()\n",
        "up = pd.concat([oo, nw])\n",
        "up.sample(3)"
      ],
      "metadata": {
        "id": "jLYyLD1F-PAT"
      },
      "execution_count": null,
      "outputs": []
    },
    {
      "cell_type": "code",
      "source": [
        "sprints = up[(up.Year == 2008) & ((up.Event == '100m') | (up.Event == '200m'))]\n",
        "sprints"
      ],
      "metadata": {
        "id": "fjqov5kh_FHa"
      },
      "execution_count": null,
      "outputs": []
    },
    {
      "cell_type": "code",
      "source": [
        "sp = sprints.groupby(['NOC', 'Gender', 'Event'])\n",
        "sp"
      ],
      "metadata": {
        "id": "hqdKX_EXAqrY"
      },
      "execution_count": null,
      "outputs": []
    },
    {
      "cell_type": "code",
      "source": [
        "up.groupby(\"Year\")"
      ],
      "metadata": {
        "id": "W95xeY7ZFtYb"
      },
      "execution_count": null,
      "outputs": []
    },
    {
      "cell_type": "code",
      "source": [
        "type(up.groupby('Year'))"
      ],
      "metadata": {
        "id": "xyac4sOnF7xV"
      },
      "execution_count": null,
      "outputs": []
    },
    {
      "cell_type": "code",
      "source": [
        "up.groupby(\"Year\").count()"
      ],
      "metadata": {
        "id": "yACDdzl9Fzr0"
      },
      "execution_count": null,
      "outputs": []
    },
    {
      "cell_type": "code",
      "source": [
        "for group_key, group_value in up.groupby('Year'):\n",
        "    print(group_key)\n",
        "    print(group_value)"
      ],
      "metadata": {
        "id": "NnugdlmPGfuV"
      },
      "execution_count": null,
      "outputs": []
    },
    {
      "cell_type": "code",
      "source": [
        "type(group_value)"
      ],
      "metadata": {
        "id": "PFvFNPieG6fw"
      },
      "execution_count": null,
      "outputs": []
    },
    {
      "cell_type": "code",
      "source": [
        "up.groupby(['Year']).count()"
      ],
      "metadata": {
        "id": "FUZ1XjrC_qMv"
      },
      "execution_count": null,
      "outputs": []
    },
    {
      "cell_type": "code",
      "source": [
        "up.groupby(\"Year\").size()"
      ],
      "metadata": {
        "id": "aXuPTFXeHACE"
      },
      "execution_count": null,
      "outputs": []
    },
    {
      "cell_type": "code",
      "source": [
        "up.groupby(['Year','NOC']).count()"
      ],
      "metadata": {
        "id": "5pqISQ6FIy2Q"
      },
      "execution_count": null,
      "outputs": []
    },
    {
      "cell_type": "code",
      "source": [
        "up.groupby(['Year','NOC'])['Medal'].count()"
      ],
      "metadata": {
        "id": "p5W-QKRzKXK1"
      },
      "execution_count": null,
      "outputs": []
    },
    {
      "cell_type": "code",
      "source": [
        "up.groupby(['Year','NOC']).size()"
      ],
      "metadata": {
        "id": "pJqhHLChIoAA"
      },
      "execution_count": null,
      "outputs": []
    },
    {
      "cell_type": "code",
      "source": [
        "up.groupby(['Year','NOC','Medal']).size()"
      ],
      "metadata": {
        "id": "_o3eF3uEHAFS"
      },
      "execution_count": null,
      "outputs": []
    },
    {
      "cell_type": "code",
      "source": [
        "up.groupby(['NOC'])['Year'].min()"
      ],
      "metadata": {
        "id": "NkPLhcA9KuMu"
      },
      "execution_count": null,
      "outputs": []
    },
    {
      "cell_type": "code",
      "source": [
        "up.groupby(['NOC'])['Year'].max()"
      ],
      "metadata": {
        "id": "N7_2PKh8K79g"
      },
      "execution_count": null,
      "outputs": []
    },
    {
      "cell_type": "code",
      "source": [
        "up.groupby(['NOC'])['Year'].min()"
      ],
      "metadata": {
        "id": "nclk4Xx3cON6"
      },
      "execution_count": null,
      "outputs": []
    },
    {
      "cell_type": "code",
      "source": [
        "up.groupby(['NOC'])['Year'].agg(['min', 'max', 'count'])"
      ],
      "metadata": {
        "id": "2fC52zyTG_-e"
      },
      "execution_count": null,
      "outputs": []
    },
    {
      "cell_type": "markdown",
      "source": [
        "##Reshaping data: Stacking, Unstacking and MultiIndex"
      ],
      "metadata": {
        "id": "G4oDXcOu6cNf"
      }
    },
    {
      "cell_type": "code",
      "source": [
        "!pip install --quiet pandas==2.0.2\n",
        "\n",
        "import pandas as pd\n",
        "from pathlib import Path\n",
        "import matplotlib.pyplot as plt\n",
        "\n",
        "\n",
        "if not Path(\"olympics_1896_2004.csv\").exists():\n",
        "  !wget https://github.com/jonfernandes/pandas_essential/raw/main/olympics_1896_2004.csv\n",
        "if not Path(\"olympics_2008.csv\").exists():\n",
        "  !wget https://github.com/jonfernandes/pandas_essential/raw/main/olympics_2008.csv\n",
        "\n",
        "filename = \"olympics_1896_2004.csv\"\n",
        "print(\"Installed all of the necessary files for this section ...\")"
      ],
      "metadata": {
        "id": "qRfLqK3V6nDb"
      },
      "execution_count": null,
      "outputs": []
    },
    {
      "cell_type": "code",
      "source": [
        "def preprocess(filename = \"olympics_1896_2004.csv\"):\n",
        "  \"\"\"Preparing and transforming dataframe\"\"\"\n",
        "  print(f\"Preprocessing {filename} ...\\n\")\n",
        "  ordered_medals = pd.api.types.CategoricalDtype(categories=[\"Bronze\", \"Silver\", \"Gold\"], ordered=True)\n",
        "  dtype_mapper = {\"Year\": \"int64\",\n",
        "                \"City\": \"string\",\n",
        "                \"Sport\": \"string\",\n",
        "                \"Discipline\": \"string\",\n",
        "                \"Athlete Name\": \"string\",\n",
        "                \"NOC\": \"string\",\n",
        "                \"Gender\": \"category\",\n",
        "                \"Event\": \"string\",\n",
        "                \"Event_gender\": \"category\",\n",
        "                \"Medal\": ordered_medals}\n",
        "  df = pd.read_csv(filename, skiprows=5, dtype=dtype_mapper)\n",
        "  df = df.drop('Position', axis=1)\n",
        "  df[\"Event Gender\"] = df[\"Event Gender\"].astype(\"category\")\n",
        "  df.loc[24676, \"Gender\"] = \"Women\"\n",
        "  df.Sport = df.Sport.str.lower()\n",
        "  df.Discipline = df.Discipline.str.lower()\n",
        "  df.Event = df.Event.str.lower()\n",
        "  df.NOC = df.NOC.str.upper()\n",
        "  return df\n",
        "\n",
        "def preprocess_2008(filename=\"olympics_2008.csv\"):\n",
        "  print(f\"Preprocessing {filename} ...\\n\")\n",
        "  df = pd.read_csv(filename)\n",
        "  df.columns = ['City', 'Year', 'Sport', 'Discipline', 'Athlete Name', 'NOC',\n",
        "       'Gender', 'Event', 'Event Gender', 'Medal', 'Result']\n",
        "  df = df.drop(\"Result\", axis=1)\n",
        "  df.City = df.City.fillna(value=\"Beijing\")\n",
        "  df.Year = df.Year.fillna(value=2008)\n",
        "  df = df.dropna(subset=['Sport', 'Discipline', 'Athlete Name', 'NOC', 'Gender',\n",
        "       'Event', 'Event Gender', 'Medal'], how=\"all\")\n",
        "  df = df.drop_duplicates()\n",
        "  df.Sport = df.Sport.str.lower()\n",
        "  df.Discipline = df.Discipline.str.lower()\n",
        "  df.Event = df.Event.str.lower()\n",
        "  df.NOC = df.NOC.str.upper()\n",
        "  df.Medal = df.Medal.str.capitalize()\n",
        "  df.City = df.City.astype(\"string\")\n",
        "  df.Year = df.Year.astype(int)\n",
        "  df.Sport = df.Sport.astype(\"string\")\n",
        "  df.Discipline = df.Discipline.astype(\"string\")\n",
        "  df[\"Athlete Name\"] = df[\"Athlete Name\"].astype(\"string\")\n",
        "  df.NOC = df.NOC.astype(\"string\")\n",
        "  df.Gender = df.Gender.astype(\"category\")\n",
        "  df.Event = df.Event.astype(\"string\")\n",
        "  df['Event Gender'] = df['Event Gender'].astype(\"category\")\n",
        "  medal_order = [\"Bronze\", \"Silver\", \"Gold\"]\n",
        "  df.Medal = pd.Categorical(df.Medal, categories=medal_order, ordered=True)\n",
        "\n",
        "  return df\n",
        "\n",
        "oo = preprocess()\n",
        "nw = preprocess_2008()\n",
        "up = pd.concat([oo, nw])\n",
        "up.sample(3)"
      ],
      "metadata": {
        "id": "XuhND-Tz6nDb"
      },
      "execution_count": null,
      "outputs": []
    },
    {
      "cell_type": "code",
      "source": [
        "sprints = up[(up.Year == 2008) & ( (up.Event == '100m') | (up.Event == '200m'))]\n",
        "sprints"
      ],
      "metadata": {
        "id": "HPvTlgBv6g1l"
      },
      "execution_count": null,
      "outputs": []
    },
    {
      "cell_type": "code",
      "source": [
        "sp = sprints.groupby(['NOC','Gender','Event']).size()\n",
        "sp"
      ],
      "metadata": {
        "id": "bl6fTsV064ji"
      },
      "execution_count": null,
      "outputs": []
    },
    {
      "cell_type": "code",
      "source": [
        "sp.unstack?"
      ],
      "metadata": {
        "id": "rqB_IGRlS-3t"
      },
      "execution_count": null,
      "outputs": []
    },
    {
      "cell_type": "code",
      "source": [
        "sp.unstack('Gender', fill_value=0)"
      ],
      "metadata": {
        "id": "aOZjOX4c8zig"
      },
      "execution_count": null,
      "outputs": []
    },
    {
      "cell_type": "code",
      "source": [
        "(sp\n",
        " .unstack('Gender', fill_value=0)\n",
        " .unstack('Event', fill_value=0)\n",
        ")"
      ],
      "metadata": {
        "id": "tSipFwZU87rU"
      },
      "execution_count": null,
      "outputs": []
    },
    {
      "cell_type": "code",
      "source": [
        "sp.unstack?"
      ],
      "metadata": {
        "id": "F3OkF_UyQTC5"
      },
      "execution_count": null,
      "outputs": []
    },
    {
      "cell_type": "code",
      "source": [
        "sp.unstack(['Gender', 'Event'], fill_value=0)"
      ],
      "metadata": {
        "id": "zkfX-zpO64do"
      },
      "execution_count": null,
      "outputs": []
    },
    {
      "cell_type": "code",
      "source": [
        "sp = sprints.groupby(['NOC','Gender','Event']).size()\n",
        "sp"
      ],
      "metadata": {
        "id": "sw378hByAh_z"
      },
      "execution_count": null,
      "outputs": []
    },
    {
      "cell_type": "code",
      "source": [
        "sp.unstack(level=1, fill_value=0)"
      ],
      "metadata": {
        "id": "HeayOcw3V8Vg"
      },
      "execution_count": null,
      "outputs": []
    },
    {
      "cell_type": "code",
      "source": [
        "sprints_table = sp.unstack(level=1, fill_value=0).unstack(level=1, fill_value=0)\n",
        "sprints_table"
      ],
      "metadata": {
        "id": "AwUsaAcRWKtN"
      },
      "execution_count": null,
      "outputs": []
    },
    {
      "cell_type": "code",
      "source": [
        "sprints_NOC = sprints_table.stack(\"Gender\")\n",
        "sprints_NOC"
      ],
      "metadata": {
        "id": "9qhYg3pm64PS"
      },
      "execution_count": null,
      "outputs": []
    },
    {
      "cell_type": "code",
      "source": [
        "sprints_NOC.index"
      ],
      "metadata": {
        "id": "BygN_yLAXMM3"
      },
      "execution_count": null,
      "outputs": []
    },
    {
      "cell_type": "code",
      "source": [
        "sprints_NOC.loc[('JAM',   'Men'), :]"
      ],
      "metadata": {
        "id": "J2iY34Vr64Gj"
      },
      "execution_count": null,
      "outputs": []
    },
    {
      "cell_type": "code",
      "source": [
        "sprints_NOC.loc[('JAM',   'Men'), '100m']"
      ],
      "metadata": {
        "id": "EupzuYGO64Bk"
      },
      "execution_count": null,
      "outputs": []
    },
    {
      "cell_type": "code",
      "source": [
        "sprints_NOC.iloc[0, :]"
      ],
      "metadata": {
        "id": "YrJ9kCCdYE_R"
      },
      "execution_count": null,
      "outputs": []
    },
    {
      "cell_type": "code",
      "source": [
        "sprints_NOC.iloc[0, 0]"
      ],
      "metadata": {
        "id": "gxcj_y-qYMHm"
      },
      "execution_count": null,
      "outputs": []
    },
    {
      "cell_type": "code",
      "source": [
        "sprints_NOC.stack?"
      ],
      "metadata": {
        "id": "DkrFQ0XGB5Oj"
      },
      "execution_count": null,
      "outputs": []
    },
    {
      "cell_type": "code",
      "source": [
        "sprints_NOC.unstack?"
      ],
      "metadata": {
        "id": "bwoHmR7aB_Pr"
      },
      "execution_count": null,
      "outputs": []
    },
    {
      "cell_type": "markdown",
      "source": [
        "## Challenge"
      ],
      "metadata": {
        "id": "prwKaxHRupV5"
      }
    },
    {
      "cell_type": "code",
      "source": [
        "!pip install --quiet pandas==2.0.2\n",
        "\n",
        "import pandas as pd\n",
        "from pathlib import Path\n",
        "import matplotlib.pyplot as plt\n",
        "\n",
        "if not Path(\"olympics_1896_2004.csv\").exists():\n",
        "  !wget https://github.com/jonfernandes/pandas_essential/raw/main/olympics_1896_2004.csv\n",
        "if not Path(\"olympics_2008.csv\").exists():\n",
        "  !wget https://github.com/jonfernandes/pandas_essential/raw/main/olympics_2008.csv\n",
        "\n",
        "filename = \"olympics_1896_2004.csv\"\n",
        "print(\"Installed all of the necessary files for this section ...\")"
      ],
      "metadata": {
        "id": "pUFO5mPbexfs"
      },
      "execution_count": null,
      "outputs": []
    },
    {
      "cell_type": "code",
      "source": [
        "def preprocess(filename = \"olympics_1896_2004.csv\"):\n",
        "  \"\"\"Preparing and transforming dataframe\"\"\"\n",
        "  print(f\"Preprocessing {filename} ...\\n\")\n",
        "  ordered_medals = pd.api.types.CategoricalDtype(categories=[\"Bronze\", \"Silver\", \"Gold\"], ordered=True)\n",
        "  dtype_mapper = {\"Year\": \"int64\",\n",
        "                \"City\": \"string\",\n",
        "                \"Sport\": \"string\",\n",
        "                \"Discipline\": \"string\",\n",
        "                \"Athlete Name\": \"string\",\n",
        "                \"NOC\": \"string\",\n",
        "                \"Gender\": \"category\",\n",
        "                \"Event\": \"string\",\n",
        "                \"Event_gender\": \"category\",\n",
        "                \"Medal\": ordered_medals}\n",
        "  df = pd.read_csv(filename, skiprows=5, dtype=dtype_mapper)\n",
        "  df = df.drop('Position', axis=1)\n",
        "  df[\"Event Gender\"] = df[\"Event Gender\"].astype(\"category\")\n",
        "  df.loc[24676, \"Gender\"] = \"Women\"\n",
        "  df.Sport = df.Sport.str.lower()\n",
        "  df.Discipline = df.Discipline.str.lower()\n",
        "  df.Event = df.Event.str.lower()\n",
        "  df.NOC = df.NOC.str.upper()\n",
        "  return df\n",
        "\n",
        "def preprocess_2008(filename=\"olympics_2008.csv\"):\n",
        "  print(f\"Preprocessing {filename} ...\\n\")\n",
        "  df = pd.read_csv(filename)\n",
        "  df.columns = ['City', 'Year', 'Sport', 'Discipline', 'Athlete Name', 'NOC',\n",
        "       'Gender', 'Event', 'Event Gender', 'Medal', 'Result']\n",
        "  df = df.drop(\"Result\", axis=1)\n",
        "  df.City = df.City.fillna(value=\"Beijing\")\n",
        "  df.Year = df.Year.fillna(value=2008)\n",
        "  df = df.dropna(subset=['Sport', 'Discipline', 'Athlete Name', 'NOC', 'Gender',\n",
        "       'Event', 'Event Gender', 'Medal'], how=\"all\")\n",
        "  df = df.drop_duplicates()\n",
        "  df.Sport = df.Sport.str.lower()\n",
        "  df.Discipline = df.Discipline.str.lower()\n",
        "  df.Event = df.Event.str.lower()\n",
        "  df.NOC = df.NOC.str.upper()\n",
        "  df.Medal = df.Medal.str.capitalize()\n",
        "  df.City = df.City.astype(\"string\")\n",
        "  df.Year = df.Year.astype(int)\n",
        "  df.Sport = df.Sport.astype(\"string\")\n",
        "  df.Discipline = df.Discipline.astype(\"string\")\n",
        "  df[\"Athlete Name\"] = df[\"Athlete Name\"].astype(\"string\")\n",
        "  df.NOC = df.NOC.astype(\"string\")\n",
        "  df.Gender = df.Gender.astype(\"category\")\n",
        "  df.Event = df.Event.astype(\"string\")\n",
        "  df['Event Gender'] = df['Event Gender'].astype(\"category\")\n",
        "  medal_order = [\"Bronze\", \"Silver\", \"Gold\"]\n",
        "  df.Medal = pd.Categorical(df.Medal, categories=medal_order, ordered=True)\n",
        "\n",
        "  return df\n",
        "\n",
        "oo = preprocess()\n",
        "nw = preprocess_2008()\n",
        "up = pd.concat([oo, nw])\n",
        "up.sample(3)"
      ],
      "metadata": {
        "id": "pDC_nItNexfs"
      },
      "execution_count": null,
      "outputs": []
    },
    {
      "cell_type": "markdown",
      "source": [
        "**Using a line graph, plot the number of gold medals won by the USA male and female Olympians throughout the history of the Olympics?\n",
        "Distinguish between the male and female Olympians in the line graph using blue and pink**"
      ],
      "metadata": {
        "id": "r5o55t_3uuwb"
      }
    },
    {
      "cell_type": "code",
      "source": [],
      "metadata": {
        "id": "C_RNt_Ef639H"
      },
      "execution_count": null,
      "outputs": []
    },
    {
      "cell_type": "markdown",
      "source": [
        "**Using a bar chart, plot the 5 Olympians who have won the most gold medals from the dataset (1896 to 2008). When there is a tie, consider the number of silver medals, then bronze medals.**"
      ],
      "metadata": {
        "id": "Tb5t8FCK3hwH"
      }
    },
    {
      "cell_type": "markdown",
      "source": [
        "##Solution"
      ],
      "metadata": {
        "id": "UeJT-eycu6o9"
      }
    },
    {
      "cell_type": "markdown",
      "source": [
        "**Using a line graph, plot the number of gold medals won by the USA male and female Olympians throughout the history of the Olympics?\n",
        "Distinguish between the male and female Olympians in the line graph using blue (male) and pink (female)**"
      ],
      "metadata": {
        "id": "Q9Qf05NHu6o9"
      }
    },
    {
      "cell_type": "code",
      "source": [
        "!pip install --quiet pandas==2.0.2\n",
        "\n",
        "import pandas as pd\n",
        "from pathlib import Path\n",
        "import matplotlib.pyplot as plt\n",
        "\n",
        "if not Path(\"olympics_1896_2004.csv\").exists():\n",
        "  !wget https://github.com/jonfernandes/pandas_essential/raw/main/olympics_1896_2004.csv\n",
        "if not Path(\"olympics_2008.csv\").exists():\n",
        "  !wget https://github.com/jonfernandes/pandas_essential/raw/main/olympics_2008.csv\n",
        "\n",
        "filename = \"olympics_1896_2004.csv\"\n",
        "print(\"Installed all of the necessary files for this section ...\")"
      ],
      "metadata": {
        "id": "dYNEO227vQiv"
      },
      "execution_count": null,
      "outputs": []
    },
    {
      "cell_type": "code",
      "source": [
        "def preprocess(filename = \"olympics_1896_2004.csv\"):\n",
        "  \"\"\"Preparing and transforming dataframe\"\"\"\n",
        "  print(f\"Preprocessing {filename} ...\\n\")\n",
        "  ordered_medals = pd.api.types.CategoricalDtype(categories=[\"Bronze\", \"Silver\", \"Gold\"], ordered=True)\n",
        "  dtype_mapper = {\"Year\": \"int64\",\n",
        "                \"City\": \"string\",\n",
        "                \"Sport\": \"string\",\n",
        "                \"Discipline\": \"string\",\n",
        "                \"Athlete Name\": \"string\",\n",
        "                \"NOC\": \"string\",\n",
        "                \"Gender\": \"category\",\n",
        "                \"Event\": \"string\",\n",
        "                \"Event_gender\": \"category\",\n",
        "                \"Medal\": ordered_medals}\n",
        "  df = pd.read_csv(filename, skiprows=5, dtype=dtype_mapper)\n",
        "  df = df.drop('Position', axis=1)\n",
        "  df[\"Event Gender\"] = df[\"Event Gender\"].astype(\"category\")\n",
        "  df.loc[24676, \"Gender\"] = \"Women\"\n",
        "  df.Sport = df.Sport.str.lower()\n",
        "  df.Discipline = df.Discipline.str.lower()\n",
        "  df.Event = df.Event.str.lower()\n",
        "  df.NOC = df.NOC.str.upper()\n",
        "  return df\n",
        "\n",
        "def preprocess_2008(filename=\"olympics_2008.csv\"):\n",
        "  print(f\"Preprocessing {filename} ...\\n\")\n",
        "  df = pd.read_csv(filename)\n",
        "  df.columns = ['City', 'Year', 'Sport', 'Discipline', 'Athlete Name', 'NOC',\n",
        "       'Gender', 'Event', 'Event Gender', 'Medal', 'Result']\n",
        "  df = df.drop(\"Result\", axis=1)\n",
        "  df.City = df.City.fillna(value=\"Beijing\")\n",
        "  df.Year = df.Year.fillna(value=2008)\n",
        "  df = df.dropna(subset=['Sport', 'Discipline', 'Athlete Name', 'NOC', 'Gender',\n",
        "       'Event', 'Event Gender', 'Medal'], how=\"all\")\n",
        "  df = df.drop_duplicates()\n",
        "  df.Sport = df.Sport.str.lower()\n",
        "  df.Discipline = df.Discipline.str.lower()\n",
        "  df.Event = df.Event.str.lower()\n",
        "  df.NOC = df.NOC.str.upper()\n",
        "  df.Medal = df.Medal.str.capitalize()\n",
        "  df.City = df.City.astype(\"string\")\n",
        "  df.Year = df.Year.astype(int)\n",
        "  df.Sport = df.Sport.astype(\"string\")\n",
        "  df.Discipline = df.Discipline.astype(\"string\")\n",
        "  df[\"Athlete Name\"] = df[\"Athlete Name\"].astype(\"string\")\n",
        "  df.NOC = df.NOC.astype(\"string\")\n",
        "  df.Gender = df.Gender.astype(\"category\")\n",
        "  df.Event = df.Event.astype(\"string\")\n",
        "  df['Event Gender'] = df['Event Gender'].astype(\"category\")\n",
        "  medal_order = [\"Bronze\", \"Silver\", \"Gold\"]\n",
        "  df.Medal = pd.Categorical(df.Medal, categories=medal_order, ordered=True)\n",
        "\n",
        "  return df\n",
        "\n",
        "oo = preprocess()\n",
        "nw = preprocess_2008()\n",
        "up = pd.concat([oo, nw])\n",
        "up.sample(3)"
      ],
      "metadata": {
        "id": "QEVPTHlIvQiw"
      },
      "execution_count": null,
      "outputs": []
    },
    {
      "cell_type": "code",
      "source": [
        "usa_gold = up[(up.NOC == 'USA') & (up.Medal == 'Gold')]\n",
        "usa_gold"
      ],
      "metadata": {
        "id": "MphlXj4BvXNa"
      },
      "execution_count": null,
      "outputs": []
    },
    {
      "cell_type": "code",
      "source": [
        "usa_gold.groupby(['Year', 'Gender']).size()"
      ],
      "metadata": {
        "id": "cC_5dpdrvXKK"
      },
      "execution_count": null,
      "outputs": []
    },
    {
      "cell_type": "code",
      "source": [
        "usa_gold.groupby(['Year', 'Gender']).size().index"
      ],
      "metadata": {
        "id": "O5dFukxku6o-"
      },
      "execution_count": null,
      "outputs": []
    },
    {
      "cell_type": "code",
      "source": [
        "usa_gold.groupby(['Year', 'Gender']).size().plot(kind='line')"
      ],
      "metadata": {
        "id": "0Wz1wAS4z-xZ"
      },
      "execution_count": null,
      "outputs": []
    },
    {
      "cell_type": "code",
      "source": [
        "usa_gold.groupby(['Year', 'Gender']).size()"
      ],
      "metadata": {
        "id": "R_XDcQRT1A07"
      },
      "execution_count": null,
      "outputs": []
    },
    {
      "cell_type": "code",
      "source": [
        "usa_gold.groupby(['Year', 'Gender']).size().unstack('Gender')"
      ],
      "metadata": {
        "id": "v13F5zuIwuFm"
      },
      "execution_count": null,
      "outputs": []
    },
    {
      "cell_type": "code",
      "source": [
        "usa_gold.groupby(['Year', 'Gender']).size().unstack('Gender').plot(kind='line')"
      ],
      "metadata": {
        "id": "Ss-ROTMkwuCk"
      },
      "execution_count": null,
      "outputs": []
    },
    {
      "cell_type": "code",
      "source": [
        "usa_gold.groupby(['Year', 'Gender']).size().unstack('Gender').plot?"
      ],
      "metadata": {
        "id": "epfAeOuIZZhJ"
      },
      "execution_count": null,
      "outputs": []
    },
    {
      "cell_type": "code",
      "source": [
        "pd.Series.plot?"
      ],
      "metadata": {
        "id": "oRbk59AZZr_7"
      },
      "execution_count": null,
      "outputs": []
    },
    {
      "cell_type": "code",
      "source": [
        "usa_gold.groupby(['Year', 'Gender']).size().unstack('Gender').plot(kind='line', color=['blue', 'pink'])"
      ],
      "metadata": {
        "id": "LW0X9ze0wt8Z"
      },
      "execution_count": null,
      "outputs": []
    },
    {
      "cell_type": "code",
      "source": [
        "usa_gold.groupby(['Year', 'Gender']).size().unstack('Gender').plot(kind='line', color=['pink', 'blue'])"
      ],
      "metadata": {
        "id": "rFbw6oa2wt5d"
      },
      "execution_count": null,
      "outputs": []
    },
    {
      "cell_type": "markdown",
      "source": [
        "**Using a bar chart, plot the 5 Olympians who have won the most gold medals from the dataset (1896 to 2008). When there is a tie, consider the number of silver medals, then bronze medals.**"
      ],
      "metadata": {
        "id": "foilIThA354A"
      }
    },
    {
      "cell_type": "code",
      "source": [
        "up.groupby(['Athlete Name','Medal']).size()"
      ],
      "metadata": {
        "id": "NZOK4FC7wt2Y"
      },
      "execution_count": null,
      "outputs": []
    },
    {
      "cell_type": "code",
      "source": [
        "(up.groupby(['Athlete Name','Medal'])\n",
        ".size()\n",
        ".unstack('Medal', fill_value=0)\n",
        ")"
      ],
      "metadata": {
        "id": "WwmJr_heaCJI"
      },
      "execution_count": null,
      "outputs": []
    },
    {
      "cell_type": "code",
      "source": [
        "(up.groupby(['Athlete Name','Medal'])\n",
        ".size()\n",
        ".unstack('Medal', fill_value=0)\n",
        ".sort_values(['Gold', 'Silver', 'Bronze'], ascending=False)\n",
        ")"
      ],
      "metadata": {
        "id": "IwdoRPZtwtzO"
      },
      "execution_count": null,
      "outputs": []
    },
    {
      "cell_type": "code",
      "source": [
        "(up.groupby(['Athlete Name','Medal'])\n",
        ".size()\n",
        ".unstack('Medal', fill_value=0)\n",
        ".sort_values(['Gold', 'Silver', 'Bronze'], ascending=False)[['Gold', 'Silver', 'Bronze']]\n",
        ")"
      ],
      "metadata": {
        "id": "ULPVMVbBwtvx"
      },
      "execution_count": null,
      "outputs": []
    },
    {
      "cell_type": "code",
      "source": [
        "(up.groupby(['Athlete Name','Medal'])\n",
        ".size()\n",
        ".unstack('Medal', fill_value=0)\n",
        ".sort_values(['Gold', 'Silver', 'Bronze'], ascending=False)[['Gold', 'Silver', 'Bronze']]\n",
        ".head(5)\n",
        ")"
      ],
      "metadata": {
        "id": "uDO5cqLa5BOq"
      },
      "execution_count": null,
      "outputs": []
    },
    {
      "cell_type": "code",
      "source": [
        "(up.groupby(['Athlete Name','Medal'])\n",
        ".size()\n",
        ".unstack('Medal', fill_value=0)\n",
        ".sort_values(['Gold', 'Silver', 'Bronze'], ascending=False)[['Gold', 'Silver', 'Bronze']]\n",
        ".head(5)\n",
        ".plot(kind='bar')\n",
        ")"
      ],
      "metadata": {
        "id": "udOauxgS5pl8"
      },
      "execution_count": null,
      "outputs": []
    },
    {
      "cell_type": "markdown",
      "source": [
        "##Creating your own colormaps"
      ],
      "metadata": {
        "id": "w-w5R_xF7431"
      }
    },
    {
      "cell_type": "code",
      "source": [
        "!pip install --quiet pandas==2.0.2\n",
        "\n",
        "import pandas as pd\n",
        "from pathlib import Path\n",
        "import matplotlib.pyplot as plt\n",
        "\n",
        "if not Path(\"olympics_1896_2004.csv\").exists():\n",
        "  !wget https://github.com/jonfernandes/pandas_essential/raw/main/olympics_1896_2004.csv\n",
        "if not Path(\"olympics_2008.csv\").exists():\n",
        "  !wget https://github.com/jonfernandes/pandas_essential/raw/main/olympics_2008.csv\n",
        "\n",
        "filename = \"olympics_1896_2004.csv\"\n",
        "print(\"Installed all of the necessary files for this section ...\")"
      ],
      "metadata": {
        "id": "cHYafmKciN48"
      },
      "execution_count": null,
      "outputs": []
    },
    {
      "cell_type": "code",
      "source": [
        "def preprocess(filename = \"olympics_1896_2004.csv\"):\n",
        "  \"\"\"Preparing and transforming dataframe\"\"\"\n",
        "  print(f\"Preprocessing {filename} ...\\n\")\n",
        "  ordered_medals = pd.api.types.CategoricalDtype(categories=[\"Bronze\", \"Silver\", \"Gold\"], ordered=True)\n",
        "  dtype_mapper = {\"Year\": \"int64\",\n",
        "                \"City\": \"string\",\n",
        "                \"Sport\": \"string\",\n",
        "                \"Discipline\": \"string\",\n",
        "                \"Athlete Name\": \"string\",\n",
        "                \"NOC\": \"string\",\n",
        "                \"Gender\": \"category\",\n",
        "                \"Event\": \"string\",\n",
        "                \"Event_gender\": \"category\",\n",
        "                \"Medal\": ordered_medals}\n",
        "  df = pd.read_csv(filename, skiprows=5, dtype=dtype_mapper)\n",
        "  df = df.drop('Position', axis=1)\n",
        "  df[\"Event Gender\"] = df[\"Event Gender\"].astype(\"category\")\n",
        "  df.loc[24676, \"Gender\"] = \"Women\"\n",
        "  df.Sport = df.Sport.str.lower()\n",
        "  df.Discipline = df.Discipline.str.lower()\n",
        "  df.Event = df.Event.str.lower()\n",
        "  df.NOC = df.NOC.str.upper()\n",
        "  return df\n",
        "\n",
        "def preprocess_2008(filename=\"olympics_2008.csv\"):\n",
        "  print(f\"Preprocessing {filename} ...\\n\")\n",
        "  df = pd.read_csv(filename)\n",
        "  df.columns = ['City', 'Year', 'Sport', 'Discipline', 'Athlete Name', 'NOC',\n",
        "       'Gender', 'Event', 'Event Gender', 'Medal', 'Result']\n",
        "  df = df.drop(\"Result\", axis=1)\n",
        "  df.City = df.City.fillna(value=\"Beijing\")\n",
        "  df.Year = df.Year.fillna(value=2008)\n",
        "  df = df.dropna(subset=['Sport', 'Discipline', 'Athlete Name', 'NOC', 'Gender',\n",
        "       'Event', 'Event Gender', 'Medal'], how=\"all\")\n",
        "  df = df.drop_duplicates()\n",
        "  df.Sport = df.Sport.str.lower()\n",
        "  df.Discipline = df.Discipline.str.lower()\n",
        "  df.Event = df.Event.str.lower()\n",
        "  df.NOC = df.NOC.str.upper()\n",
        "  df.Medal = df.Medal.str.capitalize()\n",
        "  df.City = df.City.astype(\"string\")\n",
        "  df.Year = df.Year.astype(int)\n",
        "  df.Sport = df.Sport.astype(\"string\")\n",
        "  df.Discipline = df.Discipline.astype(\"string\")\n",
        "  df[\"Athlete Name\"] = df[\"Athlete Name\"].astype(\"string\")\n",
        "  df.NOC = df.NOC.astype(\"string\")\n",
        "  df.Gender = df.Gender.astype(\"category\")\n",
        "  df.Event = df.Event.astype(\"string\")\n",
        "  df['Event Gender'] = df['Event Gender'].astype(\"category\")\n",
        "  medal_order = [\"Bronze\", \"Silver\", \"Gold\"]\n",
        "  df.Medal = pd.Categorical(df.Medal, categories=medal_order, ordered=True)\n",
        "\n",
        "  return df\n",
        "\n",
        "oo = preprocess()\n",
        "nw = preprocess_2008()\n",
        "up = pd.concat([oo, nw])\n",
        "up.sample(3)"
      ],
      "metadata": {
        "id": "RdlXjxjGiN49"
      },
      "execution_count": null,
      "outputs": []
    },
    {
      "cell_type": "code",
      "source": [
        "(up.groupby(['Athlete Name','Medal'])\n",
        ".size()\n",
        ".unstack('Medal', fill_value=0)\n",
        ".sort_values(['Gold', 'Silver', 'Bronze'], ascending=False)[['Gold', 'Silver', 'Bronze']]\n",
        ".head(5)\n",
        ".plot(kind='bar')\n",
        ")"
      ],
      "metadata": {
        "id": "mHLjmflh7-nT"
      },
      "execution_count": null,
      "outputs": []
    },
    {
      "cell_type": "code",
      "source": [
        "from matplotlib.colors import ListedColormap"
      ],
      "metadata": {
        "id": "iYeTaMM87-kF"
      },
      "execution_count": null,
      "outputs": []
    },
    {
      "cell_type": "code",
      "source": [
        "ListedColormap?"
      ],
      "metadata": {
        "id": "qFIqIhPH7-gj"
      },
      "execution_count": null,
      "outputs": []
    },
    {
      "cell_type": "code",
      "source": [
        "gold_silver_bronze = ['#dbb40c','#c5c9c7','#a87900']"
      ],
      "metadata": {
        "id": "p0l6tR4z7-dP"
      },
      "execution_count": null,
      "outputs": []
    },
    {
      "cell_type": "code",
      "source": [
        "colormap = ListedColormap(gold_silver_bronze)\n",
        "colormap"
      ],
      "metadata": {
        "id": "AoZBeImP9yWf"
      },
      "execution_count": null,
      "outputs": []
    },
    {
      "cell_type": "code",
      "source": [
        "(up.groupby(['Athlete Name','Medal'])\n",
        ".size()\n",
        ".unstack('Medal', fill_value=0)\n",
        ".sort_values(['Gold', 'Silver', 'Bronze'], ascending=False)[['Gold', 'Silver', 'Bronze']]\n",
        ".head(5)\n",
        ".plot(kind='bar', colormap=colormap)\n",
        ")"
      ],
      "metadata": {
        "id": "D2yNdU-R9ySu"
      },
      "execution_count": null,
      "outputs": []
    },
    {
      "cell_type": "markdown",
      "source": [
        "##Final Challenge"
      ],
      "metadata": {
        "id": "Ffq41qyWCfrk"
      }
    },
    {
      "cell_type": "markdown",
      "source": [
        "For each Olympic year present in the dataset, show the US Olympian (and their sport) who has won the highest number of medals in that particular year.\n",
        "\n",
        "- In the case of a tie, Gold > Silver > Bronze\n",
        "- Include only one Olympian for each Olympic year i.e. If there are 2 Olympians in one year who have won exactly the same number and type of medals, then show only the first one based on sorting the names alphabetically by surname.\n",
        "\n",
        "- You should show the the following columns for each Olympic year:\n",
        "  - Athlete Name\n",
        "  - Sport\n",
        "  - Total\n"
      ],
      "metadata": {
        "id": "zMMgGjqYCsDE"
      }
    },
    {
      "cell_type": "code",
      "source": [
        "!pip install --quiet pandas==2.0.2\n",
        "\n",
        "import pandas as pd\n",
        "from pathlib import Path\n",
        "import matplotlib.pyplot as plt\n",
        "pd.set_option(\"display.width\", 100)\n",
        "\n",
        "if not Path(\"olympics_1896_2004.csv\").exists():\n",
        "  !wget https://github.com/jonfernandes/pandas_essential/raw/main/olympics_1896_2004.csv\n",
        "if not Path(\"olympics_2008.csv\").exists():\n",
        "  !wget https://github.com/jonfernandes/pandas_essential/raw/main/olympics_2008.csv\n",
        "\n",
        "filename = \"olympics_1896_2004.csv\"\n",
        "print(\"Installed all of the necessary files for this section ...\")"
      ],
      "metadata": {
        "id": "oqXcdInNjsca"
      },
      "execution_count": null,
      "outputs": []
    },
    {
      "cell_type": "code",
      "source": [
        "def preprocess(filename = \"olympics_1896_2004.csv\"):\n",
        "  \"\"\"Preparing and transforming dataframe\"\"\"\n",
        "  print(f\"Preprocessing {filename} ...\\n\")\n",
        "  ordered_medals = pd.api.types.CategoricalDtype(categories=[\"Bronze\", \"Silver\", \"Gold\"], ordered=True)\n",
        "  dtype_mapper = {\"Year\": \"int64\",\n",
        "                \"City\": \"string\",\n",
        "                \"Sport\": \"string\",\n",
        "                \"Discipline\": \"string\",\n",
        "                \"Athlete Name\": \"string\",\n",
        "                \"NOC\": \"string\",\n",
        "                \"Gender\": \"category\",\n",
        "                \"Event\": \"string\",\n",
        "                \"Event_gender\": \"category\",\n",
        "                \"Medal\": ordered_medals}\n",
        "  df = pd.read_csv(filename, skiprows=5, dtype=dtype_mapper)\n",
        "  df = df.drop('Position', axis=1)\n",
        "  df[\"Event Gender\"] = df[\"Event Gender\"].astype(\"category\")\n",
        "  df.loc[24676, \"Gender\"] = \"Women\"\n",
        "  df.Sport = df.Sport.str.lower()\n",
        "  df.Discipline = df.Discipline.str.lower()\n",
        "  df.Event = df.Event.str.lower()\n",
        "  df.NOC = df.NOC.str.upper()\n",
        "  return df\n",
        "\n",
        "def preprocess_2008(filename=\"olympics_2008.csv\"):\n",
        "  print(f\"Preprocessing {filename} ...\\n\")\n",
        "  df = pd.read_csv(filename)\n",
        "  df.columns = ['City', 'Year', 'Sport', 'Discipline', 'Athlete Name', 'NOC',\n",
        "       'Gender', 'Event', 'Event Gender', 'Medal', 'Result']\n",
        "  df = df.drop(\"Result\", axis=1)\n",
        "  df.City = df.City.fillna(value=\"Beijing\")\n",
        "  df.Year = df.Year.fillna(value=2008)\n",
        "  df = df.dropna(subset=['Sport', 'Discipline', 'Athlete Name', 'NOC', 'Gender',\n",
        "       'Event', 'Event Gender', 'Medal'], how=\"all\")\n",
        "  df = df.drop_duplicates()\n",
        "  df.Sport = df.Sport.str.lower()\n",
        "  df.Discipline = df.Discipline.str.lower()\n",
        "  df.Event = df.Event.str.lower()\n",
        "  df.NOC = df.NOC.str.upper()\n",
        "  df.Medal = df.Medal.str.capitalize()\n",
        "  df.City = df.City.astype(\"string\")\n",
        "  df.Year = df.Year.astype(int)\n",
        "  df.Sport = df.Sport.astype(\"string\")\n",
        "  df.Discipline = df.Discipline.astype(\"string\")\n",
        "  df[\"Athlete Name\"] = df[\"Athlete Name\"].astype(\"string\")\n",
        "  df.NOC = df.NOC.astype(\"string\")\n",
        "  df.Gender = df.Gender.astype(\"category\")\n",
        "  df.Event = df.Event.astype(\"string\")\n",
        "  df['Event Gender'] = df['Event Gender'].astype(\"category\")\n",
        "  medal_order = [\"Bronze\", \"Silver\", \"Gold\"]\n",
        "  df.Medal = pd.Categorical(df.Medal, categories=medal_order, ordered=True)\n",
        "\n",
        "  return df\n",
        "\n",
        "oo = preprocess()\n",
        "nw = preprocess_2008()\n",
        "up = pd.concat([oo, nw])\n",
        "up.sample(3)"
      ],
      "metadata": {
        "id": "i951MK2ojscb"
      },
      "execution_count": null,
      "outputs": []
    },
    {
      "cell_type": "code",
      "source": [],
      "metadata": {
        "id": "NGHBR0r1eqig"
      },
      "execution_count": null,
      "outputs": []
    },
    {
      "cell_type": "markdown",
      "source": [
        "##Solution"
      ],
      "metadata": {
        "id": "y4e4PWcferLR"
      }
    },
    {
      "cell_type": "markdown",
      "source": [
        "For each Olympic year present in the dataset, show the US Olympian (and their sport) who has won the highest number of medals in that particular year.\n",
        "\n",
        "- In the case of a tie, Gold > Silver > Bronze\n",
        "- Include only one Olympian for each Olympic year i.e. If there are 2 Olympians in one year who have won exactly the same number and type of medals, then show only the first one based on sorting the names alphabetically by surname.\n",
        "\n",
        "- You should show the the following columns for each Olympic year:\n",
        "  - Athlete Name\n",
        "  - Sport\n",
        "  - Total\n"
      ],
      "metadata": {
        "id": "yZMmxFA3ezMd"
      }
    },
    {
      "cell_type": "code",
      "source": [
        "!pip install --quiet pandas==2.0.2\n",
        "\n",
        "import pandas as pd\n",
        "from pathlib import Path\n",
        "import matplotlib.pyplot as plt\n",
        "pd.set_option(\"display.width\", 100)\n",
        "\n",
        "if not Path(\"olympics_1896_2004.csv\").exists():\n",
        "  !wget https://github.com/jonfernandes/pandas_essential/raw/main/olympics_1896_2004.csv\n",
        "if not Path(\"olympics_2008.csv\").exists():\n",
        "  !wget https://github.com/jonfernandes/pandas_essential/raw/main/olympics_2008.csv\n",
        "\n",
        "filename = \"olympics_1896_2004.csv\"\n",
        "print(\"Installed all of the necessary files for this section ...\")"
      ],
      "metadata": {
        "id": "MbU6X-CxeojY"
      },
      "execution_count": null,
      "outputs": []
    },
    {
      "cell_type": "code",
      "source": [
        "def preprocess(filename = \"olympics_1896_2004.csv\"):\n",
        "  \"\"\"Preparing and transforming dataframe\"\"\"\n",
        "  print(f\"Preprocessing {filename} ...\\n\")\n",
        "  ordered_medals = pd.api.types.CategoricalDtype(categories=[\"Bronze\", \"Silver\", \"Gold\"], ordered=True)\n",
        "  dtype_mapper = {\"Year\": \"int64\",\n",
        "                \"City\": \"string\",\n",
        "                \"Sport\": \"string\",\n",
        "                \"Discipline\": \"string\",\n",
        "                \"Athlete Name\": \"string\",\n",
        "                \"NOC\": \"string\",\n",
        "                \"Gender\": \"category\",\n",
        "                \"Event\": \"string\",\n",
        "                \"Event_gender\": \"category\",\n",
        "                \"Medal\": ordered_medals}\n",
        "  df = pd.read_csv(filename, skiprows=5, dtype=dtype_mapper)\n",
        "  df = df.drop('Position', axis=1)\n",
        "  df[\"Event Gender\"] = df[\"Event Gender\"].astype(\"category\")\n",
        "  df.loc[24676, \"Gender\"] = \"Women\"\n",
        "  df.Sport = df.Sport.str.lower()\n",
        "  df.Discipline = df.Discipline.str.lower()\n",
        "  df.Event = df.Event.str.lower()\n",
        "  df.NOC = df.NOC.str.upper()\n",
        "  return df\n",
        "\n",
        "def preprocess_2008(filename=\"olympics_2008.csv\"):\n",
        "  print(f\"Preprocessing {filename} ...\\n\")\n",
        "  df = pd.read_csv(filename)\n",
        "  df.columns = ['City', 'Year', 'Sport', 'Discipline', 'Athlete Name', 'NOC',\n",
        "       'Gender', 'Event', 'Event Gender', 'Medal', 'Result']\n",
        "  df = df.drop(\"Result\", axis=1)\n",
        "  df.City = df.City.fillna(value=\"Beijing\")\n",
        "  df.Year = df.Year.fillna(value=2008)\n",
        "  df = df.dropna(subset=['Sport', 'Discipline', 'Athlete Name', 'NOC', 'Gender',\n",
        "       'Event', 'Event Gender', 'Medal'], how=\"all\")\n",
        "  df = df.drop_duplicates()\n",
        "  df.Sport = df.Sport.str.lower()\n",
        "  df.Discipline = df.Discipline.str.lower()\n",
        "  df.Event = df.Event.str.lower()\n",
        "  df.NOC = df.NOC.str.upper()\n",
        "  df.Medal = df.Medal.str.capitalize()\n",
        "  df.City = df.City.astype(\"string\")\n",
        "  df.Year = df.Year.astype(int)\n",
        "  df.Sport = df.Sport.astype(\"string\")\n",
        "  df.Discipline = df.Discipline.astype(\"string\")\n",
        "  df[\"Athlete Name\"] = df[\"Athlete Name\"].astype(\"string\")\n",
        "  df.NOC = df.NOC.astype(\"string\")\n",
        "  df.Gender = df.Gender.astype(\"category\")\n",
        "  df.Event = df.Event.astype(\"string\")\n",
        "  df['Event Gender'] = df['Event Gender'].astype(\"category\")\n",
        "  medal_order = [\"Bronze\", \"Silver\", \"Gold\"]\n",
        "  df.Medal = pd.Categorical(df.Medal, categories=medal_order, ordered=True)\n",
        "\n",
        "  return df\n",
        "\n",
        "oo = preprocess()\n",
        "nw = preprocess_2008()\n",
        "up = pd.concat([oo, nw])\n",
        "up.sample(3)"
      ],
      "metadata": {
        "id": "By6xUA93eojY"
      },
      "execution_count": null,
      "outputs": []
    },
    {
      "cell_type": "code",
      "source": [
        "usa_olympian = up[up.NOC == 'USA']\n",
        "usa_olympian"
      ],
      "metadata": {
        "id": "OLZlVtDn9yO8"
      },
      "execution_count": null,
      "outputs": []
    },
    {
      "cell_type": "code",
      "source": [
        "usa_olympian.groupby(['Year', 'Athlete Name', 'Medal', 'Sport']).size()"
      ],
      "metadata": {
        "id": "hEh9oP6mDGWG"
      },
      "execution_count": null,
      "outputs": []
    },
    {
      "cell_type": "code",
      "source": [
        "(usa_olympian.groupby(['Year', 'Athlete Name', 'Medal', 'Sport'])\n",
        ".size()\n",
        ".unstack('Medal', fill_value=0)\n",
        ")"
      ],
      "metadata": {
        "id": "xUZBqPx6DGSj"
      },
      "execution_count": null,
      "outputs": []
    },
    {
      "cell_type": "code",
      "source": [
        "table = (usa_olympian.groupby(['Year', 'Athlete Name', 'Sport', 'Medal'])\n",
        ".size()\n",
        ".unstack('Medal', fill_value=0)\n",
        ")\n",
        "table"
      ],
      "metadata": {
        "id": "GxD7zqJ0DGO-"
      },
      "execution_count": null,
      "outputs": []
    },
    {
      "cell_type": "code",
      "source": [
        "table = (usa_olympian.groupby(['Year', 'Athlete Name', 'Sport', 'Medal'])\n",
        ".size()\n",
        ".unstack('Medal', fill_value=0)\n",
        ".assign(Total=table['Gold']+table['Silver']+table['Bronze'])\n",
        ")\n",
        "table"
      ],
      "metadata": {
        "id": "QvazfNN4fYC4"
      },
      "execution_count": null,
      "outputs": []
    },
    {
      "cell_type": "code",
      "source": [
        "table = (usa_olympian.groupby(['Year', 'Athlete Name', 'Sport', 'Medal'])\n",
        ".size()\n",
        ".unstack('Medal', fill_value=0)\n",
        ".assign(Total=table['Gold']+table['Silver']+table['Bronze'])\n",
        ".reset_index()\n",
        ")\n",
        "table"
      ],
      "metadata": {
        "id": "0NDJfhOEDGE_"
      },
      "execution_count": null,
      "outputs": []
    },
    {
      "cell_type": "code",
      "source": [
        "for year, group in table.groupby('Year'):\n",
        "  print(group)"
      ],
      "metadata": {
        "id": "ngE9HmQGDGBc"
      },
      "execution_count": null,
      "outputs": []
    },
    {
      "cell_type": "code",
      "source": [
        "for year, group in table.groupby('Year'):\n",
        "  print(group.sort_values('Total', ascending=False))"
      ],
      "metadata": {
        "id": "mlgTuzU3DF9-"
      },
      "execution_count": null,
      "outputs": []
    },
    {
      "cell_type": "code",
      "source": [
        "for year, group in table.groupby('Year'):\n",
        "  print(group.sort_values(['Total', 'Gold', 'Silver', 'Bronze', 'Athlete Name'], ascending=False))"
      ],
      "metadata": {
        "id": "EhbtvlD7DF6d"
      },
      "execution_count": null,
      "outputs": []
    },
    {
      "cell_type": "code",
      "source": [
        "for year, group in table.groupby('Year'):\n",
        "  print(group.sort_values(['Total', 'Gold', 'Silver', 'Bronze', 'Athlete Name'], ascending=False).head(1))"
      ],
      "metadata": {
        "id": "XYplgW07Al82"
      },
      "execution_count": null,
      "outputs": []
    },
    {
      "cell_type": "code",
      "source": [
        "winners = [\n",
        "    group.sort_values(['Total', 'Gold', 'Silver', 'Bronze', 'Athlete Name'], ascending=False).head(1)\n",
        "    for year, group in table.groupby('Year')\n",
        "]\n",
        "winners"
      ],
      "metadata": {
        "id": "NXtd9GEJDFx4"
      },
      "execution_count": null,
      "outputs": []
    },
    {
      "cell_type": "code",
      "source": [
        "winners[0]"
      ],
      "metadata": {
        "id": "07PdUFZew7Ex"
      },
      "execution_count": null,
      "outputs": []
    },
    {
      "cell_type": "code",
      "source": [
        "type(winners[0])"
      ],
      "metadata": {
        "id": "Jps9YCyhw9JR"
      },
      "execution_count": null,
      "outputs": []
    },
    {
      "cell_type": "code",
      "source": [
        "pd.concat(winners)"
      ],
      "metadata": {
        "id": "bHoG_62bDFud"
      },
      "execution_count": null,
      "outputs": []
    },
    {
      "cell_type": "code",
      "source": [
        "pd.concat(winners)[[\"Year\",\t\"Athlete Name\",\t\"Sport\", \"Total\"]]"
      ],
      "metadata": {
        "id": "Qkd4c8LKcOGt"
      },
      "execution_count": null,
      "outputs": []
    },
    {
      "cell_type": "code",
      "source": [
        "pd.concat(winners)[[\"Year\",\t\"Athlete Name\",\t\"Sport\", \"Total\"]].reset_index()"
      ],
      "metadata": {
        "id": "4azCAhsZcOCr"
      },
      "execution_count": null,
      "outputs": []
    },
    {
      "cell_type": "code",
      "source": [
        "pd.concat(winners)[[\"Year\",\t\"Athlete Name\",\t\"Sport\", \"Total\"]].reset_index?"
      ],
      "metadata": {
        "id": "oLalobULcN-l"
      },
      "execution_count": null,
      "outputs": []
    },
    {
      "cell_type": "code",
      "source": [
        "pd.DataFrame.reset_index?"
      ],
      "metadata": {
        "id": "XvlJx_mkcN6b"
      },
      "execution_count": null,
      "outputs": []
    },
    {
      "cell_type": "code",
      "source": [
        "pd.concat(winners)[[\"Year\",\t\"Athlete Name\",\t\"Sport\", \"Total\"]].reset_index(drop=True)"
      ],
      "metadata": {
        "id": "pu1EH5vZcN2i"
      },
      "execution_count": null,
      "outputs": []
    },
    {
      "cell_type": "code",
      "source": [],
      "metadata": {
        "id": "mkGHzL79b0v2"
      },
      "execution_count": null,
      "outputs": []
    },
    {
      "cell_type": "code",
      "source": [
        "#SDG"
      ],
      "metadata": {
        "id": "ysqHxer4b0m2"
      },
      "execution_count": null,
      "outputs": []
    },
    {
      "cell_type": "code",
      "source": [],
      "metadata": {
        "id": "VntgwLJzb0i_"
      },
      "execution_count": null,
      "outputs": []
    },
    {
      "cell_type": "code",
      "source": [],
      "metadata": {
        "id": "O01B55rUb0ec"
      },
      "execution_count": null,
      "outputs": []
    }
  ],
  "metadata": {
    "colab": {
      "collapsed_sections": [
        "nIp_KPjfO4J9",
        "1QP__-BYFIFN",
        "LRcakh4dQzWs",
        "vto6K36OcbBY",
        "Y7NNcfO4xlea",
        "cXD8zRjrB0vc",
        "dVneSuG42rEV",
        "Ckw-4M9hpoa3",
        "W9Nhfv3LkjL0",
        "KoS5odaaWiBi",
        "IEMaZhWNgH8S",
        "PLavnC_tldUv",
        "f6JGaT7avvyR",
        "B66y0jue2DMa",
        "gIiaB-pcEKdf",
        "tW9suZ3CGCpG",
        "fBBqvMS_uhNk",
        "RM1S3nJ0vcXs",
        "SCq05iZiwibC",
        "Z0rYN2NIPxNZ",
        "mFDo3MYfd60y",
        "bU802QvxZOh_",
        "DEyNm2RLoeGd",
        "FematpDlyP3J",
        "emB7XuGpBOPu",
        "Utjd5YTX5ruR",
        "UbtEix9Y-6Uc",
        "L1yiHNB0Ohfm",
        "nC0B3PtWD0H1",
        "BdOwoiXDISBA",
        "kH9DmNEweaVZ",
        "486bDzcSDjs9",
        "Qr68snfKFo33",
        "G4oDXcOu6cNf",
        "prwKaxHRupV5",
        "UeJT-eycu6o9",
        "w-w5R_xF7431",
        "Ffq41qyWCfrk",
        "y4e4PWcferLR"
      ],
      "provenance": [],
      "include_colab_link": true
    },
    "gpuClass": "standard",
    "kernelspec": {
      "display_name": "Python 3",
      "name": "python3"
    },
    "language_info": {
      "name": "python"
    }
  },
  "nbformat": 4,
  "nbformat_minor": 0
}